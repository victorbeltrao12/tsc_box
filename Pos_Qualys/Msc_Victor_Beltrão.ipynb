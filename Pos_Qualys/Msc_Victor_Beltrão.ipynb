{
 "cells": [
  {
   "cell_type": "markdown",
   "metadata": {},
   "source": [
    "### Bibliotecas"
   ]
  },
  {
   "cell_type": "code",
   "execution_count": 2,
   "metadata": {},
   "outputs": [],
   "source": [
    "import pandas as pd\n",
    "import numpy as np\n",
    "import pywt\n",
    "import timeit\n",
    "from datetime import timedelta\n",
    "from tqdm import tqdm\n",
    "\n",
    "from scipy.stats import norm, linregress\n",
    "from scipy.fftpack import fft\n",
    "from scipy import signal\n",
    "\n",
    "from aeon.datasets.tsc_data_lists import univariate_equal_length\n",
    "from aeon.datasets import load_classification\n",
    "from aeon.classification.distance_based import KNeighborsTimeSeriesClassifier\n",
    "from sklearn import svm\n",
    "from sklearn.ensemble import RandomForestClassifier, GradientBoostingClassifier\n",
    "from sklearn.naive_bayes import GaussianNB\n",
    "from sklearn.linear_model import ElasticNet\n",
    "from sklearn.ensemble import RandomForestClassifier\n",
    "from sklearn.linear_model import RidgeClassifierCV\n",
    "\n",
    "import warnings\n",
    "warnings.filterwarnings(\"ignore\")"
   ]
  },
  {
   "cell_type": "code",
   "execution_count": 19,
   "metadata": {},
   "outputs": [
    {
     "name": "stderr",
     "output_type": "stream",
     "text": [
      "Training Base Models: 100%|##########| 14/14 [00:32<00:00,  2.33s/it]\n",
      "Testing Instances: 100%|##########| 391/391 [00:02<00:00, 168.82it/s]\n"
     ]
    },
    {
     "name": "stdout",
     "output_type": "stream",
     "text": [
      "Acurácia do modelo SVM para Adiac: 0.8337595907928389\n",
      "Time runtime (seconds):  0:00:37.228216\n"
     ]
    },
    {
     "name": "stderr",
     "output_type": "stream",
     "text": [
      "Training Base Models: 100%|##########| 14/14 [00:00<00:00, 59.93it/s]\n",
      "Testing Instances: 100%|##########| 30/30 [00:00<00:00, 150.08it/s]\n"
     ]
    },
    {
     "name": "stdout",
     "output_type": "stream",
     "text": [
      "Acurácia do modelo SVM para Beef: 0.9\n",
      "Time runtime (seconds):  0:00:37.744201\n"
     ]
    },
    {
     "name": "stderr",
     "output_type": "stream",
     "text": [
      "Training Base Models: 100%|##########| 14/14 [00:00<00:00, 49.53it/s]\n",
      "Testing Instances: 100%|##########| 60/60 [00:00<00:00, 128.53it/s]\n"
     ]
    },
    {
     "name": "stdout",
     "output_type": "stream",
     "text": [
      "Acurácia do modelo SVM para Car: 0.8166666666666667\n",
      "Time runtime (seconds):  0:00:38.640012\n"
     ]
    },
    {
     "name": "stderr",
     "output_type": "stream",
     "text": [
      "Training Base Models: 100%|##########| 14/14 [00:00<00:00, 834.88it/s]\n",
      "Testing Instances: 100%|##########| 900/900 [00:03<00:00, 284.20it/s]\n"
     ]
    },
    {
     "name": "stdout",
     "output_type": "stream",
     "text": [
      "Acurácia do modelo SVM para CBF: 0.8877777777777778\n",
      "Time runtime (seconds):  0:00:41.943012\n"
     ]
    },
    {
     "name": "stderr",
     "output_type": "stream",
     "text": [
      "Training Base Models: 100%|##########| 14/14 [00:00<00:00, 111.40it/s]\n",
      "Testing Instances: 100%|##########| 28/28 [00:00<00:00, 168.01it/s]\n"
     ]
    },
    {
     "name": "stdout",
     "output_type": "stream",
     "text": [
      "Acurácia do modelo SVM para Coffee: 1.0\n",
      "Time runtime (seconds):  0:00:42.309397\n"
     ]
    },
    {
     "name": "stderr",
     "output_type": "stream",
     "text": [
      "Training Base Models: 100%|##########| 14/14 [00:00<00:00, 370.72it/s]\n",
      "Testing Instances: 100%|##########| 306/306 [00:01<00:00, 178.33it/s]\n"
     ]
    },
    {
     "name": "stdout",
     "output_type": "stream",
     "text": [
      "Acurácia do modelo SVM para DiatomSizeReduction: 0.9771241830065359\n",
      "Time runtime (seconds):  0:00:44.122892\n"
     ]
    },
    {
     "name": "stderr",
     "output_type": "stream",
     "text": [
      "Training Base Models: 100%|##########| 14/14 [00:00<00:00, 30.27it/s]\n",
      "Testing Instances: 100%|##########| 100/100 [00:00<00:00, 315.91it/s]\n"
     ]
    },
    {
     "name": "stdout",
     "output_type": "stream",
     "text": [
      "Acurácia do modelo SVM para ECG200: 0.84\n",
      "Time runtime (seconds):  0:00:45.134061\n"
     ]
    },
    {
     "name": "stderr",
     "output_type": "stream",
     "text": [
      "Training Base Models: 100%|##########| 14/14 [00:00<00:00, 838.56it/s]\n",
      "Testing Instances: 100%|##########| 861/861 [00:03<00:00, 279.63it/s]\n"
     ]
    },
    {
     "name": "stdout",
     "output_type": "stream",
     "text": [
      "Acurácia do modelo SVM para ECGFiveDays: 0.9976771196283392\n",
      "Time runtime (seconds):  0:00:48.303343\n"
     ]
    },
    {
     "name": "stderr",
     "output_type": "stream",
     "text": [
      "Training Base Models: 100%|##########| 14/14 [00:00<00:00, 402.84it/s]\n",
      "Testing Instances: 100%|##########| 88/88 [00:00<00:00, 170.42it/s]\n"
     ]
    },
    {
     "name": "stdout",
     "output_type": "stream",
     "text": [
      "Acurácia do modelo SVM para FaceFour: 0.875\n",
      "Time runtime (seconds):  0:00:48.945147\n"
     ]
    },
    {
     "name": "stderr",
     "output_type": "stream",
     "text": [
      "Training Base Models: 100%|##########| 14/14 [00:00<00:00, 21.70it/s]\n",
      "Testing Instances: 100%|##########| 150/150 [00:00<00:00, 271.76it/s]\n"
     ]
    },
    {
     "name": "stdout",
     "output_type": "stream",
     "text": [
      "Acurácia do modelo SVM para GunPoint: 0.92\n",
      "Time runtime (seconds):  0:00:50.269176\n"
     ]
    },
    {
     "name": "stderr",
     "output_type": "stream",
     "text": [
      "Training Base Models: 100%|##########| 14/14 [00:04<00:00,  3.01it/s]\n",
      "Testing Instances: 100%|##########| 61/61 [00:00<00:00, 122.70it/s]\n"
     ]
    },
    {
     "name": "stdout",
     "output_type": "stream",
     "text": [
      "Acurácia do modelo SVM para Lightning2: 0.6885245901639344\n",
      "Time runtime (seconds):  0:00:55.568443\n"
     ]
    },
    {
     "name": "stderr",
     "output_type": "stream",
     "text": [
      "Training Base Models: 100%|##########| 14/14 [00:00<00:00, 79.90it/s]\n",
      "Testing Instances: 100%|##########| 73/73 [00:00<00:00, 184.57it/s]\n"
     ]
    },
    {
     "name": "stdout",
     "output_type": "stream",
     "text": [
      "Acurácia do modelo SVM para Lightning7: 0.684931506849315\n",
      "Time runtime (seconds):  0:00:56.288423\n"
     ]
    },
    {
     "name": "stderr",
     "output_type": "stream",
     "text": [
      "Training Base Models:  36%|###5      | 5/14 [01:06<01:16,  8.51s/it]"
     ]
    }
   ],
   "source": [
    "dataset_list = ['Adiac', 'Beef', 'Car', 'CBF', 'Coffee', 'DiatomSizeReduction', 'ECG200', 'ECGFiveDays', 'FaceFour',\n",
    "'GunPoint', 'Lightning2', 'Lightning7', 'MedicalImages', 'MoteStrain', 'OliveOil', 'SonyAIBORobotSurface1', 'SyntheticControl', 'Trace', 'TwoPatterns']\n",
    "#SonyAIBORobotSurface2\n",
    "# Para cada conjunto de dados na lista\n",
    "total_time = 0\n",
    "for dataset_name in dataset_list:\n",
    "    # Carregue os dados de treinamento e teste\n",
    "    X_train, y_train = load_classification(dataset_name, extract_path=\"./Temp/\", split=\"TRAIN\")\n",
    "    X_test, y_test = load_classification(dataset_name, extract_path=\"./Temp/\", split=\"test\")\n",
    "    \n",
    "    # Achatando os dados para 2D, pois alguns algoritmos esperam 2D\n",
    "    X_train_flat = X_train.reshape(X_train.shape[0], -1)\n",
    "    X_test_flat = X_test.reshape(X_test.shape[0], -1)\n",
    "    \n",
    "    dataset_accuracies = []\n",
    "    # Para cada algoritmo\n",
    "    \n",
    "    # Treinar o modelo e fazer previsões\n",
    "    start = timeit.default_timer()\n",
    "    trained_base_models, meta_classifier = train_with_meta_classifier(X_train_flat, y_train, base_option='svm', meta_option='svm')\n",
    "    predictions_test_meta = predict_with_meta_classifier(X_test_flat, trained_base_models, meta_classifier)\n",
    "    stop = timeit.default_timer()\n",
    "    total_time += stop - start\n",
    "    real_time = str(timedelta(seconds=total_time))\n",
    "\n",
    "    # Calcular a acurácia e armazená-la\n",
    "    test_accuracy_meta = np.mean(predictions_test_meta == y_test)\n",
    "    dataset_accuracies.append(test_accuracy_meta)\n",
    "\n",
    "\n",
    "    print(f\"Acurácia do modelo SVM para {dataset_name}: {test_accuracy_meta}\")\n",
    "    print('Time runtime (seconds): ', real_time)\n",
    "        \n",
    "np.savetxt(\"Results_1NN_.csv\", dataset_accuracies, delimiter=\",\")"
   ]
  },
  {
   "cell_type": "markdown",
   "metadata": {},
   "source": [
    "### Input e Div do Train/Test com arquivos locais no formato parquet"
   ]
  },
  {
   "cell_type": "code",
   "execution_count": 3,
   "metadata": {},
   "outputs": [],
   "source": [
    "try:\n",
    "    train_data = pd.read_parquet('MSC\\CSV_Dissertação\\Parquet_Dissertacao\\Adiac_TRAIN.parquet')\n",
    "    test_data = pd.read_parquet('MSC\\CSV_Dissertação\\Parquet_Dissertacao\\Adiac_TEST.parquet')\n",
    "except FileNotFoundError:\n",
    "    print(\"Ensure the Parquet files are in the correct path.\")\n",
    "    raise"
   ]
  },
  {
   "cell_type": "code",
   "execution_count": 4,
   "metadata": {},
   "outputs": [],
   "source": [
    "X_train = train_data.drop('target', axis=1).values\n",
    "y_train = train_data['target'].values\n",
    "\n",
    "X_test = test_data.drop('target', axis=1).values\n",
    "y_test = test_data['target'].values"
   ]
  },
  {
   "cell_type": "markdown",
   "metadata": {},
   "source": [
    "### Classe Data Analyzer"
   ]
  },
  {
   "cell_type": "code",
   "execution_count": 18,
   "metadata": {},
   "outputs": [],
   "source": [
    "class DataAnalyzer:\n",
    "    def __init__(self, data):\n",
    "        self.data = data\n",
    "        self.sample_size, self.series_size = data.shape\n",
    "        self.mean = None\n",
    "        self.fft = np.array([])\n",
    "        self.slope = np.array([])\n",
    "        self.intercept = np.array([])\n",
    "        self.detrend = np.array([])\n",
    "        self.adjusted_fft_windowed = np.array([])\n",
    "        self.max = np.array([])\n",
    "        self.min = np.array([])\n",
    "        self.laplace = None\n",
    "        #self.fft_pca = PCA()\n",
    "        #self.adj_fft_pca = PCA()\n",
    "        self.arc = np.array([])\n",
    "        self.elastic_net = np.array([])\n",
    "        #self.pca = PCA()\n",
    "        #self.pca_arc = PCA()\n",
    "        self.classes = None\n",
    "\n",
    "    def get_fft(self):\n",
    "        if self.fft.size == 0:\n",
    "            self.fft = fft(self.data)\n",
    "        return self.fft\n",
    "\n",
    "    def get_mean(self, axis=1):\n",
    "        if self.mean is None:\n",
    "            self.mean = np.mean(self.data, axis=axis)\n",
    "        return self.mean\n",
    "\n",
    "    def get_slope(self):\n",
    "        if self.slope.size == 0:\n",
    "            intercepts = np.zeros(self.sample_size)\n",
    "            slopes = np.zeros(self.sample_size)\n",
    "            rvals = np.zeros(self.sample_size)\n",
    "            pvals = np.zeros(self.sample_size)\n",
    "            stderrs = np.zeros(self.sample_size)\n",
    "            for idx, row in zip(range(self.sample_size), self.data):\n",
    "                s, i, r, p, st = linregress(range(self.series_size), row)\n",
    "                intercepts[idx] = i\n",
    "                slopes[idx] = s\n",
    "                rvals[idx] = r\n",
    "                pvals[idx] = p\n",
    "                stderrs[idx] = st\n",
    "            self.intercept = intercepts\n",
    "            self.slope = slopes\n",
    "            self.rvalues = rvals\n",
    "            self.pvalues = pvals\n",
    "            self.stderrors = stderrs\n",
    "        return self.slope\n",
    "\n",
    "    def get_intercept(self):\n",
    "        if self.intercept.size == 0:\n",
    "            intercepts = np.zeros(self.sample_size)\n",
    "            slopes = np.zeros(self.sample_size)\n",
    "            rvals = np.zeros(self.sample_size)\n",
    "            pvals = np.zeros(self.sample_size)\n",
    "            stderrs = np.zeros(self.sample_size)\n",
    "            for idx, row in zip(range(self.sample_size), self.data):\n",
    "                s, i, r, p, st = linregress(range(self.series_size), row)\n",
    "                intercepts[idx] = i.real  # Apenas a parte real do intercepto\n",
    "                slopes[idx] = s\n",
    "                rvals[idx] = r\n",
    "                pvals[idx] = p\n",
    "                stderrs[idx] = st\n",
    "            self.intercept = intercepts\n",
    "            self.slope = slopes\n",
    "            self.rvalues = rvals\n",
    "            self.pvalues = pvals\n",
    "            self.stderrors = stderrs\n",
    "        return self.intercept\n",
    "\n",
    "    def get_detrend(self):\n",
    "        if self.detrend.size == 0:\n",
    "            linout = self.data - (np.repeat(np.arange(self.series_size), self.sample_size).reshape([self.sample_size, self.series_size]).T \\\n",
    "                                  * self.get_slope()).T - np.repeat(self.get_intercept(), self.series_size).reshape(\n",
    "                [self.series_size, self.sample_size]).T\n",
    "            self.detrend = linout / self.get_mean()[:, None]\n",
    "        return self.detrend\n",
    "\n",
    "    def get_adjusted_fft_windowed(self):\n",
    "        if self.adjusted_fft_windowed.size == 0:\n",
    "            detrended_data = self.get_detrend()\n",
    "            window = signal.windows.blackman(self.series_size)\n",
    "            windowed_data = detrended_data * window\n",
    "            fft_result = fft(windowed_data)\n",
    "            self.adjusted_fft_windowed = np.abs(fft_result)  # Pegando o módulo dos valores complexos\n",
    "        return self.adjusted_fft_windowed\n",
    "\n",
    "    def get_max(self):\n",
    "        if self.max.size == 0:\n",
    "            self.max = np.amax(self.data, axis=1)\n",
    "        return self.max\n",
    "\n",
    "    def get_min(self):\n",
    "        if self.min.size == 0:\n",
    "            self.min = np.amin(self.data, axis=1)\n",
    "        return self.min\n",
    "\n",
    "    def fft_deriv_helper(self, n, sample):\n",
    "        T = int(self.series_size)\n",
    "        fft_idx = lambda sample, k: self.get_fft()[sample, k + int(T / 2)]\n",
    "        return lambda t: sum([(1j * k) ** n * fft_idx(sample, k) * np.exp(1j * k * t).real\n",
    "                              for k in range(-int(T / 2), int(T / 2))])\n",
    "\n",
    "    def get_fft_deriv(self, n):\n",
    "        return lambda t: [self.fft_deriv_helper(n, sample)(t) for sample in range(self.sample_size)]\n",
    "\n",
    "    def laplace_helper(self, sample):\n",
    "        T = int(self.series_size)\n",
    "        fft_idx = lambda sample, k: self.get_fft()[sample, k + int(T / 2)]\n",
    "        laplace_fx = lambda k, s: (np.exp(1j * k * T - s * T) - 1) / (1j * k - s)\n",
    "        return lambda s: sum([fft_idx(sample, k) * laplace_fx(k, s)\n",
    "                              for k in range(-int(T / 2), int(T / 2))]) / (1 - np.exp(-1 * s * T)).real\n",
    "\n",
    "    def get_laplace(self):\n",
    "        if not self.laplace:\n",
    "            self.laplace = lambda s: [self.laplace_helper(sample)(s) for sample in range(self.sample_size)]\n",
    "        return self.laplace\n",
    "\n",
    "    def deriv_laplace(self, n):\n",
    "        F = self.get_laplace()\n",
    "        f = np.array([self.get_fft_deriv(k) for k in range(n)])\n",
    "        C = lambda s: np.array([np.multiply(np.power(s, (n - k - 1)), f[k](0)) for k in range(int(n))])\n",
    "        return lambda s: s ** n * np.array(F(s)) - np.sum(C(s), axis=0)\n",
    "\n",
    "    def get_cwt(self):\n",
    "        if self.cwt.size == 0:\n",
    "            widthnum = 20\n",
    "            self.cwt = np.zeros([self.sample_size, widthnum, 500])\n",
    "            for idx, row in zip(range(self.sample_size), self.data):\n",
    "                self.cwt[idx] = signal.cwt(row, signal.ricker, np.linspace(1, 10, widthnum))\n",
    "        return self.cwt\n",
    "    \n",
    "    def get_fft_pca(self):\n",
    "        if not hasattr(self, 'fft_pca'):\n",
    "            self.fft_pca = PCA()\n",
    "            self.fft_pca.fit(self.get_fft())\n",
    "        return self.fft_pca\n",
    "\n",
    "    def get_adj_fft_pca(self):\n",
    "        if not hasattr(self, 'adj_fft_pca'):\n",
    "            self.adj_fft_pca = PCA()\n",
    "            self.adj_fft_pca.fit(self.get_adjusted_fft_windowed())\n",
    "        return self.adj_fft_pca\n",
    "\n",
    "    def get_arc(self):\n",
    "        if self.arc.size == 0:\n",
    "            self.arc = self.data[:, 1:] - self.data[:, 0:-1]\n",
    "        return self.arc\n",
    "\n",
    "    def get_elastic_net(self):\n",
    "        if self.elastic_net.size == 0:\n",
    "            self.elastic_net = np.zeros(self.sample_size)\n",
    "        el = ElasticNet(alpha=.01, l1_ratio=.25)\n",
    "        for idx, col in zip(range(int(self.sample_size / 10)), self.data):\n",
    "            el.fit(np.arange(self.series_size).reshape(-1, 1), col)\n",
    "            self.elastic_net[idx] = el.coef_[0]\n",
    "        return self.elastic_net\n",
    "\n",
    "    def get_pca(self):\n",
    "        try:\n",
    "            self.pca.get_covariance()\n",
    "        except:\n",
    "            self.pca.fit(self.data)\n",
    "        return self.pca\n",
    "\n",
    "    def get_pca_arc(self):\n",
    "        try:\n",
    "            self.pca_arc.get_covariance()\n",
    "        except:\n",
    "            self.pca_arc.fit(self.get_arc())\n",
    "        return self.pca_arc\n",
    "    \n",
    "    def sax_transform(self, series, w, a):\n",
    "        paa = [series[i:i + w].mean() for i in range(0, len(series), w)]\n",
    "\n",
    "        if np.std(paa) != 0:\n",
    "            paa = (paa - np.mean(paa)) / np.std(paa)\n",
    "        else:\n",
    "            paa = paa - np.mean(paa)\n",
    "\n",
    "        breakpoints = norm.ppf(np.linspace(0, 1, a + 1)[1:-1])\n",
    "        sax_symbols = np.array(range(a))\n",
    "        sax_representation = sax_symbols[np.digitize(paa, breakpoints)]\n",
    "\n",
    "        return sax_representation\n"
   ]
  },
  {
   "cell_type": "markdown",
   "metadata": {},
   "source": [
    "### Função de transformação dos dados."
   ]
  },
  {
   "cell_type": "code",
   "execution_count": 15,
   "metadata": {},
   "outputs": [],
   "source": [
    "def transform_data(X, num_features=20):\n",
    "    analyzer = DataAnalyzer(X)  # Instanciando a classe DataAnalyzer com os dados X\n",
    "    \n",
    "    a = 3\n",
    "    w = int(X.shape[1] / num_features)  # Ajuste do tamanho da janela baseado no número de características desejado\n",
    "    X_sax = np.array([analyzer.sax_transform(row, w, a) for row in X])\n",
    "    X_fft = np.abs(analyzer.get_fft())\n",
    "    coeffs_cA, coeffs_cD = pywt.dwt(X, 'db1', axis=1)\n",
    "    X_dwt = np.hstack((coeffs_cA, coeffs_cD))   \n",
    "    X_paa = np.column_stack([X[:, i:i+2].mean(axis=1) for i in range(0, X.shape[1], 2)])\n",
    "    X_mean = analyzer.get_mean()\n",
    "    X_slope = analyzer.get_slope()\n",
    "    X_intercept = analyzer.get_intercept()     \n",
    "    X_detrend = analyzer.get_detrend()\n",
    "    X_adjusted_fft_windowed = analyzer.get_adjusted_fft_windowed()\n",
    "    X_max = analyzer.get_max()\n",
    "    X_min = analyzer.get_min()\n",
    "    X_arc = analyzer.get_arc()\n",
    "    X_elastic_net = analyzer.get_elastic_net()        \n",
    "    \n",
    "    return {\n",
    "        \"TS\": X,\n",
    "        \"FFT\": X_fft,\n",
    "        \"DWT\": X_dwt,\n",
    "        \"PAA\": X_paa,\n",
    "        \"SAX\": X_sax,\n",
    "        \"mean\": X_mean.reshape(-1,1),\n",
    "        \"slope\": X_slope.reshape(-1,1),\n",
    "        \"intercept\": X_intercept.reshape(-1,1),\n",
    "        \"detrend\": X_detrend,\n",
    "        \"adjusted_fft_windowed\": X_adjusted_fft_windowed,\n",
    "        \"max\": X_max.reshape(-1,1),\n",
    "        \"min\": X_min.reshape(-1,1),\n",
    "        \"arc\": X_arc,\n",
    "        \"elastic_net\": X_elastic_net.reshape(-1,1),\n",
    "    }\n"
   ]
  },
  {
   "cell_type": "markdown",
   "metadata": {},
   "source": [
    "### Seleção do modelo extrator e modelo classificador"
   ]
  },
  {
   "cell_type": "code",
   "execution_count": 11,
   "metadata": {},
   "outputs": [],
   "source": [
    "def select_model(option, random_state):\n",
    "    if option == '1nn':\n",
    "        return KNeighborsTimeSeriesClassifier(distance='euclidean', n_neighbors=1)\n",
    "    elif option == '3nn':\n",
    "        return KNeighborsTimeSeriesClassifier(distance='euclidean', n_neighbors=3)\n",
    "    elif option == 'svm':\n",
    "        return svm.SVC(C=100, gamma=0.01, kernel='linear', probability=True)\n",
    "    elif option == 'gbc':\n",
    "        return GradientBoostingClassifier(n_estimators=100, random_state=random_state)\n",
    "    elif option == 'nb':\n",
    "        return GaussianNB()\n",
    "    elif option == 'rd':\n",
    "        return RidgeClassifierCV(alphas=np.logspace(-3, 3, 10))\n",
    "    else:\n",
    "        return RandomForestClassifier(n_estimators=100,random_state=random_state)"
   ]
  },
  {
   "cell_type": "code",
   "execution_count": 8,
   "metadata": {},
   "outputs": [
    {
     "ename": "NameError",
     "evalue": "name 'train_with_meta_classifier' is not defined",
     "output_type": "error",
     "traceback": [
      "\u001b[1;31m---------------------------------------------------------------------------\u001b[0m",
      "\u001b[1;31mNameError\u001b[0m                                 Traceback (most recent call last)",
      "Cell \u001b[1;32mIn[8], line 19\u001b[0m\n\u001b[0;32m     16\u001b[0m \u001b[38;5;28;01mfor\u001b[39;00m algo \u001b[38;5;129;01min\u001b[39;00m algos:\n\u001b[0;32m     17\u001b[0m     \u001b[38;5;66;03m# Treinar o modelo e fazer previsões\u001b[39;00m\n\u001b[0;32m     18\u001b[0m     start \u001b[38;5;241m=\u001b[39m timeit\u001b[38;5;241m.\u001b[39mdefault_timer()\n\u001b[1;32m---> 19\u001b[0m     trained_base_models, meta_classifier \u001b[38;5;241m=\u001b[39m train_with_meta_classifier(X_train_flat, y_train, base_option\u001b[38;5;241m=\u001b[39m\u001b[38;5;124m'\u001b[39m\u001b[38;5;124msvm\u001b[39m\u001b[38;5;124m'\u001b[39m, meta_option\u001b[38;5;241m=\u001b[39malgo)\n\u001b[0;32m     20\u001b[0m     predictions_test_meta \u001b[38;5;241m=\u001b[39m predict_with_meta_classifier(X_test_flat, trained_base_models, meta_classifier)\n\u001b[0;32m     21\u001b[0m     stop \u001b[38;5;241m=\u001b[39m timeit\u001b[38;5;241m.\u001b[39mdefault_timer()\n",
      "\u001b[1;31mNameError\u001b[0m: name 'train_with_meta_classifier' is not defined"
     ]
    }
   ],
   "source": [
    "algos = ['1nn']\n",
    "\n",
    "# Para cada conjunto de dados na lista\n",
    "total_time = 0\n",
    "for dataset_name in univariate_equal_length:\n",
    "    # Carregue os dados de treinamento e teste\n",
    "    X_train, y_train = load_classification(dataset_name, extract_path=\"./Temp/\", split=\"TRAIN\")\n",
    "    X_test, y_test = load_classification(dataset_name, extract_path=\"./Temp/\", split=\"test\")\n",
    "    \n",
    "    # Achatando os dados para 2D, pois alguns algoritmos esperam 2D\n",
    "    X_train_flat = X_train.reshape(X_train.shape[0], -1)\n",
    "    X_test_flat = X_test.reshape(X_test.shape[0], -1)\n",
    "    \n",
    "    dataset_accuracies = []\n",
    "    # Para cada algoritmo\n",
    "    for algo in algos:\n",
    "        # Treinar o modelo e fazer previsões\n",
    "        start = timeit.default_timer()\n",
    "        trained_base_models, meta_classifier = train_with_meta_classifier(X_train_flat, y_train, base_option='svm', meta_option=algo)\n",
    "        predictions_test_meta = predict_with_meta_classifier(X_test_flat, trained_base_models, meta_classifier)\n",
    "        stop = timeit.default_timer()\n",
    "        total_time += stop - start\n",
    "        real_time = str(timedelta(seconds=total_time))\n",
    "        \n",
    "        # Calcular a acurácia e armazená-la\n",
    "        test_accuracy_meta = np.mean(predictions_test_meta == y_test)\n",
    "        dataset_accuracies.append(test_accuracy_meta)\n",
    "        \n",
    "        \n",
    "        print(f\"Acurácia do modelo {algo} para {dataset_name}: {test_accuracy_meta}\")\n",
    "        print('Time runtime (seconds): ', real_time)\n",
    "        \n",
    "np.savetxt(\"Results_1NN_.csv\", dataset_accuracies, delimiter=\",\")"
   ]
  },
  {
   "cell_type": "markdown",
   "metadata": {},
   "source": [
    "### Treino do modelos extrator e classificador"
   ]
  },
  {
   "cell_type": "code",
   "execution_count": 12,
   "metadata": {},
   "outputs": [],
   "source": [
    "def train_with_meta_classifier(X_train, y_train, base_option='random_forest', meta_option='1nn', random_state=42):\n",
    "    trained_models = {}  # Salvar modelos treinados para cada transformação\n",
    "    \n",
    "    X_train_transformed = transform_data(X_train)  # Transformar todo o conjunto de treino\n",
    "\n",
    "    # Treinar um modelo para cada transformação e salvar no dicionário\n",
    "    for rep, X_trans in tqdm(X_train_transformed.items(), ascii=True, desc=\"Training Base Models\"):\n",
    "        model = select_model(base_option, random_state)\n",
    "        model.fit(X_trans, y_train)\n",
    "        trained_models[rep] = model\n",
    "        \n",
    "    # Preparar dados para o meta-classificador\n",
    "    meta_features = []\n",
    "    for i in range(X_train.shape[0]):\n",
    "        instance_features = []\n",
    "        for rep, model in trained_models.items():\n",
    "            proba = model.predict_proba(X_train_transformed[rep][i].reshape(1, -1))\n",
    "            instance_features.extend(proba.flatten())  # Estender a lista com todas as probabilidades\n",
    "        meta_features.append(instance_features)\n",
    "    \n",
    "    meta_features = np.array(meta_features)\n",
    "    np.savetxt(\"meta-features-train.csv\", meta_features, delimiter=\",\")\n",
    "    \n",
    "    # Treinar o meta-classificador\n",
    "    meta_classifier = select_model(meta_option, random_state)\n",
    "    meta_classifier.fit(meta_features, y_train)\n",
    "    \n",
    "    return trained_models, meta_classifier"
   ]
  },
  {
   "cell_type": "markdown",
   "metadata": {},
   "source": [
    "### Predicao do meta-classificador"
   ]
  },
  {
   "cell_type": "code",
   "execution_count": 13,
   "metadata": {},
   "outputs": [],
   "source": [
    "def predict_with_meta_classifier(X_test, trained_base_models, trained_meta_classifier):\n",
    "    predictions = []\n",
    "    meta_features_test = []  # Inicialize uma lista para armazenar todos os meta-recursos dos dados de teste\n",
    "    \n",
    "    for i in tqdm(range(len(X_test)), ascii=True, desc=\"Testing Instances\"):\n",
    "        x_instance = X_test[i].reshape(1, -1)\n",
    "        x_transformed = transform_data(x_instance)\n",
    "        \n",
    "        instance_features = []\n",
    "        for rep, model in trained_base_models.items():\n",
    "            proba = model.predict_proba(x_transformed[rep][0].reshape(1, -1))  # Ajuste aqui para pegar o primeiro elemento\n",
    "            instance_features.extend(proba.flatten())  # Estender a lista com todas as probabilidades\n",
    "        \n",
    "        meta_feature = np.array(instance_features).reshape(1, -1)\n",
    "        predictions.append(trained_meta_classifier.predict(meta_feature)[0])  # Adicionar a previsão à lista de previsões\n",
    "        \n",
    "        meta_features_test.append(meta_feature.flatten())  # Adicionar meta-recursos da instância atual à lista\n",
    "    \n",
    "    # Converter a lista de meta-recursos dos dados de teste em um array numpy\n",
    "    meta_features_test = np.array(meta_features_test)\n",
    "\n",
    "    # Salvar todos os meta-recursos dos dados de teste em um arquivo CSV\n",
    "    np.savetxt(\"meta-features-test.csv\", meta_features_test, delimiter=\",\")\n",
    "    \n",
    "    return predictions\n"
   ]
  },
  {
   "cell_type": "markdown",
   "metadata": {},
   "source": [
    "### Testando um único modelo - Random Forest como extrator e SVM como meta-classificador"
   ]
  },
  {
   "cell_type": "code",
   "execution_count": null,
   "metadata": {},
   "outputs": [
    {
     "name": "stderr",
     "output_type": "stream",
     "text": [
      "Training Base Models: 100%|##########| 14/14 [00:01<00:00,  7.64it/s]\n",
      "Testing Instances: 100%|##########| 30/30 [00:03<00:00,  8.08it/s]"
     ]
    },
    {
     "name": "stdout",
     "output_type": "stream",
     "text": [
      "Accuracy: 0.7\n"
     ]
    },
    {
     "name": "stderr",
     "output_type": "stream",
     "text": [
      "\n"
     ]
    }
   ],
   "source": [
    "# Treino\n",
    "trained_base_models, meta_classifier = train_with_meta_classifier(X_train, y_train, base_option='random_forest', meta_option='svm', random_state=42)\n",
    "\n",
    "# Teste\n",
    "predictions_test_meta = predict_with_meta_classifier(X_test, trained_base_models, meta_classifier)\n",
    "\n",
    "# Resultado\n",
    "test_accuracy_meta = np.mean(predictions_test_meta == y_test)\n",
    "\n",
    "print(f'Accuracy: {test_accuracy_meta}')"
   ]
  },
  {
   "cell_type": "markdown",
   "metadata": {},
   "source": [
    "### Testando um único modelo - SVM como extrator e meta-classificador"
   ]
  },
  {
   "cell_type": "code",
   "execution_count": null,
   "metadata": {},
   "outputs": [
    {
     "name": "stderr",
     "output_type": "stream",
     "text": [
      "Training Base Models: 100%|##########| 14/14 [00:00<00:00, 72.62it/s]\n",
      "Testing Instances: 100%|##########| 60/60 [00:00<00:00, 120.34it/s]"
     ]
    },
    {
     "name": "stdout",
     "output_type": "stream",
     "text": [
      "Accuracy: 0.8666666666666667\n"
     ]
    },
    {
     "name": "stderr",
     "output_type": "stream",
     "text": [
      "\n"
     ]
    }
   ],
   "source": [
    "# Treino\n",
    "trained_base_models, meta_classifier = train_with_meta_classifier(X_train, y_train, base_option='svm', meta_option='svm', random_state=42)\n",
    "\n",
    "# Teste\n",
    "predictions_test_meta = predict_with_meta_classifier(X_test, trained_base_models, meta_classifier)\n",
    "\n",
    "# Resultado\n",
    "test_accuracy_meta = np.mean(predictions_test_meta == y_test)\n",
    "print(f'Accuracy: {test_accuracy_meta}')"
   ]
  },
  {
   "cell_type": "code",
   "execution_count": null,
   "metadata": {},
   "outputs": [
    {
     "name": "stdout",
     "output_type": "stream",
     "text": [
      "accuracy: 0.8\n"
     ]
    }
   ],
   "source": [
    "#Teste utilizando o classificador KNN\n",
    "caract = np.loadtxt(\"meta-features-train.csv\", delimiter=\",\")\n",
    "val = np.loadtxt(\"meta-features-test.csv\", delimiter=\",\")\n",
    "\n",
    "clf = KNeighborsTimeSeriesClassifier(n_neighbors=1, distance=\"dtw\")\n",
    "clf.fit(caract, y_train)\n",
    "y_hat = clf.predict(val)\n",
    "test_accuracy_meta = np.mean(y_hat == y_test)\n",
    "print(f\"accuracy: {test_accuracy_meta}\")"
   ]
  },
  {
   "cell_type": "code",
   "execution_count": null,
   "metadata": {},
   "outputs": [
    {
     "data": {
      "image/png": "[encoded data removed]",
      "text/plain": [
       "<Figure size 640x480 with 1 Axes>"
      ]
     },
     "metadata": {},
     "output_type": "display_data"
    }
   ],
   "source": [
    "import matplotlib.pyplot as plt\n",
    "\n",
    "# Dados para as duas linhas\n",
    "y1 = caract[2]  # Primeira linha\n",
    "y2 = val[2]  # Segunda linha\n",
    "\n",
    "# Plotando as duas linhas\n",
    "plt.plot(y1, label='Treino')\n",
    "plt.plot(y2, label='Teste')\n",
    "\n",
    "# Adicionando rótulos aos eixos e título ao gráfico\n",
    "plt.xlabel('Eixo X')\n",
    "plt.ylabel('Eixo Y')\n",
    "plt.title('Comparação da classificação dos dados de treino e teste')\n",
    "\n",
    "# Adicionando legenda\n",
    "plt.legend()\n",
    "\n",
    "# Exibindo o gráfico\n",
    "plt.show()\n",
    "\n"
   ]
  },
  {
   "cell_type": "markdown",
   "metadata": {},
   "source": [
    "### Treino em loop de todas as opções de classificadores disponiveis no Select Model."
   ]
  },
  {
   "cell_type": "code",
   "execution_count": null,
   "metadata": {},
   "outputs": [
    {
     "name": "stdout",
     "output_type": "stream",
     "text": [
      "Meta-classificador com modelo extrator 1NN\n"
     ]
    },
    {
     "name": "stderr",
     "output_type": "stream",
     "text": [
      "Training Base Models: 100%|##########| 14/14 [00:00<00:00, 3642.70it/s]\n",
      "Testing Instances: 100%|##########| 391/391 [00:05<00:00, 68.11it/s]\n"
     ]
    },
    {
     "name": "stdout",
     "output_type": "stream",
     "text": [
      "Acurácia do teste usando o meta-classificador com modelo extrator 1nn: 0.6061381074168798\n",
      "-------------------------------\n",
      "Meta-classificador com modelo extrator 3NN\n"
     ]
    },
    {
     "name": "stderr",
     "output_type": "stream",
     "text": [
      "Training Base Models: 100%|##########| 14/14 [00:00<00:00, 884.49it/s]\n",
      "Testing Instances: 100%|##########| 391/391 [00:06<00:00, 62.28it/s]\n"
     ]
    },
    {
     "name": "stdout",
     "output_type": "stream",
     "text": [
      "Acurácia do teste usando o meta-classificador com modelo extrator 3nn: 0.7468030690537084\n",
      "-------------------------------\n",
      "Meta-classificador com modelo extrator SVM\n"
     ]
    },
    {
     "name": "stderr",
     "output_type": "stream",
     "text": [
      "Training Base Models: 100%|##########| 14/14 [00:03<00:00,  4.18it/s]\n",
      "Testing Instances: 100%|##########| 391/391 [00:03<00:00, 106.55it/s]\n"
     ]
    },
    {
     "name": "stdout",
     "output_type": "stream",
     "text": [
      "Acurácia do teste usando o meta-classificador com modelo extrator svm: 0.8081841432225064\n",
      "-------------------------------\n",
      "Meta-classificador com modelo extrator NB\n"
     ]
    },
    {
     "name": "stderr",
     "output_type": "stream",
     "text": [
      "Training Base Models: 100%|##########| 14/14 [00:00<00:00, 195.42it/s]\n",
      "Testing Instances: 100%|##########| 391/391 [00:10<00:00, 36.28it/s]\n"
     ]
    },
    {
     "name": "stdout",
     "output_type": "stream",
     "text": [
      "Acurácia do teste usando o meta-classificador com modelo extrator nb: 0.6828644501278772\n",
      "-------------------------------\n",
      "Meta-classificador com modelo extrator GBC\n"
     ]
    },
    {
     "name": "stderr",
     "output_type": "stream",
     "text": [
      "Training Base Models: 100%|##########| 14/14 [13:01<00:00, 55.82s/it]\n",
      "Testing Instances: 100%|##########| 391/391 [00:11<00:00, 33.14it/s]\n"
     ]
    },
    {
     "name": "stdout",
     "output_type": "stream",
     "text": [
      "Acurácia do teste usando o meta-classificador com modelo extrator gbc: 0.6265984654731458\n",
      "-------------------------------\n",
      "Meta-classificador com modelo extrator RF\n"
     ]
    },
    {
     "name": "stderr",
     "output_type": "stream",
     "text": [
      "Training Base Models: 100%|##########| 14/14 [00:07<00:00,  1.96it/s]\n",
      "Testing Instances: 100%|##########| 391/391 [01:08<00:00,  5.68it/s]\n"
     ]
    },
    {
     "name": "stdout",
     "output_type": "stream",
     "text": [
      "Acurácia do teste usando o meta-classificador com modelo extrator rf: 0.7391304347826086\n",
      "-------------------------------\n",
      "Meta-classificador com modelo extrator RD\n"
     ]
    },
    {
     "name": "stderr",
     "output_type": "stream",
     "text": [
      "Training Base Models: 100%|##########| 14/14 [00:00<00:00, 26.18it/s]"
     ]
    },
    {
     "name": "stdout",
     "output_type": "stream",
     "text": [
      "Ocorreu um erro no teste com o rd: 'RidgeClassifierCV' object has no attribute 'predict_proba'\n",
      "-------------------------------\n"
     ]
    },
    {
     "name": "stderr",
     "output_type": "stream",
     "text": [
      "\n"
     ]
    }
   ],
   "source": [
    "algos = ['1nn', '3nn', 'svm', 'nb', 'gbc', 'rf', 'rd']\n",
    "for algo in algos:\n",
    "    \n",
    "    print(f'Meta-classificador com modelo extrator {algo.upper()}')\n",
    "    \n",
    "    # Training\n",
    "    try:\n",
    "        trained_base_models, meta_classifier = train_with_meta_classifier(X_train, y_train, base_option=algo, meta_option='rd')\n",
    "        # Testing\n",
    "        predictions_test_meta = predict_with_meta_classifier(X_test, trained_base_models, meta_classifier)\n",
    "    \n",
    "        test_accuracy_meta = np.mean(predictions_test_meta == y_test)\n",
    "        print(f'Acurácia do teste usando o meta-classificador com modelo extrator {algo}: {test_accuracy_meta}')\n",
    "    except Exception as e:\n",
    "        print(f\"Ocorreu um erro no teste com o {algo}: {e}\")\n",
    "    print(\"-------------------------------\")"
   ]
  },
  {
   "cell_type": "markdown",
   "metadata": {},
   "source": [
    "### Treino em mega-loop com todos os datasets disponiveis no timeseriesclassification."
   ]
  },
  {
   "cell_type": "code",
   "execution_count": null,
   "metadata": {},
   "outputs": [],
   "source": [
    "algos = ['1nn']\n",
    "\n",
    "# Para cada conjunto de dados na lista\n",
    "total_time = 0\n",
    "for dataset_name in univariate_equal_length:\n",
    "    # Carregue os dados de treinamento e teste\n",
    "    X_train, y_train = load_classification(dataset_name, extract_path=\"./Temp/\", split=\"TRAIN\")\n",
    "    X_test, y_test = load_classification(dataset_name, extract_path=\"./Temp/\", split=\"test\")\n",
    "    \n",
    "    # Achatando os dados para 2D, pois alguns algoritmos esperam 2D\n",
    "    X_train_flat = X_train.reshape(X_train.shape[0], -1)\n",
    "    X_test_flat = X_test.reshape(X_test.shape[0], -1)\n",
    "    \n",
    "    dataset_accuracies = []\n",
    "    # Para cada algoritmo\n",
    "    for algo in algos:\n",
    "        # Treinar o modelo e fazer previsões\n",
    "        start = timeit.default_timer()\n",
    "        trained_base_models, meta_classifier = train_with_meta_classifier(X_train_flat, y_train, base_option='svm', meta_option='rd')\n",
    "        predictions_test_meta = predict_with_meta_classifier(X_test_flat, trained_base_models, meta_classifier)\n",
    "        stop = timeit.default_timer()\n",
    "        total_time += stop - start\n",
    "        real_time = str(timedelta(seconds=total_time))\n",
    "        \n",
    "        # Calcular a acurácia e armazená-la\n",
    "        test_accuracy_meta = np.mean(predictions_test_meta == y_test)\n",
    "        dataset_accuracies.append(test_accuracy_meta)\n",
    "        \n",
    "        \n",
    "        print(f\"Acurácia do modelo {algo} para {dataset_name}: {test_accuracy_meta}\")\n",
    "        print('Time runtime (seconds): ', real_time)\n",
    "        \n",
    "np.savetxt(\"Results_1NN_.csv\", dataset_accuracies, delimiter=\",\")"
   ]
  }
 ],
 "metadata": {
  "kernelspec": {
   "display_name": "AM",
   "language": "python",
   "name": "python3"
  },
  "language_info": {
   "codemirror_mode": {
    "name": "ipython",
    "version": 3
   },
   "file_extension": ".py",
   "mimetype": "text/x-python",
   "name": "python",
   "nbconvert_exporter": "python",
   "pygments_lexer": "ipython3",
   "version": "3.11.7"
  }
 },
 "nbformat": 4,
 "nbformat_minor": 2
}
