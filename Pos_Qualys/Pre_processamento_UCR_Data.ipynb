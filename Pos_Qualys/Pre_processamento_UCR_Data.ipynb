{
  "cells": [
    {
      "cell_type": "code",
      "execution_count": null,
      "metadata": {
        "id": "OPQ2CvQ16qSn"
      },
      "outputs": [],
      "source": [
        "#!pip install aeon\n",
        "#!pip install tsfresh"
      ]
    },
    {
      "cell_type": "code",
      "execution_count": 1,
      "metadata": {
        "id": "mALblC0a6_9B"
      },
      "outputs": [],
      "source": [
        "import pandas as pd\n",
        "import numpy as np\n",
        "import aeon\n",
        "import tsfresh\n",
        "import os\n",
        "import math\n",
        "from sklearn import svm"
      ]
    },
    {
      "cell_type": "code",
      "execution_count": null,
      "metadata": {
        "id": "KNW5CHTs7VbE"
      },
      "outputs": [],
      "source": [
        "from aeon.datasets import load_classification\n",
        "from aeon.datasets.tsc_data_lists import univariate_equal_length, univariate\n",
        "from aeon.classification.distance_based import KNeighborsTimeSeriesClassifier, ElasticEnsemble\n",
        "from sklearn.metrics import accuracy_score"
      ]
    },
    {
      "cell_type": "code",
      "execution_count": null,
      "metadata": {
        "id": "j1sRMGzH8Y3z"
      },
      "outputs": [],
      "source": [
        "univariate_list = list(univariate_equal_length)\n",
        "univariate_list.sort()"
      ]
    },
    {
      "cell_type": "code",
      "execution_count": null,
      "metadata": {
        "id": "xRJH8xsgC7ED"
      },
      "outputs": [],
      "source": [
        "accuracy_data = []\n",
        "for dataset_name in univariate_list:\n",
        "    train, train_labels = load_classification(dataset_name, split='TRAIN')\n",
        "    test, test_labels = load_classification(dataset_name, split='test')\n",
        "\n",
        "    xtrain = train.reshape(train.shape[0], -1)\n",
        "    xtest = test.reshape(test.shape[0], -1)\n",
        "\n",
        "    EE = ElasticEnsemble(proportion_of_param_options=0.5,\n",
        "                          proportion_train_in_param_finding=0.5,\n",
        "                          proportion_train_for_test=0.3,\n",
        "                          n_jobs=-1,\n",
        "                          random_state=42,\n",
        "                          majority_vote=True)\n",
        "\n",
        "    EE.fit(xtrain, train_labels)\n",
        "    y_hat = EE.predict(xtest)\n",
        "    acc = accuracy_score(y_hat, test_labels)\n",
        "\n",
        "    accuracy_data.append({'Dataset Name': dataset_name, 'Accuracy': acc})\n",
        "\n",
        "accuracy_df = pd.DataFrame(accuracy_data)\n"
      ]
    },
    {
      "cell_type": "code",
      "execution_count": null,
      "metadata": {
        "id": "xXGPPjgI3-Wx"
      },
      "outputs": [],
      "source": [
        "accuracy_df.to_parquet('model_acc_1nn_raw.parquet', index=False)"
      ]
    }
  ],
  "metadata": {
    "colab": {
      "provenance": []
    },
    "kernelspec": {
      "display_name": "Python 3",
      "name": "python3"
    },
    "language_info": {
      "codemirror_mode": {
        "name": "ipython",
        "version": 3
      },
      "file_extension": ".py",
      "mimetype": "text/x-python",
      "name": "python",
      "nbconvert_exporter": "python",
      "pygments_lexer": "ipython3",
      "version": "3.11.7"
    }
  },
  "nbformat": 4,
  "nbformat_minor": 0
}
