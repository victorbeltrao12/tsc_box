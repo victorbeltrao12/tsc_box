{
  "cells": [
    {
      "cell_type": "markdown",
      "metadata": {
        "id": "w_wfxopCnp1x"
      },
      "source": [
        "### Bibliotecas"
      ]
    },
    {
      "cell_type": "code",
      "execution_count": 1,
      "metadata": {
        "id": "l1AP99G_oHxu"
      },
      "outputs": [
        {
          "data": {
            "text/plain": [
              "'\\n%pip install aeon\\n%pip install tsfresh\\n%pip install tslearn\\n%pip install tensorflow\\n%pip install keras\\n%pip install pywavelets\\n\\n'"
            ]
          },
          "execution_count": 1,
          "metadata": {},
          "output_type": "execute_result"
        }
      ],
      "source": [
        "\"\"\"\n",
        "%pip install aeon\n",
        "%pip install tsfresh\n",
        "%pip install tslearn\n",
        "%pip install tensorflow\n",
        "%pip install keras\n",
        "%pip install pywavelets\n",
        "\n",
        "\"\"\""
      ]
    },
    {
      "cell_type": "code",
      "execution_count": 2,
      "metadata": {
        "id": "nuvyez8anp1y"
      },
      "outputs": [
        {
          "name": "stderr",
          "output_type": "stream",
          "text": [
            "d:\\Programas\\Anaconda\\envs\\AM\\Lib\\site-packages\\tslearn\\bases\\bases.py:15: UserWarning: h5py not installed, hdf5 features will not be supported.\n",
            "Install h5py to use hdf5 features: http://docs.h5py.org/\n",
            "  warn(h5py_msg)\n"
          ]
        }
      ],
      "source": [
        "import pandas as pd\n",
        "import numpy as np\n",
        "\n",
        "from aeon.datasets import load_classification\n",
        "from aeon.datasets.tsc_data_lists import univariate_equal_length\n",
        "from aeon.classification.interval_based import SupervisedTimeSeriesForest, TimeSeriesForestClassifier\n",
        "\n",
        "#from tsfresh import extract_features, select_features\n",
        "#from tsfresh.feature_extraction import MinimalFCParameters\n",
        "\n",
        "from tslearn.preprocessing import TimeSeriesScalerMeanVariance\n",
        "from tslearn.piecewise import PiecewiseAggregateApproximation, SymbolicAggregateApproximation\n",
        "\n",
        "import pywt\n",
        "from sklearn.model_selection import LeaveOneOut\n",
        "from sklearn.linear_model import RidgeClassifierCV\n",
        "from sklearn.metrics import accuracy_score\n",
        "from sklearn.preprocessing import LabelEncoder\n",
        "from sklearn.ensemble import RandomForestClassifier, ExtraTreesClassifier\n",
        "from scipy.fftpack import fft\n",
        "from numba import jit\n",
        "import timeit\n",
        "from tqdm import tqdm\n",
        "\n",
        "import warnings\n",
        "warnings.filterwarnings(\"ignore\")"
      ]
    },
    {
      "cell_type": "markdown",
      "metadata": {
        "id": "ctG_4yBOnp1z"
      },
      "source": [
        "### Loading data"
      ]
    },
    {
      "cell_type": "code",
      "execution_count": 3,
      "metadata": {
        "id": "imNQaGTDnp10"
      },
      "outputs": [],
      "source": [
        "def load_data(dataset):\n",
        "    # LabelEncoder para labels alvo\n",
        "    le = LabelEncoder()\n",
        "\n",
        "    # Carregar conjunto de dados do repositório UCR\n",
        "    X_train, y_train = load_classification(dataset, split=\"TRAIN\")\n",
        "    X_test, y_test = load_classification(dataset, split=\"test\")\n",
        "\n",
        "    # Formatar o conjunto de dados para 2D\n",
        "    features_train = X_train.reshape(X_train.shape[0], -1)\n",
        "    features_test = X_test.reshape(X_test.shape[0], -1)\n",
        "\n",
        "    # Ajustar e transformar as labels alvo\n",
        "    target_train = le.fit_transform(y_train)\n",
        "    target_test = le.transform(y_test)\n",
        "\n",
        "    return features_train, features_test, target_train, target_test\n"
      ]
    },
    {
      "cell_type": "markdown",
      "metadata": {
        "id": "QuvAtr74np10"
      },
      "source": [
        "### Function transform data"
      ]
    },
    {
      "cell_type": "code",
      "execution_count": 4,
      "metadata": {},
      "outputs": [],
      "source": [
        "def choose_wavelet(X):\n",
        "    min_variance = float('inf')\n",
        "    best_wavelet = None\n",
        "    candidate_wavelets = ['db1', 'db2', 'db3', 'db4', 'db5', 'db6', 'db7', 'db8', 'db9']\n",
        "\n",
        "    for wavelet_type in candidate_wavelets:\n",
        "        _, coeffs_cD = pywt.dwt(X, wavelet_type, axis=1)\n",
        "        total_variance = np.var(coeffs_cD)\n",
        "\n",
        "        if total_variance < min_variance:\n",
        "            min_variance = total_variance\n",
        "            best_wavelet = wavelet_type\n",
        "    return str(best_wavelet)\n",
        "\n",
        "def transform_data_math(X, wavelet):\n",
        "    n_sax_symbols = int(X.shape[1] / 4)\n",
        "    n_paa_segments = int(X.shape[1] / 4)\n",
        "\n",
        "    X_fft = np.abs(fft(X, axis=1))\n",
        "\n",
        "    coeffs_cA, coeffs_cD = pywt.dwt(X, wavelet=wavelet, axis=1, mode='constant')\n",
        "    X_dwt = np.hstack((coeffs_cA, coeffs_cD))\n",
        "\n",
        "    paa = PiecewiseAggregateApproximation(n_segments=n_paa_segments)\n",
        "    X_paa_ = paa.inverse_transform(paa.fit_transform(X))\n",
        "    X_paa = X_paa_.reshape(X_paa_.shape[0], -1)\n",
        "    df_PAA = pd.DataFrame(X_paa)\n",
        "    #df_PAA['id'] = range(len(df_PAA))\n",
        "    \n",
        "    sax = SymbolicAggregateApproximation(n_segments=n_paa_segments, alphabet_size_avg=n_sax_symbols)\n",
        "    X_sax_ = sax.inverse_transform(sax.fit_transform(X))\n",
        "    X_sax = X_sax_.reshape(X_sax_.shape[0], -1)\n",
        "    df_SAX = pd.DataFrame(X_sax)\n",
        "    #df_SAX['id'] = range(len(df_SAX))\n",
        "\n",
        "    data_X = TimeSeriesScalerMeanVariance().fit_transform(X)\n",
        "    data_X.resize(data_X.shape[0], data_X.shape[1])\n",
        "    df_X = pd.DataFrame(data_X)\n",
        "    #df_X['id'] = range(len(df_X))\n",
        "\n",
        "    data_FFT = TimeSeriesScalerMeanVariance().fit_transform(X_fft)\n",
        "    data_FFT.resize(data_FFT.shape[0], data_FFT.shape[1])\n",
        "    df_FFT = pd.DataFrame(data_FFT)\n",
        "    #df_FFT['id'] = range(len(df_FFT))\n",
        "\n",
        "    data_DWT = TimeSeriesScalerMeanVariance().fit_transform(X_dwt)\n",
        "    data_DWT.resize(data_DWT.shape[0], data_DWT.shape[1])\n",
        "    df_DWT = pd.DataFrame(data_DWT)\n",
        "    #df_DWT['id'] = range(len(df_DWT))\n",
        "    \n",
        "    return {'X': df_X, 'FFT': df_FFT, 'DWT': df_DWT, 'PAA': df_PAA, 'SAX': df_SAX}\n",
        "\n",
        "def extract_features_from_data(data):\n",
        "    extracted_features_list = []\n",
        "    for name, df in data.items():\n",
        "        features = extract_features(df, default_fc_parameters=MinimalFCParameters(), disable_progressbar=True, column_id='id')\n",
        "        extracted_features_list.append(features)\n",
        "    return extracted_features_list\n",
        "\n",
        "def select_best_features(extracted_features_dict):\n",
        "    best_features_list = []\n",
        "    for name, features in extracted_features_dict.items():\n",
        "        best_features = select_features(features)\n",
        "        best_features['Method'] = name\n",
        "        best_features_list.append(best_features)\n",
        "    concatenated_df = pd.concat(best_features_list, axis=1)\n",
        "    return concatenated_df.to_numpy() "
      ]
    },
    {
      "cell_type": "markdown",
      "metadata": {
        "id": "AP38ocldnp10"
      },
      "source": [
        "### AmazonForestClassifier"
      ]
    },
    {
      "cell_type": "code",
      "execution_count": 5,
      "metadata": {},
      "outputs": [],
      "source": [
        "class CombinedDecisionForest:\n",
        "    def __init__(self):\n",
        "        self.clf1 = RandomForestClassifier()\n",
        "        self.clf2 = ExtraTreesClassifier()\n",
        "        self.clf3 = SupervisedTimeSeriesForest()\n",
        "        self.clf4 = TimeSeriesForestClassifier()\n",
        "        self.classifiers = [self.clf1, self.clf2, self.clf3, self.clf4]\n",
        "        self.clf_weights = None\n",
        "\n",
        "    def fit(self, X, y):\n",
        "        for clf in self.classifiers:\n",
        "            clf.fit(X, y)\n",
        "\n",
        "        train_preds = [clf.predict(X) for clf in self.classifiers]\n",
        "        accuracies = [accuracy_score(y, preds) for preds in train_preds]\n",
        "\n",
        "        self.clf_weights = np.array(accuracies)\n",
        "        self.clf_weights /= np.sum(self.clf_weights)\n",
        "\n",
        "    def predict_proba(self, X):\n",
        "        probs = [clf.predict_proba(X) for clf in self.classifiers]\n",
        "        combined_probs = np.sum([prob * weight for prob, weight in zip(probs, self.clf_weights)], axis=0)\n",
        "        return combined_probs / np.sum(combined_probs, axis=1, keepdims=True)\n",
        "\n",
        "    def predict(self, X):\n",
        "        proba = self.predict_proba(X)\n",
        "        return np.argmax(proba, axis=1)"
      ]
    },
    {
      "cell_type": "code",
      "execution_count": 6,
      "metadata": {},
      "outputs": [
        {
          "data": {
            "text/plain": [
              "'class CombinedDecisionForest:\\n    def __init__(self):\\n        self.clf1 = RandomForestClassifier()\\n        self.clf2 = ExtraTreesClassifier()\\n        self.clf3 = SupervisedTimeSeriesForest()\\n        self.clf4 = TimeSeriesForestClassifier()\\n        self.clf_weights = None\\n\\n    def fit(self, X, y):\\n        classifiers = [self.clf1, self.clf2, self.clf3, self.clf4]  # Lista de classificadores\\n\\n        for clf in classifiers:\\n            clf.fit(X, y) # Calculando os pesos com base na acurácia\\n        train_preds = [clf.predict(X) for clf in classifiers]\\n        accuracies = [accuracy_score(y, preds) for preds in train_preds]\\n\\n        self.clf_weights = np.array(accuracies) ** 4\\n        self.clf_weights /= np.sum(self.clf_weights) # Normalização dos pesos\\n\\n    def predict_proba(self, X):\\n        classifiers = [self.clf1, self.clf2, self.clf3, self.clf4]  # Lista de classificadores\\n\\n        probs = [clf.predict_proba(X) for clf in classifiers]\\n        combined_probs = np.sum([prob * weight for prob, weight in zip(probs, self.clf_weights)], axis=0)\\n\\n        return combined_probs / np.sum(combined_probs, axis=1, keepdims=True)\\n\\n    def predict(self, X):\\n        proba = self.predict_proba(X)\\n        return np.argmax(proba, axis=1)'"
            ]
          },
          "execution_count": 6,
          "metadata": {},
          "output_type": "execute_result"
        }
      ],
      "source": [
        "\"\"\"class CombinedDecisionForest:\n",
        "    def __init__(self):\n",
        "        self.clf1 = RandomForestClassifier()\n",
        "        self.clf2 = ExtraTreesClassifier()\n",
        "        self.clf3 = SupervisedTimeSeriesForest()\n",
        "        self.clf4 = TimeSeriesForestClassifier()\n",
        "        self.clf_weights = None\n",
        "\n",
        "    def fit(self, X, y):\n",
        "        classifiers = [self.clf1, self.clf2, self.clf3, self.clf4]  # Lista de classificadores\n",
        "\n",
        "        for clf in classifiers:\n",
        "            clf.fit(X, y) # Calculando os pesos com base na acurácia\n",
        "        train_preds = [clf.predict(X) for clf in classifiers]\n",
        "        accuracies = [accuracy_score(y, preds) for preds in train_preds]\n",
        "\n",
        "        self.clf_weights = np.array(accuracies) ** 4\n",
        "        self.clf_weights /= np.sum(self.clf_weights) # Normalização dos pesos\n",
        "\n",
        "    def predict_proba(self, X):\n",
        "        classifiers = [self.clf1, self.clf2, self.clf3, self.clf4]  # Lista de classificadores\n",
        "\n",
        "        probs = [clf.predict_proba(X) for clf in classifiers]\n",
        "        combined_probs = np.sum([prob * weight for prob, weight in zip(probs, self.clf_weights)], axis=0)\n",
        "\n",
        "        return combined_probs / np.sum(combined_probs, axis=1, keepdims=True)\n",
        "\n",
        "    def predict(self, X):\n",
        "        proba = self.predict_proba(X)\n",
        "        return np.argmax(proba, axis=1)\"\"\""
      ]
    },
    {
      "cell_type": "markdown",
      "metadata": {},
      "source": [
        "### Train/Predict"
      ]
    },
    {
      "cell_type": "code",
      "execution_count": 7,
      "metadata": {},
      "outputs": [],
      "source": [
        "def train_classifier(X_train, y_train, wavelet=None):\n",
        "    trained_models = {}  # Salvar modelos treinados para cada transformação\n",
        "    X_train_transformed = transform_data_math(X_train, wavelet=wavelet)  # Transformar todo o conjunto de treino\n",
        "    # Treinar um modelo para cada transformação e salvar no dicionário\n",
        "    for rep, X_trans in X_train_transformed.items():\n",
        "        model = TimeSeriesForestClassifier()\n",
        "        model.fit(X_trans, y_train)\n",
        "        trained_models[rep] = model\n",
        "        \n",
        "    # Preparar dados para o meta-classificador\n",
        "    meta_features = []\n",
        "    for i in range(X_train.shape[0]):\n",
        "        instance_features = []\n",
        "        for rep, model in trained_models.items():\n",
        "            proba = model.predict_proba(np.array(X_train_transformed[rep].iloc[i,:]).reshape(1, -1))\n",
        "            instance_features.extend(proba.flatten())\n",
        "        meta_features.append(instance_features)\n",
        "    \n",
        "    meta_features = np.array(meta_features)\n",
        "    \n",
        "    meta_classifier = CombinedDecisionForest()\n",
        "    meta_classifier.fit(meta_features, y_train)\n",
        "    \n",
        "    return trained_models, meta_classifier\n",
        "\n",
        "def predict_classifier(X_test, trained_base_model, trained_meta_classifier, wavelet=None):\n",
        "    predictions = []\n",
        "    meta_features_test = []\n",
        "\n",
        "    for i in tqdm(range(len(X_test)), ascii=True, colour='green', desc=\"Testing\"):\n",
        "        x_instance = X_test[i].reshape(1, -1)\n",
        "        x_transformed = transform_data_math(x_instance, wavelet=wavelet)\n",
        "\n",
        "        instance_features = []\n",
        "        for rep, X_trans in x_transformed.items():\n",
        "            proba = trained_base_model[rep].predict_proba(X_trans.values.reshape(1, -1))\n",
        "            instance_features.extend(proba.flatten())\n",
        "\n",
        "        meta_feature = np.array(instance_features).reshape(1, -1)\n",
        "        predictions.append(trained_meta_classifier.predict(meta_feature)[0])\n",
        "\n",
        "        meta_features_test.append(meta_feature.flatten())\n",
        "\n",
        "    meta_features_test = np.array(meta_features_test)\n",
        "\n",
        "    return predictions\n"
      ]
    },
    {
      "cell_type": "markdown",
      "metadata": {
        "id": "jk7b562Qnp12"
      },
      "source": [
        "### Validando o modelo"
      ]
    },
    {
      "cell_type": "code",
      "execution_count": 8,
      "metadata": {
        "id": "ZRW1Zzql88iC"
      },
      "outputs": [],
      "source": [
        "dataset_quali_list =  ['ElectricDevices']\n",
        "dataset_full_list = ['PhalangesOutlinesCorrect','CricketZ','MiddlePhalanxOutlineAgeGroup','ECG5000','ShapeletSim','MiddlePhalanxTW','Symbols','EOGHorizontalSignal','Ham','UMD','HouseTwenty','MiddlePhalanxOutlineCorrect','Wafer','DistalPhalanxTW','CricketY','FacesUCR','FiftyWords','Mallat','Strawberry','ProximalPhalanxOutlineAgeGroup','MixedShapesRegularTrain','SmallKitchenAppliances','GunPointOldVersusYoung','Wine','ProximalPhalanxOutlineCorrect','WordSynonyms', 'RefrigerationDevices','Yoga','CinCECGTorso','ChlorineConcentration','ToeSegmentation1','TwoLeadECG','ProximalPhalanxTW','InsectEPGSmallTrain','WormsTwoClass','PowerCons','InsectEPGRegularTrain','GunPointMaleVersusFemale','DistalPhalanxOutlineCorrect','ItalyPowerDemand','InsectWingbeatSound','NonInvasiveFetalECGThorax2','CricketX','Haptics','EOGVerticalSignal','MixedShapesSmallTrain','Meat','SemgHandGenderCh2','ToeSegmentation2','NonInvasiveFetalECGThorax1','FreezerSmallTrain','OSULeaf','BirdChicken','HandOutlines','BeetleFly','ACSF1','DistalPhalanxOutlineAgeGroup','FreezerRegularTrain']\n",
        "problematicos = ['Crop','EthanolLevel','ElectricDevices','FordB','ShapesAll','StarLightCurves','Phoneme', 'Computers','InlineSkate','PigAirwayPressure', 'PigCVP','FordA','MedicalImages','PigArtPressure', 'UWaveGestureLibraryX','UWaveGestureLibraryY', 'UWaveGestureLibraryZ', 'UWaveGestureLibraryAll', 'TwoPatterns']"
      ]
    },
    {
      "cell_type": "code",
      "execution_count": 9,
      "metadata": {},
      "outputs": [],
      "source": [
        "runned = {'Adiac',\n",
        "'Beef',\n",
        "'BeetleFly',\n",
        "'BME',\n",
        "'Car',\n",
        "'CBF',\n",
        "'Coffee',\n",
        "'Computers',\n",
        "'Chinatown',\n",
        "'ChlorineConcentration',\n",
        "'DistalPhalanxOutlineCorrect',\n",
        "'DistalPhalanxTW',\n",
        "'ECG200',\n",
        "'ECG5000',\n",
        "'ECGFiveDays',\n",
        "'EOGHorizontalSignal',\n",
        "'Earthquakes',\n",
        "'EthanolLevel',\n",
        "'FaceFour',\n",
        "'FacesUCR',\n",
        "'GunPoint',\n",
        "'GunPointMaleVersusFemale',\n",
        "'HandOutlines',\n",
        "'Lightning2',\n",
        "'Lightning7',\n",
        "'MedicalImages',\n",
        "'MiddlePhalanxOutlineAgeGroup',\n",
        "'MoteStrain',\n",
        "'NonInvasiveFetalECGThorax1',\n",
        "'NonInvasiveFetalECGThorax2',\n",
        "'OliveOil',\n",
        "'PigAirwayPressure',\n",
        "'PowerCons',\n",
        "'SonyAIBORobotSurface1',\n",
        "'SonyAIBORobotSurface2',\n",
        "'ShapeletSim',\n",
        "'ShapesAll',\n",
        "'SmoothSubspace',\n",
        "'SyntheticControl',\n",
        "'Trace',\n",
        "'TwoPatterns'}"
      ]
    },
    {
      "cell_type": "code",
      "execution_count": 10,
      "metadata": {},
      "outputs": [],
      "source": [
        "selected_data = univariate_equal_length - runned"
      ]
    },
    {
      "cell_type": "code",
      "execution_count": 11,
      "metadata": {},
      "outputs": [
        {
          "name": "stderr",
          "output_type": "stream",
          "text": [
            "Testing: 100%|\u001b[32m##########\u001b[0m| 455/455 [23:44<00:00,  3.13s/it]\n"
          ]
        },
        {
          "name": "stdout",
          "output_type": "stream",
          "text": [
            "Acurácia FiftyWords: 0.7362637362637363\n"
          ]
        },
        {
          "name": "stderr",
          "output_type": "stream",
          "text": [
            "Testing: 100%|\u001b[32m##########\u001b[0m| 205/205 [05:46<00:00,  1.69s/it]\n"
          ]
        },
        {
          "name": "stdout",
          "output_type": "stream",
          "text": [
            "Acurácia ProximalPhalanxOutlineAgeGroup: 0.8439024390243902\n"
          ]
        },
        {
          "name": "stderr",
          "output_type": "stream",
          "text": [
            "Testing: 100%|\u001b[32m##########\u001b[0m| 8236/8236 [7:40:15<00:00,  3.35s/it]  \n"
          ]
        },
        {
          "name": "stdout",
          "output_type": "stream",
          "text": [
            "Acurácia StarLightCurves: 0.9720738222438077\n"
          ]
        },
        {
          "name": "stderr",
          "output_type": "stream",
          "text": [
            "Testing: 100%|\u001b[32m##########\u001b[0m| 2425/2425 [2:17:30<00:00,  3.40s/it]  \n"
          ]
        },
        {
          "name": "stdout",
          "output_type": "stream",
          "text": [
            "Acurácia MixedShapesRegularTrain: 0.9468041237113402\n"
          ]
        },
        {
          "name": "stderr",
          "output_type": "stream",
          "text": [
            "Testing: 100%|\u001b[32m##########\u001b[0m| 20/20 [00:47<00:00,  2.37s/it]\n"
          ]
        },
        {
          "name": "stdout",
          "output_type": "stream",
          "text": [
            "Acurácia BirdChicken: 0.9\n"
          ]
        },
        {
          "name": "stderr",
          "output_type": "stream",
          "text": [
            "Testing: 100%|\u001b[32m##########\u001b[0m| 242/242 [10:33<00:00,  2.62s/it]\n"
          ]
        },
        {
          "name": "stdout",
          "output_type": "stream",
          "text": [
            "Acurácia OSULeaf: 0.7603305785123967\n"
          ]
        },
        {
          "name": "stderr",
          "output_type": "stream",
          "text": [
            "Testing: 100%|\u001b[32m##########\u001b[0m| 249/249 [10:41<00:00,  2.58s/it]\n"
          ]
        },
        {
          "name": "stdout",
          "output_type": "stream",
          "text": [
            "Acurácia InsectEPGRegularTrain: 1.0\n"
          ]
        },
        {
          "name": "stderr",
          "output_type": "stream",
          "text": [
            "Testing: 100%|\u001b[32m##########\u001b[0m| 3000/3000 [2:00:25<00:00,  2.41s/it]  \n"
          ]
        },
        {
          "name": "stdout",
          "output_type": "stream",
          "text": [
            "Acurácia Yoga: 0.868\n"
          ]
        },
        {
          "name": "stderr",
          "output_type": "stream",
          "text": [
            "Testing: 100%|\u001b[32m##########\u001b[0m| 208/208 [17:19<00:00,  5.00s/it]\n"
          ]
        },
        {
          "name": "stdout",
          "output_type": "stream",
          "text": [
            "Acurácia PigCVP: 0.5192307692307693\n"
          ]
        },
        {
          "name": "stderr",
          "output_type": "stream",
          "text": [
            "Testing: 100%|\u001b[32m##########\u001b[0m| 2850/2850 [1:37:44<00:00,  2.06s/it]\n"
          ]
        },
        {
          "name": "stdout",
          "output_type": "stream",
          "text": [
            "Acurácia FreezerRegularTrain: 0.9968421052631579\n"
          ]
        },
        {
          "name": "stderr",
          "output_type": "stream",
          "text": [
            "Testing: 100%|\u001b[32m##########\u001b[0m| 450/450 [29:41<00:00,  3.96s/it]\n"
          ]
        },
        {
          "name": "stdout",
          "output_type": "stream",
          "text": [
            "Acurácia SemgHandMovementCh2: 0.8688888888888889\n"
          ]
        },
        {
          "name": "stderr",
          "output_type": "stream",
          "text": [
            "Testing: 100%|\u001b[32m##########\u001b[0m| 858/858 [22:46<00:00,  1.59s/it]\n"
          ]
        },
        {
          "name": "stdout",
          "output_type": "stream",
          "text": [
            "Acurácia PhalangesOutlinesCorrect: 0.8123543123543123\n"
          ]
        },
        {
          "name": "stderr",
          "output_type": "stream",
          "text": [
            "Testing: 100%|\u001b[32m##########\u001b[0m| 2345/2345 [2:11:14<00:00,  3.36s/it]  \n"
          ]
        },
        {
          "name": "stdout",
          "output_type": "stream",
          "text": [
            "Acurácia Mallat: 0.9347547974413646\n"
          ]
        },
        {
          "name": "stderr",
          "output_type": "stream",
          "text": [
            "Testing: 100%|\u001b[32m##########\u001b[0m| 600/600 [35:46<00:00,  3.58s/it]\n"
          ]
        },
        {
          "name": "stdout",
          "output_type": "stream",
          "text": [
            "Acurácia SemgHandGenderCh2: 0.97\n"
          ]
        },
        {
          "name": "stderr",
          "output_type": "stream",
          "text": [
            "Testing: 100%|\u001b[32m##########\u001b[0m| 105/105 [03:28<00:00,  1.99s/it]\n"
          ]
        },
        {
          "name": "stdout",
          "output_type": "stream",
          "text": [
            "Acurácia Plane: 1.0\n"
          ]
        },
        {
          "name": "stderr",
          "output_type": "stream",
          "text": [
            "Testing: 100%|\u001b[32m##########\u001b[0m| 205/205 [06:01<00:00,  1.76s/it]\n"
          ]
        },
        {
          "name": "stdout",
          "output_type": "stream",
          "text": [
            "Acurácia ProximalPhalanxTW: 0.824390243902439\n"
          ]
        },
        {
          "name": "stderr",
          "output_type": "stream",
          "text": [
            "Testing: 100%|\u001b[32m##########\u001b[0m| 7711/7711 [4:13:03<00:00,  1.97s/it]  \n"
          ]
        },
        {
          "name": "stdout",
          "output_type": "stream",
          "text": [
            "Acurácia ElectricDevices: 0.7014654389832706\n"
          ]
        },
        {
          "name": "stderr",
          "output_type": "stream",
          "text": [
            "Testing: 100%|\u001b[32m##########\u001b[0m| 3582/3582 [2:34:43<00:00,  2.59s/it]  \n"
          ]
        },
        {
          "name": "stdout",
          "output_type": "stream",
          "text": [
            "Acurácia UWaveGestureLibraryY: 0.7219430485762144\n"
          ]
        },
        {
          "name": "stderr",
          "output_type": "stream",
          "text": [
            "Testing: 100%|\u001b[32m##########\u001b[0m| 3582/3582 [2:34:25<00:00,  2.59s/it]  \n"
          ]
        },
        {
          "name": "stdout",
          "output_type": "stream",
          "text": [
            "Acurácia UWaveGestureLibraryX: 0.7830820770519263\n"
          ]
        },
        {
          "name": "stderr",
          "output_type": "stream",
          "text": [
            "Testing: 100%|\u001b[32m##########\u001b[0m| 175/175 [05:48<00:00,  1.99s/it]\n"
          ]
        },
        {
          "name": "stdout",
          "output_type": "stream",
          "text": [
            "Acurácia ArrowHead: 0.7714285714285715\n"
          ]
        },
        {
          "name": "stderr",
          "output_type": "stream",
          "text": [
            "Testing: 100%|\u001b[32m##########\u001b[0m| 139/139 [03:42<00:00,  1.60s/it]\n"
          ]
        },
        {
          "name": "stdout",
          "output_type": "stream",
          "text": [
            "Acurácia DistalPhalanxOutlineAgeGroup: 0.7410071942446043\n"
          ]
        },
        {
          "name": "stderr",
          "output_type": "stream",
          "text": [
            "Testing: 100%|\u001b[32m##########\u001b[0m| 315/315 [09:02<00:00,  1.72s/it]\n"
          ]
        },
        {
          "name": "stdout",
          "output_type": "stream",
          "text": [
            "Acurácia GunPointOldVersusYoung: 0.9936507936507937\n"
          ]
        },
        {
          "name": "stderr",
          "output_type": "stream",
          "text": [
            "Testing: 100%|\u001b[32m##########\u001b[0m| 1896/1896 [2:10:01<00:00,  4.11s/it]  \n"
          ]
        },
        {
          "name": "stdout",
          "output_type": "stream",
          "text": [
            "Acurácia Phoneme: 0.19198312236286919\n"
          ]
        },
        {
          "name": "stderr",
          "output_type": "stream",
          "text": [
            "Testing: 100%|\u001b[32m##########\u001b[0m| 1690/1690 [1:03:38<00:00,  2.26s/it]\n"
          ]
        },
        {
          "name": "stdout",
          "output_type": "stream",
          "text": [
            "Acurácia FaceAll: 0.827810650887574\n"
          ]
        },
        {
          "name": "stderr",
          "output_type": "stream",
          "text": [
            "Testing: 100%|\u001b[32m##########\u001b[0m| 54/54 [01:45<00:00,  1.95s/it]\n"
          ]
        },
        {
          "name": "stdout",
          "output_type": "stream",
          "text": [
            "Acurácia Wine: 0.6481481481481481\n"
          ]
        },
        {
          "name": "stderr",
          "output_type": "stream",
          "text": [
            "Testing: 100%|\u001b[32m##########\u001b[0m| 144/144 [04:16<00:00,  1.78s/it]\n"
          ]
        },
        {
          "name": "stdout",
          "output_type": "stream",
          "text": [
            "Acurácia UMD: 0.875\n"
          ]
        },
        {
          "name": "stderr",
          "output_type": "stream",
          "text": [
            "Testing: 100%|\u001b[32m##########\u001b[0m| 119/119 [07:38<00:00,  3.85s/it]\n"
          ]
        },
        {
          "name": "stdout",
          "output_type": "stream",
          "text": [
            "Acurácia HouseTwenty: 0.907563025210084\n"
          ]
        },
        {
          "name": "stderr",
          "output_type": "stream",
          "text": [
            "Testing: 100%|\u001b[32m##########\u001b[0m| 375/375 [18:30<00:00,  2.96s/it]\n"
          ]
        },
        {
          "name": "stdout",
          "output_type": "stream",
          "text": [
            "Acurácia ScreenType: 0.528\n"
          ]
        },
        {
          "name": "stderr",
          "output_type": "stream",
          "text": [
            "Testing: 100%|\u001b[32m##########\u001b[0m| 77/77 [04:07<00:00,  3.22s/it]\n"
          ]
        },
        {
          "name": "stdout",
          "output_type": "stream",
          "text": [
            "Acurácia Worms: 0.6623376623376623\n"
          ]
        },
        {
          "name": "stderr",
          "output_type": "stream",
          "text": [
            "Testing: 100%|\u001b[32m##########\u001b[0m| 208/208 [17:05<00:00,  4.93s/it]\n"
          ]
        },
        {
          "name": "stdout",
          "output_type": "stream",
          "text": [
            "Acurácia PigArtPressure: 0.7403846153846154\n"
          ]
        },
        {
          "name": "stderr",
          "output_type": "stream",
          "text": [
            "Testing: 100%|\u001b[32m##########\u001b[0m| 291/291 [07:40<00:00,  1.58s/it]\n"
          ]
        },
        {
          "name": "stdout",
          "output_type": "stream",
          "text": [
            "Acurácia ProximalPhalanxOutlineCorrect: 0.865979381443299\n"
          ]
        },
        {
          "name": "stderr",
          "output_type": "stream",
          "text": [
            "Testing: 100%|\u001b[32m##########\u001b[0m| 3582/3582 [2:34:44<00:00,  2.59s/it]  \n"
          ]
        },
        {
          "name": "stdout",
          "output_type": "stream",
          "text": [
            "Acurácia UWaveGestureLibraryZ: 0.7546063651591289\n"
          ]
        },
        {
          "name": "stderr",
          "output_type": "stream",
          "text": [
            "Testing: 100%|\u001b[32m##########\u001b[0m| 375/375 [18:32<00:00,  2.97s/it]\n"
          ]
        },
        {
          "name": "stdout",
          "output_type": "stream",
          "text": [
            "Acurácia RefrigerationDevices: 0.5653333333333334\n"
          ]
        },
        {
          "name": "stderr",
          "output_type": "stream",
          "text": [
            "Testing: 100%|\u001b[32m##########\u001b[0m| 291/291 [07:41<00:00,  1.58s/it]\n"
          ]
        },
        {
          "name": "stdout",
          "output_type": "stream",
          "text": [
            "Acurácia MiddlePhalanxOutlineCorrect: 0.8178694158075601\n"
          ]
        },
        {
          "name": "stderr",
          "output_type": "stream",
          "text": [
            "Testing: 100%|\u001b[32m##########\u001b[0m| 1029/1029 [20:50<00:00,  1.22s/it]\n"
          ]
        },
        {
          "name": "stdout",
          "output_type": "stream",
          "text": [
            "Acurácia ItalyPowerDemand: 0.9533527696793003\n"
          ]
        },
        {
          "name": "stderr",
          "output_type": "stream",
          "text": [
            "Testing: 100%|\u001b[32m##########\u001b[0m| 50/50 [03:50<00:00,  4.61s/it]\n"
          ]
        },
        {
          "name": "stdout",
          "output_type": "stream",
          "text": [
            "Acurácia Rock: 0.9\n"
          ]
        },
        {
          "name": "stderr",
          "output_type": "stream",
          "text": [
            "Testing: 100%|\u001b[32m##########\u001b[0m| 249/249 [10:33<00:00,  2.54s/it]\n"
          ]
        },
        {
          "name": "stdout",
          "output_type": "stream",
          "text": [
            "Acurácia InsectEPGSmallTrain: 1.0\n"
          ]
        },
        {
          "name": "stderr",
          "output_type": "stream",
          "text": [
            "Testing: 100%|\u001b[32m##########\u001b[0m| 2850/2850 [1:36:28<00:00,  2.03s/it]\n"
          ]
        },
        {
          "name": "stdout",
          "output_type": "stream",
          "text": [
            "Acurácia FreezerSmallTrain: 0.9729824561403508\n"
          ]
        },
        {
          "name": "stderr",
          "output_type": "stream",
          "text": [
            "Testing: 100%|\u001b[32m##########\u001b[0m| 625/625 [23:24<00:00,  2.25s/it]\n"
          ]
        },
        {
          "name": "stdout",
          "output_type": "stream",
          "text": [
            "Acurácia SwedishLeaf: 0.9408\n"
          ]
        },
        {
          "name": "stderr",
          "output_type": "stream",
          "text": [
            "Testing: 100%|\u001b[32m##########\u001b[0m| 1380/1380 [1:25:22<00:00,  3.71s/it]\n"
          ]
        },
        {
          "name": "stdout",
          "output_type": "stream",
          "text": [
            "Acurácia CinCECGTorso: 0.9905797101449275\n"
          ]
        },
        {
          "name": "stderr",
          "output_type": "stream",
          "text": [
            "Testing: 100%|\u001b[32m##########\u001b[0m| 638/638 [29:12<00:00,  2.75s/it]\n"
          ]
        },
        {
          "name": "stdout",
          "output_type": "stream",
          "text": [
            "Acurácia WordSynonyms: 0.5532915360501567\n"
          ]
        },
        {
          "name": "stderr",
          "output_type": "stream",
          "text": [
            "Testing: 100%|\u001b[32m##########\u001b[0m| 3582/3582 [3:29:22<00:00,  3.51s/it]  \n"
          ]
        },
        {
          "name": "stdout",
          "output_type": "stream",
          "text": [
            "Acurácia UWaveGestureLibraryAll: 0.954215522054718\n"
          ]
        },
        {
          "name": "stderr",
          "output_type": "stream",
          "text": [
            "Testing: 100%|\u001b[32m##########\u001b[0m| 316/316 [09:11<00:00,  1.75s/it]\n"
          ]
        },
        {
          "name": "stdout",
          "output_type": "stream",
          "text": [
            "Acurácia GunPointAgeSpan: 0.9968354430379747\n"
          ]
        },
        {
          "name": "stderr",
          "output_type": "stream",
          "text": [
            "Testing: 100%|\u001b[32m##########\u001b[0m| 130/130 [04:34<00:00,  2.11s/it]\n"
          ]
        },
        {
          "name": "stdout",
          "output_type": "stream",
          "text": [
            "Acurácia ToeSegmentation2: 0.8615384615384616\n"
          ]
        },
        {
          "name": "stderr",
          "output_type": "stream",
          "text": [
            "Testing: 100%|\u001b[32m##########\u001b[0m| 370/370 [12:29<00:00,  2.02s/it]\n"
          ]
        },
        {
          "name": "stdout",
          "output_type": "stream",
          "text": [
            "Acurácia Strawberry: 0.9567567567567568\n"
          ]
        },
        {
          "name": "stderr",
          "output_type": "stream",
          "text": [
            "Testing: 100%|\u001b[32m##########\u001b[0m| 390/390 [17:02<00:00,  2.62s/it]\n"
          ]
        },
        {
          "name": "stdout",
          "output_type": "stream",
          "text": [
            "Acurácia CricketZ: 0.6641025641025641\n"
          ]
        },
        {
          "name": "stderr",
          "output_type": "stream",
          "text": [
            "Testing: 100%|\u001b[32m##########\u001b[0m| 390/390 [17:05<00:00,  2.63s/it]\n"
          ]
        },
        {
          "name": "stdout",
          "output_type": "stream",
          "text": [
            "Acurácia CricketY: 0.7\n"
          ]
        },
        {
          "name": "stderr",
          "output_type": "stream",
          "text": [
            "Testing: 100%|\u001b[32m##########\u001b[0m| 100/100 [06:29<00:00,  3.89s/it]\n"
          ]
        },
        {
          "name": "stdout",
          "output_type": "stream",
          "text": [
            "Acurácia ACSF1: 0.75\n"
          ]
        },
        {
          "name": "stderr",
          "output_type": "stream",
          "text": [
            "Testing: 100%|\u001b[32m##########\u001b[0m| 6164/6164 [2:58:30<00:00,  1.74s/it]  \n"
          ]
        },
        {
          "name": "stdout",
          "output_type": "stream",
          "text": [
            "Acurácia Wafer: 0.9975665152498377\n"
          ]
        },
        {
          "name": "stderr",
          "output_type": "stream",
          "text": [
            "Testing: 100%|\u001b[32m##########\u001b[0m| 175/175 [07:54<00:00,  2.71s/it]\n"
          ]
        },
        {
          "name": "stdout",
          "output_type": "stream",
          "text": [
            "Acurácia Fish: 0.84\n"
          ]
        },
        {
          "name": "stderr",
          "output_type": "stream",
          "text": [
            "Testing: 100%|\u001b[32m##########\u001b[0m| 308/308 [17:38<00:00,  3.44s/it]\n"
          ]
        },
        {
          "name": "stdout",
          "output_type": "stream",
          "text": [
            "Acurácia Haptics: 0.487012987012987\n"
          ]
        },
        {
          "name": "stderr",
          "output_type": "stream",
          "text": [
            "Testing: 100%|\u001b[32m##########\u001b[0m| 60/60 [02:21<00:00,  2.36s/it]\n"
          ]
        },
        {
          "name": "stdout",
          "output_type": "stream",
          "text": [
            "Acurácia Meat: 0.9166666666666666\n"
          ]
        },
        {
          "name": "stderr",
          "output_type": "stream",
          "text": [
            "Testing: 100%|\u001b[32m##########\u001b[0m| 375/375 [18:17<00:00,  2.93s/it]\n"
          ]
        },
        {
          "name": "stdout",
          "output_type": "stream",
          "text": [
            "Acurácia SmallKitchenAppliances: 0.8186666666666667\n"
          ]
        },
        {
          "name": "stderr",
          "output_type": "stream",
          "text": [
            "Testing: 100%|\u001b[32m##########\u001b[0m| 16800/16800 [9:21:19<00:00,  2.00s/it]  \n"
          ]
        },
        {
          "name": "stdout",
          "output_type": "stream",
          "text": [
            "Acurácia Crop: 0.7372619047619048\n"
          ]
        },
        {
          "name": "stderr",
          "output_type": "stream",
          "text": [
            "Testing: 100%|\u001b[32m##########\u001b[0m| 64/64 [02:36<00:00,  2.45s/it]\n"
          ]
        },
        {
          "name": "stdout",
          "output_type": "stream",
          "text": [
            "Acurácia Herring: 0.59375\n"
          ]
        },
        {
          "name": "stderr",
          "output_type": "stream",
          "text": [
            "Testing: 100%|\u001b[32m##########\u001b[0m| 2425/2425 [2:12:17<00:00,  3.27s/it]  \n"
          ]
        },
        {
          "name": "stdout",
          "output_type": "stream",
          "text": [
            "Acurácia MixedShapesSmallTrain: 0.9014432989690722\n"
          ]
        },
        {
          "name": "stderr",
          "output_type": "stream",
          "text": [
            "Testing: 100%|\u001b[32m##########\u001b[0m| 375/375 [19:23<00:00,  3.10s/it]\n"
          ]
        },
        {
          "name": "stdout",
          "output_type": "stream",
          "text": [
            "Acurácia LargeKitchenAppliances: 0.632\n"
          ]
        },
        {
          "name": "stderr",
          "output_type": "stream",
          "text": [
            "Testing: 100%|\u001b[32m##########\u001b[0m| 810/810 [38:09<00:00,  2.83s/it]\n"
          ]
        },
        {
          "name": "stdout",
          "output_type": "stream",
          "text": [
            "Acurácia FordB: 0.7679012345679013\n"
          ]
        },
        {
          "name": "stderr",
          "output_type": "stream",
          "text": [
            "Testing: 100%|\u001b[32m##########\u001b[0m| 228/228 [08:17<00:00,  2.18s/it]\n"
          ]
        },
        {
          "name": "stdout",
          "output_type": "stream",
          "text": [
            "Acurácia ToeSegmentation1: 0.8464912280701754\n"
          ]
        },
        {
          "name": "stderr",
          "output_type": "stream",
          "text": [
            "Testing: 100%|\u001b[32m##########\u001b[0m| 1320/1320 [59:30<00:00,  2.70s/it] \n"
          ]
        },
        {
          "name": "stdout",
          "output_type": "stream",
          "text": [
            "Acurácia FordA: 0.9477272727272728\n"
          ]
        },
        {
          "name": "stderr",
          "output_type": "stream",
          "text": [
            "Testing: 100%|\u001b[32m##########\u001b[0m| 362/362 [23:27<00:00,  3.89s/it]\n"
          ]
        },
        {
          "name": "stdout",
          "output_type": "stream",
          "text": [
            "Acurácia EOGVerticalSignal: 0.47790055248618785\n"
          ]
        },
        {
          "name": "stderr",
          "output_type": "stream",
          "text": [
            "Testing: 100%|\u001b[32m##########\u001b[0m| 1980/1980 [1:22:12<00:00,  2.49s/it]\n"
          ]
        },
        {
          "name": "stdout",
          "output_type": "stream",
          "text": [
            "Acurácia InsectWingbeatSound: 0.6419191919191919\n"
          ]
        },
        {
          "name": "stderr",
          "output_type": "stream",
          "text": [
            "Testing: 100%|\u001b[32m##########\u001b[0m| 390/390 [17:02<00:00,  2.62s/it]\n"
          ]
        },
        {
          "name": "stdout",
          "output_type": "stream",
          "text": [
            "Acurácia CricketX: 0.6487179487179487\n"
          ]
        },
        {
          "name": "stderr",
          "output_type": "stream",
          "text": [
            "Testing: 100%|\u001b[32m##########\u001b[0m| 105/105 [04:02<00:00,  2.31s/it]\n"
          ]
        },
        {
          "name": "stdout",
          "output_type": "stream",
          "text": [
            "Acurácia Ham: 0.7238095238095238\n"
          ]
        },
        {
          "name": "stderr",
          "output_type": "stream",
          "text": [
            "Testing: 100%|\u001b[32m##########\u001b[0m| 995/995 [39:37<00:00,  2.39s/it]\n"
          ]
        },
        {
          "name": "stdout",
          "output_type": "stream",
          "text": [
            "Acurácia Symbols: 0.9296482412060302\n"
          ]
        },
        {
          "name": "stderr",
          "output_type": "stream",
          "text": [
            "Testing: 100%|\u001b[32m##########\u001b[0m| 306/306 [11:23<00:00,  2.23s/it]\n"
          ]
        },
        {
          "name": "stdout",
          "output_type": "stream",
          "text": [
            "Acurácia DiatomSizeReduction: 0.954248366013072\n"
          ]
        },
        {
          "name": "stderr",
          "output_type": "stream",
          "text": [
            "Testing: 100%|\u001b[32m##########\u001b[0m| 77/77 [03:52<00:00,  3.02s/it]\n"
          ]
        },
        {
          "name": "stdout",
          "output_type": "stream",
          "text": [
            "Acurácia WormsTwoClass: 0.8311688311688312\n"
          ]
        },
        {
          "name": "stderr",
          "output_type": "stream",
          "text": [
            "Testing: 100%|\u001b[32m##########\u001b[0m| 154/154 [04:33<00:00,  1.78s/it]\n"
          ]
        },
        {
          "name": "stdout",
          "output_type": "stream",
          "text": [
            "Acurácia MiddlePhalanxTW: 0.538961038961039\n"
          ]
        },
        {
          "name": "stderr",
          "output_type": "stream",
          "text": [
            "Testing: 100%|\u001b[32m##########\u001b[0m| 1139/1139 [28:36<00:00,  1.51s/it]\n"
          ]
        },
        {
          "name": "stdout",
          "output_type": "stream",
          "text": [
            "Acurácia TwoLeadECG: 0.8788410886742757\n"
          ]
        },
        {
          "name": "stderr",
          "output_type": "stream",
          "text": [
            "Testing: 100%|\u001b[32m##########\u001b[0m| 550/550 [38:24<00:00,  4.19s/it]\n"
          ]
        },
        {
          "name": "stdout",
          "output_type": "stream",
          "text": [
            "Acurácia InlineSkate: 0.44727272727272727\n"
          ]
        },
        {
          "name": "stderr",
          "output_type": "stream",
          "text": [
            "Testing: 100%|\u001b[32m##########\u001b[0m| 450/450 [28:52<00:00,  3.85s/it]"
          ]
        },
        {
          "name": "stdout",
          "output_type": "stream",
          "text": [
            "Acurácia SemgHandSubjectCh2: 0.9488888888888889\n"
          ]
        },
        {
          "name": "stderr",
          "output_type": "stream",
          "text": [
            "\n"
          ]
        }
      ],
      "source": [
        "accuracy_data = []\n",
        "for dataset_name in selected_data:\n",
        "    features_train, features_test, target_train, target_test = load_data(dataset_name)\n",
        "    best_wavelet = choose_wavelet(features_train)\n",
        "    \n",
        "    trained, clf = train_classifier(features_train, target_train, best_wavelet)\n",
        "    predictions = predict_classifier(features_test, trained, clf, best_wavelet)\n",
        "\n",
        "    accuracy = accuracy_score(target_test, predictions)\n",
        "        \n",
        "    accuracy_data.append({'Dataset Name': dataset_name, 'Accuracy': accuracy})\n",
        "    \n",
        "    print(f\"Acurácia {dataset_name}: {accuracy}\")\n",
        "    \n",
        "accuracy_df = pd.DataFrame(accuracy_data)\n"
      ]
    },
    {
      "cell_type": "code",
      "execution_count": 12,
      "metadata": {},
      "outputs": [],
      "source": [
        "accuracy_df\n",
        "accuracy_df.to_csv('ModelAM_FeatureWorking.csv')"
      ]
    },
    {
      "cell_type": "markdown",
      "metadata": {},
      "source": [
        "### DynamicAmazonClassifier"
      ]
    },
    {
      "cell_type": "code",
      "execution_count": 13,
      "metadata": {},
      "outputs": [
        {
          "name": "stdout",
          "output_type": "stream",
          "text": [
            "Accuracy PigAirwayPressure: 0.2403846153846154\n",
            "Accuracy FiftyWords: 0.7538461538461538\n",
            "Accuracy ProximalPhalanxOutlineAgeGroup: 0.8585365853658536\n",
            "Accuracy StarLightCurves: 0.9720738222438077\n",
            "Accuracy NonInvasiveFetalECGThorax1: 0.9124681933842239\n",
            "Accuracy BME: 1.0\n",
            "Accuracy Mallat: 0.95863539445629\n",
            "Accuracy Lightning2: 0.7868852459016393\n",
            "Accuracy Plane: 0.9904761904761905\n",
            "Accuracy SonyAIBORobotSurface1: 0.8685524126455907\n",
            "Accuracy ProximalPhalanxTW: 0.8146341463414634\n",
            "Accuracy UWaveGestureLibraryX: 0.8115577889447236\n",
            "Accuracy ShapesAll: 0.8433333333333334\n",
            "Accuracy ArrowHead: 0.6971428571428572\n",
            "Accuracy DistalPhalanxOutlineAgeGroup: 0.762589928057554\n",
            "Accuracy GunPointOldVersusYoung: 1.0\n",
            "Accuracy Phoneme: 0.27531645569620256\n",
            "Accuracy Wine: 0.7222222222222222\n",
            "Accuracy UMD: 0.9930555555555556\n",
            "Accuracy Worms: 0.6363636363636364\n",
            "Accuracy UWaveGestureLibraryZ: 0.7537688442211056\n",
            "Accuracy ProximalPhalanxOutlineCorrect: 0.8797250859106529\n",
            "Accuracy BeetleFly: 0.95\n",
            "Accuracy MiddlePhalanxOutlineCorrect: 0.8316151202749141\n",
            "Accuracy Rock: 0.8\n",
            "Accuracy ItalyPowerDemand: 0.9689018464528668\n",
            "Accuracy SwedishLeaf: 0.944\n",
            "Accuracy HandOutlines: 0.9108108108108108\n",
            "Accuracy WordSynonyms: 0.658307210031348\n",
            "Accuracy Chinatown: 0.9766763848396501\n",
            "Accuracy TwoPatterns: 0.99775\n",
            "Accuracy GunPointAgeSpan: 0.990506329113924\n",
            "Accuracy CricketZ: 0.7256410256410256\n",
            "Accuracy CricketY: 0.7384615384615385\n",
            "Accuracy OliveOil: 0.9333333333333333\n",
            "Accuracy Trace: 0.99\n",
            "Accuracy Herring: 0.59375\n",
            "Accuracy MixedShapesSmallTrain: 0.8775257731958763\n",
            "Accuracy LargeKitchenAppliances: 0.616\n",
            "Accuracy DiatomSizeReduction: 0.9477124183006536\n",
            "Accuracy MiddlePhalanxTW: 0.5714285714285714\n",
            "Accuracy TwoLeadECG: 0.8481123792800702\n",
            "Accuracy FordB: 0.7913580246913581\n",
            "Accuracy SemgHandSubjectCh2: 0.9311111111111111\n",
            "Accuracy Earthquakes: 0.7482014388489209\n",
            "Accuracy SyntheticControl: 0.99\n",
            "Accuracy MixedShapesRegularTrain: 0.9327835051546391\n",
            "Accuracy BirdChicken: 0.85\n",
            "Accuracy OSULeaf: 0.6446280991735537\n",
            "Accuracy InsectEPGRegularTrain: 1.0\n",
            "Accuracy DistalPhalanxOutlineCorrect: 0.7789855072463768\n",
            "Accuracy EthanolLevel: 0.49\n",
            "Accuracy ChlorineConcentration: 0.7427083333333333\n",
            "Accuracy Yoga: 0.8476666666666667\n",
            "Accuracy Coffee: 1.0\n",
            "Accuracy PigCVP: 0.3605769230769231\n",
            "Accuracy FreezerRegularTrain: 0.9901754385964913\n",
            "Accuracy SemgHandMovementCh2: 0.8644444444444445\n",
            "Accuracy PhalangesOutlinesCorrect: 0.8298368298368298\n",
            "Accuracy SmoothSubspace: 0.9866666666666667\n",
            "Accuracy SemgHandGenderCh2: 0.9766666666666667\n",
            "Accuracy ElectricDevices: 0.7316820127091168\n",
            "Accuracy UWaveGestureLibraryY: 0.7272473478503629\n",
            "Accuracy PowerCons: 1.0\n",
            "Accuracy Lightning7: 0.7534246575342466\n",
            "Accuracy GunPoint: 0.9666666666666667\n",
            "Accuracy Computers: 0.748\n",
            "Accuracy MiddlePhalanxOutlineAgeGroup: 0.577922077922078\n",
            "Accuracy Adiac: 0.7647058823529411\n",
            "Accuracy FaceAll: 0.7964497041420119\n",
            "Accuracy HouseTwenty: 0.9243697478991597\n",
            "Accuracy GunPointMaleVersusFemale: 1.0\n",
            "Accuracy PigArtPressure: 0.41346153846153844\n",
            "Accuracy ScreenType: 0.496\n",
            "Accuracy SonyAIBORobotSurface2: 0.8300104931794333\n",
            "Accuracy EOGHorizontalSignal: 0.5303867403314917\n",
            "Accuracy RefrigerationDevices: 0.5573333333333333\n",
            "Accuracy InsectEPGSmallTrain: 1.0\n",
            "Accuracy NonInvasiveFetalECGThorax2: 0.9323155216284987\n",
            "Accuracy FreezerSmallTrain: 0.8856140350877193\n",
            "Accuracy FacesUCR: 0.8985365853658537\n",
            "Accuracy CinCECGTorso: 0.9485507246376812\n",
            "Accuracy CBF: 0.9755555555555555\n",
            "Accuracy ECG200: 0.86\n",
            "Accuracy UWaveGestureLibraryAll: 0.9609156895589056\n",
            "Accuracy ECG5000: 0.9415555555555556\n",
            "Accuracy Beef: 0.8\n",
            "Accuracy MoteStrain: 0.9137380191693291\n",
            "Accuracy ToeSegmentation2: 0.8769230769230769\n",
            "Accuracy ACSF1: 0.82\n",
            "Accuracy Wafer: 0.9975665152498377\n",
            "Accuracy Fish: 0.8685714285714285\n",
            "Accuracy FaceFour: 1.0\n",
            "Accuracy Haptics: 0.4805194805194805\n",
            "Accuracy ShapeletSim: 0.95\n",
            "Accuracy Meat: 0.9333333333333333\n",
            "Accuracy DistalPhalanxTW: 0.697841726618705\n",
            "Accuracy SmallKitchenAppliances: 0.816\n",
            "Accuracy ToeSegmentation1: 0.7982456140350878\n",
            "Accuracy MedicalImages: 0.8\n",
            "Accuracy ECGFiveDays: 0.9779326364692218\n",
            "Accuracy FordA: 0.9477272727272728\n",
            "Accuracy EOGVerticalSignal: 0.5193370165745856\n",
            "Accuracy InsectWingbeatSound: 0.6671717171717172\n",
            "Accuracy CricketX: 0.7025641025641025\n",
            "Accuracy Car: 0.7666666666666667\n",
            "Accuracy Ham: 0.6952380952380952\n",
            "Accuracy Symbols: 0.9437185929648241\n",
            "Accuracy Crop: 0.7724404761904762\n",
            "Accuracy WormsTwoClass: 0.7142857142857143\n",
            "Accuracy InlineSkate: 0.4109090909090909\n",
            "Accuracy Strawberry: 0.972972972972973\n"
          ]
        }
      ],
      "source": [
        "from sklearn.linear_model import RidgeClassifierCV\n",
        "\n",
        "accuracy_data = []\n",
        "for dataset_name in univariate_equal_length:\n",
        "    # Carregue os dados de treinamento e teste\n",
        "    features_train, features_test, target_train, target_test = load_data(dataset_name)\n",
        "    best_wavelet = choose_wavelet(features_train)\n",
        "    \n",
        "    feature_extractor = CombinedDecisionForest()\n",
        "    feature_extractor.fit(features_train, target_train)\n",
        "    \n",
        "    train_features = feature_extractor.predict_proba(features_train)\n",
        "    test_features = feature_extractor.predict_proba(features_test)\n",
        "    \n",
        "    meta_model = RidgeClassifierCV(alphas=np.logspace(-3, 3, 10))\n",
        "    \n",
        "    meta_model.fit(train_features, target_train)\n",
        "    \n",
        "    predictions = meta_model.predict(test_features)\n",
        "    \n",
        "    accuracy = accuracy_score(target_test, predictions)\n",
        "        \n",
        "    accuracy_data.append({'Dataset Name': dataset_name, 'Accuracy': accuracy})\n",
        "    \n",
        "    print(f\"Accuracy {dataset_name}: {accuracy}\")\n",
        "    \n",
        "accuracy_df = pd.DataFrame(accuracy_data)"
      ]
    },
    {
      "cell_type": "code",
      "execution_count": 14,
      "metadata": {},
      "outputs": [
        {
          "data": {
            "text/html": [
              "<div>\n",
              "<style scoped>\n",
              "    .dataframe tbody tr th:only-of-type {\n",
              "        vertical-align: middle;\n",
              "    }\n",
              "\n",
              "    .dataframe tbody tr th {\n",
              "        vertical-align: top;\n",
              "    }\n",
              "\n",
              "    .dataframe thead th {\n",
              "        text-align: right;\n",
              "    }\n",
              "</style>\n",
              "<table border=\"1\" class=\"dataframe\">\n",
              "  <thead>\n",
              "    <tr style=\"text-align: right;\">\n",
              "      <th></th>\n",
              "      <th>Dataset Name</th>\n",
              "      <th>Accuracy</th>\n",
              "    </tr>\n",
              "  </thead>\n",
              "  <tbody>\n",
              "    <tr>\n",
              "      <th>0</th>\n",
              "      <td>PigAirwayPressure</td>\n",
              "      <td>0.240385</td>\n",
              "    </tr>\n",
              "    <tr>\n",
              "      <th>1</th>\n",
              "      <td>FiftyWords</td>\n",
              "      <td>0.753846</td>\n",
              "    </tr>\n",
              "    <tr>\n",
              "      <th>2</th>\n",
              "      <td>ProximalPhalanxOutlineAgeGroup</td>\n",
              "      <td>0.858537</td>\n",
              "    </tr>\n",
              "    <tr>\n",
              "      <th>3</th>\n",
              "      <td>StarLightCurves</td>\n",
              "      <td>0.972074</td>\n",
              "    </tr>\n",
              "    <tr>\n",
              "      <th>4</th>\n",
              "      <td>NonInvasiveFetalECGThorax1</td>\n",
              "      <td>0.912468</td>\n",
              "    </tr>\n",
              "    <tr>\n",
              "      <th>...</th>\n",
              "      <td>...</td>\n",
              "      <td>...</td>\n",
              "    </tr>\n",
              "    <tr>\n",
              "      <th>107</th>\n",
              "      <td>Symbols</td>\n",
              "      <td>0.943719</td>\n",
              "    </tr>\n",
              "    <tr>\n",
              "      <th>108</th>\n",
              "      <td>Crop</td>\n",
              "      <td>0.772440</td>\n",
              "    </tr>\n",
              "    <tr>\n",
              "      <th>109</th>\n",
              "      <td>WormsTwoClass</td>\n",
              "      <td>0.714286</td>\n",
              "    </tr>\n",
              "    <tr>\n",
              "      <th>110</th>\n",
              "      <td>InlineSkate</td>\n",
              "      <td>0.410909</td>\n",
              "    </tr>\n",
              "    <tr>\n",
              "      <th>111</th>\n",
              "      <td>Strawberry</td>\n",
              "      <td>0.972973</td>\n",
              "    </tr>\n",
              "  </tbody>\n",
              "</table>\n",
              "<p>112 rows × 2 columns</p>\n",
              "</div>"
            ],
            "text/plain": [
              "                       Dataset Name  Accuracy\n",
              "0                 PigAirwayPressure  0.240385\n",
              "1                        FiftyWords  0.753846\n",
              "2    ProximalPhalanxOutlineAgeGroup  0.858537\n",
              "3                   StarLightCurves  0.972074\n",
              "4        NonInvasiveFetalECGThorax1  0.912468\n",
              "..                              ...       ...\n",
              "107                         Symbols  0.943719\n",
              "108                            Crop  0.772440\n",
              "109                   WormsTwoClass  0.714286\n",
              "110                     InlineSkate  0.410909\n",
              "111                      Strawberry  0.972973\n",
              "\n",
              "[112 rows x 2 columns]"
            ]
          },
          "execution_count": 14,
          "metadata": {},
          "output_type": "execute_result"
        }
      ],
      "source": [
        "accuracy_df"
      ]
    },
    {
      "cell_type": "code",
      "execution_count": 15,
      "metadata": {},
      "outputs": [],
      "source": [
        "accuracy_df.to_csv('ModelAM_FeatureWorking.csv')"
      ]
    },
    {
      "cell_type": "markdown",
      "metadata": {},
      "source": [
        "### Representação temporal de uma transformada rápida de Fourier"
      ]
    },
    {
      "cell_type": "code",
      "execution_count": 16,
      "metadata": {},
      "outputs": [
        {
          "data": {
            "image/png": "[encoded data removed]",
            "text/plain": [
              "<Figure size 1200x600 with 2 Axes>"
            ]
          },
          "metadata": {},
          "output_type": "display_data"
        }
      ],
      "source": [
        "import numpy as np\n",
        "import matplotlib.pyplot as plt\n",
        "\n",
        "# Criação dos dados\n",
        "t = np.linspace(0, 1, 250, endpoint=False)\n",
        "a = 0.02\n",
        "f = 5\n",
        "x = 0.9 * np.sin(2 * np.pi * 3 * f * t + .1)\n",
        "x += a * np.cos(2 * np.pi * 312 * f * t + .1)\n",
        "x += a * np.cos(2 * np.pi * 2000 * f * t)\n",
        "x += a * np.sin(2 * np.pi * 5000 * f * t)\n",
        "x += 0.8 * np.cos(2 * np.pi * 2.3e4 * f * t)\n",
        "x += 0.3 * np.cos(2 * np.pi * 1.3e5 * f * t + .1)\n",
        "x += 0.3 * np.cos(2 * np.pi * 2.3e5 * f * t + .1)\n",
        "x += a * np.cos(2 * np.pi * 2e6 * f * t)\n",
        "\n",
        "# Transformada de Fourier\n",
        "y = np.fft.fft(x)\n",
        "freq = np.fft.fftfreq(len(x), d=t[1] - t[0])\n",
        "\n",
        "# Plotagem do gráfico\n",
        "plt.figure(figsize=(12, 6))\n",
        "plt.subplot(121)\n",
        "plt.plot(t, x)\n",
        "plt.title('Série Temporal')\n",
        "\n",
        "plt.subplot(122)\n",
        "plt.plot(freq, np.abs(y))\n",
        "plt.title('Espectro de Frequência')\n",
        "\n",
        "plt.tight_layout()\n",
        "plt.show()\n"
      ]
    }
  ],
  "metadata": {
    "colab": {
      "collapsed_sections": [
        "w_wfxopCnp1x",
        "ctG_4yBOnp1z",
        "AP38ocldnp10",
        "48vIj_NYnp14",
        "fBZ-XYnunp15",
        "dfFvUX1YU-xH",
        "-ru7Knb6G5Ca"
      ],
      "provenance": []
    },
    "kernelspec": {
      "display_name": "AM",
      "language": "python",
      "name": "python3"
    },
    "language_info": {
      "codemirror_mode": {
        "name": "ipython",
        "version": 3
      },
      "file_extension": ".py",
      "mimetype": "text/x-python",
      "name": "python",
      "nbconvert_exporter": "python",
      "pygments_lexer": "ipython3",
      "version": "3.11.8"
    }
  },
  "nbformat": 4,
  "nbformat_minor": 0
}
