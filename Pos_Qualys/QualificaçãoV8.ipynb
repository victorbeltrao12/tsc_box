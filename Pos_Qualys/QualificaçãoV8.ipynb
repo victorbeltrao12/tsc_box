{
  "cells": [
    {
      "cell_type": "markdown",
      "metadata": {
        "id": "w_wfxopCnp1x"
      },
      "source": [
        "### Bibliotecas"
      ]
    },
    {
      "cell_type": "code",
      "execution_count": 1,
      "metadata": {
        "colab": {
          "base_uri": "https://localhost:8080/"
        },
        "id": "l1AP99G_oHxu",
        "outputId": "73d44148-db3b-4584-e7e9-c0d331a5c87b"
      },
      "outputs": [
        {
          "data": {
            "text/plain": [
              "'!pip install aeon\\n!pip install tsfresh\\n!pip install tslearn'"
            ]
          },
          "execution_count": 1,
          "metadata": {},
          "output_type": "execute_result"
        }
      ],
      "source": [
        "\"\"\"!pip install aeon\n",
        "!pip install tsfresh\n",
        "!pip install tslearn\"\"\""
      ]
    },
    {
      "cell_type": "code",
      "execution_count": 2,
      "metadata": {
        "id": "nuvyez8anp1y"
      },
      "outputs": [],
      "source": [
        "import pandas as pd\n",
        "import numpy as np\n",
        "\n",
        "from aeon.datasets import load_classification\n",
        "from aeon.datasets.tsc_data_lists import univariate_equal_length\n",
        "from aeon.classification.distance_based import KNeighborsTimeSeriesClassifier, ShapeDTW, ElasticEnsemble\n",
        "\n",
        "from tsfresh import extract_features, select_features\n",
        "from tsfresh.feature_extraction import MinimalFCParameters\n",
        "\n",
        "from tslearn.preprocessing import TimeSeriesScalerMeanVariance\n",
        "from tslearn.piecewise import PiecewiseAggregateApproximation, SymbolicAggregateApproximation\n",
        "\n",
        "import pywt\n",
        "\n",
        "from sklearn.metrics import accuracy_score\n",
        "\n",
        "from sklearn.model_selection import LeaveOneOut\n",
        "from sklearn.svm import SVC\n",
        "from sklearn.linear_model import RidgeClassifierCV\n",
        "from sklearn.ensemble import RandomForestClassifier, GradientBoostingClassifier, ExtraTreesClassifier\n",
        "from sklearn.naive_bayes import GaussianNB\n",
        "\n",
        "from scipy.fftpack import fft\n",
        "from numba import jit\n",
        "from tqdm import tqdm\n",
        "import timeit\n",
        "from datetime import timedelta\n",
        "\n",
        "import warnings\n",
        "warnings.filterwarnings(\"ignore\")"
      ]
    },
    {
      "cell_type": "markdown",
      "metadata": {},
      "source": [
        "### Time Series Classifier Dynamic Series Representation"
      ]
    },
    {
      "cell_type": "code",
      "execution_count": null,
      "metadata": {},
      "outputs": [],
      "source": [
        "class TimeSeriesClassifier:\n",
        "    def __init__(self, random_state=42):\n",
        "        self.random_state = random_state\n",
        "        self.trained_models = {}\n",
        "        \"\"\"_summary_\n",
        "\n",
        "        Returns:\n",
        "            _type_: _description_\n",
        "        \"\"\"\n",
        "    @jit\n",
        "    def transform_data_math(X):\n",
        "        n_sax_symbols = int(X.shape[1] / 4)\n",
        "        n_paa_segments = int(X.shape[1] / 4)\n",
        "    \n",
        "        X_fft = np.abs(fft(X, axis=1))\n",
        "    \n",
        "        coeffs_cA, coeffs_cD = pywt.dwt(X, 'db1', axis=1)\n",
        "        X_dwt = np.hstack((coeffs_cA, coeffs_cD))\n",
        "    \n",
        "        paa = PiecewiseAggregateApproximation(n_segments=n_paa_segments)\n",
        "        X_paa_ = paa.inverse_transform(paa.fit_transform(X))\n",
        "        X_paa = X_paa_.reshape(X_paa_.shape[0], -1)\n",
        "        stats_PAA = np.hstack([np.mean(X_paa, axis=1).reshape(-1,1),\n",
        "                               np.std(X_paa, axis=1).reshape(-1,1),\n",
        "                               np.max(X_paa, axis=1).reshape(-1,1),\n",
        "                               np.min(X_paa, axis=1).reshape(-1,1),\n",
        "                               ])\n",
        "    \n",
        "        sax = SymbolicAggregateApproximation(n_segments=n_paa_segments, alphabet_size_avg=n_sax_symbols)\n",
        "        X_sax_ = sax.inverse_transform(sax.fit_transform(X))\n",
        "        X_sax = X_sax_.reshape(X_sax_.shape[0], -1)\n",
        "        stats_SAX = np.hstack([np.mean(X_sax, axis=1).reshape(-1,1),\n",
        "                               np.std(X_sax, axis=1).reshape(-1,1),\n",
        "                               np.max(X_sax, axis=1).reshape(-1,1),\n",
        "                               np.min(X_sax, axis=1).reshape(-1,1),\n",
        "                               ])\n",
        "    \n",
        "        data_X = TimeSeriesScalerMeanVariance().fit_transform(X)\n",
        "        data_X.resize(data_X.shape[0], data_X.shape[1])\n",
        "        stats_X = np.hstack([np.mean(data_X, axis=1).reshape(-1,1),\n",
        "                             np.std(data_X, axis=1).reshape(-1,1),\n",
        "                             np.max(data_X, axis=1).reshape(-1,1),\n",
        "                             np.min(data_X, axis=1).reshape(-1,1),\n",
        "                             ])\n",
        "    \n",
        "        data_FFT = TimeSeriesScalerMeanVariance().fit_transform(X_fft)\n",
        "        data_FFT.resize(data_FFT.shape[0], data_FFT.shape[1])\n",
        "        stats_FFT = np.hstack([np.mean(data_FFT, axis=1).reshape(-1,1),\n",
        "                               np.std(data_FFT, axis=1).reshape(-1,1),\n",
        "                               np.max(data_FFT, axis=1).reshape(-1,1),\n",
        "                               np.min(data_FFT, axis=1).reshape(-1,1),\n",
        "                               ])\n",
        "    \n",
        "        data_DWT = TimeSeriesScalerMeanVariance().fit_transform(X_dwt)\n",
        "        data_DWT.resize(data_DWT.shape[0], data_DWT.shape[1])\n",
        "        stats_DWT = np.hstack([np.mean(data_DWT, axis=1).reshape(-1,1),\n",
        "                               np.std(data_DWT, axis=1).reshape(-1,1),\n",
        "                               np.max(data_DWT, axis=1).reshape(-1,1),\n",
        "                               np.min(data_DWT, axis=1).reshape(-1,1),\n",
        "                               ])\n",
        "    \n",
        "        return {\n",
        "            \"TS\": np.hstack([data_X, stats_X]),\n",
        "            \"FFT\": np.hstack([data_FFT, stats_FFT]),\n",
        "            \"DWT\": np.hstack([data_DWT, stats_DWT]),\n",
        "            \"PAA\": np.hstack([X_paa, stats_PAA]),\n",
        "            \"SAX\": np.hstack([X_sax, stats_SAX])\n",
        "        }\n",
        "    \n",
        "    @jit\n",
        "    def select_model(option, random_state):\n",
        "        if option == '1nn':\n",
        "            return KNeighborsTimeSeriesClassifier(distance='euclidean', n_neighbors=1, n_jobs=-1)\n",
        "        elif option == '3nn':\n",
        "            return KNeighborsTimeSeriesClassifier(distance='dtw', n_neighbors=3, n_jobs=-1)\n",
        "        elif option == 'svm':\n",
        "            return SVC(C = 100, gamma=0.01, kernel='linear', probability=True)\n",
        "        elif option == 'gbc':\n",
        "            return GradientBoostingClassifier(n_estimators=5, random_state=random_state)\n",
        "        elif option == 'nb':\n",
        "            return GaussianNB()\n",
        "        elif option == 'shape':\n",
        "            return ShapeDTW(n_neighbors=1)\n",
        "        elif option == 'ee':\n",
        "            return ElasticEnsemble(n_jobs=-1,\n",
        "                                   random_state=random_state,\n",
        "                                   majority_vote=True)\n",
        "        elif option == 'exrf':\n",
        "            return ExtraTreesClassifier(n_estimators=200,\n",
        "                                        criterion=\"entropy\",\n",
        "                                        class_weight=\"balanced\",\n",
        "                                        max_features=\"sqrt\",\n",
        "                                        n_jobs=-1,\n",
        "                                        random_state=None)\n",
        "        elif option == 'rd':\n",
        "            return RidgeClassifierCV(alphas=np.logspace(-3, 3, 10))\n",
        "        else:\n",
        "            return RandomForestClassifier(n_estimators=200,\n",
        "                                          criterion=\"entropy\",\n",
        "                                          class_weight=\"balanced\",\n",
        "                                          max_features=\"sqrt\",\n",
        "                                          n_jobs=-1,\n",
        "                                          random_state=None)\n",
        "    \n",
        "    @jit\n",
        "    def train_with_meta_classifier(X_train, y_train, base_option='random_forest', meta_option='1nn', random_state=42):\n",
        "        trained_models = {}  # Salvar modelos treinados para cada transformação\n",
        "        X_train_transformed = transform_data_math(X_train)  # Transformar todo o conjunto de treino\n",
        "        loo = LeaveOneOut()\n",
        "        num_classes = len(np.unique(y_train))  # Número de classes\n",
        "    \n",
        "        # Treinar um modelo para cada transformação e salvar no dicionário\n",
        "        for rep, X_trans in tqdm(X_train_transformed.items(), ascii=True, desc=\"Training Base Models\"):\n",
        "            model = select_model(base_option, random_state)\n",
        "            scores = []\n",
        "            for train_index, _ in loo.split(X_trans):\n",
        "                model.fit(X_trans[train_index], y_train[train_index])\n",
        "                score = model.score(X_trans[train_index], y_train[train_index])  # Score do modelo nos dados de treino\n",
        "                scores.append(score)\n",
        "            avg_score = np.mean(scores)\n",
        "            trained_models[rep] = model  # Salvar o modelo treinado\n",
        "    \n",
        "        # Preparar dados para o meta-classificador\n",
        "        meta_features = np.zeros((X_train.shape[0], num_classes))  # Inicializar um vetor para armazenar as somas de probabilidades para cada classe\n",
        "        for i in range(X_train.shape[0]):\n",
        "            for rep, model in trained_models.items():\n",
        "                proba = model.predict_proba(X_train_transformed[rep][i].reshape(1, -1))\n",
        "                meta_features[i] += proba.flatten()  # Adicione as probabilidades para cada classe\n",
        "    \n",
        "        # Treinar o meta-classificador\n",
        "        meta_classifier = select_model(meta_option, random_state)\n",
        "        meta_classifier.fit(meta_features, y_train)\n",
        "    \n",
        "        return trained_models, meta_classifier\n",
        "    \n",
        "    @jit\n",
        "    def predict_with_meta_classifier(X_test, trained_base_models, trained_meta_classifier):\n",
        "        predictions = []\n",
        "        meta_features_test = []  # Inicialize uma lista para armazenar todos os meta-recursos dos dados de teste\n",
        "    \n",
        "        for i in tqdm(range(len(X_test)), ascii=True, desc=\"Testing Instances\"):\n",
        "            x_instance = X_test[i].reshape(1, -1)\n",
        "            x_transformed = transform_data_math(x_instance)\n",
        "    \n",
        "            instance_features = np.zeros(trained_meta_classifier.n_features_in_)  # Inicialize um vetor para armazenar as características do meta-classificador\n",
        "            for rep, model in trained_base_models.items():\n",
        "                proba = model.predict_proba(x_transformed[rep][0].reshape(1, -1))\n",
        "                instance_features += proba.flatten()  # Adicione as probabilidades para cada classe\n",
        "    \n",
        "            meta_feature = np.array(instance_features).reshape(1, -1)\n",
        "            predictions.append(trained_meta_classifier.predict(meta_feature)[0])  # Adicionar a previsão à lista de previsões\n",
        "    \n",
        "            meta_features_test.append(meta_feature.flatten())  # Adicionar meta-recursos da instância atual à lista\n",
        "    \n",
        "        # Converter a lista de meta-recursos dos dados de teste em um array numpy\n",
        "        meta_features_test = np.array(meta_features_test)\n",
        "    \n",
        "        # Salvar todos os meta-recursos dos dados de teste em um arquivo CSV\n",
        "        np.savetxt(\"meta-features-test.csv\", meta_features_test, delimiter=\",\")\n",
        "    \n",
        "        return predictions\n",
        "\n"
      ]
    },
    {
      "cell_type": "markdown",
      "metadata": {
        "id": "ctG_4yBOnp1z"
      },
      "source": [
        "### Dados"
      ]
    },
    {
      "cell_type": "code",
      "execution_count": 3,
      "metadata": {
        "id": "imNQaGTDnp10"
      },
      "outputs": [
        {
          "data": {
            "text/plain": [
              "'X_train, y_train = load_classification(\\'CBF\\', split=\"TRAIN\")\\nX_test, y_test = load_classification(\\'CBF\\', split=\"test\")\\n\\n# Achatando os dados para 2D, pois alguns algoritmos esperam 2D\\nXtrain = X_train.reshape(X_train.shape[0], -1)\\nXtest = X_test.reshape(X_test.shape[0], -1)'"
            ]
          },
          "execution_count": 3,
          "metadata": {},
          "output_type": "execute_result"
        }
      ],
      "source": [
        "\"\"\"try:\n",
        "    train_data = pd.read_parquet('D:\\_MESTRADO\\_Meta_Learning\\MSC\\CSV_Parquet\\Car_TRAIN.parquet')\n",
        "    test_data = pd.read_parquet('D:\\_MESTRADO\\_Meta_Learning\\MSC\\CSV_Parquet\\Car_TRAIN.parquet')\n",
        "except FileNotFoundError:\n",
        "    print(\"Ensure the Parquet files are in the correct path.\")\n",
        "    raise\n",
        "\n",
        "\n",
        "X_train = train_data.drop('target', axis=1).values\n",
        "y_train = train_data['target'].values\n",
        "\n",
        "X_test = test_data.drop('target', axis=1).values\n",
        "y_test = test_data['target'].values\"\"\"\n",
        "\n",
        "\n",
        "\"\"\"X_train, y_train = load_classification('CBF', split=\"TRAIN\")\n",
        "X_test, y_test = load_classification('CBF', split=\"test\")\n",
        "\n",
        "# Achatando os dados para 2D, pois alguns algoritmos esperam 2D\n",
        "Xtrain = X_train.reshape(X_train.shape[0], -1)\n",
        "Xtest = X_test.reshape(X_test.shape[0], -1)\"\"\"\n"
      ]
    },
    {
      "cell_type": "markdown",
      "metadata": {
        "id": "QuvAtr74np10"
      },
      "source": [
        "### Função de transformação dos dados."
      ]
    },
    {
      "cell_type": "code",
      "execution_count": 4,
      "metadata": {
        "id": "V0NO-NIJnp10"
      },
      "outputs": [],
      "source": [
        "@jit\n",
        "def transform_data_math(X):\n",
        "    n_sax_symbols = int(X.shape[1] / 4)\n",
        "    n_paa_segments = int(X.shape[1] / 4)\n",
        "\n",
        "    X_fft = np.abs(fft(X, axis=1))\n",
        "\n",
        "    coeffs_cA, coeffs_cD = pywt.dwt(X, 'db1', axis=1)\n",
        "    X_dwt = np.hstack((coeffs_cA, coeffs_cD))\n",
        "\n",
        "    paa = PiecewiseAggregateApproximation(n_segments=n_paa_segments)\n",
        "    X_paa_ = paa.inverse_transform(paa.fit_transform(X))\n",
        "    X_paa = X_paa_.reshape(X_paa_.shape[0], -1)\n",
        "    stats_PAA = np.hstack([np.mean(X_paa, axis=1).reshape(-1,1),\n",
        "                           np.std(X_paa, axis=1).reshape(-1,1),\n",
        "                           np.max(X_paa, axis=1).reshape(-1,1),\n",
        "                           np.min(X_paa, axis=1).reshape(-1,1),\n",
        "                           ])\n",
        "\n",
        "    sax = SymbolicAggregateApproximation(n_segments=n_paa_segments, alphabet_size_avg=n_sax_symbols)\n",
        "    X_sax_ = sax.inverse_transform(sax.fit_transform(X))\n",
        "    X_sax = X_sax_.reshape(X_sax_.shape[0], -1)\n",
        "    stats_SAX = np.hstack([np.mean(X_sax, axis=1).reshape(-1,1),\n",
        "                           np.std(X_sax, axis=1).reshape(-1,1),\n",
        "                           np.max(X_sax, axis=1).reshape(-1,1),\n",
        "                           np.min(X_sax, axis=1).reshape(-1,1),\n",
        "                           ])\n",
        "\n",
        "    data_X = TimeSeriesScalerMeanVariance().fit_transform(X)\n",
        "    data_X.resize(data_X.shape[0], data_X.shape[1])\n",
        "    stats_X = np.hstack([np.mean(data_X, axis=1).reshape(-1,1),\n",
        "                         np.std(data_X, axis=1).reshape(-1,1),\n",
        "                         np.max(data_X, axis=1).reshape(-1,1),\n",
        "                         np.min(data_X, axis=1).reshape(-1,1),\n",
        "                         ])\n",
        "\n",
        "    data_FFT = TimeSeriesScalerMeanVariance().fit_transform(X_fft)\n",
        "    data_FFT.resize(data_FFT.shape[0], data_FFT.shape[1])\n",
        "    stats_FFT = np.hstack([np.mean(data_FFT, axis=1).reshape(-1,1),\n",
        "                           np.std(data_FFT, axis=1).reshape(-1,1),\n",
        "                           np.max(data_FFT, axis=1).reshape(-1,1),\n",
        "                           np.min(data_FFT, axis=1).reshape(-1,1),\n",
        "                           ])\n",
        "\n",
        "    data_DWT = TimeSeriesScalerMeanVariance().fit_transform(X_dwt)\n",
        "    data_DWT.resize(data_DWT.shape[0], data_DWT.shape[1])\n",
        "    stats_DWT = np.hstack([np.mean(data_DWT, axis=1).reshape(-1,1),\n",
        "                           np.std(data_DWT, axis=1).reshape(-1,1),\n",
        "                           np.max(data_DWT, axis=1).reshape(-1,1),\n",
        "                           np.min(data_DWT, axis=1).reshape(-1,1),\n",
        "                           ])\n",
        "\n",
        "    return {\n",
        "        \"TS\": np.hstack([data_X, stats_X]),\n",
        "        \"FFT\": np.hstack([data_FFT, stats_FFT]),\n",
        "        \"DWT\": np.hstack([data_DWT, stats_DWT]),\n",
        "        \"PAA\": np.hstack([X_paa, stats_PAA]),\n",
        "        \"SAX\": np.hstack([X_sax, stats_SAX])\n",
        "    }\n"
      ]
    },
    {
      "cell_type": "markdown",
      "metadata": {
        "id": "AP38ocldnp10"
      },
      "source": [
        "### Seleção do modelo extrator e modelo classificador"
      ]
    },
    {
      "cell_type": "code",
      "execution_count": 5,
      "metadata": {
        "id": "vaW30f6-np11"
      },
      "outputs": [],
      "source": [
        "@jit\n",
        "def select_model(option, random_state):\n",
        "    if option == '1nn':\n",
        "        return KNeighborsTimeSeriesClassifier(distance='euclidean', n_neighbors=1, n_jobs=-1)\n",
        "    elif option == '3nn':\n",
        "        return KNeighborsTimeSeriesClassifier(distance='dtw', n_neighbors=3, n_jobs=-1)\n",
        "    elif option == 'svm':\n",
        "        return SVC(C = 100, gamma=0.01, kernel='linear', probability=True)\n",
        "    elif option == 'gbc':\n",
        "        return GradientBoostingClassifier(n_estimators=5, random_state=random_state)\n",
        "    elif option == 'nb':\n",
        "        return GaussianNB()\n",
        "    elif option == 'shape':\n",
        "        return ShapeDTW(n_neighbors=1)\n",
        "    elif option == 'ee':\n",
        "        return ElasticEnsemble(n_jobs=-1,\n",
        "                               random_state=random_state,\n",
        "                               majority_vote=True)\n",
        "    elif option == 'exrf':\n",
        "        return ExtraTreesClassifier(n_estimators=200,\n",
        "                                    criterion=\"entropy\",\n",
        "                                    class_weight=\"balanced\",\n",
        "                                    max_features=\"sqrt\",\n",
        "                                    n_jobs=-1,\n",
        "                                    random_state=None)\n",
        "    elif option == 'rd':\n",
        "        return RidgeClassifierCV(alphas=np.logspace(-3, 3, 10))\n",
        "    else:\n",
        "        return RandomForestClassifier(n_estimators=200,\n",
        "                                      criterion=\"entropy\",\n",
        "                                      class_weight=\"balanced\",\n",
        "                                      max_features=\"sqrt\",\n",
        "                                      n_jobs=-1,\n",
        "                                      random_state=None)\n",
        "        #return RandomForestClassifier(n_estimators=100,random_state=random_state)"
      ]
    },
    {
      "cell_type": "markdown",
      "metadata": {
        "id": "5mNDe8USnp11"
      },
      "source": [
        "### Treino do modelos extrator e classificador"
      ]
    },
    {
      "cell_type": "code",
      "execution_count": 6,
      "metadata": {
        "colab": {
          "base_uri": "https://localhost:8080/",
          "height": 0
        },
        "id": "4sRNwBWAnp11",
        "outputId": "bb54d289-d593-4c48-ee95-ec2f5b6c8857"
      },
      "outputs": [
        {
          "data": {
            "text/plain": [
              "'@jit\\ndef train_with_meta_classifier(X_train, y_train, base_option=\\'random_forest\\', meta_option=\\'1nn\\', random_state=42):\\n    trained_models = {}  # Salvar modelos treinados para cada transformação\\n    best_model_indices = []\\n    best_probabilities = []\\n    X_train_transformed = transform_data_math(X_train)  # Transformar todo o conjunto de treino\\n    loo = LeaveOneOut()\\n\\n    # Treinar um modelo para cada transformação e salvar no dicionário\\n    for rep, X_trans in tqdm(X_train_transformed.items(), ascii=True, desc=\"Training Base Models\"):\\n        model = select_model(base_option, random_state)\\n        scores = []\\n        for train_index, _ in loo.split(X_trans):\\n            model.fit(X_trans[train_index], y_train[train_index])\\n            score = model.score(X_trans[train_index], y_train[train_index])  # Score do modelo nos dados de treino\\n            scores.append(score)\\n        avg_score = np.mean(scores)\\n        trained_models[rep] = (model, avg_score)  # Salvar o modelo treinado e a média dos scores\\n\\n    # Preparar dados para o meta-classificador\\n    meta_features = []\\n    for i in range(X_train.shape[0]):\\n        instance_features = []\\n        for rep, (model, _) in trained_models.items():\\n            proba = model.predict_proba(X_train_transformed[rep][i].reshape(1, -1))\\n            instance_features.extend(proba.flatten())  # Estender a lista com todas as probabilidades\\n\\n        meta_features.append(instance_features)\\n\\n        best_model_index = None\\n        best_accuracy = -1\\n\\n        # Iterar sobre os modelos treinados e suas respectivas probabilidades\\n        for rep, (model, _) in trained_models.items():\\n            proba = model.predict_proba(X_train_transformed[rep][i].reshape(1, -1))\\n            accuracy = np.max(proba)  # Calcula a precisão usando a probabilidade máxima\\n\\n            # Se a precisão desse modelo for a melhor até agora, armazene o índice do modelo e as probabilidades\\n            if accuracy > best_accuracy:\\n                best_accuracy = accuracy\\n                best_model_index = rep\\n                best_proba = proba.flatten()\\n\\n        # Adicione o índice do modelo que obteve a melhor precisão e as probabilidades correspondentes às listas\\n        best_model_indices.append(best_model_index)\\n        best_probabilities.append(best_proba)\\n\\n    # Converta as listas em arrays NumPy\\n    best_model_indices = np.array(best_model_indices)\\n    best_probabilities = np.array(best_probabilities)\\n\\n    # Crie uma lista para armazenar as meta_features usando apenas as melhores probabilidades\\n    best_meta_features = []\\n\\n    # Iterar sobre as melhores probabilidades para cada instância e adicionar apenas essas probabilidades às meta_features\\n    for i in range(len(best_probabilities)):\\n        best_meta_features.append(best_probabilities[i])\\n\\n    # Converta a lista em um array NumPy\\n    best_meta_features = np.array(best_meta_features)\\n\\n    meta_features = np.array(meta_features)\\n    np.savetxt(\"meta-features-train.csv\", meta_features, delimiter=\",\")\\n\\n    # Treinar o meta-classificador\\n    meta_classifier = select_model(meta_option, random_state)\\n    meta_classifier.fit(meta_features, y_train)\\n\\n    return trained_models, meta_classifier\\n'"
            ]
          },
          "execution_count": 6,
          "metadata": {},
          "output_type": "execute_result"
        }
      ],
      "source": [
        "\"\"\"@jit\n",
        "def train_with_meta_classifier(X_train, y_train, base_option='random_forest', meta_option='1nn', random_state=42):\n",
        "    trained_models = {}  # Salvar modelos treinados para cada transformação\n",
        "    best_model_indices = []\n",
        "    best_probabilities = []\n",
        "    X_train_transformed = transform_data_math(X_train)  # Transformar todo o conjunto de treino\n",
        "    loo = LeaveOneOut()\n",
        "\n",
        "    # Treinar um modelo para cada transformação e salvar no dicionário\n",
        "    for rep, X_trans in tqdm(X_train_transformed.items(), ascii=True, desc=\"Training Base Models\"):\n",
        "        model = select_model(base_option, random_state)\n",
        "        scores = []\n",
        "        for train_index, _ in loo.split(X_trans):\n",
        "            model.fit(X_trans[train_index], y_train[train_index])\n",
        "            score = model.score(X_trans[train_index], y_train[train_index])  # Score do modelo nos dados de treino\n",
        "            scores.append(score)\n",
        "        avg_score = np.mean(scores)\n",
        "        trained_models[rep] = (model, avg_score)  # Salvar o modelo treinado e a média dos scores\n",
        "\n",
        "    # Preparar dados para o meta-classificador\n",
        "    meta_features = []\n",
        "    for i in range(X_train.shape[0]):\n",
        "        instance_features = []\n",
        "        for rep, (model, _) in trained_models.items():\n",
        "            proba = model.predict_proba(X_train_transformed[rep][i].reshape(1, -1))\n",
        "            instance_features.extend(proba.flatten())  # Estender a lista com todas as probabilidades\n",
        "\n",
        "        meta_features.append(instance_features)\n",
        "\n",
        "        best_model_index = None\n",
        "        best_accuracy = -1\n",
        "\n",
        "        # Iterar sobre os modelos treinados e suas respectivas probabilidades\n",
        "        for rep, (model, _) in trained_models.items():\n",
        "            proba = model.predict_proba(X_train_transformed[rep][i].reshape(1, -1))\n",
        "            accuracy = np.max(proba)  # Calcula a precisão usando a probabilidade máxima\n",
        "\n",
        "            # Se a precisão desse modelo for a melhor até agora, armazene o índice do modelo e as probabilidades\n",
        "            if accuracy > best_accuracy:\n",
        "                best_accuracy = accuracy\n",
        "                best_model_index = rep\n",
        "                best_proba = proba.flatten()\n",
        "\n",
        "        # Adicione o índice do modelo que obteve a melhor precisão e as probabilidades correspondentes às listas\n",
        "        best_model_indices.append(best_model_index)\n",
        "        best_probabilities.append(best_proba)\n",
        "\n",
        "    # Converta as listas em arrays NumPy\n",
        "    best_model_indices = np.array(best_model_indices)\n",
        "    best_probabilities = np.array(best_probabilities)\n",
        "\n",
        "    # Crie uma lista para armazenar as meta_features usando apenas as melhores probabilidades\n",
        "    best_meta_features = []\n",
        "\n",
        "    # Iterar sobre as melhores probabilidades para cada instância e adicionar apenas essas probabilidades às meta_features\n",
        "    for i in range(len(best_probabilities)):\n",
        "        best_meta_features.append(best_probabilities[i])\n",
        "\n",
        "    # Converta a lista em um array NumPy\n",
        "    best_meta_features = np.array(best_meta_features)\n",
        "\n",
        "    meta_features = np.array(meta_features)\n",
        "    np.savetxt(\"meta-features-train.csv\", meta_features, delimiter=\",\")\n",
        "\n",
        "    # Treinar o meta-classificador\n",
        "    meta_classifier = select_model(meta_option, random_state)\n",
        "    meta_classifier.fit(meta_features, y_train)\n",
        "\n",
        "    return trained_models, meta_classifier\n",
        "\"\"\""
      ]
    },
    {
      "cell_type": "code",
      "execution_count": 7,
      "metadata": {
        "id": "wmiiKtQv8-W4"
      },
      "outputs": [],
      "source": [
        "@jit\n",
        "def train_with_meta_classifier(X_train, y_train, base_option='random_forest', meta_option='1nn', random_state=42):\n",
        "    trained_models = {}  # Salvar modelos treinados para cada transformação\n",
        "    X_train_transformed = transform_data_math(X_train)  # Transformar todo o conjunto de treino\n",
        "    loo = LeaveOneOut()\n",
        "    num_classes = len(np.unique(y_train))  # Número de classes\n",
        "\n",
        "    # Treinar um modelo para cada transformação e salvar no dicionário\n",
        "    for rep, X_trans in tqdm(X_train_transformed.items(), ascii=True, desc=\"Training Base Models\"):\n",
        "        model = select_model(base_option, random_state)\n",
        "        scores = []\n",
        "        for train_index, _ in loo.split(X_trans):\n",
        "            model.fit(X_trans[train_index], y_train[train_index])\n",
        "            score = model.score(X_trans[train_index], y_train[train_index])  # Score do modelo nos dados de treino\n",
        "            scores.append(score)\n",
        "        avg_score = np.mean(scores)\n",
        "        trained_models[rep] = model  # Salvar o modelo treinado\n",
        "\n",
        "    # Preparar dados para o meta-classificador\n",
        "    meta_features = np.zeros((X_train.shape[0], num_classes))  # Inicializar um vetor para armazenar as somas de probabilidades para cada classe\n",
        "    for i in range(X_train.shape[0]):\n",
        "        for rep, model in trained_models.items():\n",
        "            proba = model.predict_proba(X_train_transformed[rep][i].reshape(1, -1))\n",
        "            meta_features[i] += proba.flatten()  # Adicione as probabilidades para cada classe\n",
        "\n",
        "    # Treinar o meta-classificador\n",
        "    meta_classifier = select_model(meta_option, random_state)\n",
        "    meta_classifier.fit(meta_features, y_train)\n",
        "\n",
        "    return trained_models, meta_classifier\n"
      ]
    },
    {
      "cell_type": "markdown",
      "metadata": {
        "id": "e0z4yRoAnp11"
      },
      "source": [
        "### Predicao do meta-classificador"
      ]
    },
    {
      "cell_type": "code",
      "execution_count": 8,
      "metadata": {
        "id": "QUeeYrisnp12"
      },
      "outputs": [],
      "source": [
        "@jit\n",
        "def predict_with_meta_classifier(X_test, trained_base_models, trained_meta_classifier):\n",
        "    predictions = []\n",
        "    meta_features_test = []  # Inicialize uma lista para armazenar todos os meta-recursos dos dados de teste\n",
        "\n",
        "    for i in tqdm(range(len(X_test)), ascii=True, desc=\"Testing Instances\"):\n",
        "        x_instance = X_test[i].reshape(1, -1)\n",
        "        x_transformed = transform_data_math(x_instance)\n",
        "\n",
        "        instance_features = np.zeros(trained_meta_classifier.n_features_in_)  # Inicialize um vetor para armazenar as características do meta-classificador\n",
        "        for rep, model in trained_base_models.items():\n",
        "            proba = model.predict_proba(x_transformed[rep][0].reshape(1, -1))\n",
        "            instance_features += proba.flatten()  # Adicione as probabilidades para cada classe\n",
        "\n",
        "        meta_feature = np.array(instance_features).reshape(1, -1)\n",
        "        predictions.append(trained_meta_classifier.predict(meta_feature)[0])  # Adicionar a previsão à lista de previsões\n",
        "\n",
        "        meta_features_test.append(meta_feature.flatten())  # Adicionar meta-recursos da instância atual à lista\n",
        "\n",
        "    # Converter a lista de meta-recursos dos dados de teste em um array numpy\n",
        "    meta_features_test = np.array(meta_features_test)\n",
        "\n",
        "    # Salvar todos os meta-recursos dos dados de teste em um arquivo CSV\n",
        "    np.savetxt(\"meta-features-test.csv\", meta_features_test, delimiter=\",\")\n",
        "\n",
        "    return predictions\n"
      ]
    },
    {
      "cell_type": "markdown",
      "metadata": {
        "id": "jk7b562Qnp12"
      },
      "source": [
        "### Testando um único modelo - Random Forest como extrator e SVM como meta-classificador"
      ]
    },
    {
      "cell_type": "code",
      "execution_count": 9,
      "metadata": {
        "id": "4Lypnx1w70HV"
      },
      "outputs": [],
      "source": [
        "dataset_full_list = ['Earthquakes','CricketX','Haptics','EOGVerticalSignal','MixedShapesSmallTrain','Meat','SemgHandGenderCh2','ToeSegmentation2','NonInvasiveFetalECGThorax1','FreezerSmallTrain','OSULeaf','BirdChicken','HandOutlines','BeetleFly','ACSF1','DistalPhalanxOutlineAgeGroup','FreezerRegularTrain', 'NonInvasiveFetalECGThorax2']"
      ]
    },
    {
      "cell_type": "code",
      "execution_count": 10,
      "metadata": {
        "colab": {
          "base_uri": "https://localhost:8080/"
        },
        "id": "AFGKV11Rnp12",
        "outputId": "69e5f145-2736-4ca2-efbe-4678d1f562a5"
      },
      "outputs": [
        {
          "name": "stderr",
          "output_type": "stream",
          "text": [
            "Training Base Models: 100%|##########| 5/5 [08:28<00:00, 101.71s/it]\n",
            "Testing Instances: 100%|##########| 139/139 [00:22<00:00,  6.08it/s]\n"
          ]
        },
        {
          "name": "stdout",
          "output_type": "stream",
          "text": [
            "Acurácia Earthquakes: 0.7482014388489209\n"
          ]
        }
      ],
      "source": [
        "dataset_list = ['Adiac', 'Beef', 'Car', 'CBF', 'Coffee', 'DiatomSizeReduction', 'ECG200', 'ECGFiveDays', 'FaceFour','GunPoint', 'Lightning2', 'Lightning7', 'MoteStrain', 'OliveOil','MedicalImages', 'Trace', 'TwoPatterns']\n",
        "#finalizado 'Adiac', 'Beef', 'Car', 'CBF', 'Coffee', 'DiatomSizeReduction', 'ECG200', 'ECGFiveDays', 'FaceFour','GunPoint', 'Lightning2', 'Lightning7', 'MoteStrain', 'OliveOil','MedicalImages', 'Trace'\n",
        "# Para cada conjunto de dados na lista\n",
        "for dataset_name in dataset_full_list:\n",
        "    # Carregue os dados de treinamento e teste\n",
        "    X_train, y_train = load_classification(dataset_name, split=\"TRAIN\")\n",
        "    X_test, y_test = load_classification(dataset_name, split=\"test\")\n",
        "\n",
        "    # Achatando os dados para 2D, pois alguns algoritmos esperam 2D\n",
        "    X_train_flat = X_train.reshape(X_train.shape[0], -1)\n",
        "    X_test_flat = X_test.reshape(X_test.shape[0], -1)\n",
        "\n",
        "    dataset_accuracies = []\n",
        "    trained_base_models, meta_classifier = train_with_meta_classifier(X_train_flat, y_train, base_option='exrf', meta_option='rd')\n",
        "    predictions_test_meta = predict_with_meta_classifier(X_test_flat, trained_base_models, meta_classifier)\n",
        "    test_accuracy_meta = np.mean(predictions_test_meta == y_test)\n",
        "    dataset_accuracies.append(test_accuracy_meta)\n",
        "\n",
        "    print(f\"Acurácia {dataset_name}: {test_accuracy_meta}\")\n",
        "\n",
        "#np.savetxt(\"Results_MSLOO_.csv\", dataset_accuracies, delimiter=\",\")"
      ]
    },
    {
      "cell_type": "markdown",
      "metadata": {
        "id": "48vIj_NYnp14"
      },
      "source": [
        "### Gráfico das diferenças de dados"
      ]
    },
    {
      "cell_type": "code",
      "execution_count": null,
      "metadata": {
        "id": "gtbzTbNjnp14"
      },
      "outputs": [],
      "source": [
        "import matplotlib.pyplot as plt\n",
        "\n",
        "y1 = y_hat  # depois da transformação\n",
        "y2 = y_test\n",
        "\n",
        "z1 = y_hat_ #antes da transformação\n",
        "z2 = y_test\n",
        "\n",
        "#suavizar os dados do gráfico\n",
        "window_size = 15\n",
        "y1_smoothed = pd.Series(y1).rolling(window=window_size).mean()\n",
        "y2_smoothed = pd.Series(y2).rolling(window=window_size).mean()\n",
        "z1_smoothed = pd.Series(z1).rolling(window=window_size).mean()\n",
        "z2_smoothed = pd.Series(z2).rolling(window=window_size).mean()\n",
        "\n",
        "fig, axs = plt.subplots(nrows=1, ncols=2, figsize=(15, 5), layout='constrained')\n",
        "\n",
        "# Conjunto de validação do classificador\n",
        "axs[0].set_title('Antes da transformação')\n",
        "axs[0].plot(z1_smoothed, label='Treino')\n",
        "axs[0].plot(z2_smoothed, label='Teste')\n",
        "axs[0].set_xlabel('Tempo (s)')\n",
        "axs[0].set_ylabel('Treino')\n",
        "axs[0].grid(True)\n",
        "\n",
        "# Conjunto de validação do meta-classificador\n",
        "axs[1].set_title('Depois da transformação')\n",
        "axs[1].plot(y1_smoothed, label='Treino')\n",
        "axs[1].plot(y2_smoothed, label='Teste')\n",
        "axs[1].set_xlabel('Tempo (s)')\n",
        "axs[1].set_ylabel('Treino')\n",
        "axs[1].grid(True)\n",
        "\n",
        "plt.legend()\n",
        "plt.show()\n",
        "\n"
      ]
    },
    {
      "cell_type": "code",
      "execution_count": null,
      "metadata": {
        "id": "jRjM29_Xnp14"
      },
      "outputs": [],
      "source": [
        "w1 = y_hat  # meta-classificador\n",
        "w2 = y_hat_ #classificação\n",
        "\n",
        "# Suavizar os dados do gráfico\n",
        "window_size = 15\n",
        "w1_smoothed = pd.Series(w1).rolling(window=window_size).mean()\n",
        "w2_smoothed = pd.Series(w2).rolling(window=window_size).mean()\n",
        "\n",
        "# Plotar os dados\n",
        "plt.figure(figsize=(10, 6))\n",
        "plt.plot(w1_smoothed, label='w1 (Classificação usando meta-caracteristicas)')\n",
        "plt.plot(w2_smoothed, label='w2 (classificação utilizando dados brutos)')\n",
        "plt.xlabel('Tempo (s)')\n",
        "plt.ylabel('Valores suavizados')\n",
        "plt.title('Comparação entre os resultados de um SVM')\n",
        "plt.legend()\n",
        "plt.grid(True)\n",
        "plt.show()\n"
      ]
    },
    {
      "cell_type": "markdown",
      "metadata": {
        "id": "fBZ-XYnunp15"
      },
      "source": [
        "### Treino em loop de todas as opções de classificadores disponiveis no Select Model."
      ]
    },
    {
      "cell_type": "code",
      "execution_count": null,
      "metadata": {
        "id": "uOyRjuwQnp15"
      },
      "outputs": [],
      "source": [
        "algos = ['1nn', '3nn', 'svm', 'nb', 'gbc', 'ee', 'shape', 'rf', 'rd']\n",
        "for algo in algos:\n",
        "\n",
        "    print(f'Meta-classificador com modelo extrator {algo.upper()}')\n",
        "\n",
        "    # Training\n",
        "    try:\n",
        "        trained_base_models, meta_classifier = train_with_meta_classifier(X_train, y_train, base_option='svm', meta_option=algo)\n",
        "        # Testing\n",
        "        predictions_test_meta = predict_with_meta_classifier(X_test, trained_base_models, meta_classifier)\n",
        "        test_accuracy_meta = np.mean(predictions_test_meta == y_test)\n",
        "\n",
        "        print(f'Acurácia do teste usando o meta-classificador com modelo extrator {algo}: {test_accuracy_meta}')\n",
        "    except Exception as e:\n",
        "        print(f\"Ocorreu um erro no teste com o {algo}: {e}\")\n",
        "    print(\"-------------------------------\")"
      ]
    }
  ],
  "metadata": {
    "colab": {
      "collapsed_sections": [
        "w_wfxopCnp1x",
        "ctG_4yBOnp1z",
        "QuvAtr74np10",
        "AP38ocldnp10",
        "5mNDe8USnp11",
        "e0z4yRoAnp11",
        "jk7b562Qnp12",
        "48vIj_NYnp14",
        "fBZ-XYnunp15"
      ],
      "provenance": []
    },
    "kernelspec": {
      "display_name": "AM",
      "language": "python",
      "name": "python3"
    },
    "language_info": {
      "codemirror_mode": {
        "name": "ipython",
        "version": 3
      },
      "file_extension": ".py",
      "mimetype": "text/x-python",
      "name": "python",
      "nbconvert_exporter": "python",
      "pygments_lexer": "ipython3",
      "version": "3.11.8"
    }
  },
  "nbformat": 4,
  "nbformat_minor": 0
}
