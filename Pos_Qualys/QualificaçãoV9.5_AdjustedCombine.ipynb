{
 "cells": [
  {
   "cell_type": "markdown",
   "metadata": {
    "id": "w_wfxopCnp1x"
   },
   "source": [
    "### Bibliotecas"
   ]
  },
  {
   "cell_type": "code",
   "execution_count": 236,
   "metadata": {
    "colab": {
     "base_uri": "https://localhost:8080/"
    },
    "id": "l1AP99G_oHxu",
    "outputId": "73d44148-db3b-4584-e7e9-c0d331a5c87b"
   },
   "outputs": [
    {
     "data": {
      "text/plain": [
       "'\\n%pip install aeon\\n%pip install tsfresh\\n%pip install tslearn\\n%pip install tensorflow\\n%pip install keras\\n\\n'"
      ]
     },
     "execution_count": 236,
     "metadata": {},
     "output_type": "execute_result"
    }
   ],
   "source": [
    "\"\"\"\n",
    "%pip install aeon\n",
    "%pip install tsfresh\n",
    "%pip install tslearn\n",
    "%pip install tensorflow\n",
    "%pip install keras\n",
    "\n",
    "\"\"\""
   ]
  },
  {
   "cell_type": "code",
   "execution_count": 237,
   "metadata": {
    "id": "nuvyez8anp1y"
   },
   "outputs": [],
   "source": [
    "import pandas as pd\n",
    "import numpy as np\n",
    "\n",
    "from aeon.datasets import load_classification\n",
    "from aeon.datasets.tsc_data_lists import univariate_equal_length\n",
    "from aeon.classification.distance_based import KNeighborsTimeSeriesClassifier\n",
    "\n",
    "from tslearn.preprocessing import TimeSeriesScalerMeanVariance\n",
    "from tslearn.piecewise import PiecewiseAggregateApproximation, SymbolicAggregateApproximation\n",
    "\n",
    "import pywt\n",
    "\n",
    "from sklearn.model_selection import LeaveOneOut\n",
    "from sklearn.preprocessing import LabelEncoder\n",
    "from sklearn.svm import SVC\n",
    "from sklearn.linear_model import RidgeClassifierCV\n",
    "from sklearn.ensemble import RandomForestClassifier, GradientBoostingClassifier, ExtraTreesClassifier\n",
    "from sklearn.naive_bayes import GaussianNB\n",
    "\n",
    "from scipy.fftpack import fft\n",
    "from numba import jit\n",
    "from tqdm import tqdm\n",
    "import timeit\n",
    "from datetime import timedelta\n",
    "\n",
    "import warnings\n",
    "warnings.filterwarnings(\"ignore\")"
   ]
  },
  {
   "cell_type": "markdown",
   "metadata": {},
   "source": [
    "### Time Series Classifier Dynamic Series Representation"
   ]
  },
  {
   "cell_type": "code",
   "execution_count": 238,
   "metadata": {},
   "outputs": [],
   "source": [
    "class TimeSeriesClassifier:\n",
    "    def __init__(self, random_state=42):\n",
    "        self.random_state = random_state\n",
    "        self.trained_models = {}\n",
    "        \"\"\"_summary_\n",
    "\n",
    "        Returns:\n",
    "            _type_: _description_\n",
    "        \"\"\"\n",
    "    \n",
    "    @staticmethod  \n",
    "    def choose_wavelet(X):\n",
    "        min_variance = float('inf')\n",
    "        best_wavelet = None\n",
    "        candidate_wavelets = ['db1', 'db2', 'db3', 'db4', 'db5', 'db6', 'db7', 'db8', 'db9']\n",
    "\n",
    "        for wavelet_type in candidate_wavelets:\n",
    "            _, coeffs_cD = pywt.dwt(X, wavelet_type, axis=1)\n",
    "            total_variance = np.var(coeffs_cD)\n",
    "\n",
    "            if total_variance < min_variance:\n",
    "                min_variance = total_variance\n",
    "                best_wavelet = wavelet_type\n",
    "        return str(best_wavelet)\n",
    "\n",
    "\n",
    "    @staticmethod\n",
    "    def transform_data_math(X, wavelet):\n",
    "        n_sax_symbols = int(X.shape[1] / 4)\n",
    "        n_paa_segments = int(X.shape[1] / 4)\n",
    "\n",
    "        X_fft = np.abs(fft(X, axis=1))\n",
    "\n",
    "        coeffs_cA, coeffs_cD = pywt.dwt(X, wavelet=wavelet, axis=1, mode='constant')\n",
    "        X_dwt = np.hstack((coeffs_cA, coeffs_cD))\n",
    "\n",
    "        paa = PiecewiseAggregateApproximation(n_segments=n_paa_segments)\n",
    "        X_paa_ = paa.inverse_transform(paa.fit_transform(X))\n",
    "        X_paa = X_paa_.reshape(X_paa_.shape[0], -1)\n",
    "        stats_PAA = np.hstack([np.mean(X_paa, axis=1).reshape(-1,1),\n",
    "                           np.std(X_paa, axis=1).reshape(-1,1),\n",
    "                           np.max(X_paa, axis=1).reshape(-1,1),\n",
    "                           np.min(X_paa, axis=1).reshape(-1,1),\n",
    "                           ])\n",
    "\n",
    "        sax = SymbolicAggregateApproximation(n_segments=n_paa_segments, alphabet_size_avg=n_sax_symbols)\n",
    "        X_sax_ = sax.inverse_transform(sax.fit_transform(X))\n",
    "        X_sax = X_sax_.reshape(X_sax_.shape[0], -1)\n",
    "        stats_SAX = np.hstack([np.mean(X_sax, axis=1).reshape(-1,1),\n",
    "                           np.std(X_sax, axis=1).reshape(-1,1),\n",
    "                           np.max(X_sax, axis=1).reshape(-1,1),\n",
    "                           np.min(X_sax, axis=1).reshape(-1,1),\n",
    "                           ])\n",
    "\n",
    "        data_X = TimeSeriesScalerMeanVariance().fit_transform(X)\n",
    "        data_X.resize(data_X.shape[0], data_X.shape[1])\n",
    "        stats_X = np.hstack([np.mean(data_X, axis=1).reshape(-1,1),\n",
    "                         np.std(data_X, axis=1).reshape(-1,1),\n",
    "                         np.max(data_X, axis=1).reshape(-1,1),\n",
    "                         np.min(data_X, axis=1).reshape(-1,1),\n",
    "                         ])\n",
    "\n",
    "        data_FFT = TimeSeriesScalerMeanVariance().fit_transform(X_fft)\n",
    "        data_FFT.resize(data_FFT.shape[0], data_FFT.shape[1])\n",
    "        stats_FFT = np.hstack([np.mean(data_FFT, axis=1).reshape(-1,1),\n",
    "                           np.std(data_FFT, axis=1).reshape(-1,1),\n",
    "                           np.max(data_FFT, axis=1).reshape(-1,1),\n",
    "                           np.min(data_FFT, axis=1).reshape(-1,1),\n",
    "                           ])\n",
    "\n",
    "        data_DWT = TimeSeriesScalerMeanVariance().fit_transform(X_dwt)\n",
    "        data_DWT.resize(data_DWT.shape[0], data_DWT.shape[1])\n",
    "        stats_DWT = np.hstack([np.mean(data_DWT, axis=1).reshape(-1,1),\n",
    "                           np.std(data_DWT, axis=1).reshape(-1,1),\n",
    "                           np.max(data_DWT, axis=1).reshape(-1,1),\n",
    "                           np.min(data_DWT, axis=1).reshape(-1,1),\n",
    "                           ])\n",
    "\n",
    "        return {\n",
    "            \"TS\": np.hstack([data_X, stats_X]),\n",
    "            \"FFT\": np.hstack([data_FFT, stats_FFT]),\n",
    "            \"DWT\": np.hstack([data_DWT, stats_DWT]),\n",
    "            \"PAA\": np.hstack([X_paa, stats_PAA]),\n",
    "            \"SAX\": np.hstack([X_sax, stats_SAX])\n",
    "        }\n",
    "\n",
    "    \n",
    "    @staticmethod\n",
    "    def select_model(option, random_state):\n",
    "        if option == '1nn':\n",
    "            return KNeighborsTimeSeriesClassifier(distance='euclidean', n_neighbors=1, n_jobs=-1)\n",
    "        elif option == '3nn':\n",
    "            return KNeighborsTimeSeriesClassifier(distance='dtw', n_neighbors=3, n_jobs=-1)\n",
    "        elif option == 'svm':\n",
    "            return SVC(C = 100, gamma=0.01, kernel='linear', probability=True)\n",
    "        elif option == 'gbc':\n",
    "            return GradientBoostingClassifier(n_estimators=5, random_state=random_state)\n",
    "        elif option == 'nb':\n",
    "            return GaussianNB()\n",
    "        elif option == 'exrf':\n",
    "            return ExtraTreesClassifier(n_estimators=200, criterion=\"entropy\", bootstrap=True, max_features=\"sqrt\", oob_score=True, n_jobs=-1, random_state=None)\n",
    "        elif option == 'rd':\n",
    "            return RidgeClassifierCV(alphas=np.logspace(-3, 3, 10))\n",
    "        else:\n",
    "            return RandomForestClassifier(n_estimators=200, criterion=\"gini\", max_features=\"sqrt\", n_jobs=-1, random_state=None)\n",
    "    \n",
    "    @jit\n",
    "    def train_with_meta_classifier(X_train, y_train, base_option='random_forest', meta_option='1nn', random_state=42, wavelet=None):\n",
    "        trained_models = {}  # Salvar modelos treinados para cada transformação\n",
    "        X_train_transformed = TimeSeriesClassifier.transform_data_math(X_train, wavelet)  # Transformar todo o conjunto de treino\n",
    "        loo = LeaveOneOut()\n",
    "\n",
    "    # Treinar um modelo para cada transformação e salvar no dicionário\n",
    "        for rep, X_trans in tqdm(X_train_transformed.items(), ascii=True, desc=\"Training Models\", colour='red'):\n",
    "            model = TimeSeriesClassifier.select_model(base_option, random_state)\n",
    "            for train_index, _ in loo.split(X_trans):\n",
    "                model.fit(X_trans[train_index], y_train[train_index])\n",
    "            trained_models[rep] = model  # Salvar o modelo treinado\n",
    "\n",
    "        # Preparar dados para o meta-classificador\n",
    "        meta_features = []  # Inicializar um vetor para armazenar as somas de probabilidades para cada classe\n",
    "        for i in range(0, X_train.shape[0]):\n",
    "            for rep, model in trained_models.items():\n",
    "                proba = model.predict_proba(X_train_transformed[rep][i].reshape(1, -1))\n",
    "                proba /= np.sum(proba)\n",
    "            meta_features.append(proba.flatten())  # Adicione as probabilidades para cada classe\n",
    "\n",
    "        # Treinar o meta-classificador\n",
    "        meta_classifier = TimeSeriesClassifier.select_model(meta_option, random_state)\n",
    "        meta_classifier.fit(meta_features, y_train)\n",
    "\n",
    "        return trained_models, meta_classifier\n",
    "    \n",
    "    @jit\n",
    "    def predict_with_meta_classifier(X_test, trained_base_models, trained_meta_classifier, wavelet=None):\n",
    "        predictions = []\n",
    "        meta_features_test = []  # Inicialize uma lista para armazenar todos os meta-recursos dos dados de teste\n",
    "\n",
    "        for i in tqdm(range(len(X_test)), ascii=True, desc=\"Testing Instances\"):\n",
    "            x_instance = X_test[i].reshape(1, -1)\n",
    "            x_transformed = TimeSeriesClassifier.transform_data_math(x_instance, wavelet)\n",
    "\n",
    "            instance_features = []\n",
    "            for rep, (model, _) in trained_base_models.items():  # Ajuste para percorrer os modelos treinados e os scores médios\n",
    "                proba = model.predict_proba(x_transformed[rep][0].reshape(1, -1))  # Ajuste aqui para pegar o primeiro elemento\n",
    "                instance_features.extend(proba.flatten())  # Estender a lista com todas as probabilidades\n",
    "\n",
    "            meta_feature = np.array(instance_features).reshape(1, -1)\n",
    "            predictions.append(trained_meta_classifier.predict(meta_feature)[0])  # Adicionar a previsão à lista de previsões\n",
    "\n",
    "            meta_features_test.append(meta_feature.flatten())  # Adicionar meta-recursos da instância atual à lista\n",
    "\n",
    "    # Converter a lista de meta-recursos dos dados de teste em um array numpy\n",
    "        meta_features_test = np.array(meta_features_test)\n",
    "\n",
    "    # Salvar todos os meta-recursos dos dados de teste em um arquivo CSV\n",
    "        np.savetxt(\"meta-features-test.csv\", meta_features_test, delimiter=\",\")\n",
    "\n",
    "        return predictions\n",
    "\n"
   ]
  },
  {
   "cell_type": "markdown",
   "metadata": {
    "id": "jk7b562Qnp12"
   },
   "source": [
    "### Testando um único modelo - Random Forest como extrator e SVM como meta-classificador"
   ]
  },
  {
   "cell_type": "code",
   "execution_count": 239,
   "metadata": {},
   "outputs": [],
   "source": [
    "dataset_quali_list = [ 'Beef', 'Car', 'CBF', 'Coffee', 'DiatomSizeReduction', 'ECG200', 'ECGFiveDays', 'FaceFour','GunPoint', 'Lightning2', 'Lightning7', 'MedicalImages', 'MoteStrain', 'OliveOil', 'SonyAIBORobotSurface1','SonyAIBORobotSurface2', 'SyntheticControl', 'Trace', 'TwoPatterns']\n",
    "dataset_full_list = ['MixedShapesRegularTrain','SmallKitchenAppliances','ProximalPhalanxOutlineCorrect','WordSynonyms', 'RefrigerationDevices','CinCECGTorso','ChlorineConcentration','ToeSegmentation1','TwoLeadECG','ProximalPhalanxTW','WormsTwoClass','DistalPhalanxOutlineCorrect','InsectWingbeatSound','NonInvasiveFetalECGThorax2','CricketX','Haptics','EOGVerticalSignal','MixedShapesSmallTrain','SemgHandGenderCh2','ToeSegmentation2','NonInvasiveFetalECGThorax1','FreezerSmallTrain','OSULeaf','HandOutlines','DistalPhalanxOutlineAgeGroup','FreezerRegularTrain']\n",
    "rapidos = ['SwedishLeaf', 'ProximalPhalanxOutlineAgeGroup', 'GunPointOldVersusYoung', 'Wine', 'Yoga', 'ArrowHead', 'InsectEPGSmallTrain','PowerCons','InsectEPGRegularTrain','GunPointMaleVersusFemale','ItalyPowerDemand','BME','Meat','Earthquakes','BirdChicken','BeetleFly','ACSF1']\n",
    "problematicos = ['Crop','EthanolLevel','ElectricDevices','FordB','ShapesAll','StarLightCurves','Phoneme', 'Computers','InlineSkate','PigAirwayPressure', 'PigCVP','FordA','MedicalImages','PigArtPressure', 'UWaveGestureLibraryX','UWaveGestureLibraryY', 'UWaveGestureLibraryZ', 'UWaveGestureLibraryAll', 'TwoPatterns']"
   ]
  },
  {
   "cell_type": "code",
   "execution_count": 240,
   "metadata": {},
   "outputs": [],
   "source": [
    "data_unique = ['CBF']"
   ]
  },
  {
   "cell_type": "code",
   "execution_count": 241,
   "metadata": {
    "colab": {
     "base_uri": "https://localhost:8080/"
    },
    "id": "AFGKV11Rnp12",
    "outputId": "69e5f145-2736-4ca2-efbe-4678d1f562a5"
   },
   "outputs": [
    {
     "name": "stderr",
     "output_type": "stream",
     "text": [
      "\n",
      "\u001b[A\n",
      "\u001b[A\n",
      "\u001b[A\n",
      "\u001b[A\n",
      "\u001b[A\n",
      "Training Models: 100%|\u001b[31m##########\u001b[0m| 5/5 [01:28<00:00, 17.80s/it]\n",
      "\n",
      "\u001b[A"
     ]
    },
    {
     "ename": "ValueError",
     "evalue": "",
     "output_type": "error",
     "traceback": [
      "\u001b[1;31m---------------------------------------------------------------------------\u001b[0m",
      "\u001b[1;31mValueError\u001b[0m                                Traceback (most recent call last)",
      "Cell \u001b[1;32mIn[241], line 16\u001b[0m\n\u001b[0;32m     14\u001b[0m dataset_accuracies \u001b[38;5;241m=\u001b[39m []\n\u001b[0;32m     15\u001b[0m trained_base_models, meta_classifier \u001b[38;5;241m=\u001b[39m TimeSeriesClassifier\u001b[38;5;241m.\u001b[39mtrain_with_meta_classifier(X_train_flat, y_train, base_option\u001b[38;5;241m=\u001b[39m\u001b[38;5;124m'\u001b[39m\u001b[38;5;124mexrf\u001b[39m\u001b[38;5;124m'\u001b[39m, meta_option\u001b[38;5;241m=\u001b[39m\u001b[38;5;124m'\u001b[39m\u001b[38;5;124mrd\u001b[39m\u001b[38;5;124m'\u001b[39m, wavelet\u001b[38;5;241m=\u001b[39mbest_wavelet_train)\n\u001b[1;32m---> 16\u001b[0m predictions_test_meta \u001b[38;5;241m=\u001b[39m TimeSeriesClassifier\u001b[38;5;241m.\u001b[39mpredict_with_meta_classifier(X_test_flat, trained_base_models, meta_classifier, wavelet\u001b[38;5;241m=\u001b[39mbest_wavelet_test)\n\u001b[0;32m     17\u001b[0m test_accuracy_meta \u001b[38;5;241m=\u001b[39m np\u001b[38;5;241m.\u001b[39mmean(predictions_test_meta \u001b[38;5;241m==\u001b[39m y_test)\n\u001b[0;32m     18\u001b[0m dataset_accuracies\u001b[38;5;241m.\u001b[39mappend(test_accuracy_meta)\n",
      "\u001b[1;31mValueError\u001b[0m: "
     ]
    }
   ],
   "source": [
    "accuracy_data = []\n",
    "\n",
    "for dataset_name in data_unique:\n",
    "    X_train, y_train = load_classification(dataset_name, split=\"TRAIN\")\n",
    "    X_test, y_test = load_classification(dataset_name, split=\"test\")\n",
    "    \n",
    "    # Achatando os dados para 2D, pois alguns algoritmos esperam 2D\n",
    "    X_train_flat = X_train.reshape(X_train.shape[0], -1)\n",
    "    X_test_flat = X_test.reshape(X_test.shape[0], -1)\n",
    "    \n",
    "    best_wavelet_train = TimeSeriesClassifier.choose_wavelet(X_train_flat)\n",
    "    best_wavelet_test = TimeSeriesClassifier.choose_wavelet(X_test_flat)\n",
    "    \n",
    "    dataset_accuracies = []\n",
    "    trained_base_models, meta_classifier = TimeSeriesClassifier.train_with_meta_classifier(X_train_flat, y_train, base_option='exrf', meta_option='rd', wavelet=best_wavelet_train)\n",
    "    predictions_test_meta = TimeSeriesClassifier.predict_with_meta_classifier(X_test_flat, trained_base_models, meta_classifier, wavelet=best_wavelet_test)\n",
    "    test_accuracy_meta = np.mean(predictions_test_meta == y_test)\n",
    "    dataset_accuracies.append(test_accuracy_meta)\n",
    "\n",
    "    print(f\"Acurácia {dataset_name}: {test_accuracy_meta}\")\n",
    "    accuracy_data.append({'Dataset Name': dataset_name, 'Accuracy': test_accuracy_meta})\n",
    "\n",
    "accuracy_df = pd.DataFrame(accuracy_data)"
   ]
  },
  {
   "cell_type": "code",
   "execution_count": null,
   "metadata": {},
   "outputs": [],
   "source": [
    "def print_grouped(df, group_size=5):\n",
    "    for i, group in df.groupby(np.arange(len(df)) // group_size):\n",
    "        display(group)"
   ]
  },
  {
   "cell_type": "code",
   "execution_count": null,
   "metadata": {},
   "outputs": [],
   "source": [
    "print_grouped(accuracy_df)"
   ]
  },
  {
   "cell_type": "code",
   "execution_count": null,
   "metadata": {},
   "outputs": [],
   "source": [
    "accuracy_df.to_csv('Model_RD_EXRFOOBWAVELT_.csv', index=False)"
   ]
  }
 ],
 "metadata": {
  "colab": {
   "collapsed_sections": [
    "w_wfxopCnp1x",
    "ctG_4yBOnp1z",
    "QuvAtr74np10",
    "AP38ocldnp10",
    "5mNDe8USnp11",
    "e0z4yRoAnp11",
    "jk7b562Qnp12",
    "48vIj_NYnp14",
    "fBZ-XYnunp15"
   ],
   "provenance": []
  },
  "kernelspec": {
   "display_name": "Python 3 (ipykernel)",
   "language": "python",
   "name": "python3"
  },
  "language_info": {
   "codemirror_mode": {
    "name": "ipython",
    "version": 3
   },
   "file_extension": ".py",
   "mimetype": "text/x-python",
   "name": "python",
   "nbconvert_exporter": "python",
   "pygments_lexer": "ipython3",
   "version": "3.11.8"
  }
 },
 "nbformat": 4,
 "nbformat_minor": 1
}
