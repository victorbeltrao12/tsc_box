{
 "cells": [
  {
   "cell_type": "markdown",
   "metadata": {},
   "source": [
    "### Bibliotecas"
   ]
  },
  {
   "cell_type": "code",
   "execution_count": 1,
   "metadata": {},
   "outputs": [
    {
     "name": "stderr",
     "output_type": "stream",
     "text": [
      "d:\\Programas\\Anaconda\\envs\\AM_MSC_Kedro\\Lib\\site-packages\\pandas\\core\\arrays\\masked.py:60: UserWarning: Pandas requires version '1.3.6' or newer of 'bottleneck' (version '1.3.5' currently installed).\n",
      "  from pandas.core import (\n"
     ]
    }
   ],
   "source": [
    "import pandas as pd\n",
    "import numpy as np\n",
    "import scipy\n",
    "from scipy.fftpack import fft\n",
    "from scipy.stats import norm\n",
    "import pywt\n",
    "import aeon\n",
    "from aeon.classification.distance_based import KNeighborsTimeSeriesClassifier\n",
    "import sklearn\n",
    "from sklearn import svm\n",
    "from sklearn.ensemble import RandomForestClassifier, GradientBoostingClassifier\n",
    "from sklearn.naive_bayes import GaussianNB\n",
    "import xgboost as xgb\n",
    "#from sklearn.model_selection import LeaveOneOut\n",
    "from tqdm import tqdm\n",
    "\n",
    "#SAX e DWT grindSearch\n",
    "from sklearn.model_selection import GridSearchCV\n",
    "from sklearn.pipeline import Pipeline\n",
    "from sklearn.base import BaseEstimator, TransformerMixin\n"
   ]
  },
  {
   "cell_type": "markdown",
   "metadata": {},
   "source": [
    "### Dados"
   ]
  },
  {
   "cell_type": "code",
   "execution_count": 366,
   "metadata": {},
   "outputs": [],
   "source": [
    "try:\n",
    "    train_data = pd.read_parquet('MSC\\CSV_Dissertação\\Parquet_Dissertacao\\Car_TRAIN.parquet')\n",
    "    test_data = pd.read_parquet('MSC\\CSV_Dissertação\\Parquet_Dissertacao\\Car_TEST.parquet')\n",
    "except FileNotFoundError:\n",
    "    print(\"Ensure the Parquet files are in the correct path.\")\n",
    "    raise"
   ]
  },
  {
   "cell_type": "code",
   "execution_count": 367,
   "metadata": {},
   "outputs": [],
   "source": [
    "X_train = train_data.drop('target', axis=1).values\n",
    "y_train = train_data['target'].values\n",
    "\n",
    "X_test = test_data.drop('target', axis=1).values\n",
    "y_test = test_data['target'].values"
   ]
  },
  {
   "cell_type": "markdown",
   "metadata": {},
   "source": [
    "### Função de transformação dos dados."
   ]
  },
  {
   "cell_type": "code",
   "execution_count": 368,
   "metadata": {},
   "outputs": [],
   "source": [
    "def sax_transform(series, w, a):\n",
    "    paa = [series[i:i + w].mean() for i in range(0, len(series), w)]\n",
    "    \n",
    "    if np.std(paa) != 0:\n",
    "        paa = (paa - np.mean(paa)) / np.std(paa)\n",
    "    else:\n",
    "        paa = paa - np.mean(paa)\n",
    "    \n",
    "    breakpoints = norm.ppf(np.linspace(0, 1, a+1)[1:-1])\n",
    "    sax_symbols = np.array(range(a))\n",
    "    sax_representation = sax_symbols[np.digitize(paa, breakpoints)]\n",
    "    \n",
    "    return sax_representation\n",
    "\n",
    "def transform_data(X, num_features=20):\n",
    "    a = 3\n",
    "    w = int(X.shape[1] / num_features)  # Ajuste do tamanho da janela baseado no número de características desejado\n",
    "    \n",
    "    X_sax = np.array([sax_transform(row, w, a) for row in X])\n",
    "    X_fft = np.abs(fft(X, axis=1))\n",
    "    \n",
    "    coeffs_cA, coeffs_cD = pywt.dwt(X, 'db4', axis=1)\n",
    "    X_dwt = np.hstack((coeffs_cA, coeffs_cD))\n",
    "    \n",
    "    X_paa = np.column_stack([X[:, i:i+2].mean(axis=1) for i in range(0, X.shape[1], 2)])\n",
    "\n",
    "    return {\n",
    "        \"TS\": X,\n",
    "        \"FFT\": X_fft,\n",
    "        \"DWT\": X_dwt,\n",
    "        \"PAA\": X_paa,\n",
    "        \"SAX\": X_sax\n",
    "    }"
   ]
  },
  {
   "cell_type": "markdown",
   "metadata": {},
   "source": [
    "### Seleção do modelo extrator e modelo classificador"
   ]
  },
  {
   "cell_type": "code",
   "execution_count": 369,
   "metadata": {},
   "outputs": [],
   "source": [
    "def select_model(option, random_state):\n",
    "    if option == '1nn':\n",
    "        return KNeighborsTimeSeriesClassifier(distance='euclidean', n_neighbors=1)\n",
    "    elif option == '5nn':\n",
    "        return KNeighborsTimeSeriesClassifier(distance='dtw', n_neighbors=1)\n",
    "    elif option == 'svm':\n",
    "        return svm.SVC(C=100, gamma=0.01, kernel='rbf', probability=True)\n",
    "    elif option == 'gbc':\n",
    "        return GradientBoostingClassifier(n_estimators=100, random_state=random_state)\n",
    "    elif option == 'nb':\n",
    "        return GaussianNB()\n",
    "    elif option == 'xgb':\n",
    "        return xgb.XGBClassifier(random_state=random_state)\n",
    "    else:\n",
    "        return RandomForestClassifier(n_estimators=100,random_state=random_state)"
   ]
  },
  {
   "cell_type": "markdown",
   "metadata": {},
   "source": [
    "### Treino do modelos extrator e classificador"
   ]
  },
  {
   "cell_type": "code",
   "execution_count": 371,
   "metadata": {},
   "outputs": [],
   "source": [
    "def train_with_meta_classifier(X_train, y_train, base_option='random_forest', meta_option='1nn', random_state=42):\n",
    "    trained_models = {}  # Salvar modelos treinados para cada transformação\n",
    "    \n",
    "    X_train_transformed = transform_data(X_train)  # Transformar todo o conjunto de treino\n",
    "\n",
    "    # Treinar um modelo para cada transformação e salvar no dicionário\n",
    "    for rep, X_trans in tqdm(X_train_transformed.items(), ascii=True, desc=\"Training Base Models\"):\n",
    "        model = select_model(base_option, random_state)\n",
    "        model.fit(X_trans, y_train)\n",
    "        trained_models[rep] = model\n",
    "        \n",
    "    # Preparar dados para o meta-classificador\n",
    "    meta_features = []\n",
    "    for i in range(X_train.shape[0]):\n",
    "        instance_features = []\n",
    "        for rep, model in trained_models.items():\n",
    "            proba = model.predict_proba(X_train_transformed[rep][i].reshape(1, -1))\n",
    "            instance_features.extend(proba.flatten())  # Estender a lista com todas as probabilidades\n",
    "        meta_features.append(instance_features)\n",
    "    \n",
    "    meta_features = np.array(meta_features)\n",
    "    np.savetxt(\"meta-features-train.csv\", meta_features, delimiter=\",\")\n",
    "    \n",
    "    # Treinar o meta-classificador\n",
    "    meta_classifier = select_model(meta_option, random_state)\n",
    "    meta_classifier.fit(meta_features, y_train)\n",
    "    \n",
    "    return trained_models, meta_classifier"
   ]
  },
  {
   "cell_type": "markdown",
   "metadata": {},
   "source": [
    "### Predicao do meta-classificador"
   ]
  },
  {
   "cell_type": "code",
   "execution_count": 372,
   "metadata": {},
   "outputs": [],
   "source": [
    "def predict_with_meta_classifier(X_test, trained_base_models, trained_meta_classifier):\n",
    "    predictions = []\n",
    "    meta_features_test = []  # Inicialize uma lista para armazenar todos os meta-recursos dos dados de teste\n",
    "    \n",
    "    for i in tqdm(range(len(X_test)), ascii=True, desc=\"Testing Instances\"):\n",
    "        x_instance = X_test[i].reshape(1, -1)\n",
    "        x_transformed = transform_data(x_instance)\n",
    "        \n",
    "        instance_features = []\n",
    "        for rep, model in trained_base_models.items():\n",
    "            proba = model.predict_proba(x_transformed[rep][0].reshape(1, -1))  # Ajuste aqui para pegar o primeiro elemento\n",
    "            instance_features.extend(proba.flatten())  # Estender a lista com todas as probabilidades\n",
    "        \n",
    "        meta_feature = np.array(instance_features).reshape(1, -1)\n",
    "        predictions.append(trained_meta_classifier.predict(meta_feature)[0])  # Adicionar a previsão à lista de previsões\n",
    "        \n",
    "        meta_features_test.append(meta_feature.flatten())  # Adicionar meta-recursos da instância atual à lista\n",
    "    \n",
    "    # Converter a lista de meta-recursos dos dados de teste em um array numpy\n",
    "    meta_features_test = np.array(meta_features_test)\n",
    "\n",
    "    # Salvar todos os meta-recursos dos dados de teste em um arquivo CSV\n",
    "    np.savetxt(\"meta-features-test.csv\", meta_features_test, delimiter=\",\")\n",
    "    \n",
    "    return predictions\n"
   ]
  },
  {
   "cell_type": "markdown",
   "metadata": {},
   "source": [
    "### Testando um único modelo - Random Forest como extrator e SVM como meta-classificador"
   ]
  },
  {
   "cell_type": "code",
   "execution_count": 396,
   "metadata": {},
   "outputs": [
    {
     "name": "stderr",
     "output_type": "stream",
     "text": [
      "Training Base Models: 100%|##########| 5/5 [00:01<00:00,  2.67it/s]\n"
     ]
    },
    {
     "ename": "TypeError",
     "evalue": "predict_with_meta_classifier() missing 2 required positional arguments: 'X_train_transformed' and 'y_train'",
     "output_type": "error",
     "traceback": [
      "\u001b[1;31m---------------------------------------------------------------------------\u001b[0m",
      "\u001b[1;31mTypeError\u001b[0m                                 Traceback (most recent call last)",
      "Cell \u001b[1;32mIn[396], line 5\u001b[0m\n\u001b[0;32m      2\u001b[0m trained_base_models, meta_classifier \u001b[38;5;241m=\u001b[39m train_with_meta_classifier(X_train, y_train, base_option\u001b[38;5;241m=\u001b[39m\u001b[38;5;124m'\u001b[39m\u001b[38;5;124mrandom_forest\u001b[39m\u001b[38;5;124m'\u001b[39m, meta_option\u001b[38;5;241m=\u001b[39m\u001b[38;5;124m'\u001b[39m\u001b[38;5;124msvm\u001b[39m\u001b[38;5;124m'\u001b[39m, random_state\u001b[38;5;241m=\u001b[39m\u001b[38;5;241m42\u001b[39m)\n\u001b[0;32m      4\u001b[0m \u001b[38;5;66;03m# Teste\u001b[39;00m\n\u001b[1;32m----> 5\u001b[0m predictions_test_meta \u001b[38;5;241m=\u001b[39m predict_with_meta_classifier(X_test, trained_base_models, meta_classifier)\n\u001b[0;32m      7\u001b[0m \u001b[38;5;66;03m# Resultado\u001b[39;00m\n\u001b[0;32m      8\u001b[0m test_accuracy_meta \u001b[38;5;241m=\u001b[39m np\u001b[38;5;241m.\u001b[39mmean(predictions_test_meta \u001b[38;5;241m==\u001b[39m y_test)\n",
      "\u001b[1;31mTypeError\u001b[0m: predict_with_meta_classifier() missing 2 required positional arguments: 'X_train_transformed' and 'y_train'"
     ]
    }
   ],
   "source": [
    "# Treino\n",
    "trained_base_models, meta_classifier = train_with_meta_classifier(X_train, y_train, base_option='random_forest', meta_option='svm', random_state=42)\n",
    "\n",
    "# Teste\n",
    "predictions_test_meta = predict_with_meta_classifier(X_test, trained_base_models, meta_classifier)\n",
    "\n",
    "# Resultado\n",
    "test_accuracy_meta = np.mean(predictions_test_meta == y_test)\n",
    "\n",
    "print(f'Accuracy: {test_accuracy_meta}')"
   ]
  },
  {
   "cell_type": "markdown",
   "metadata": {},
   "source": [
    "### Testando um único modelo - SVM como extrator e meta-classificador"
   ]
  },
  {
   "cell_type": "code",
   "execution_count": 374,
   "metadata": {},
   "outputs": [
    {
     "name": "stderr",
     "output_type": "stream",
     "text": [
      "Training Base Models: 100%|##########| 5/5 [00:00<00:00, 76.67it/s]\n",
      "Testing Instances: 100%|##########| 60/60 [00:00<00:00, 185.51it/s]"
     ]
    },
    {
     "name": "stdout",
     "output_type": "stream",
     "text": [
      "Accuracy: 0.8666666666666667\n"
     ]
    },
    {
     "name": "stderr",
     "output_type": "stream",
     "text": [
      "\n"
     ]
    }
   ],
   "source": [
    "# Treino\n",
    "trained_base_models, meta_classifier = train_with_meta_classifier(X_train, y_train, base_option='svm', meta_option='svm', random_state=42)\n",
    "\n",
    "# Teste\n",
    "predictions_test_meta = predict_with_meta_classifier(X_test, trained_base_models, meta_classifier)\n",
    "\n",
    "# Resultado\n",
    "test_accuracy_meta = np.mean(predictions_test_meta == y_test)\n",
    "print(f'Accuracy: {test_accuracy_meta}')"
   ]
  },
  {
   "cell_type": "code",
   "execution_count": 377,
   "metadata": {},
   "outputs": [
    {
     "name": "stdout",
     "output_type": "stream",
     "text": [
      "accuracy: 0.48333333333333334\n"
     ]
    }
   ],
   "source": [
    "#Teste utilizando o classificador KNN\n",
    "caract = np.loadtxt(\"meta-features-train.csv\", delimiter=\",\")\n",
    "val = np.loadtxt(\"meta-features-test.csv\", delimiter=\",\")\n",
    "\n",
    "clf = KNeighborsTimeSeriesClassifier(n_neighbors=1, distance=\"dtw\")\n",
    "clf.fit(caract, y_train)\n",
    "y_hat = clf.predict(val)\n",
    "test_accuracy_meta = np.mean(y_hat == y_test)\n",
    "print(f\"accuracy: {test_accuracy_meta}\")"
   ]
  },
  {
   "cell_type": "code",
   "execution_count": 395,
   "metadata": {},
   "outputs": [
    {
     "name": "stdout",
     "output_type": "stream",
     "text": [
      "errou\n"
     ]
    }
   ],
   "source": [
    "representation = clf.predict(val)\n",
    "if representation[0] == 0:\n",
    "    print(\"acertou\")\n",
    "print(\"errou\")"
   ]
  },
  {
   "cell_type": "code",
   "execution_count": 392,
   "metadata": {},
   "outputs": [
    {
     "data": {
      "image/png": "[encoded data removed]",
      "text/plain": [
       "<Figure size 640x480 with 1 Axes>"
      ]
     },
     "metadata": {},
     "output_type": "display_data"
    }
   ],
   "source": [
    "import matplotlib.pyplot as plt\n",
    "\n",
    "# Dados para as duas linhas\n",
    "y1 = caract[2]  # Primeira linha\n",
    "y2 = val[2]  # Segunda linha\n",
    "\n",
    "# Plotando as duas linhas\n",
    "plt.plot(y1, label='Treino')\n",
    "plt.plot(y2, label='Teste')\n",
    "\n",
    "# Adicionando rótulos aos eixos e título ao gráfico\n",
    "plt.xlabel('Eixo X')\n",
    "plt.ylabel('Eixo Y')\n",
    "plt.title('Comparação da classificação dos dados de treino e teste')\n",
    "\n",
    "# Adicionando legenda\n",
    "plt.legend()\n",
    "\n",
    "# Exibindo o gráfico\n",
    "plt.show()\n",
    "\n"
   ]
  },
  {
   "cell_type": "markdown",
   "metadata": {},
   "source": [
    "### Treino em loop de todas as opções de classificadores disponiveis no Select Model."
   ]
  },
  {
   "cell_type": "code",
   "execution_count": 376,
   "metadata": {},
   "outputs": [
    {
     "name": "stdout",
     "output_type": "stream",
     "text": [
      "Meta-classificador com modelo extrator 1NN\n"
     ]
    },
    {
     "name": "stderr",
     "output_type": "stream",
     "text": [
      "Training Base Models: 100%|##########| 5/5 [00:00<00:00, 847.47it/s]\n",
      "Testing Instances: 100%|##########| 60/60 [00:00<00:00, 169.31it/s]\n"
     ]
    },
    {
     "name": "stdout",
     "output_type": "stream",
     "text": [
      "Acurácia do teste usando o meta-classificador com modelo extrator 1nn: 0.7333333333333333\n",
      "-------------------------------\n",
      "Meta-classificador com modelo extrator 5NN\n"
     ]
    },
    {
     "name": "stderr",
     "output_type": "stream",
     "text": [
      "Training Base Models: 100%|##########| 5/5 [00:00<00:00, 997.93it/s]\n"
     ]
    },
    {
     "ename": "KeyboardInterrupt",
     "evalue": "",
     "output_type": "error",
     "traceback": [
      "\u001b[1;31m---------------------------------------------------------------------------\u001b[0m",
      "\u001b[1;31mKeyboardInterrupt\u001b[0m                         Traceback (most recent call last)",
      "Cell \u001b[1;32mIn[376], line 8\u001b[0m\n\u001b[0;32m      6\u001b[0m \u001b[38;5;66;03m# Training\u001b[39;00m\n\u001b[0;32m      7\u001b[0m \u001b[38;5;28;01mtry\u001b[39;00m:\n\u001b[1;32m----> 8\u001b[0m     trained_base_models, meta_classifier \u001b[38;5;241m=\u001b[39m train_with_meta_classifier(X_train, y_train, base_option\u001b[38;5;241m=\u001b[39malgo, meta_option\u001b[38;5;241m=\u001b[39malgo)\n\u001b[0;32m      9\u001b[0m     \u001b[38;5;66;03m# Testing\u001b[39;00m\n\u001b[0;32m     10\u001b[0m     predictions_test_meta \u001b[38;5;241m=\u001b[39m predict_with_meta_classifier(X_test, trained_base_models, meta_classifier)\n",
      "Cell \u001b[1;32mIn[371], line 17\u001b[0m, in \u001b[0;36mtrain_with_meta_classifier\u001b[1;34m(X_train, y_train, base_option, meta_option, random_state)\u001b[0m\n\u001b[0;32m     15\u001b[0m instance_features \u001b[38;5;241m=\u001b[39m []\n\u001b[0;32m     16\u001b[0m \u001b[38;5;28;01mfor\u001b[39;00m rep, model \u001b[38;5;129;01min\u001b[39;00m trained_models\u001b[38;5;241m.\u001b[39mitems():\n\u001b[1;32m---> 17\u001b[0m     proba \u001b[38;5;241m=\u001b[39m model\u001b[38;5;241m.\u001b[39mpredict_proba(X_train_transformed[rep][i]\u001b[38;5;241m.\u001b[39mreshape(\u001b[38;5;241m1\u001b[39m, \u001b[38;5;241m-\u001b[39m\u001b[38;5;241m1\u001b[39m))\n\u001b[0;32m     18\u001b[0m     instance_features\u001b[38;5;241m.\u001b[39mextend(proba\u001b[38;5;241m.\u001b[39mflatten())  \u001b[38;5;66;03m# Estender a lista com todas as probabilidades\u001b[39;00m\n\u001b[0;32m     19\u001b[0m meta_features\u001b[38;5;241m.\u001b[39mappend(instance_features)\n",
      "File \u001b[1;32md:\\Programas\\Anaconda\\envs\\AM_MSC_Kedro\\Lib\\site-packages\\aeon\\classification\\base.py:223\u001b[0m, in \u001b[0;36mBaseClassifier.predict_proba\u001b[1;34m(self, X)\u001b[0m\n\u001b[0;32m    221\u001b[0m     \u001b[38;5;28;01mreturn\u001b[39;00m np\u001b[38;5;241m.\u001b[39mrepeat([[\u001b[38;5;241m1\u001b[39m]], n_instances, axis\u001b[38;5;241m=\u001b[39m\u001b[38;5;241m0\u001b[39m)\n\u001b[0;32m    222\u001b[0m X \u001b[38;5;241m=\u001b[39m \u001b[38;5;28mself\u001b[39m\u001b[38;5;241m.\u001b[39m_preprocess_collection(X)\n\u001b[1;32m--> 223\u001b[0m \u001b[38;5;28;01mreturn\u001b[39;00m \u001b[38;5;28mself\u001b[39m\u001b[38;5;241m.\u001b[39m_predict_proba(X)\n",
      "File \u001b[1;32md:\\Programas\\Anaconda\\envs\\AM_MSC_Kedro\\Lib\\site-packages\\aeon\\classification\\distance_based\\_time_series_neighbors.py:134\u001b[0m, in \u001b[0;36mKNeighborsTimeSeriesClassifier._predict_proba\u001b[1;34m(self, X)\u001b[0m\n\u001b[0;32m    132\u001b[0m preds \u001b[38;5;241m=\u001b[39m np\u001b[38;5;241m.\u001b[39mzeros((\u001b[38;5;28mlen\u001b[39m(X), \u001b[38;5;28mlen\u001b[39m(\u001b[38;5;28mself\u001b[39m\u001b[38;5;241m.\u001b[39mclasses_)))\n\u001b[0;32m    133\u001b[0m \u001b[38;5;28;01mfor\u001b[39;00m i \u001b[38;5;129;01min\u001b[39;00m \u001b[38;5;28mrange\u001b[39m(\u001b[38;5;28mlen\u001b[39m(X)):\n\u001b[1;32m--> 134\u001b[0m     idx, weights \u001b[38;5;241m=\u001b[39m \u001b[38;5;28mself\u001b[39m\u001b[38;5;241m.\u001b[39m_kneighbors(X[i])\n\u001b[0;32m    135\u001b[0m     \u001b[38;5;28;01mfor\u001b[39;00m \u001b[38;5;28mid\u001b[39m, w \u001b[38;5;129;01min\u001b[39;00m \u001b[38;5;28mzip\u001b[39m(idx, weights):\n\u001b[0;32m    136\u001b[0m         predicted_class \u001b[38;5;241m=\u001b[39m \u001b[38;5;28mself\u001b[39m\u001b[38;5;241m.\u001b[39my_[\u001b[38;5;28mid\u001b[39m]\n",
      "File \u001b[1;32md:\\Programas\\Anaconda\\envs\\AM_MSC_Kedro\\Lib\\site-packages\\aeon\\classification\\distance_based\\_time_series_neighbors.py:191\u001b[0m, in \u001b[0;36mKNeighborsTimeSeriesClassifier._kneighbors\u001b[1;34m(self, X)\u001b[0m\n\u001b[0;32m    173\u001b[0m \u001b[38;5;28;01mdef\u001b[39;00m \u001b[38;5;21m_kneighbors\u001b[39m(\u001b[38;5;28mself\u001b[39m, X):\n\u001b[0;32m    174\u001b[0m \u001b[38;5;250m    \u001b[39m\u001b[38;5;124;03m\"\"\"Find the K-neighbors of a point.\u001b[39;00m\n\u001b[0;32m    175\u001b[0m \n\u001b[0;32m    176\u001b[0m \u001b[38;5;124;03m    Returns indices and weights of each point.\u001b[39;00m\n\u001b[1;32m   (...)\u001b[0m\n\u001b[0;32m    188\u001b[0m \u001b[38;5;124;03m        Array representing the weights of each neighbor.\u001b[39;00m\n\u001b[0;32m    189\u001b[0m \u001b[38;5;124;03m    \"\"\"\u001b[39;00m\n\u001b[0;32m    190\u001b[0m     distances \u001b[38;5;241m=\u001b[39m np\u001b[38;5;241m.\u001b[39marray(\n\u001b[1;32m--> 191\u001b[0m         [\n\u001b[0;32m    192\u001b[0m             \u001b[38;5;28mself\u001b[39m\u001b[38;5;241m.\u001b[39mmetric_(X, \u001b[38;5;28mself\u001b[39m\u001b[38;5;241m.\u001b[39mX_[j], \u001b[38;5;241m*\u001b[39m\u001b[38;5;241m*\u001b[39m\u001b[38;5;28mself\u001b[39m\u001b[38;5;241m.\u001b[39m_distance_params)\n\u001b[0;32m    193\u001b[0m             \u001b[38;5;28;01mfor\u001b[39;00m j \u001b[38;5;129;01min\u001b[39;00m \u001b[38;5;28mrange\u001b[39m(\u001b[38;5;28mlen\u001b[39m(\u001b[38;5;28mself\u001b[39m\u001b[38;5;241m.\u001b[39mX_))\n\u001b[0;32m    194\u001b[0m         ]\n\u001b[0;32m    195\u001b[0m     )\n\u001b[0;32m    197\u001b[0m     \u001b[38;5;66;03m# Find indices of k nearest neighbors using partitioning:\u001b[39;00m\n\u001b[0;32m    198\u001b[0m     \u001b[38;5;66;03m# [0..k-1], [k], [k+1..n-1]\u001b[39;00m\n\u001b[0;32m    199\u001b[0m     \u001b[38;5;66;03m# They might not be ordered within themselves,\u001b[39;00m\n\u001b[0;32m    200\u001b[0m     \u001b[38;5;66;03m# but it is not necessary and partitioning is\u001b[39;00m\n\u001b[0;32m    201\u001b[0m     \u001b[38;5;66;03m# O(n) while sorting is O(nlogn)\u001b[39;00m\n\u001b[0;32m    202\u001b[0m     closest_idx \u001b[38;5;241m=\u001b[39m np\u001b[38;5;241m.\u001b[39margpartition(distances, \u001b[38;5;28mself\u001b[39m\u001b[38;5;241m.\u001b[39mn_neighbors)\n",
      "File \u001b[1;32md:\\Programas\\Anaconda\\envs\\AM_MSC_Kedro\\Lib\\site-packages\\aeon\\classification\\distance_based\\_time_series_neighbors.py:191\u001b[0m, in \u001b[0;36m<listcomp>\u001b[1;34m(.0)\u001b[0m\n\u001b[0;32m    173\u001b[0m \u001b[38;5;28;01mdef\u001b[39;00m \u001b[38;5;21m_kneighbors\u001b[39m(\u001b[38;5;28mself\u001b[39m, X):\n\u001b[0;32m    174\u001b[0m \u001b[38;5;250m    \u001b[39m\u001b[38;5;124;03m\"\"\"Find the K-neighbors of a point.\u001b[39;00m\n\u001b[0;32m    175\u001b[0m \n\u001b[0;32m    176\u001b[0m \u001b[38;5;124;03m    Returns indices and weights of each point.\u001b[39;00m\n\u001b[1;32m   (...)\u001b[0m\n\u001b[0;32m    188\u001b[0m \u001b[38;5;124;03m        Array representing the weights of each neighbor.\u001b[39;00m\n\u001b[0;32m    189\u001b[0m \u001b[38;5;124;03m    \"\"\"\u001b[39;00m\n\u001b[0;32m    190\u001b[0m     distances \u001b[38;5;241m=\u001b[39m np\u001b[38;5;241m.\u001b[39marray(\n\u001b[1;32m--> 191\u001b[0m         [\n\u001b[0;32m    192\u001b[0m             \u001b[38;5;28mself\u001b[39m\u001b[38;5;241m.\u001b[39mmetric_(X, \u001b[38;5;28mself\u001b[39m\u001b[38;5;241m.\u001b[39mX_[j], \u001b[38;5;241m*\u001b[39m\u001b[38;5;241m*\u001b[39m\u001b[38;5;28mself\u001b[39m\u001b[38;5;241m.\u001b[39m_distance_params)\n\u001b[0;32m    193\u001b[0m             \u001b[38;5;28;01mfor\u001b[39;00m j \u001b[38;5;129;01min\u001b[39;00m \u001b[38;5;28mrange\u001b[39m(\u001b[38;5;28mlen\u001b[39m(\u001b[38;5;28mself\u001b[39m\u001b[38;5;241m.\u001b[39mX_))\n\u001b[0;32m    194\u001b[0m         ]\n\u001b[0;32m    195\u001b[0m     )\n\u001b[0;32m    197\u001b[0m     \u001b[38;5;66;03m# Find indices of k nearest neighbors using partitioning:\u001b[39;00m\n\u001b[0;32m    198\u001b[0m     \u001b[38;5;66;03m# [0..k-1], [k], [k+1..n-1]\u001b[39;00m\n\u001b[0;32m    199\u001b[0m     \u001b[38;5;66;03m# They might not be ordered within themselves,\u001b[39;00m\n\u001b[0;32m    200\u001b[0m     \u001b[38;5;66;03m# but it is not necessary and partitioning is\u001b[39;00m\n\u001b[0;32m    201\u001b[0m     \u001b[38;5;66;03m# O(n) while sorting is O(nlogn)\u001b[39;00m\n\u001b[0;32m    202\u001b[0m     closest_idx \u001b[38;5;241m=\u001b[39m np\u001b[38;5;241m.\u001b[39margpartition(distances, \u001b[38;5;28mself\u001b[39m\u001b[38;5;241m.\u001b[39mn_neighbors)\n",
      "\u001b[1;31mKeyboardInterrupt\u001b[0m: "
     ]
    }
   ],
   "source": [
    "algos = ['1nn', '5nn', 'svm', 'nb', 'gbc']\n",
    "for algo in algos:\n",
    "    \n",
    "    print(f'Meta-classificador com modelo extrator {algo.upper()}')\n",
    "    \n",
    "    # Training\n",
    "    try:\n",
    "        trained_base_models, meta_classifier = train_with_meta_classifier(X_train, y_train, base_option=algo, meta_option=algo)\n",
    "        # Testing\n",
    "        predictions_test_meta = predict_with_meta_classifier(X_test, trained_base_models, meta_classifier)\n",
    "    \n",
    "        test_accuracy_meta = np.mean(predictions_test_meta == y_test)\n",
    "        print(f'Acurácia do teste usando o meta-classificador com modelo extrator {algo}: {test_accuracy_meta}')\n",
    "    except Exception as e:\n",
    "        print(f\"Ocorreu um erro no teste com o {algo}: {e}\")\n",
    "    print(\"-------------------------------\")\n",
    "print('RF (10x)')\n",
    "for i in range(10):\n",
    "    print(f'RF: Random seed = {i}')\n",
    "    try:\n",
    "        trained_base_models, meta_classifier = train_with_meta_classifier(X_train, y_train, base_option='random_forest', meta_option='random_forest', random_state=i)\n",
    "    \n",
    "        # Testing\n",
    "        predictions_test_meta = predict_with_meta_classifier(X_test, trained_base_models, meta_classifier)\n",
    "    \n",
    "        test_accuracy = np.mean(predictions_test_meta == y_test)\n",
    "        print(f'Acurácia do teste usando seed {i}: {test_accuracy}')\n",
    "    except Exception as e:\n",
    "        print(f\"Ocorreu um erro no teste com o RF (seed {i}): {e}\")\n",
    "    print(\"-------------------------------\")"
   ]
  }
 ],
 "metadata": {
  "kernelspec": {
   "display_name": "AM",
   "language": "python",
   "name": "python3"
  },
  "language_info": {
   "codemirror_mode": {
    "name": "ipython",
    "version": 3
   },
   "file_extension": ".py",
   "mimetype": "text/x-python",
   "name": "python",
   "nbconvert_exporter": "python",
   "pygments_lexer": "ipython3",
   "version": "3.11.7"
  }
 },
 "nbformat": 4,
 "nbformat_minor": 2
}
