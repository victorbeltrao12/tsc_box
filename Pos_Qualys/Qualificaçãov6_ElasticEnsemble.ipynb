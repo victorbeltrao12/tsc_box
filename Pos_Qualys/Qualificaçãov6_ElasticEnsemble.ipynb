{
 "cells": [
  {
   "cell_type": "markdown",
   "metadata": {},
   "source": [
    "### Bibliotecas"
   ]
  },
  {
   "cell_type": "code",
   "execution_count": 1,
   "metadata": {},
   "outputs": [],
   "source": [
    "import pandas as pd\n",
    "import numpy as np\n",
    "from scipy.fftpack import fft\n",
    "from scipy.stats import norm\n",
    "import pywt\n",
    "from aeon.classification.distance_based import ElasticEnsemble, ShapeDTW, KNeighborsTimeSeriesClassifier\n",
    "from sklearn.linear_model import RidgeClassifierCV\n",
    "from aeon.datasets import load_classification\n",
    "from aeon.datasets.tsc_data_lists import univariate_equal_length\n",
    "from sklearn.svm import SVC\n",
    "from sklearn.ensemble import RandomForestClassifier, GradientBoostingClassifier\n",
    "from sklearn.naive_bayes import GaussianNB\n",
    "from tqdm import tqdm\n",
    "import timeit\n",
    "from datetime import timedelta\n",
    "from sklearn.model_selection import LeaveOneOut\n",
    "import warnings\n",
    "warnings.filterwarnings(\"ignore\")"
   ]
  },
  {
   "cell_type": "code",
   "execution_count": 20,
   "metadata": {},
   "outputs": [
    {
     "name": "stderr",
     "output_type": "stream",
     "text": [
      "Training Base Models: 100%|##########| 5/5 [05:56<00:00, 71.25s/it]\n",
      "Testing Instances: 100%|##########| 391/391 [00:11<00:00, 34.16it/s]\n"
     ]
    },
    {
     "name": "stdout",
     "output_type": "stream",
     "text": [
      "Acurácia do modelo 1nn para Adiac: 0.7928388746803069\n",
      "Time runtime (seconds):  0:06:08.736355\n"
     ]
    },
    {
     "name": "stderr",
     "output_type": "stream",
     "text": [
      "Training Base Models: 100%|##########| 5/5 [05:45<00:00, 69.20s/it]\n",
      "Testing Instances: 100%|##########| 391/391 [00:11<00:00, 34.99it/s]\n"
     ]
    },
    {
     "name": "stdout",
     "output_type": "stream",
     "text": [
      "Acurácia do modelo 3nn para Adiac: 0.7953964194373402\n",
      "Time runtime (seconds):  0:12:06.933316\n"
     ]
    },
    {
     "name": "stderr",
     "output_type": "stream",
     "text": [
      "Training Base Models: 100%|##########| 5/5 [05:29<00:00, 65.90s/it]\n",
      "Testing Instances: 100%|##########| 391/391 [00:11<00:00, 35.09it/s]\n"
     ]
    },
    {
     "name": "stdout",
     "output_type": "stream",
     "text": [
      "Acurácia do modelo svm para Adiac: 0.7902813299232737\n",
      "Time runtime (seconds):  0:17:48.639193\n"
     ]
    },
    {
     "name": "stderr",
     "output_type": "stream",
     "text": [
      "Training Base Models: 100%|##########| 5/5 [05:54<00:00, 70.85s/it]\n",
      "Testing Instances: 100%|##########| 391/391 [00:11<00:00, 35.32it/s]\n"
     ]
    },
    {
     "name": "stdout",
     "output_type": "stream",
     "text": [
      "Acurácia do modelo nb para Adiac: 0.7953964194373402\n",
      "Time runtime (seconds):  0:23:55.069999\n"
     ]
    },
    {
     "name": "stderr",
     "output_type": "stream",
     "text": [
      "Training Base Models: 100%|##########| 5/5 [05:41<00:00, 68.27s/it]\n",
      "Testing Instances: 100%|##########| 391/391 [00:11<00:00, 35.05it/s]\n"
     ]
    },
    {
     "name": "stdout",
     "output_type": "stream",
     "text": [
      "Acurácia do modelo gbc para Adiac: 0.7953964194373402\n",
      "Time runtime (seconds):  0:29:48.618815\n"
     ]
    },
    {
     "name": "stderr",
     "output_type": "stream",
     "text": [
      "Training Base Models: 100%|##########| 5/5 [05:43<00:00, 68.75s/it]\n",
      "Testing Instances: 100%|##########| 391/391 [00:11<00:00, 35.00it/s]\n"
     ]
    },
    {
     "name": "stdout",
     "output_type": "stream",
     "text": [
      "Acurácia do modelo ee para Adiac: 0.8005115089514067\n",
      "Time runtime (seconds):  0:35:44.562560\n"
     ]
    },
    {
     "name": "stderr",
     "output_type": "stream",
     "text": [
      "Training Base Models: 100%|##########| 5/5 [05:54<00:00, 70.94s/it]\n",
      "Testing Instances: 100%|##########| 391/391 [00:11<00:00, 34.24it/s]\n"
     ]
    },
    {
     "name": "stdout",
     "output_type": "stream",
     "text": [
      "Acurácia do modelo shape para Adiac: 0.8056265984654731\n",
      "Time runtime (seconds):  0:41:51.702406\n"
     ]
    },
    {
     "name": "stderr",
     "output_type": "stream",
     "text": [
      "Training Base Models: 100%|##########| 5/5 [05:46<00:00, 69.33s/it]\n",
      "Testing Instances: 100%|##########| 391/391 [00:10<00:00, 35.58it/s]\n"
     ]
    },
    {
     "name": "stdout",
     "output_type": "stream",
     "text": [
      "Acurácia do modelo rf para Adiac: 0.7902813299232737\n",
      "Time runtime (seconds):  0:47:50.394532\n"
     ]
    },
    {
     "name": "stderr",
     "output_type": "stream",
     "text": [
      "Training Base Models: 100%|##########| 5/5 [05:41<00:00, 68.31s/it]\n",
      "Testing Instances: 100%|##########| 391/391 [00:11<00:00, 35.29it/s]\n"
     ]
    },
    {
     "name": "stdout",
     "output_type": "stream",
     "text": [
      "Acurácia do modelo rd para Adiac: 0.7928388746803069\n",
      "Time runtime (seconds):  0:53:44.037260\n"
     ]
    },
    {
     "name": "stderr",
     "output_type": "stream",
     "text": [
      "Training Base Models: 100%|##########| 5/5 [00:00<00:00,  8.41it/s]\n",
      "Testing Instances: 100%|##########| 30/30 [00:00<00:00, 35.30it/s]\n"
     ]
    },
    {
     "name": "stdout",
     "output_type": "stream",
     "text": [
      "Acurácia do modelo 1nn para Beef: 0.8666666666666667\n",
      "Time runtime (seconds):  0:53:45.757119\n"
     ]
    },
    {
     "name": "stderr",
     "output_type": "stream",
     "text": [
      "Training Base Models: 100%|##########| 5/5 [00:00<00:00,  8.47it/s]\n",
      "Testing Instances: 100%|##########| 30/30 [00:00<00:00, 35.36it/s]\n"
     ]
    },
    {
     "name": "stdout",
     "output_type": "stream",
     "text": [
      "Acurácia do modelo 3nn para Beef: 0.8666666666666667\n",
      "Time runtime (seconds):  0:53:47.464873\n"
     ]
    },
    {
     "name": "stderr",
     "output_type": "stream",
     "text": [
      "Training Base Models: 100%|##########| 5/5 [00:00<00:00,  8.13it/s]\n",
      "Testing Instances: 100%|##########| 30/30 [00:00<00:00, 34.14it/s]\n"
     ]
    },
    {
     "name": "stdout",
     "output_type": "stream",
     "text": [
      "Acurácia do modelo svm para Beef: 0.8666666666666667\n",
      "Time runtime (seconds):  0:53:49.222131\n"
     ]
    },
    {
     "name": "stderr",
     "output_type": "stream",
     "text": [
      "Training Base Models: 100%|##########| 5/5 [00:00<00:00,  8.56it/s]\n",
      "Testing Instances: 100%|##########| 30/30 [00:00<00:00, 35.49it/s]\n"
     ]
    },
    {
     "name": "stdout",
     "output_type": "stream",
     "text": [
      "Acurácia do modelo nb para Beef: 0.8666666666666667\n",
      "Time runtime (seconds):  0:53:50.925488\n"
     ]
    },
    {
     "name": "stderr",
     "output_type": "stream",
     "text": [
      "Training Base Models: 100%|##########| 5/5 [00:00<00:00,  7.94it/s]\n",
      "Testing Instances: 100%|##########| 30/30 [00:00<00:00, 33.76it/s]\n"
     ]
    },
    {
     "name": "stdout",
     "output_type": "stream",
     "text": [
      "Acurácia do modelo gbc para Beef: 0.8666666666666667\n",
      "Time runtime (seconds):  0:53:52.720098\n"
     ]
    },
    {
     "name": "stderr",
     "output_type": "stream",
     "text": [
      "Training Base Models: 100%|##########| 5/5 [00:00<00:00,  8.19it/s]\n",
      "Testing Instances: 100%|##########| 30/30 [00:00<00:00, 34.08it/s]\n"
     ]
    },
    {
     "name": "stdout",
     "output_type": "stream",
     "text": [
      "Acurácia do modelo ee para Beef: 0.8666666666666667\n",
      "Time runtime (seconds):  0:53:54.492119\n"
     ]
    },
    {
     "name": "stderr",
     "output_type": "stream",
     "text": [
      "Training Base Models: 100%|##########| 5/5 [00:00<00:00,  7.67it/s]\n",
      "Testing Instances: 100%|##########| 30/30 [00:00<00:00, 32.30it/s]\n"
     ]
    },
    {
     "name": "stdout",
     "output_type": "stream",
     "text": [
      "Acurácia do modelo shape para Beef: 0.8666666666666667\n",
      "Time runtime (seconds):  0:53:56.391920\n"
     ]
    },
    {
     "name": "stderr",
     "output_type": "stream",
     "text": [
      "Training Base Models: 100%|##########| 5/5 [00:00<00:00,  7.63it/s]\n",
      "Testing Instances: 100%|##########| 30/30 [00:00<00:00, 33.36it/s]\n"
     ]
    },
    {
     "name": "stdout",
     "output_type": "stream",
     "text": [
      "Acurácia do modelo rf para Beef: 0.8333333333333334\n",
      "Time runtime (seconds):  0:53:58.253718\n"
     ]
    },
    {
     "name": "stderr",
     "output_type": "stream",
     "text": [
      "Training Base Models: 100%|##########| 5/5 [00:00<00:00,  8.19it/s]\n",
      "Testing Instances: 100%|##########| 30/30 [00:00<00:00, 33.16it/s]\n"
     ]
    },
    {
     "name": "stdout",
     "output_type": "stream",
     "text": [
      "Acurácia do modelo rd para Beef: 0.9\n",
      "Time runtime (seconds):  0:54:00.060276\n"
     ]
    },
    {
     "name": "stderr",
     "output_type": "stream",
     "text": [
      "Training Base Models: 100%|##########| 5/5 [00:03<00:00,  1.51it/s]\n",
      "Testing Instances: 100%|##########| 60/60 [00:01<00:00, 32.26it/s]\n"
     ]
    },
    {
     "name": "stdout",
     "output_type": "stream",
     "text": [
      "Acurácia do modelo 1nn para Car: 0.8833333333333333\n",
      "Time runtime (seconds):  0:54:05.579875\n"
     ]
    },
    {
     "name": "stderr",
     "output_type": "stream",
     "text": [
      "Training Base Models: 100%|##########| 5/5 [00:03<00:00,  1.51it/s]\n",
      "Testing Instances: 100%|##########| 60/60 [00:01<00:00, 34.10it/s]\n"
     ]
    },
    {
     "name": "stdout",
     "output_type": "stream",
     "text": [
      "Acurácia do modelo 3nn para Car: 0.8833333333333333\n",
      "Time runtime (seconds):  0:54:10.973812\n"
     ]
    },
    {
     "name": "stderr",
     "output_type": "stream",
     "text": [
      "Training Base Models: 100%|##########| 5/5 [00:03<00:00,  1.53it/s]\n",
      "Testing Instances: 100%|##########| 60/60 [00:01<00:00, 33.27it/s]\n"
     ]
    },
    {
     "name": "stdout",
     "output_type": "stream",
     "text": [
      "Acurácia do modelo svm para Car: 0.8833333333333333\n",
      "Time runtime (seconds):  0:54:16.362701\n"
     ]
    },
    {
     "name": "stderr",
     "output_type": "stream",
     "text": [
      "Training Base Models: 100%|##########| 5/5 [00:03<00:00,  1.50it/s]\n",
      "Testing Instances: 100%|##########| 60/60 [00:01<00:00, 34.06it/s]\n"
     ]
    },
    {
     "name": "stdout",
     "output_type": "stream",
     "text": [
      "Acurácia do modelo nb para Car: 0.8833333333333333\n",
      "Time runtime (seconds):  0:54:21.779893\n"
     ]
    },
    {
     "name": "stderr",
     "output_type": "stream",
     "text": [
      "Training Base Models: 100%|##########| 5/5 [00:03<00:00,  1.53it/s]\n",
      "Testing Instances: 100%|##########| 60/60 [00:01<00:00, 33.90it/s]\n"
     ]
    },
    {
     "name": "stdout",
     "output_type": "stream",
     "text": [
      "Acurácia do modelo gbc para Car: 0.8666666666666667\n",
      "Time runtime (seconds):  0:54:27.142864\n"
     ]
    },
    {
     "name": "stderr",
     "output_type": "stream",
     "text": [
      "Training Base Models: 100%|##########| 5/5 [00:03<00:00,  1.54it/s]\n",
      "Testing Instances: 100%|##########| 60/60 [00:01<00:00, 33.86it/s]\n"
     ]
    },
    {
     "name": "stdout",
     "output_type": "stream",
     "text": [
      "Acurácia do modelo ee para Car: 0.9\n",
      "Time runtime (seconds):  0:54:32.484809\n"
     ]
    },
    {
     "name": "stderr",
     "output_type": "stream",
     "text": [
      "Training Base Models: 100%|##########| 5/5 [00:03<00:00,  1.52it/s]\n",
      "Testing Instances: 100%|##########| 60/60 [00:01<00:00, 32.28it/s]\n"
     ]
    },
    {
     "name": "stdout",
     "output_type": "stream",
     "text": [
      "Acurácia do modelo shape para Car: 0.8833333333333333\n",
      "Time runtime (seconds):  0:54:37.949295\n"
     ]
    },
    {
     "name": "stderr",
     "output_type": "stream",
     "text": [
      "Training Base Models: 100%|##########| 5/5 [00:03<00:00,  1.54it/s]\n",
      "Testing Instances: 100%|##########| 60/60 [00:01<00:00, 34.88it/s]\n"
     ]
    },
    {
     "name": "stdout",
     "output_type": "stream",
     "text": [
      "Acurácia do modelo rf para Car: 0.8833333333333333\n",
      "Time runtime (seconds):  0:54:43.224943\n"
     ]
    },
    {
     "name": "stderr",
     "output_type": "stream",
     "text": [
      "Training Base Models: 100%|##########| 5/5 [00:03<00:00,  1.55it/s]\n",
      "Testing Instances: 100%|##########| 60/60 [00:01<00:00, 33.93it/s]\n"
     ]
    },
    {
     "name": "stdout",
     "output_type": "stream",
     "text": [
      "Acurácia do modelo rd para Car: 0.8833333333333333\n",
      "Time runtime (seconds):  0:54:48.532429\n"
     ]
    },
    {
     "name": "stderr",
     "output_type": "stream",
     "text": [
      "Training Base Models: 100%|##########| 5/5 [00:00<00:00, 14.62it/s]\n",
      "Testing Instances: 100%|##########| 900/900 [00:23<00:00, 38.65it/s]\n"
     ]
    },
    {
     "name": "stdout",
     "output_type": "stream",
     "text": [
      "Acurácia do modelo 1nn para CBF: 0.9011111111111111\n",
      "Time runtime (seconds):  0:55:12.442558\n"
     ]
    },
    {
     "name": "stderr",
     "output_type": "stream",
     "text": [
      "Training Base Models: 100%|##########| 5/5 [00:00<00:00, 17.19it/s]\n",
      "Testing Instances: 100%|##########| 900/900 [00:23<00:00, 38.76it/s]\n"
     ]
    },
    {
     "name": "stdout",
     "output_type": "stream",
     "text": [
      "Acurácia do modelo 3nn para CBF: 0.8788888888888889\n",
      "Time runtime (seconds):  0:55:36.235381\n"
     ]
    },
    {
     "name": "stderr",
     "output_type": "stream",
     "text": [
      "Training Base Models: 100%|##########| 5/5 [00:00<00:00, 18.00it/s]\n",
      "Testing Instances: 100%|##########| 900/900 [00:23<00:00, 38.54it/s]\n"
     ]
    },
    {
     "name": "stdout",
     "output_type": "stream",
     "text": [
      "Acurácia do modelo svm para CBF: 0.8877777777777778\n",
      "Time runtime (seconds):  0:56:00.155226\n"
     ]
    },
    {
     "name": "stderr",
     "output_type": "stream",
     "text": [
      "Training Base Models: 100%|##########| 5/5 [00:00<00:00, 17.06it/s]\n",
      "Testing Instances: 100%|##########| 900/900 [00:23<00:00, 38.52it/s]\n"
     ]
    },
    {
     "name": "stdout",
     "output_type": "stream",
     "text": [
      "Acurácia do modelo nb para CBF: 0.8788888888888889\n",
      "Time runtime (seconds):  0:56:24.087917\n"
     ]
    },
    {
     "name": "stderr",
     "output_type": "stream",
     "text": [
      "Training Base Models: 100%|##########| 5/5 [00:00<00:00, 16.95it/s]\n",
      "Testing Instances: 100%|##########| 900/900 [00:23<00:00, 38.43it/s]\n"
     ]
    },
    {
     "name": "stdout",
     "output_type": "stream",
     "text": [
      "Acurácia do modelo gbc para CBF: 0.8833333333333333\n",
      "Time runtime (seconds):  0:56:48.087027\n"
     ]
    },
    {
     "name": "stderr",
     "output_type": "stream",
     "text": [
      "Training Base Models: 100%|##########| 5/5 [00:00<00:00, 15.04it/s]\n",
      "Testing Instances: 100%|##########| 900/900 [00:24<00:00, 37.01it/s]\n"
     ]
    },
    {
     "name": "stdout",
     "output_type": "stream",
     "text": [
      "Acurácia do modelo ee para CBF: 0.8866666666666667\n",
      "Time runtime (seconds):  0:57:13.012112\n"
     ]
    },
    {
     "name": "stderr",
     "output_type": "stream",
     "text": [
      "Training Base Models: 100%|##########| 5/5 [00:00<00:00, 16.67it/s]\n",
      "Testing Instances: 100%|##########| 900/900 [00:23<00:00, 38.00it/s]\n"
     ]
    },
    {
     "name": "stdout",
     "output_type": "stream",
     "text": [
      "Acurácia do modelo shape para CBF: 0.8677777777777778\n",
      "Time runtime (seconds):  0:57:37.297755\n"
     ]
    },
    {
     "name": "stderr",
     "output_type": "stream",
     "text": [
      "Training Base Models: 100%|##########| 5/5 [00:00<00:00, 17.24it/s]\n",
      "Testing Instances: 100%|##########| 900/900 [00:23<00:00, 37.80it/s]\n"
     ]
    },
    {
     "name": "stdout",
     "output_type": "stream",
     "text": [
      "Acurácia do modelo rf para CBF: 0.8844444444444445\n",
      "Time runtime (seconds):  0:58:01.672069\n"
     ]
    },
    {
     "name": "stderr",
     "output_type": "stream",
     "text": [
      "Training Base Models: 100%|##########| 5/5 [00:00<00:00, 17.57it/s]\n",
      "Testing Instances: 100%|##########| 900/900 [00:23<00:00, 38.58it/s]\n"
     ]
    },
    {
     "name": "stdout",
     "output_type": "stream",
     "text": [
      "Acurácia do modelo rd para CBF: 0.8744444444444445\n",
      "Time runtime (seconds):  0:58:25.570312\n"
     ]
    },
    {
     "name": "stderr",
     "output_type": "stream",
     "text": [
      "Training Base Models: 100%|##########| 5/5 [00:00<00:00, 22.36it/s]\n",
      "Testing Instances: 100%|##########| 28/28 [00:00<00:00, 37.04it/s]\n"
     ]
    },
    {
     "name": "stdout",
     "output_type": "stream",
     "text": [
      "Acurácia do modelo 1nn para Coffee: 1.0\n",
      "Time runtime (seconds):  0:58:26.815019\n"
     ]
    },
    {
     "name": "stderr",
     "output_type": "stream",
     "text": [
      "Training Base Models: 100%|##########| 5/5 [00:00<00:00, 21.93it/s]\n",
      "Testing Instances: 100%|##########| 28/28 [00:00<00:00, 37.38it/s]\n"
     ]
    },
    {
     "name": "stdout",
     "output_type": "stream",
     "text": [
      "Acurácia do modelo 3nn para Coffee: 1.0\n",
      "Time runtime (seconds):  0:58:28.075928\n"
     ]
    },
    {
     "name": "stderr",
     "output_type": "stream",
     "text": [
      "Training Base Models: 100%|##########| 5/5 [00:00<00:00, 18.42it/s]\n",
      "Testing Instances: 100%|##########| 28/28 [00:00<00:00, 37.05it/s]\n"
     ]
    },
    {
     "name": "stdout",
     "output_type": "stream",
     "text": [
      "Acurácia do modelo svm para Coffee: 1.0\n",
      "Time runtime (seconds):  0:58:29.363081\n"
     ]
    },
    {
     "name": "stderr",
     "output_type": "stream",
     "text": [
      "Training Base Models: 100%|##########| 5/5 [00:00<00:00, 22.65it/s]\n",
      "Testing Instances: 100%|##########| 28/28 [00:00<00:00, 36.86it/s]\n"
     ]
    },
    {
     "name": "stdout",
     "output_type": "stream",
     "text": [
      "Acurácia do modelo nb para Coffee: 1.0\n",
      "Time runtime (seconds):  0:58:30.608887\n"
     ]
    },
    {
     "name": "stderr",
     "output_type": "stream",
     "text": [
      "Training Base Models: 100%|##########| 5/5 [00:00<00:00, 22.67it/s]\n",
      "Testing Instances: 100%|##########| 28/28 [00:00<00:00, 32.71it/s]\n"
     ]
    },
    {
     "name": "stdout",
     "output_type": "stream",
     "text": [
      "Acurácia do modelo gbc para Coffee: 1.0\n",
      "Time runtime (seconds):  0:58:31.949725\n"
     ]
    },
    {
     "name": "stderr",
     "output_type": "stream",
     "text": [
      "Training Base Models: 100%|##########| 5/5 [00:00<00:00, 22.47it/s]\n",
      "Testing Instances: 100%|##########| 28/28 [00:00<00:00, 37.30it/s]\n"
     ]
    },
    {
     "name": "stdout",
     "output_type": "stream",
     "text": [
      "Acurácia do modelo ee para Coffee: 1.0\n",
      "Time runtime (seconds):  0:58:33.188834\n"
     ]
    },
    {
     "name": "stderr",
     "output_type": "stream",
     "text": [
      "Training Base Models: 100%|##########| 5/5 [00:00<00:00, 19.63it/s]\n",
      "Testing Instances: 100%|##########| 28/28 [00:00<00:00, 37.14it/s]\n"
     ]
    },
    {
     "name": "stdout",
     "output_type": "stream",
     "text": [
      "Acurácia do modelo shape para Coffee: 1.0\n",
      "Time runtime (seconds):  0:58:34.471462\n"
     ]
    },
    {
     "name": "stderr",
     "output_type": "stream",
     "text": [
      "Training Base Models: 100%|##########| 5/5 [00:00<00:00, 22.66it/s]\n",
      "Testing Instances: 100%|##########| 28/28 [00:00<00:00, 36.58it/s]\n"
     ]
    },
    {
     "name": "stdout",
     "output_type": "stream",
     "text": [
      "Acurácia do modelo rf para Coffee: 1.0\n",
      "Time runtime (seconds):  0:58:35.723856\n"
     ]
    },
    {
     "name": "stderr",
     "output_type": "stream",
     "text": [
      "Training Base Models: 100%|##########| 5/5 [00:00<00:00, 21.81it/s]\n",
      "Testing Instances: 100%|##########| 28/28 [00:00<00:00, 37.23it/s]\n"
     ]
    },
    {
     "name": "stdout",
     "output_type": "stream",
     "text": [
      "Acurácia do modelo rd para Coffee: 1.0\n",
      "Time runtime (seconds):  0:58:36.977740\n"
     ]
    },
    {
     "name": "stderr",
     "output_type": "stream",
     "text": [
      "Training Base Models: 100%|##########| 5/5 [00:00<00:00, 40.31it/s]\n",
      "Testing Instances: 100%|##########| 306/306 [00:08<00:00, 35.88it/s]\n"
     ]
    },
    {
     "name": "stdout",
     "output_type": "stream",
     "text": [
      "Acurácia do modelo 1nn para DiatomSizeReduction: 0.9084967320261438\n",
      "Time runtime (seconds):  0:58:45.879299\n"
     ]
    },
    {
     "name": "stderr",
     "output_type": "stream",
     "text": [
      "Training Base Models: 100%|##########| 5/5 [00:00<00:00, 38.66it/s]\n",
      "Testing Instances: 100%|##########| 306/306 [00:08<00:00, 35.43it/s]\n"
     ]
    },
    {
     "name": "stdout",
     "output_type": "stream",
     "text": [
      "Acurácia do modelo 3nn para DiatomSizeReduction: 0.9183006535947712\n",
      "Time runtime (seconds):  0:58:54.909356\n"
     ]
    },
    {
     "name": "stderr",
     "output_type": "stream",
     "text": [
      "Training Base Models: 100%|##########| 5/5 [00:00<00:00, 39.61it/s]\n",
      "Testing Instances: 100%|##########| 306/306 [00:08<00:00, 35.72it/s]\n"
     ]
    },
    {
     "name": "stdout",
     "output_type": "stream",
     "text": [
      "Acurácia do modelo svm para DiatomSizeReduction: 0.9150326797385621\n",
      "Time runtime (seconds):  0:59:03.861453\n"
     ]
    },
    {
     "name": "stderr",
     "output_type": "stream",
     "text": [
      "Training Base Models: 100%|##########| 5/5 [00:00<00:00, 41.10it/s]\n",
      "Testing Instances: 100%|##########| 306/306 [00:08<00:00, 35.55it/s]\n"
     ]
    },
    {
     "name": "stdout",
     "output_type": "stream",
     "text": [
      "Acurácia do modelo nb para DiatomSizeReduction: 0.9215686274509803\n",
      "Time runtime (seconds):  0:59:12.849332\n"
     ]
    },
    {
     "name": "stderr",
     "output_type": "stream",
     "text": [
      "Training Base Models: 100%|##########| 5/5 [00:00<00:00, 40.06it/s]\n",
      "Testing Instances: 100%|##########| 306/306 [00:08<00:00, 35.67it/s]\n"
     ]
    },
    {
     "name": "stdout",
     "output_type": "stream",
     "text": [
      "Acurácia do modelo gbc para DiatomSizeReduction: 0.9215686274509803\n",
      "Time runtime (seconds):  0:59:21.810448\n"
     ]
    },
    {
     "name": "stderr",
     "output_type": "stream",
     "text": [
      "Training Base Models: 100%|##########| 5/5 [00:00<00:00, 41.36it/s]\n",
      "Testing Instances: 100%|##########| 306/306 [00:08<00:00, 35.91it/s]\n"
     ]
    },
    {
     "name": "stdout",
     "output_type": "stream",
     "text": [
      "Acurácia do modelo ee para DiatomSizeReduction: 0.9183006535947712\n",
      "Time runtime (seconds):  0:59:30.725553\n"
     ]
    },
    {
     "name": "stderr",
     "output_type": "stream",
     "text": [
      "Training Base Models: 100%|##########| 5/5 [00:00<00:00, 44.31it/s]\n",
      "Testing Instances: 100%|##########| 306/306 [00:08<00:00, 35.73it/s]\n"
     ]
    },
    {
     "name": "stdout",
     "output_type": "stream",
     "text": [
      "Acurácia do modelo shape para DiatomSizeReduction: 0.9248366013071896\n",
      "Time runtime (seconds):  0:59:39.666570\n"
     ]
    },
    {
     "name": "stderr",
     "output_type": "stream",
     "text": [
      "Training Base Models: 100%|##########| 5/5 [00:00<00:00, 30.23it/s]\n",
      "Testing Instances: 100%|##########| 306/306 [00:08<00:00, 34.76it/s]\n"
     ]
    },
    {
     "name": "stdout",
     "output_type": "stream",
     "text": [
      "Acurácia do modelo rf para DiatomSizeReduction: 0.9117647058823529\n",
      "Time runtime (seconds):  0:59:48.914147\n"
     ]
    },
    {
     "name": "stderr",
     "output_type": "stream",
     "text": [
      "Training Base Models: 100%|##########| 5/5 [00:00<00:00, 40.20it/s]\n",
      "Testing Instances: 100%|##########| 306/306 [00:08<00:00, 35.24it/s]\n"
     ]
    },
    {
     "name": "stdout",
     "output_type": "stream",
     "text": [
      "Acurácia do modelo rd para DiatomSizeReduction: 0.9444444444444444\n",
      "Time runtime (seconds):  0:59:57.990645\n"
     ]
    },
    {
     "name": "stderr",
     "output_type": "stream",
     "text": [
      "Training Base Models: 100%|##########| 5/5 [00:06<00:00,  1.29s/it]\n",
      "Testing Instances: 100%|##########| 100/100 [00:02<00:00, 38.52it/s]\n"
     ]
    },
    {
     "name": "stdout",
     "output_type": "stream",
     "text": [
      "Acurácia do modelo 1nn para ECG200: 0.81\n",
      "Time runtime (seconds):  1:00:07.355647\n"
     ]
    },
    {
     "name": "stderr",
     "output_type": "stream",
     "text": [
      "Training Base Models: 100%|##########| 5/5 [00:06<00:00,  1.28s/it]\n",
      "Testing Instances: 100%|##########| 100/100 [00:02<00:00, 38.86it/s]\n"
     ]
    },
    {
     "name": "stdout",
     "output_type": "stream",
     "text": [
      "Acurácia do modelo 3nn para ECG200: 0.82\n",
      "Time runtime (seconds):  1:00:16.668972\n"
     ]
    },
    {
     "name": "stderr",
     "output_type": "stream",
     "text": [
      "Training Base Models: 100%|##########| 5/5 [00:06<00:00,  1.29s/it]\n",
      "Testing Instances: 100%|##########| 100/100 [00:02<00:00, 39.21it/s]\n"
     ]
    },
    {
     "name": "stdout",
     "output_type": "stream",
     "text": [
      "Acurácia do modelo svm para ECG200: 0.8\n",
      "Time runtime (seconds):  1:00:26.001058\n"
     ]
    },
    {
     "name": "stderr",
     "output_type": "stream",
     "text": [
      "Training Base Models: 100%|##########| 5/5 [00:06<00:00,  1.25s/it]\n",
      "Testing Instances: 100%|##########| 100/100 [00:02<00:00, 37.74it/s]\n"
     ]
    },
    {
     "name": "stdout",
     "output_type": "stream",
     "text": [
      "Acurácia do modelo nb para ECG200: 0.8\n",
      "Time runtime (seconds):  1:00:35.241922\n"
     ]
    },
    {
     "name": "stderr",
     "output_type": "stream",
     "text": [
      "Training Base Models: 100%|##########| 5/5 [00:06<00:00,  1.27s/it]\n",
      "Testing Instances: 100%|##########| 100/100 [00:02<00:00, 39.53it/s]\n"
     ]
    },
    {
     "name": "stdout",
     "output_type": "stream",
     "text": [
      "Acurácia do modelo gbc para ECG200: 0.8\n",
      "Time runtime (seconds):  1:00:44.467830\n"
     ]
    },
    {
     "name": "stderr",
     "output_type": "stream",
     "text": [
      "Training Base Models: 100%|##########| 5/5 [00:06<00:00,  1.25s/it]\n",
      "Testing Instances: 100%|##########| 100/100 [00:02<00:00, 39.22it/s]\n"
     ]
    },
    {
     "name": "stdout",
     "output_type": "stream",
     "text": [
      "Acurácia do modelo ee para ECG200: 0.82\n",
      "Time runtime (seconds):  1:00:53.612314\n"
     ]
    },
    {
     "name": "stderr",
     "output_type": "stream",
     "text": [
      "Training Base Models: 100%|##########| 5/5 [00:06<00:00,  1.25s/it]\n",
      "Testing Instances: 100%|##########| 100/100 [00:02<00:00, 38.62it/s]\n"
     ]
    },
    {
     "name": "stdout",
     "output_type": "stream",
     "text": [
      "Acurácia do modelo shape para ECG200: 0.81\n",
      "Time runtime (seconds):  1:01:02.811527\n"
     ]
    },
    {
     "name": "stderr",
     "output_type": "stream",
     "text": [
      "Training Base Models: 100%|##########| 5/5 [00:06<00:00,  1.31s/it]\n",
      "Testing Instances: 100%|##########| 100/100 [00:02<00:00, 39.39it/s]\n"
     ]
    },
    {
     "name": "stdout",
     "output_type": "stream",
     "text": [
      "Acurácia do modelo rf para ECG200: 0.8\n",
      "Time runtime (seconds):  1:01:12.226717\n"
     ]
    },
    {
     "name": "stderr",
     "output_type": "stream",
     "text": [
      "Training Base Models: 100%|##########| 5/5 [00:06<00:00,  1.28s/it]\n",
      "Testing Instances: 100%|##########| 100/100 [00:02<00:00, 39.54it/s]\n"
     ]
    },
    {
     "name": "stdout",
     "output_type": "stream",
     "text": [
      "Acurácia do modelo rd para ECG200: 0.81\n",
      "Time runtime (seconds):  1:01:21.500970\n"
     ]
    },
    {
     "name": "stderr",
     "output_type": "stream",
     "text": [
      "Training Base Models: 100%|##########| 5/5 [00:00<00:00, 31.35it/s]\n",
      "Testing Instances: 100%|##########| 861/861 [00:22<00:00, 38.62it/s]\n"
     ]
    },
    {
     "name": "stdout",
     "output_type": "stream",
     "text": [
      "Acurácia do modelo 1nn para ECGFiveDays: 0.9686411149825784\n",
      "Time runtime (seconds):  1:01:44.225779\n"
     ]
    },
    {
     "name": "stderr",
     "output_type": "stream",
     "text": [
      "Training Base Models: 100%|##########| 5/5 [00:00<00:00, 31.19it/s]\n",
      "Testing Instances: 100%|##########| 861/861 [00:22<00:00, 38.52it/s]\n"
     ]
    },
    {
     "name": "stdout",
     "output_type": "stream",
     "text": [
      "Acurácia do modelo 3nn para ECGFiveDays: 0.967479674796748\n",
      "Time runtime (seconds):  1:02:07.009661\n"
     ]
    },
    {
     "name": "stderr",
     "output_type": "stream",
     "text": [
      "Training Base Models: 100%|##########| 5/5 [00:00<00:00, 30.66it/s]\n",
      "Testing Instances: 100%|##########| 861/861 [00:22<00:00, 38.57it/s]\n"
     ]
    },
    {
     "name": "stdout",
     "output_type": "stream",
     "text": [
      "Acurácia do modelo svm para ECGFiveDays: 0.967479674796748\n",
      "Time runtime (seconds):  1:02:29.758385\n"
     ]
    },
    {
     "name": "stderr",
     "output_type": "stream",
     "text": [
      "Training Base Models: 100%|##########| 5/5 [00:00<00:00, 29.65it/s]\n",
      "Testing Instances: 100%|##########| 861/861 [00:22<00:00, 38.87it/s]\n"
     ]
    },
    {
     "name": "stdout",
     "output_type": "stream",
     "text": [
      "Acurácia do modelo nb para ECGFiveDays: 0.9686411149825784\n",
      "Time runtime (seconds):  1:02:52.356945\n"
     ]
    },
    {
     "name": "stderr",
     "output_type": "stream",
     "text": [
      "Training Base Models: 100%|##########| 5/5 [00:00<00:00, 31.23it/s]\n",
      "Testing Instances: 100%|##########| 861/861 [00:22<00:00, 38.30it/s]\n"
     ]
    },
    {
     "name": "stdout",
     "output_type": "stream",
     "text": [
      "Acurácia do modelo gbc para ECGFiveDays: 0.9686411149825784\n",
      "Time runtime (seconds):  1:03:15.265663\n"
     ]
    },
    {
     "name": "stderr",
     "output_type": "stream",
     "text": [
      "Training Base Models: 100%|##########| 5/5 [00:00<00:00, 30.36it/s]\n",
      "Testing Instances: 100%|##########| 861/861 [00:22<00:00, 38.36it/s]\n"
     ]
    },
    {
     "name": "stdout",
     "output_type": "stream",
     "text": [
      "Acurácia do modelo ee para ECGFiveDays: 0.967479674796748\n",
      "Time runtime (seconds):  1:03:38.146318\n"
     ]
    },
    {
     "name": "stderr",
     "output_type": "stream",
     "text": [
      "Training Base Models: 100%|##########| 5/5 [00:00<00:00, 25.02it/s]\n",
      "Testing Instances: 100%|##########| 861/861 [00:22<00:00, 38.70it/s]\n"
     ]
    },
    {
     "name": "stdout",
     "output_type": "stream",
     "text": [
      "Acurácia do modelo shape para ECGFiveDays: 0.967479674796748\n",
      "Time runtime (seconds):  1:04:00.868876\n"
     ]
    },
    {
     "name": "stderr",
     "output_type": "stream",
     "text": [
      "Training Base Models: 100%|##########| 5/5 [00:00<00:00, 24.51it/s]\n",
      "Testing Instances: 100%|##########| 861/861 [00:22<00:00, 38.57it/s]\n"
     ]
    },
    {
     "name": "stdout",
     "output_type": "stream",
     "text": [
      "Acurácia do modelo rf para ECGFiveDays: 0.967479674796748\n",
      "Time runtime (seconds):  1:04:23.682671\n"
     ]
    },
    {
     "name": "stderr",
     "output_type": "stream",
     "text": [
      "Training Base Models: 100%|##########| 5/5 [00:00<00:00, 23.04it/s]\n",
      "Testing Instances: 100%|##########| 861/861 [00:23<00:00, 37.22it/s]\n"
     ]
    },
    {
     "name": "stdout",
     "output_type": "stream",
     "text": [
      "Acurácia do modelo rd para ECGFiveDays: 0.9698025551684089\n",
      "Time runtime (seconds):  1:04:47.302105\n"
     ]
    },
    {
     "name": "stderr",
     "output_type": "stream",
     "text": [
      "Training Base Models: 100%|##########| 5/5 [00:00<00:00, 13.61it/s]\n",
      "Testing Instances: 100%|##########| 88/88 [00:02<00:00, 33.13it/s]\n"
     ]
    },
    {
     "name": "stdout",
     "output_type": "stream",
     "text": [
      "Acurácia do modelo 1nn para FaceFour: 0.875\n",
      "Time runtime (seconds):  1:04:50.639739\n"
     ]
    },
    {
     "name": "stderr",
     "output_type": "stream",
     "text": [
      "Training Base Models: 100%|##########| 5/5 [00:00<00:00, 13.86it/s]\n",
      "Testing Instances: 100%|##########| 88/88 [00:02<00:00, 36.12it/s]\n"
     ]
    },
    {
     "name": "stdout",
     "output_type": "stream",
     "text": [
      "Acurácia do modelo 3nn para FaceFour: 0.8522727272727273\n",
      "Time runtime (seconds):  1:04:53.701401\n"
     ]
    },
    {
     "name": "stderr",
     "output_type": "stream",
     "text": [
      "Training Base Models: 100%|##########| 5/5 [00:00<00:00, 16.21it/s]\n",
      "Testing Instances: 100%|##########| 88/88 [00:02<00:00, 35.31it/s]\n"
     ]
    },
    {
     "name": "stdout",
     "output_type": "stream",
     "text": [
      "Acurácia do modelo svm para FaceFour: 0.8636363636363636\n",
      "Time runtime (seconds):  1:04:56.784625\n"
     ]
    },
    {
     "name": "stderr",
     "output_type": "stream",
     "text": [
      "Training Base Models: 100%|##########| 5/5 [00:00<00:00, 15.95it/s]\n",
      "Testing Instances: 100%|##########| 88/88 [00:02<00:00, 34.84it/s]\n"
     ]
    },
    {
     "name": "stdout",
     "output_type": "stream",
     "text": [
      "Acurácia do modelo nb para FaceFour: 0.8636363636363636\n",
      "Time runtime (seconds):  1:04:59.889409\n"
     ]
    },
    {
     "name": "stderr",
     "output_type": "stream",
     "text": [
      "Training Base Models: 100%|##########| 5/5 [00:00<00:00, 16.43it/s]\n",
      "Testing Instances: 100%|##########| 88/88 [00:02<00:00, 35.96it/s]\n"
     ]
    },
    {
     "name": "stdout",
     "output_type": "stream",
     "text": [
      "Acurácia do modelo gbc para FaceFour: 0.8636363636363636\n",
      "Time runtime (seconds):  1:05:02.906567\n"
     ]
    },
    {
     "name": "stderr",
     "output_type": "stream",
     "text": [
      "Training Base Models: 100%|##########| 5/5 [00:00<00:00, 15.62it/s]\n",
      "Testing Instances: 100%|##########| 88/88 [00:02<00:00, 35.21it/s]\n"
     ]
    },
    {
     "name": "stdout",
     "output_type": "stream",
     "text": [
      "Acurácia do modelo ee para FaceFour: 0.8636363636363636\n",
      "Time runtime (seconds):  1:05:05.995181\n"
     ]
    },
    {
     "name": "stderr",
     "output_type": "stream",
     "text": [
      "Training Base Models: 100%|##########| 5/5 [00:00<00:00, 16.42it/s]\n",
      "Testing Instances: 100%|##########| 88/88 [00:02<00:00, 35.71it/s]\n"
     ]
    },
    {
     "name": "stdout",
     "output_type": "stream",
     "text": [
      "Acurácia do modelo shape para FaceFour: 0.8636363636363636\n",
      "Time runtime (seconds):  1:05:09.032632\n"
     ]
    },
    {
     "name": "stderr",
     "output_type": "stream",
     "text": [
      "Training Base Models: 100%|##########| 5/5 [00:00<00:00, 13.69it/s]\n",
      "Testing Instances: 100%|##########| 88/88 [00:02<00:00, 35.62it/s]\n"
     ]
    },
    {
     "name": "stdout",
     "output_type": "stream",
     "text": [
      "Acurácia do modelo rf para FaceFour: 0.8636363636363636\n",
      "Time runtime (seconds):  1:05:12.185472\n"
     ]
    },
    {
     "name": "stderr",
     "output_type": "stream",
     "text": [
      "Training Base Models: 100%|##########| 5/5 [00:00<00:00, 16.01it/s]\n",
      "Testing Instances: 100%|##########| 88/88 [00:02<00:00, 35.67it/s]\n"
     ]
    },
    {
     "name": "stdout",
     "output_type": "stream",
     "text": [
      "Acurácia do modelo rd para FaceFour: 0.8522727272727273\n",
      "Time runtime (seconds):  1:05:15.232492\n"
     ]
    },
    {
     "name": "stderr",
     "output_type": "stream",
     "text": [
      "Training Base Models: 100%|##########| 5/5 [00:00<00:00,  7.36it/s]\n",
      "Testing Instances: 100%|##########| 150/150 [00:03<00:00, 37.73it/s]\n"
     ]
    },
    {
     "name": "stdout",
     "output_type": "stream",
     "text": [
      "Acurácia do modelo 1nn para GunPoint: 0.9133333333333333\n",
      "Time runtime (seconds):  1:05:20.171470\n"
     ]
    },
    {
     "name": "stderr",
     "output_type": "stream",
     "text": [
      "Training Base Models: 100%|##########| 5/5 [00:00<00:00,  7.39it/s]\n",
      "Testing Instances: 100%|##########| 150/150 [00:04<00:00, 36.81it/s]\n"
     ]
    },
    {
     "name": "stdout",
     "output_type": "stream",
     "text": [
      "Acurácia do modelo 3nn para GunPoint: 0.9066666666666666\n",
      "Time runtime (seconds):  1:05:25.214386\n"
     ]
    },
    {
     "name": "stderr",
     "output_type": "stream",
     "text": [
      "Training Base Models: 100%|##########| 5/5 [00:00<00:00,  7.36it/s]\n",
      "Testing Instances: 100%|##########| 150/150 [00:03<00:00, 38.21it/s]\n"
     ]
    },
    {
     "name": "stdout",
     "output_type": "stream",
     "text": [
      "Acurácia do modelo svm para GunPoint: 0.9133333333333333\n",
      "Time runtime (seconds):  1:05:30.111335\n"
     ]
    },
    {
     "name": "stderr",
     "output_type": "stream",
     "text": [
      "Training Base Models: 100%|##########| 5/5 [00:00<00:00,  7.39it/s]\n",
      "Testing Instances: 100%|##########| 150/150 [00:04<00:00, 35.79it/s]\n"
     ]
    },
    {
     "name": "stdout",
     "output_type": "stream",
     "text": [
      "Acurácia do modelo nb para GunPoint: 0.9133333333333333\n",
      "Time runtime (seconds):  1:05:35.271968\n"
     ]
    },
    {
     "name": "stderr",
     "output_type": "stream",
     "text": [
      "Training Base Models: 100%|##########| 5/5 [00:00<00:00,  6.99it/s]\n",
      "Testing Instances: 100%|##########| 150/150 [00:04<00:00, 37.22it/s]\n"
     ]
    },
    {
     "name": "stdout",
     "output_type": "stream",
     "text": [
      "Acurácia do modelo gbc para GunPoint: 0.9066666666666666\n",
      "Time runtime (seconds):  1:05:40.309506\n"
     ]
    },
    {
     "name": "stderr",
     "output_type": "stream",
     "text": [
      "Training Base Models: 100%|##########| 5/5 [00:00<00:00,  7.38it/s]\n",
      "Testing Instances: 100%|##########| 150/150 [00:03<00:00, 37.62it/s]\n"
     ]
    },
    {
     "name": "stdout",
     "output_type": "stream",
     "text": [
      "Acurácia do modelo ee para GunPoint: 0.9133333333333333\n",
      "Time runtime (seconds):  1:05:45.279235\n"
     ]
    },
    {
     "name": "stderr",
     "output_type": "stream",
     "text": [
      "Training Base Models: 100%|##########| 5/5 [00:00<00:00,  7.50it/s]\n",
      "Testing Instances: 100%|##########| 150/150 [00:03<00:00, 37.56it/s]\n"
     ]
    },
    {
     "name": "stdout",
     "output_type": "stream",
     "text": [
      "Acurácia do modelo shape para GunPoint: 0.9133333333333333\n",
      "Time runtime (seconds):  1:05:50.231386\n"
     ]
    },
    {
     "name": "stderr",
     "output_type": "stream",
     "text": [
      "Training Base Models: 100%|##########| 5/5 [00:00<00:00,  7.45it/s]\n",
      "Testing Instances: 100%|##########| 150/150 [00:03<00:00, 37.91it/s]\n"
     ]
    },
    {
     "name": "stdout",
     "output_type": "stream",
     "text": [
      "Acurácia do modelo rf para GunPoint: 0.9066666666666666\n",
      "Time runtime (seconds):  1:05:55.146618\n"
     ]
    },
    {
     "name": "stderr",
     "output_type": "stream",
     "text": [
      "Training Base Models: 100%|##########| 5/5 [00:00<00:00,  7.59it/s]\n",
      "Testing Instances: 100%|##########| 150/150 [00:04<00:00, 37.08it/s]\n"
     ]
    },
    {
     "name": "stdout",
     "output_type": "stream",
     "text": [
      "Acurácia do modelo rd para GunPoint: 0.9133333333333333\n",
      "Time runtime (seconds):  1:06:00.137773\n"
     ]
    },
    {
     "name": "stderr",
     "output_type": "stream",
     "text": [
      "Training Base Models: 100%|##########| 5/5 [00:05<00:00,  1.13s/it]\n",
      "Testing Instances: 100%|##########| 61/61 [00:01<00:00, 32.95it/s]\n"
     ]
    },
    {
     "name": "stdout",
     "output_type": "stream",
     "text": [
      "Acurácia do modelo 1nn para Lightning2: 0.6885245901639344\n",
      "Time runtime (seconds):  1:06:07.918524\n"
     ]
    },
    {
     "name": "stderr",
     "output_type": "stream",
     "text": [
      "Training Base Models: 100%|##########| 5/5 [00:05<00:00,  1.09s/it]\n",
      "Testing Instances: 100%|##########| 61/61 [00:01<00:00, 33.22it/s]\n"
     ]
    },
    {
     "name": "stdout",
     "output_type": "stream",
     "text": [
      "Acurácia do modelo 3nn para Lightning2: 0.6885245901639344\n",
      "Time runtime (seconds):  1:06:15.521510\n"
     ]
    },
    {
     "name": "stderr",
     "output_type": "stream",
     "text": [
      "Training Base Models: 100%|##########| 5/5 [00:05<00:00,  1.10s/it]\n",
      "Testing Instances: 100%|##########| 61/61 [00:01<00:00, 33.62it/s]\n"
     ]
    },
    {
     "name": "stdout",
     "output_type": "stream",
     "text": [
      "Acurácia do modelo svm para Lightning2: 0.6885245901639344\n",
      "Time runtime (seconds):  1:06:23.115958\n"
     ]
    },
    {
     "name": "stderr",
     "output_type": "stream",
     "text": [
      "Training Base Models: 100%|##########| 5/5 [00:05<00:00,  1.07s/it]\n",
      "Testing Instances: 100%|##########| 61/61 [00:01<00:00, 33.47it/s]\n"
     ]
    },
    {
     "name": "stdout",
     "output_type": "stream",
     "text": [
      "Acurácia do modelo nb para Lightning2: 0.6885245901639344\n",
      "Time runtime (seconds):  1:06:30.601316\n"
     ]
    },
    {
     "name": "stderr",
     "output_type": "stream",
     "text": [
      "Training Base Models: 100%|##########| 5/5 [00:05<00:00,  1.09s/it]\n",
      "Testing Instances: 100%|##########| 61/61 [00:01<00:00, 33.32it/s]\n"
     ]
    },
    {
     "name": "stdout",
     "output_type": "stream",
     "text": [
      "Acurácia do modelo gbc para Lightning2: 0.6885245901639344\n",
      "Time runtime (seconds):  1:06:38.170096\n"
     ]
    },
    {
     "name": "stderr",
     "output_type": "stream",
     "text": [
      "Training Base Models: 100%|##########| 5/5 [00:05<00:00,  1.10s/it]\n",
      "Testing Instances: 100%|##########| 61/61 [00:01<00:00, 32.93it/s]\n"
     ]
    },
    {
     "name": "stdout",
     "output_type": "stream",
     "text": [
      "Acurácia do modelo ee para Lightning2: 0.6885245901639344\n",
      "Time runtime (seconds):  1:06:45.850215\n"
     ]
    },
    {
     "name": "stderr",
     "output_type": "stream",
     "text": [
      "Training Base Models: 100%|##########| 5/5 [00:05<00:00,  1.09s/it]\n",
      "Testing Instances: 100%|##########| 61/61 [00:01<00:00, 32.56it/s]\n"
     ]
    },
    {
     "name": "stdout",
     "output_type": "stream",
     "text": [
      "Acurácia do modelo shape para Lightning2: 0.6885245901639344\n",
      "Time runtime (seconds):  1:06:53.491784\n"
     ]
    },
    {
     "name": "stderr",
     "output_type": "stream",
     "text": [
      "Training Base Models: 100%|##########| 5/5 [00:05<00:00,  1.09s/it]\n",
      "Testing Instances: 100%|##########| 61/61 [00:01<00:00, 32.51it/s]\n"
     ]
    },
    {
     "name": "stdout",
     "output_type": "stream",
     "text": [
      "Acurácia do modelo rf para Lightning2: 0.6885245901639344\n",
      "Time runtime (seconds):  1:07:01.120299\n"
     ]
    },
    {
     "name": "stderr",
     "output_type": "stream",
     "text": [
      "Training Base Models: 100%|##########| 5/5 [00:05<00:00,  1.09s/it]\n",
      "Testing Instances: 100%|##########| 61/61 [00:01<00:00, 32.75it/s]\n"
     ]
    },
    {
     "name": "stdout",
     "output_type": "stream",
     "text": [
      "Acurácia do modelo rd para Lightning2: 0.6885245901639344\n",
      "Time runtime (seconds):  1:07:08.760769\n"
     ]
    },
    {
     "name": "stderr",
     "output_type": "stream",
     "text": [
      "Training Base Models: 100%|##########| 5/5 [00:04<00:00,  1.07it/s]\n",
      "Testing Instances: 100%|##########| 73/73 [00:02<00:00, 33.89it/s]\n"
     ]
    },
    {
     "name": "stdout",
     "output_type": "stream",
     "text": [
      "Acurácia do modelo 1nn para Lightning7: 0.6575342465753424\n",
      "Time runtime (seconds):  1:07:15.891562\n"
     ]
    },
    {
     "name": "stderr",
     "output_type": "stream",
     "text": [
      "Training Base Models: 100%|##########| 5/5 [00:04<00:00,  1.08it/s]\n",
      "Testing Instances: 100%|##########| 73/73 [00:02<00:00, 34.73it/s]\n"
     ]
    },
    {
     "name": "stdout",
     "output_type": "stream",
     "text": [
      "Acurácia do modelo 3nn para Lightning7: 0.6712328767123288\n",
      "Time runtime (seconds):  1:07:22.939227\n"
     ]
    },
    {
     "name": "stderr",
     "output_type": "stream",
     "text": [
      "Training Base Models: 100%|##########| 5/5 [00:04<00:00,  1.11it/s]\n",
      "Testing Instances: 100%|##########| 73/73 [00:02<00:00, 34.92it/s]\n"
     ]
    },
    {
     "name": "stdout",
     "output_type": "stream",
     "text": [
      "Acurácia do modelo svm para Lightning7: 0.6575342465753424\n",
      "Time runtime (seconds):  1:07:29.902226\n"
     ]
    },
    {
     "name": "stderr",
     "output_type": "stream",
     "text": [
      "Training Base Models: 100%|##########| 5/5 [00:04<00:00,  1.09it/s]\n",
      "Testing Instances: 100%|##########| 73/73 [00:02<00:00, 33.83it/s]\n"
     ]
    },
    {
     "name": "stdout",
     "output_type": "stream",
     "text": [
      "Acurácia do modelo nb para Lightning7: 0.6986301369863014\n",
      "Time runtime (seconds):  1:07:37.066889\n"
     ]
    },
    {
     "name": "stderr",
     "output_type": "stream",
     "text": [
      "Training Base Models: 100%|##########| 5/5 [00:04<00:00,  1.08it/s]\n",
      "Testing Instances: 100%|##########| 73/73 [00:02<00:00, 31.84it/s]\n"
     ]
    },
    {
     "name": "stdout",
     "output_type": "stream",
     "text": [
      "Acurácia do modelo gbc para Lightning7: 0.7123287671232876\n",
      "Time runtime (seconds):  1:07:44.291861\n"
     ]
    },
    {
     "name": "stderr",
     "output_type": "stream",
     "text": [
      "Training Base Models: 100%|##########| 5/5 [00:04<00:00,  1.09it/s]\n",
      "Testing Instances: 100%|##########| 73/73 [00:02<00:00, 33.33it/s]\n"
     ]
    },
    {
     "name": "stdout",
     "output_type": "stream",
     "text": [
      "Acurácia do modelo ee para Lightning7: 0.6712328767123288\n",
      "Time runtime (seconds):  1:07:51.396135\n"
     ]
    },
    {
     "name": "stderr",
     "output_type": "stream",
     "text": [
      "Training Base Models: 100%|##########| 5/5 [00:04<00:00,  1.09it/s]\n",
      "Testing Instances: 100%|##########| 73/73 [00:02<00:00, 34.73it/s]\n"
     ]
    },
    {
     "name": "stdout",
     "output_type": "stream",
     "text": [
      "Acurácia do modelo shape para Lightning7: 0.6712328767123288\n",
      "Time runtime (seconds):  1:07:58.410315\n"
     ]
    },
    {
     "name": "stderr",
     "output_type": "stream",
     "text": [
      "Training Base Models: 100%|##########| 5/5 [00:04<00:00,  1.06it/s]\n",
      "Testing Instances: 100%|##########| 73/73 [00:02<00:00, 34.08it/s]\n"
     ]
    },
    {
     "name": "stdout",
     "output_type": "stream",
     "text": [
      "Acurácia do modelo rf para Lightning7: 0.684931506849315\n",
      "Time runtime (seconds):  1:08:05.571097\n"
     ]
    },
    {
     "name": "stderr",
     "output_type": "stream",
     "text": [
      "Training Base Models: 100%|##########| 5/5 [00:04<00:00,  1.08it/s]\n",
      "Testing Instances: 100%|##########| 73/73 [00:02<00:00, 34.50it/s]\n"
     ]
    },
    {
     "name": "stdout",
     "output_type": "stream",
     "text": [
      "Acurácia do modelo rd para Lightning7: 0.684931506849315\n",
      "Time runtime (seconds):  1:08:12.663848\n"
     ]
    },
    {
     "name": "stderr",
     "output_type": "stream",
     "text": [
      "Training Base Models: 100%|##########| 5/5 [00:00<00:00, 34.74it/s]\n",
      "Testing Instances: 100%|##########| 1252/1252 [00:33<00:00, 37.85it/s]\n"
     ]
    },
    {
     "name": "stdout",
     "output_type": "stream",
     "text": [
      "Acurácia do modelo 1nn para MoteStrain: 0.8682108626198083\n",
      "Time runtime (seconds):  1:08:46.173027\n"
     ]
    },
    {
     "name": "stderr",
     "output_type": "stream",
     "text": [
      "Training Base Models: 100%|##########| 5/5 [00:00<00:00, 25.41it/s]\n",
      "Testing Instances: 100%|##########| 1252/1252 [00:33<00:00, 37.62it/s]\n"
     ]
    },
    {
     "name": "stdout",
     "output_type": "stream",
     "text": [
      "Acurácia do modelo 3nn para MoteStrain: 0.8682108626198083\n",
      "Time runtime (seconds):  1:09:19.935507\n"
     ]
    },
    {
     "name": "stderr",
     "output_type": "stream",
     "text": [
      "Training Base Models: 100%|##########| 5/5 [00:00<00:00, 32.99it/s]\n",
      "Testing Instances: 100%|##########| 1252/1252 [00:34<00:00, 36.66it/s]\n"
     ]
    },
    {
     "name": "stdout",
     "output_type": "stream",
     "text": [
      "Acurácia do modelo svm para MoteStrain: 0.8690095846645367\n",
      "Time runtime (seconds):  1:09:54.538531\n"
     ]
    },
    {
     "name": "stderr",
     "output_type": "stream",
     "text": [
      "Training Base Models: 100%|##########| 5/5 [00:00<00:00, 33.56it/s]\n",
      "Testing Instances: 100%|##########| 1252/1252 [00:32<00:00, 37.95it/s]\n"
     ]
    },
    {
     "name": "stdout",
     "output_type": "stream",
     "text": [
      "Acurácia do modelo nb para MoteStrain: 0.8706070287539937\n",
      "Time runtime (seconds):  1:10:27.973937\n"
     ]
    },
    {
     "name": "stderr",
     "output_type": "stream",
     "text": [
      "Training Base Models: 100%|##########| 5/5 [00:00<00:00, 39.64it/s]\n",
      "Testing Instances: 100%|##########| 1252/1252 [00:32<00:00, 38.65it/s]\n"
     ]
    },
    {
     "name": "stdout",
     "output_type": "stream",
     "text": [
      "Acurácia do modelo gbc para MoteStrain: 0.8690095846645367\n",
      "Time runtime (seconds):  1:11:00.767263\n"
     ]
    },
    {
     "name": "stderr",
     "output_type": "stream",
     "text": [
      "Training Base Models: 100%|##########| 5/5 [00:00<00:00, 29.26it/s]\n",
      "Testing Instances: 100%|##########| 1252/1252 [00:33<00:00, 37.69it/s]\n"
     ]
    },
    {
     "name": "stdout",
     "output_type": "stream",
     "text": [
      "Acurácia do modelo ee para MoteStrain: 0.8690095846645367\n",
      "Time runtime (seconds):  1:11:34.429570\n"
     ]
    },
    {
     "name": "stderr",
     "output_type": "stream",
     "text": [
      "Training Base Models: 100%|##########| 5/5 [00:00<00:00, 25.23it/s]\n",
      "Testing Instances: 100%|##########| 1252/1252 [00:33<00:00, 37.79it/s]\n"
     ]
    },
    {
     "name": "stdout",
     "output_type": "stream",
     "text": [
      "Acurácia do modelo shape para MoteStrain: 0.8714057507987221\n",
      "Time runtime (seconds):  1:12:08.033855\n"
     ]
    },
    {
     "name": "stderr",
     "output_type": "stream",
     "text": [
      "Training Base Models: 100%|##########| 5/5 [00:00<00:00, 38.23it/s]\n",
      "Testing Instances: 100%|##########| 1252/1252 [00:32<00:00, 38.34it/s]\n"
     ]
    },
    {
     "name": "stdout",
     "output_type": "stream",
     "text": [
      "Acurácia do modelo rf para MoteStrain: 0.8706070287539937\n",
      "Time runtime (seconds):  1:12:41.105914\n"
     ]
    },
    {
     "name": "stderr",
     "output_type": "stream",
     "text": [
      "Training Base Models: 100%|##########| 5/5 [00:00<00:00, 40.03it/s]\n",
      "Testing Instances: 100%|##########| 1252/1252 [00:32<00:00, 38.39it/s]\n"
     ]
    },
    {
     "name": "stdout",
     "output_type": "stream",
     "text": [
      "Acurácia do modelo rd para MoteStrain: 0.8706070287539937\n",
      "Time runtime (seconds):  1:13:14.134966\n"
     ]
    },
    {
     "name": "stderr",
     "output_type": "stream",
     "text": [
      "Training Base Models: 100%|##########| 5/5 [00:00<00:00, 10.55it/s]\n",
      "Testing Instances: 100%|##########| 30/30 [00:00<00:00, 33.17it/s]\n"
     ]
    },
    {
     "name": "stdout",
     "output_type": "stream",
     "text": [
      "Acurácia do modelo 1nn para OliveOil: 0.8\n",
      "Time runtime (seconds):  1:13:15.795391\n"
     ]
    },
    {
     "name": "stderr",
     "output_type": "stream",
     "text": [
      "Training Base Models: 100%|##########| 5/5 [00:00<00:00,  9.84it/s]\n",
      "Testing Instances: 100%|##########| 30/30 [00:00<00:00, 33.07it/s]\n"
     ]
    },
    {
     "name": "stdout",
     "output_type": "stream",
     "text": [
      "Acurácia do modelo 3nn para OliveOil: 0.8\n",
      "Time runtime (seconds):  1:13:17.494394\n"
     ]
    },
    {
     "name": "stderr",
     "output_type": "stream",
     "text": [
      "Training Base Models: 100%|##########| 5/5 [00:00<00:00, 10.46it/s]\n",
      "Testing Instances: 100%|##########| 30/30 [00:00<00:00, 32.27it/s]\n"
     ]
    },
    {
     "name": "stdout",
     "output_type": "stream",
     "text": [
      "Acurácia do modelo svm para OliveOil: 0.8333333333333334\n",
      "Time runtime (seconds):  1:13:19.203467\n"
     ]
    },
    {
     "name": "stderr",
     "output_type": "stream",
     "text": [
      "Training Base Models: 100%|##########| 5/5 [00:00<00:00, 10.20it/s]\n",
      "Testing Instances: 100%|##########| 30/30 [00:00<00:00, 32.21it/s]\n"
     ]
    },
    {
     "name": "stdout",
     "output_type": "stream",
     "text": [
      "Acurácia do modelo nb para OliveOil: 0.8333333333333334\n",
      "Time runtime (seconds):  1:13:20.912044\n"
     ]
    },
    {
     "name": "stderr",
     "output_type": "stream",
     "text": [
      "Training Base Models: 100%|##########| 5/5 [00:00<00:00,  9.68it/s]\n",
      "Testing Instances: 100%|##########| 30/30 [00:00<00:00, 32.80it/s]\n"
     ]
    },
    {
     "name": "stdout",
     "output_type": "stream",
     "text": [
      "Acurácia do modelo gbc para OliveOil: 0.8333333333333334\n",
      "Time runtime (seconds):  1:13:22.623802\n"
     ]
    },
    {
     "name": "stderr",
     "output_type": "stream",
     "text": [
      "Training Base Models: 100%|##########| 5/5 [00:00<00:00, 10.09it/s]\n",
      "Testing Instances: 100%|##########| 30/30 [00:00<00:00, 32.61it/s]\n"
     ]
    },
    {
     "name": "stdout",
     "output_type": "stream",
     "text": [
      "Acurácia do modelo ee para OliveOil: 0.8333333333333334\n",
      "Time runtime (seconds):  1:13:24.318756\n"
     ]
    },
    {
     "name": "stderr",
     "output_type": "stream",
     "text": [
      "Training Base Models: 100%|##########| 5/5 [00:00<00:00,  9.95it/s]\n",
      "Testing Instances: 100%|##########| 30/30 [00:00<00:00, 32.91it/s]\n"
     ]
    },
    {
     "name": "stdout",
     "output_type": "stream",
     "text": [
      "Acurácia do modelo shape para OliveOil: 0.8333333333333334\n",
      "Time runtime (seconds):  1:13:26.034291\n"
     ]
    },
    {
     "name": "stderr",
     "output_type": "stream",
     "text": [
      "Training Base Models: 100%|##########| 5/5 [00:00<00:00,  9.28it/s]\n",
      "Testing Instances: 100%|##########| 30/30 [00:00<00:00, 32.90it/s]\n"
     ]
    },
    {
     "name": "stdout",
     "output_type": "stream",
     "text": [
      "Acurácia do modelo rf para OliveOil: 0.7666666666666667\n",
      "Time runtime (seconds):  1:13:27.778520\n"
     ]
    },
    {
     "name": "stderr",
     "output_type": "stream",
     "text": [
      "Training Base Models: 100%|##########| 5/5 [00:00<00:00, 10.60it/s]\n",
      "Testing Instances: 100%|##########| 30/30 [00:00<00:00, 32.98it/s]\n"
     ]
    },
    {
     "name": "stdout",
     "output_type": "stream",
     "text": [
      "Acurácia do modelo rd para OliveOil: 0.8\n",
      "Time runtime (seconds):  1:13:29.442479\n"
     ]
    },
    {
     "name": "stderr",
     "output_type": "stream",
     "text": [
      "Training Base Models: 100%|##########| 5/5 [00:00<00:00, 41.58it/s]\n",
      "Testing Instances: 100%|##########| 601/601 [00:15<00:00, 38.20it/s]\n"
     ]
    },
    {
     "name": "stdout",
     "output_type": "stream",
     "text": [
      "Acurácia do modelo 1nn para SonyAIBORobotSurface1: 0.7237936772046589\n",
      "Time runtime (seconds):  1:13:45.569383\n"
     ]
    },
    {
     "name": "stderr",
     "output_type": "stream",
     "text": [
      "Training Base Models: 100%|##########| 5/5 [00:00<00:00, 42.77it/s]\n",
      "Testing Instances: 100%|##########| 601/601 [00:15<00:00, 38.05it/s]\n"
     ]
    },
    {
     "name": "stdout",
     "output_type": "stream",
     "text": [
      "Acurácia do modelo 3nn para SonyAIBORobotSurface1: 0.718801996672213\n",
      "Time runtime (seconds):  1:14:01.756862\n"
     ]
    },
    {
     "name": "stderr",
     "output_type": "stream",
     "text": [
      "Training Base Models: 100%|##########| 5/5 [00:00<00:00, 38.82it/s]\n",
      "Testing Instances: 100%|##########| 601/601 [00:15<00:00, 38.01it/s]\n"
     ]
    },
    {
     "name": "stdout",
     "output_type": "stream",
     "text": [
      "Acurácia do modelo svm para SonyAIBORobotSurface1: 0.7204658901830283\n",
      "Time runtime (seconds):  1:14:17.961318\n"
     ]
    },
    {
     "name": "stderr",
     "output_type": "stream",
     "text": [
      "Training Base Models: 100%|##########| 5/5 [00:00<00:00, 41.35it/s]\n",
      "Testing Instances: 100%|##########| 601/601 [00:15<00:00, 38.21it/s]\n"
     ]
    },
    {
     "name": "stdout",
     "output_type": "stream",
     "text": [
      "Acurácia do modelo nb para SonyAIBORobotSurface1: 0.7221297836938436\n",
      "Time runtime (seconds):  1:14:34.094824\n"
     ]
    },
    {
     "name": "stderr",
     "output_type": "stream",
     "text": [
      "Training Base Models: 100%|##########| 5/5 [00:00<00:00, 38.88it/s]\n",
      "Testing Instances: 100%|##########| 601/601 [00:15<00:00, 38.46it/s]\n"
     ]
    },
    {
     "name": "stdout",
     "output_type": "stream",
     "text": [
      "Acurácia do modelo gbc para SonyAIBORobotSurface1: 0.7221297836938436\n",
      "Time runtime (seconds):  1:14:50.120702\n"
     ]
    },
    {
     "name": "stderr",
     "output_type": "stream",
     "text": [
      "Training Base Models: 100%|##########| 5/5 [00:00<00:00, 42.07it/s]\n",
      "Testing Instances: 100%|##########| 601/601 [00:15<00:00, 37.97it/s]\n"
     ]
    },
    {
     "name": "stdout",
     "output_type": "stream",
     "text": [
      "Acurácia do modelo ee para SonyAIBORobotSurface1: 0.7154742096505824\n",
      "Time runtime (seconds):  1:15:06.360379\n"
     ]
    },
    {
     "name": "stderr",
     "output_type": "stream",
     "text": [
      "Training Base Models: 100%|##########| 5/5 [00:00<00:00, 29.07it/s]\n",
      "Testing Instances: 100%|##########| 601/601 [00:15<00:00, 38.74it/s]\n"
     ]
    },
    {
     "name": "stdout",
     "output_type": "stream",
     "text": [
      "Acurácia do modelo shape para SonyAIBORobotSurface1: 0.7237936772046589\n",
      "Time runtime (seconds):  1:15:22.326979\n"
     ]
    },
    {
     "name": "stderr",
     "output_type": "stream",
     "text": [
      "Training Base Models: 100%|##########| 5/5 [00:00<00:00, 39.72it/s]\n",
      "Testing Instances: 100%|##########| 601/601 [00:15<00:00, 38.19it/s]\n"
     ]
    },
    {
     "name": "stdout",
     "output_type": "stream",
     "text": [
      "Acurácia do modelo rf para SonyAIBORobotSurface1: 0.7154742096505824\n",
      "Time runtime (seconds):  1:15:38.463640\n"
     ]
    },
    {
     "name": "stderr",
     "output_type": "stream",
     "text": [
      "Training Base Models: 100%|##########| 5/5 [00:00<00:00, 42.20it/s]\n",
      "Testing Instances: 100%|##########| 601/601 [00:15<00:00, 38.36it/s]\n"
     ]
    },
    {
     "name": "stdout",
     "output_type": "stream",
     "text": [
      "Acurácia do modelo rd para SonyAIBORobotSurface1: 0.718801996672213\n",
      "Time runtime (seconds):  1:15:54.518156\n"
     ]
    },
    {
     "name": "stderr",
     "output_type": "stream",
     "text": [
      "Training Base Models: 100%|##########| 5/5 [00:00<00:00, 27.00it/s]\n",
      "Testing Instances: 100%|##########| 953/953 [00:25<00:00, 37.84it/s]\n"
     ]
    },
    {
     "name": "stdout",
     "output_type": "stream",
     "text": [
      "Acurácia do modelo 1nn para SonyAIBORobotSurface2: 0.8415529905561385\n",
      "Time runtime (seconds):  1:16:20.178887\n"
     ]
    },
    {
     "name": "stderr",
     "output_type": "stream",
     "text": [
      "Training Base Models: 100%|##########| 5/5 [00:00<00:00, 29.15it/s]\n",
      "Testing Instances: 100%|##########| 953/953 [00:24<00:00, 38.14it/s]\n"
     ]
    },
    {
     "name": "stdout",
     "output_type": "stream",
     "text": [
      "Acurácia do modelo 3nn para SonyAIBORobotSurface2: 0.8436516264428122\n",
      "Time runtime (seconds):  1:16:45.619074\n"
     ]
    },
    {
     "name": "stderr",
     "output_type": "stream",
     "text": [
      "Training Base Models: 100%|##########| 5/5 [00:00<00:00, 29.58it/s]\n",
      "Testing Instances: 100%|##########| 953/953 [00:25<00:00, 37.91it/s]\n"
     ]
    },
    {
     "name": "stdout",
     "output_type": "stream",
     "text": [
      "Acurácia do modelo svm para SonyAIBORobotSurface2: 0.8426023084994754\n",
      "Time runtime (seconds):  1:17:11.216959\n"
     ]
    },
    {
     "name": "stderr",
     "output_type": "stream",
     "text": [
      "Training Base Models: 100%|##########| 5/5 [00:00<00:00, 29.10it/s]\n",
      "Testing Instances: 100%|##########| 953/953 [00:24<00:00, 38.23it/s]\n"
     ]
    },
    {
     "name": "stdout",
     "output_type": "stream",
     "text": [
      "Acurácia do modelo nb para SonyAIBORobotSurface2: 0.8499475341028332\n",
      "Time runtime (seconds):  1:17:36.595788\n"
     ]
    },
    {
     "name": "stderr",
     "output_type": "stream",
     "text": [
      "Training Base Models: 100%|##########| 5/5 [00:00<00:00, 29.70it/s]\n",
      "Testing Instances: 100%|##########| 953/953 [00:24<00:00, 38.67it/s]\n"
     ]
    },
    {
     "name": "stdout",
     "output_type": "stream",
     "text": [
      "Acurácia do modelo gbc para SonyAIBORobotSurface2: 0.8436516264428122\n",
      "Time runtime (seconds):  1:18:01.686506\n"
     ]
    },
    {
     "name": "stderr",
     "output_type": "stream",
     "text": [
      "Training Base Models: 100%|##########| 5/5 [00:00<00:00, 28.26it/s]\n",
      "Testing Instances: 100%|##########| 953/953 [00:24<00:00, 38.40it/s]\n"
     ]
    },
    {
     "name": "stdout",
     "output_type": "stream",
     "text": [
      "Acurácia do modelo ee para SonyAIBORobotSurface2: 0.8436516264428122\n",
      "Time runtime (seconds):  1:18:26.959817\n"
     ]
    },
    {
     "name": "stderr",
     "output_type": "stream",
     "text": [
      "Training Base Models: 100%|##########| 5/5 [00:00<00:00, 20.99it/s]\n",
      "Testing Instances: 100%|##########| 953/953 [00:25<00:00, 38.08it/s]\n"
     ]
    },
    {
     "name": "stdout",
     "output_type": "stream",
     "text": [
      "Acurácia do modelo shape para SonyAIBORobotSurface2: 0.8426023084994754\n",
      "Time runtime (seconds):  1:18:52.510624\n"
     ]
    },
    {
     "name": "stderr",
     "output_type": "stream",
     "text": [
      "Training Base Models: 100%|##########| 5/5 [00:00<00:00, 29.15it/s]\n",
      "Testing Instances: 100%|##########| 953/953 [00:24<00:00, 38.29it/s]\n"
     ]
    },
    {
     "name": "stdout",
     "output_type": "stream",
     "text": [
      "Acurácia do modelo rf para SonyAIBORobotSurface2: 0.8436516264428122\n",
      "Time runtime (seconds):  1:19:17.851109\n"
     ]
    },
    {
     "name": "stderr",
     "output_type": "stream",
     "text": [
      "Training Base Models: 100%|##########| 5/5 [00:00<00:00, 27.52it/s]\n",
      "Testing Instances: 100%|##########| 953/953 [00:24<00:00, 39.59it/s]\n"
     ]
    },
    {
     "name": "stdout",
     "output_type": "stream",
     "text": [
      "Acurácia do modelo rd para SonyAIBORobotSurface2: 0.8415529905561385\n",
      "Time runtime (seconds):  1:19:42.392624\n"
     ]
    },
    {
     "name": "stderr",
     "output_type": "stream",
     "text": [
      "Training Base Models: 100%|##########| 5/5 [1:38:32<00:00, 1182.57s/it]  \n",
      "Testing Instances: 100%|##########| 300/300 [00:08<00:00, 37.45it/s]\n"
     ]
    },
    {
     "name": "stdout",
     "output_type": "stream",
     "text": [
      "Acurácia do modelo 1nn para SyntheticControl: 0.9533333333333334\n",
      "Time runtime (seconds):  2:58:24.049093\n"
     ]
    },
    {
     "name": "stderr",
     "output_type": "stream",
     "text": [
      "Training Base Models: 100%|##########| 5/5 [1:36:39<00:00, 1159.90s/it]  \n",
      "Testing Instances: 100%|##########| 300/300 [00:07<00:00, 39.49it/s]\n"
     ]
    },
    {
     "name": "stdout",
     "output_type": "stream",
     "text": [
      "Acurácia do modelo 3nn para SyntheticControl: 0.9566666666666667\n",
      "Time runtime (seconds):  4:35:11.876284\n"
     ]
    },
    {
     "name": "stderr",
     "output_type": "stream",
     "text": [
      "Training Base Models: 100%|##########| 5/5 [1:40:04<00:00, 1200.96s/it]  \n",
      "Testing Instances: 100%|##########| 300/300 [00:07<00:00, 39.36it/s]\n"
     ]
    },
    {
     "name": "stdout",
     "output_type": "stream",
     "text": [
      "Acurácia do modelo svm para SyntheticControl: 0.9533333333333334\n",
      "Time runtime (seconds):  6:15:25.024328\n"
     ]
    },
    {
     "name": "stderr",
     "output_type": "stream",
     "text": [
      "Training Base Models: 100%|##########| 5/5 [1:40:13<00:00, 1202.78s/it]  \n",
      "Testing Instances: 100%|##########| 300/300 [00:07<00:00, 38.74it/s]\n"
     ]
    },
    {
     "name": "stdout",
     "output_type": "stream",
     "text": [
      "Acurácia do modelo nb para SyntheticControl: 0.9533333333333334\n",
      "Time runtime (seconds):  7:55:47.397656\n"
     ]
    },
    {
     "name": "stderr",
     "output_type": "stream",
     "text": [
      "Training Base Models: 100%|##########| 5/5 [1:39:07<00:00, 1189.59s/it]  \n",
      "Testing Instances: 100%|##########| 300/300 [00:07<00:00, 38.92it/s]\n"
     ]
    },
    {
     "name": "stdout",
     "output_type": "stream",
     "text": [
      "Acurácia do modelo gbc para SyntheticControl: 0.95\n",
      "Time runtime (seconds):  9:35:03.818263\n"
     ]
    },
    {
     "name": "stderr",
     "output_type": "stream",
     "text": [
      "Training Base Models: 100%|##########| 5/5 [1:38:02<00:00, 1176.46s/it]  \n",
      "Testing Instances: 100%|##########| 300/300 [00:07<00:00, 39.45it/s]\n"
     ]
    },
    {
     "name": "stdout",
     "output_type": "stream",
     "text": [
      "Acurácia do modelo ee para SyntheticControl: 0.9533333333333334\n",
      "Time runtime (seconds):  11:13:14.493436\n"
     ]
    },
    {
     "name": "stderr",
     "output_type": "stream",
     "text": [
      "Training Base Models: 100%|##########| 5/5 [1:38:15<00:00, 1179.18s/it]  \n",
      "Testing Instances: 100%|##########| 300/300 [00:07<00:00, 39.35it/s]\n"
     ]
    },
    {
     "name": "stdout",
     "output_type": "stream",
     "text": [
      "Acurácia do modelo shape para SyntheticControl: 0.9533333333333334\n",
      "Time runtime (seconds):  12:51:38.746537\n"
     ]
    },
    {
     "name": "stderr",
     "output_type": "stream",
     "text": [
      "Training Base Models: 100%|##########| 5/5 [1:38:10<00:00, 1178.11s/it]  \n",
      "Testing Instances: 100%|##########| 300/300 [00:07<00:00, 38.94it/s]\n"
     ]
    },
    {
     "name": "stdout",
     "output_type": "stream",
     "text": [
      "Acurácia do modelo rf para SyntheticControl: 0.9533333333333334\n",
      "Time runtime (seconds):  14:29:57.726692\n"
     ]
    },
    {
     "name": "stderr",
     "output_type": "stream",
     "text": [
      "Training Base Models: 100%|##########| 5/5 [1:37:53<00:00, 1174.80s/it]  \n",
      "Testing Instances: 100%|##########| 300/300 [00:07<00:00, 39.57it/s]\n"
     ]
    },
    {
     "name": "stdout",
     "output_type": "stream",
     "text": [
      "Acurácia do modelo rd para SyntheticControl: 0.9533333333333334\n",
      "Time runtime (seconds):  16:08:00.102181\n"
     ]
    }
   ],
   "source": [
    "dataset_list = ['Adiac', 'Beef', 'Car', 'CBF', 'Coffee', 'DiatomSizeReduction', 'ECG200', 'ECGFiveDays', 'FaceFour',\n",
    "'GunPoint', 'Lightning2', 'Lightning7', 'MoteStrain', 'OliveOil', 'SonyAIBORobotSurface1','SonyAIBORobotSurface2', 'SyntheticControl']\n",
    "#'MedicalImages', 'Trace', 'TwoPatterns'\n",
    "# Para cada conjunto de dados na lista\n",
    "total_time = 0\n",
    "algos = ['1nn', '3nn', 'svm', 'nb', 'gbc', 'ee', 'shape', 'rf', 'rd']\n",
    "for dataset_name in dataset_list:\n",
    "    # Carregue os dados de treinamento e teste\n",
    "    X_train, y_train = load_classification(dataset_name, extract_path=\"./Temp/\", split=\"TRAIN\")\n",
    "    X_test, y_test = load_classification(dataset_name, extract_path=\"./Temp/\", split=\"test\")\n",
    "    \n",
    "    # Achatando os dados para 2D, pois alguns algoritmos esperam 2D\n",
    "    X_train_flat = X_train.reshape(X_train.shape[0], -1)\n",
    "    X_test_flat = X_test.reshape(X_test.shape[0], -1)\n",
    "    \n",
    "    dataset_accuracies = []\n",
    "    # Para cada algoritmo\n",
    "    for algo in algos:\n",
    "    # Treinar o modelo e fazer previsões\n",
    "        start = timeit.default_timer()\n",
    "        trained_base_models, meta_classifier = train_with_meta_classifier(X_train_flat, y_train, base_option='svm', meta_option='rf')\n",
    "        predictions_test_meta = predict_with_meta_classifier(X_test_flat, trained_base_models, meta_classifier)\n",
    "        stop = timeit.default_timer()\n",
    "        total_time += stop - start\n",
    "        real_time = str(timedelta(seconds=total_time))\n",
    "        \n",
    "        # Calcular a acurácia e armazená-la\n",
    "        test_accuracy_meta = np.mean(predictions_test_meta == y_test)\n",
    "        dataset_accuracies.append(test_accuracy_meta)\n",
    "        \n",
    "        \n",
    "        print(f\"Acurácia do modelo {algo} para {dataset_name}: {test_accuracy_meta}\")\n",
    "        print('Time runtime (seconds): ', real_time)\n",
    "        \n",
    "np.savetxt(\"Results_MSLOO_.csv\", dataset_accuracies, delimiter=\",\")"
   ]
  },
  {
   "cell_type": "markdown",
   "metadata": {},
   "source": [
    "### Dados"
   ]
  },
  {
   "cell_type": "code",
   "execution_count": 2,
   "metadata": {},
   "outputs": [],
   "source": [
    "try:\n",
    "    train_data = pd.read_parquet('\\DS\\Parquet_Quali\\Car_TRAIN.parquet')\n",
    "    test_data = pd.read_parquet('\\DS\\Parquet_Quali\\Car_TEST.parquet')\n",
    "except FileNotFoundError:\n",
    "    print(\"Ensure the Parquet files are in the correct path.\")\n",
    "    raise"
   ]
  },
  {
   "cell_type": "code",
   "execution_count": 3,
   "metadata": {},
   "outputs": [],
   "source": [
    "X_train = train_data.drop('target', axis=1).values\n",
    "y_train = train_data['target'].values\n",
    "\n",
    "X_test = test_data.drop('target', axis=1).values\n",
    "y_test = test_data['target'].values"
   ]
  },
  {
   "cell_type": "markdown",
   "metadata": {},
   "source": [
    "### Função de transformação dos dados."
   ]
  },
  {
   "cell_type": "code",
   "execution_count": 4,
   "metadata": {},
   "outputs": [],
   "source": [
    "def sax_transform(series, w, a):\n",
    "    paa = [series[i:i + w].mean() for i in range(0, len(series), w)]\n",
    "    \n",
    "    if np.std(paa) != 0:\n",
    "        paa = (paa - np.mean(paa)) / np.std(paa)\n",
    "    else:\n",
    "        paa = paa - np.mean(paa)\n",
    "    \n",
    "    breakpoints = norm.ppf(np.linspace(0, 1, a+1)[1:-1])\n",
    "    sax_symbols = np.array(range(a))\n",
    "    sax_representation = sax_symbols[np.digitize(paa, breakpoints)]\n",
    "    \n",
    "    return sax_representation\n",
    "\n",
    "def transform_data(X, num_features=10):\n",
    "    a = 5\n",
    "    w = int(X.shape[1] / num_features)  # Ajuste do tamanho da janela baseado no número de características desejado\n",
    "    \n",
    "    X_sax = np.array([sax_transform(row, w, a) for row in X])\n",
    "    X_fft = np.abs(fft(X, axis=1))\n",
    "    \n",
    "    coeffs_cA, coeffs_cD = pywt.dwt(X, 'db4', axis=1)\n",
    "    X_dwt = np.hstack((coeffs_cA, coeffs_cD))\n",
    "    \n",
    "    X_paa = np.column_stack([X[:, i:i+2].mean(axis=1) for i in range(0, X.shape[1], 2)])\n",
    "\n",
    "    return {\n",
    "        \"TS\": X,\n",
    "        \"FFT\": X_fft,\n",
    "        \"DWT\": X_dwt,\n",
    "        \"PAA\": X_paa,\n",
    "        \"SAX\": X_sax\n",
    "    }"
   ]
  },
  {
   "cell_type": "markdown",
   "metadata": {},
   "source": [
    "### Seleção do modelo extrator e modelo classificador"
   ]
  },
  {
   "cell_type": "code",
   "execution_count": 5,
   "metadata": {},
   "outputs": [],
   "source": [
    "def select_model(option, random_state):\n",
    "    if option == '1nn':\n",
    "        return KNeighborsTimeSeriesClassifier(distance='euclidean', n_neighbors=1)\n",
    "    elif option == '3nn':\n",
    "        return KNeighborsTimeSeriesClassifier(distance='dtw', n_neighbors=3)\n",
    "    elif option == 'svm':\n",
    "        return SVC(C = 100, gamma=0.01, kernel='linear', probability=True)\n",
    "    elif option == 'gbc':\n",
    "        return GradientBoostingClassifier(n_estimators=100, random_state=random_state)\n",
    "    elif option == 'nb':\n",
    "        return GaussianNB()\n",
    "    elif option == 'shape':\n",
    "        return ShapeDTW(n_neighbors=1)\n",
    "    elif option == 'ee':\n",
    "        return ElasticEnsemble(proportion_of_param_options= 0.5,\n",
    "                               proportion_train_in_param_finding= 0.5,\n",
    "                               proportion_train_for_test=0.5,\n",
    "                               n_jobs=-1,\n",
    "                               random_state=random_state,\n",
    "                               majority_vote=True)\n",
    "    elif option == 'rd':\n",
    "        return RidgeClassifierCV(alphas=np.logspace(-3, 3, 10))\n",
    "    else:\n",
    "        return RandomForestClassifier(n_estimators=200,\n",
    "                                    n_jobs=-1,\n",
    "                                    random_state=random_state)\n",
    "        #return RandomForestClassifier(n_estimators=100,random_state=random_state)"
   ]
  },
  {
   "cell_type": "markdown",
   "metadata": {},
   "source": [
    "### Treino do modelos extrator e classificador"
   ]
  },
  {
   "cell_type": "code",
   "execution_count": 6,
   "metadata": {},
   "outputs": [
    {
     "data": {
      "text/plain": [
       "'def train_with_meta_classifier(X_train, y_train, base_option=\\'random_forest\\', meta_option=\\'1nn\\', random_state=42):\\n    trained_models = {}  # Salvar modelos treinados para cada transformação\\n    \\n    X_train_transformed = transform_data(X_train)  # Transformar todo o conjunto de treino\\n\\n    # Treinar um modelo para cada transformação e salvar no dicionário\\n    for rep, X_trans in tqdm(X_train_transformed.items(), ascii=True, desc=\"Training Base Models\"):\\n        model = select_model(base_option, random_state)\\n        model.fit(X_trans, y_train)\\n        trained_models[rep] = model\\n        \\n    # Preparar dados para o meta-classificador\\n    meta_features = []\\n    for i in range(X_train.shape[0]):\\n        instance_features = []\\n        for rep, model in trained_models.items():\\n            proba = model.predict_proba(X_train_transformed[rep][i].reshape(1, -1))\\n            instance_features.extend(proba.flatten())  # Estender a lista com todas as probabilidades\\n        meta_features.append(instance_features)\\n    \\n    meta_features = np.array(meta_features)\\n    np.savetxt(\"meta-features-train.csv\", meta_features, delimiter=\",\")\\n    \\n    # Treinar o meta-classificador\\n    meta_classifier = select_model(meta_option, random_state)\\n    meta_classifier.fit(meta_features, y_train)\\n    \\n    return trained_models, meta_classifier'"
      ]
     },
     "execution_count": 6,
     "metadata": {},
     "output_type": "execute_result"
    }
   ],
   "source": [
    "\"\"\"def train_with_meta_classifier(X_train, y_train, base_option='random_forest', meta_option='1nn', random_state=42):\n",
    "    trained_models = {}  # Salvar modelos treinados para cada transformação\n",
    "    \n",
    "    X_train_transformed = transform_data(X_train)  # Transformar todo o conjunto de treino\n",
    "\n",
    "    # Treinar um modelo para cada transformação e salvar no dicionário\n",
    "    for rep, X_trans in tqdm(X_train_transformed.items(), ascii=True, desc=\"Training Base Models\"):\n",
    "        model = select_model(base_option, random_state)\n",
    "        model.fit(X_trans, y_train)\n",
    "        trained_models[rep] = model\n",
    "        \n",
    "    # Preparar dados para o meta-classificador\n",
    "    meta_features = []\n",
    "    for i in range(X_train.shape[0]):\n",
    "        instance_features = []\n",
    "        for rep, model in trained_models.items():\n",
    "            proba = model.predict_proba(X_train_transformed[rep][i].reshape(1, -1))\n",
    "            instance_features.extend(proba.flatten())  # Estender a lista com todas as probabilidades\n",
    "        meta_features.append(instance_features)\n",
    "    \n",
    "    meta_features = np.array(meta_features)\n",
    "    np.savetxt(\"meta-features-train.csv\", meta_features, delimiter=\",\")\n",
    "    \n",
    "    # Treinar o meta-classificador\n",
    "    meta_classifier = select_model(meta_option, random_state)\n",
    "    meta_classifier.fit(meta_features, y_train)\n",
    "    \n",
    "    return trained_models, meta_classifier\"\"\""
   ]
  },
  {
   "cell_type": "code",
   "execution_count": 7,
   "metadata": {},
   "outputs": [],
   "source": [
    "def train_with_meta_classifier(X_train, y_train, base_option='random_forest', meta_option='1nn', random_state=42):\n",
    "    trained_models = {}  # Salvar modelos treinados para cada transformação\n",
    "    \n",
    "    X_train_transformed = transform_data(X_train)  # Transformar todo o conjunto de treino\n",
    "    \n",
    "    loo = LeaveOneOut()\n",
    "    \n",
    "    # Treinar um modelo para cada transformação e salvar no dicionário\n",
    "    for rep, X_trans in tqdm(X_train_transformed.items(), ascii=True, desc=\"Training Base Models\"):\n",
    "        model = select_model(base_option, random_state)\n",
    "        scores = []\n",
    "        for train_index, _ in loo.split(X_trans):\n",
    "            model.fit(X_trans[train_index], y_train[train_index])\n",
    "            score = model.score(X_trans[train_index], y_train[train_index])  # Score do modelo nos dados de treino\n",
    "            scores.append(score)\n",
    "        avg_score = np.mean(scores)\n",
    "        trained_models[rep] = (model, avg_score)  # Salvar o modelo treinado e a média dos scores\n",
    "        \n",
    "    # Preparar dados para o meta-classificador\n",
    "    meta_features = []\n",
    "    for i in range(X_train.shape[0]):\n",
    "        instance_features = []\n",
    "        for rep, (model, _) in trained_models.items():\n",
    "            proba = model.predict_proba(X_train_transformed[rep][i].reshape(1, -1))\n",
    "            instance_features.extend(proba.flatten())  # Estender a lista com todas as probabilidades\n",
    "        meta_features.append(instance_features)\n",
    "    \n",
    "    meta_features = np.array(meta_features)\n",
    "    np.savetxt(\"meta-features-train.csv\", meta_features, delimiter=\",\")\n",
    "    \n",
    "    # Treinar o meta-classificador\n",
    "    meta_classifier = select_model(meta_option, random_state)\n",
    "    meta_classifier.fit(meta_features, y_train)\n",
    "    \n",
    "    return trained_models, meta_classifier\n"
   ]
  },
  {
   "cell_type": "markdown",
   "metadata": {},
   "source": [
    "### Predicao do meta-classificador"
   ]
  },
  {
   "cell_type": "code",
   "execution_count": 8,
   "metadata": {},
   "outputs": [
    {
     "data": {
      "text/plain": [
       "'def predict_with_meta_classifier(X_test, trained_base_models, trained_meta_classifier):\\n    predictions = []\\n    meta_features_test = []  # Inicialize uma lista para armazenar todos os meta-recursos dos dados de teste\\n    \\n    for i in tqdm(range(len(X_test)), ascii=True, desc=\"Testing Instances\"):\\n        x_instance = X_test[i].reshape(1, -1)\\n        x_transformed = transform_data(x_instance)\\n        \\n        instance_features = []\\n        for rep, model in trained_base_models.items():\\n            proba = model.predict_proba(x_transformed[rep][0].reshape(1, -1))  # Ajuste aqui para pegar o primeiro elemento\\n            instance_features.extend(proba.flatten())  # Estender a lista com todas as probabilidades\\n        \\n        meta_feature = np.array(instance_features).reshape(1, -1)\\n        predictions.append(trained_meta_classifier.predict(meta_feature)[0])  # Adicionar a previsão à lista de previsões\\n        \\n        meta_features_test.append(meta_feature.flatten())  # Adicionar meta-recursos da instância atual à lista\\n    \\n    # Converter a lista de meta-recursos dos dados de teste em um array numpy\\n    meta_features_test = np.array(meta_features_test)\\n\\n    # Salvar todos os meta-recursos dos dados de teste em um arquivo CSV\\n    np.savetxt(\"meta-features-test.csv\", meta_features_test, delimiter=\",\")\\n    \\n    return predictions'"
      ]
     },
     "execution_count": 8,
     "metadata": {},
     "output_type": "execute_result"
    }
   ],
   "source": [
    "\"\"\"def predict_with_meta_classifier(X_test, trained_base_models, trained_meta_classifier):\n",
    "    predictions = []\n",
    "    meta_features_test = []  # Inicialize uma lista para armazenar todos os meta-recursos dos dados de teste\n",
    "    \n",
    "    for i in tqdm(range(len(X_test)), ascii=True, desc=\"Testing Instances\"):\n",
    "        x_instance = X_test[i].reshape(1, -1)\n",
    "        x_transformed = transform_data(x_instance)\n",
    "        \n",
    "        instance_features = []\n",
    "        for rep, model in trained_base_models.items():\n",
    "            proba = model.predict_proba(x_transformed[rep][0].reshape(1, -1))  # Ajuste aqui para pegar o primeiro elemento\n",
    "            instance_features.extend(proba.flatten())  # Estender a lista com todas as probabilidades\n",
    "        \n",
    "        meta_feature = np.array(instance_features).reshape(1, -1)\n",
    "        predictions.append(trained_meta_classifier.predict(meta_feature)[0])  # Adicionar a previsão à lista de previsões\n",
    "        \n",
    "        meta_features_test.append(meta_feature.flatten())  # Adicionar meta-recursos da instância atual à lista\n",
    "    \n",
    "    # Converter a lista de meta-recursos dos dados de teste em um array numpy\n",
    "    meta_features_test = np.array(meta_features_test)\n",
    "\n",
    "    # Salvar todos os meta-recursos dos dados de teste em um arquivo CSV\n",
    "    np.savetxt(\"meta-features-test.csv\", meta_features_test, delimiter=\",\")\n",
    "    \n",
    "    return predictions\"\"\"\n"
   ]
  },
  {
   "cell_type": "code",
   "execution_count": 9,
   "metadata": {},
   "outputs": [],
   "source": [
    "def predict_with_meta_classifier(X_test, trained_base_models, trained_meta_classifier):\n",
    "    predictions = []\n",
    "    meta_features_test = []  # Inicialize uma lista para armazenar todos os meta-recursos dos dados de teste\n",
    "    \n",
    "    for i in tqdm(range(len(X_test)), ascii=True, desc=\"Testing Instances\"):\n",
    "        x_instance = X_test[i].reshape(1, -1)\n",
    "        x_transformed = transform_data(x_instance)\n",
    "        \n",
    "        instance_features = []\n",
    "        for rep, (model, _) in trained_base_models.items():  # Ajuste para percorrer os modelos treinados e os scores médios\n",
    "            proba = model.predict_proba(x_transformed[rep][0].reshape(1, -1))  # Ajuste aqui para pegar o primeiro elemento\n",
    "            instance_features.extend(proba.flatten())  # Estender a lista com todas as probabilidades\n",
    "        \n",
    "        meta_feature = np.array(instance_features).reshape(1, -1)\n",
    "        predictions.append(trained_meta_classifier.predict(meta_feature)[0])  # Adicionar a previsão à lista de previsões\n",
    "        \n",
    "        meta_features_test.append(meta_feature.flatten())  # Adicionar meta-recursos da instância atual à lista\n",
    "    \n",
    "    # Converter a lista de meta-recursos dos dados de teste em um array numpy\n",
    "    meta_features_test = np.array(meta_features_test)\n",
    "\n",
    "    # Salvar todos os meta-recursos dos dados de teste em um arquivo CSV\n",
    "    np.savetxt(\"meta-features-test.csv\", meta_features_test, delimiter=\",\")\n",
    "    \n",
    "    return predictions\n"
   ]
  },
  {
   "cell_type": "markdown",
   "metadata": {},
   "source": [
    "### Testando um único modelo - Random Forest como extrator e SVM como meta-classificador"
   ]
  },
  {
   "cell_type": "code",
   "execution_count": 10,
   "metadata": {},
   "outputs": [
    {
     "name": "stderr",
     "output_type": "stream",
     "text": [
      "Training Base Models:   0%|          | 0/5 [00:00<?, ?it/s]"
     ]
    },
    {
     "name": "stderr",
     "output_type": "stream",
     "text": [
      "Training Base Models: 100%|##########| 5/5 [00:03<00:00,  1.43it/s]\n",
      "Testing Instances: 100%|##########| 60/60 [00:01<00:00, 32.22it/s]"
     ]
    },
    {
     "name": "stdout",
     "output_type": "stream",
     "text": [
      "Accuracy: 0.8666666666666667\n"
     ]
    },
    {
     "name": "stderr",
     "output_type": "stream",
     "text": [
      "\n"
     ]
    }
   ],
   "source": [
    "# Treino\n",
    "trained_base_models, meta_classifier = train_with_meta_classifier(X_train, y_train, base_option='svm', meta_option='rf', random_state=42)\n",
    "\n",
    "# Teste\n",
    "predictions_test_meta = predict_with_meta_classifier(X_test, trained_base_models, meta_classifier)\n",
    "\n",
    "# Resultado\n",
    "test_accuracy_meta = np.mean(predictions_test_meta == y_test)\n",
    "\n",
    "print(f'Accuracy: {test_accuracy_meta}')"
   ]
  },
  {
   "cell_type": "code",
   "execution_count": 11,
   "metadata": {},
   "outputs": [
    {
     "name": "stderr",
     "output_type": "stream",
     "text": [
      "Training Base Models:   0%|          | 0/5 [00:00<?, ?it/s]"
     ]
    },
    {
     "name": "stderr",
     "output_type": "stream",
     "text": [
      "Training Base Models: 100%|##########| 5/5 [00:03<00:00,  1.52it/s]\n",
      "Testing Instances: 100%|##########| 60/60 [00:00<00:00, 116.74it/s]"
     ]
    },
    {
     "name": "stdout",
     "output_type": "stream",
     "text": [
      "Accuracy: 0.85\n"
     ]
    },
    {
     "name": "stderr",
     "output_type": "stream",
     "text": [
      "\n"
     ]
    }
   ],
   "source": [
    "# Treino\n",
    "trained_base_models, meta_classifier = train_with_meta_classifier(X_train, y_train, base_option='svm', meta_option='ee', random_state=42)\n",
    "\n",
    "# Teste\n",
    "predictions_test_meta = predict_with_meta_classifier(X_test, trained_base_models, meta_classifier)\n",
    "\n",
    "# Resultado\n",
    "test_accuracy_meta = np.mean(predictions_test_meta == y_test)\n",
    "\n",
    "print(f'Accuracy: {test_accuracy_meta}')"
   ]
  },
  {
   "cell_type": "code",
   "execution_count": 12,
   "metadata": {},
   "outputs": [
    {
     "name": "stderr",
     "output_type": "stream",
     "text": [
      "Training Base Models:   0%|          | 0/5 [00:00<?, ?it/s]"
     ]
    },
    {
     "name": "stderr",
     "output_type": "stream",
     "text": [
      "Training Base Models: 100%|##########| 5/5 [00:03<00:00,  1.49it/s]\n",
      "Testing Instances: 100%|##########| 60/60 [00:00<00:00, 98.89it/s] "
     ]
    },
    {
     "name": "stdout",
     "output_type": "stream",
     "text": [
      "Accuracy: 0.8333333333333334\n"
     ]
    },
    {
     "name": "stderr",
     "output_type": "stream",
     "text": [
      "\n"
     ]
    }
   ],
   "source": [
    "# Treino\n",
    "trained_base_models, meta_classifier = train_with_meta_classifier(X_train, y_train, base_option='svm', meta_option='shape', random_state=42)\n",
    "\n",
    "# Teste\n",
    "predictions_test_meta = predict_with_meta_classifier(X_test, trained_base_models, meta_classifier)\n",
    "\n",
    "# Resultado\n",
    "test_accuracy_meta = np.mean(predictions_test_meta == y_test)\n",
    "\n",
    "print(f'Accuracy: {test_accuracy_meta}')"
   ]
  },
  {
   "cell_type": "markdown",
   "metadata": {},
   "source": [
    "### Testando um único modelo - SVM como extrator e meta-classificador"
   ]
  },
  {
   "cell_type": "code",
   "execution_count": 13,
   "metadata": {},
   "outputs": [
    {
     "name": "stderr",
     "output_type": "stream",
     "text": [
      "Training Base Models:   0%|          | 0/5 [00:00<?, ?it/s]"
     ]
    },
    {
     "name": "stderr",
     "output_type": "stream",
     "text": [
      "Training Base Models: 100%|##########| 5/5 [00:03<00:00,  1.51it/s]\n",
      "Testing Instances: 100%|##########| 60/60 [00:00<00:00, 167.75it/s]"
     ]
    },
    {
     "name": "stdout",
     "output_type": "stream",
     "text": [
      "Accuracy: 0.8666666666666667\n"
     ]
    },
    {
     "name": "stderr",
     "output_type": "stream",
     "text": [
      "\n"
     ]
    }
   ],
   "source": [
    "# Treino\n",
    "trained_base_models, meta_classifier = train_with_meta_classifier(X_train, y_train, base_option='svm', meta_option='1nn', random_state=42)\n",
    "\n",
    "# Teste\n",
    "predictions_test_meta = predict_with_meta_classifier(X_test, trained_base_models, meta_classifier)\n",
    "\n",
    "# Resultado\n",
    "test_accuracy_meta = np.mean(predictions_test_meta == y_test)\n",
    "print(f'Accuracy: {test_accuracy_meta}')"
   ]
  },
  {
   "cell_type": "code",
   "execution_count": 14,
   "metadata": {},
   "outputs": [
    {
     "name": "stdout",
     "output_type": "stream",
     "text": [
      "Accuracy: 0.8666666666666667\n"
     ]
    }
   ],
   "source": [
    "#Teste utilizando o classificador SVM\n",
    "meta_attrib_train = np.loadtxt(\"meta-features-train.csv\", delimiter=\",\")\n",
    "meta_attrib_test = np.loadtxt(\"meta-features-test.csv\", delimiter=\",\")\n",
    "from sklearn.metrics import accuracy_score\n",
    "\n",
    "clf = SVC(probability=True)\n",
    "clf.fit(meta_attrib_train, y_train)\n",
    "y_hat = clf.predict(meta_attrib_test)\n",
    "test_accuracy_meta = accuracy_score(y_hat, y_test)\n",
    "print(f\"Accuracy: {test_accuracy_meta}\")"
   ]
  },
  {
   "cell_type": "code",
   "execution_count": 15,
   "metadata": {},
   "outputs": [
    {
     "name": "stdout",
     "output_type": "stream",
     "text": [
      "Accuracy: 0.5166666666666667\n"
     ]
    }
   ],
   "source": [
    "clf_2 = SVC(probability=True)\n",
    "clf_2.fit(X_train, y_train)\n",
    "y_hat_ = clf_2.predict(X_test)\n",
    "test_accuracy_meta_2 = accuracy_score(y_hat_,y_test)\n",
    "print(f\"Accuracy: {test_accuracy_meta_2}\")"
   ]
  },
  {
   "cell_type": "markdown",
   "metadata": {},
   "source": [
    "### Gráfico das diferenças de dados"
   ]
  },
  {
   "cell_type": "code",
   "execution_count": 16,
   "metadata": {},
   "outputs": [
    {
     "data": {
      "image/png": "[encoded data removed]",
      "text/plain": [
       "<Figure size 1500x500 with 2 Axes>"
      ]
     },
     "metadata": {},
     "output_type": "display_data"
    }
   ],
   "source": [
    "import matplotlib.pyplot as plt\n",
    "\n",
    "y1 = y_hat  # depois da transformação\n",
    "y2 = y_test  \n",
    "\n",
    "z1 = y_hat_ #antes da transformação\n",
    "z2 = y_test\n",
    "\n",
    "#suavizar os dados do gráfico\n",
    "window_size = 15\n",
    "y1_smoothed = pd.Series(y1).rolling(window=window_size).mean()\n",
    "y2_smoothed = pd.Series(y2).rolling(window=window_size).mean()\n",
    "z1_smoothed = pd.Series(z1).rolling(window=window_size).mean()\n",
    "z2_smoothed = pd.Series(z2).rolling(window=window_size).mean()\n",
    "\n",
    "fig, axs = plt.subplots(nrows=1, ncols=2, figsize=(15, 5), layout='constrained')\n",
    "\n",
    "# Conjunto de validação do classificador\n",
    "axs[0].set_title('Antes da transformação')\n",
    "axs[0].plot(z1_smoothed, label='Treino')\n",
    "axs[0].plot(z2_smoothed, label='Teste')\n",
    "axs[0].set_xlabel('Tempo (s)')\n",
    "axs[0].set_ylabel('Treino')\n",
    "axs[0].grid(True)\n",
    "\n",
    "# Conjunto de validação do meta-classificador\n",
    "axs[1].set_title('Depois da transformação')\n",
    "axs[1].plot(y1_smoothed, label='Treino')\n",
    "axs[1].plot(y2_smoothed, label='Teste')\n",
    "axs[1].set_xlabel('Tempo (s)')\n",
    "axs[1].set_ylabel('Treino')\n",
    "axs[1].grid(True)\n",
    "\n",
    "plt.legend()\n",
    "plt.show()\n",
    "\n"
   ]
  },
  {
   "cell_type": "code",
   "execution_count": 17,
   "metadata": {},
   "outputs": [
    {
     "data": {
      "image/png": "[encoded data removed]",
      "text/plain": [
       "<Figure size 1000x600 with 1 Axes>"
      ]
     },
     "metadata": {},
     "output_type": "display_data"
    }
   ],
   "source": [
    "w1 = y_hat  # meta-classificador\n",
    "w2 = y_hat_ #classificação\n",
    "\n",
    "# Suavizar os dados do gráfico\n",
    "window_size = 15\n",
    "w1_smoothed = pd.Series(w1).rolling(window=window_size).mean()\n",
    "w2_smoothed = pd.Series(w2).rolling(window=window_size).mean()\n",
    "\n",
    "# Plotar os dados\n",
    "plt.figure(figsize=(10, 6))\n",
    "plt.plot(w1_smoothed, label='w1 (Classificação usando meta-caracteristicas)')\n",
    "plt.plot(w2_smoothed, label='w2 (classificação utilizando dados brutos)')\n",
    "plt.xlabel('Tempo (s)')\n",
    "plt.ylabel('Valores suavizados')\n",
    "plt.title('Comparação entre os resultados de um SVM')\n",
    "plt.legend()\n",
    "plt.grid(True)\n",
    "plt.show()\n"
   ]
  },
  {
   "cell_type": "markdown",
   "metadata": {},
   "source": [
    "### Treino em loop de todas as opções de classificadores disponiveis no Select Model."
   ]
  },
  {
   "cell_type": "code",
   "execution_count": 18,
   "metadata": {},
   "outputs": [
    {
     "name": "stdout",
     "output_type": "stream",
     "text": [
      "Meta-classificador com modelo extrator 1NN\n"
     ]
    },
    {
     "name": "stderr",
     "output_type": "stream",
     "text": [
      "Training Base Models: 100%|##########| 5/5 [00:03<00:00,  1.53it/s]\n",
      "Testing Instances: 100%|##########| 60/60 [00:00<00:00, 208.38it/s]\n"
     ]
    },
    {
     "name": "stdout",
     "output_type": "stream",
     "text": [
      "Acurácia do teste usando o meta-classificador com modelo extrator 1nn: 0.8666666666666667\n",
      "-------------------------------\n",
      "Meta-classificador com modelo extrator 3NN\n"
     ]
    },
    {
     "name": "stderr",
     "output_type": "stream",
     "text": [
      "Training Base Models: 100%|##########| 5/5 [00:03<00:00,  1.52it/s]\n",
      "Testing Instances: 100%|##########| 60/60 [00:00<00:00, 199.61it/s]\n"
     ]
    },
    {
     "name": "stdout",
     "output_type": "stream",
     "text": [
      "Acurácia do teste usando o meta-classificador com modelo extrator 3nn: 0.75\n",
      "-------------------------------\n",
      "Meta-classificador com modelo extrator SVM\n"
     ]
    },
    {
     "name": "stderr",
     "output_type": "stream",
     "text": [
      "Training Base Models: 100%|##########| 5/5 [00:03<00:00,  1.54it/s]\n",
      "Testing Instances: 100%|##########| 60/60 [00:00<00:00, 208.25it/s]\n"
     ]
    },
    {
     "name": "stdout",
     "output_type": "stream",
     "text": [
      "Acurácia do teste usando o meta-classificador com modelo extrator svm: 0.8666666666666667\n",
      "-------------------------------\n",
      "Meta-classificador com modelo extrator NB\n"
     ]
    },
    {
     "name": "stderr",
     "output_type": "stream",
     "text": [
      "Training Base Models: 100%|##########| 5/5 [00:03<00:00,  1.53it/s]\n",
      "Testing Instances: 100%|##########| 60/60 [00:00<00:00, 200.95it/s]\n"
     ]
    },
    {
     "name": "stdout",
     "output_type": "stream",
     "text": [
      "Acurácia do teste usando o meta-classificador com modelo extrator nb: 0.7833333333333333\n",
      "-------------------------------\n",
      "Meta-classificador com modelo extrator GBC\n"
     ]
    },
    {
     "name": "stderr",
     "output_type": "stream",
     "text": [
      "Training Base Models: 100%|##########| 5/5 [00:03<00:00,  1.52it/s]\n",
      "Testing Instances: 100%|##########| 60/60 [00:00<00:00, 182.61it/s]\n"
     ]
    },
    {
     "name": "stdout",
     "output_type": "stream",
     "text": [
      "Acurácia do teste usando o meta-classificador com modelo extrator gbc: 0.85\n",
      "-------------------------------\n",
      "Meta-classificador com modelo extrator EE\n"
     ]
    },
    {
     "name": "stderr",
     "output_type": "stream",
     "text": [
      "Training Base Models: 100%|##########| 5/5 [00:03<00:00,  1.51it/s]\n",
      "Testing Instances: 100%|##########| 60/60 [00:00<00:00, 130.32it/s]\n"
     ]
    },
    {
     "name": "stdout",
     "output_type": "stream",
     "text": [
      "Acurácia do teste usando o meta-classificador com modelo extrator ee: 0.8333333333333334\n",
      "-------------------------------\n",
      "Meta-classificador com modelo extrator SHAPE\n"
     ]
    },
    {
     "name": "stderr",
     "output_type": "stream",
     "text": [
      "Training Base Models: 100%|##########| 5/5 [00:03<00:00,  1.52it/s]\n",
      "Testing Instances: 100%|##########| 60/60 [00:00<00:00, 107.90it/s]\n"
     ]
    },
    {
     "name": "stdout",
     "output_type": "stream",
     "text": [
      "Acurácia do teste usando o meta-classificador com modelo extrator shape: 0.8666666666666667\n",
      "-------------------------------\n",
      "Meta-classificador com modelo extrator RF\n"
     ]
    },
    {
     "name": "stderr",
     "output_type": "stream",
     "text": [
      "Training Base Models: 100%|##########| 5/5 [00:03<00:00,  1.53it/s]\n",
      "Testing Instances: 100%|##########| 60/60 [00:01<00:00, 31.56it/s]\n"
     ]
    },
    {
     "name": "stdout",
     "output_type": "stream",
     "text": [
      "Acurácia do teste usando o meta-classificador com modelo extrator rf: 0.8666666666666667\n",
      "-------------------------------\n",
      "Meta-classificador com modelo extrator RD\n"
     ]
    },
    {
     "name": "stderr",
     "output_type": "stream",
     "text": [
      "Training Base Models: 100%|##########| 5/5 [00:03<00:00,  1.54it/s]\n",
      "Testing Instances: 100%|##########| 60/60 [00:00<00:00, 201.71it/s]"
     ]
    },
    {
     "name": "stdout",
     "output_type": "stream",
     "text": [
      "Acurácia do teste usando o meta-classificador com modelo extrator rd: 0.8333333333333334\n",
      "-------------------------------\n"
     ]
    },
    {
     "name": "stderr",
     "output_type": "stream",
     "text": [
      "\n"
     ]
    }
   ],
   "source": [
    "algos = ['1nn', '3nn', 'svm', 'nb', 'gbc', 'ee', 'shape', 'rf', 'rd']\n",
    "for algo in algos:\n",
    "    \n",
    "    print(f'Meta-classificador com modelo extrator {algo.upper()}')\n",
    "    \n",
    "    # Training\n",
    "    try:\n",
    "        trained_base_models, meta_classifier = train_with_meta_classifier(X_train, y_train, base_option='svm', meta_option=algo)\n",
    "        # Testing\n",
    "        predictions_test_meta = predict_with_meta_classifier(X_test, trained_base_models, meta_classifier)\n",
    "        test_accuracy_meta = np.mean(predictions_test_meta == y_test)\n",
    "        \n",
    "        print(f'Acurácia do teste usando o meta-classificador com modelo extrator {algo}: {test_accuracy_meta}')\n",
    "    except Exception as e:\n",
    "        print(f\"Ocorreu um erro no teste com o {algo}: {e}\")\n",
    "    print(\"-------------------------------\")"
   ]
  }
 ],
 "metadata": {
  "kernelspec": {
   "display_name": "AM",
   "language": "python",
   "name": "python3"
  },
  "language_info": {
   "codemirror_mode": {
    "name": "ipython",
    "version": 3
   },
   "file_extension": ".py",
   "mimetype": "text/x-python",
   "name": "python",
   "nbconvert_exporter": "python",
   "pygments_lexer": "ipython3",
   "version": "3.11.7"
  }
 },
 "nbformat": 4,
 "nbformat_minor": 2
}
