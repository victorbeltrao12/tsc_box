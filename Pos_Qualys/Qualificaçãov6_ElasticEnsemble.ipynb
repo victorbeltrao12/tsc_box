{
 "cells": [
  {
   "cell_type": "markdown",
   "metadata": {},
   "source": [
    "### Bibliotecas"
   ]
  },
  {
   "cell_type": "code",
   "execution_count": 262,
   "metadata": {},
   "outputs": [],
   "source": [
    "import pandas as pd\n",
    "import numpy as np\n",
    "from scipy.fftpack import fft\n",
    "from scipy.stats import norm\n",
    "import pywt\n",
    "from aeon.classification.distance_based import ElasticEnsemble, ShapeDTW, KNeighborsTimeSeriesClassifier\n",
    "from sklearn.linear_model import RidgeClassifierCV\n",
    "from aeon.datasets import load_classification\n",
    "from aeon.datasets.tsc_data_lists import univariate_equal_length\n",
    "from sklearn.svm import SVC\n",
    "from sklearn.ensemble import RandomForestClassifier, GradientBoostingClassifier\n",
    "from sklearn.naive_bayes import GaussianNB\n",
    "from sklearn.calibration import CalibratedClassifierCV\n",
    "from tqdm import tqdm\n",
    "import timeit\n",
    "from datetime import timedelta\n",
    "from sklearn.model_selection import LeaveOneOut\n",
    "import warnings\n",
    "warnings.filterwarnings(\"ignore\")"
   ]
  },
  {
   "cell_type": "code",
   "execution_count": 335,
   "metadata": {},
   "outputs": [
    {
     "name": "stderr",
     "output_type": "stream",
     "text": [
      "Training Base Models: 100%|##########| 5/5 [05:23<00:00, 64.69s/it]\n",
      "Testing Instances: 100%|##########| 391/391 [00:01<00:00, 366.51it/s]\n"
     ]
    },
    {
     "name": "stdout",
     "output_type": "stream",
     "text": [
      "Acurácia do modelo 1nn para Adiac: 0.8337595907928389\n",
      "Time runtime (seconds):  0:05:25.227257\n"
     ]
    },
    {
     "name": "stderr",
     "output_type": "stream",
     "text": [
      "Training Base Models: 100%|##########| 5/5 [05:23<00:00, 64.62s/it]\n",
      "Testing Instances: 100%|##########| 391/391 [00:01<00:00, 348.53it/s]\n"
     ]
    },
    {
     "name": "stdout",
     "output_type": "stream",
     "text": [
      "Acurácia do modelo 3nn para Adiac: 0.8286445012787724\n",
      "Time runtime (seconds):  0:10:50.148244\n"
     ]
    },
    {
     "name": "stderr",
     "output_type": "stream",
     "text": [
      "Training Base Models: 100%|##########| 5/5 [05:23<00:00, 64.74s/it]\n",
      "Testing Instances: 100%|##########| 391/391 [00:01<00:00, 359.91it/s]\n"
     ]
    },
    {
     "name": "stdout",
     "output_type": "stream",
     "text": [
      "Acurácia do modelo svm para Adiac: 0.8286445012787724\n",
      "Time runtime (seconds):  0:16:15.640809\n"
     ]
    },
    {
     "name": "stderr",
     "output_type": "stream",
     "text": [
      "Training Base Models: 100%|##########| 5/5 [05:22<00:00, 64.48s/it]\n",
      "Testing Instances: 100%|##########| 391/391 [00:01<00:00, 356.50it/s]\n"
     ]
    },
    {
     "name": "stdout",
     "output_type": "stream",
     "text": [
      "Acurácia do modelo nb para Adiac: 0.8363171355498721\n",
      "Time runtime (seconds):  0:21:39.861950\n"
     ]
    },
    {
     "name": "stderr",
     "output_type": "stream",
     "text": [
      "Training Base Models: 100%|##########| 5/5 [05:22<00:00, 64.44s/it]\n",
      "Testing Instances: 100%|##########| 391/391 [00:01<00:00, 349.43it/s]\n"
     ]
    },
    {
     "name": "stdout",
     "output_type": "stream",
     "text": [
      "Acurácia do modelo gbc para Adiac: 0.8312020460358056\n",
      "Time runtime (seconds):  0:27:03.875048\n"
     ]
    },
    {
     "name": "stderr",
     "output_type": "stream",
     "text": [
      "Training Base Models: 100%|##########| 5/5 [05:22<00:00, 64.40s/it]\n",
      "Testing Instances: 100%|##########| 391/391 [00:01<00:00, 347.31it/s]\n"
     ]
    },
    {
     "name": "stdout",
     "output_type": "stream",
     "text": [
      "Acurácia do modelo ee para Adiac: 0.8337595907928389\n",
      "Time runtime (seconds):  0:32:27.731364\n"
     ]
    },
    {
     "name": "stderr",
     "output_type": "stream",
     "text": [
      "Training Base Models: 100%|##########| 5/5 [05:22<00:00, 64.50s/it]\n",
      "Testing Instances: 100%|##########| 391/391 [00:01<00:00, 339.23it/s]\n"
     ]
    },
    {
     "name": "stdout",
     "output_type": "stream",
     "text": [
      "Acurácia do modelo shape para Adiac: 0.8312020460358056\n",
      "Time runtime (seconds):  0:37:52.109686\n"
     ]
    },
    {
     "name": "stderr",
     "output_type": "stream",
     "text": [
      "Training Base Models: 100%|##########| 5/5 [05:21<00:00, 64.40s/it]\n",
      "Testing Instances: 100%|##########| 391/391 [00:01<00:00, 348.44it/s]\n"
     ]
    },
    {
     "name": "stdout",
     "output_type": "stream",
     "text": [
      "Acurácia do modelo rf para Adiac: 0.8363171355498721\n",
      "Time runtime (seconds):  0:43:15.945759\n"
     ]
    },
    {
     "name": "stderr",
     "output_type": "stream",
     "text": [
      "Training Base Models: 100%|##########| 5/5 [05:21<00:00, 64.39s/it]\n",
      "Testing Instances: 100%|##########| 391/391 [00:01<00:00, 353.14it/s]\n"
     ]
    },
    {
     "name": "stdout",
     "output_type": "stream",
     "text": [
      "Acurácia do modelo rd para Adiac: 0.8286445012787724\n",
      "Time runtime (seconds):  0:48:39.712935\n"
     ]
    },
    {
     "name": "stderr",
     "output_type": "stream",
     "text": [
      "Training Base Models: 100%|##########| 5/5 [00:00<00:00,  8.69it/s]\n",
      "Testing Instances: 100%|##########| 30/30 [00:00<00:00, 238.84it/s]\n"
     ]
    },
    {
     "name": "stdout",
     "output_type": "stream",
     "text": [
      "Acurácia do modelo 1nn para Beef: 0.8333333333333334\n",
      "Time runtime (seconds):  0:48:40.471757\n"
     ]
    },
    {
     "name": "stderr",
     "output_type": "stream",
     "text": [
      "Training Base Models: 100%|##########| 5/5 [00:00<00:00,  8.68it/s]\n",
      "Testing Instances: 100%|##########| 30/30 [00:00<00:00, 252.95it/s]\n"
     ]
    },
    {
     "name": "stdout",
     "output_type": "stream",
     "text": [
      "Acurácia do modelo 3nn para Beef: 0.9\n",
      "Time runtime (seconds):  0:48:41.207341\n"
     ]
    },
    {
     "name": "stderr",
     "output_type": "stream",
     "text": [
      "Training Base Models: 100%|##########| 5/5 [00:00<00:00,  8.68it/s]\n",
      "Testing Instances: 100%|##########| 30/30 [00:00<00:00, 246.76it/s]\n"
     ]
    },
    {
     "name": "stdout",
     "output_type": "stream",
     "text": [
      "Acurácia do modelo svm para Beef: 0.8666666666666667\n",
      "Time runtime (seconds):  0:48:41.945050\n"
     ]
    },
    {
     "name": "stderr",
     "output_type": "stream",
     "text": [
      "Training Base Models: 100%|##########| 5/5 [00:00<00:00,  8.16it/s]\n",
      "Testing Instances: 100%|##########| 30/30 [00:00<00:00, 238.68it/s]\n"
     ]
    },
    {
     "name": "stdout",
     "output_type": "stream",
     "text": [
      "Acurácia do modelo nb para Beef: 0.8666666666666667\n",
      "Time runtime (seconds):  0:48:42.725370\n"
     ]
    },
    {
     "name": "stderr",
     "output_type": "stream",
     "text": [
      "Training Base Models: 100%|##########| 5/5 [00:00<00:00,  8.72it/s]\n",
      "Testing Instances: 100%|##########| 30/30 [00:00<00:00, 251.49it/s]\n"
     ]
    },
    {
     "name": "stdout",
     "output_type": "stream",
     "text": [
      "Acurácia do modelo gbc para Beef: 0.9\n",
      "Time runtime (seconds):  0:48:43.459350\n"
     ]
    },
    {
     "name": "stderr",
     "output_type": "stream",
     "text": [
      "Training Base Models: 100%|##########| 5/5 [00:00<00:00,  8.73it/s]\n",
      "Testing Instances: 100%|##########| 30/30 [00:00<00:00, 242.85it/s]\n"
     ]
    },
    {
     "name": "stdout",
     "output_type": "stream",
     "text": [
      "Acurácia do modelo ee para Beef: 0.8333333333333334\n",
      "Time runtime (seconds):  0:48:44.197005\n"
     ]
    },
    {
     "name": "stderr",
     "output_type": "stream",
     "text": [
      "Training Base Models: 100%|##########| 5/5 [00:00<00:00,  8.74it/s]\n",
      "Testing Instances: 100%|##########| 30/30 [00:00<00:00, 234.84it/s]\n"
     ]
    },
    {
     "name": "stdout",
     "output_type": "stream",
     "text": [
      "Acurácia do modelo shape para Beef: 0.9\n",
      "Time runtime (seconds):  0:48:44.943541\n"
     ]
    },
    {
     "name": "stderr",
     "output_type": "stream",
     "text": [
      "Training Base Models: 100%|##########| 5/5 [00:00<00:00,  8.16it/s]\n",
      "Testing Instances: 100%|##########| 30/30 [00:00<00:00, 253.11it/s]\n"
     ]
    },
    {
     "name": "stdout",
     "output_type": "stream",
     "text": [
      "Acurácia do modelo rf para Beef: 0.8333333333333334\n",
      "Time runtime (seconds):  0:48:45.716508\n"
     ]
    },
    {
     "name": "stderr",
     "output_type": "stream",
     "text": [
      "Training Base Models: 100%|##########| 5/5 [00:00<00:00,  8.67it/s]\n",
      "Testing Instances: 100%|##########| 30/30 [00:00<00:00, 255.01it/s]\n"
     ]
    },
    {
     "name": "stdout",
     "output_type": "stream",
     "text": [
      "Acurácia do modelo rd para Beef: 0.8333333333333334\n",
      "Time runtime (seconds):  0:48:46.452685\n"
     ]
    },
    {
     "name": "stderr",
     "output_type": "stream",
     "text": [
      "Training Base Models: 100%|##########| 5/5 [00:03<00:00,  1.63it/s]\n",
      "Testing Instances: 100%|##########| 60/60 [00:00<00:00, 198.02it/s]\n"
     ]
    },
    {
     "name": "stdout",
     "output_type": "stream",
     "text": [
      "Acurácia do modelo 1nn para Car: 0.8166666666666667\n",
      "Time runtime (seconds):  0:48:49.909160\n"
     ]
    },
    {
     "name": "stderr",
     "output_type": "stream",
     "text": [
      "Training Base Models: 100%|##########| 5/5 [00:03<00:00,  1.62it/s]\n",
      "Testing Instances: 100%|##########| 60/60 [00:00<00:00, 207.62it/s]\n"
     ]
    },
    {
     "name": "stdout",
     "output_type": "stream",
     "text": [
      "Acurácia do modelo 3nn para Car: 0.8666666666666667\n",
      "Time runtime (seconds):  0:48:53.365826\n"
     ]
    },
    {
     "name": "stderr",
     "output_type": "stream",
     "text": [
      "Training Base Models: 100%|##########| 5/5 [00:03<00:00,  1.62it/s]\n",
      "Testing Instances: 100%|##########| 60/60 [00:00<00:00, 217.51it/s]\n"
     ]
    },
    {
     "name": "stdout",
     "output_type": "stream",
     "text": [
      "Acurácia do modelo svm para Car: 0.8333333333333334\n",
      "Time runtime (seconds):  0:48:56.793112\n"
     ]
    },
    {
     "name": "stderr",
     "output_type": "stream",
     "text": [
      "Training Base Models: 100%|##########| 5/5 [00:03<00:00,  1.62it/s]\n",
      "Testing Instances: 100%|##########| 60/60 [00:00<00:00, 218.79it/s]\n"
     ]
    },
    {
     "name": "stdout",
     "output_type": "stream",
     "text": [
      "Acurácia do modelo nb para Car: 0.8833333333333333\n",
      "Time runtime (seconds):  0:49:00.223044\n"
     ]
    },
    {
     "name": "stderr",
     "output_type": "stream",
     "text": [
      "Training Base Models: 100%|##########| 5/5 [00:03<00:00,  1.63it/s]\n",
      "Testing Instances: 100%|##########| 60/60 [00:00<00:00, 210.05it/s]\n"
     ]
    },
    {
     "name": "stdout",
     "output_type": "stream",
     "text": [
      "Acurácia do modelo gbc para Car: 0.8666666666666667\n",
      "Time runtime (seconds):  0:49:03.671182\n"
     ]
    },
    {
     "name": "stderr",
     "output_type": "stream",
     "text": [
      "Training Base Models: 100%|##########| 5/5 [00:03<00:00,  1.63it/s]\n",
      "Testing Instances: 100%|##########| 60/60 [00:00<00:00, 211.39it/s]\n"
     ]
    },
    {
     "name": "stdout",
     "output_type": "stream",
     "text": [
      "Acurácia do modelo ee para Car: 0.85\n",
      "Time runtime (seconds):  0:49:07.093170\n"
     ]
    },
    {
     "name": "stderr",
     "output_type": "stream",
     "text": [
      "Training Base Models: 100%|##########| 5/5 [00:03<00:00,  1.64it/s]\n",
      "Testing Instances: 100%|##########| 60/60 [00:00<00:00, 209.95it/s]\n"
     ]
    },
    {
     "name": "stdout",
     "output_type": "stream",
     "text": [
      "Acurácia do modelo shape para Car: 0.8666666666666667\n",
      "Time runtime (seconds):  0:49:10.507859\n"
     ]
    },
    {
     "name": "stderr",
     "output_type": "stream",
     "text": [
      "Training Base Models: 100%|##########| 5/5 [00:03<00:00,  1.64it/s]\n",
      "Testing Instances: 100%|##########| 60/60 [00:00<00:00, 190.41it/s]\n"
     ]
    },
    {
     "name": "stdout",
     "output_type": "stream",
     "text": [
      "Acurácia do modelo rf para Car: 0.8166666666666667\n",
      "Time runtime (seconds):  0:49:13.950869\n"
     ]
    },
    {
     "name": "stderr",
     "output_type": "stream",
     "text": [
      "Training Base Models: 100%|##########| 5/5 [00:03<00:00,  1.63it/s]\n",
      "Testing Instances: 100%|##########| 60/60 [00:00<00:00, 212.11it/s]\n"
     ]
    },
    {
     "name": "stdout",
     "output_type": "stream",
     "text": [
      "Acurácia do modelo rd para Car: 0.85\n",
      "Time runtime (seconds):  0:49:17.370962\n"
     ]
    },
    {
     "name": "stderr",
     "output_type": "stream",
     "text": [
      "Training Base Models: 100%|##########| 5/5 [00:00<00:00, 16.81it/s]\n",
      "Testing Instances: 100%|##########| 900/900 [00:01<00:00, 529.87it/s]\n"
     ]
    },
    {
     "name": "stdout",
     "output_type": "stream",
     "text": [
      "Acurácia do modelo 1nn para CBF: 0.8877777777777778\n",
      "Time runtime (seconds):  0:49:19.416175\n"
     ]
    },
    {
     "name": "stderr",
     "output_type": "stream",
     "text": [
      "Training Base Models: 100%|##########| 5/5 [00:00<00:00, 17.46it/s]\n",
      "Testing Instances: 100%|##########| 900/900 [00:01<00:00, 533.54it/s]\n"
     ]
    },
    {
     "name": "stdout",
     "output_type": "stream",
     "text": [
      "Acurácia do modelo 3nn para CBF: 0.8766666666666667\n",
      "Time runtime (seconds):  0:49:21.439337\n"
     ]
    },
    {
     "name": "stderr",
     "output_type": "stream",
     "text": [
      "Training Base Models: 100%|##########| 5/5 [00:00<00:00, 17.15it/s]\n",
      "Testing Instances: 100%|##########| 900/900 [00:01<00:00, 536.15it/s]\n"
     ]
    },
    {
     "name": "stdout",
     "output_type": "stream",
     "text": [
      "Acurácia do modelo svm para CBF: 0.8733333333333333\n",
      "Time runtime (seconds):  0:49:23.459472\n"
     ]
    },
    {
     "name": "stderr",
     "output_type": "stream",
     "text": [
      "Training Base Models: 100%|##########| 5/5 [00:00<00:00, 15.42it/s]\n",
      "Testing Instances: 100%|##########| 900/900 [00:01<00:00, 538.07it/s]\n"
     ]
    },
    {
     "name": "stdout",
     "output_type": "stream",
     "text": [
      "Acurácia do modelo nb para CBF: 0.8777777777777778\n",
      "Time runtime (seconds):  0:49:25.508438\n"
     ]
    },
    {
     "name": "stderr",
     "output_type": "stream",
     "text": [
      "Training Base Models: 100%|##########| 5/5 [00:00<00:00, 17.56it/s]\n",
      "Testing Instances: 100%|##########| 900/900 [00:01<00:00, 534.87it/s]\n"
     ]
    },
    {
     "name": "stdout",
     "output_type": "stream",
     "text": [
      "Acurácia do modelo gbc para CBF: 0.8711111111111111\n",
      "Time runtime (seconds):  0:49:27.522709\n"
     ]
    },
    {
     "name": "stderr",
     "output_type": "stream",
     "text": [
      "Training Base Models: 100%|##########| 5/5 [00:00<00:00, 15.56it/s]\n",
      "Testing Instances: 100%|##########| 900/900 [00:01<00:00, 534.18it/s]\n"
     ]
    },
    {
     "name": "stdout",
     "output_type": "stream",
     "text": [
      "Acurácia do modelo ee para CBF: 0.8677777777777778\n",
      "Time runtime (seconds):  0:49:29.578286\n"
     ]
    },
    {
     "name": "stderr",
     "output_type": "stream",
     "text": [
      "Training Base Models: 100%|##########| 5/5 [00:00<00:00, 17.26it/s]\n",
      "Testing Instances: 100%|##########| 900/900 [00:01<00:00, 527.33it/s]\n"
     ]
    },
    {
     "name": "stdout",
     "output_type": "stream",
     "text": [
      "Acurácia do modelo shape para CBF: 0.8677777777777778\n",
      "Time runtime (seconds):  0:49:31.625444\n"
     ]
    },
    {
     "name": "stderr",
     "output_type": "stream",
     "text": [
      "Training Base Models: 100%|##########| 5/5 [00:00<00:00, 17.26it/s]\n",
      "Testing Instances: 100%|##########| 900/900 [00:01<00:00, 521.62it/s]\n"
     ]
    },
    {
     "name": "stdout",
     "output_type": "stream",
     "text": [
      "Acurácia do modelo rf para CBF: 0.8722222222222222\n",
      "Time runtime (seconds):  0:49:33.690801\n"
     ]
    },
    {
     "name": "stderr",
     "output_type": "stream",
     "text": [
      "Training Base Models: 100%|##########| 5/5 [00:00<00:00, 17.19it/s]\n",
      "Testing Instances: 100%|##########| 900/900 [00:01<00:00, 536.84it/s]\n"
     ]
    },
    {
     "name": "stdout",
     "output_type": "stream",
     "text": [
      "Acurácia do modelo rd para CBF: 0.8855555555555555\n",
      "Time runtime (seconds):  0:49:35.704890\n"
     ]
    },
    {
     "name": "stderr",
     "output_type": "stream",
     "text": [
      "Training Base Models: 100%|##########| 5/5 [00:00<00:00, 23.02it/s]\n",
      "Testing Instances: 100%|##########| 28/28 [00:00<00:00, 315.15it/s]\n"
     ]
    },
    {
     "name": "stdout",
     "output_type": "stream",
     "text": [
      "Acurácia do modelo 1nn para Coffee: 1.0\n",
      "Time runtime (seconds):  0:49:36.046264\n"
     ]
    },
    {
     "name": "stderr",
     "output_type": "stream",
     "text": [
      "Training Base Models: 100%|##########| 5/5 [00:00<00:00, 18.80it/s]\n",
      "Testing Instances: 100%|##########| 28/28 [00:00<00:00, 356.32it/s]\n"
     ]
    },
    {
     "name": "stdout",
     "output_type": "stream",
     "text": [
      "Acurácia do modelo 3nn para Coffee: 1.0\n",
      "Time runtime (seconds):  0:49:36.427654\n"
     ]
    },
    {
     "name": "stderr",
     "output_type": "stream",
     "text": [
      "Training Base Models: 100%|##########| 5/5 [00:00<00:00, 22.54it/s]\n",
      "Testing Instances: 100%|##########| 28/28 [00:00<00:00, 360.91it/s]\n"
     ]
    },
    {
     "name": "stdout",
     "output_type": "stream",
     "text": [
      "Acurácia do modelo svm para Coffee: 1.0\n",
      "Time runtime (seconds):  0:49:36.761985\n"
     ]
    },
    {
     "name": "stderr",
     "output_type": "stream",
     "text": [
      "Training Base Models: 100%|##########| 5/5 [00:00<00:00, 21.52it/s]\n",
      "Testing Instances: 100%|##########| 28/28 [00:00<00:00, 355.14it/s]\n"
     ]
    },
    {
     "name": "stdout",
     "output_type": "stream",
     "text": [
      "Acurácia do modelo nb para Coffee: 1.0\n",
      "Time runtime (seconds):  0:49:37.112388\n"
     ]
    },
    {
     "name": "stderr",
     "output_type": "stream",
     "text": [
      "Training Base Models: 100%|##########| 5/5 [00:00<00:00, 23.05it/s]\n",
      "Testing Instances: 100%|##########| 28/28 [00:00<00:00, 356.03it/s]\n"
     ]
    },
    {
     "name": "stdout",
     "output_type": "stream",
     "text": [
      "Acurácia do modelo gbc para Coffee: 1.0\n",
      "Time runtime (seconds):  0:49:37.445488\n"
     ]
    },
    {
     "name": "stderr",
     "output_type": "stream",
     "text": [
      "Training Base Models: 100%|##########| 5/5 [00:00<00:00, 23.05it/s]\n",
      "Testing Instances: 100%|##########| 28/28 [00:00<00:00, 357.50it/s]\n"
     ]
    },
    {
     "name": "stdout",
     "output_type": "stream",
     "text": [
      "Acurácia do modelo ee para Coffee: 1.0\n",
      "Time runtime (seconds):  0:49:37.779213\n"
     ]
    },
    {
     "name": "stderr",
     "output_type": "stream",
     "text": [
      "Training Base Models: 100%|##########| 5/5 [00:00<00:00, 19.79it/s]\n",
      "Testing Instances: 100%|##########| 28/28 [00:00<00:00, 320.81it/s]\n"
     ]
    },
    {
     "name": "stdout",
     "output_type": "stream",
     "text": [
      "Acurácia do modelo shape para Coffee: 1.0\n",
      "Time runtime (seconds):  0:49:38.156217\n"
     ]
    },
    {
     "name": "stderr",
     "output_type": "stream",
     "text": [
      "Training Base Models: 100%|##########| 5/5 [00:00<00:00, 21.99it/s]\n",
      "Testing Instances: 100%|##########| 28/28 [00:00<00:00, 335.94it/s]\n"
     ]
    },
    {
     "name": "stdout",
     "output_type": "stream",
     "text": [
      "Acurácia do modelo rf para Coffee: 1.0\n",
      "Time runtime (seconds):  0:49:38.505391\n"
     ]
    },
    {
     "name": "stderr",
     "output_type": "stream",
     "text": [
      "Training Base Models: 100%|##########| 5/5 [00:00<00:00, 22.58it/s]\n",
      "Testing Instances: 100%|##########| 28/28 [00:00<00:00, 360.07it/s]\n"
     ]
    },
    {
     "name": "stdout",
     "output_type": "stream",
     "text": [
      "Acurácia do modelo rd para Coffee: 1.0\n",
      "Time runtime (seconds):  0:49:38.841956\n"
     ]
    },
    {
     "name": "stderr",
     "output_type": "stream",
     "text": [
      "Training Base Models: 100%|##########| 5/5 [00:00<00:00, 42.57it/s]\n",
      "Testing Instances: 100%|##########| 306/306 [00:01<00:00, 302.07it/s]\n"
     ]
    },
    {
     "name": "stdout",
     "output_type": "stream",
     "text": [
      "Acurácia do modelo 1nn para DiatomSizeReduction: 0.9444444444444444\n",
      "Time runtime (seconds):  0:49:40.063203\n"
     ]
    },
    {
     "name": "stderr",
     "output_type": "stream",
     "text": [
      "Training Base Models: 100%|##########| 5/5 [00:00<00:00, 42.86it/s]\n",
      "Testing Instances: 100%|##########| 306/306 [00:00<00:00, 318.52it/s]\n"
     ]
    },
    {
     "name": "stdout",
     "output_type": "stream",
     "text": [
      "Acurácia do modelo 3nn para DiatomSizeReduction: 0.9477124183006536\n",
      "Time runtime (seconds):  0:49:41.172934\n"
     ]
    },
    {
     "name": "stderr",
     "output_type": "stream",
     "text": [
      "Training Base Models: 100%|##########| 5/5 [00:00<00:00, 40.72it/s]\n",
      "Testing Instances: 100%|##########| 306/306 [00:00<00:00, 316.99it/s]\n"
     ]
    },
    {
     "name": "stdout",
     "output_type": "stream",
     "text": [
      "Acurácia do modelo svm para DiatomSizeReduction: 0.9379084967320261\n",
      "Time runtime (seconds):  0:49:42.292206\n"
     ]
    },
    {
     "name": "stderr",
     "output_type": "stream",
     "text": [
      "Training Base Models: 100%|##########| 5/5 [00:00<00:00, 41.81it/s]\n",
      "Testing Instances: 100%|##########| 306/306 [00:00<00:00, 312.25it/s]\n"
     ]
    },
    {
     "name": "stdout",
     "output_type": "stream",
     "text": [
      "Acurácia do modelo nb para DiatomSizeReduction: 0.954248366013072\n",
      "Time runtime (seconds):  0:49:43.423842\n"
     ]
    },
    {
     "name": "stderr",
     "output_type": "stream",
     "text": [
      "Training Base Models: 100%|##########| 5/5 [00:00<00:00, 31.36it/s]\n",
      "Testing Instances: 100%|##########| 306/306 [00:00<00:00, 313.43it/s]\n"
     ]
    },
    {
     "name": "stdout",
     "output_type": "stream",
     "text": [
      "Acurácia do modelo gbc para DiatomSizeReduction: 0.9281045751633987\n",
      "Time runtime (seconds):  0:49:44.591871\n"
     ]
    },
    {
     "name": "stderr",
     "output_type": "stream",
     "text": [
      "Training Base Models: 100%|##########| 5/5 [00:00<00:00, 42.87it/s]\n",
      "Testing Instances: 100%|##########| 306/306 [00:00<00:00, 315.12it/s]\n"
     ]
    },
    {
     "name": "stdout",
     "output_type": "stream",
     "text": [
      "Acurácia do modelo ee para DiatomSizeReduction: 0.9248366013071896\n",
      "Time runtime (seconds):  0:49:45.709428\n"
     ]
    },
    {
     "name": "stderr",
     "output_type": "stream",
     "text": [
      "Training Base Models: 100%|##########| 5/5 [00:00<00:00, 42.38it/s]\n",
      "Testing Instances: 100%|##########| 306/306 [00:00<00:00, 311.11it/s]\n"
     ]
    },
    {
     "name": "stdout",
     "output_type": "stream",
     "text": [
      "Acurácia do modelo shape para DiatomSizeReduction: 0.9444444444444444\n",
      "Time runtime (seconds):  0:49:46.842588\n"
     ]
    },
    {
     "name": "stderr",
     "output_type": "stream",
     "text": [
      "Training Base Models: 100%|##########| 5/5 [00:00<00:00, 42.49it/s]\n",
      "Testing Instances: 100%|##########| 306/306 [00:01<00:00, 301.66it/s]\n"
     ]
    },
    {
     "name": "stdout",
     "output_type": "stream",
     "text": [
      "Acurácia do modelo rf para DiatomSizeReduction: 0.9281045751633987\n",
      "Time runtime (seconds):  0:49:48.005170\n"
     ]
    },
    {
     "name": "stderr",
     "output_type": "stream",
     "text": [
      "Training Base Models: 100%|##########| 5/5 [00:00<00:00, 42.88it/s]\n",
      "Testing Instances: 100%|##########| 306/306 [00:00<00:00, 319.40it/s]\n"
     ]
    },
    {
     "name": "stdout",
     "output_type": "stream",
     "text": [
      "Acurácia do modelo rd para DiatomSizeReduction: 0.934640522875817\n",
      "Time runtime (seconds):  0:49:49.111855\n"
     ]
    },
    {
     "name": "stderr",
     "output_type": "stream",
     "text": [
      "Training Base Models: 100%|##########| 5/5 [00:03<00:00,  1.48it/s]\n",
      "Testing Instances: 100%|##########| 100/100 [00:00<00:00, 590.57it/s]\n"
     ]
    },
    {
     "name": "stdout",
     "output_type": "stream",
     "text": [
      "Acurácia do modelo 1nn para ECG200: 0.79\n",
      "Time runtime (seconds):  0:49:52.799384\n"
     ]
    },
    {
     "name": "stderr",
     "output_type": "stream",
     "text": [
      "Training Base Models: 100%|##########| 5/5 [00:03<00:00,  1.48it/s]\n",
      "Testing Instances: 100%|##########| 100/100 [00:00<00:00, 597.09it/s]\n"
     ]
    },
    {
     "name": "stdout",
     "output_type": "stream",
     "text": [
      "Acurácia do modelo 3nn para ECG200: 0.82\n",
      "Time runtime (seconds):  0:49:56.436355\n"
     ]
    },
    {
     "name": "stderr",
     "output_type": "stream",
     "text": [
      "Training Base Models: 100%|##########| 5/5 [00:03<00:00,  1.49it/s]\n",
      "Testing Instances: 100%|##########| 100/100 [00:00<00:00, 604.83it/s]\n"
     ]
    },
    {
     "name": "stdout",
     "output_type": "stream",
     "text": [
      "Acurácia do modelo svm para ECG200: 0.86\n",
      "Time runtime (seconds):  0:50:00.060813\n"
     ]
    },
    {
     "name": "stderr",
     "output_type": "stream",
     "text": [
      "Training Base Models: 100%|##########| 5/5 [00:03<00:00,  1.49it/s]\n",
      "Testing Instances: 100%|##########| 100/100 [00:00<00:00, 573.53it/s]\n"
     ]
    },
    {
     "name": "stdout",
     "output_type": "stream",
     "text": [
      "Acurácia do modelo nb para ECG200: 0.86\n",
      "Time runtime (seconds):  0:50:03.689461\n"
     ]
    },
    {
     "name": "stderr",
     "output_type": "stream",
     "text": [
      "Training Base Models: 100%|##########| 5/5 [00:03<00:00,  1.47it/s]\n",
      "Testing Instances: 100%|##########| 100/100 [00:00<00:00, 596.44it/s]\n"
     ]
    },
    {
     "name": "stdout",
     "output_type": "stream",
     "text": [
      "Acurácia do modelo gbc para ECG200: 0.82\n",
      "Time runtime (seconds):  0:50:07.359732\n"
     ]
    },
    {
     "name": "stderr",
     "output_type": "stream",
     "text": [
      "Training Base Models: 100%|##########| 5/5 [00:03<00:00,  1.49it/s]\n",
      "Testing Instances: 100%|##########| 100/100 [00:00<00:00, 590.61it/s]\n"
     ]
    },
    {
     "name": "stdout",
     "output_type": "stream",
     "text": [
      "Acurácia do modelo ee para ECG200: 0.86\n",
      "Time runtime (seconds):  0:50:10.980198\n"
     ]
    },
    {
     "name": "stderr",
     "output_type": "stream",
     "text": [
      "Training Base Models: 100%|##########| 5/5 [00:03<00:00,  1.50it/s]\n",
      "Testing Instances: 100%|##########| 100/100 [00:00<00:00, 583.12it/s]\n"
     ]
    },
    {
     "name": "stdout",
     "output_type": "stream",
     "text": [
      "Acurácia do modelo shape para ECG200: 0.87\n",
      "Time runtime (seconds):  0:50:14.596175\n"
     ]
    },
    {
     "name": "stderr",
     "output_type": "stream",
     "text": [
      "Training Base Models: 100%|##########| 5/5 [00:03<00:00,  1.47it/s]\n",
      "Testing Instances: 100%|##########| 100/100 [00:00<00:00, 594.72it/s]\n"
     ]
    },
    {
     "name": "stdout",
     "output_type": "stream",
     "text": [
      "Acurácia do modelo rf para ECG200: 0.83\n",
      "Time runtime (seconds):  0:50:18.250179\n"
     ]
    },
    {
     "name": "stderr",
     "output_type": "stream",
     "text": [
      "Training Base Models: 100%|##########| 5/5 [00:03<00:00,  1.48it/s]\n",
      "Testing Instances: 100%|##########| 100/100 [00:00<00:00, 590.47it/s]\n"
     ]
    },
    {
     "name": "stdout",
     "output_type": "stream",
     "text": [
      "Acurácia do modelo rd para ECG200: 0.85\n",
      "Time runtime (seconds):  0:50:21.900362\n"
     ]
    },
    {
     "name": "stderr",
     "output_type": "stream",
     "text": [
      "Training Base Models: 100%|##########| 5/5 [00:00<00:00, 30.22it/s]\n",
      "Testing Instances: 100%|##########| 861/861 [00:01<00:00, 517.21it/s]\n"
     ]
    },
    {
     "name": "stdout",
     "output_type": "stream",
     "text": [
      "Acurácia do modelo 1nn para ECGFiveDays: 1.0\n",
      "Time runtime (seconds):  0:50:23.767768\n"
     ]
    },
    {
     "name": "stderr",
     "output_type": "stream",
     "text": [
      "Training Base Models: 100%|##########| 5/5 [00:00<00:00, 31.09it/s]\n",
      "Testing Instances: 100%|##########| 861/861 [00:01<00:00, 519.99it/s]\n"
     ]
    },
    {
     "name": "stdout",
     "output_type": "stream",
     "text": [
      "Acurácia do modelo 3nn para ECGFiveDays: 1.0\n",
      "Time runtime (seconds):  0:50:25.624015\n"
     ]
    },
    {
     "name": "stderr",
     "output_type": "stream",
     "text": [
      "Training Base Models: 100%|##########| 5/5 [00:00<00:00, 31.09it/s]\n",
      "Testing Instances: 100%|##########| 861/861 [00:01<00:00, 507.96it/s]\n"
     ]
    },
    {
     "name": "stdout",
     "output_type": "stream",
     "text": [
      "Acurácia do modelo svm para ECGFiveDays: 1.0\n",
      "Time runtime (seconds):  0:50:27.519238\n"
     ]
    },
    {
     "name": "stderr",
     "output_type": "stream",
     "text": [
      "Training Base Models: 100%|##########| 5/5 [00:00<00:00, 30.25it/s]\n",
      "Testing Instances: 100%|##########| 861/861 [00:01<00:00, 520.67it/s]\n"
     ]
    },
    {
     "name": "stdout",
     "output_type": "stream",
     "text": [
      "Acurácia do modelo nb para ECGFiveDays: 1.0\n",
      "Time runtime (seconds):  0:50:29.376553\n"
     ]
    },
    {
     "name": "stderr",
     "output_type": "stream",
     "text": [
      "Training Base Models: 100%|##########| 5/5 [00:00<00:00, 31.86it/s]\n",
      "Testing Instances: 100%|##########| 861/861 [00:01<00:00, 521.71it/s]\n"
     ]
    },
    {
     "name": "stdout",
     "output_type": "stream",
     "text": [
      "Acurácia do modelo gbc para ECGFiveDays: 1.0\n",
      "Time runtime (seconds):  0:50:31.223287\n"
     ]
    },
    {
     "name": "stderr",
     "output_type": "stream",
     "text": [
      "Training Base Models: 100%|##########| 5/5 [00:00<00:00, 24.69it/s]\n",
      "Testing Instances: 100%|##########| 861/861 [00:01<00:00, 520.37it/s]\n"
     ]
    },
    {
     "name": "stdout",
     "output_type": "stream",
     "text": [
      "Acurácia do modelo ee para ECGFiveDays: 1.0\n",
      "Time runtime (seconds):  0:50:33.120682\n"
     ]
    },
    {
     "name": "stderr",
     "output_type": "stream",
     "text": [
      "Training Base Models: 100%|##########| 5/5 [00:00<00:00, 30.28it/s]\n",
      "Testing Instances: 100%|##########| 861/861 [00:01<00:00, 524.86it/s]\n"
     ]
    },
    {
     "name": "stdout",
     "output_type": "stream",
     "text": [
      "Acurácia do modelo shape para ECGFiveDays: 1.0\n",
      "Time runtime (seconds):  0:50:34.965683\n"
     ]
    },
    {
     "name": "stderr",
     "output_type": "stream",
     "text": [
      "Training Base Models: 100%|##########| 5/5 [00:00<00:00, 23.78it/s]\n",
      "Testing Instances: 100%|##########| 861/861 [00:01<00:00, 523.64it/s]\n"
     ]
    },
    {
     "name": "stdout",
     "output_type": "stream",
     "text": [
      "Acurácia do modelo rf para ECGFiveDays: 1.0\n",
      "Time runtime (seconds):  0:50:36.858775\n"
     ]
    },
    {
     "name": "stderr",
     "output_type": "stream",
     "text": [
      "Training Base Models: 100%|##########| 5/5 [00:00<00:00, 30.95it/s]\n",
      "Testing Instances: 100%|##########| 861/861 [00:01<00:00, 524.44it/s]\n"
     ]
    },
    {
     "name": "stdout",
     "output_type": "stream",
     "text": [
      "Acurácia do modelo rd para ECGFiveDays: 1.0\n",
      "Time runtime (seconds):  0:50:38.702187\n"
     ]
    },
    {
     "name": "stderr",
     "output_type": "stream",
     "text": [
      "Training Base Models: 100%|##########| 5/5 [00:00<00:00, 16.36it/s]\n",
      "Testing Instances: 100%|##########| 88/88 [00:00<00:00, 312.68it/s]\n"
     ]
    },
    {
     "name": "stdout",
     "output_type": "stream",
     "text": [
      "Acurácia do modelo 1nn para FaceFour: 0.8636363636363636\n",
      "Time runtime (seconds):  0:50:39.323219\n"
     ]
    },
    {
     "name": "stderr",
     "output_type": "stream",
     "text": [
      "Training Base Models: 100%|##########| 5/5 [00:00<00:00, 16.69it/s]\n",
      "Testing Instances: 100%|##########| 88/88 [00:00<00:00, 309.82it/s]\n"
     ]
    },
    {
     "name": "stdout",
     "output_type": "stream",
     "text": [
      "Acurácia do modelo 3nn para FaceFour: 0.8295454545454546\n",
      "Time runtime (seconds):  0:50:39.943310\n"
     ]
    },
    {
     "name": "stderr",
     "output_type": "stream",
     "text": [
      "Training Base Models: 100%|##########| 5/5 [00:00<00:00, 16.69it/s]\n",
      "Testing Instances: 100%|##########| 88/88 [00:00<00:00, 298.19it/s]\n"
     ]
    },
    {
     "name": "stdout",
     "output_type": "stream",
     "text": [
      "Acurácia do modelo svm para FaceFour: 0.8181818181818182\n",
      "Time runtime (seconds):  0:50:40.572250\n"
     ]
    },
    {
     "name": "stderr",
     "output_type": "stream",
     "text": [
      "Training Base Models: 100%|##########| 5/5 [00:00<00:00, 16.44it/s]\n",
      "Testing Instances: 100%|##########| 88/88 [00:00<00:00, 277.67it/s]\n"
     ]
    },
    {
     "name": "stdout",
     "output_type": "stream",
     "text": [
      "Acurácia do modelo nb para FaceFour: 0.8409090909090909\n",
      "Time runtime (seconds):  0:50:41.231081\n"
     ]
    },
    {
     "name": "stderr",
     "output_type": "stream",
     "text": [
      "Training Base Models: 100%|##########| 5/5 [00:00<00:00, 16.85it/s]\n",
      "Testing Instances: 100%|##########| 88/88 [00:00<00:00, 305.74it/s]\n"
     ]
    },
    {
     "name": "stdout",
     "output_type": "stream",
     "text": [
      "Acurácia do modelo gbc para FaceFour: 0.8181818181818182\n",
      "Time runtime (seconds):  0:50:41.850058\n"
     ]
    },
    {
     "name": "stderr",
     "output_type": "stream",
     "text": [
      "Training Base Models: 100%|##########| 5/5 [00:00<00:00, 16.81it/s]\n",
      "Testing Instances: 100%|##########| 88/88 [00:00<00:00, 310.07it/s]\n"
     ]
    },
    {
     "name": "stdout",
     "output_type": "stream",
     "text": [
      "Acurácia do modelo ee para FaceFour: 0.8181818181818182\n",
      "Time runtime (seconds):  0:50:42.465599\n"
     ]
    },
    {
     "name": "stderr",
     "output_type": "stream",
     "text": [
      "Training Base Models: 100%|##########| 5/5 [00:00<00:00, 16.59it/s]\n",
      "Testing Instances: 100%|##########| 88/88 [00:00<00:00, 311.37it/s]\n"
     ]
    },
    {
     "name": "stdout",
     "output_type": "stream",
     "text": [
      "Acurácia do modelo shape para FaceFour: 0.8636363636363636\n",
      "Time runtime (seconds):  0:50:43.084392\n"
     ]
    },
    {
     "name": "stderr",
     "output_type": "stream",
     "text": [
      "Training Base Models: 100%|##########| 5/5 [00:00<00:00, 16.63it/s]\n",
      "Testing Instances: 100%|##########| 88/88 [00:00<00:00, 317.68it/s]\n"
     ]
    },
    {
     "name": "stdout",
     "output_type": "stream",
     "text": [
      "Acurácia do modelo rf para FaceFour: 0.8068181818181818\n",
      "Time runtime (seconds):  0:50:43.699027\n"
     ]
    },
    {
     "name": "stderr",
     "output_type": "stream",
     "text": [
      "Training Base Models: 100%|##########| 5/5 [00:00<00:00, 13.89it/s]\n",
      "Testing Instances: 100%|##########| 88/88 [00:00<00:00, 313.17it/s]\n"
     ]
    },
    {
     "name": "stdout",
     "output_type": "stream",
     "text": [
      "Acurácia do modelo rd para FaceFour: 0.8295454545454546\n",
      "Time runtime (seconds):  0:50:44.374941\n"
     ]
    },
    {
     "name": "stderr",
     "output_type": "stream",
     "text": [
      "Training Base Models: 100%|##########| 5/5 [00:00<00:00,  7.40it/s]\n",
      "Testing Instances: 100%|##########| 150/150 [00:00<00:00, 496.65it/s]\n"
     ]
    },
    {
     "name": "stdout",
     "output_type": "stream",
     "text": [
      "Acurácia do modelo 1nn para GunPoint: 0.9066666666666666\n",
      "Time runtime (seconds):  0:50:45.407619\n"
     ]
    },
    {
     "name": "stderr",
     "output_type": "stream",
     "text": [
      "Training Base Models: 100%|##########| 5/5 [00:00<00:00,  7.41it/s]\n",
      "Testing Instances: 100%|##########| 150/150 [00:00<00:00, 510.75it/s]\n"
     ]
    },
    {
     "name": "stdout",
     "output_type": "stream",
     "text": [
      "Acurácia do modelo 3nn para GunPoint: 0.9\n",
      "Time runtime (seconds):  0:50:46.431598\n"
     ]
    },
    {
     "name": "stderr",
     "output_type": "stream",
     "text": [
      "Training Base Models: 100%|##########| 5/5 [00:00<00:00,  7.31it/s]\n",
      "Testing Instances: 100%|##########| 150/150 [00:00<00:00, 505.85it/s]\n"
     ]
    },
    {
     "name": "stdout",
     "output_type": "stream",
     "text": [
      "Acurácia do modelo svm para GunPoint: 0.9066666666666666\n",
      "Time runtime (seconds):  0:50:47.465902\n"
     ]
    },
    {
     "name": "stderr",
     "output_type": "stream",
     "text": [
      "Training Base Models: 100%|##########| 5/5 [00:00<00:00,  7.01it/s]\n",
      "Testing Instances: 100%|##########| 150/150 [00:00<00:00, 506.45it/s]\n"
     ]
    },
    {
     "name": "stdout",
     "output_type": "stream",
     "text": [
      "Acurácia do modelo nb para GunPoint: 0.9133333333333333\n",
      "Time runtime (seconds):  0:50:48.529712\n"
     ]
    },
    {
     "name": "stderr",
     "output_type": "stream",
     "text": [
      "Training Base Models: 100%|##########| 5/5 [00:00<00:00,  7.35it/s]\n",
      "Testing Instances: 100%|##########| 150/150 [00:00<00:00, 499.97it/s]\n"
     ]
    },
    {
     "name": "stdout",
     "output_type": "stream",
     "text": [
      "Acurácia do modelo gbc para GunPoint: 0.8933333333333333\n",
      "Time runtime (seconds):  0:50:49.566752\n"
     ]
    },
    {
     "name": "stderr",
     "output_type": "stream",
     "text": [
      "Training Base Models: 100%|##########| 5/5 [00:00<00:00,  7.41it/s]\n",
      "Testing Instances: 100%|##########| 150/150 [00:00<00:00, 505.23it/s]\n"
     ]
    },
    {
     "name": "stdout",
     "output_type": "stream",
     "text": [
      "Acurácia do modelo ee para GunPoint: 0.9\n",
      "Time runtime (seconds):  0:50:50.594228\n"
     ]
    },
    {
     "name": "stderr",
     "output_type": "stream",
     "text": [
      "Training Base Models: 100%|##########| 5/5 [00:00<00:00,  7.46it/s]\n",
      "Testing Instances: 100%|##########| 150/150 [00:00<00:00, 505.58it/s]\n"
     ]
    },
    {
     "name": "stdout",
     "output_type": "stream",
     "text": [
      "Acurácia do modelo shape para GunPoint: 0.9\n",
      "Time runtime (seconds):  0:50:51.616614\n"
     ]
    },
    {
     "name": "stderr",
     "output_type": "stream",
     "text": [
      "Training Base Models: 100%|##########| 5/5 [00:00<00:00,  6.93it/s]\n",
      "Testing Instances: 100%|##########| 150/150 [00:00<00:00, 498.31it/s]\n"
     ]
    },
    {
     "name": "stdout",
     "output_type": "stream",
     "text": [
      "Acurácia do modelo rf para GunPoint: 0.9\n",
      "Time runtime (seconds):  0:50:52.697899\n"
     ]
    },
    {
     "name": "stderr",
     "output_type": "stream",
     "text": [
      "Training Base Models: 100%|##########| 5/5 [00:00<00:00,  7.34it/s]\n",
      "Testing Instances: 100%|##########| 150/150 [00:00<00:00, 507.20it/s]\n"
     ]
    },
    {
     "name": "stdout",
     "output_type": "stream",
     "text": [
      "Acurácia do modelo rd para GunPoint: 0.9133333333333333\n",
      "Time runtime (seconds):  0:50:53.732711\n"
     ]
    },
    {
     "name": "stderr",
     "output_type": "stream",
     "text": [
      "Training Base Models: 100%|##########| 5/5 [00:03<00:00,  1.60it/s]\n",
      "Testing Instances: 100%|##########| 61/61 [00:00<00:00, 199.45it/s]\n"
     ]
    },
    {
     "name": "stdout",
     "output_type": "stream",
     "text": [
      "Acurácia do modelo 1nn para Lightning2: 0.6885245901639344\n",
      "Time runtime (seconds):  0:50:57.243404\n"
     ]
    },
    {
     "name": "stderr",
     "output_type": "stream",
     "text": [
      "Training Base Models: 100%|##########| 5/5 [00:03<00:00,  1.61it/s]\n",
      "Testing Instances: 100%|##########| 61/61 [00:00<00:00, 200.45it/s]\n"
     ]
    },
    {
     "name": "stdout",
     "output_type": "stream",
     "text": [
      "Acurácia do modelo 3nn para Lightning2: 0.7049180327868853\n",
      "Time runtime (seconds):  0:51:00.728091\n"
     ]
    },
    {
     "name": "stderr",
     "output_type": "stream",
     "text": [
      "Training Base Models: 100%|##########| 5/5 [00:03<00:00,  1.61it/s]\n",
      "Testing Instances: 100%|##########| 61/61 [00:00<00:00, 198.40it/s]\n"
     ]
    },
    {
     "name": "stdout",
     "output_type": "stream",
     "text": [
      "Acurácia do modelo svm para Lightning2: 0.7049180327868853\n",
      "Time runtime (seconds):  0:51:04.218416\n"
     ]
    },
    {
     "name": "stderr",
     "output_type": "stream",
     "text": [
      "Training Base Models: 100%|##########| 5/5 [00:03<00:00,  1.58it/s]\n",
      "Testing Instances: 100%|##########| 61/61 [00:00<00:00, 203.33it/s]\n"
     ]
    },
    {
     "name": "stdout",
     "output_type": "stream",
     "text": [
      "Acurácia do modelo nb para Lightning2: 0.7213114754098361\n",
      "Time runtime (seconds):  0:51:07.758268\n"
     ]
    },
    {
     "name": "stderr",
     "output_type": "stream",
     "text": [
      "Training Base Models: 100%|##########| 5/5 [00:03<00:00,  1.60it/s]\n",
      "Testing Instances: 100%|##########| 61/61 [00:00<00:00, 195.80it/s]\n"
     ]
    },
    {
     "name": "stdout",
     "output_type": "stream",
     "text": [
      "Acurácia do modelo gbc para Lightning2: 0.7049180327868853\n",
      "Time runtime (seconds):  0:51:11.263293\n"
     ]
    },
    {
     "name": "stderr",
     "output_type": "stream",
     "text": [
      "Training Base Models: 100%|##########| 5/5 [00:03<00:00,  1.61it/s]\n",
      "Testing Instances: 100%|##########| 61/61 [00:00<00:00, 199.12it/s]\n"
     ]
    },
    {
     "name": "stdout",
     "output_type": "stream",
     "text": [
      "Acurácia do modelo ee para Lightning2: 0.6721311475409836\n",
      "Time runtime (seconds):  0:51:14.746020\n"
     ]
    },
    {
     "name": "stderr",
     "output_type": "stream",
     "text": [
      "Training Base Models: 100%|##########| 5/5 [00:03<00:00,  1.59it/s]\n",
      "Testing Instances: 100%|##########| 61/61 [00:00<00:00, 201.18it/s]\n"
     ]
    },
    {
     "name": "stdout",
     "output_type": "stream",
     "text": [
      "Acurácia do modelo shape para Lightning2: 0.7049180327868853\n",
      "Time runtime (seconds):  0:51:18.266255\n"
     ]
    },
    {
     "name": "stderr",
     "output_type": "stream",
     "text": [
      "Training Base Models: 100%|##########| 5/5 [00:03<00:00,  1.60it/s]\n",
      "Testing Instances: 100%|##########| 61/61 [00:00<00:00, 204.45it/s]\n"
     ]
    },
    {
     "name": "stdout",
     "output_type": "stream",
     "text": [
      "Acurácia do modelo rf para Lightning2: 0.6885245901639344\n",
      "Time runtime (seconds):  0:51:21.760297\n"
     ]
    },
    {
     "name": "stderr",
     "output_type": "stream",
     "text": [
      "Training Base Models: 100%|##########| 5/5 [00:03<00:00,  1.60it/s]\n",
      "Testing Instances: 100%|##########| 61/61 [00:00<00:00, 198.57it/s]\n"
     ]
    },
    {
     "name": "stdout",
     "output_type": "stream",
     "text": [
      "Acurácia do modelo rd para Lightning2: 0.6885245901639344\n",
      "Time runtime (seconds):  0:51:25.266480\n"
     ]
    },
    {
     "name": "stderr",
     "output_type": "stream",
     "text": [
      "Training Base Models: 100%|##########| 5/5 [00:04<00:00,  1.15it/s]\n",
      "Testing Instances: 100%|##########| 73/73 [00:00<00:00, 319.46it/s]\n"
     ]
    },
    {
     "name": "stdout",
     "output_type": "stream",
     "text": [
      "Acurácia do modelo 1nn para Lightning7: 0.684931506849315\n",
      "Time runtime (seconds):  0:51:29.944461\n"
     ]
    },
    {
     "name": "stderr",
     "output_type": "stream",
     "text": [
      "Training Base Models: 100%|##########| 5/5 [00:04<00:00,  1.14it/s]\n",
      "Testing Instances: 100%|##########| 73/73 [00:00<00:00, 315.90it/s]\n"
     ]
    },
    {
     "name": "stdout",
     "output_type": "stream",
     "text": [
      "Acurácia do modelo 3nn para Lightning7: 0.726027397260274\n",
      "Time runtime (seconds):  0:51:34.657944\n"
     ]
    },
    {
     "name": "stderr",
     "output_type": "stream",
     "text": [
      "Training Base Models: 100%|##########| 5/5 [00:04<00:00,  1.14it/s]\n",
      "Testing Instances: 100%|##########| 73/73 [00:00<00:00, 326.07it/s]\n"
     ]
    },
    {
     "name": "stdout",
     "output_type": "stream",
     "text": [
      "Acurácia do modelo svm para Lightning7: 0.6712328767123288\n",
      "Time runtime (seconds):  0:51:39.362521\n"
     ]
    },
    {
     "name": "stderr",
     "output_type": "stream",
     "text": [
      "Training Base Models: 100%|##########| 5/5 [00:04<00:00,  1.14it/s]\n",
      "Testing Instances: 100%|##########| 73/73 [00:00<00:00, 309.49it/s]\n"
     ]
    },
    {
     "name": "stdout",
     "output_type": "stream",
     "text": [
      "Acurácia do modelo nb para Lightning7: 0.6164383561643836\n",
      "Time runtime (seconds):  0:51:44.078249\n"
     ]
    },
    {
     "name": "stderr",
     "output_type": "stream",
     "text": [
      "Training Base Models: 100%|##########| 5/5 [00:04<00:00,  1.13it/s]\n",
      "Testing Instances: 100%|##########| 73/73 [00:00<00:00, 321.44it/s]\n"
     ]
    },
    {
     "name": "stdout",
     "output_type": "stream",
     "text": [
      "Acurácia do modelo gbc para Lightning7: 0.6712328767123288\n",
      "Time runtime (seconds):  0:51:48.819939\n"
     ]
    },
    {
     "name": "stderr",
     "output_type": "stream",
     "text": [
      "Training Base Models: 100%|##########| 5/5 [00:04<00:00,  1.14it/s]\n",
      "Testing Instances: 100%|##########| 73/73 [00:00<00:00, 315.46it/s]\n"
     ]
    },
    {
     "name": "stdout",
     "output_type": "stream",
     "text": [
      "Acurácia do modelo ee para Lightning7: 0.6301369863013698\n",
      "Time runtime (seconds):  0:51:53.503490\n"
     ]
    },
    {
     "name": "stderr",
     "output_type": "stream",
     "text": [
      "Training Base Models: 100%|##########| 5/5 [00:04<00:00,  1.14it/s]\n",
      "Testing Instances: 100%|##########| 73/73 [00:00<00:00, 318.42it/s]\n"
     ]
    },
    {
     "name": "stdout",
     "output_type": "stream",
     "text": [
      "Acurácia do modelo shape para Lightning7: 0.6438356164383562\n",
      "Time runtime (seconds):  0:51:58.207003\n"
     ]
    },
    {
     "name": "stderr",
     "output_type": "stream",
     "text": [
      "Training Base Models: 100%|##########| 5/5 [00:04<00:00,  1.13it/s]\n",
      "Testing Instances: 100%|##########| 73/73 [00:00<00:00, 325.33it/s]\n"
     ]
    },
    {
     "name": "stdout",
     "output_type": "stream",
     "text": [
      "Acurácia do modelo rf para Lightning7: 0.6301369863013698\n",
      "Time runtime (seconds):  0:52:02.925032\n"
     ]
    },
    {
     "name": "stderr",
     "output_type": "stream",
     "text": [
      "Training Base Models: 100%|##########| 5/5 [00:04<00:00,  1.13it/s]\n",
      "Testing Instances: 100%|##########| 73/73 [00:00<00:00, 313.45it/s]\n"
     ]
    },
    {
     "name": "stdout",
     "output_type": "stream",
     "text": [
      "Acurácia do modelo rd para Lightning7: 0.6712328767123288\n",
      "Time runtime (seconds):  0:52:07.649389\n"
     ]
    },
    {
     "name": "stderr",
     "output_type": "stream",
     "text": [
      "Training Base Models:  20%|##        | 1/5 [1:48:54<7:15:36, 6534.14s/it]\n"
     ]
    },
    {
     "ename": "KeyboardInterrupt",
     "evalue": "",
     "output_type": "error",
     "traceback": [
      "\u001b[1;31m---------------------------------------------------------------------------\u001b[0m",
      "\u001b[1;31mKeyboardInterrupt\u001b[0m                         Traceback (most recent call last)",
      "Cell \u001b[1;32mIn[335], line 20\u001b[0m\n\u001b[0;32m     17\u001b[0m \u001b[38;5;28;01mfor\u001b[39;00m algo \u001b[38;5;129;01min\u001b[39;00m algos:\n\u001b[0;32m     18\u001b[0m     \u001b[38;5;66;03m# Treinar o modelo e fazer previsões\u001b[39;00m\n\u001b[0;32m     19\u001b[0m     start \u001b[38;5;241m=\u001b[39m timeit\u001b[38;5;241m.\u001b[39mdefault_timer()\n\u001b[1;32m---> 20\u001b[0m     trained_base_models, meta_classifier \u001b[38;5;241m=\u001b[39m train_with_meta_classifier(X_train_flat, y_train, base_option\u001b[38;5;241m=\u001b[39m\u001b[38;5;124m'\u001b[39m\u001b[38;5;124msvm\u001b[39m\u001b[38;5;124m'\u001b[39m, meta_option\u001b[38;5;241m=\u001b[39m\u001b[38;5;124m'\u001b[39m\u001b[38;5;124mrd\u001b[39m\u001b[38;5;124m'\u001b[39m)\n\u001b[0;32m     21\u001b[0m     predictions_test_meta \u001b[38;5;241m=\u001b[39m predict_with_meta_classifier(X_test_flat, trained_base_models, meta_classifier)\n\u001b[0;32m     22\u001b[0m     stop \u001b[38;5;241m=\u001b[39m timeit\u001b[38;5;241m.\u001b[39mdefault_timer()\n",
      "Cell \u001b[1;32mIn[290], line 20\u001b[0m, in \u001b[0;36mtrain_with_meta_classifier\u001b[1;34m(X_train, y_train, base_option, meta_option, random_state)\u001b[0m\n\u001b[0;32m     18\u001b[0m scores \u001b[38;5;241m=\u001b[39m []\n\u001b[0;32m     19\u001b[0m \u001b[38;5;28;01mfor\u001b[39;00m train_index, _ \u001b[38;5;129;01min\u001b[39;00m loo\u001b[38;5;241m.\u001b[39msplit(X_trans):\n\u001b[1;32m---> 20\u001b[0m     model\u001b[38;5;241m.\u001b[39mfit(X_trans[train_index], y_train[train_index])\n\u001b[0;32m     21\u001b[0m     score \u001b[38;5;241m=\u001b[39m model\u001b[38;5;241m.\u001b[39mscore(X_trans[train_index], y_train[train_index])  \u001b[38;5;66;03m# Score do modelo nos dados de treino\u001b[39;00m\n\u001b[0;32m     22\u001b[0m     scores\u001b[38;5;241m.\u001b[39mappend(score)\n",
      "File \u001b[1;32md:\\Programas\\Anaconda\\envs\\AM_MSC_P3_11_7\\Lib\\site-packages\\sklearn\\base.py:1351\u001b[0m, in \u001b[0;36m_fit_context.<locals>.decorator.<locals>.wrapper\u001b[1;34m(estimator, *args, **kwargs)\u001b[0m\n\u001b[0;32m   1344\u001b[0m     estimator\u001b[38;5;241m.\u001b[39m_validate_params()\n\u001b[0;32m   1346\u001b[0m \u001b[38;5;28;01mwith\u001b[39;00m config_context(\n\u001b[0;32m   1347\u001b[0m     skip_parameter_validation\u001b[38;5;241m=\u001b[39m(\n\u001b[0;32m   1348\u001b[0m         prefer_skip_nested_validation \u001b[38;5;129;01mor\u001b[39;00m global_skip_validation\n\u001b[0;32m   1349\u001b[0m     )\n\u001b[0;32m   1350\u001b[0m ):\n\u001b[1;32m-> 1351\u001b[0m     \u001b[38;5;28;01mreturn\u001b[39;00m fit_method(estimator, \u001b[38;5;241m*\u001b[39margs, \u001b[38;5;241m*\u001b[39m\u001b[38;5;241m*\u001b[39mkwargs)\n",
      "File \u001b[1;32md:\\Programas\\Anaconda\\envs\\AM_MSC_P3_11_7\\Lib\\site-packages\\sklearn\\svm\\_base.py:250\u001b[0m, in \u001b[0;36mBaseLibSVM.fit\u001b[1;34m(self, X, y, sample_weight)\u001b[0m\n\u001b[0;32m    247\u001b[0m     \u001b[38;5;28mprint\u001b[39m(\u001b[38;5;124m\"\u001b[39m\u001b[38;5;124m[LibSVM]\u001b[39m\u001b[38;5;124m\"\u001b[39m, end\u001b[38;5;241m=\u001b[39m\u001b[38;5;124m\"\u001b[39m\u001b[38;5;124m\"\u001b[39m)\n\u001b[0;32m    249\u001b[0m seed \u001b[38;5;241m=\u001b[39m rnd\u001b[38;5;241m.\u001b[39mrandint(np\u001b[38;5;241m.\u001b[39miinfo(\u001b[38;5;124m\"\u001b[39m\u001b[38;5;124mi\u001b[39m\u001b[38;5;124m\"\u001b[39m)\u001b[38;5;241m.\u001b[39mmax)\n\u001b[1;32m--> 250\u001b[0m fit(X, y, sample_weight, solver_type, kernel, random_seed\u001b[38;5;241m=\u001b[39mseed)\n\u001b[0;32m    251\u001b[0m \u001b[38;5;66;03m# see comment on the other call to np.iinfo in this file\u001b[39;00m\n\u001b[0;32m    253\u001b[0m \u001b[38;5;28mself\u001b[39m\u001b[38;5;241m.\u001b[39mshape_fit_ \u001b[38;5;241m=\u001b[39m X\u001b[38;5;241m.\u001b[39mshape \u001b[38;5;28;01mif\u001b[39;00m \u001b[38;5;28mhasattr\u001b[39m(X, \u001b[38;5;124m\"\u001b[39m\u001b[38;5;124mshape\u001b[39m\u001b[38;5;124m\"\u001b[39m) \u001b[38;5;28;01melse\u001b[39;00m (n_samples,)\n",
      "File \u001b[1;32md:\\Programas\\Anaconda\\envs\\AM_MSC_P3_11_7\\Lib\\site-packages\\sklearn\\svm\\_base.py:329\u001b[0m, in \u001b[0;36mBaseLibSVM._dense_fit\u001b[1;34m(self, X, y, sample_weight, solver_type, kernel, random_seed)\u001b[0m\n\u001b[0;32m    315\u001b[0m libsvm\u001b[38;5;241m.\u001b[39mset_verbosity_wrap(\u001b[38;5;28mself\u001b[39m\u001b[38;5;241m.\u001b[39mverbose)\n\u001b[0;32m    317\u001b[0m \u001b[38;5;66;03m# we don't pass **self.get_params() to allow subclasses to\u001b[39;00m\n\u001b[0;32m    318\u001b[0m \u001b[38;5;66;03m# add other parameters to __init__\u001b[39;00m\n\u001b[0;32m    319\u001b[0m (\n\u001b[0;32m    320\u001b[0m     \u001b[38;5;28mself\u001b[39m\u001b[38;5;241m.\u001b[39msupport_,\n\u001b[0;32m    321\u001b[0m     \u001b[38;5;28mself\u001b[39m\u001b[38;5;241m.\u001b[39msupport_vectors_,\n\u001b[0;32m    322\u001b[0m     \u001b[38;5;28mself\u001b[39m\u001b[38;5;241m.\u001b[39m_n_support,\n\u001b[0;32m    323\u001b[0m     \u001b[38;5;28mself\u001b[39m\u001b[38;5;241m.\u001b[39mdual_coef_,\n\u001b[0;32m    324\u001b[0m     \u001b[38;5;28mself\u001b[39m\u001b[38;5;241m.\u001b[39mintercept_,\n\u001b[0;32m    325\u001b[0m     \u001b[38;5;28mself\u001b[39m\u001b[38;5;241m.\u001b[39m_probA,\n\u001b[0;32m    326\u001b[0m     \u001b[38;5;28mself\u001b[39m\u001b[38;5;241m.\u001b[39m_probB,\n\u001b[0;32m    327\u001b[0m     \u001b[38;5;28mself\u001b[39m\u001b[38;5;241m.\u001b[39mfit_status_,\n\u001b[0;32m    328\u001b[0m     \u001b[38;5;28mself\u001b[39m\u001b[38;5;241m.\u001b[39m_num_iter,\n\u001b[1;32m--> 329\u001b[0m ) \u001b[38;5;241m=\u001b[39m libsvm\u001b[38;5;241m.\u001b[39mfit(\n\u001b[0;32m    330\u001b[0m     X,\n\u001b[0;32m    331\u001b[0m     y,\n\u001b[0;32m    332\u001b[0m     svm_type\u001b[38;5;241m=\u001b[39msolver_type,\n\u001b[0;32m    333\u001b[0m     sample_weight\u001b[38;5;241m=\u001b[39msample_weight,\n\u001b[0;32m    334\u001b[0m     class_weight\u001b[38;5;241m=\u001b[39m\u001b[38;5;28mgetattr\u001b[39m(\u001b[38;5;28mself\u001b[39m, \u001b[38;5;124m\"\u001b[39m\u001b[38;5;124mclass_weight_\u001b[39m\u001b[38;5;124m\"\u001b[39m, np\u001b[38;5;241m.\u001b[39mempty(\u001b[38;5;241m0\u001b[39m)),\n\u001b[0;32m    335\u001b[0m     kernel\u001b[38;5;241m=\u001b[39mkernel,\n\u001b[0;32m    336\u001b[0m     C\u001b[38;5;241m=\u001b[39m\u001b[38;5;28mself\u001b[39m\u001b[38;5;241m.\u001b[39mC,\n\u001b[0;32m    337\u001b[0m     nu\u001b[38;5;241m=\u001b[39m\u001b[38;5;28mself\u001b[39m\u001b[38;5;241m.\u001b[39mnu,\n\u001b[0;32m    338\u001b[0m     probability\u001b[38;5;241m=\u001b[39m\u001b[38;5;28mself\u001b[39m\u001b[38;5;241m.\u001b[39mprobability,\n\u001b[0;32m    339\u001b[0m     degree\u001b[38;5;241m=\u001b[39m\u001b[38;5;28mself\u001b[39m\u001b[38;5;241m.\u001b[39mdegree,\n\u001b[0;32m    340\u001b[0m     shrinking\u001b[38;5;241m=\u001b[39m\u001b[38;5;28mself\u001b[39m\u001b[38;5;241m.\u001b[39mshrinking,\n\u001b[0;32m    341\u001b[0m     tol\u001b[38;5;241m=\u001b[39m\u001b[38;5;28mself\u001b[39m\u001b[38;5;241m.\u001b[39mtol,\n\u001b[0;32m    342\u001b[0m     cache_size\u001b[38;5;241m=\u001b[39m\u001b[38;5;28mself\u001b[39m\u001b[38;5;241m.\u001b[39mcache_size,\n\u001b[0;32m    343\u001b[0m     coef0\u001b[38;5;241m=\u001b[39m\u001b[38;5;28mself\u001b[39m\u001b[38;5;241m.\u001b[39mcoef0,\n\u001b[0;32m    344\u001b[0m     gamma\u001b[38;5;241m=\u001b[39m\u001b[38;5;28mself\u001b[39m\u001b[38;5;241m.\u001b[39m_gamma,\n\u001b[0;32m    345\u001b[0m     epsilon\u001b[38;5;241m=\u001b[39m\u001b[38;5;28mself\u001b[39m\u001b[38;5;241m.\u001b[39mepsilon,\n\u001b[0;32m    346\u001b[0m     max_iter\u001b[38;5;241m=\u001b[39m\u001b[38;5;28mself\u001b[39m\u001b[38;5;241m.\u001b[39mmax_iter,\n\u001b[0;32m    347\u001b[0m     random_seed\u001b[38;5;241m=\u001b[39mrandom_seed,\n\u001b[0;32m    348\u001b[0m )\n\u001b[0;32m    350\u001b[0m \u001b[38;5;28mself\u001b[39m\u001b[38;5;241m.\u001b[39m_warn_from_fit_status()\n",
      "\u001b[1;31mKeyboardInterrupt\u001b[0m: "
     ]
    }
   ],
   "source": [
    "dataset_list = ['Adiac', 'Beef', 'Car', 'CBF', 'Coffee', 'DiatomSizeReduction', 'ECG200', 'ECGFiveDays', 'FaceFour',\n",
    "'GunPoint', 'Lightning2', 'Lightning7', 'MoteStrain', 'OliveOil', 'SonyAIBORobotSurface1','SonyAIBORobotSurface2', 'SyntheticControl', 'Trace', 'TwoPatterns']\n",
    "#MedicalImages\n",
    "# Para cada conjunto de dados na lista\n",
    "total_time = 0\n",
    "for dataset_name in dataset_list:\n",
    "    # Carregue os dados de treinamento e teste\n",
    "    X_train, y_train = load_classification(dataset_name, extract_path=\"./Temp/\", split=\"TRAIN\")\n",
    "    X_test, y_test = load_classification(dataset_name, extract_path=\"./Temp/\", split=\"test\")\n",
    "    \n",
    "    # Achatando os dados para 2D, pois alguns algoritmos esperam 2D\n",
    "    X_train_flat = X_train.reshape(X_train.shape[0], -1)\n",
    "    X_test_flat = X_test.reshape(X_test.shape[0], -1)\n",
    "    \n",
    "    dataset_accuracies = []\n",
    "    # Para cada algoritmo\n",
    "    for algo in algos:\n",
    "        # Treinar o modelo e fazer previsões\n",
    "        start = timeit.default_timer()\n",
    "        trained_base_models, meta_classifier = train_with_meta_classifier(X_train_flat, y_train, base_option='svm', meta_option='rd')\n",
    "        predictions_test_meta = predict_with_meta_classifier(X_test_flat, trained_base_models, meta_classifier)\n",
    "        stop = timeit.default_timer()\n",
    "        total_time += stop - start\n",
    "        real_time = str(timedelta(seconds=total_time))\n",
    "        \n",
    "        # Calcular a acurácia e armazená-la\n",
    "        test_accuracy_meta = np.mean(predictions_test_meta == y_test)\n",
    "        dataset_accuracies.append(test_accuracy_meta)\n",
    "        \n",
    "        \n",
    "        print(f\"Acurácia do modelo {algo} para {dataset_name}: {test_accuracy_meta}\")\n",
    "        print('Time runtime (seconds): ', real_time)\n",
    "        \n",
    "np.savetxt(\"Results_1NN_.csv\", dataset_accuracies, delimiter=\",\")"
   ]
  },
  {
   "cell_type": "markdown",
   "metadata": {},
   "source": [
    "### Dados"
   ]
  },
  {
   "cell_type": "code",
   "execution_count": 338,
   "metadata": {},
   "outputs": [],
   "source": [
    "try:\n",
    "    train_data = pd.read_parquet('\\DS\\Parquet_Quali\\Adiac_TRAIN.parquet')\n",
    "    test_data = pd.read_parquet('\\DS\\Parquet_Quali\\Adiac_TEST.parquet')\n",
    "except FileNotFoundError:\n",
    "    print(\"Ensure the Parquet files are in the correct path.\")\n",
    "    raise"
   ]
  },
  {
   "cell_type": "code",
   "execution_count": 339,
   "metadata": {},
   "outputs": [],
   "source": [
    "X_train = train_data.drop('target', axis=1).values\n",
    "y_train = train_data['target'].values\n",
    "\n",
    "X_test = test_data.drop('target', axis=1).values\n",
    "y_test = test_data['target'].values"
   ]
  },
  {
   "cell_type": "markdown",
   "metadata": {},
   "source": [
    "### Função de transformação dos dados."
   ]
  },
  {
   "cell_type": "code",
   "execution_count": 340,
   "metadata": {},
   "outputs": [],
   "source": [
    "def sax_transform(series, w, a):\n",
    "    paa = [series[i:i + w].mean() for i in range(0, len(series), w)]\n",
    "    \n",
    "    if np.std(paa) != 0:\n",
    "        paa = (paa - np.mean(paa)) / np.std(paa)\n",
    "    else:\n",
    "        paa = paa - np.mean(paa)\n",
    "    \n",
    "    breakpoints = norm.ppf(np.linspace(0, 1, a+1)[1:-1])\n",
    "    sax_symbols = np.array(range(a))\n",
    "    sax_representation = sax_symbols[np.digitize(paa, breakpoints)]\n",
    "    \n",
    "    return sax_representation\n",
    "\n",
    "def transform_data(X, num_features=10):\n",
    "    a = 5\n",
    "    w = int(X.shape[1] / num_features)  # Ajuste do tamanho da janela baseado no número de características desejado\n",
    "    \n",
    "    X_sax = np.array([sax_transform(row, w, a) for row in X])\n",
    "    X_fft = np.abs(fft(X, axis=1))\n",
    "    \n",
    "    coeffs_cA, coeffs_cD = pywt.dwt(X, 'db4', axis=1)\n",
    "    X_dwt = np.hstack((coeffs_cA, coeffs_cD))\n",
    "    \n",
    "    X_paa = np.column_stack([X[:, i:i+2].mean(axis=1) for i in range(0, X.shape[1], 2)])\n",
    "\n",
    "    return {\n",
    "        \"TS\": X,\n",
    "        \"FFT\": X_fft,\n",
    "        \"DWT\": X_dwt,\n",
    "        \"PAA\": X_paa,\n",
    "        \"SAX\": X_sax\n",
    "    }"
   ]
  },
  {
   "cell_type": "markdown",
   "metadata": {},
   "source": [
    "### Seleção do modelo extrator e modelo classificador"
   ]
  },
  {
   "cell_type": "code",
   "execution_count": 341,
   "metadata": {},
   "outputs": [],
   "source": [
    "def select_model(option, random_state):\n",
    "    if option == '1nn':\n",
    "        return KNeighborsTimeSeriesClassifier(distance='euclidean', n_neighbors=1)\n",
    "    elif option == '3nn':\n",
    "        return KNeighborsTimeSeriesClassifier(distance='dtw', n_neighbors=3)\n",
    "    elif option == 'svm':\n",
    "        return SVC(C = 100, gamma=0.01, kernel='linear', probability=True)\n",
    "    elif option == 'gbc':\n",
    "        return GradientBoostingClassifier(n_estimators=100, random_state=random_state)\n",
    "    elif option == 'nb':\n",
    "        return GaussianNB()\n",
    "    elif option == 'shape':\n",
    "        return ShapeDTW(n_neighbors=3)\n",
    "    elif option == 'ee':\n",
    "        return ElasticEnsemble(proportion_of_param_options= 0.5,\n",
    "                               proportion_train_in_param_finding= 0.5,\n",
    "                               proportion_train_for_test=0.5,\n",
    "                               n_jobs=-1,\n",
    "                               random_state=random_state,\n",
    "                               majority_vote=True)\n",
    "    elif option == 'rd':\n",
    "        return RidgeClassifierCV(alphas=np.logspace(-3, 3, 10))\n",
    "    else:\n",
    "        return RandomForestClassifier(n_estimators=100,random_state=random_state)"
   ]
  },
  {
   "cell_type": "markdown",
   "metadata": {},
   "source": [
    "### Treino do modelos extrator e classificador"
   ]
  },
  {
   "cell_type": "code",
   "execution_count": 342,
   "metadata": {},
   "outputs": [
    {
     "data": {
      "text/plain": [
       "'def train_with_meta_classifier(X_train, y_train, base_option=\\'random_forest\\', meta_option=\\'1nn\\', random_state=42):\\n    trained_models = {}  # Salvar modelos treinados para cada transformação\\n    \\n    X_train_transformed = transform_data(X_train)  # Transformar todo o conjunto de treino\\n\\n    # Treinar um modelo para cada transformação e salvar no dicionário\\n    for rep, X_trans in tqdm(X_train_transformed.items(), ascii=True, desc=\"Training Base Models\"):\\n        model = select_model(base_option, random_state)\\n        model.fit(X_trans, y_train)\\n        trained_models[rep] = model\\n        \\n    # Preparar dados para o meta-classificador\\n    meta_features = []\\n    for i in range(X_train.shape[0]):\\n        instance_features = []\\n        for rep, model in trained_models.items():\\n            proba = model.predict_proba(X_train_transformed[rep][i].reshape(1, -1))\\n            instance_features.extend(proba.flatten())  # Estender a lista com todas as probabilidades\\n        meta_features.append(instance_features)\\n    \\n    meta_features = np.array(meta_features)\\n    np.savetxt(\"meta-features-train.csv\", meta_features, delimiter=\",\")\\n    \\n    # Treinar o meta-classificador\\n    meta_classifier = select_model(meta_option, random_state)\\n    meta_classifier.fit(meta_features, y_train)\\n    \\n    return trained_models, meta_classifier'"
      ]
     },
     "execution_count": 342,
     "metadata": {},
     "output_type": "execute_result"
    }
   ],
   "source": [
    "\"\"\"def train_with_meta_classifier(X_train, y_train, base_option='random_forest', meta_option='1nn', random_state=42):\n",
    "    trained_models = {}  # Salvar modelos treinados para cada transformação\n",
    "    \n",
    "    X_train_transformed = transform_data(X_train)  # Transformar todo o conjunto de treino\n",
    "\n",
    "    # Treinar um modelo para cada transformação e salvar no dicionário\n",
    "    for rep, X_trans in tqdm(X_train_transformed.items(), ascii=True, desc=\"Training Base Models\"):\n",
    "        model = select_model(base_option, random_state)\n",
    "        model.fit(X_trans, y_train)\n",
    "        trained_models[rep] = model\n",
    "        \n",
    "    # Preparar dados para o meta-classificador\n",
    "    meta_features = []\n",
    "    for i in range(X_train.shape[0]):\n",
    "        instance_features = []\n",
    "        for rep, model in trained_models.items():\n",
    "            proba = model.predict_proba(X_train_transformed[rep][i].reshape(1, -1))\n",
    "            instance_features.extend(proba.flatten())  # Estender a lista com todas as probabilidades\n",
    "        meta_features.append(instance_features)\n",
    "    \n",
    "    meta_features = np.array(meta_features)\n",
    "    np.savetxt(\"meta-features-train.csv\", meta_features, delimiter=\",\")\n",
    "    \n",
    "    # Treinar o meta-classificador\n",
    "    meta_classifier = select_model(meta_option, random_state)\n",
    "    meta_classifier.fit(meta_features, y_train)\n",
    "    \n",
    "    return trained_models, meta_classifier\"\"\""
   ]
  },
  {
   "cell_type": "code",
   "execution_count": 343,
   "metadata": {},
   "outputs": [
    {
     "data": {
      "text/plain": [
       "'from sklearn.model_selection import LeaveOneOut\\n\\ndef train_with_meta_classifier(X_train, y_train, base_option=\\'random_forest\\', meta_option=\\'1nn\\', random_state=42):\\n    trained_models = {}  # Salvar modelos treinados para cada transformação\\n    \\n    X_train_transformed = transform_data(X_train)  # Transformar todo o conjunto de treino\\n    \\n    loo = LeaveOneOut()\\n    \\n    # Treinar um modelo para cada transformação e salvar no dicionário\\n    for rep, X_trans in tqdm(X_train_transformed.items(), ascii=True, desc=\"Training Base Models\"):\\n        model = select_model(base_option, random_state)\\n        scores = []\\n        for train_index, _ in loo.split(X_trans):\\n            model.fit(X_trans[train_index], y_train[train_index])\\n            score = model.score(X_trans[train_index], y_train[train_index])  # Score do modelo nos dados de treino\\n            scores.append(score)\\n        avg_score = np.mean(scores)\\n        trained_models[rep] = (model, avg_score)  # Salvar o modelo treinado e a média dos scores\\n        \\n    # Preparar dados para o meta-classificador\\n    meta_features = []\\n    for i in range(X_train.shape[0]):\\n        instance_features = []\\n        for rep, (model, _) in trained_models.items():\\n            proba = model.predict_proba(X_train_transformed[rep][i].reshape(1, -1))\\n            instance_features.extend(proba.flatten())  # Estender a lista com todas as probabilidades\\n        meta_features.append(instance_features)\\n    \\n    meta_features = np.array(meta_features)\\n    np.savetxt(\"meta-features-train.csv\", meta_features, delimiter=\",\")\\n    \\n    # Treinar o meta-classificador\\n    meta_classifier = select_model(meta_option, random_state)\\n    meta_classifier.fit(meta_features, y_train)\\n    \\n    return trained_models, meta_classifier\\n'"
      ]
     },
     "execution_count": 343,
     "metadata": {},
     "output_type": "execute_result"
    }
   ],
   "source": [
    "\"\"\"from sklearn.model_selection import LeaveOneOut\n",
    "\n",
    "def train_with_meta_classifier(X_train, y_train, base_option='random_forest', meta_option='1nn', random_state=42):\n",
    "    trained_models = {}  # Salvar modelos treinados para cada transformação\n",
    "    \n",
    "    X_train_transformed = transform_data(X_train)  # Transformar todo o conjunto de treino\n",
    "    \n",
    "    loo = LeaveOneOut()\n",
    "    \n",
    "    # Treinar um modelo para cada transformação e salvar no dicionário\n",
    "    for rep, X_trans in tqdm(X_train_transformed.items(), ascii=True, desc=\"Training Base Models\"):\n",
    "        model = select_model(base_option, random_state)\n",
    "        scores = []\n",
    "        for train_index, _ in loo.split(X_trans):\n",
    "            model.fit(X_trans[train_index], y_train[train_index])\n",
    "            score = model.score(X_trans[train_index], y_train[train_index])  # Score do modelo nos dados de treino\n",
    "            scores.append(score)\n",
    "        avg_score = np.mean(scores)\n",
    "        trained_models[rep] = (model, avg_score)  # Salvar o modelo treinado e a média dos scores\n",
    "        \n",
    "    # Preparar dados para o meta-classificador\n",
    "    meta_features = []\n",
    "    for i in range(X_train.shape[0]):\n",
    "        instance_features = []\n",
    "        for rep, (model, _) in trained_models.items():\n",
    "            proba = model.predict_proba(X_train_transformed[rep][i].reshape(1, -1))\n",
    "            instance_features.extend(proba.flatten())  # Estender a lista com todas as probabilidades\n",
    "        meta_features.append(instance_features)\n",
    "    \n",
    "    meta_features = np.array(meta_features)\n",
    "    np.savetxt(\"meta-features-train.csv\", meta_features, delimiter=\",\")\n",
    "    \n",
    "    # Treinar o meta-classificador\n",
    "    meta_classifier = select_model(meta_option, random_state)\n",
    "    meta_classifier.fit(meta_features, y_train)\n",
    "    \n",
    "    return trained_models, meta_classifier\n",
    "\"\"\""
   ]
  },
  {
   "cell_type": "code",
   "execution_count": 344,
   "metadata": {},
   "outputs": [],
   "source": [
    "def train_with_meta_classifier(X_train, y_train, base_option='svm', meta_option='rf', random_state=42):\n",
    "    trained_models = {}  # Salvar modelos treinados para cada transformação\n",
    "    \n",
    "    X_train_transformed = transform_data(X_train)  # Transformar todo o conjunto de treino\n",
    "    \n",
    "    loo = LeaveOneOut()\n",
    "    \n",
    "    # Treinar um modelo para cada transformação e salvar no dicionário\n",
    "    for rep, X_trans in tqdm(X_train_transformed.items(), ascii=True, desc=\"Training Base Models\"):\n",
    "        if base_option == 'SVM':\n",
    "            base_model = SVC(probability=True, random_state=random_state)  # Configuração do SVM com probabilidade ativada\n",
    "            model = CalibratedClassifierCV(base_estimator=base_model, method='sigmoid', cv='prefit')  # Calibração do SVM\n",
    "        else:\n",
    "            model = select_model(base_option, random_state)\n",
    "            \n",
    "        scores = []\n",
    "        for train_index, _ in loo.split(X_trans):\n",
    "            model.fit(X_trans[train_index], y_train[train_index])\n",
    "            score = model.score(X_trans[train_index], y_train[train_index])  # Score do modelo nos dados de treino\n",
    "            scores.append(score)\n",
    "        avg_score = np.mean(scores)\n",
    "        trained_models[rep] = (model, avg_score)  # Salvar o modelo treinado e a média dos scores\n",
    "        \n",
    "    # Preparar dados para o meta-classificador\n",
    "    meta_features = []\n",
    "    for i in range(X_train.shape[0]):\n",
    "        instance_features = []\n",
    "        for rep, (model, _) in trained_models.items():\n",
    "            proba = model.predict_proba(X_train_transformed[rep][i].reshape(1, -1))\n",
    "            instance_features.extend(proba.flatten())  # Estender a lista com todas as probabilidades\n",
    "        meta_features.append(instance_features)\n",
    "    \n",
    "    meta_features = np.array(meta_features)\n",
    "    np.savetxt(\"meta-features-train.csv\", meta_features, delimiter=\",\")\n",
    "    \n",
    "    # Treinar o meta-classificador\n",
    "    meta_classifier = select_model(meta_option, random_state)\n",
    "    meta_classifier.fit(meta_features, y_train)\n",
    "    \n",
    "    return trained_models, meta_classifier\n"
   ]
  },
  {
   "cell_type": "markdown",
   "metadata": {},
   "source": [
    "### Predicao do meta-classificador"
   ]
  },
  {
   "cell_type": "code",
   "execution_count": 345,
   "metadata": {},
   "outputs": [
    {
     "data": {
      "text/plain": [
       "'def predict_with_meta_classifier(X_test, trained_base_models, trained_meta_classifier):\\n    predictions = []\\n    meta_features_test = []  # Inicialize uma lista para armazenar todos os meta-recursos dos dados de teste\\n    \\n    for i in tqdm(range(len(X_test)), ascii=True, desc=\"Testing Instances\"):\\n        x_instance = X_test[i].reshape(1, -1)\\n        x_transformed = transform_data(x_instance)\\n        \\n        instance_features = []\\n        for rep, model in trained_base_models.items():\\n            proba = model.predict_proba(x_transformed[rep][0].reshape(1, -1))  # Ajuste aqui para pegar o primeiro elemento\\n            instance_features.extend(proba.flatten())  # Estender a lista com todas as probabilidades\\n        \\n        meta_feature = np.array(instance_features).reshape(1, -1)\\n        predictions.append(trained_meta_classifier.predict(meta_feature)[0])  # Adicionar a previsão à lista de previsões\\n        \\n        meta_features_test.append(meta_feature.flatten())  # Adicionar meta-recursos da instância atual à lista\\n    \\n    # Converter a lista de meta-recursos dos dados de teste em um array numpy\\n    meta_features_test = np.array(meta_features_test)\\n\\n    # Salvar todos os meta-recursos dos dados de teste em um arquivo CSV\\n    np.savetxt(\"meta-features-test.csv\", meta_features_test, delimiter=\",\")\\n    \\n    return predictions'"
      ]
     },
     "execution_count": 345,
     "metadata": {},
     "output_type": "execute_result"
    }
   ],
   "source": [
    "\"\"\"def predict_with_meta_classifier(X_test, trained_base_models, trained_meta_classifier):\n",
    "    predictions = []\n",
    "    meta_features_test = []  # Inicialize uma lista para armazenar todos os meta-recursos dos dados de teste\n",
    "    \n",
    "    for i in tqdm(range(len(X_test)), ascii=True, desc=\"Testing Instances\"):\n",
    "        x_instance = X_test[i].reshape(1, -1)\n",
    "        x_transformed = transform_data(x_instance)\n",
    "        \n",
    "        instance_features = []\n",
    "        for rep, model in trained_base_models.items():\n",
    "            proba = model.predict_proba(x_transformed[rep][0].reshape(1, -1))  # Ajuste aqui para pegar o primeiro elemento\n",
    "            instance_features.extend(proba.flatten())  # Estender a lista com todas as probabilidades\n",
    "        \n",
    "        meta_feature = np.array(instance_features).reshape(1, -1)\n",
    "        predictions.append(trained_meta_classifier.predict(meta_feature)[0])  # Adicionar a previsão à lista de previsões\n",
    "        \n",
    "        meta_features_test.append(meta_feature.flatten())  # Adicionar meta-recursos da instância atual à lista\n",
    "    \n",
    "    # Converter a lista de meta-recursos dos dados de teste em um array numpy\n",
    "    meta_features_test = np.array(meta_features_test)\n",
    "\n",
    "    # Salvar todos os meta-recursos dos dados de teste em um arquivo CSV\n",
    "    np.savetxt(\"meta-features-test.csv\", meta_features_test, delimiter=\",\")\n",
    "    \n",
    "    return predictions\"\"\"\n"
   ]
  },
  {
   "cell_type": "code",
   "execution_count": 346,
   "metadata": {},
   "outputs": [],
   "source": [
    "def predict_with_meta_classifier(X_test, trained_base_models, trained_meta_classifier):\n",
    "    predictions = []\n",
    "    meta_features_test = []  # Inicialize uma lista para armazenar todos os meta-recursos dos dados de teste\n",
    "    \n",
    "    for i in tqdm(range(len(X_test)), ascii=True, desc=\"Testing Instances\"):\n",
    "        x_instance = X_test[i].reshape(1, -1)\n",
    "        x_transformed = transform_data(x_instance)\n",
    "        \n",
    "        instance_features = []\n",
    "        for rep, (model, _) in trained_base_models.items():  # Ajuste para percorrer os modelos treinados e os scores médios\n",
    "            proba = model.predict_proba(x_transformed[rep][0].reshape(1, -1))  # Ajuste aqui para pegar o primeiro elemento\n",
    "            instance_features.extend(proba.flatten())  # Estender a lista com todas as probabilidades\n",
    "        \n",
    "        meta_feature = np.array(instance_features).reshape(1, -1)\n",
    "        predictions.append(trained_meta_classifier.predict(meta_feature)[0])  # Adicionar a previsão à lista de previsões\n",
    "        \n",
    "        meta_features_test.append(meta_feature.flatten())  # Adicionar meta-recursos da instância atual à lista\n",
    "    \n",
    "    # Converter a lista de meta-recursos dos dados de teste em um array numpy\n",
    "    meta_features_test = np.array(meta_features_test)\n",
    "\n",
    "    # Salvar todos os meta-recursos dos dados de teste em um arquivo CSV\n",
    "    np.savetxt(\"meta-features-test.csv\", meta_features_test, delimiter=\",\")\n",
    "    \n",
    "    return predictions\n"
   ]
  },
  {
   "cell_type": "markdown",
   "metadata": {},
   "source": [
    "### Testando um único modelo - Random Forest como extrator e SVM como meta-classificador"
   ]
  },
  {
   "cell_type": "code",
   "execution_count": 347,
   "metadata": {},
   "outputs": [
    {
     "name": "stderr",
     "output_type": "stream",
     "text": [
      "Training Base Models:   0%|          | 0/5 [00:00<?, ?it/s]"
     ]
    },
    {
     "name": "stderr",
     "output_type": "stream",
     "text": [
      "Training Base Models: 100%|##########| 5/5 [05:21<00:00, 64.32s/it]\n",
      "Testing Instances: 100%|##########| 391/391 [00:01<00:00, 347.80it/s]"
     ]
    },
    {
     "name": "stdout",
     "output_type": "stream",
     "text": [
      "Accuracy: 0.8286445012787724\n"
     ]
    },
    {
     "name": "stderr",
     "output_type": "stream",
     "text": [
      "\n"
     ]
    }
   ],
   "source": [
    "# Treino\n",
    "trained_base_models, meta_classifier = train_with_meta_classifier(X_train, y_train, base_option='svm', meta_option='svm', random_state=42)\n",
    "\n",
    "# Teste\n",
    "predictions_test_meta = predict_with_meta_classifier(X_test, trained_base_models, meta_classifier)\n",
    "\n",
    "# Resultado\n",
    "test_accuracy_meta = np.mean(predictions_test_meta == y_test)\n",
    "\n",
    "print(f'Accuracy: {test_accuracy_meta}')"
   ]
  },
  {
   "cell_type": "code",
   "execution_count": 348,
   "metadata": {},
   "outputs": [
    {
     "name": "stderr",
     "output_type": "stream",
     "text": [
      "Training Base Models: 100%|##########| 5/5 [05:21<00:00, 64.35s/it]\n",
      "Testing Instances: 100%|##########| 391/391 [02:19<00:00,  2.81it/s]"
     ]
    },
    {
     "name": "stdout",
     "output_type": "stream",
     "text": [
      "Accuracy: 0.8158567774936062\n"
     ]
    },
    {
     "name": "stderr",
     "output_type": "stream",
     "text": [
      "\n"
     ]
    }
   ],
   "source": [
    "# Treino\n",
    "trained_base_models, meta_classifier = train_with_meta_classifier(X_train, y_train, base_option='svm', meta_option='ee', random_state=42)\n",
    "\n",
    "# Teste\n",
    "predictions_test_meta = predict_with_meta_classifier(X_test, trained_base_models, meta_classifier)\n",
    "\n",
    "# Resultado\n",
    "test_accuracy_meta = np.mean(predictions_test_meta == y_test)\n",
    "\n",
    "print(f'Accuracy: {test_accuracy_meta}')"
   ]
  },
  {
   "cell_type": "code",
   "execution_count": 349,
   "metadata": {},
   "outputs": [
    {
     "name": "stderr",
     "output_type": "stream",
     "text": [
      "Training Base Models: 100%|##########| 5/5 [05:40<00:00, 68.17s/it]\n",
      "Testing Instances: 100%|##########| 391/391 [01:31<00:00,  4.28it/s]"
     ]
    },
    {
     "name": "stdout",
     "output_type": "stream",
     "text": [
      "Accuracy: 0.7953964194373402\n"
     ]
    },
    {
     "name": "stderr",
     "output_type": "stream",
     "text": [
      "\n"
     ]
    }
   ],
   "source": [
    "# Treino\n",
    "trained_base_models, meta_classifier = train_with_meta_classifier(X_train, y_train, base_option='svm', meta_option='shape', random_state=42)\n",
    "\n",
    "# Teste\n",
    "predictions_test_meta = predict_with_meta_classifier(X_test, trained_base_models, meta_classifier)\n",
    "\n",
    "# Resultado\n",
    "test_accuracy_meta = np.mean(predictions_test_meta == y_test)\n",
    "\n",
    "print(f'Accuracy: {test_accuracy_meta}')"
   ]
  },
  {
   "cell_type": "markdown",
   "metadata": {},
   "source": [
    "### Testando um único modelo - SVM como extrator e meta-classificador"
   ]
  },
  {
   "cell_type": "code",
   "execution_count": 350,
   "metadata": {},
   "outputs": [
    {
     "name": "stderr",
     "output_type": "stream",
     "text": [
      "Training Base Models: 100%|##########| 5/5 [03:38<00:00, 43.78s/it]\n",
      "Testing Instances: 100%|##########| 391/391 [00:01<00:00, 231.65it/s]"
     ]
    },
    {
     "name": "stdout",
     "output_type": "stream",
     "text": [
      "Accuracy: 0.6163682864450127\n"
     ]
    },
    {
     "name": "stderr",
     "output_type": "stream",
     "text": [
      "\n"
     ]
    }
   ],
   "source": [
    "# Treino\n",
    "trained_base_models, meta_classifier = train_with_meta_classifier(X_train, y_train, base_option='1nn', meta_option='1nn', random_state=42)\n",
    "\n",
    "# Teste\n",
    "predictions_test_meta = predict_with_meta_classifier(X_test, trained_base_models, meta_classifier)\n",
    "\n",
    "# Resultado\n",
    "test_accuracy_meta = np.mean(predictions_test_meta == y_test)\n",
    "print(f'Accuracy: {test_accuracy_meta}')"
   ]
  },
  {
   "cell_type": "code",
   "execution_count": 351,
   "metadata": {},
   "outputs": [
    {
     "name": "stdout",
     "output_type": "stream",
     "text": [
      "accuracy: 0.6163682864450127\n"
     ]
    }
   ],
   "source": [
    "#Teste utilizando o classificador SVM\n",
    "meta_attrib_train = np.loadtxt(\"meta-features-train.csv\", delimiter=\",\")\n",
    "meta_attrib_test = np.loadtxt(\"meta-features-test.csv\", delimiter=\",\")\n",
    "\n",
    "clf = SVC(probability=True)\n",
    "clf.fit(meta_attrib_train, y_train)\n",
    "y_hat = clf.predict(meta_attrib_test)\n",
    "test_accuracy_meta = np.mean(y_hat == y_test)\n",
    "print(f\"accuracy: {test_accuracy_meta}\")"
   ]
  },
  {
   "cell_type": "code",
   "execution_count": 352,
   "metadata": {},
   "outputs": [
    {
     "name": "stdout",
     "output_type": "stream",
     "text": [
      "accuracy: 0.08695652173913043\n"
     ]
    }
   ],
   "source": [
    "clf_2 = SVC(probability=True)\n",
    "clf_2.fit(X_train, y_train)\n",
    "y_hat_ = clf_2.predict(X_test)\n",
    "test_accuracy_meta_2 = np.mean(y_hat_ == y_test)\n",
    "print(f\"accuracy: {test_accuracy_meta_2}\")"
   ]
  },
  {
   "cell_type": "markdown",
   "metadata": {},
   "source": [
    "### Gráfico das diferenças de dados"
   ]
  },
  {
   "cell_type": "code",
   "execution_count": 353,
   "metadata": {},
   "outputs": [
    {
     "data": {
      "image/png": "[encoded data removed]",
      "text/plain": [
       "<Figure size 1500x500 with 2 Axes>"
      ]
     },
     "metadata": {},
     "output_type": "display_data"
    }
   ],
   "source": [
    "import matplotlib.pyplot as plt\n",
    "\n",
    "y1 = y_hat  # depois da transformação\n",
    "y2 = y_test  \n",
    "\n",
    "z1 = y_hat_ #antes da transformação\n",
    "z2 = y_test\n",
    "\n",
    "#suavizar os dados do gráfico\n",
    "window_size = 15\n",
    "y1_smoothed = pd.Series(y1).rolling(window=window_size).mean()\n",
    "y2_smoothed = pd.Series(y2).rolling(window=window_size).mean()\n",
    "z1_smoothed = pd.Series(z1).rolling(window=window_size).mean()\n",
    "z2_smoothed = pd.Series(z2).rolling(window=window_size).mean()\n",
    "\n",
    "fig, axs = plt.subplots(nrows=1, ncols=2, figsize=(15, 5), layout='constrained')\n",
    "\n",
    "# Conjunto de validação do classificador\n",
    "axs[0].set_title('Antes da transformação')\n",
    "axs[0].plot(z1_smoothed, label='Treino')\n",
    "axs[0].plot(z2_smoothed, label='Teste')\n",
    "axs[0].set_xlabel('Tempo (s)')\n",
    "axs[0].set_ylabel('Treino')\n",
    "axs[0].grid(True)\n",
    "\n",
    "# Conjunto de validação do meta-classificador\n",
    "axs[1].set_title('Depois da transformação')\n",
    "axs[1].plot(y1_smoothed, label='Treino')\n",
    "axs[1].plot(y2_smoothed, label='Teste')\n",
    "axs[1].set_xlabel('Tempo (s)')\n",
    "axs[1].set_ylabel('Treino')\n",
    "axs[1].grid(True)\n",
    "\n",
    "plt.legend()\n",
    "plt.show()\n",
    "\n"
   ]
  },
  {
   "cell_type": "code",
   "execution_count": 354,
   "metadata": {},
   "outputs": [
    {
     "data": {
      "image/png": "[encoded data removed]",
      "text/plain": [
       "<Figure size 1000x600 with 1 Axes>"
      ]
     },
     "metadata": {},
     "output_type": "display_data"
    }
   ],
   "source": [
    "w1 = y_hat  # meta-classificador\n",
    "w2 = y_hat_ #classificação\n",
    "\n",
    "# Suavizar os dados do gráfico\n",
    "window_size = 15\n",
    "w1_smoothed = pd.Series(w1).rolling(window=window_size).mean()\n",
    "w2_smoothed = pd.Series(w2).rolling(window=window_size).mean()\n",
    "\n",
    "# Plotar os dados\n",
    "plt.figure(figsize=(10, 6))\n",
    "plt.plot(w1_smoothed, label='w1 (Classificação usando meta-caracteristicas)')\n",
    "plt.plot(w2_smoothed, label='w2 (classificação utilizando dados brutos)')\n",
    "plt.xlabel('Tempo (s)')\n",
    "plt.ylabel('Valores suavizados')\n",
    "plt.title('Comparação entre os resultados de um SVM')\n",
    "plt.legend()\n",
    "plt.grid(True)\n",
    "plt.show()\n"
   ]
  },
  {
   "cell_type": "markdown",
   "metadata": {},
   "source": [
    "### Treino em loop de todas as opções de classificadores disponiveis no Select Model."
   ]
  },
  {
   "cell_type": "code",
   "execution_count": null,
   "metadata": {},
   "outputs": [],
   "source": [
    "algos = ['1nn', '3nn', 'svm', 'nb', 'gbc', 'ee', 'shape', 'rf', 'rd']\n",
    "for algo in algos:\n",
    "    \n",
    "    print(f'Meta-classificador com modelo extrator {algo.upper()}')\n",
    "    \n",
    "    # Training\n",
    "    try:\n",
    "        trained_base_models, meta_classifier = train_with_meta_classifier(X_train, y_train, base_option='svm', meta_option=algo)\n",
    "        # Testing\n",
    "        predictions_test_meta = predict_with_meta_classifier(X_test, trained_base_models, meta_classifier)\n",
    "    \n",
    "        test_accuracy_meta = np.mean(predictions_test_meta == y_test)\n",
    "        print(f'Acurácia do teste usando o meta-classificador com modelo extrator {algo}: {test_accuracy_meta}')\n",
    "    except Exception as e:\n",
    "        print(f\"Ocorreu um erro no teste com o {algo}: {e}\")\n",
    "    print(\"-------------------------------\")"
   ]
  }
 ],
 "metadata": {
  "kernelspec": {
   "display_name": "AM",
   "language": "python",
   "name": "python3"
  },
  "language_info": {
   "codemirror_mode": {
    "name": "ipython",
    "version": 3
   },
   "file_extension": ".py",
   "mimetype": "text/x-python",
   "name": "python",
   "nbconvert_exporter": "python",
   "pygments_lexer": "ipython3",
   "version": "3.11.7"
  }
 },
 "nbformat": 4,
 "nbformat_minor": 2
}
