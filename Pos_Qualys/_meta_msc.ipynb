{
 "cells": [
  {
   "cell_type": "code",
   "execution_count": 8,
   "metadata": {},
   "outputs": [],
   "source": [
    "import aeon\n",
    "import pandas as pd\n",
    "import numpy as np\n",
    "from scipy.fftpack import fft\n",
    "from scipy.stats import norm\n",
    "import pywt\n",
    "from sklearn.ensemble import RandomForestClassifier, GradientBoostingClassifier\n",
    "import xgboost as xgb\n",
    "from tqdm import tqdm\n",
    "from sklearn.utils import all_estimators\n",
    "import aeon\n",
    "\n",
    "import warnings\n",
    "import xgboost\n",
    "\n",
    "# import catboost\n",
    "import lightgbm\n",
    "\n",
    "warnings.filterwarnings(\"ignore\")\n",
    "pd.set_option(\"display.precision\", 2)\n",
    "pd.set_option(\"display.float_format\", lambda x: \"%.2f\" % x)\n",
    "\n",
    "def sax_transform(series, w, a):\n",
    "    paa = [series[i:i + w].mean() for i in range(0, len(series), w)]\n",
    "    \n",
    "    # Check if the standard deviation is zero\n",
    "    if np.std(paa) != 0:\n",
    "        paa = (paa - np.mean(paa)) / np.std(paa)\n",
    "    else:\n",
    "        # If standard deviation is zero, just subtract the mean\n",
    "        paa = paa - np.mean(paa)\n",
    "    \n",
    "    breakpoints = norm.ppf(np.linspace(0, 1, a+1)[1:-1])\n",
    "    sax_symbols = np.array(range(a))\n",
    "    sax_representation = sax_symbols[np.digitize(paa, breakpoints)]\n",
    "    \n",
    "    return sax_representation\n",
    "\n",
    "# The function has been adjusted to avoid the division by zero warning.\n",
    "\n",
    "def transform_data(X):\n",
    "    a = 4\n",
    "    w = 9\n",
    "    \n",
    "\n",
    "    X_sax = np.array([sax_transform(row, w, a) for row in X])\n",
    "    X_fft = np.abs(fft(X, axis=1))\n",
    "    \n",
    "    coeffs_cA, coeffs_cD = pywt.dwt(X, 'db1', axis=1)\n",
    "    X_dwt = np.hstack((coeffs_cA, coeffs_cD))\n",
    "    \n",
    "    X_paa = np.column_stack([X[:, i:i+2].mean(axis=1) for i in range(0, X.shape[1], 2)])\n",
    "\n",
    "    return {\n",
    "        \"TS\": X,\n",
    "        \"FFT\": X_fft,\n",
    "        \"DWT\": X_dwt,\n",
    "        \"PAA\": X_paa,\n",
    "        \"SAX\": X_sax\n",
    "    }\n",
    "\n",
    "def select_model(option, random_state=42):\n",
    "    all_est = all_estimators(type_filter='classifier')  # Filtra apenas os classificadores\n",
    "\n",
    "    for name, ClassifierClass in all_est:\n",
    "        if option.lower() in name.lower():\n",
    "            if option.lower() == 'svm':\n",
    "                return ClassifierClass(probability=True)\n",
    "            elif option.lower() == 'gbc':\n",
    "                return ClassifierClass(n_estimators=100, random_state=random_state)\n",
    "            elif option.lower() == 'xgb':\n",
    "                return ClassifierClass(random_state=random_state)\n",
    "            else:\n",
    "                return ClassifierClass()\n",
    "\n",
    "    # Se nenhum correspondente for encontrado, retorne o RandomForestClassifier como padrão\n",
    "    return RandomForestClassifier(n_estimators=100, random_state=random_state)\n",
    "\n",
    "def train_with_meta_classifier(X_train, y_train, base_option='random_forest', meta_option='1nn'):\n",
    "    trained_models = {}  # To store trained models for each transformation\n",
    "    \n",
    "    X_train_transformed = transform_data(X_train)  # Transform the entire training set once\n",
    "\n",
    "    # Train a model for each transformation and store it\n",
    "    for rep, X_trans in tqdm(X_train_transformed.items(), desc=\"Training Base Models\"):\n",
    "        model = select_model(base_option)\n",
    "        model.fit(X_trans, y_train)\n",
    "        trained_models[rep] = model\n",
    "        \n",
    "    # Prepare data for the meta-classifier\n",
    "    meta_features = []\n",
    "    for i in range(X_train.shape[0]):\n",
    "        instance_features = []\n",
    "        for rep, model in trained_models.items():\n",
    "            proba = model.predict_proba(X_train_transformed[rep][i].reshape(1, -1))\n",
    "            instance_features.extend(proba[0])\n",
    "        meta_features.append(instance_features)\n",
    "    \n",
    "    meta_features = np.array(meta_features)\n",
    "    \n",
    "    # Train the meta-classifier\n",
    "    meta_classifier = select_model(meta_option)\n",
    "    meta_classifier.fit(meta_features, y_train)\n",
    "    \n",
    "    return trained_models, meta_classifier\n",
    "\n",
    "def predict_with_meta_classifier(X_test, trained_base_models, trained_meta_classifier):\n",
    "    predictions = []\n",
    "    \n",
    "    for i in tqdm(range(len(X_test)), desc=\"Testing Instances\"):\n",
    "        x_instance = X_test[i].reshape(1, -1)\n",
    "        x_transformed = transform_data(x_instance)\n",
    "        \n",
    "        instance_features = []\n",
    "        for rep, model in trained_base_models.items():\n",
    "            proba = model.predict_proba(x_transformed[rep])\n",
    "            instance_features.extend(proba[0])\n",
    "        \n",
    "        meta_feature = np.array(instance_features).reshape(1, -1)\n",
    "        \n",
    "        # Use the meta-classifier to predict\n",
    "        predicted_value = trained_meta_classifier.predict(meta_feature)[0]\n",
    "        predictions.append(predicted_value)\n",
    "    \n",
    "    return predictions\n",
    "\n"
   ]
  },
  {
   "cell_type": "code",
   "execution_count": 15,
   "metadata": {},
   "outputs": [],
   "source": [
    "try:\n",
    "    train_data = pd.read_csv('/_MESTRADO/_Meta_Learning/MSC/CSV_Dissertação/BME_TRAIN.csv')\n",
    "    test_data = pd.read_csv('/_MESTRADO/_Meta_Learning/MSC/CSV_Dissertação/BME_TEST.csv')\n",
    "except FileNotFoundError:\n",
    "    print(\"Ensure the CSV files are in the correct path.\")\n",
    "    raise\n",
    "\n",
    "X_train = train_data.drop('target', axis=1).values\n",
    "y_train = train_data['target'].values\n",
    "\n",
    "X_test = test_data.drop('target', axis=1).values\n",
    "y_test = test_data['target'].values"
   ]
  },
  {
   "cell_type": "code",
   "execution_count": 20,
   "metadata": {},
   "outputs": [
    {
     "name": "stdout",
     "output_type": "stream",
     "text": [
      "Meta-Classifier with Base Model ADABOOSTCLASSIFIER\n"
     ]
    },
    {
     "name": "stderr",
     "output_type": "stream",
     "text": [
      "Training Base Models: 100%|██████████| 5/5 [00:01<00:00,  4.87it/s]\n",
      "Testing Instances: 100%|██████████| 150/150 [00:08<00:00, 17.92it/s]\n"
     ]
    },
    {
     "name": "stdout",
     "output_type": "stream",
     "text": [
      "Test Accuracy for Meta-Classifier with Base Model AdaBoostClassifier: 0.9866666666666667\n",
      "-------------------------------\n",
      "Meta-Classifier with Base Model BAGGINGCLASSIFIER\n"
     ]
    },
    {
     "name": "stderr",
     "output_type": "stream",
     "text": [
      "Training Base Models: 100%|██████████| 5/5 [00:00<00:00,  8.80it/s]\n",
      "Testing Instances: 100%|██████████| 150/150 [00:01<00:00, 77.20it/s]\n"
     ]
    },
    {
     "name": "stdout",
     "output_type": "stream",
     "text": [
      "Test Accuracy for Meta-Classifier with Base Model BaggingClassifier: 1.0\n",
      "-------------------------------\n",
      "Meta-Classifier with Base Model BERNOULLINB\n"
     ]
    },
    {
     "name": "stderr",
     "output_type": "stream",
     "text": [
      "Training Base Models: 100%|██████████| 5/5 [00:00<00:00, 11.12it/s]\n",
      "Testing Instances: 100%|██████████| 150/150 [00:00<00:00, 240.90it/s]\n"
     ]
    },
    {
     "name": "stdout",
     "output_type": "stream",
     "text": [
      "Test Accuracy for Meta-Classifier with Base Model BernoulliNB: 0.3333333333333333\n",
      "-------------------------------\n",
      "Meta-Classifier with Base Model CALIBRATEDCLASSIFIERCV\n"
     ]
    },
    {
     "name": "stderr",
     "output_type": "stream",
     "text": [
      "Training Base Models: 100%|██████████| 5/5 [00:00<00:00,  6.86it/s]\n",
      "Testing Instances: 100%|██████████| 150/150 [00:02<00:00, 61.47it/s]\n"
     ]
    },
    {
     "name": "stdout",
     "output_type": "stream",
     "text": [
      "Test Accuracy for Meta-Classifier with Base Model CalibratedClassifierCV: 0.92\n",
      "-------------------------------\n",
      "Meta-Classifier with Base Model DECISIONTREECLASSIFIER\n"
     ]
    },
    {
     "name": "stderr",
     "output_type": "stream",
     "text": [
      "Training Base Models: 100%|██████████| 5/5 [00:00<00:00, 11.79it/s]\n",
      "Testing Instances: 100%|██████████| 150/150 [00:00<00:00, 363.97it/s]\n"
     ]
    },
    {
     "name": "stdout",
     "output_type": "stream",
     "text": [
      "Test Accuracy for Meta-Classifier with Base Model DecisionTreeClassifier: 0.6066666666666667\n",
      "-------------------------------\n",
      "Meta-Classifier with Base Model DUMMYCLASSIFIER\n"
     ]
    },
    {
     "name": "stderr",
     "output_type": "stream",
     "text": [
      "Training Base Models: 100%|██████████| 5/5 [00:00<00:00, 11.93it/s]\n",
      "Testing Instances: 100%|██████████| 150/150 [00:00<00:00, 476.08it/s]\n"
     ]
    },
    {
     "name": "stdout",
     "output_type": "stream",
     "text": [
      "Test Accuracy for Meta-Classifier with Base Model DummyClassifier: 0.3333333333333333\n",
      "-------------------------------\n",
      "Meta-Classifier with Base Model EXTRATREECLASSIFIER\n"
     ]
    },
    {
     "name": "stderr",
     "output_type": "stream",
     "text": [
      "Training Base Models: 100%|██████████| 5/5 [00:00<00:00, 11.96it/s]\n",
      "Testing Instances: 100%|██████████| 150/150 [00:00<00:00, 361.36it/s]\n"
     ]
    },
    {
     "name": "stdout",
     "output_type": "stream",
     "text": [
      "Test Accuracy for Meta-Classifier with Base Model ExtraTreeClassifier: 0.5866666666666667\n",
      "-------------------------------\n",
      "Meta-Classifier with Base Model EXTRATREESCLASSIFIER\n"
     ]
    },
    {
     "name": "stderr",
     "output_type": "stream",
     "text": [
      "Training Base Models: 100%|██████████| 5/5 [00:00<00:00,  5.22it/s]\n",
      "Testing Instances: 100%|██████████| 150/150 [00:11<00:00, 13.54it/s]\n"
     ]
    },
    {
     "name": "stdout",
     "output_type": "stream",
     "text": [
      "Test Accuracy for Meta-Classifier with Base Model ExtraTreesClassifier: 0.9933333333333333\n",
      "-------------------------------\n",
      "Meta-Classifier with Base Model GAUSSIANNB\n"
     ]
    },
    {
     "name": "stderr",
     "output_type": "stream",
     "text": [
      "Training Base Models: 100%|██████████| 5/5 [00:00<00:00, 11.79it/s]\n",
      "Testing Instances: 100%|██████████| 150/150 [00:00<00:00, 300.53it/s]\n"
     ]
    },
    {
     "name": "stdout",
     "output_type": "stream",
     "text": [
      "Test Accuracy for Meta-Classifier with Base Model GaussianNB: 0.9666666666666667\n",
      "-------------------------------\n",
      "Meta-Classifier with Base Model GRADIENTBOOSTINGCLASSIFIER\n"
     ]
    },
    {
     "name": "stderr",
     "output_type": "stream",
     "text": [
      "Training Base Models: 100%|██████████| 5/5 [00:03<00:00,  1.55it/s]\n",
      "Testing Instances: 100%|██████████| 150/150 [00:00<00:00, 192.51it/s]\n"
     ]
    },
    {
     "name": "stdout",
     "output_type": "stream",
     "text": [
      "Test Accuracy for Meta-Classifier with Base Model GradientBoostingClassifier: 0.9933333333333333\n",
      "-------------------------------\n",
      "Meta-Classifier with Base Model KNEIGHBORSCLASSIFIER\n"
     ]
    },
    {
     "name": "stderr",
     "output_type": "stream",
     "text": [
      "Training Base Models: 100%|██████████| 5/5 [00:00<00:00, 12.10it/s]\n",
      "Testing Instances: 100%|██████████| 150/150 [00:14<00:00, 10.26it/s]\n"
     ]
    },
    {
     "name": "stdout",
     "output_type": "stream",
     "text": [
      "Test Accuracy for Meta-Classifier with Base Model KNeighborsClassifier: 0.8666666666666667\n",
      "-------------------------------\n",
      "Meta-Classifier with Base Model LINEARDISCRIMINANTANALYSIS\n"
     ]
    },
    {
     "name": "stderr",
     "output_type": "stream",
     "text": [
      "Training Base Models: 100%|██████████| 5/5 [00:00<00:00, 10.97it/s]\n",
      "Testing Instances: 100%|██████████| 150/150 [00:00<00:00, 350.39it/s]\n"
     ]
    },
    {
     "name": "stdout",
     "output_type": "stream",
     "text": [
      "Test Accuracy for Meta-Classifier with Base Model LinearDiscriminantAnalysis: 0.9333333333333333\n",
      "-------------------------------\n",
      "Meta-Classifier with Base Model LOGISTICREGRESSION\n"
     ]
    },
    {
     "name": "stderr",
     "output_type": "stream",
     "text": [
      "Training Base Models: 100%|██████████| 5/5 [00:00<00:00,  9.69it/s]\n",
      "Testing Instances: 100%|██████████| 150/150 [00:00<00:00, 357.91it/s]\n"
     ]
    },
    {
     "name": "stdout",
     "output_type": "stream",
     "text": [
      "Test Accuracy for Meta-Classifier with Base Model LogisticRegression: 0.8866666666666667\n",
      "-------------------------------\n",
      "Meta-Classifier with Base Model MLPCLASSIFIER\n"
     ]
    },
    {
     "name": "stderr",
     "output_type": "stream",
     "text": [
      "Training Base Models: 100%|██████████| 5/5 [00:01<00:00,  4.54it/s]\n",
      "Testing Instances: 100%|██████████| 150/150 [00:00<00:00, 341.61it/s]\n"
     ]
    },
    {
     "name": "stdout",
     "output_type": "stream",
     "text": [
      "Test Accuracy for Meta-Classifier with Base Model MLPClassifier: 0.8466666666666667\n",
      "-------------------------------\n",
      "Meta-Classifier with Base Model QUADRATICDISCRIMINANTANALYSIS\n"
     ]
    },
    {
     "name": "stderr",
     "output_type": "stream",
     "text": [
      "Training Base Models: 100%|██████████| 5/5 [00:00<00:00, 10.76it/s]\n",
      "Testing Instances: 100%|██████████| 150/150 [00:00<00:00, 311.78it/s]\n"
     ]
    },
    {
     "name": "stdout",
     "output_type": "stream",
     "text": [
      "Test Accuracy for Meta-Classifier with Base Model QuadraticDiscriminantAnalysis: 0.3333333333333333\n",
      "-------------------------------\n",
      "Meta-Classifier with Base Model RANDOMFORESTCLASSIFIER\n"
     ]
    },
    {
     "name": "stderr",
     "output_type": "stream",
     "text": [
      "Training Base Models: 100%|██████████| 5/5 [00:01<00:00,  4.12it/s]\n",
      "Testing Instances: 100%|██████████| 150/150 [00:11<00:00, 13.53it/s]"
     ]
    },
    {
     "name": "stdout",
     "output_type": "stream",
     "text": [
      "Test Accuracy for Meta-Classifier with Base Model RandomForestClassifier: 0.9866666666666667\n",
      "-------------------------------\n",
      "An error occurred while training or testing with VotingClassifier: VotingClassifier.__init__() missing 1 required positional argument: 'estimators'\n",
      "-------------------------------\n"
     ]
    },
    {
     "name": "stderr",
     "output_type": "stream",
     "text": [
      "\n"
     ]
    }
   ],
   "source": [
    "from sklearn.utils import all_estimators\n",
    "from sklearn.base import ClassifierMixin\n",
    "from sklearn.metrics import accuracy_score\n",
    "\n",
    "removed_classifiers = [\n",
    "    \"ClassifierChain\",\n",
    "    \"ComplementNB\",\n",
    "    \"GaussianProcessClassifier\",\n",
    "    \"HistGradientBoostingClassifier\",\n",
    "    \"LogisticRegressionCV\",\n",
    "    \"MultiOutputClassifier\",\n",
    "    \"MultinomialNB\",\n",
    "    \"OneVsOneClassifier\",\n",
    "    \"OneVsRestClassifier\",\n",
    "    \"OutputCodeClassifier\",\n",
    "    \"RadiusNeighborsClassifier\",\n",
    "    \"VotingClassifier\"\n",
    "    \"CategoricalNB\",\n",
    "    \"LinearSVC\",\n",
    "    \"CategoricalNB\",\n",
    "    \"LabelPropagation\",\n",
    "    \"LabelSpreading\",\n",
    "    \"NearestCentroid\",\n",
    "    \"NuSVC\",\n",
    "    \"PassiveAggressiveClassifier\",\n",
    "    \"Perceptron\",\n",
    "    \"RidgeClassifierCV\",\n",
    "    \"RidgeClassifier\",\n",
    "    \"SGDClassifier\",\n",
    "    \"SVC\",\n",
    "    \"StackingClassifier\",\n",
    "    \"VotingClassifier\"\n",
    "    \n",
    "]\n",
    "\n",
    "CLASSIFIERS = [\n",
    "    est\n",
    "    for est in all_estimators()\n",
    "    if (issubclass(est[1], ClassifierMixin) and (est[0] not in removed_classifiers))\n",
    "]\n",
    "\n",
    "# Lists to store results\n",
    "model_names = []\n",
    "test_accuracies = []\n",
    "\n",
    "for name, ClassifierClass in CLASSIFIERS:\n",
    "    try:\n",
    "        algos = ClassifierClass()\n",
    "\n",
    "        print(f'Meta-Classifier with Base Model {name.upper()}')\n",
    "\n",
    "        # Training (update the function arguments based on your implementation)\n",
    "        trained_base_models, meta_classifier = train_with_meta_classifier(X_train, y_train, base_option=name, meta_option=name)\n",
    "\n",
    "        # Testing (update the function arguments based on your implementation)\n",
    "        predictions_test_meta = predict_with_meta_classifier(X_test, trained_base_models, meta_classifier)\n",
    "\n",
    "        test_accuracy_meta = accuracy_score(y_test, predictions_test_meta)\n",
    "        \n",
    "        # Collect results\n",
    "        model_names.append(name)\n",
    "        test_accuracies.append(test_accuracy_meta)\n",
    "\n",
    "        print(f'Test Accuracy for Meta-Classifier with Base Model {name}: {test_accuracy_meta}')\n",
    "    except Exception as e:\n",
    "        print(f\"An error occurred while training or testing with {name}: {e}\")\n",
    "    print(\"-------------------------------\")\n",
    "\n",
    "\n"
   ]
  },
  {
   "cell_type": "code",
   "execution_count": 24,
   "metadata": {},
   "outputs": [
    {
     "name": "stdout",
     "output_type": "stream",
     "text": [
      "Meta-Classifier with Base Model ADABOOSTCLASSIFIER\n"
     ]
    },
    {
     "name": "stderr",
     "output_type": "stream",
     "text": [
      "Training Base Models: 100%|██████████| 5/5 [00:08<00:00,  1.72s/it]\n",
      "Testing Instances: 100%|██████████| 100/100 [00:07<00:00, 14.23it/s]\n"
     ]
    },
    {
     "name": "stdout",
     "output_type": "stream",
     "text": [
      "Test Accuracy for Meta-Classifier with Base Model AdaBoostClassifier: 0.17\n",
      "-------------------------------\n",
      "Meta-Classifier with Base Model BAGGINGCLASSIFIER\n"
     ]
    },
    {
     "name": "stderr",
     "output_type": "stream",
     "text": [
      "Training Base Models: 100%|██████████| 5/5 [00:05<00:00,  1.00s/it]\n",
      "Testing Instances: 100%|██████████| 100/100 [00:02<00:00, 35.82it/s]\n"
     ]
    },
    {
     "name": "stdout",
     "output_type": "stream",
     "text": [
      "Test Accuracy for Meta-Classifier with Base Model BaggingClassifier: 0.72\n",
      "-------------------------------\n",
      "Meta-Classifier with Base Model BERNOULLINB\n"
     ]
    },
    {
     "name": "stderr",
     "output_type": "stream",
     "text": [
      "Training Base Models: 100%|██████████| 5/5 [00:00<00:00,  9.83it/s]\n",
      "Testing Instances: 100%|██████████| 100/100 [00:01<00:00, 51.26it/s]\n"
     ]
    },
    {
     "name": "stdout",
     "output_type": "stream",
     "text": [
      "Test Accuracy for Meta-Classifier with Base Model BernoulliNB: 0.17\n",
      "-------------------------------\n",
      "Meta-Classifier with Base Model CALIBRATEDCLASSIFIERCV\n"
     ]
    },
    {
     "name": "stderr",
     "output_type": "stream",
     "text": [
      "Training Base Models: 100%|██████████| 5/5 [00:26<00:00,  5.33s/it]\n",
      "Testing Instances: 100%|██████████| 100/100 [00:03<00:00, 26.27it/s]\n"
     ]
    },
    {
     "name": "stdout",
     "output_type": "stream",
     "text": [
      "Test Accuracy for Meta-Classifier with Base Model CalibratedClassifierCV: 0.48\n",
      "-------------------------------\n",
      "Meta-Classifier with Base Model DECISIONTREECLASSIFIER\n"
     ]
    },
    {
     "name": "stderr",
     "output_type": "stream",
     "text": [
      "Training Base Models: 100%|██████████| 5/5 [00:01<00:00,  4.82it/s]\n",
      "Testing Instances: 100%|██████████| 100/100 [00:01<00:00, 58.94it/s]\n"
     ]
    },
    {
     "name": "stdout",
     "output_type": "stream",
     "text": [
      "Test Accuracy for Meta-Classifier with Base Model DecisionTreeClassifier: 0.41\n",
      "-------------------------------\n",
      "Meta-Classifier with Base Model DUMMYCLASSIFIER\n"
     ]
    },
    {
     "name": "stderr",
     "output_type": "stream",
     "text": [
      "Training Base Models: 100%|██████████| 5/5 [00:00<00:00, 11.37it/s]\n",
      "Testing Instances: 100%|██████████| 100/100 [00:01<00:00, 61.56it/s]\n"
     ]
    },
    {
     "name": "stdout",
     "output_type": "stream",
     "text": [
      "Test Accuracy for Meta-Classifier with Base Model DummyClassifier: 0.1\n",
      "-------------------------------\n",
      "Meta-Classifier with Base Model EXTRATREECLASSIFIER\n"
     ]
    },
    {
     "name": "stderr",
     "output_type": "stream",
     "text": [
      "Training Base Models: 100%|██████████| 5/5 [00:00<00:00, 11.82it/s]\n",
      "Testing Instances: 100%|██████████| 100/100 [00:01<00:00, 58.69it/s]\n"
     ]
    },
    {
     "name": "stdout",
     "output_type": "stream",
     "text": [
      "Test Accuracy for Meta-Classifier with Base Model ExtraTreeClassifier: 0.47\n",
      "-------------------------------\n",
      "Meta-Classifier with Base Model EXTRATREESCLASSIFIER\n"
     ]
    },
    {
     "name": "stderr",
     "output_type": "stream",
     "text": [
      "Training Base Models: 100%|██████████| 5/5 [00:01<00:00,  3.64it/s]\n",
      "Testing Instances: 100%|██████████| 100/100 [00:08<00:00, 11.44it/s]\n"
     ]
    },
    {
     "name": "stdout",
     "output_type": "stream",
     "text": [
      "Test Accuracy for Meta-Classifier with Base Model ExtraTreesClassifier: 0.8\n",
      "-------------------------------\n",
      "Meta-Classifier with Base Model GAUSSIANNB\n"
     ]
    },
    {
     "name": "stderr",
     "output_type": "stream",
     "text": [
      "Training Base Models: 100%|██████████| 5/5 [00:00<00:00, 11.72it/s]\n",
      "Testing Instances: 100%|██████████| 100/100 [00:01<00:00, 51.10it/s]\n"
     ]
    },
    {
     "name": "stdout",
     "output_type": "stream",
     "text": [
      "Test Accuracy for Meta-Classifier with Base Model GaussianNB: 0.56\n",
      "-------------------------------\n",
      "Meta-Classifier with Base Model GRADIENTBOOSTINGCLASSIFIER\n"
     ]
    },
    {
     "name": "stderr",
     "output_type": "stream",
     "text": [
      "Training Base Models: 100%|██████████| 5/5 [06:50<00:00, 82.14s/it] \n",
      "Testing Instances: 100%|██████████| 100/100 [00:02<00:00, 43.84it/s]\n"
     ]
    },
    {
     "name": "stdout",
     "output_type": "stream",
     "text": [
      "Test Accuracy for Meta-Classifier with Base Model GradientBoostingClassifier: 0.68\n",
      "-------------------------------\n",
      "Meta-Classifier with Base Model KNEIGHBORSCLASSIFIER\n"
     ]
    },
    {
     "name": "stderr",
     "output_type": "stream",
     "text": [
      "Training Base Models: 100%|██████████| 5/5 [00:00<00:00, 12.07it/s]\n",
      "Testing Instances: 100%|██████████| 100/100 [00:13<00:00,  7.40it/s]\n"
     ]
    },
    {
     "name": "stdout",
     "output_type": "stream",
     "text": [
      "Test Accuracy for Meta-Classifier with Base Model KNeighborsClassifier: 0.72\n",
      "-------------------------------\n",
      "Meta-Classifier with Base Model LINEARDISCRIMINANTANALYSIS\n"
     ]
    },
    {
     "name": "stderr",
     "output_type": "stream",
     "text": [
      "Training Base Models: 100%|██████████| 5/5 [00:00<00:00,  8.28it/s]\n",
      "Testing Instances: 100%|██████████| 100/100 [00:01<00:00, 58.11it/s]\n"
     ]
    },
    {
     "name": "stdout",
     "output_type": "stream",
     "text": [
      "Test Accuracy for Meta-Classifier with Base Model LinearDiscriminantAnalysis: 0.1\n",
      "-------------------------------\n",
      "Meta-Classifier with Base Model LOGISTICREGRESSION\n"
     ]
    },
    {
     "name": "stderr",
     "output_type": "stream",
     "text": [
      "Training Base Models: 100%|██████████| 5/5 [00:01<00:00,  4.24it/s]\n",
      "Testing Instances: 100%|██████████| 100/100 [00:01<00:00, 58.55it/s]\n"
     ]
    },
    {
     "name": "stdout",
     "output_type": "stream",
     "text": [
      "Test Accuracy for Meta-Classifier with Base Model LogisticRegression: 0.47\n",
      "-------------------------------\n",
      "Meta-Classifier with Base Model MLPCLASSIFIER\n"
     ]
    },
    {
     "name": "stderr",
     "output_type": "stream",
     "text": [
      "Training Base Models: 100%|██████████| 5/5 [00:05<00:00,  1.07s/it]\n",
      "Testing Instances: 100%|██████████| 100/100 [00:01<00:00, 55.48it/s]\n"
     ]
    },
    {
     "name": "stdout",
     "output_type": "stream",
     "text": [
      "Test Accuracy for Meta-Classifier with Base Model MLPClassifier: 0.55\n",
      "-------------------------------\n",
      "Meta-Classifier with Base Model QUADRATICDISCRIMINANTANALYSIS\n"
     ]
    },
    {
     "name": "stderr",
     "output_type": "stream",
     "text": [
      "Training Base Models: 100%|██████████| 5/5 [00:00<00:00, 10.73it/s]\n"
     ]
    },
    {
     "name": "stdout",
     "output_type": "stream",
     "text": [
      "An error occurred while training or testing with QuadraticDiscriminantAnalysis: Input X contains NaN.\n",
      "QuadraticDiscriminantAnalysis does not accept missing values encoded as NaN natively. For supervised learning, you might want to consider sklearn.ensemble.HistGradientBoostingClassifier and Regressor which accept missing values encoded as NaNs natively. Alternatively, it is possible to preprocess the data, for instance by using an imputer transformer in a pipeline or drop samples with missing values. See https://scikit-learn.org/stable/modules/impute.html You can find a list of all estimators that handle NaN values at the following page: https://scikit-learn.org/stable/modules/impute.html#estimators-that-handle-nan-values\n",
      "-------------------------------\n",
      "Meta-Classifier with Base Model RANDOMFORESTCLASSIFIER\n"
     ]
    },
    {
     "name": "stderr",
     "output_type": "stream",
     "text": [
      "Training Base Models: 100%|██████████| 5/5 [00:02<00:00,  2.00it/s]\n",
      "Testing Instances: 100%|██████████| 100/100 [00:08<00:00, 11.44it/s]\n"
     ]
    },
    {
     "name": "stdout",
     "output_type": "stream",
     "text": [
      "Test Accuracy for Meta-Classifier with Base Model RandomForestClassifier: 0.79\n",
      "-------------------------------\n",
      "An error occurred while training or testing with VotingClassifier: VotingClassifier.__init__() missing 1 required positional argument: 'estimators'\n",
      "-------------------------------\n",
      "Meta-Classifier with Base Model ADABOOSTCLASSIFIER\n"
     ]
    },
    {
     "name": "stderr",
     "output_type": "stream",
     "text": [
      "Training Base Models: 100%|██████████| 5/5 [00:05<00:00,  1.08s/it]\n",
      "Testing Instances: 100%|██████████| 391/391 [00:22<00:00, 17.49it/s]\n"
     ]
    },
    {
     "name": "stdout",
     "output_type": "stream",
     "text": [
      "Test Accuracy for Meta-Classifier with Base Model AdaBoostClassifier: 0.07672634271099744\n",
      "-------------------------------\n",
      "Meta-Classifier with Base Model BAGGINGCLASSIFIER\n"
     ]
    },
    {
     "name": "stderr",
     "output_type": "stream",
     "text": [
      "Training Base Models: 100%|██████████| 5/5 [00:05<00:00,  1.07s/it]\n",
      "Testing Instances: 100%|██████████| 391/391 [00:05<00:00, 72.96it/s]\n"
     ]
    },
    {
     "name": "stdout",
     "output_type": "stream",
     "text": [
      "Test Accuracy for Meta-Classifier with Base Model BaggingClassifier: 0.6521739130434783\n",
      "-------------------------------\n",
      "Meta-Classifier with Base Model BERNOULLINB\n"
     ]
    },
    {
     "name": "stderr",
     "output_type": "stream",
     "text": [
      "Training Base Models: 100%|██████████| 5/5 [00:00<00:00, 10.96it/s]\n",
      "Testing Instances: 100%|██████████| 391/391 [00:01<00:00, 199.64it/s]\n"
     ]
    },
    {
     "name": "stdout",
     "output_type": "stream",
     "text": [
      "Test Accuracy for Meta-Classifier with Base Model BernoulliNB: 0.020460358056265986\n",
      "-------------------------------\n",
      "Meta-Classifier with Base Model CALIBRATEDCLASSIFIERCV\n"
     ]
    },
    {
     "name": "stderr",
     "output_type": "stream",
     "text": [
      "Training Base Models: 100%|██████████| 5/5 [00:07<00:00,  1.55s/it]\n",
      "Testing Instances: 100%|██████████| 391/391 [00:19<00:00, 20.08it/s]\n"
     ]
    },
    {
     "name": "stdout",
     "output_type": "stream",
     "text": [
      "Test Accuracy for Meta-Classifier with Base Model CalibratedClassifierCV: 0.680306905370844\n",
      "-------------------------------\n",
      "Meta-Classifier with Base Model DECISIONTREECLASSIFIER\n"
     ]
    },
    {
     "name": "stderr",
     "output_type": "stream",
     "text": [
      "Training Base Models: 100%|██████████| 5/5 [00:01<00:00,  4.56it/s]\n",
      "Testing Instances: 100%|██████████| 391/391 [00:01<00:00, 302.32it/s]\n"
     ]
    },
    {
     "name": "stdout",
     "output_type": "stream",
     "text": [
      "Test Accuracy for Meta-Classifier with Base Model DecisionTreeClassifier: 0.45268542199488493\n",
      "-------------------------------\n",
      "Meta-Classifier with Base Model DUMMYCLASSIFIER\n"
     ]
    },
    {
     "name": "stderr",
     "output_type": "stream",
     "text": [
      "Training Base Models: 100%|██████████| 5/5 [00:00<00:00, 12.05it/s]\n",
      "Testing Instances: 100%|██████████| 391/391 [00:00<00:00, 394.25it/s]\n"
     ]
    },
    {
     "name": "stdout",
     "output_type": "stream",
     "text": [
      "Test Accuracy for Meta-Classifier with Base Model DummyClassifier: 0.020460358056265986\n",
      "-------------------------------\n",
      "Meta-Classifier with Base Model EXTRATREECLASSIFIER\n"
     ]
    },
    {
     "name": "stderr",
     "output_type": "stream",
     "text": [
      "Training Base Models: 100%|██████████| 5/5 [00:00<00:00, 11.28it/s]\n",
      "Testing Instances: 100%|██████████| 391/391 [00:01<00:00, 302.65it/s]\n"
     ]
    },
    {
     "name": "stdout",
     "output_type": "stream",
     "text": [
      "Test Accuracy for Meta-Classifier with Base Model ExtraTreeClassifier: 0.38618925831202044\n",
      "-------------------------------\n",
      "Meta-Classifier with Base Model EXTRATREESCLASSIFIER\n"
     ]
    },
    {
     "name": "stderr",
     "output_type": "stream",
     "text": [
      "Training Base Models: 100%|██████████| 5/5 [00:01<00:00,  2.74it/s]\n",
      "Testing Instances: 100%|██████████| 391/391 [00:28<00:00, 13.49it/s]\n"
     ]
    },
    {
     "name": "stdout",
     "output_type": "stream",
     "text": [
      "Test Accuracy for Meta-Classifier with Base Model ExtraTreesClassifier: 0.6777493606138107\n",
      "-------------------------------\n",
      "Meta-Classifier with Base Model GAUSSIANNB\n"
     ]
    },
    {
     "name": "stderr",
     "output_type": "stream",
     "text": [
      "Training Base Models: 100%|██████████| 5/5 [00:00<00:00, 11.36it/s]\n",
      "Testing Instances: 100%|██████████| 391/391 [00:04<00:00, 90.51it/s]\n"
     ]
    },
    {
     "name": "stdout",
     "output_type": "stream",
     "text": [
      "Test Accuracy for Meta-Classifier with Base Model GaussianNB: 0.5831202046035806\n",
      "-------------------------------\n",
      "Meta-Classifier with Base Model GRADIENTBOOSTINGCLASSIFIER\n"
     ]
    },
    {
     "name": "stderr",
     "output_type": "stream",
     "text": [
      "Training Base Models: 100%|██████████| 5/5 [12:58<00:00, 155.73s/it]\n",
      "Testing Instances: 100%|██████████| 391/391 [00:08<00:00, 47.70it/s]\n"
     ]
    },
    {
     "name": "stdout",
     "output_type": "stream",
     "text": [
      "Test Accuracy for Meta-Classifier with Base Model GradientBoostingClassifier: 0.5907928388746803\n",
      "-------------------------------\n",
      "Meta-Classifier with Base Model KNEIGHBORSCLASSIFIER\n"
     ]
    },
    {
     "name": "stderr",
     "output_type": "stream",
     "text": [
      "Training Base Models: 100%|██████████| 5/5 [00:00<00:00, 11.94it/s]\n",
      "Testing Instances: 100%|██████████| 391/391 [00:47<00:00,  8.15it/s]\n"
     ]
    },
    {
     "name": "stdout",
     "output_type": "stream",
     "text": [
      "Test Accuracy for Meta-Classifier with Base Model KNeighborsClassifier: 0.6930946291560103\n",
      "-------------------------------\n",
      "Meta-Classifier with Base Model LINEARDISCRIMINANTANALYSIS\n"
     ]
    },
    {
     "name": "stderr",
     "output_type": "stream",
     "text": [
      "Training Base Models: 100%|██████████| 5/5 [00:00<00:00,  7.88it/s]\n",
      "Testing Instances: 100%|██████████| 391/391 [00:01<00:00, 296.92it/s]\n"
     ]
    },
    {
     "name": "stdout",
     "output_type": "stream",
     "text": [
      "Test Accuracy for Meta-Classifier with Base Model LinearDiscriminantAnalysis: 0.043478260869565216\n",
      "-------------------------------\n",
      "Meta-Classifier with Base Model LOGISTICREGRESSION\n"
     ]
    },
    {
     "name": "stderr",
     "output_type": "stream",
     "text": [
      "Training Base Models: 100%|██████████| 5/5 [00:01<00:00,  4.91it/s]\n",
      "Testing Instances: 100%|██████████| 391/391 [00:01<00:00, 305.16it/s]\n"
     ]
    },
    {
     "name": "stdout",
     "output_type": "stream",
     "text": [
      "Test Accuracy for Meta-Classifier with Base Model LogisticRegression: 0.6572890025575447\n",
      "-------------------------------\n",
      "Meta-Classifier with Base Model MLPCLASSIFIER\n"
     ]
    },
    {
     "name": "stderr",
     "output_type": "stream",
     "text": [
      "Training Base Models: 100%|██████████| 5/5 [00:03<00:00,  1.59it/s]\n",
      "Testing Instances: 100%|██████████| 391/391 [00:01<00:00, 303.85it/s]\n"
     ]
    },
    {
     "name": "stdout",
     "output_type": "stream",
     "text": [
      "Test Accuracy for Meta-Classifier with Base Model MLPClassifier: 0.7698209718670077\n",
      "-------------------------------\n",
      "Meta-Classifier with Base Model QUADRATICDISCRIMINANTANALYSIS\n"
     ]
    },
    {
     "name": "stderr",
     "output_type": "stream",
     "text": [
      "Training Base Models: 100%|██████████| 5/5 [00:00<00:00, 10.28it/s]\n"
     ]
    },
    {
     "name": "stdout",
     "output_type": "stream",
     "text": [
      "An error occurred while training or testing with QuadraticDiscriminantAnalysis: Input X contains NaN.\n",
      "QuadraticDiscriminantAnalysis does not accept missing values encoded as NaN natively. For supervised learning, you might want to consider sklearn.ensemble.HistGradientBoostingClassifier and Regressor which accept missing values encoded as NaNs natively. Alternatively, it is possible to preprocess the data, for instance by using an imputer transformer in a pipeline or drop samples with missing values. See https://scikit-learn.org/stable/modules/impute.html You can find a list of all estimators that handle NaN values at the following page: https://scikit-learn.org/stable/modules/impute.html#estimators-that-handle-nan-values\n",
      "-------------------------------\n",
      "Meta-Classifier with Base Model RANDOMFORESTCLASSIFIER\n"
     ]
    },
    {
     "name": "stderr",
     "output_type": "stream",
     "text": [
      "Training Base Models: 100%|██████████| 5/5 [00:05<00:00,  1.02s/it]\n",
      "Testing Instances: 100%|██████████| 391/391 [00:29<00:00, 13.33it/s]\n"
     ]
    },
    {
     "name": "stdout",
     "output_type": "stream",
     "text": [
      "Test Accuracy for Meta-Classifier with Base Model RandomForestClassifier: 0.6854219948849105\n",
      "-------------------------------\n",
      "An error occurred while training or testing with VotingClassifier: VotingClassifier.__init__() missing 1 required positional argument: 'estimators'\n",
      "-------------------------------\n",
      "Meta-Classifier with Base Model ADABOOSTCLASSIFIER\n"
     ]
    },
    {
     "name": "stderr",
     "output_type": "stream",
     "text": [
      "Training Base Models: 100%|██████████| 5/5 [00:01<00:00,  3.87it/s]\n",
      "Testing Instances: 100%|██████████| 175/175 [00:10<00:00, 17.43it/s]\n"
     ]
    },
    {
     "name": "stdout",
     "output_type": "stream",
     "text": [
      "Test Accuracy for Meta-Classifier with Base Model AdaBoostClassifier: 0.42857142857142855\n",
      "-------------------------------\n",
      "Meta-Classifier with Base Model BAGGINGCLASSIFIER\n"
     ]
    },
    {
     "name": "stderr",
     "output_type": "stream",
     "text": [
      "Training Base Models: 100%|██████████| 5/5 [00:00<00:00,  7.63it/s]\n",
      "Testing Instances: 100%|██████████| 175/175 [00:02<00:00, 69.46it/s]\n"
     ]
    },
    {
     "name": "stdout",
     "output_type": "stream",
     "text": [
      "Test Accuracy for Meta-Classifier with Base Model BaggingClassifier: 0.7142857142857143\n",
      "-------------------------------\n",
      "Meta-Classifier with Base Model BERNOULLINB\n"
     ]
    },
    {
     "name": "stderr",
     "output_type": "stream",
     "text": [
      "Training Base Models: 100%|██████████| 5/5 [00:00<00:00, 10.91it/s]\n",
      "Testing Instances: 100%|██████████| 175/175 [00:00<00:00, 179.94it/s]\n"
     ]
    },
    {
     "name": "stdout",
     "output_type": "stream",
     "text": [
      "Test Accuracy for Meta-Classifier with Base Model BernoulliNB: 0.3942857142857143\n",
      "-------------------------------\n",
      "Meta-Classifier with Base Model CALIBRATEDCLASSIFIERCV\n"
     ]
    },
    {
     "name": "stderr",
     "output_type": "stream",
     "text": [
      "Training Base Models: 100%|██████████| 5/5 [00:01<00:00,  4.99it/s]\n",
      "Testing Instances: 100%|██████████| 175/175 [00:03<00:00, 57.57it/s]\n"
     ]
    },
    {
     "name": "stdout",
     "output_type": "stream",
     "text": [
      "Test Accuracy for Meta-Classifier with Base Model CalibratedClassifierCV: 0.7771428571428571\n",
      "-------------------------------\n",
      "Meta-Classifier with Base Model DECISIONTREECLASSIFIER\n"
     ]
    },
    {
     "name": "stderr",
     "output_type": "stream",
     "text": [
      "Training Base Models: 100%|██████████| 5/5 [00:00<00:00, 10.90it/s]\n",
      "Testing Instances: 100%|██████████| 175/175 [00:00<00:00, 243.34it/s]\n"
     ]
    },
    {
     "name": "stdout",
     "output_type": "stream",
     "text": [
      "Test Accuracy for Meta-Classifier with Base Model DecisionTreeClassifier: 0.5942857142857143\n",
      "-------------------------------\n",
      "Meta-Classifier with Base Model DUMMYCLASSIFIER\n"
     ]
    },
    {
     "name": "stderr",
     "output_type": "stream",
     "text": [
      "Training Base Models: 100%|██████████| 5/5 [00:00<00:00, 11.97it/s]\n",
      "Testing Instances: 100%|██████████| 175/175 [00:00<00:00, 298.06it/s]\n"
     ]
    },
    {
     "name": "stdout",
     "output_type": "stream",
     "text": [
      "Test Accuracy for Meta-Classifier with Base Model DummyClassifier: 0.3942857142857143\n",
      "-------------------------------\n",
      "Meta-Classifier with Base Model EXTRATREECLASSIFIER\n"
     ]
    },
    {
     "name": "stderr",
     "output_type": "stream",
     "text": [
      "Training Base Models: 100%|██████████| 5/5 [00:00<00:00, 11.96it/s]\n",
      "Testing Instances: 100%|██████████| 175/175 [00:00<00:00, 234.42it/s]\n"
     ]
    },
    {
     "name": "stdout",
     "output_type": "stream",
     "text": [
      "Test Accuracy for Meta-Classifier with Base Model ExtraTreeClassifier: 0.6114285714285714\n",
      "-------------------------------\n",
      "Meta-Classifier with Base Model EXTRATREESCLASSIFIER\n"
     ]
    },
    {
     "name": "stderr",
     "output_type": "stream",
     "text": [
      "Training Base Models: 100%|██████████| 5/5 [00:00<00:00,  5.11it/s]\n",
      "Testing Instances: 100%|██████████| 175/175 [00:13<00:00, 13.43it/s]\n"
     ]
    },
    {
     "name": "stdout",
     "output_type": "stream",
     "text": [
      "Test Accuracy for Meta-Classifier with Base Model ExtraTreesClassifier: 0.7485714285714286\n",
      "-------------------------------\n",
      "Meta-Classifier with Base Model GAUSSIANNB\n"
     ]
    },
    {
     "name": "stderr",
     "output_type": "stream",
     "text": [
      "Training Base Models: 100%|██████████| 5/5 [00:00<00:00, 11.20it/s]\n",
      "Testing Instances: 100%|██████████| 175/175 [00:00<00:00, 214.40it/s]\n"
     ]
    },
    {
     "name": "stdout",
     "output_type": "stream",
     "text": [
      "Test Accuracy for Meta-Classifier with Base Model GaussianNB: 0.3657142857142857\n",
      "-------------------------------\n",
      "Meta-Classifier with Base Model GRADIENTBOOSTINGCLASSIFIER\n"
     ]
    },
    {
     "name": "stderr",
     "output_type": "stream",
     "text": [
      "Training Base Models: 100%|██████████| 5/5 [00:06<00:00,  1.26s/it]\n",
      "Testing Instances: 100%|██████████| 175/175 [00:01<00:00, 145.86it/s]\n"
     ]
    },
    {
     "name": "stdout",
     "output_type": "stream",
     "text": [
      "Test Accuracy for Meta-Classifier with Base Model GradientBoostingClassifier: 0.64\n",
      "-------------------------------\n",
      "Meta-Classifier with Base Model KNEIGHBORSCLASSIFIER\n"
     ]
    },
    {
     "name": "stderr",
     "output_type": "stream",
     "text": [
      "Training Base Models: 100%|██████████| 5/5 [00:00<00:00, 12.05it/s]\n",
      "Testing Instances: 100%|██████████| 175/175 [00:17<00:00, 10.06it/s]\n"
     ]
    },
    {
     "name": "stdout",
     "output_type": "stream",
     "text": [
      "Test Accuracy for Meta-Classifier with Base Model KNeighborsClassifier: 0.7028571428571428\n",
      "-------------------------------\n",
      "Meta-Classifier with Base Model LINEARDISCRIMINANTANALYSIS\n"
     ]
    },
    {
     "name": "stderr",
     "output_type": "stream",
     "text": [
      "Training Base Models: 100%|██████████| 5/5 [00:00<00:00, 10.82it/s]\n",
      "Testing Instances: 100%|██████████| 175/175 [00:00<00:00, 246.13it/s]\n"
     ]
    },
    {
     "name": "stdout",
     "output_type": "stream",
     "text": [
      "Test Accuracy for Meta-Classifier with Base Model LinearDiscriminantAnalysis: 0.49714285714285716\n",
      "-------------------------------\n",
      "Meta-Classifier with Base Model LOGISTICREGRESSION\n"
     ]
    },
    {
     "name": "stderr",
     "output_type": "stream",
     "text": [
      "Training Base Models: 100%|██████████| 5/5 [00:00<00:00,  8.22it/s]\n",
      "Testing Instances: 100%|██████████| 175/175 [00:00<00:00, 245.73it/s]\n"
     ]
    },
    {
     "name": "stdout",
     "output_type": "stream",
     "text": [
      "Test Accuracy for Meta-Classifier with Base Model LogisticRegression: 0.8228571428571428\n",
      "-------------------------------\n",
      "Meta-Classifier with Base Model MLPCLASSIFIER\n"
     ]
    },
    {
     "name": "stderr",
     "output_type": "stream",
     "text": [
      "Training Base Models: 100%|██████████| 5/5 [00:01<00:00,  4.25it/s]\n",
      "Testing Instances: 100%|██████████| 175/175 [00:00<00:00, 240.56it/s]\n"
     ]
    },
    {
     "name": "stdout",
     "output_type": "stream",
     "text": [
      "Test Accuracy for Meta-Classifier with Base Model MLPClassifier: 0.8342857142857143\n",
      "-------------------------------\n",
      "Meta-Classifier with Base Model QUADRATICDISCRIMINANTANALYSIS\n"
     ]
    },
    {
     "name": "stderr",
     "output_type": "stream",
     "text": [
      "Training Base Models: 100%|██████████| 5/5 [00:00<00:00,  9.82it/s]\n",
      "Testing Instances: 100%|██████████| 175/175 [00:00<00:00, 222.24it/s]\n"
     ]
    },
    {
     "name": "stdout",
     "output_type": "stream",
     "text": [
      "Test Accuracy for Meta-Classifier with Base Model QuadraticDiscriminantAnalysis: 0.3942857142857143\n",
      "-------------------------------\n",
      "Meta-Classifier with Base Model RANDOMFORESTCLASSIFIER\n"
     ]
    },
    {
     "name": "stderr",
     "output_type": "stream",
     "text": [
      "Training Base Models: 100%|██████████| 5/5 [00:01<00:00,  4.04it/s]\n",
      "Testing Instances: 100%|██████████| 175/175 [00:13<00:00, 13.42it/s]\n"
     ]
    },
    {
     "name": "stdout",
     "output_type": "stream",
     "text": [
      "Test Accuracy for Meta-Classifier with Base Model RandomForestClassifier: 0.7142857142857143\n",
      "-------------------------------\n",
      "An error occurred while training or testing with VotingClassifier: VotingClassifier.__init__() missing 1 required positional argument: 'estimators'\n",
      "-------------------------------\n",
      "Meta-Classifier with Base Model ADABOOSTCLASSIFIER\n"
     ]
    },
    {
     "name": "stderr",
     "output_type": "stream",
     "text": [
      "Training Base Models: 100%|██████████| 5/5 [00:01<00:00,  3.28it/s]\n",
      "Testing Instances: 100%|██████████| 30/30 [00:01<00:00, 16.62it/s]\n"
     ]
    },
    {
     "name": "stdout",
     "output_type": "stream",
     "text": [
      "Test Accuracy for Meta-Classifier with Base Model AdaBoostClassifier: 0.6666666666666666\n",
      "-------------------------------\n",
      "Meta-Classifier with Base Model BAGGINGCLASSIFIER\n"
     ]
    },
    {
     "name": "stderr",
     "output_type": "stream",
     "text": [
      "Training Base Models: 100%|██████████| 5/5 [00:00<00:00,  6.36it/s]\n",
      "Testing Instances: 100%|██████████| 30/30 [00:00<00:00, 59.39it/s]\n"
     ]
    },
    {
     "name": "stdout",
     "output_type": "stream",
     "text": [
      "Test Accuracy for Meta-Classifier with Base Model BaggingClassifier: 0.7666666666666667\n",
      "-------------------------------\n",
      "Meta-Classifier with Base Model BERNOULLINB\n"
     ]
    },
    {
     "name": "stderr",
     "output_type": "stream",
     "text": [
      "Training Base Models: 100%|██████████| 5/5 [00:00<00:00, 11.17it/s]\n",
      "Testing Instances: 100%|██████████| 30/30 [00:00<00:00, 119.49it/s]\n"
     ]
    },
    {
     "name": "stdout",
     "output_type": "stream",
     "text": [
      "Test Accuracy for Meta-Classifier with Base Model BernoulliNB: 0.2\n",
      "-------------------------------\n",
      "Meta-Classifier with Base Model CALIBRATEDCLASSIFIERCV\n"
     ]
    },
    {
     "name": "stderr",
     "output_type": "stream",
     "text": [
      "Training Base Models: 100%|██████████| 5/5 [00:01<00:00,  3.02it/s]\n",
      "Testing Instances: 100%|██████████| 30/30 [00:00<00:00, 43.22it/s]\n"
     ]
    },
    {
     "name": "stdout",
     "output_type": "stream",
     "text": [
      "Test Accuracy for Meta-Classifier with Base Model CalibratedClassifierCV: 0.8666666666666667\n",
      "-------------------------------\n",
      "Meta-Classifier with Base Model DECISIONTREECLASSIFIER\n"
     ]
    },
    {
     "name": "stderr",
     "output_type": "stream",
     "text": [
      "Training Base Models: 100%|██████████| 5/5 [00:00<00:00, 11.01it/s]\n",
      "Testing Instances: 100%|██████████| 30/30 [00:00<00:00, 154.98it/s]\n"
     ]
    },
    {
     "name": "stdout",
     "output_type": "stream",
     "text": [
      "Test Accuracy for Meta-Classifier with Base Model DecisionTreeClassifier: 0.5333333333333333\n",
      "-------------------------------\n",
      "Meta-Classifier with Base Model DUMMYCLASSIFIER\n"
     ]
    },
    {
     "name": "stderr",
     "output_type": "stream",
     "text": [
      "Training Base Models: 100%|██████████| 5/5 [00:00<00:00, 12.03it/s]\n",
      "Testing Instances: 100%|██████████| 30/30 [00:00<00:00, 176.43it/s]\n"
     ]
    },
    {
     "name": "stdout",
     "output_type": "stream",
     "text": [
      "Test Accuracy for Meta-Classifier with Base Model DummyClassifier: 0.2\n",
      "-------------------------------\n",
      "Meta-Classifier with Base Model EXTRATREECLASSIFIER\n"
     ]
    },
    {
     "name": "stderr",
     "output_type": "stream",
     "text": [
      "Training Base Models: 100%|██████████| 5/5 [00:00<00:00, 11.99it/s]\n",
      "Testing Instances: 100%|██████████| 30/30 [00:00<00:00, 156.21it/s]\n"
     ]
    },
    {
     "name": "stdout",
     "output_type": "stream",
     "text": [
      "Test Accuracy for Meta-Classifier with Base Model ExtraTreeClassifier: 0.6333333333333333\n",
      "-------------------------------\n",
      "Meta-Classifier with Base Model EXTRATREESCLASSIFIER\n"
     ]
    },
    {
     "name": "stderr",
     "output_type": "stream",
     "text": [
      "Training Base Models: 100%|██████████| 5/5 [00:01<00:00,  4.82it/s]\n",
      "Testing Instances: 100%|██████████| 30/30 [00:02<00:00, 12.91it/s]\n"
     ]
    },
    {
     "name": "stdout",
     "output_type": "stream",
     "text": [
      "Test Accuracy for Meta-Classifier with Base Model ExtraTreesClassifier: 0.7666666666666667\n",
      "-------------------------------\n",
      "Meta-Classifier with Base Model GAUSSIANNB\n"
     ]
    },
    {
     "name": "stderr",
     "output_type": "stream",
     "text": [
      "Training Base Models: 100%|██████████| 5/5 [00:00<00:00, 11.75it/s]\n",
      "Testing Instances: 100%|██████████| 30/30 [00:00<00:00, 133.30it/s]\n"
     ]
    },
    {
     "name": "stdout",
     "output_type": "stream",
     "text": [
      "Test Accuracy for Meta-Classifier with Base Model GaussianNB: 0.8333333333333334\n",
      "-------------------------------\n",
      "Meta-Classifier with Base Model GRADIENTBOOSTINGCLASSIFIER\n"
     ]
    },
    {
     "name": "stderr",
     "output_type": "stream",
     "text": [
      "Training Base Models: 100%|██████████| 5/5 [00:18<00:00,  3.74s/it]\n",
      "Testing Instances: 100%|██████████| 30/30 [00:00<00:00, 96.13it/s]\n"
     ]
    },
    {
     "name": "stdout",
     "output_type": "stream",
     "text": [
      "Test Accuracy for Meta-Classifier with Base Model GradientBoostingClassifier: 0.6333333333333333\n",
      "-------------------------------\n",
      "Meta-Classifier with Base Model KNEIGHBORSCLASSIFIER\n"
     ]
    },
    {
     "name": "stderr",
     "output_type": "stream",
     "text": [
      "Training Base Models: 100%|██████████| 5/5 [00:00<00:00, 11.39it/s]\n",
      "Testing Instances: 100%|██████████| 30/30 [00:03<00:00,  7.89it/s]\n"
     ]
    },
    {
     "name": "stdout",
     "output_type": "stream",
     "text": [
      "Test Accuracy for Meta-Classifier with Base Model KNeighborsClassifier: 0.6\n",
      "-------------------------------\n",
      "Meta-Classifier with Base Model LINEARDISCRIMINANTANALYSIS\n"
     ]
    },
    {
     "name": "stderr",
     "output_type": "stream",
     "text": [
      "Training Base Models: 100%|██████████| 5/5 [00:00<00:00,  9.98it/s]\n",
      "Testing Instances: 100%|██████████| 30/30 [00:00<00:00, 143.51it/s]\n"
     ]
    },
    {
     "name": "stdout",
     "output_type": "stream",
     "text": [
      "Test Accuracy for Meta-Classifier with Base Model LinearDiscriminantAnalysis: 0.36666666666666664\n",
      "-------------------------------\n",
      "Meta-Classifier with Base Model LOGISTICREGRESSION\n"
     ]
    },
    {
     "name": "stderr",
     "output_type": "stream",
     "text": [
      "Training Base Models: 100%|██████████| 5/5 [00:00<00:00,  7.85it/s]\n",
      "Testing Instances: 100%|██████████| 30/30 [00:00<00:00, 142.82it/s]\n"
     ]
    },
    {
     "name": "stdout",
     "output_type": "stream",
     "text": [
      "Test Accuracy for Meta-Classifier with Base Model LogisticRegression: 0.8333333333333334\n",
      "-------------------------------\n",
      "Meta-Classifier with Base Model MLPCLASSIFIER\n"
     ]
    },
    {
     "name": "stderr",
     "output_type": "stream",
     "text": [
      "Training Base Models: 100%|██████████| 5/5 [00:01<00:00,  3.59it/s]\n",
      "Testing Instances: 100%|██████████| 30/30 [00:00<00:00, 134.19it/s]\n"
     ]
    },
    {
     "name": "stdout",
     "output_type": "stream",
     "text": [
      "Test Accuracy for Meta-Classifier with Base Model MLPClassifier: 0.9\n",
      "-------------------------------\n",
      "Meta-Classifier with Base Model QUADRATICDISCRIMINANTANALYSIS\n"
     ]
    },
    {
     "name": "stderr",
     "output_type": "stream",
     "text": [
      "Training Base Models: 100%|██████████| 5/5 [00:00<00:00, 10.55it/s]\n",
      "Testing Instances: 100%|██████████| 30/30 [00:00<00:00, 137.26it/s]\n"
     ]
    },
    {
     "name": "stdout",
     "output_type": "stream",
     "text": [
      "Test Accuracy for Meta-Classifier with Base Model QuadraticDiscriminantAnalysis: 0.2\n",
      "-------------------------------\n",
      "Meta-Classifier with Base Model RANDOMFORESTCLASSIFIER\n"
     ]
    },
    {
     "name": "stderr",
     "output_type": "stream",
     "text": [
      "Training Base Models: 100%|██████████| 5/5 [00:01<00:00,  3.90it/s]\n",
      "Testing Instances: 100%|██████████| 30/30 [00:02<00:00, 13.05it/s]\n"
     ]
    },
    {
     "name": "stdout",
     "output_type": "stream",
     "text": [
      "Test Accuracy for Meta-Classifier with Base Model RandomForestClassifier: 0.7\n",
      "-------------------------------\n",
      "An error occurred while training or testing with VotingClassifier: VotingClassifier.__init__() missing 1 required positional argument: 'estimators'\n",
      "-------------------------------\n",
      "Meta-Classifier with Base Model ADABOOSTCLASSIFIER\n"
     ]
    },
    {
     "name": "stderr",
     "output_type": "stream",
     "text": [
      "Training Base Models: 100%|██████████| 5/5 [00:01<00:00,  3.75it/s]\n",
      "Testing Instances: 100%|██████████| 20/20 [00:01<00:00, 19.46it/s]\n"
     ]
    },
    {
     "name": "stdout",
     "output_type": "stream",
     "text": [
      "Test Accuracy for Meta-Classifier with Base Model AdaBoostClassifier: 0.7\n",
      "-------------------------------\n",
      "Meta-Classifier with Base Model BAGGINGCLASSIFIER\n"
     ]
    },
    {
     "name": "stderr",
     "output_type": "stream",
     "text": [
      "Training Base Models: 100%|██████████| 5/5 [00:00<00:00,  8.19it/s]\n",
      "Testing Instances: 100%|██████████| 20/20 [00:00<00:00, 57.79it/s]\n"
     ]
    },
    {
     "name": "stdout",
     "output_type": "stream",
     "text": [
      "Test Accuracy for Meta-Classifier with Base Model BaggingClassifier: 0.65\n",
      "-------------------------------\n",
      "Meta-Classifier with Base Model BERNOULLINB\n"
     ]
    },
    {
     "name": "stderr",
     "output_type": "stream",
     "text": [
      "Training Base Models: 100%|██████████| 5/5 [00:00<00:00, 10.52it/s]\n",
      "Testing Instances: 100%|██████████| 20/20 [00:00<00:00, 113.61it/s]\n"
     ]
    },
    {
     "name": "stdout",
     "output_type": "stream",
     "text": [
      "Test Accuracy for Meta-Classifier with Base Model BernoulliNB: 0.5\n",
      "-------------------------------\n",
      "Meta-Classifier with Base Model CALIBRATEDCLASSIFIERCV\n"
     ]
    },
    {
     "name": "stderr",
     "output_type": "stream",
     "text": [
      "Training Base Models: 100%|██████████| 5/5 [00:00<00:00,  9.16it/s]\n",
      "Testing Instances: 100%|██████████| 20/20 [00:00<00:00, 57.13it/s]\n"
     ]
    },
    {
     "name": "stdout",
     "output_type": "stream",
     "text": [
      "Test Accuracy for Meta-Classifier with Base Model CalibratedClassifierCV: 0.8\n",
      "-------------------------------\n",
      "Meta-Classifier with Base Model DECISIONTREECLASSIFIER\n"
     ]
    },
    {
     "name": "stderr",
     "output_type": "stream",
     "text": [
      "Training Base Models: 100%|██████████| 5/5 [00:00<00:00, 11.61it/s]\n",
      "Testing Instances: 100%|██████████| 20/20 [00:00<00:00, 145.95it/s]\n"
     ]
    },
    {
     "name": "stdout",
     "output_type": "stream",
     "text": [
      "Test Accuracy for Meta-Classifier with Base Model DecisionTreeClassifier: 0.95\n",
      "-------------------------------\n",
      "Meta-Classifier with Base Model DUMMYCLASSIFIER\n"
     ]
    },
    {
     "name": "stderr",
     "output_type": "stream",
     "text": [
      "Training Base Models: 100%|██████████| 5/5 [00:00<00:00, 11.57it/s]\n",
      "Testing Instances: 100%|██████████| 20/20 [00:00<00:00, 162.03it/s]\n"
     ]
    },
    {
     "name": "stdout",
     "output_type": "stream",
     "text": [
      "Test Accuracy for Meta-Classifier with Base Model DummyClassifier: 0.5\n",
      "-------------------------------\n",
      "Meta-Classifier with Base Model EXTRATREECLASSIFIER\n"
     ]
    },
    {
     "name": "stderr",
     "output_type": "stream",
     "text": [
      "Training Base Models: 100%|██████████| 5/5 [00:00<00:00, 11.92it/s]\n",
      "Testing Instances: 100%|██████████| 20/20 [00:00<00:00, 143.85it/s]\n"
     ]
    },
    {
     "name": "stdout",
     "output_type": "stream",
     "text": [
      "Test Accuracy for Meta-Classifier with Base Model ExtraTreeClassifier: 0.75\n",
      "-------------------------------\n",
      "Meta-Classifier with Base Model EXTRATREESCLASSIFIER\n"
     ]
    },
    {
     "name": "stderr",
     "output_type": "stream",
     "text": [
      "Training Base Models: 100%|██████████| 5/5 [00:00<00:00,  5.16it/s]\n",
      "Testing Instances: 100%|██████████| 20/20 [00:01<00:00, 12.90it/s]\n"
     ]
    },
    {
     "name": "stdout",
     "output_type": "stream",
     "text": [
      "Test Accuracy for Meta-Classifier with Base Model ExtraTreesClassifier: 0.9\n",
      "-------------------------------\n",
      "Meta-Classifier with Base Model GAUSSIANNB\n"
     ]
    },
    {
     "name": "stderr",
     "output_type": "stream",
     "text": [
      "Training Base Models: 100%|██████████| 5/5 [00:00<00:00, 11.87it/s]\n",
      "Testing Instances: 100%|██████████| 20/20 [00:00<00:00, 136.02it/s]\n"
     ]
    },
    {
     "name": "stdout",
     "output_type": "stream",
     "text": [
      "Test Accuracy for Meta-Classifier with Base Model GaussianNB: 0.85\n",
      "-------------------------------\n",
      "Meta-Classifier with Base Model GRADIENTBOOSTINGCLASSIFIER\n"
     ]
    },
    {
     "name": "stderr",
     "output_type": "stream",
     "text": [
      "Training Base Models: 100%|██████████| 5/5 [00:02<00:00,  2.17it/s]\n",
      "Testing Instances: 100%|██████████| 20/20 [00:00<00:00, 121.18it/s]\n"
     ]
    },
    {
     "name": "stdout",
     "output_type": "stream",
     "text": [
      "Test Accuracy for Meta-Classifier with Base Model GradientBoostingClassifier: 0.8\n",
      "-------------------------------\n",
      "Meta-Classifier with Base Model KNEIGHBORSCLASSIFIER\n"
     ]
    },
    {
     "name": "stderr",
     "output_type": "stream",
     "text": [
      "Training Base Models: 100%|██████████| 5/5 [00:00<00:00, 12.05it/s]\n",
      "Testing Instances: 100%|██████████| 20/20 [00:02<00:00,  9.63it/s]\n"
     ]
    },
    {
     "name": "stdout",
     "output_type": "stream",
     "text": [
      "Test Accuracy for Meta-Classifier with Base Model KNeighborsClassifier: 0.65\n",
      "-------------------------------\n",
      "Meta-Classifier with Base Model LINEARDISCRIMINANTANALYSIS\n"
     ]
    },
    {
     "name": "stderr",
     "output_type": "stream",
     "text": [
      "Training Base Models: 100%|██████████| 5/5 [00:00<00:00, 10.98it/s]\n",
      "Testing Instances: 100%|██████████| 20/20 [00:00<00:00, 104.69it/s]\n"
     ]
    },
    {
     "name": "stdout",
     "output_type": "stream",
     "text": [
      "Test Accuracy for Meta-Classifier with Base Model LinearDiscriminantAnalysis: 0.75\n",
      "-------------------------------\n",
      "Meta-Classifier with Base Model LOGISTICREGRESSION\n"
     ]
    },
    {
     "name": "stderr",
     "output_type": "stream",
     "text": [
      "Training Base Models: 100%|██████████| 5/5 [00:00<00:00, 10.39it/s]\n",
      "Testing Instances: 100%|██████████| 20/20 [00:00<00:00, 145.25it/s]\n"
     ]
    },
    {
     "name": "stdout",
     "output_type": "stream",
     "text": [
      "Test Accuracy for Meta-Classifier with Base Model LogisticRegression: 0.85\n",
      "-------------------------------\n",
      "Meta-Classifier with Base Model MLPCLASSIFIER\n"
     ]
    },
    {
     "name": "stderr",
     "output_type": "stream",
     "text": [
      "Training Base Models: 100%|██████████| 5/5 [00:00<00:00,  7.11it/s]\n",
      "Testing Instances: 100%|██████████| 20/20 [00:00<00:00, 127.75it/s]\n"
     ]
    },
    {
     "name": "stdout",
     "output_type": "stream",
     "text": [
      "Test Accuracy for Meta-Classifier with Base Model MLPClassifier: 0.85\n",
      "-------------------------------\n",
      "Meta-Classifier with Base Model QUADRATICDISCRIMINANTANALYSIS\n"
     ]
    },
    {
     "name": "stderr",
     "output_type": "stream",
     "text": [
      "Training Base Models: 100%|██████████| 5/5 [00:00<00:00, 11.13it/s]\n",
      "Testing Instances: 100%|██████████| 20/20 [00:00<00:00, 130.69it/s]\n"
     ]
    },
    {
     "name": "stdout",
     "output_type": "stream",
     "text": [
      "Test Accuracy for Meta-Classifier with Base Model QuadraticDiscriminantAnalysis: 0.5\n",
      "-------------------------------\n",
      "Meta-Classifier with Base Model RANDOMFORESTCLASSIFIER\n"
     ]
    },
    {
     "name": "stderr",
     "output_type": "stream",
     "text": [
      "Training Base Models: 100%|██████████| 5/5 [00:01<00:00,  4.12it/s]\n",
      "Testing Instances: 100%|██████████| 20/20 [00:01<00:00, 12.99it/s]\n"
     ]
    },
    {
     "name": "stdout",
     "output_type": "stream",
     "text": [
      "Test Accuracy for Meta-Classifier with Base Model RandomForestClassifier: 0.85\n",
      "-------------------------------\n",
      "An error occurred while training or testing with VotingClassifier: VotingClassifier.__init__() missing 1 required positional argument: 'estimators'\n",
      "-------------------------------\n",
      "Meta-Classifier with Base Model ADABOOSTCLASSIFIER\n"
     ]
    },
    {
     "name": "stderr",
     "output_type": "stream",
     "text": [
      "Training Base Models: 100%|██████████| 5/5 [00:01<00:00,  3.80it/s]\n",
      "Testing Instances: 100%|██████████| 20/20 [00:01<00:00, 19.44it/s]\n"
     ]
    },
    {
     "name": "stdout",
     "output_type": "stream",
     "text": [
      "Test Accuracy for Meta-Classifier with Base Model AdaBoostClassifier: 0.8\n",
      "-------------------------------\n",
      "Meta-Classifier with Base Model BAGGINGCLASSIFIER\n"
     ]
    },
    {
     "name": "stderr",
     "output_type": "stream",
     "text": [
      "Training Base Models: 100%|██████████| 5/5 [00:00<00:00,  8.05it/s]\n",
      "Testing Instances: 100%|██████████| 20/20 [00:00<00:00, 56.81it/s]\n"
     ]
    },
    {
     "name": "stdout",
     "output_type": "stream",
     "text": [
      "Test Accuracy for Meta-Classifier with Base Model BaggingClassifier: 0.85\n",
      "-------------------------------\n",
      "Meta-Classifier with Base Model BERNOULLINB\n"
     ]
    },
    {
     "name": "stderr",
     "output_type": "stream",
     "text": [
      "Training Base Models: 100%|██████████| 5/5 [00:00<00:00, 10.89it/s]\n",
      "Testing Instances: 100%|██████████| 20/20 [00:00<00:00, 107.50it/s]\n"
     ]
    },
    {
     "name": "stdout",
     "output_type": "stream",
     "text": [
      "Test Accuracy for Meta-Classifier with Base Model BernoulliNB: 0.5\n",
      "-------------------------------\n",
      "Meta-Classifier with Base Model CALIBRATEDCLASSIFIERCV\n"
     ]
    },
    {
     "name": "stderr",
     "output_type": "stream",
     "text": [
      "Training Base Models: 100%|██████████| 5/5 [00:00<00:00,  7.67it/s]\n",
      "Testing Instances: 100%|██████████| 20/20 [00:00<00:00, 56.48it/s]\n"
     ]
    },
    {
     "name": "stdout",
     "output_type": "stream",
     "text": [
      "Test Accuracy for Meta-Classifier with Base Model CalibratedClassifierCV: 0.7\n",
      "-------------------------------\n",
      "Meta-Classifier with Base Model DECISIONTREECLASSIFIER\n"
     ]
    },
    {
     "name": "stderr",
     "output_type": "stream",
     "text": [
      "Training Base Models: 100%|██████████| 5/5 [00:00<00:00, 10.96it/s]\n",
      "Testing Instances: 100%|██████████| 20/20 [00:00<00:00, 144.34it/s]\n"
     ]
    },
    {
     "name": "stdout",
     "output_type": "stream",
     "text": [
      "Test Accuracy for Meta-Classifier with Base Model DecisionTreeClassifier: 0.7\n",
      "-------------------------------\n",
      "Meta-Classifier with Base Model DUMMYCLASSIFIER\n"
     ]
    },
    {
     "name": "stderr",
     "output_type": "stream",
     "text": [
      "Training Base Models: 100%|██████████| 5/5 [00:00<00:00, 11.99it/s]\n",
      "Testing Instances: 100%|██████████| 20/20 [00:00<00:00, 163.90it/s]\n"
     ]
    },
    {
     "name": "stdout",
     "output_type": "stream",
     "text": [
      "Test Accuracy for Meta-Classifier with Base Model DummyClassifier: 0.5\n",
      "-------------------------------\n",
      "Meta-Classifier with Base Model EXTRATREECLASSIFIER\n"
     ]
    },
    {
     "name": "stderr",
     "output_type": "stream",
     "text": [
      "Training Base Models: 100%|██████████| 5/5 [00:00<00:00, 11.93it/s]\n",
      "Testing Instances: 100%|██████████| 20/20 [00:00<00:00, 144.34it/s]\n"
     ]
    },
    {
     "name": "stdout",
     "output_type": "stream",
     "text": [
      "Test Accuracy for Meta-Classifier with Base Model ExtraTreeClassifier: 0.75\n",
      "-------------------------------\n",
      "Meta-Classifier with Base Model EXTRATREESCLASSIFIER\n"
     ]
    },
    {
     "name": "stderr",
     "output_type": "stream",
     "text": [
      "Training Base Models: 100%|██████████| 5/5 [00:00<00:00,  5.17it/s]\n",
      "Testing Instances: 100%|██████████| 20/20 [00:01<00:00, 12.85it/s]\n"
     ]
    },
    {
     "name": "stdout",
     "output_type": "stream",
     "text": [
      "Test Accuracy for Meta-Classifier with Base Model ExtraTreesClassifier: 0.6\n",
      "-------------------------------\n",
      "Meta-Classifier with Base Model GAUSSIANNB\n"
     ]
    },
    {
     "name": "stderr",
     "output_type": "stream",
     "text": [
      "Training Base Models: 100%|██████████| 5/5 [00:00<00:00, 11.94it/s]\n",
      "Testing Instances: 100%|██████████| 20/20 [00:00<00:00, 136.95it/s]\n"
     ]
    },
    {
     "name": "stdout",
     "output_type": "stream",
     "text": [
      "Test Accuracy for Meta-Classifier with Base Model GaussianNB: 0.9\n",
      "-------------------------------\n",
      "Meta-Classifier with Base Model GRADIENTBOOSTINGCLASSIFIER\n"
     ]
    },
    {
     "name": "stderr",
     "output_type": "stream",
     "text": [
      "Training Base Models: 100%|██████████| 5/5 [00:02<00:00,  2.21it/s]\n",
      "Testing Instances: 100%|██████████| 20/20 [00:00<00:00, 120.45it/s]\n"
     ]
    },
    {
     "name": "stdout",
     "output_type": "stream",
     "text": [
      "Test Accuracy for Meta-Classifier with Base Model GradientBoostingClassifier: 0.85\n",
      "-------------------------------\n",
      "Meta-Classifier with Base Model KNEIGHBORSCLASSIFIER\n"
     ]
    },
    {
     "name": "stderr",
     "output_type": "stream",
     "text": [
      "Training Base Models: 100%|██████████| 5/5 [00:00<00:00, 11.26it/s]\n",
      "Testing Instances: 100%|██████████| 20/20 [00:02<00:00,  9.71it/s]\n"
     ]
    },
    {
     "name": "stdout",
     "output_type": "stream",
     "text": [
      "Test Accuracy for Meta-Classifier with Base Model KNeighborsClassifier: 0.5\n",
      "-------------------------------\n",
      "Meta-Classifier with Base Model LINEARDISCRIMINANTANALYSIS\n"
     ]
    },
    {
     "name": "stderr",
     "output_type": "stream",
     "text": [
      "Training Base Models: 100%|██████████| 5/5 [00:00<00:00, 10.84it/s]\n",
      "Testing Instances: 100%|██████████| 20/20 [00:00<00:00, 135.11it/s]\n"
     ]
    },
    {
     "name": "stdout",
     "output_type": "stream",
     "text": [
      "Test Accuracy for Meta-Classifier with Base Model LinearDiscriminantAnalysis: 0.65\n",
      "-------------------------------\n",
      "Meta-Classifier with Base Model LOGISTICREGRESSION\n"
     ]
    },
    {
     "name": "stderr",
     "output_type": "stream",
     "text": [
      "Training Base Models: 100%|██████████| 5/5 [00:00<00:00,  9.56it/s]\n",
      "Testing Instances: 100%|██████████| 20/20 [00:00<00:00, 148.12it/s]\n"
     ]
    },
    {
     "name": "stdout",
     "output_type": "stream",
     "text": [
      "Test Accuracy for Meta-Classifier with Base Model LogisticRegression: 0.75\n",
      "-------------------------------\n",
      "Meta-Classifier with Base Model MLPCLASSIFIER\n"
     ]
    },
    {
     "name": "stderr",
     "output_type": "stream",
     "text": [
      "Training Base Models: 100%|██████████| 5/5 [00:00<00:00,  5.32it/s]\n",
      "Testing Instances: 100%|██████████| 20/20 [00:00<00:00, 128.18it/s]\n"
     ]
    },
    {
     "name": "stdout",
     "output_type": "stream",
     "text": [
      "Test Accuracy for Meta-Classifier with Base Model MLPClassifier: 0.85\n",
      "-------------------------------\n",
      "Meta-Classifier with Base Model QUADRATICDISCRIMINANTANALYSIS\n"
     ]
    },
    {
     "name": "stderr",
     "output_type": "stream",
     "text": [
      "Training Base Models: 100%|██████████| 5/5 [00:00<00:00, 10.96it/s]\n",
      "Testing Instances: 100%|██████████| 20/20 [00:00<00:00, 130.69it/s]\n"
     ]
    },
    {
     "name": "stdout",
     "output_type": "stream",
     "text": [
      "Test Accuracy for Meta-Classifier with Base Model QuadraticDiscriminantAnalysis: 0.5\n",
      "-------------------------------\n",
      "Meta-Classifier with Base Model RANDOMFORESTCLASSIFIER\n"
     ]
    },
    {
     "name": "stderr",
     "output_type": "stream",
     "text": [
      "Training Base Models: 100%|██████████| 5/5 [00:01<00:00,  4.15it/s]\n",
      "Testing Instances: 100%|██████████| 20/20 [00:01<00:00, 12.91it/s]\n"
     ]
    },
    {
     "name": "stdout",
     "output_type": "stream",
     "text": [
      "Test Accuracy for Meta-Classifier with Base Model RandomForestClassifier: 0.8\n",
      "-------------------------------\n",
      "An error occurred while training or testing with VotingClassifier: VotingClassifier.__init__() missing 1 required positional argument: 'estimators'\n",
      "-------------------------------\n",
      "Meta-Classifier with Base Model ADABOOSTCLASSIFIER\n"
     ]
    },
    {
     "name": "stderr",
     "output_type": "stream",
     "text": [
      "Training Base Models: 100%|██████████| 5/5 [00:00<00:00,  5.00it/s]\n",
      "Testing Instances: 100%|██████████| 150/150 [00:08<00:00, 17.76it/s]\n"
     ]
    },
    {
     "name": "stdout",
     "output_type": "stream",
     "text": [
      "Test Accuracy for Meta-Classifier with Base Model AdaBoostClassifier: 0.98\n",
      "-------------------------------\n",
      "Meta-Classifier with Base Model BAGGINGCLASSIFIER\n"
     ]
    },
    {
     "name": "stderr",
     "output_type": "stream",
     "text": [
      "Training Base Models: 100%|██████████| 5/5 [00:00<00:00,  8.93it/s]\n",
      "Testing Instances: 100%|██████████| 150/150 [00:01<00:00, 76.10it/s]\n"
     ]
    },
    {
     "name": "stdout",
     "output_type": "stream",
     "text": [
      "Test Accuracy for Meta-Classifier with Base Model BaggingClassifier: 0.9866666666666667\n",
      "-------------------------------\n",
      "Meta-Classifier with Base Model BERNOULLINB\n"
     ]
    },
    {
     "name": "stderr",
     "output_type": "stream",
     "text": [
      "Training Base Models: 100%|██████████| 5/5 [00:00<00:00, 10.99it/s]\n",
      "Testing Instances: 100%|██████████| 150/150 [00:00<00:00, 239.18it/s]\n"
     ]
    },
    {
     "name": "stdout",
     "output_type": "stream",
     "text": [
      "Test Accuracy for Meta-Classifier with Base Model BernoulliNB: 0.3333333333333333\n",
      "-------------------------------\n",
      "Meta-Classifier with Base Model CALIBRATEDCLASSIFIERCV\n"
     ]
    },
    {
     "name": "stderr",
     "output_type": "stream",
     "text": [
      "Training Base Models: 100%|██████████| 5/5 [00:00<00:00,  7.03it/s]\n",
      "Testing Instances: 100%|██████████| 150/150 [00:02<00:00, 62.41it/s]\n"
     ]
    },
    {
     "name": "stdout",
     "output_type": "stream",
     "text": [
      "Test Accuracy for Meta-Classifier with Base Model CalibratedClassifierCV: 0.92\n",
      "-------------------------------\n",
      "Meta-Classifier with Base Model DECISIONTREECLASSIFIER\n"
     ]
    },
    {
     "name": "stderr",
     "output_type": "stream",
     "text": [
      "Training Base Models: 100%|██████████| 5/5 [00:00<00:00, 11.11it/s]\n",
      "Testing Instances: 100%|██████████| 150/150 [00:00<00:00, 361.36it/s]\n"
     ]
    },
    {
     "name": "stdout",
     "output_type": "stream",
     "text": [
      "Test Accuracy for Meta-Classifier with Base Model DecisionTreeClassifier: 0.7266666666666667\n",
      "-------------------------------\n",
      "Meta-Classifier with Base Model DUMMYCLASSIFIER\n"
     ]
    },
    {
     "name": "stderr",
     "output_type": "stream",
     "text": [
      "Training Base Models: 100%|██████████| 5/5 [00:00<00:00, 11.97it/s]\n",
      "Testing Instances: 100%|██████████| 150/150 [00:00<00:00, 506.64it/s]\n"
     ]
    },
    {
     "name": "stdout",
     "output_type": "stream",
     "text": [
      "Test Accuracy for Meta-Classifier with Base Model DummyClassifier: 0.3333333333333333\n",
      "-------------------------------\n",
      "Meta-Classifier with Base Model EXTRATREECLASSIFIER\n"
     ]
    },
    {
     "name": "stderr",
     "output_type": "stream",
     "text": [
      "Training Base Models: 100%|██████████| 5/5 [00:00<00:00, 11.99it/s]\n",
      "Testing Instances: 100%|██████████| 150/150 [00:00<00:00, 361.78it/s]\n"
     ]
    },
    {
     "name": "stdout",
     "output_type": "stream",
     "text": [
      "Test Accuracy for Meta-Classifier with Base Model ExtraTreeClassifier: 0.92\n",
      "-------------------------------\n",
      "Meta-Classifier with Base Model EXTRATREESCLASSIFIER\n"
     ]
    },
    {
     "name": "stderr",
     "output_type": "stream",
     "text": [
      "Training Base Models: 100%|██████████| 5/5 [00:00<00:00,  5.06it/s]\n",
      "Testing Instances: 100%|██████████| 150/150 [00:11<00:00, 13.56it/s]\n"
     ]
    },
    {
     "name": "stdout",
     "output_type": "stream",
     "text": [
      "Test Accuracy for Meta-Classifier with Base Model ExtraTreesClassifier: 0.9666666666666667\n",
      "-------------------------------\n",
      "Meta-Classifier with Base Model GAUSSIANNB\n"
     ]
    },
    {
     "name": "stderr",
     "output_type": "stream",
     "text": [
      "Training Base Models: 100%|██████████| 5/5 [00:00<00:00, 11.39it/s]\n",
      "Testing Instances: 100%|██████████| 150/150 [00:00<00:00, 301.42it/s]\n"
     ]
    },
    {
     "name": "stdout",
     "output_type": "stream",
     "text": [
      "Test Accuracy for Meta-Classifier with Base Model GaussianNB: 0.9666666666666667\n",
      "-------------------------------\n",
      "Meta-Classifier with Base Model GRADIENTBOOSTINGCLASSIFIER\n"
     ]
    },
    {
     "name": "stderr",
     "output_type": "stream",
     "text": [
      "Training Base Models: 100%|██████████| 5/5 [00:03<00:00,  1.58it/s]\n",
      "Testing Instances: 100%|██████████| 150/150 [00:00<00:00, 190.89it/s]\n"
     ]
    },
    {
     "name": "stdout",
     "output_type": "stream",
     "text": [
      "Test Accuracy for Meta-Classifier with Base Model GradientBoostingClassifier: 0.9733333333333334\n",
      "-------------------------------\n",
      "Meta-Classifier with Base Model KNEIGHBORSCLASSIFIER\n"
     ]
    },
    {
     "name": "stderr",
     "output_type": "stream",
     "text": [
      "Training Base Models: 100%|██████████| 5/5 [00:00<00:00, 11.39it/s]\n",
      "Testing Instances: 100%|██████████| 150/150 [00:14<00:00, 10.16it/s]\n"
     ]
    },
    {
     "name": "stdout",
     "output_type": "stream",
     "text": [
      "Test Accuracy for Meta-Classifier with Base Model KNeighborsClassifier: 0.8666666666666667\n",
      "-------------------------------\n",
      "Meta-Classifier with Base Model LINEARDISCRIMINANTANALYSIS\n"
     ]
    },
    {
     "name": "stderr",
     "output_type": "stream",
     "text": [
      "Training Base Models: 100%|██████████| 5/5 [00:00<00:00, 10.94it/s]\n",
      "Testing Instances: 100%|██████████| 150/150 [00:00<00:00, 344.75it/s]\n"
     ]
    },
    {
     "name": "stdout",
     "output_type": "stream",
     "text": [
      "Test Accuracy for Meta-Classifier with Base Model LinearDiscriminantAnalysis: 0.9333333333333333\n",
      "-------------------------------\n",
      "Meta-Classifier with Base Model LOGISTICREGRESSION\n"
     ]
    },
    {
     "name": "stderr",
     "output_type": "stream",
     "text": [
      "Training Base Models: 100%|██████████| 5/5 [00:00<00:00,  9.50it/s]\n",
      "Testing Instances: 100%|██████████| 150/150 [00:00<00:00, 355.39it/s]\n"
     ]
    },
    {
     "name": "stdout",
     "output_type": "stream",
     "text": [
      "Test Accuracy for Meta-Classifier with Base Model LogisticRegression: 0.8866666666666667\n",
      "-------------------------------\n",
      "Meta-Classifier with Base Model MLPCLASSIFIER\n"
     ]
    },
    {
     "name": "stderr",
     "output_type": "stream",
     "text": [
      "Training Base Models: 100%|██████████| 5/5 [00:01<00:00,  4.73it/s]\n",
      "Testing Instances: 100%|██████████| 150/150 [00:00<00:00, 349.82it/s]\n"
     ]
    },
    {
     "name": "stdout",
     "output_type": "stream",
     "text": [
      "Test Accuracy for Meta-Classifier with Base Model MLPClassifier: 0.86\n",
      "-------------------------------\n",
      "Meta-Classifier with Base Model QUADRATICDISCRIMINANTANALYSIS\n"
     ]
    },
    {
     "name": "stderr",
     "output_type": "stream",
     "text": [
      "Training Base Models: 100%|██████████| 5/5 [00:00<00:00, 10.51it/s]\n",
      "Testing Instances: 100%|██████████| 150/150 [00:00<00:00, 317.05it/s]\n"
     ]
    },
    {
     "name": "stdout",
     "output_type": "stream",
     "text": [
      "Test Accuracy for Meta-Classifier with Base Model QuadraticDiscriminantAnalysis: 0.3333333333333333\n",
      "-------------------------------\n",
      "Meta-Classifier with Base Model RANDOMFORESTCLASSIFIER\n"
     ]
    },
    {
     "name": "stderr",
     "output_type": "stream",
     "text": [
      "Training Base Models: 100%|██████████| 5/5 [00:01<00:00,  4.21it/s]\n",
      "Testing Instances: 100%|██████████| 150/150 [00:11<00:00, 13.45it/s]\n"
     ]
    },
    {
     "name": "stdout",
     "output_type": "stream",
     "text": [
      "Test Accuracy for Meta-Classifier with Base Model RandomForestClassifier: 0.98\n",
      "-------------------------------\n",
      "An error occurred while training or testing with VotingClassifier: VotingClassifier.__init__() missing 1 required positional argument: 'estimators'\n",
      "-------------------------------\n",
      "Meta-Classifier with Base Model ADABOOSTCLASSIFIER\n"
     ]
    },
    {
     "name": "stderr",
     "output_type": "stream",
     "text": [
      "Training Base Models: 100%|██████████| 5/5 [00:02<00:00,  1.97it/s]\n",
      "Testing Instances: 100%|██████████| 60/60 [00:03<00:00, 16.13it/s]\n"
     ]
    },
    {
     "name": "stdout",
     "output_type": "stream",
     "text": [
      "Test Accuracy for Meta-Classifier with Base Model AdaBoostClassifier: 0.31666666666666665\n",
      "-------------------------------\n",
      "Meta-Classifier with Base Model BAGGINGCLASSIFIER\n"
     ]
    },
    {
     "name": "stderr",
     "output_type": "stream",
     "text": [
      "Training Base Models: 100%|██████████| 5/5 [00:01<00:00,  4.30it/s]\n",
      "Testing Instances: 100%|██████████| 60/60 [00:01<00:00, 55.34it/s]\n"
     ]
    },
    {
     "name": "stdout",
     "output_type": "stream",
     "text": [
      "Test Accuracy for Meta-Classifier with Base Model BaggingClassifier: 0.65\n",
      "-------------------------------\n",
      "Meta-Classifier with Base Model BERNOULLINB\n"
     ]
    },
    {
     "name": "stderr",
     "output_type": "stream",
     "text": [
      "Training Base Models: 100%|██████████| 5/5 [00:00<00:00, 10.56it/s]\n",
      "Testing Instances: 100%|██████████| 60/60 [00:00<00:00, 107.89it/s]\n"
     ]
    },
    {
     "name": "stdout",
     "output_type": "stream",
     "text": [
      "Test Accuracy for Meta-Classifier with Base Model BernoulliNB: 0.21666666666666667\n",
      "-------------------------------\n",
      "Meta-Classifier with Base Model CALIBRATEDCLASSIFIERCV\n"
     ]
    },
    {
     "name": "stderr",
     "output_type": "stream",
     "text": [
      "Training Base Models: 100%|██████████| 5/5 [00:03<00:00,  1.47it/s]\n",
      "Testing Instances: 100%|██████████| 60/60 [00:01<00:00, 44.42it/s]\n"
     ]
    },
    {
     "name": "stdout",
     "output_type": "stream",
     "text": [
      "Test Accuracy for Meta-Classifier with Base Model CalibratedClassifierCV: 0.8666666666666667\n",
      "-------------------------------\n",
      "Meta-Classifier with Base Model DECISIONTREECLASSIFIER\n"
     ]
    },
    {
     "name": "stderr",
     "output_type": "stream",
     "text": [
      "Training Base Models: 100%|██████████| 5/5 [00:00<00:00,  9.67it/s]\n",
      "Testing Instances: 100%|██████████| 60/60 [00:00<00:00, 129.84it/s]\n"
     ]
    },
    {
     "name": "stdout",
     "output_type": "stream",
     "text": [
      "Test Accuracy for Meta-Classifier with Base Model DecisionTreeClassifier: 0.31666666666666665\n",
      "-------------------------------\n",
      "Meta-Classifier with Base Model DUMMYCLASSIFIER\n"
     ]
    },
    {
     "name": "stderr",
     "output_type": "stream",
     "text": [
      "Training Base Models: 100%|██████████| 5/5 [00:00<00:00, 12.05it/s]\n",
      "Testing Instances: 100%|██████████| 60/60 [00:00<00:00, 146.83it/s]\n"
     ]
    },
    {
     "name": "stdout",
     "output_type": "stream",
     "text": [
      "Test Accuracy for Meta-Classifier with Base Model DummyClassifier: 0.21666666666666667\n",
      "-------------------------------\n",
      "Meta-Classifier with Base Model EXTRATREECLASSIFIER\n"
     ]
    },
    {
     "name": "stderr",
     "output_type": "stream",
     "text": [
      "Training Base Models: 100%|██████████| 5/5 [00:00<00:00, 11.10it/s]\n",
      "Testing Instances: 100%|██████████| 60/60 [00:00<00:00, 130.69it/s]\n"
     ]
    },
    {
     "name": "stdout",
     "output_type": "stream",
     "text": [
      "Test Accuracy for Meta-Classifier with Base Model ExtraTreeClassifier: 0.6666666666666666\n",
      "-------------------------------\n",
      "Meta-Classifier with Base Model EXTRATREESCLASSIFIER\n"
     ]
    },
    {
     "name": "stderr",
     "output_type": "stream",
     "text": [
      "Training Base Models: 100%|██████████| 5/5 [00:01<00:00,  4.63it/s]\n",
      "Testing Instances: 100%|██████████| 60/60 [00:04<00:00, 12.74it/s]\n"
     ]
    },
    {
     "name": "stdout",
     "output_type": "stream",
     "text": [
      "Test Accuracy for Meta-Classifier with Base Model ExtraTreesClassifier: 0.7333333333333333\n",
      "-------------------------------\n",
      "Meta-Classifier with Base Model GAUSSIANNB\n"
     ]
    },
    {
     "name": "stderr",
     "output_type": "stream",
     "text": [
      "Training Base Models: 100%|██████████| 5/5 [00:00<00:00, 11.93it/s]\n",
      "Testing Instances: 100%|██████████| 60/60 [00:00<00:00, 118.19it/s]\n"
     ]
    },
    {
     "name": "stdout",
     "output_type": "stream",
     "text": [
      "Test Accuracy for Meta-Classifier with Base Model GaussianNB: 0.5666666666666667\n",
      "-------------------------------\n",
      "Meta-Classifier with Base Model GRADIENTBOOSTINGCLASSIFIER\n"
     ]
    },
    {
     "name": "stderr",
     "output_type": "stream",
     "text": [
      "Training Base Models: 100%|██████████| 5/5 [00:41<00:00,  8.22s/it]\n",
      "Testing Instances: 100%|██████████| 60/60 [00:00<00:00, 92.07it/s]\n"
     ]
    },
    {
     "name": "stdout",
     "output_type": "stream",
     "text": [
      "Test Accuracy for Meta-Classifier with Base Model GradientBoostingClassifier: 0.7\n",
      "-------------------------------\n",
      "Meta-Classifier with Base Model KNEIGHBORSCLASSIFIER\n"
     ]
    },
    {
     "name": "stderr",
     "output_type": "stream",
     "text": [
      "Training Base Models: 100%|██████████| 5/5 [00:00<00:00, 11.47it/s]\n",
      "Testing Instances: 100%|██████████| 60/60 [00:07<00:00,  7.90it/s]\n"
     ]
    },
    {
     "name": "stdout",
     "output_type": "stream",
     "text": [
      "Test Accuracy for Meta-Classifier with Base Model KNeighborsClassifier: 0.6833333333333333\n",
      "-------------------------------\n",
      "Meta-Classifier with Base Model LINEARDISCRIMINANTANALYSIS\n"
     ]
    },
    {
     "name": "stderr",
     "output_type": "stream",
     "text": [
      "Training Base Models: 100%|██████████| 5/5 [00:00<00:00, 10.50it/s]\n",
      "Testing Instances: 100%|██████████| 60/60 [00:00<00:00, 127.09it/s]\n"
     ]
    },
    {
     "name": "stdout",
     "output_type": "stream",
     "text": [
      "Test Accuracy for Meta-Classifier with Base Model LinearDiscriminantAnalysis: 0.4666666666666667\n",
      "-------------------------------\n",
      "Meta-Classifier with Base Model LOGISTICREGRESSION\n"
     ]
    },
    {
     "name": "stderr",
     "output_type": "stream",
     "text": [
      "Training Base Models: 100%|██████████| 5/5 [00:00<00:00,  7.43it/s]\n",
      "Testing Instances: 100%|██████████| 60/60 [00:00<00:00, 126.02it/s]\n"
     ]
    },
    {
     "name": "stdout",
     "output_type": "stream",
     "text": [
      "Test Accuracy for Meta-Classifier with Base Model LogisticRegression: 0.8166666666666667\n",
      "-------------------------------\n",
      "Meta-Classifier with Base Model MLPCLASSIFIER\n"
     ]
    },
    {
     "name": "stderr",
     "output_type": "stream",
     "text": [
      "Training Base Models: 100%|██████████| 5/5 [00:01<00:00,  3.09it/s]\n",
      "Testing Instances: 100%|██████████| 60/60 [00:00<00:00, 122.54it/s]\n"
     ]
    },
    {
     "name": "stdout",
     "output_type": "stream",
     "text": [
      "Test Accuracy for Meta-Classifier with Base Model MLPClassifier: 0.8333333333333334\n",
      "-------------------------------\n",
      "Meta-Classifier with Base Model QUADRATICDISCRIMINANTANALYSIS\n"
     ]
    },
    {
     "name": "stderr",
     "output_type": "stream",
     "text": [
      "Training Base Models: 100%|██████████| 5/5 [00:00<00:00, 11.18it/s]\n",
      "Testing Instances: 100%|██████████| 60/60 [00:00<00:00, 118.20it/s]\n"
     ]
    },
    {
     "name": "stdout",
     "output_type": "stream",
     "text": [
      "Test Accuracy for Meta-Classifier with Base Model QuadraticDiscriminantAnalysis: 0.23333333333333334\n",
      "-------------------------------\n",
      "Meta-Classifier with Base Model RANDOMFORESTCLASSIFIER\n"
     ]
    },
    {
     "name": "stderr",
     "output_type": "stream",
     "text": [
      "Training Base Models: 100%|██████████| 5/5 [00:01<00:00,  3.26it/s]\n",
      "Testing Instances: 100%|██████████| 60/60 [00:04<00:00, 12.87it/s]\n"
     ]
    },
    {
     "name": "stdout",
     "output_type": "stream",
     "text": [
      "Test Accuracy for Meta-Classifier with Base Model RandomForestClassifier: 0.6833333333333333\n",
      "-------------------------------\n",
      "An error occurred while training or testing with VotingClassifier: VotingClassifier.__init__() missing 1 required positional argument: 'estimators'\n",
      "-------------------------------\n",
      "Meta-Classifier with Base Model ADABOOSTCLASSIFIER\n"
     ]
    },
    {
     "name": "stderr",
     "output_type": "stream",
     "text": [
      "Training Base Models: 100%|██████████| 5/5 [00:01<00:00,  4.91it/s]\n",
      "Testing Instances: 100%|██████████| 900/900 [00:50<00:00, 17.73it/s]\n"
     ]
    },
    {
     "name": "stdout",
     "output_type": "stream",
     "text": [
      "Test Accuracy for Meta-Classifier with Base Model AdaBoostClassifier: 0.88\n",
      "-------------------------------\n",
      "Meta-Classifier with Base Model BAGGINGCLASSIFIER\n"
     ]
    },
    {
     "name": "stderr",
     "output_type": "stream",
     "text": [
      "Training Base Models: 100%|██████████| 5/5 [00:00<00:00,  8.49it/s]\n",
      "Testing Instances: 100%|██████████| 900/900 [00:11<00:00, 76.06it/s]\n"
     ]
    },
    {
     "name": "stdout",
     "output_type": "stream",
     "text": [
      "Test Accuracy for Meta-Classifier with Base Model BaggingClassifier: 0.9111111111111111\n",
      "-------------------------------\n",
      "Meta-Classifier with Base Model BERNOULLINB\n"
     ]
    },
    {
     "name": "stderr",
     "output_type": "stream",
     "text": [
      "Training Base Models: 100%|██████████| 5/5 [00:00<00:00, 10.33it/s]\n",
      "Testing Instances: 100%|██████████| 900/900 [00:03<00:00, 248.06it/s]\n"
     ]
    },
    {
     "name": "stdout",
     "output_type": "stream",
     "text": [
      "Test Accuracy for Meta-Classifier with Base Model BernoulliNB: 0.33111111111111113\n",
      "-------------------------------\n",
      "Meta-Classifier with Base Model CALIBRATEDCLASSIFIERCV\n"
     ]
    },
    {
     "name": "stderr",
     "output_type": "stream",
     "text": [
      "Training Base Models: 100%|██████████| 5/5 [00:00<00:00,  7.24it/s]\n",
      "Testing Instances: 100%|██████████| 900/900 [00:14<00:00, 61.19it/s]\n"
     ]
    },
    {
     "name": "stdout",
     "output_type": "stream",
     "text": [
      "Test Accuracy for Meta-Classifier with Base Model CalibratedClassifierCV: 0.8744444444444445\n",
      "-------------------------------\n",
      "Meta-Classifier with Base Model DECISIONTREECLASSIFIER\n"
     ]
    },
    {
     "name": "stderr",
     "output_type": "stream",
     "text": [
      "Training Base Models: 100%|██████████| 5/5 [00:00<00:00, 11.48it/s]\n",
      "Testing Instances: 100%|██████████| 900/900 [00:02<00:00, 352.99it/s]\n"
     ]
    },
    {
     "name": "stdout",
     "output_type": "stream",
     "text": [
      "Test Accuracy for Meta-Classifier with Base Model DecisionTreeClassifier: 0.8\n",
      "-------------------------------\n",
      "Meta-Classifier with Base Model DUMMYCLASSIFIER\n"
     ]
    },
    {
     "name": "stderr",
     "output_type": "stream",
     "text": [
      "Training Base Models: 100%|██████████| 5/5 [00:00<00:00, 11.90it/s]\n",
      "Testing Instances: 100%|██████████| 900/900 [00:01<00:00, 502.63it/s]\n"
     ]
    },
    {
     "name": "stdout",
     "output_type": "stream",
     "text": [
      "Test Accuracy for Meta-Classifier with Base Model DummyClassifier: 0.33111111111111113\n",
      "-------------------------------\n",
      "Meta-Classifier with Base Model EXTRATREECLASSIFIER\n"
     ]
    },
    {
     "name": "stderr",
     "output_type": "stream",
     "text": [
      "Training Base Models: 100%|██████████| 5/5 [00:00<00:00, 10.91it/s]\n",
      "Testing Instances: 100%|██████████| 900/900 [00:02<00:00, 354.90it/s]\n"
     ]
    },
    {
     "name": "stdout",
     "output_type": "stream",
     "text": [
      "Test Accuracy for Meta-Classifier with Base Model ExtraTreeClassifier: 0.6166666666666667\n",
      "-------------------------------\n",
      "Meta-Classifier with Base Model EXTRATREESCLASSIFIER\n"
     ]
    },
    {
     "name": "stderr",
     "output_type": "stream",
     "text": [
      "Training Base Models: 100%|██████████| 5/5 [00:00<00:00,  5.16it/s]\n",
      "Testing Instances: 100%|██████████| 900/900 [01:07<00:00, 13.41it/s]\n"
     ]
    },
    {
     "name": "stdout",
     "output_type": "stream",
     "text": [
      "Test Accuracy for Meta-Classifier with Base Model ExtraTreesClassifier: 0.9711111111111111\n",
      "-------------------------------\n",
      "Meta-Classifier with Base Model GAUSSIANNB\n"
     ]
    },
    {
     "name": "stderr",
     "output_type": "stream",
     "text": [
      "Training Base Models: 100%|██████████| 5/5 [00:00<00:00, 10.51it/s]\n",
      "Testing Instances: 100%|██████████| 900/900 [00:02<00:00, 302.24it/s]\n"
     ]
    },
    {
     "name": "stdout",
     "output_type": "stream",
     "text": [
      "Test Accuracy for Meta-Classifier with Base Model GaussianNB: 0.9133333333333333\n",
      "-------------------------------\n",
      "Meta-Classifier with Base Model GRADIENTBOOSTINGCLASSIFIER\n"
     ]
    },
    {
     "name": "stderr",
     "output_type": "stream",
     "text": [
      "Training Base Models: 100%|██████████| 5/5 [00:04<00:00,  1.20it/s]\n",
      "Testing Instances: 100%|██████████| 900/900 [00:04<00:00, 187.22it/s]\n"
     ]
    },
    {
     "name": "stdout",
     "output_type": "stream",
     "text": [
      "Test Accuracy for Meta-Classifier with Base Model GradientBoostingClassifier: 0.9\n",
      "-------------------------------\n",
      "Meta-Classifier with Base Model KNEIGHBORSCLASSIFIER\n"
     ]
    },
    {
     "name": "stderr",
     "output_type": "stream",
     "text": [
      "Training Base Models: 100%|██████████| 5/5 [00:00<00:00, 12.02it/s]\n",
      "Testing Instances: 100%|██████████| 900/900 [01:27<00:00, 10.26it/s]\n"
     ]
    },
    {
     "name": "stdout",
     "output_type": "stream",
     "text": [
      "Test Accuracy for Meta-Classifier with Base Model KNeighborsClassifier: 0.92\n",
      "-------------------------------\n",
      "Meta-Classifier with Base Model LINEARDISCRIMINANTANALYSIS\n"
     ]
    },
    {
     "name": "stderr",
     "output_type": "stream",
     "text": [
      "Training Base Models: 100%|██████████| 5/5 [00:00<00:00, 11.04it/s]\n",
      "Testing Instances: 100%|██████████| 900/900 [00:02<00:00, 368.53it/s]\n"
     ]
    },
    {
     "name": "stdout",
     "output_type": "stream",
     "text": [
      "Test Accuracy for Meta-Classifier with Base Model LinearDiscriminantAnalysis: 0.8188888888888889\n",
      "-------------------------------\n",
      "Meta-Classifier with Base Model LOGISTICREGRESSION\n"
     ]
    },
    {
     "name": "stderr",
     "output_type": "stream",
     "text": [
      "Training Base Models: 100%|██████████| 5/5 [00:00<00:00,  9.06it/s]\n",
      "Testing Instances: 100%|██████████| 900/900 [00:02<00:00, 373.85it/s]\n"
     ]
    },
    {
     "name": "stdout",
     "output_type": "stream",
     "text": [
      "Test Accuracy for Meta-Classifier with Base Model LogisticRegression: 0.8655555555555555\n",
      "-------------------------------\n",
      "Meta-Classifier with Base Model MLPCLASSIFIER\n"
     ]
    },
    {
     "name": "stderr",
     "output_type": "stream",
     "text": [
      "Training Base Models: 100%|██████████| 5/5 [00:00<00:00,  5.29it/s]\n",
      "Testing Instances: 100%|██████████| 900/900 [00:02<00:00, 369.91it/s]\n"
     ]
    },
    {
     "name": "stdout",
     "output_type": "stream",
     "text": [
      "Test Accuracy for Meta-Classifier with Base Model MLPClassifier: 0.8733333333333333\n",
      "-------------------------------\n",
      "Meta-Classifier with Base Model QUADRATICDISCRIMINANTANALYSIS\n"
     ]
    },
    {
     "name": "stderr",
     "output_type": "stream",
     "text": [
      "Training Base Models: 100%|██████████| 5/5 [00:00<00:00, 10.77it/s]\n",
      "Testing Instances: 100%|██████████| 900/900 [00:02<00:00, 315.93it/s]\n"
     ]
    },
    {
     "name": "stdout",
     "output_type": "stream",
     "text": [
      "Test Accuracy for Meta-Classifier with Base Model QuadraticDiscriminantAnalysis: 0.3333333333333333\n",
      "-------------------------------\n",
      "Meta-Classifier with Base Model RANDOMFORESTCLASSIFIER\n"
     ]
    },
    {
     "name": "stderr",
     "output_type": "stream",
     "text": [
      "Training Base Models: 100%|██████████| 5/5 [00:01<00:00,  4.20it/s]\n",
      "Testing Instances: 100%|██████████| 900/900 [01:06<00:00, 13.46it/s]\n"
     ]
    },
    {
     "name": "stdout",
     "output_type": "stream",
     "text": [
      "Test Accuracy for Meta-Classifier with Base Model RandomForestClassifier: 0.8877777777777778\n",
      "-------------------------------\n",
      "An error occurred while training or testing with VotingClassifier: VotingClassifier.__init__() missing 1 required positional argument: 'estimators'\n",
      "-------------------------------\n",
      "Meta-Classifier with Base Model ADABOOSTCLASSIFIER\n"
     ]
    },
    {
     "name": "stderr",
     "output_type": "stream",
     "text": [
      "Training Base Models: 100%|██████████| 5/5 [00:00<00:00,  8.37it/s]\n",
      "Testing Instances: 100%|██████████| 343/343 [00:07<00:00, 48.57it/s]\n"
     ]
    },
    {
     "name": "stdout",
     "output_type": "stream",
     "text": [
      "Test Accuracy for Meta-Classifier with Base Model AdaBoostClassifier: 0.8104956268221575\n",
      "-------------------------------\n",
      "Meta-Classifier with Base Model BAGGINGCLASSIFIER\n"
     ]
    },
    {
     "name": "stderr",
     "output_type": "stream",
     "text": [
      "Training Base Models: 100%|██████████| 5/5 [00:00<00:00,  9.25it/s]\n",
      "Testing Instances: 100%|██████████| 343/343 [00:04<00:00, 82.78it/s]\n"
     ]
    },
    {
     "name": "stdout",
     "output_type": "stream",
     "text": [
      "Test Accuracy for Meta-Classifier with Base Model BaggingClassifier: 0.9825072886297376\n",
      "-------------------------------\n",
      "Meta-Classifier with Base Model BERNOULLINB\n"
     ]
    },
    {
     "name": "stderr",
     "output_type": "stream",
     "text": [
      "Training Base Models: 100%|██████████| 5/5 [00:00<00:00, 11.10it/s]\n",
      "Testing Instances: 100%|██████████| 343/343 [00:00<00:00, 346.39it/s]\n"
     ]
    },
    {
     "name": "stdout",
     "output_type": "stream",
     "text": [
      "Test Accuracy for Meta-Classifier with Base Model BernoulliNB: 0.27405247813411077\n",
      "-------------------------------\n",
      "Meta-Classifier with Base Model CALIBRATEDCLASSIFIERCV\n"
     ]
    },
    {
     "name": "stderr",
     "output_type": "stream",
     "text": [
      "Training Base Models: 100%|██████████| 5/5 [00:00<00:00,  9.51it/s]\n",
      "Testing Instances: 100%|██████████| 343/343 [00:04<00:00, 81.51it/s]\n"
     ]
    },
    {
     "name": "stdout",
     "output_type": "stream",
     "text": [
      "Test Accuracy for Meta-Classifier with Base Model CalibratedClassifierCV: 0.9795918367346939\n",
      "-------------------------------\n",
      "Meta-Classifier with Base Model DECISIONTREECLASSIFIER\n"
     ]
    },
    {
     "name": "stderr",
     "output_type": "stream",
     "text": [
      "Training Base Models: 100%|██████████| 5/5 [00:00<00:00, 12.02it/s]\n",
      "Testing Instances: 100%|██████████| 343/343 [00:00<00:00, 616.77it/s]\n"
     ]
    },
    {
     "name": "stdout",
     "output_type": "stream",
     "text": [
      "Test Accuracy for Meta-Classifier with Base Model DecisionTreeClassifier: 0.9825072886297376\n",
      "-------------------------------\n",
      "Meta-Classifier with Base Model DUMMYCLASSIFIER\n"
     ]
    },
    {
     "name": "stderr",
     "output_type": "stream",
     "text": [
      "Training Base Models: 100%|██████████| 5/5 [00:00<00:00, 11.94it/s]\n",
      "Testing Instances: 100%|██████████| 343/343 [00:00<00:00, 1106.06it/s]\n"
     ]
    },
    {
     "name": "stdout",
     "output_type": "stream",
     "text": [
      "Test Accuracy for Meta-Classifier with Base Model DummyClassifier: 0.27405247813411077\n",
      "-------------------------------\n",
      "Meta-Classifier with Base Model EXTRATREECLASSIFIER\n"
     ]
    },
    {
     "name": "stderr",
     "output_type": "stream",
     "text": [
      "Training Base Models: 100%|██████████| 5/5 [00:00<00:00, 11.82it/s]\n",
      "Testing Instances: 100%|██████████| 343/343 [00:00<00:00, 606.94it/s]\n"
     ]
    },
    {
     "name": "stdout",
     "output_type": "stream",
     "text": [
      "Test Accuracy for Meta-Classifier with Base Model ExtraTreeClassifier: 0.7084548104956269\n",
      "-------------------------------\n",
      "Meta-Classifier with Base Model EXTRATREESCLASSIFIER\n"
     ]
    },
    {
     "name": "stderr",
     "output_type": "stream",
     "text": [
      "Training Base Models: 100%|██████████| 5/5 [00:00<00:00,  5.33it/s]\n",
      "Testing Instances: 100%|██████████| 343/343 [00:25<00:00, 13.59it/s]\n"
     ]
    },
    {
     "name": "stdout",
     "output_type": "stream",
     "text": [
      "Test Accuracy for Meta-Classifier with Base Model ExtraTreesClassifier: 0.9795918367346939\n",
      "-------------------------------\n",
      "Meta-Classifier with Base Model GAUSSIANNB\n"
     ]
    },
    {
     "name": "stderr",
     "output_type": "stream",
     "text": [
      "Training Base Models: 100%|██████████| 5/5 [00:00<00:00, 11.82it/s]\n",
      "Testing Instances: 100%|██████████| 343/343 [00:00<00:00, 506.89it/s]\n"
     ]
    },
    {
     "name": "stdout",
     "output_type": "stream",
     "text": [
      "Test Accuracy for Meta-Classifier with Base Model GaussianNB: 0.9737609329446064\n",
      "-------------------------------\n",
      "Meta-Classifier with Base Model GRADIENTBOOSTINGCLASSIFIER\n"
     ]
    },
    {
     "name": "stderr",
     "output_type": "stream",
     "text": [
      "Training Base Models: 100%|██████████| 5/5 [00:00<00:00,  6.58it/s]\n",
      "Testing Instances: 100%|██████████| 343/343 [00:01<00:00, 331.96it/s]\n"
     ]
    },
    {
     "name": "stdout",
     "output_type": "stream",
     "text": [
      "Test Accuracy for Meta-Classifier with Base Model GradientBoostingClassifier: 0.9854227405247813\n",
      "-------------------------------\n",
      "Meta-Classifier with Base Model KNEIGHBORSCLASSIFIER\n"
     ]
    },
    {
     "name": "stderr",
     "output_type": "stream",
     "text": [
      "Training Base Models: 100%|██████████| 5/5 [00:00<00:00, 11.93it/s]\n",
      "Testing Instances: 100%|██████████| 343/343 [00:25<00:00, 13.46it/s]\n"
     ]
    },
    {
     "name": "stdout",
     "output_type": "stream",
     "text": [
      "Test Accuracy for Meta-Classifier with Base Model KNeighborsClassifier: 0.8629737609329446\n",
      "-------------------------------\n",
      "Meta-Classifier with Base Model LINEARDISCRIMINANTANALYSIS\n"
     ]
    },
    {
     "name": "stderr",
     "output_type": "stream",
     "text": [
      "Training Base Models: 100%|██████████| 5/5 [00:00<00:00, 10.91it/s]\n",
      "Testing Instances: 100%|██████████| 343/343 [00:00<00:00, 655.01it/s]\n"
     ]
    },
    {
     "name": "stdout",
     "output_type": "stream",
     "text": [
      "Test Accuracy for Meta-Classifier with Base Model LinearDiscriminantAnalysis: 0.9708454810495627\n",
      "-------------------------------\n",
      "Meta-Classifier with Base Model LOGISTICREGRESSION\n"
     ]
    },
    {
     "name": "stderr",
     "output_type": "stream",
     "text": [
      "Training Base Models: 100%|██████████| 5/5 [00:00<00:00, 10.53it/s]\n",
      "Testing Instances: 100%|██████████| 343/343 [00:00<00:00, 679.01it/s]\n"
     ]
    },
    {
     "name": "stdout",
     "output_type": "stream",
     "text": [
      "Test Accuracy for Meta-Classifier with Base Model LogisticRegression: 0.9766763848396501\n",
      "-------------------------------\n",
      "Meta-Classifier with Base Model MLPCLASSIFIER\n"
     ]
    },
    {
     "name": "stderr",
     "output_type": "stream",
     "text": [
      "Training Base Models: 100%|██████████| 5/5 [00:00<00:00,  9.06it/s]\n",
      "Testing Instances: 100%|██████████| 343/343 [00:00<00:00, 630.92it/s]\n"
     ]
    },
    {
     "name": "stdout",
     "output_type": "stream",
     "text": [
      "Test Accuracy for Meta-Classifier with Base Model MLPClassifier: 0.9650145772594753\n",
      "-------------------------------\n",
      "Meta-Classifier with Base Model QUADRATICDISCRIMINANTANALYSIS\n"
     ]
    },
    {
     "name": "stderr",
     "output_type": "stream",
     "text": [
      "Training Base Models: 100%|██████████| 5/5 [00:00<00:00, 11.16it/s]\n"
     ]
    },
    {
     "name": "stdout",
     "output_type": "stream",
     "text": [
      "An error occurred while training or testing with QuadraticDiscriminantAnalysis: Input X contains NaN.\n",
      "QuadraticDiscriminantAnalysis does not accept missing values encoded as NaN natively. For supervised learning, you might want to consider sklearn.ensemble.HistGradientBoostingClassifier and Regressor which accept missing values encoded as NaNs natively. Alternatively, it is possible to preprocess the data, for instance by using an imputer transformer in a pipeline or drop samples with missing values. See https://scikit-learn.org/stable/modules/impute.html You can find a list of all estimators that handle NaN values at the following page: https://scikit-learn.org/stable/modules/impute.html#estimators-that-handle-nan-values\n",
      "-------------------------------\n",
      "Meta-Classifier with Base Model RANDOMFORESTCLASSIFIER\n"
     ]
    },
    {
     "name": "stderr",
     "output_type": "stream",
     "text": [
      "Training Base Models: 100%|██████████| 5/5 [00:01<00:00,  4.30it/s]\n",
      "Testing Instances: 100%|██████████| 343/343 [00:25<00:00, 13.60it/s]\n"
     ]
    },
    {
     "name": "stdout",
     "output_type": "stream",
     "text": [
      "Test Accuracy for Meta-Classifier with Base Model RandomForestClassifier: 0.9795918367346939\n",
      "-------------------------------\n",
      "An error occurred while training or testing with VotingClassifier: VotingClassifier.__init__() missing 1 required positional argument: 'estimators'\n",
      "-------------------------------\n",
      "Meta-Classifier with Base Model ADABOOSTCLASSIFIER\n"
     ]
    },
    {
     "name": "stderr",
     "output_type": "stream",
     "text": [
      "Training Base Models: 100%|██████████| 5/5 [00:04<00:00,  1.02it/s]\n",
      "Testing Instances: 100%|██████████| 3840/3840 [03:37<00:00, 17.69it/s]\n"
     ]
    },
    {
     "name": "stdout",
     "output_type": "stream",
     "text": [
      "Test Accuracy for Meta-Classifier with Base Model AdaBoostClassifier: 0.52890625\n",
      "-------------------------------\n",
      "Meta-Classifier with Base Model BAGGINGCLASSIFIER\n"
     ]
    },
    {
     "name": "stderr",
     "output_type": "stream",
     "text": [
      "Training Base Models: 100%|██████████| 5/5 [00:06<00:00,  1.38s/it]\n",
      "Testing Instances: 100%|██████████| 3840/3840 [00:52<00:00, 72.62it/s]\n"
     ]
    },
    {
     "name": "stdout",
     "output_type": "stream",
     "text": [
      "Test Accuracy for Meta-Classifier with Base Model BaggingClassifier: 0.75859375\n",
      "-------------------------------\n",
      "Meta-Classifier with Base Model BERNOULLINB\n"
     ]
    },
    {
     "name": "stderr",
     "output_type": "stream",
     "text": [
      "Training Base Models: 100%|██████████| 5/5 [00:00<00:00, 10.26it/s]\n",
      "Testing Instances: 100%|██████████| 3840/3840 [00:17<00:00, 222.55it/s]\n"
     ]
    },
    {
     "name": "stdout",
     "output_type": "stream",
     "text": [
      "Test Accuracy for Meta-Classifier with Base Model BernoulliNB: 0.5325520833333334\n",
      "-------------------------------\n",
      "Meta-Classifier with Base Model CALIBRATEDCLASSIFIERCV\n"
     ]
    },
    {
     "name": "stderr",
     "output_type": "stream",
     "text": [
      "Training Base Models: 100%|██████████| 5/5 [00:02<00:00,  1.96it/s]\n",
      "Testing Instances: 100%|██████████| 3840/3840 [01:05<00:00, 58.21it/s]\n"
     ]
    },
    {
     "name": "stdout",
     "output_type": "stream",
     "text": [
      "Test Accuracy for Meta-Classifier with Base Model CalibratedClassifierCV: 0.73671875\n",
      "-------------------------------\n",
      "Meta-Classifier with Base Model DECISIONTREECLASSIFIER\n"
     ]
    },
    {
     "name": "stderr",
     "output_type": "stream",
     "text": [
      "Training Base Models: 100%|██████████| 5/5 [00:01<00:00,  4.11it/s]\n",
      "Testing Instances: 100%|██████████| 3840/3840 [00:12<00:00, 301.11it/s]\n"
     ]
    },
    {
     "name": "stdout",
     "output_type": "stream",
     "text": [
      "Test Accuracy for Meta-Classifier with Base Model DecisionTreeClassifier: 0.6361979166666667\n",
      "-------------------------------\n",
      "Meta-Classifier with Base Model DUMMYCLASSIFIER\n"
     ]
    },
    {
     "name": "stderr",
     "output_type": "stream",
     "text": [
      "Training Base Models: 100%|██████████| 5/5 [00:00<00:00, 11.93it/s]\n",
      "Testing Instances: 100%|██████████| 3840/3840 [00:09<00:00, 406.29it/s]\n"
     ]
    },
    {
     "name": "stdout",
     "output_type": "stream",
     "text": [
      "Test Accuracy for Meta-Classifier with Base Model DummyClassifier: 0.5325520833333334\n",
      "-------------------------------\n",
      "Meta-Classifier with Base Model EXTRATREECLASSIFIER\n"
     ]
    },
    {
     "name": "stderr",
     "output_type": "stream",
     "text": [
      "Training Base Models: 100%|██████████| 5/5 [00:00<00:00, 10.74it/s]\n",
      "Testing Instances: 100%|██████████| 3840/3840 [00:12<00:00, 307.09it/s]\n"
     ]
    },
    {
     "name": "stdout",
     "output_type": "stream",
     "text": [
      "Test Accuracy for Meta-Classifier with Base Model ExtraTreeClassifier: 0.6385416666666667\n",
      "-------------------------------\n",
      "Meta-Classifier with Base Model EXTRATREESCLASSIFIER\n"
     ]
    },
    {
     "name": "stderr",
     "output_type": "stream",
     "text": [
      "Training Base Models: 100%|██████████| 5/5 [00:01<00:00,  2.96it/s]\n",
      "Testing Instances: 100%|██████████| 3840/3840 [04:48<00:00, 13.29it/s]\n"
     ]
    },
    {
     "name": "stdout",
     "output_type": "stream",
     "text": [
      "Test Accuracy for Meta-Classifier with Base Model ExtraTreesClassifier: 0.7385416666666667\n",
      "-------------------------------\n",
      "Meta-Classifier with Base Model GAUSSIANNB\n"
     ]
    },
    {
     "name": "stderr",
     "output_type": "stream",
     "text": [
      "Training Base Models: 100%|██████████| 5/5 [00:00<00:00, 11.65it/s]\n",
      "Testing Instances: 100%|██████████| 3840/3840 [00:14<00:00, 262.27it/s]\n"
     ]
    },
    {
     "name": "stdout",
     "output_type": "stream",
     "text": [
      "Test Accuracy for Meta-Classifier with Base Model GaussianNB: 0.37161458333333336\n",
      "-------------------------------\n",
      "Meta-Classifier with Base Model GRADIENTBOOSTINGCLASSIFIER\n"
     ]
    },
    {
     "name": "stderr",
     "output_type": "stream",
     "text": [
      "Training Base Models: 100%|██████████| 5/5 [01:13<00:00, 14.67s/it]\n",
      "Testing Instances: 100%|██████████| 3840/3840 [00:22<00:00, 168.08it/s]\n"
     ]
    },
    {
     "name": "stdout",
     "output_type": "stream",
     "text": [
      "Test Accuracy for Meta-Classifier with Base Model GradientBoostingClassifier: 0.7692708333333333\n",
      "-------------------------------\n",
      "Meta-Classifier with Base Model KNEIGHBORSCLASSIFIER\n"
     ]
    },
    {
     "name": "stderr",
     "output_type": "stream",
     "text": [
      "Training Base Models: 100%|██████████| 5/5 [00:00<00:00, 11.80it/s]\n",
      "Testing Instances: 100%|██████████| 3840/3840 [06:56<00:00,  9.22it/s]\n"
     ]
    },
    {
     "name": "stdout",
     "output_type": "stream",
     "text": [
      "Test Accuracy for Meta-Classifier with Base Model KNeighborsClassifier: 0.5200520833333333\n",
      "-------------------------------\n",
      "Meta-Classifier with Base Model LINEARDISCRIMINANTANALYSIS\n"
     ]
    },
    {
     "name": "stderr",
     "output_type": "stream",
     "text": [
      "Training Base Models: 100%|██████████| 5/5 [00:00<00:00,  7.52it/s]\n",
      "Testing Instances: 100%|██████████| 3840/3840 [00:13<00:00, 289.73it/s]\n"
     ]
    },
    {
     "name": "stdout",
     "output_type": "stream",
     "text": [
      "Test Accuracy for Meta-Classifier with Base Model LinearDiscriminantAnalysis: 0.8786458333333333\n",
      "-------------------------------\n",
      "Meta-Classifier with Base Model LOGISTICREGRESSION\n"
     ]
    },
    {
     "name": "stderr",
     "output_type": "stream",
     "text": [
      "Training Base Models: 100%|██████████| 5/5 [00:00<00:00,  6.82it/s]\n",
      "Testing Instances: 100%|██████████| 3840/3840 [00:13<00:00, 290.22it/s]\n"
     ]
    },
    {
     "name": "stdout",
     "output_type": "stream",
     "text": [
      "Test Accuracy for Meta-Classifier with Base Model LogisticRegression: 0.6072916666666667\n",
      "-------------------------------\n",
      "Meta-Classifier with Base Model MLPCLASSIFIER\n"
     ]
    },
    {
     "name": "stderr",
     "output_type": "stream",
     "text": [
      "Training Base Models: 100%|██████████| 5/5 [00:03<00:00,  1.43it/s]\n",
      "Testing Instances: 100%|██████████| 3840/3840 [00:13<00:00, 281.78it/s]\n"
     ]
    },
    {
     "name": "stdout",
     "output_type": "stream",
     "text": [
      "Test Accuracy for Meta-Classifier with Base Model MLPClassifier: 0.6736979166666667\n",
      "-------------------------------\n",
      "Meta-Classifier with Base Model QUADRATICDISCRIMINANTANALYSIS\n"
     ]
    },
    {
     "name": "stderr",
     "output_type": "stream",
     "text": [
      "Training Base Models: 100%|██████████| 5/5 [00:00<00:00,  8.78it/s]\n"
     ]
    },
    {
     "name": "stdout",
     "output_type": "stream",
     "text": [
      "An error occurred while training or testing with QuadraticDiscriminantAnalysis: Input X contains NaN.\n",
      "QuadraticDiscriminantAnalysis does not accept missing values encoded as NaN natively. For supervised learning, you might want to consider sklearn.ensemble.HistGradientBoostingClassifier and Regressor which accept missing values encoded as NaNs natively. Alternatively, it is possible to preprocess the data, for instance by using an imputer transformer in a pipeline or drop samples with missing values. See https://scikit-learn.org/stable/modules/impute.html You can find a list of all estimators that handle NaN values at the following page: https://scikit-learn.org/stable/modules/impute.html#estimators-that-handle-nan-values\n",
      "-------------------------------\n",
      "Meta-Classifier with Base Model RANDOMFORESTCLASSIFIER\n"
     ]
    },
    {
     "name": "stderr",
     "output_type": "stream",
     "text": [
      "Training Base Models: 100%|██████████| 5/5 [00:06<00:00,  1.28s/it]\n",
      "Testing Instances: 100%|██████████| 3840/3840 [05:12<00:00, 12.28it/s]\n"
     ]
    },
    {
     "name": "stdout",
     "output_type": "stream",
     "text": [
      "Test Accuracy for Meta-Classifier with Base Model RandomForestClassifier: 0.7380208333333333\n",
      "-------------------------------\n",
      "An error occurred while training or testing with VotingClassifier: VotingClassifier.__init__() missing 1 required positional argument: 'estimators'\n",
      "-------------------------------\n",
      "Meta-Classifier with Base Model ADABOOSTCLASSIFIER\n"
     ]
    },
    {
     "name": "stderr",
     "output_type": "stream",
     "text": [
      "Training Base Models: 100%|██████████| 5/5 [00:04<00:00,  1.12it/s]\n",
      "Testing Instances: 100%|██████████| 1380/1380 [01:47<00:00, 12.85it/s]\n"
     ]
    },
    {
     "name": "stdout",
     "output_type": "stream",
     "text": [
      "Test Accuracy for Meta-Classifier with Base Model AdaBoostClassifier: 0.5427536231884058\n",
      "-------------------------------\n",
      "Meta-Classifier with Base Model BAGGINGCLASSIFIER\n"
     ]
    },
    {
     "name": "stderr",
     "output_type": "stream",
     "text": [
      "Training Base Models: 100%|██████████| 5/5 [00:01<00:00,  3.07it/s]\n",
      "Testing Instances: 100%|██████████| 1380/1380 [00:44<00:00, 31.20it/s]\n"
     ]
    },
    {
     "name": "stdout",
     "output_type": "stream",
     "text": [
      "Test Accuracy for Meta-Classifier with Base Model BaggingClassifier: 0.7913043478260869\n",
      "-------------------------------\n",
      "Meta-Classifier with Base Model BERNOULLINB\n"
     ]
    },
    {
     "name": "stderr",
     "output_type": "stream",
     "text": [
      "Training Base Models: 100%|██████████| 5/5 [00:00<00:00,  8.47it/s]\n",
      "Testing Instances: 100%|██████████| 1380/1380 [00:30<00:00, 44.65it/s]\n"
     ]
    },
    {
     "name": "stdout",
     "output_type": "stream",
     "text": [
      "Test Accuracy for Meta-Classifier with Base Model BernoulliNB: 0.24782608695652175\n",
      "-------------------------------\n",
      "Meta-Classifier with Base Model CALIBRATEDCLASSIFIERCV\n"
     ]
    },
    {
     "name": "stderr",
     "output_type": "stream",
     "text": [
      "Training Base Models: 100%|██████████| 5/5 [00:03<00:00,  1.29it/s]\n",
      "Testing Instances: 100%|██████████| 1380/1380 [00:50<00:00, 27.54it/s]\n"
     ]
    },
    {
     "name": "stdout",
     "output_type": "stream",
     "text": [
      "Test Accuracy for Meta-Classifier with Base Model CalibratedClassifierCV: 0.7608695652173914\n",
      "-------------------------------\n",
      "Meta-Classifier with Base Model DECISIONTREECLASSIFIER\n"
     ]
    },
    {
     "name": "stderr",
     "output_type": "stream",
     "text": [
      "Training Base Models: 100%|██████████| 5/5 [00:00<00:00,  7.49it/s]\n",
      "Testing Instances: 100%|██████████| 1380/1380 [00:28<00:00, 48.67it/s]\n"
     ]
    },
    {
     "name": "stdout",
     "output_type": "stream",
     "text": [
      "Test Accuracy for Meta-Classifier with Base Model DecisionTreeClassifier: 0.5702898550724638\n",
      "-------------------------------\n",
      "Meta-Classifier with Base Model DUMMYCLASSIFIER\n"
     ]
    },
    {
     "name": "stderr",
     "output_type": "stream",
     "text": [
      "Training Base Models: 100%|██████████| 5/5 [00:00<00:00, 10.99it/s]\n",
      "Testing Instances: 100%|██████████| 1380/1380 [00:27<00:00, 51.07it/s]\n"
     ]
    },
    {
     "name": "stdout",
     "output_type": "stream",
     "text": [
      "Test Accuracy for Meta-Classifier with Base Model DummyClassifier: 0.24782608695652175\n",
      "-------------------------------\n",
      "Meta-Classifier with Base Model EXTRATREECLASSIFIER\n"
     ]
    },
    {
     "name": "stderr",
     "output_type": "stream",
     "text": [
      "Training Base Models: 100%|██████████| 5/5 [00:00<00:00, 10.36it/s]\n",
      "Testing Instances: 100%|██████████| 1380/1380 [00:28<00:00, 48.20it/s]\n"
     ]
    },
    {
     "name": "stdout",
     "output_type": "stream",
     "text": [
      "Test Accuracy for Meta-Classifier with Base Model ExtraTreeClassifier: 0.6065217391304348\n",
      "-------------------------------\n",
      "Meta-Classifier with Base Model EXTRATREESCLASSIFIER\n"
     ]
    },
    {
     "name": "stderr",
     "output_type": "stream",
     "text": [
      "Training Base Models: 100%|██████████| 5/5 [00:01<00:00,  4.29it/s]\n",
      "Testing Instances: 100%|██████████| 1380/1380 [02:11<00:00, 10.49it/s]\n"
     ]
    },
    {
     "name": "stdout",
     "output_type": "stream",
     "text": [
      "Test Accuracy for Meta-Classifier with Base Model ExtraTreesClassifier: 0.8739130434782608\n",
      "-------------------------------\n",
      "Meta-Classifier with Base Model GAUSSIANNB\n"
     ]
    },
    {
     "name": "stderr",
     "output_type": "stream",
     "text": [
      "Training Base Models: 100%|██████████| 5/5 [00:00<00:00, 10.59it/s]\n",
      "Testing Instances: 100%|██████████| 1380/1380 [00:30<00:00, 45.87it/s]\n"
     ]
    },
    {
     "name": "stdout",
     "output_type": "stream",
     "text": [
      "Test Accuracy for Meta-Classifier with Base Model GaussianNB: 0.8739130434782608\n",
      "-------------------------------\n",
      "Meta-Classifier with Base Model GRADIENTBOOSTINGCLASSIFIER\n"
     ]
    },
    {
     "name": "stderr",
     "output_type": "stream",
     "text": [
      "Training Base Models: 100%|██████████| 5/5 [01:09<00:00, 13.97s/it]\n",
      "Testing Instances: 100%|██████████| 1380/1380 [00:34<00:00, 39.78it/s]\n"
     ]
    },
    {
     "name": "stdout",
     "output_type": "stream",
     "text": [
      "Test Accuracy for Meta-Classifier with Base Model GradientBoostingClassifier: 0.8507246376811595\n",
      "-------------------------------\n",
      "Meta-Classifier with Base Model KNEIGHBORSCLASSIFIER\n"
     ]
    },
    {
     "name": "stderr",
     "output_type": "stream",
     "text": [
      "Training Base Models: 100%|██████████| 5/5 [00:00<00:00, 11.08it/s]\n",
      "Testing Instances: 100%|██████████| 1380/1380 [03:22<00:00,  6.81it/s]\n"
     ]
    },
    {
     "name": "stdout",
     "output_type": "stream",
     "text": [
      "Test Accuracy for Meta-Classifier with Base Model KNeighborsClassifier: 0.8898550724637682\n",
      "-------------------------------\n",
      "Meta-Classifier with Base Model LINEARDISCRIMINANTANALYSIS\n"
     ]
    },
    {
     "name": "stderr",
     "output_type": "stream",
     "text": [
      "Training Base Models: 100%|██████████| 5/5 [00:00<00:00,  9.11it/s]\n",
      "Testing Instances: 100%|██████████| 1380/1380 [00:27<00:00, 50.39it/s]\n"
     ]
    },
    {
     "name": "stdout",
     "output_type": "stream",
     "text": [
      "Test Accuracy for Meta-Classifier with Base Model LinearDiscriminantAnalysis: 0.42028985507246375\n",
      "-------------------------------\n",
      "Meta-Classifier with Base Model LOGISTICREGRESSION\n"
     ]
    },
    {
     "name": "stderr",
     "output_type": "stream",
     "text": [
      "Training Base Models: 100%|██████████| 5/5 [00:00<00:00,  5.76it/s]\n",
      "Testing Instances: 100%|██████████| 1380/1380 [00:27<00:00, 49.31it/s]\n"
     ]
    },
    {
     "name": "stdout",
     "output_type": "stream",
     "text": [
      "Test Accuracy for Meta-Classifier with Base Model LogisticRegression: 0.5173913043478261\n",
      "-------------------------------\n",
      "Meta-Classifier with Base Model MLPCLASSIFIER\n"
     ]
    },
    {
     "name": "stderr",
     "output_type": "stream",
     "text": [
      "Training Base Models: 100%|██████████| 5/5 [00:01<00:00,  2.93it/s]\n",
      "Testing Instances: 100%|██████████| 1380/1380 [00:28<00:00, 47.87it/s]\n"
     ]
    },
    {
     "name": "stdout",
     "output_type": "stream",
     "text": [
      "Test Accuracy for Meta-Classifier with Base Model MLPClassifier: 0.8268115942028985\n",
      "-------------------------------\n",
      "Meta-Classifier with Base Model QUADRATICDISCRIMINANTANALYSIS\n"
     ]
    },
    {
     "name": "stderr",
     "output_type": "stream",
     "text": [
      "Training Base Models: 100%|██████████| 5/5 [00:00<00:00,  9.52it/s]\n",
      "Testing Instances: 100%|██████████| 1380/1380 [00:28<00:00, 47.90it/s]\n"
     ]
    },
    {
     "name": "stdout",
     "output_type": "stream",
     "text": [
      "Test Accuracy for Meta-Classifier with Base Model QuadraticDiscriminantAnalysis: 0.2536231884057971\n",
      "-------------------------------\n",
      "Meta-Classifier with Base Model RANDOMFORESTCLASSIFIER\n"
     ]
    },
    {
     "name": "stderr",
     "output_type": "stream",
     "text": [
      "Training Base Models: 100%|██████████| 5/5 [00:01<00:00,  3.20it/s]\n",
      "Testing Instances: 100%|██████████| 1380/1380 [02:07<00:00, 10.81it/s]\n"
     ]
    },
    {
     "name": "stdout",
     "output_type": "stream",
     "text": [
      "Test Accuracy for Meta-Classifier with Base Model RandomForestClassifier: 0.8471014492753624\n",
      "-------------------------------\n",
      "An error occurred while training or testing with VotingClassifier: VotingClassifier.__init__() missing 1 required positional argument: 'estimators'\n",
      "-------------------------------\n",
      "Meta-Classifier with Base Model ADABOOSTCLASSIFIER\n"
     ]
    },
    {
     "name": "stderr",
     "output_type": "stream",
     "text": [
      "Training Base Models: 100%|██████████| 5/5 [00:00<00:00,  9.26it/s]\n",
      "Testing Instances: 100%|██████████| 28/28 [00:00<00:00, 65.48it/s]\n"
     ]
    },
    {
     "name": "stdout",
     "output_type": "stream",
     "text": [
      "Test Accuracy for Meta-Classifier with Base Model AdaBoostClassifier: 0.9642857142857143\n",
      "-------------------------------\n",
      "Meta-Classifier with Base Model BAGGINGCLASSIFIER\n"
     ]
    },
    {
     "name": "stderr",
     "output_type": "stream",
     "text": [
      "Training Base Models: 100%|██████████| 5/5 [00:00<00:00,  8.37it/s]\n",
      "Testing Instances: 100%|██████████| 28/28 [00:00<00:00, 66.06it/s]\n"
     ]
    },
    {
     "name": "stdout",
     "output_type": "stream",
     "text": [
      "Test Accuracy for Meta-Classifier with Base Model BaggingClassifier: 0.9642857142857143\n",
      "-------------------------------\n",
      "Meta-Classifier with Base Model BERNOULLINB\n"
     ]
    },
    {
     "name": "stderr",
     "output_type": "stream",
     "text": [
      "Training Base Models: 100%|██████████| 5/5 [00:00<00:00,  9.98it/s]\n",
      "Testing Instances: 100%|██████████| 28/28 [00:00<00:00, 147.33it/s]\n"
     ]
    },
    {
     "name": "stdout",
     "output_type": "stream",
     "text": [
      "Test Accuracy for Meta-Classifier with Base Model BernoulliNB: 0.5357142857142857\n",
      "-------------------------------\n",
      "Meta-Classifier with Base Model CALIBRATEDCLASSIFIERCV\n"
     ]
    },
    {
     "name": "stderr",
     "output_type": "stream",
     "text": [
      "Training Base Models: 100%|██████████| 5/5 [00:00<00:00,  7.14it/s]\n",
      "Testing Instances: 100%|██████████| 28/28 [00:00<00:00, 63.29it/s]\n"
     ]
    },
    {
     "name": "stdout",
     "output_type": "stream",
     "text": [
      "Test Accuracy for Meta-Classifier with Base Model CalibratedClassifierCV: 1.0\n",
      "-------------------------------\n",
      "Meta-Classifier with Base Model DECISIONTREECLASSIFIER\n"
     ]
    },
    {
     "name": "stderr",
     "output_type": "stream",
     "text": [
      "Training Base Models: 100%|██████████| 5/5 [00:00<00:00, 11.45it/s]\n",
      "Testing Instances: 100%|██████████| 28/28 [00:00<00:00, 207.36it/s]\n"
     ]
    },
    {
     "name": "stdout",
     "output_type": "stream",
     "text": [
      "Test Accuracy for Meta-Classifier with Base Model DecisionTreeClassifier: 0.9642857142857143\n",
      "-------------------------------\n",
      "Meta-Classifier with Base Model DUMMYCLASSIFIER\n"
     ]
    },
    {
     "name": "stderr",
     "output_type": "stream",
     "text": [
      "Training Base Models: 100%|██████████| 5/5 [00:00<00:00, 10.87it/s]\n",
      "Testing Instances: 100%|██████████| 28/28 [00:00<00:00, 254.49it/s]\n"
     ]
    },
    {
     "name": "stdout",
     "output_type": "stream",
     "text": [
      "Test Accuracy for Meta-Classifier with Base Model DummyClassifier: 0.5357142857142857\n",
      "-------------------------------\n",
      "Meta-Classifier with Base Model EXTRATREECLASSIFIER\n"
     ]
    },
    {
     "name": "stderr",
     "output_type": "stream",
     "text": [
      "Training Base Models: 100%|██████████| 5/5 [00:00<00:00, 11.48it/s]\n",
      "Testing Instances: 100%|██████████| 28/28 [00:00<00:00, 215.34it/s]\n"
     ]
    },
    {
     "name": "stdout",
     "output_type": "stream",
     "text": [
      "Test Accuracy for Meta-Classifier with Base Model ExtraTreeClassifier: 0.75\n",
      "-------------------------------\n",
      "Meta-Classifier with Base Model EXTRATREESCLASSIFIER\n"
     ]
    },
    {
     "name": "stderr",
     "output_type": "stream",
     "text": [
      "Training Base Models: 100%|██████████| 5/5 [00:01<00:00,  5.00it/s]\n",
      "Testing Instances: 100%|██████████| 28/28 [00:02<00:00, 12.84it/s]\n"
     ]
    },
    {
     "name": "stdout",
     "output_type": "stream",
     "text": [
      "Test Accuracy for Meta-Classifier with Base Model ExtraTreesClassifier: 1.0\n",
      "-------------------------------\n",
      "Meta-Classifier with Base Model GAUSSIANNB\n"
     ]
    },
    {
     "name": "stderr",
     "output_type": "stream",
     "text": [
      "Training Base Models: 100%|██████████| 5/5 [00:00<00:00, 11.68it/s]\n",
      "Testing Instances: 100%|██████████| 28/28 [00:00<00:00, 202.85it/s]\n"
     ]
    },
    {
     "name": "stdout",
     "output_type": "stream",
     "text": [
      "Test Accuracy for Meta-Classifier with Base Model GaussianNB: 0.9285714285714286\n",
      "-------------------------------\n",
      "Meta-Classifier with Base Model GRADIENTBOOSTINGCLASSIFIER\n"
     ]
    },
    {
     "name": "stderr",
     "output_type": "stream",
     "text": [
      "Training Base Models: 100%|██████████| 5/5 [00:01<00:00,  3.27it/s]\n",
      "Testing Instances: 100%|██████████| 28/28 [00:00<00:00, 163.71it/s]\n"
     ]
    },
    {
     "name": "stdout",
     "output_type": "stream",
     "text": [
      "Test Accuracy for Meta-Classifier with Base Model GradientBoostingClassifier: 0.9642857142857143\n",
      "-------------------------------\n",
      "Meta-Classifier with Base Model KNEIGHBORSCLASSIFIER\n"
     ]
    },
    {
     "name": "stderr",
     "output_type": "stream",
     "text": [
      "Training Base Models: 100%|██████████| 5/5 [00:00<00:00, 10.53it/s]\n",
      "Testing Instances: 100%|██████████| 28/28 [00:03<00:00,  9.05it/s]\n"
     ]
    },
    {
     "name": "stdout",
     "output_type": "stream",
     "text": [
      "Test Accuracy for Meta-Classifier with Base Model KNeighborsClassifier: 0.9642857142857143\n",
      "-------------------------------\n",
      "Meta-Classifier with Base Model LINEARDISCRIMINANTANALYSIS\n"
     ]
    },
    {
     "name": "stderr",
     "output_type": "stream",
     "text": [
      "Training Base Models: 100%|██████████| 5/5 [00:00<00:00, 10.53it/s]\n",
      "Testing Instances: 100%|██████████| 28/28 [00:00<00:00, 205.84it/s]\n"
     ]
    },
    {
     "name": "stdout",
     "output_type": "stream",
     "text": [
      "Test Accuracy for Meta-Classifier with Base Model LinearDiscriminantAnalysis: 1.0\n",
      "-------------------------------\n",
      "Meta-Classifier with Base Model LOGISTICREGRESSION\n"
     ]
    },
    {
     "name": "stderr",
     "output_type": "stream",
     "text": [
      "Training Base Models: 100%|██████████| 5/5 [00:00<00:00, 10.64it/s]\n",
      "Testing Instances: 100%|██████████| 28/28 [00:00<00:00, 225.78it/s]\n"
     ]
    },
    {
     "name": "stdout",
     "output_type": "stream",
     "text": [
      "Test Accuracy for Meta-Classifier with Base Model LogisticRegression: 1.0\n",
      "-------------------------------\n",
      "Meta-Classifier with Base Model MLPCLASSIFIER\n"
     ]
    },
    {
     "name": "stderr",
     "output_type": "stream",
     "text": [
      "Training Base Models: 100%|██████████| 5/5 [00:01<00:00,  4.07it/s]\n",
      "Testing Instances: 100%|██████████| 28/28 [00:00<00:00, 193.06it/s]\n"
     ]
    },
    {
     "name": "stdout",
     "output_type": "stream",
     "text": [
      "Test Accuracy for Meta-Classifier with Base Model MLPClassifier: 1.0\n",
      "-------------------------------\n",
      "Meta-Classifier with Base Model QUADRATICDISCRIMINANTANALYSIS\n"
     ]
    },
    {
     "name": "stderr",
     "output_type": "stream",
     "text": [
      "Training Base Models: 100%|██████████| 5/5 [00:00<00:00, 10.50it/s]\n"
     ]
    },
    {
     "name": "stdout",
     "output_type": "stream",
     "text": [
      "An error occurred while training or testing with QuadraticDiscriminantAnalysis: Input X contains NaN.\n",
      "QuadraticDiscriminantAnalysis does not accept missing values encoded as NaN natively. For supervised learning, you might want to consider sklearn.ensemble.HistGradientBoostingClassifier and Regressor which accept missing values encoded as NaNs natively. Alternatively, it is possible to preprocess the data, for instance by using an imputer transformer in a pipeline or drop samples with missing values. See https://scikit-learn.org/stable/modules/impute.html You can find a list of all estimators that handle NaN values at the following page: https://scikit-learn.org/stable/modules/impute.html#estimators-that-handle-nan-values\n",
      "-------------------------------\n",
      "Meta-Classifier with Base Model RANDOMFORESTCLASSIFIER\n"
     ]
    },
    {
     "name": "stderr",
     "output_type": "stream",
     "text": [
      "Training Base Models: 100%|██████████| 5/5 [00:01<00:00,  4.07it/s]\n",
      "Testing Instances: 100%|██████████| 28/28 [00:02<00:00, 12.59it/s]\n"
     ]
    },
    {
     "name": "stdout",
     "output_type": "stream",
     "text": [
      "Test Accuracy for Meta-Classifier with Base Model RandomForestClassifier: 1.0\n",
      "-------------------------------\n",
      "An error occurred while training or testing with VotingClassifier: VotingClassifier.__init__() missing 1 required positional argument: 'estimators'\n",
      "-------------------------------\n",
      "Meta-Classifier with Base Model ADABOOSTCLASSIFIER\n"
     ]
    },
    {
     "name": "stderr",
     "output_type": "stream",
     "text": [
      "Training Base Models: 100%|██████████| 5/5 [00:09<00:00,  1.83s/it]\n",
      "Testing Instances: 100%|██████████| 250/250 [00:14<00:00, 17.81it/s]\n"
     ]
    },
    {
     "name": "stdout",
     "output_type": "stream",
     "text": [
      "Test Accuracy for Meta-Classifier with Base Model AdaBoostClassifier: 0.62\n",
      "-------------------------------\n",
      "Meta-Classifier with Base Model BAGGINGCLASSIFIER\n"
     ]
    },
    {
     "name": "stderr",
     "output_type": "stream",
     "text": [
      "Training Base Models: 100%|██████████| 5/5 [00:06<00:00,  1.39s/it]\n",
      "Testing Instances: 100%|██████████| 250/250 [00:05<00:00, 49.82it/s]\n"
     ]
    },
    {
     "name": "stdout",
     "output_type": "stream",
     "text": [
      "Test Accuracy for Meta-Classifier with Base Model BaggingClassifier: 0.656\n",
      "-------------------------------\n",
      "Meta-Classifier with Base Model BERNOULLINB\n"
     ]
    },
    {
     "name": "stderr",
     "output_type": "stream",
     "text": [
      "Training Base Models: 100%|██████████| 5/5 [00:00<00:00, 10.57it/s]\n",
      "Testing Instances: 100%|██████████| 250/250 [00:02<00:00, 91.21it/s]\n"
     ]
    },
    {
     "name": "stdout",
     "output_type": "stream",
     "text": [
      "Test Accuracy for Meta-Classifier with Base Model BernoulliNB: 0.5\n",
      "-------------------------------\n",
      "Meta-Classifier with Base Model CALIBRATEDCLASSIFIERCV\n"
     ]
    },
    {
     "name": "stderr",
     "output_type": "stream",
     "text": [
      "Training Base Models: 100%|██████████| 5/5 [00:04<00:00,  1.12it/s]\n",
      "Testing Instances: 100%|██████████| 250/250 [00:05<00:00, 48.81it/s]\n"
     ]
    },
    {
     "name": "stdout",
     "output_type": "stream",
     "text": [
      "Test Accuracy for Meta-Classifier with Base Model CalibratedClassifierCV: 0.556\n",
      "-------------------------------\n",
      "Meta-Classifier with Base Model DECISIONTREECLASSIFIER\n"
     ]
    },
    {
     "name": "stderr",
     "output_type": "stream",
     "text": [
      "Training Base Models: 100%|██████████| 5/5 [00:01<00:00,  3.73it/s]\n",
      "Testing Instances: 100%|██████████| 250/250 [00:02<00:00, 104.40it/s]\n"
     ]
    },
    {
     "name": "stdout",
     "output_type": "stream",
     "text": [
      "Test Accuracy for Meta-Classifier with Base Model DecisionTreeClassifier: 0.58\n",
      "-------------------------------\n",
      "Meta-Classifier with Base Model DUMMYCLASSIFIER\n"
     ]
    },
    {
     "name": "stderr",
     "output_type": "stream",
     "text": [
      "Training Base Models: 100%|██████████| 5/5 [00:00<00:00, 11.77it/s]\n",
      "Testing Instances: 100%|██████████| 250/250 [00:02<00:00, 112.95it/s]\n"
     ]
    },
    {
     "name": "stdout",
     "output_type": "stream",
     "text": [
      "Test Accuracy for Meta-Classifier with Base Model DummyClassifier: 0.5\n",
      "-------------------------------\n",
      "Meta-Classifier with Base Model EXTRATREECLASSIFIER\n"
     ]
    },
    {
     "name": "stderr",
     "output_type": "stream",
     "text": [
      "Training Base Models: 100%|██████████| 5/5 [00:00<00:00, 11.23it/s]\n",
      "Testing Instances: 100%|██████████| 250/250 [00:02<00:00, 102.06it/s]\n"
     ]
    },
    {
     "name": "stdout",
     "output_type": "stream",
     "text": [
      "Test Accuracy for Meta-Classifier with Base Model ExtraTreeClassifier: 0.56\n",
      "-------------------------------\n",
      "Meta-Classifier with Base Model EXTRATREESCLASSIFIER\n"
     ]
    },
    {
     "name": "stderr",
     "output_type": "stream",
     "text": [
      "Training Base Models: 100%|██████████| 5/5 [00:01<00:00,  3.01it/s]\n",
      "Testing Instances: 100%|██████████| 250/250 [00:20<00:00, 12.20it/s]\n"
     ]
    },
    {
     "name": "stdout",
     "output_type": "stream",
     "text": [
      "Test Accuracy for Meta-Classifier with Base Model ExtraTreesClassifier: 0.608\n",
      "-------------------------------\n",
      "Meta-Classifier with Base Model GAUSSIANNB\n"
     ]
    },
    {
     "name": "stderr",
     "output_type": "stream",
     "text": [
      "Training Base Models: 100%|██████████| 5/5 [00:00<00:00, 11.32it/s]\n",
      "Testing Instances: 100%|██████████| 250/250 [00:02<00:00, 97.61it/s] \n"
     ]
    },
    {
     "name": "stdout",
     "output_type": "stream",
     "text": [
      "Test Accuracy for Meta-Classifier with Base Model GaussianNB: 0.584\n",
      "-------------------------------\n",
      "Meta-Classifier with Base Model GRADIENTBOOSTINGCLASSIFIER\n"
     ]
    },
    {
     "name": "stderr",
     "output_type": "stream",
     "text": [
      "Training Base Models: 100%|██████████| 5/5 [00:49<00:00,  9.85s/it]\n",
      "Testing Instances: 100%|██████████| 250/250 [00:02<00:00, 91.33it/s]\n"
     ]
    },
    {
     "name": "stdout",
     "output_type": "stream",
     "text": [
      "Test Accuracy for Meta-Classifier with Base Model GradientBoostingClassifier: 0.684\n",
      "-------------------------------\n",
      "Meta-Classifier with Base Model KNEIGHBORSCLASSIFIER\n"
     ]
    },
    {
     "name": "stderr",
     "output_type": "stream",
     "text": [
      "Training Base Models: 100%|██████████| 5/5 [00:00<00:00, 11.63it/s]\n",
      "Testing Instances: 100%|██████████| 250/250 [00:28<00:00,  8.88it/s]\n"
     ]
    },
    {
     "name": "stdout",
     "output_type": "stream",
     "text": [
      "Test Accuracy for Meta-Classifier with Base Model KNeighborsClassifier: 0.6\n",
      "-------------------------------\n",
      "Meta-Classifier with Base Model LINEARDISCRIMINANTANALYSIS\n"
     ]
    },
    {
     "name": "stderr",
     "output_type": "stream",
     "text": [
      "Training Base Models: 100%|██████████| 5/5 [00:01<00:00,  4.98it/s]\n",
      "Testing Instances: 100%|██████████| 250/250 [00:02<00:00, 104.92it/s]\n"
     ]
    },
    {
     "name": "stdout",
     "output_type": "stream",
     "text": [
      "Test Accuracy for Meta-Classifier with Base Model LinearDiscriminantAnalysis: 0.512\n",
      "-------------------------------\n",
      "Meta-Classifier with Base Model LOGISTICREGRESSION\n"
     ]
    },
    {
     "name": "stderr",
     "output_type": "stream",
     "text": [
      "Training Base Models: 100%|██████████| 5/5 [00:00<00:00,  7.73it/s]\n",
      "Testing Instances: 100%|██████████| 250/250 [00:02<00:00, 107.54it/s]\n"
     ]
    },
    {
     "name": "stdout",
     "output_type": "stream",
     "text": [
      "Test Accuracy for Meta-Classifier with Base Model LogisticRegression: 0.512\n",
      "-------------------------------\n",
      "Meta-Classifier with Base Model MLPCLASSIFIER\n"
     ]
    },
    {
     "name": "stderr",
     "output_type": "stream",
     "text": [
      "Training Base Models: 100%|██████████| 5/5 [00:03<00:00,  1.31it/s]\n",
      "Testing Instances: 100%|██████████| 250/250 [00:02<00:00, 103.43it/s]\n"
     ]
    },
    {
     "name": "stdout",
     "output_type": "stream",
     "text": [
      "Test Accuracy for Meta-Classifier with Base Model MLPClassifier: 0.6\n",
      "-------------------------------\n",
      "Meta-Classifier with Base Model QUADRATICDISCRIMINANTANALYSIS\n"
     ]
    },
    {
     "name": "stderr",
     "output_type": "stream",
     "text": [
      "Training Base Models: 100%|██████████| 5/5 [00:00<00:00,  9.17it/s]\n",
      "Testing Instances: 100%|██████████| 250/250 [00:02<00:00, 94.44it/s]\n"
     ]
    },
    {
     "name": "stdout",
     "output_type": "stream",
     "text": [
      "Test Accuracy for Meta-Classifier with Base Model QuadraticDiscriminantAnalysis: 0.5\n",
      "-------------------------------\n",
      "Meta-Classifier with Base Model RANDOMFORESTCLASSIFIER\n"
     ]
    },
    {
     "name": "stderr",
     "output_type": "stream",
     "text": [
      "Training Base Models: 100%|██████████| 5/5 [00:04<00:00,  1.21it/s]\n",
      "Testing Instances: 100%|██████████| 250/250 [00:20<00:00, 12.09it/s]\n"
     ]
    },
    {
     "name": "stdout",
     "output_type": "stream",
     "text": [
      "Test Accuracy for Meta-Classifier with Base Model RandomForestClassifier: 0.648\n",
      "-------------------------------\n",
      "An error occurred while training or testing with VotingClassifier: VotingClassifier.__init__() missing 1 required positional argument: 'estimators'\n",
      "-------------------------------\n",
      "Meta-Classifier with Base Model ADABOOSTCLASSIFIER\n"
     ]
    },
    {
     "name": "stderr",
     "output_type": "stream",
     "text": [
      "Training Base Models: 100%|██████████| 5/5 [00:07<00:00,  1.53s/it]\n",
      "Testing Instances: 100%|██████████| 390/390 [00:23<00:00, 16.43it/s]\n"
     ]
    },
    {
     "name": "stdout",
     "output_type": "stream",
     "text": [
      "Test Accuracy for Meta-Classifier with Base Model AdaBoostClassifier: 0.10512820512820513\n",
      "-------------------------------\n",
      "Meta-Classifier with Base Model BAGGINGCLASSIFIER\n"
     ]
    },
    {
     "name": "stderr",
     "output_type": "stream",
     "text": [
      "Training Base Models: 100%|██████████| 5/5 [00:07<00:00,  1.43s/it]\n",
      "Testing Instances: 100%|██████████| 390/390 [00:06<00:00, 61.90it/s]\n"
     ]
    },
    {
     "name": "stdout",
     "output_type": "stream",
     "text": [
      "Test Accuracy for Meta-Classifier with Base Model BaggingClassifier: 0.4564102564102564\n",
      "-------------------------------\n",
      "Meta-Classifier with Base Model BERNOULLINB\n"
     ]
    },
    {
     "name": "stderr",
     "output_type": "stream",
     "text": [
      "Training Base Models: 100%|██████████| 5/5 [00:00<00:00, 10.16it/s]\n",
      "Testing Instances: 100%|██████████| 390/390 [00:02<00:00, 153.33it/s]\n"
     ]
    },
    {
     "name": "stdout",
     "output_type": "stream",
     "text": [
      "Test Accuracy for Meta-Classifier with Base Model BernoulliNB: 0.06666666666666667\n",
      "-------------------------------\n",
      "Meta-Classifier with Base Model CALIBRATEDCLASSIFIERCV\n"
     ]
    },
    {
     "name": "stderr",
     "output_type": "stream",
     "text": [
      "Training Base Models: 100%|██████████| 5/5 [00:27<00:00,  5.43s/it]\n",
      "Testing Instances: 100%|██████████| 390/390 [00:11<00:00, 35.28it/s]\n"
     ]
    },
    {
     "name": "stdout",
     "output_type": "stream",
     "text": [
      "Test Accuracy for Meta-Classifier with Base Model CalibratedClassifierCV: 0.5025641025641026\n",
      "-------------------------------\n",
      "Meta-Classifier with Base Model DECISIONTREECLASSIFIER\n"
     ]
    },
    {
     "name": "stderr",
     "output_type": "stream",
     "text": [
      "Training Base Models: 100%|██████████| 5/5 [00:01<00:00,  3.73it/s]\n",
      "Testing Instances: 100%|██████████| 390/390 [00:01<00:00, 197.58it/s]\n"
     ]
    },
    {
     "name": "stdout",
     "output_type": "stream",
     "text": [
      "Test Accuracy for Meta-Classifier with Base Model DecisionTreeClassifier: 0.3282051282051282\n",
      "-------------------------------\n",
      "Meta-Classifier with Base Model DUMMYCLASSIFIER\n"
     ]
    },
    {
     "name": "stderr",
     "output_type": "stream",
     "text": [
      "Training Base Models: 100%|██████████| 5/5 [00:00<00:00, 11.24it/s]\n",
      "Testing Instances: 100%|██████████| 390/390 [00:01<00:00, 240.96it/s]\n"
     ]
    },
    {
     "name": "stdout",
     "output_type": "stream",
     "text": [
      "Test Accuracy for Meta-Classifier with Base Model DummyClassifier: 0.06666666666666667\n",
      "-------------------------------\n",
      "Meta-Classifier with Base Model EXTRATREECLASSIFIER\n"
     ]
    },
    {
     "name": "stderr",
     "output_type": "stream",
     "text": [
      "Training Base Models: 100%|██████████| 5/5 [00:00<00:00,  9.64it/s]\n",
      "Testing Instances: 100%|██████████| 390/390 [00:01<00:00, 208.66it/s]\n"
     ]
    },
    {
     "name": "stdout",
     "output_type": "stream",
     "text": [
      "Test Accuracy for Meta-Classifier with Base Model ExtraTreeClassifier: 0.26666666666666666\n",
      "-------------------------------\n",
      "Meta-Classifier with Base Model EXTRATREESCLASSIFIER\n"
     ]
    },
    {
     "name": "stderr",
     "output_type": "stream",
     "text": [
      "Training Base Models: 100%|██████████| 5/5 [00:02<00:00,  2.43it/s]\n",
      "Testing Instances: 100%|██████████| 390/390 [00:30<00:00, 12.70it/s]\n"
     ]
    },
    {
     "name": "stdout",
     "output_type": "stream",
     "text": [
      "Test Accuracy for Meta-Classifier with Base Model ExtraTreesClassifier: 0.6307692307692307\n",
      "-------------------------------\n",
      "Meta-Classifier with Base Model GAUSSIANNB\n"
     ]
    },
    {
     "name": "stderr",
     "output_type": "stream",
     "text": [
      "Training Base Models: 100%|██████████| 5/5 [00:00<00:00, 11.28it/s]\n",
      "Testing Instances: 100%|██████████| 390/390 [00:02<00:00, 135.74it/s]\n"
     ]
    },
    {
     "name": "stdout",
     "output_type": "stream",
     "text": [
      "Test Accuracy for Meta-Classifier with Base Model GaussianNB: 0.4512820512820513\n",
      "-------------------------------\n",
      "Meta-Classifier with Base Model GRADIENTBOOSTINGCLASSIFIER\n"
     ]
    },
    {
     "name": "stderr",
     "output_type": "stream",
     "text": [
      "Training Base Models: 100%|██████████| 5/5 [07:21<00:00, 88.28s/it] \n",
      "Testing Instances: 100%|██████████| 390/390 [00:04<00:00, 83.26it/s]\n"
     ]
    },
    {
     "name": "stdout",
     "output_type": "stream",
     "text": [
      "Test Accuracy for Meta-Classifier with Base Model GradientBoostingClassifier: 0.5230769230769231\n",
      "-------------------------------\n",
      "Meta-Classifier with Base Model KNEIGHBORSCLASSIFIER\n"
     ]
    },
    {
     "name": "stderr",
     "output_type": "stream",
     "text": [
      "Training Base Models: 100%|██████████| 5/5 [00:00<00:00, 11.49it/s]\n",
      "Testing Instances: 100%|██████████| 390/390 [00:54<00:00,  7.15it/s]\n"
     ]
    },
    {
     "name": "stdout",
     "output_type": "stream",
     "text": [
      "Test Accuracy for Meta-Classifier with Base Model KNeighborsClassifier: 0.6487179487179487\n",
      "-------------------------------\n",
      "Meta-Classifier with Base Model LINEARDISCRIMINANTANALYSIS\n"
     ]
    },
    {
     "name": "stderr",
     "output_type": "stream",
     "text": [
      "Training Base Models: 100%|██████████| 5/5 [00:00<00:00,  5.43it/s]\n",
      "Testing Instances: 100%|██████████| 390/390 [00:01<00:00, 196.67it/s]\n"
     ]
    },
    {
     "name": "stdout",
     "output_type": "stream",
     "text": [
      "Test Accuracy for Meta-Classifier with Base Model LinearDiscriminantAnalysis: 0.07692307692307693\n",
      "-------------------------------\n",
      "Meta-Classifier with Base Model LOGISTICREGRESSION\n"
     ]
    },
    {
     "name": "stderr",
     "output_type": "stream",
     "text": [
      "Training Base Models: 100%|██████████| 5/5 [00:00<00:00,  5.59it/s]\n",
      "Testing Instances: 100%|██████████| 390/390 [00:01<00:00, 198.39it/s]\n"
     ]
    },
    {
     "name": "stdout",
     "output_type": "stream",
     "text": [
      "Test Accuracy for Meta-Classifier with Base Model LogisticRegression: 0.38461538461538464\n",
      "-------------------------------\n",
      "Meta-Classifier with Base Model MLPCLASSIFIER\n"
     ]
    },
    {
     "name": "stderr",
     "output_type": "stream",
     "text": [
      "Training Base Models: 100%|██████████| 5/5 [00:03<00:00,  1.31it/s]\n",
      "Testing Instances: 100%|██████████| 390/390 [00:02<00:00, 191.21it/s]\n"
     ]
    },
    {
     "name": "stdout",
     "output_type": "stream",
     "text": [
      "Test Accuracy for Meta-Classifier with Base Model MLPClassifier: 0.5871794871794872\n",
      "-------------------------------\n",
      "Meta-Classifier with Base Model QUADRATICDISCRIMINANTANALYSIS\n"
     ]
    },
    {
     "name": "stderr",
     "output_type": "stream",
     "text": [
      "Training Base Models: 100%|██████████| 5/5 [00:00<00:00,  8.98it/s]\n",
      "Testing Instances: 100%|██████████| 390/390 [00:03<00:00, 128.70it/s]\n"
     ]
    },
    {
     "name": "stdout",
     "output_type": "stream",
     "text": [
      "Test Accuracy for Meta-Classifier with Base Model QuadraticDiscriminantAnalysis: 0.08717948717948718\n",
      "-------------------------------\n",
      "Meta-Classifier with Base Model RANDOMFORESTCLASSIFIER\n"
     ]
    },
    {
     "name": "stderr",
     "output_type": "stream",
     "text": [
      "Training Base Models: 100%|██████████| 5/5 [00:05<00:00,  1.11s/it]\n",
      "Testing Instances: 100%|██████████| 390/390 [00:30<00:00, 12.96it/s]\n"
     ]
    },
    {
     "name": "stdout",
     "output_type": "stream",
     "text": [
      "Test Accuracy for Meta-Classifier with Base Model RandomForestClassifier: 0.5435897435897435\n",
      "-------------------------------\n",
      "An error occurred while training or testing with VotingClassifier: VotingClassifier.__init__() missing 1 required positional argument: 'estimators'\n",
      "-------------------------------\n",
      "Meta-Classifier with Base Model ADABOOSTCLASSIFIER\n"
     ]
    },
    {
     "name": "stderr",
     "output_type": "stream",
     "text": [
      "Training Base Models: 100%|██████████| 5/5 [00:07<00:00,  1.50s/it]\n",
      "Testing Instances: 100%|██████████| 390/390 [00:23<00:00, 16.59it/s]\n"
     ]
    },
    {
     "name": "stdout",
     "output_type": "stream",
     "text": [
      "Test Accuracy for Meta-Classifier with Base Model AdaBoostClassifier: 0.18205128205128204\n",
      "-------------------------------\n",
      "Meta-Classifier with Base Model BAGGINGCLASSIFIER\n"
     ]
    },
    {
     "name": "stderr",
     "output_type": "stream",
     "text": [
      "Training Base Models: 100%|██████████| 5/5 [00:06<00:00,  1.33s/it]\n",
      "Testing Instances: 100%|██████████| 390/390 [00:06<00:00, 63.87it/s]\n"
     ]
    },
    {
     "name": "stdout",
     "output_type": "stream",
     "text": [
      "Test Accuracy for Meta-Classifier with Base Model BaggingClassifier: 0.49743589743589745\n",
      "-------------------------------\n",
      "Meta-Classifier with Base Model BERNOULLINB\n"
     ]
    },
    {
     "name": "stderr",
     "output_type": "stream",
     "text": [
      "Training Base Models: 100%|██████████| 5/5 [00:00<00:00, 10.38it/s]\n",
      "Testing Instances: 100%|██████████| 390/390 [00:02<00:00, 154.00it/s]\n"
     ]
    },
    {
     "name": "stdout",
     "output_type": "stream",
     "text": [
      "Test Accuracy for Meta-Classifier with Base Model BernoulliNB: 0.07435897435897436\n",
      "-------------------------------\n",
      "Meta-Classifier with Base Model CALIBRATEDCLASSIFIERCV\n"
     ]
    },
    {
     "name": "stderr",
     "output_type": "stream",
     "text": [
      "Training Base Models: 100%|██████████| 5/5 [00:22<00:00,  4.48s/it]\n",
      "Testing Instances: 100%|██████████| 390/390 [00:10<00:00, 35.59it/s]\n"
     ]
    },
    {
     "name": "stdout",
     "output_type": "stream",
     "text": [
      "Test Accuracy for Meta-Classifier with Base Model CalibratedClassifierCV: 0.48717948717948717\n",
      "-------------------------------\n",
      "Meta-Classifier with Base Model DECISIONTREECLASSIFIER\n"
     ]
    },
    {
     "name": "stderr",
     "output_type": "stream",
     "text": [
      "Training Base Models: 100%|██████████| 5/5 [00:01<00:00,  4.00it/s]\n",
      "Testing Instances: 100%|██████████| 390/390 [00:01<00:00, 207.15it/s]\n"
     ]
    },
    {
     "name": "stdout",
     "output_type": "stream",
     "text": [
      "Test Accuracy for Meta-Classifier with Base Model DecisionTreeClassifier: 0.32564102564102565\n",
      "-------------------------------\n",
      "Meta-Classifier with Base Model DUMMYCLASSIFIER\n"
     ]
    },
    {
     "name": "stderr",
     "output_type": "stream",
     "text": [
      "Training Base Models: 100%|██████████| 5/5 [00:00<00:00, 11.04it/s]\n",
      "Testing Instances: 100%|██████████| 390/390 [00:01<00:00, 248.97it/s]\n"
     ]
    },
    {
     "name": "stdout",
     "output_type": "stream",
     "text": [
      "Test Accuracy for Meta-Classifier with Base Model DummyClassifier: 0.07435897435897436\n",
      "-------------------------------\n",
      "Meta-Classifier with Base Model EXTRATREECLASSIFIER\n"
     ]
    },
    {
     "name": "stderr",
     "output_type": "stream",
     "text": [
      "Training Base Models: 100%|██████████| 5/5 [00:00<00:00, 11.02it/s]\n",
      "Testing Instances: 100%|██████████| 390/390 [00:01<00:00, 201.87it/s]\n"
     ]
    },
    {
     "name": "stdout",
     "output_type": "stream",
     "text": [
      "Test Accuracy for Meta-Classifier with Base Model ExtraTreeClassifier: 0.2230769230769231\n",
      "-------------------------------\n",
      "Meta-Classifier with Base Model EXTRATREESCLASSIFIER\n"
     ]
    },
    {
     "name": "stderr",
     "output_type": "stream",
     "text": [
      "Training Base Models: 100%|██████████| 5/5 [00:02<00:00,  2.33it/s]\n",
      "Testing Instances: 100%|██████████| 390/390 [00:30<00:00, 12.71it/s]\n"
     ]
    },
    {
     "name": "stdout",
     "output_type": "stream",
     "text": [
      "Test Accuracy for Meta-Classifier with Base Model ExtraTreesClassifier: 0.6153846153846154\n",
      "-------------------------------\n",
      "Meta-Classifier with Base Model GAUSSIANNB\n"
     ]
    },
    {
     "name": "stderr",
     "output_type": "stream",
     "text": [
      "Training Base Models: 100%|██████████| 5/5 [00:00<00:00, 11.08it/s]\n",
      "Testing Instances: 100%|██████████| 390/390 [00:02<00:00, 133.30it/s]\n"
     ]
    },
    {
     "name": "stdout",
     "output_type": "stream",
     "text": [
      "Test Accuracy for Meta-Classifier with Base Model GaussianNB: 0.3923076923076923\n",
      "-------------------------------\n",
      "Meta-Classifier with Base Model GRADIENTBOOSTINGCLASSIFIER\n"
     ]
    },
    {
     "name": "stderr",
     "output_type": "stream",
     "text": [
      "Training Base Models: 100%|██████████| 5/5 [07:22<00:00, 88.41s/it] \n",
      "Testing Instances: 100%|██████████| 390/390 [00:04<00:00, 79.03it/s]\n"
     ]
    },
    {
     "name": "stdout",
     "output_type": "stream",
     "text": [
      "Test Accuracy for Meta-Classifier with Base Model GradientBoostingClassifier: 0.4846153846153846\n",
      "-------------------------------\n",
      "Meta-Classifier with Base Model KNEIGHBORSCLASSIFIER\n"
     ]
    },
    {
     "name": "stderr",
     "output_type": "stream",
     "text": [
      "Training Base Models: 100%|██████████| 5/5 [00:00<00:00, 11.34it/s]\n",
      "Testing Instances: 100%|██████████| 390/390 [00:56<00:00,  6.92it/s]\n"
     ]
    },
    {
     "name": "stdout",
     "output_type": "stream",
     "text": [
      "Test Accuracy for Meta-Classifier with Base Model KNeighborsClassifier: 0.6153846153846154\n",
      "-------------------------------\n",
      "Meta-Classifier with Base Model LINEARDISCRIMINANTANALYSIS\n"
     ]
    },
    {
     "name": "stderr",
     "output_type": "stream",
     "text": [
      "Training Base Models: 100%|██████████| 5/5 [00:00<00:00,  5.66it/s]\n",
      "Testing Instances: 100%|██████████| 390/390 [00:01<00:00, 196.09it/s]\n"
     ]
    },
    {
     "name": "stdout",
     "output_type": "stream",
     "text": [
      "Test Accuracy for Meta-Classifier with Base Model LinearDiscriminantAnalysis: 0.14358974358974358\n",
      "-------------------------------\n",
      "Meta-Classifier with Base Model LOGISTICREGRESSION\n"
     ]
    },
    {
     "name": "stderr",
     "output_type": "stream",
     "text": [
      "Training Base Models: 100%|██████████| 5/5 [00:00<00:00,  5.74it/s]\n",
      "Testing Instances: 100%|██████████| 390/390 [00:01<00:00, 195.43it/s]\n"
     ]
    },
    {
     "name": "stdout",
     "output_type": "stream",
     "text": [
      "Test Accuracy for Meta-Classifier with Base Model LogisticRegression: 0.45384615384615384\n",
      "-------------------------------\n",
      "Meta-Classifier with Base Model MLPCLASSIFIER\n"
     ]
    },
    {
     "name": "stderr",
     "output_type": "stream",
     "text": [
      "Training Base Models: 100%|██████████| 5/5 [00:03<00:00,  1.29it/s]\n",
      "Testing Instances: 100%|██████████| 390/390 [00:02<00:00, 193.59it/s]\n"
     ]
    },
    {
     "name": "stdout",
     "output_type": "stream",
     "text": [
      "Test Accuracy for Meta-Classifier with Base Model MLPClassifier: 0.5948717948717949\n",
      "-------------------------------\n",
      "Meta-Classifier with Base Model QUADRATICDISCRIMINANTANALYSIS\n"
     ]
    },
    {
     "name": "stderr",
     "output_type": "stream",
     "text": [
      "Training Base Models: 100%|██████████| 5/5 [00:00<00:00,  8.86it/s]\n",
      "Testing Instances: 100%|██████████| 390/390 [00:03<00:00, 127.89it/s]\n"
     ]
    },
    {
     "name": "stdout",
     "output_type": "stream",
     "text": [
      "Test Accuracy for Meta-Classifier with Base Model QuadraticDiscriminantAnalysis: 0.08974358974358974\n",
      "-------------------------------\n",
      "Meta-Classifier with Base Model RANDOMFORESTCLASSIFIER\n"
     ]
    },
    {
     "name": "stderr",
     "output_type": "stream",
     "text": [
      "Training Base Models: 100%|██████████| 5/5 [00:05<00:00,  1.06s/it]\n",
      "Testing Instances: 100%|██████████| 390/390 [00:32<00:00, 12.08it/s]\n"
     ]
    },
    {
     "name": "stdout",
     "output_type": "stream",
     "text": [
      "Test Accuracy for Meta-Classifier with Base Model RandomForestClassifier: 0.47692307692307695\n",
      "-------------------------------\n",
      "An error occurred while training or testing with VotingClassifier: VotingClassifier.__init__() missing 1 required positional argument: 'estimators'\n",
      "-------------------------------\n",
      "Meta-Classifier with Base Model ADABOOSTCLASSIFIER\n"
     ]
    },
    {
     "name": "stderr",
     "output_type": "stream",
     "text": [
      "Training Base Models: 100%|██████████| 5/5 [00:07<00:00,  1.58s/it]\n",
      "Testing Instances: 100%|██████████| 390/390 [00:23<00:00, 16.57it/s]\n"
     ]
    },
    {
     "name": "stdout",
     "output_type": "stream",
     "text": [
      "Test Accuracy for Meta-Classifier with Base Model AdaBoostClassifier: 0.13076923076923078\n",
      "-------------------------------\n",
      "Meta-Classifier with Base Model BAGGINGCLASSIFIER\n"
     ]
    },
    {
     "name": "stderr",
     "output_type": "stream",
     "text": [
      "Training Base Models: 100%|██████████| 5/5 [00:07<00:00,  1.51s/it]\n",
      "Testing Instances: 100%|██████████| 390/390 [00:06<00:00, 62.53it/s]\n"
     ]
    },
    {
     "name": "stdout",
     "output_type": "stream",
     "text": [
      "Test Accuracy for Meta-Classifier with Base Model BaggingClassifier: 0.5230769230769231\n",
      "-------------------------------\n",
      "Meta-Classifier with Base Model BERNOULLINB\n"
     ]
    },
    {
     "name": "stderr",
     "output_type": "stream",
     "text": [
      "Training Base Models: 100%|██████████| 5/5 [00:00<00:00, 10.31it/s]\n",
      "Testing Instances: 100%|██████████| 390/390 [00:02<00:00, 154.18it/s]\n"
     ]
    },
    {
     "name": "stdout",
     "output_type": "stream",
     "text": [
      "Test Accuracy for Meta-Classifier with Base Model BernoulliNB: 0.06153846153846154\n",
      "-------------------------------\n",
      "Meta-Classifier with Base Model CALIBRATEDCLASSIFIERCV\n"
     ]
    },
    {
     "name": "stderr",
     "output_type": "stream",
     "text": [
      "Training Base Models: 100%|██████████| 5/5 [00:28<00:00,  5.73s/it]\n",
      "Testing Instances: 100%|██████████| 390/390 [00:10<00:00, 37.32it/s]\n"
     ]
    },
    {
     "name": "stdout",
     "output_type": "stream",
     "text": [
      "Test Accuracy for Meta-Classifier with Base Model CalibratedClassifierCV: 0.46923076923076923\n",
      "-------------------------------\n",
      "Meta-Classifier with Base Model DECISIONTREECLASSIFIER\n"
     ]
    },
    {
     "name": "stderr",
     "output_type": "stream",
     "text": [
      "Training Base Models: 100%|██████████| 5/5 [00:01<00:00,  3.89it/s]\n",
      "Testing Instances: 100%|██████████| 390/390 [00:01<00:00, 217.21it/s]\n"
     ]
    },
    {
     "name": "stdout",
     "output_type": "stream",
     "text": [
      "Test Accuracy for Meta-Classifier with Base Model DecisionTreeClassifier: 0.2230769230769231\n",
      "-------------------------------\n",
      "Meta-Classifier with Base Model DUMMYCLASSIFIER\n"
     ]
    },
    {
     "name": "stderr",
     "output_type": "stream",
     "text": [
      "Training Base Models: 100%|██████████| 5/5 [00:00<00:00, 12.04it/s]\n",
      "Testing Instances: 100%|██████████| 390/390 [00:01<00:00, 261.01it/s]\n"
     ]
    },
    {
     "name": "stdout",
     "output_type": "stream",
     "text": [
      "Test Accuracy for Meta-Classifier with Base Model DummyClassifier: 0.06153846153846154\n",
      "-------------------------------\n",
      "Meta-Classifier with Base Model EXTRATREECLASSIFIER\n"
     ]
    },
    {
     "name": "stderr",
     "output_type": "stream",
     "text": [
      "Training Base Models: 100%|██████████| 5/5 [00:00<00:00, 11.72it/s]\n",
      "Testing Instances: 100%|██████████| 390/390 [00:01<00:00, 213.76it/s]\n"
     ]
    },
    {
     "name": "stdout",
     "output_type": "stream",
     "text": [
      "Test Accuracy for Meta-Classifier with Base Model ExtraTreeClassifier: 0.22564102564102564\n",
      "-------------------------------\n",
      "Meta-Classifier with Base Model EXTRATREESCLASSIFIER\n"
     ]
    },
    {
     "name": "stderr",
     "output_type": "stream",
     "text": [
      "Training Base Models: 100%|██████████| 5/5 [00:02<00:00,  2.50it/s]\n",
      "Testing Instances: 100%|██████████| 390/390 [00:29<00:00, 13.17it/s]\n"
     ]
    },
    {
     "name": "stdout",
     "output_type": "stream",
     "text": [
      "Test Accuracy for Meta-Classifier with Base Model ExtraTreesClassifier: 0.5820512820512821\n",
      "-------------------------------\n",
      "Meta-Classifier with Base Model GAUSSIANNB\n"
     ]
    },
    {
     "name": "stderr",
     "output_type": "stream",
     "text": [
      "Training Base Models: 100%|██████████| 5/5 [00:00<00:00, 11.68it/s]\n",
      "Testing Instances: 100%|██████████| 390/390 [00:02<00:00, 138.80it/s]\n"
     ]
    },
    {
     "name": "stdout",
     "output_type": "stream",
     "text": [
      "Test Accuracy for Meta-Classifier with Base Model GaussianNB: 0.43333333333333335\n",
      "-------------------------------\n",
      "Meta-Classifier with Base Model GRADIENTBOOSTINGCLASSIFIER\n"
     ]
    },
    {
     "name": "stderr",
     "output_type": "stream",
     "text": [
      "Training Base Models: 100%|██████████| 5/5 [07:11<00:00, 86.33s/it] \n",
      "Testing Instances: 100%|██████████| 390/390 [00:04<00:00, 89.77it/s]\n"
     ]
    },
    {
     "name": "stdout",
     "output_type": "stream",
     "text": [
      "Test Accuracy for Meta-Classifier with Base Model GradientBoostingClassifier: 0.5230769230769231\n",
      "-------------------------------\n",
      "Meta-Classifier with Base Model KNEIGHBORSCLASSIFIER\n"
     ]
    },
    {
     "name": "stderr",
     "output_type": "stream",
     "text": [
      "Training Base Models: 100%|██████████| 5/5 [00:00<00:00, 12.31it/s]\n",
      "Testing Instances: 100%|██████████| 390/390 [00:48<00:00,  8.08it/s]\n"
     ]
    },
    {
     "name": "stdout",
     "output_type": "stream",
     "text": [
      "Test Accuracy for Meta-Classifier with Base Model KNeighborsClassifier: 0.6974358974358974\n",
      "-------------------------------\n",
      "Meta-Classifier with Base Model LINEARDISCRIMINANTANALYSIS\n"
     ]
    },
    {
     "name": "stderr",
     "output_type": "stream",
     "text": [
      "Training Base Models: 100%|██████████| 5/5 [00:00<00:00,  6.18it/s]\n",
      "Testing Instances: 100%|██████████| 390/390 [00:01<00:00, 221.53it/s]\n"
     ]
    },
    {
     "name": "stdout",
     "output_type": "stream",
     "text": [
      "Test Accuracy for Meta-Classifier with Base Model LinearDiscriminantAnalysis: 0.11025641025641025\n",
      "-------------------------------\n",
      "Meta-Classifier with Base Model LOGISTICREGRESSION\n"
     ]
    },
    {
     "name": "stderr",
     "output_type": "stream",
     "text": [
      "Training Base Models: 100%|██████████| 5/5 [00:00<00:00,  6.48it/s]\n",
      "Testing Instances: 100%|██████████| 390/390 [00:01<00:00, 220.03it/s]\n"
     ]
    },
    {
     "name": "stdout",
     "output_type": "stream",
     "text": [
      "Test Accuracy for Meta-Classifier with Base Model LogisticRegression: 0.35384615384615387\n",
      "-------------------------------\n",
      "Meta-Classifier with Base Model MLPCLASSIFIER\n"
     ]
    },
    {
     "name": "stderr",
     "output_type": "stream",
     "text": [
      "Training Base Models: 100%|██████████| 5/5 [00:03<00:00,  1.51it/s]\n",
      "Testing Instances: 100%|██████████| 390/390 [00:01<00:00, 215.05it/s]\n"
     ]
    },
    {
     "name": "stdout",
     "output_type": "stream",
     "text": [
      "Test Accuracy for Meta-Classifier with Base Model MLPClassifier: 0.558974358974359\n",
      "-------------------------------\n",
      "Meta-Classifier with Base Model QUADRATICDISCRIMINANTANALYSIS\n"
     ]
    },
    {
     "name": "stderr",
     "output_type": "stream",
     "text": [
      "Training Base Models: 100%|██████████| 5/5 [00:00<00:00, 10.11it/s]\n",
      "Testing Instances: 100%|██████████| 390/390 [00:02<00:00, 138.94it/s]\n"
     ]
    },
    {
     "name": "stdout",
     "output_type": "stream",
     "text": [
      "Test Accuracy for Meta-Classifier with Base Model QuadraticDiscriminantAnalysis: 0.10256410256410256\n",
      "-------------------------------\n",
      "Meta-Classifier with Base Model RANDOMFORESTCLASSIFIER\n"
     ]
    },
    {
     "name": "stderr",
     "output_type": "stream",
     "text": [
      "Training Base Models: 100%|██████████| 5/5 [00:05<00:00,  1.07s/it]\n",
      "Testing Instances: 100%|██████████| 390/390 [00:28<00:00, 13.51it/s]\n"
     ]
    },
    {
     "name": "stdout",
     "output_type": "stream",
     "text": [
      "Test Accuracy for Meta-Classifier with Base Model RandomForestClassifier: 0.4794871794871795\n",
      "-------------------------------\n",
      "An error occurred while training or testing with VotingClassifier: VotingClassifier.__init__() missing 1 required positional argument: 'estimators'\n",
      "-------------------------------\n",
      "Meta-Classifier with Base Model ADABOOSTCLASSIFIER\n"
     ]
    },
    {
     "name": "stderr",
     "output_type": "stream",
     "text": [
      "Training Base Models: 100%|██████████| 5/5 [00:12<00:00,  2.56s/it]\n",
      "Testing Instances: 100%|██████████| 16800/16800 [15:13<00:00, 18.39it/s]\n"
     ]
    },
    {
     "name": "stdout",
     "output_type": "stream",
     "text": [
      "Test Accuracy for Meta-Classifier with Base Model AdaBoostClassifier: 0.08898809523809524\n",
      "-------------------------------\n",
      "Meta-Classifier with Base Model BAGGINGCLASSIFIER\n"
     ]
    },
    {
     "name": "stderr",
     "output_type": "stream",
     "text": [
      "Training Base Models: 100%|██████████| 5/5 [00:23<00:00,  4.79s/it]\n",
      "Testing Instances: 100%|██████████| 16800/16800 [03:20<00:00, 83.79it/s]\n"
     ]
    },
    {
     "name": "stdout",
     "output_type": "stream",
     "text": [
      "Test Accuracy for Meta-Classifier with Base Model BaggingClassifier: 0.7258928571428571\n",
      "-------------------------------\n",
      "Meta-Classifier with Base Model BERNOULLINB\n"
     ]
    },
    {
     "name": "stderr",
     "output_type": "stream",
     "text": [
      "Training Base Models: 100%|██████████| 5/5 [00:00<00:00, 10.15it/s]\n",
      "Testing Instances: 100%|██████████| 16800/16800 [00:51<00:00, 324.22it/s]\n"
     ]
    },
    {
     "name": "stdout",
     "output_type": "stream",
     "text": [
      "Test Accuracy for Meta-Classifier with Base Model BernoulliNB: 0.041666666666666664\n",
      "-------------------------------\n",
      "Meta-Classifier with Base Model CALIBRATEDCLASSIFIERCV\n"
     ]
    },
    {
     "name": "stderr",
     "output_type": "stream",
     "text": [
      "Training Base Models: 100%|██████████| 5/5 [00:14<00:00,  2.80s/it]\n",
      "Testing Instances: 100%|██████████| 16800/16800 [09:42<00:00, 28.86it/s]\n"
     ]
    },
    {
     "name": "stdout",
     "output_type": "stream",
     "text": [
      "Test Accuracy for Meta-Classifier with Base Model CalibratedClassifierCV: 0.7021428571428572\n",
      "-------------------------------\n",
      "Meta-Classifier with Base Model DECISIONTREECLASSIFIER\n"
     ]
    },
    {
     "name": "stderr",
     "output_type": "stream",
     "text": [
      "Training Base Models: 100%|██████████| 5/5 [00:03<00:00,  1.42it/s]\n",
      "Testing Instances: 100%|██████████| 16800/16800 [00:30<00:00, 543.05it/s]\n"
     ]
    },
    {
     "name": "stdout",
     "output_type": "stream",
     "text": [
      "Test Accuracy for Meta-Classifier with Base Model DecisionTreeClassifier: 0.5923214285714286\n",
      "-------------------------------\n",
      "Meta-Classifier with Base Model DUMMYCLASSIFIER\n"
     ]
    },
    {
     "name": "stderr",
     "output_type": "stream",
     "text": [
      "Training Base Models: 100%|██████████| 5/5 [00:00<00:00, 11.97it/s]\n",
      "Testing Instances: 100%|██████████| 16800/16800 [00:18<00:00, 922.20it/s]\n"
     ]
    },
    {
     "name": "stdout",
     "output_type": "stream",
     "text": [
      "Test Accuracy for Meta-Classifier with Base Model DummyClassifier: 0.041666666666666664\n",
      "-------------------------------\n",
      "Meta-Classifier with Base Model EXTRATREECLASSIFIER\n"
     ]
    },
    {
     "name": "stderr",
     "output_type": "stream",
     "text": [
      "Training Base Models: 100%|██████████| 5/5 [00:00<00:00,  9.84it/s]\n",
      "Testing Instances: 100%|██████████| 16800/16800 [00:30<00:00, 542.95it/s]\n"
     ]
    },
    {
     "name": "stdout",
     "output_type": "stream",
     "text": [
      "Test Accuracy for Meta-Classifier with Base Model ExtraTreeClassifier: 0.5126785714285714\n",
      "-------------------------------\n",
      "Meta-Classifier with Base Model EXTRATREESCLASSIFIER\n"
     ]
    },
    {
     "name": "stderr",
     "output_type": "stream",
     "text": [
      "Training Base Models: 100%|██████████| 5/5 [00:08<00:00,  1.71s/it]\n",
      "Testing Instances: 100%|██████████| 16800/16800 [19:46<00:00, 14.16it/s]\n"
     ]
    },
    {
     "name": "stdout",
     "output_type": "stream",
     "text": [
      "Test Accuracy for Meta-Classifier with Base Model ExtraTreesClassifier: 0.76\n",
      "-------------------------------\n",
      "Meta-Classifier with Base Model GAUSSIANNB\n"
     ]
    },
    {
     "name": "stderr",
     "output_type": "stream",
     "text": [
      "Training Base Models: 100%|██████████| 5/5 [00:00<00:00, 11.11it/s]\n",
      "Testing Instances: 100%|██████████| 16800/16800 [01:48<00:00, 155.41it/s]\n"
     ]
    },
    {
     "name": "stdout",
     "output_type": "stream",
     "text": [
      "Test Accuracy for Meta-Classifier with Base Model GaussianNB: 0.4504166666666667\n",
      "-------------------------------\n",
      "Meta-Classifier with Base Model GRADIENTBOOSTINGCLASSIFIER\n"
     ]
    },
    {
     "name": "stderr",
     "output_type": "stream",
     "text": [
      "Training Base Models: 100%|██████████| 5/5 [23:21<00:00, 280.33s/it]\n",
      "Testing Instances: 100%|██████████| 16800/16800 [03:48<00:00, 73.65it/s]\n"
     ]
    },
    {
     "name": "stdout",
     "output_type": "stream",
     "text": [
      "Test Accuracy for Meta-Classifier with Base Model GradientBoostingClassifier: 0.7369642857142857\n",
      "-------------------------------\n",
      "Meta-Classifier with Base Model KNEIGHBORSCLASSIFIER\n"
     ]
    },
    {
     "name": "stderr",
     "output_type": "stream",
     "text": [
      "Training Base Models: 100%|██████████| 5/5 [00:00<00:00, 11.76it/s]\n",
      "Testing Instances: 100%|██████████| 16800/16800 [32:29<00:00,  8.62it/s]\n"
     ]
    },
    {
     "name": "stdout",
     "output_type": "stream",
     "text": [
      "Test Accuracy for Meta-Classifier with Base Model KNeighborsClassifier: 0.7126190476190476\n",
      "-------------------------------\n",
      "Meta-Classifier with Base Model LINEARDISCRIMINANTANALYSIS\n"
     ]
    },
    {
     "name": "stderr",
     "output_type": "stream",
     "text": [
      "Training Base Models: 100%|██████████| 5/5 [00:00<00:00,  8.24it/s]\n",
      "Testing Instances: 100%|██████████| 16800/16800 [00:29<00:00, 564.28it/s]\n"
     ]
    },
    {
     "name": "stdout",
     "output_type": "stream",
     "text": [
      "Test Accuracy for Meta-Classifier with Base Model LinearDiscriminantAnalysis: 0.655\n",
      "-------------------------------\n",
      "Meta-Classifier with Base Model LOGISTICREGRESSION\n"
     ]
    },
    {
     "name": "stderr",
     "output_type": "stream",
     "text": [
      "Training Base Models: 100%|██████████| 5/5 [00:03<00:00,  1.59it/s]\n",
      "Testing Instances: 100%|██████████| 16800/16800 [00:29<00:00, 573.64it/s]\n"
     ]
    },
    {
     "name": "stdout",
     "output_type": "stream",
     "text": [
      "Test Accuracy for Meta-Classifier with Base Model LogisticRegression: 0.6821428571428572\n",
      "-------------------------------\n",
      "Meta-Classifier with Base Model MLPCLASSIFIER\n"
     ]
    },
    {
     "name": "stderr",
     "output_type": "stream",
     "text": [
      "Training Base Models: 100%|██████████| 5/5 [00:34<00:00,  6.88s/it]\n",
      "Testing Instances: 100%|██████████| 16800/16800 [00:29<00:00, 569.42it/s]\n"
     ]
    },
    {
     "name": "stdout",
     "output_type": "stream",
     "text": [
      "Test Accuracy for Meta-Classifier with Base Model MLPClassifier: 0.731845238095238\n",
      "-------------------------------\n",
      "Meta-Classifier with Base Model QUADRATICDISCRIMINANTANALYSIS\n"
     ]
    },
    {
     "name": "stderr",
     "output_type": "stream",
     "text": [
      "Training Base Models: 100%|██████████| 5/5 [00:00<00:00,  8.90it/s]\n",
      "Testing Instances: 100%|██████████| 16800/16800 [01:48<00:00, 155.26it/s]\n"
     ]
    },
    {
     "name": "stdout",
     "output_type": "stream",
     "text": [
      "Test Accuracy for Meta-Classifier with Base Model QuadraticDiscriminantAnalysis: 0.40648809523809526\n",
      "-------------------------------\n",
      "Meta-Classifier with Base Model RANDOMFORESTCLASSIFIER\n"
     ]
    },
    {
     "name": "stderr",
     "output_type": "stream",
     "text": [
      "Training Base Models: 100%|██████████| 5/5 [00:35<00:00,  7.09s/it]\n",
      "Testing Instances: 100%|██████████| 16800/16800 [19:48<00:00, 14.13it/s]\n"
     ]
    },
    {
     "name": "stdout",
     "output_type": "stream",
     "text": [
      "Test Accuracy for Meta-Classifier with Base Model RandomForestClassifier: 0.7282738095238095\n",
      "-------------------------------\n",
      "An error occurred while training or testing with VotingClassifier: VotingClassifier.__init__() missing 1 required positional argument: 'estimators'\n",
      "-------------------------------\n",
      "Meta-Classifier with Base Model ADABOOSTCLASSIFIER\n"
     ]
    },
    {
     "name": "stderr",
     "output_type": "stream",
     "text": [
      "Training Base Models: 100%|██████████| 5/5 [00:01<00:00,  4.77it/s]\n",
      "Testing Instances: 100%|██████████| 306/306 [00:17<00:00, 17.68it/s]\n"
     ]
    },
    {
     "name": "stdout",
     "output_type": "stream",
     "text": [
      "Test Accuracy for Meta-Classifier with Base Model AdaBoostClassifier: 0.9052287581699346\n",
      "-------------------------------\n",
      "Meta-Classifier with Base Model BAGGINGCLASSIFIER\n"
     ]
    },
    {
     "name": "stderr",
     "output_type": "stream",
     "text": [
      "Training Base Models: 100%|██████████| 5/5 [00:00<00:00,  8.98it/s]\n",
      "Testing Instances: 100%|██████████| 306/306 [00:04<00:00, 66.98it/s]\n"
     ]
    },
    {
     "name": "stdout",
     "output_type": "stream",
     "text": [
      "Test Accuracy for Meta-Classifier with Base Model BaggingClassifier: 0.8660130718954249\n",
      "-------------------------------\n",
      "Meta-Classifier with Base Model BERNOULLINB\n"
     ]
    },
    {
     "name": "stderr",
     "output_type": "stream",
     "text": [
      "Training Base Models: 100%|██████████| 5/5 [00:00<00:00, 10.60it/s]\n",
      "Testing Instances: 100%|██████████| 306/306 [00:01<00:00, 160.00it/s]\n"
     ]
    },
    {
     "name": "stdout",
     "output_type": "stream",
     "text": [
      "Test Accuracy for Meta-Classifier with Base Model BernoulliNB: 0.3006535947712418\n",
      "-------------------------------\n",
      "Meta-Classifier with Base Model CALIBRATEDCLASSIFIERCV\n"
     ]
    },
    {
     "name": "stderr",
     "output_type": "stream",
     "text": [
      "Training Base Models: 100%|██████████| 5/5 [00:00<00:00,  5.45it/s]\n",
      "Testing Instances: 100%|██████████| 306/306 [00:05<00:00, 53.14it/s]\n"
     ]
    },
    {
     "name": "stdout",
     "output_type": "stream",
     "text": [
      "Test Accuracy for Meta-Classifier with Base Model CalibratedClassifierCV: 0.8790849673202614\n",
      "-------------------------------\n",
      "Meta-Classifier with Base Model DECISIONTREECLASSIFIER\n"
     ]
    },
    {
     "name": "stderr",
     "output_type": "stream",
     "text": [
      "Training Base Models: 100%|██████████| 5/5 [00:00<00:00, 12.06it/s]\n",
      "Testing Instances: 100%|██████████| 306/306 [00:01<00:00, 202.80it/s]\n"
     ]
    },
    {
     "name": "stdout",
     "output_type": "stream",
     "text": [
      "Test Accuracy for Meta-Classifier with Base Model DecisionTreeClassifier: 0.6437908496732027\n",
      "-------------------------------\n",
      "Meta-Classifier with Base Model DUMMYCLASSIFIER\n"
     ]
    },
    {
     "name": "stderr",
     "output_type": "stream",
     "text": [
      "Training Base Models: 100%|██████████| 5/5 [00:00<00:00, 12.40it/s]\n",
      "Testing Instances: 100%|██████████| 306/306 [00:01<00:00, 235.86it/s]\n"
     ]
    },
    {
     "name": "stdout",
     "output_type": "stream",
     "text": [
      "Test Accuracy for Meta-Classifier with Base Model DummyClassifier: 0.3006535947712418\n",
      "-------------------------------\n",
      "Meta-Classifier with Base Model EXTRATREECLASSIFIER\n"
     ]
    },
    {
     "name": "stderr",
     "output_type": "stream",
     "text": [
      "Training Base Models: 100%|██████████| 5/5 [00:00<00:00, 12.31it/s]\n",
      "Testing Instances: 100%|██████████| 306/306 [00:01<00:00, 195.75it/s]\n"
     ]
    },
    {
     "name": "stdout",
     "output_type": "stream",
     "text": [
      "Test Accuracy for Meta-Classifier with Base Model ExtraTreeClassifier: 0.7745098039215687\n",
      "-------------------------------\n",
      "Meta-Classifier with Base Model EXTRATREESCLASSIFIER\n"
     ]
    },
    {
     "name": "stderr",
     "output_type": "stream",
     "text": [
      "Training Base Models: 100%|██████████| 5/5 [00:00<00:00,  5.42it/s]\n",
      "Testing Instances: 100%|██████████| 306/306 [00:22<00:00, 13.64it/s]\n"
     ]
    },
    {
     "name": "stdout",
     "output_type": "stream",
     "text": [
      "Test Accuracy for Meta-Classifier with Base Model ExtraTreesClassifier: 0.9019607843137255\n",
      "-------------------------------\n",
      "Meta-Classifier with Base Model GAUSSIANNB\n"
     ]
    },
    {
     "name": "stderr",
     "output_type": "stream",
     "text": [
      "Training Base Models: 100%|██████████| 5/5 [00:00<00:00, 12.19it/s]\n",
      "Testing Instances: 100%|██████████| 306/306 [00:01<00:00, 175.06it/s]\n"
     ]
    },
    {
     "name": "stdout",
     "output_type": "stream",
     "text": [
      "Test Accuracy for Meta-Classifier with Base Model GaussianNB: 0.8725490196078431\n",
      "-------------------------------\n",
      "Meta-Classifier with Base Model GRADIENTBOOSTINGCLASSIFIER\n"
     ]
    },
    {
     "name": "stderr",
     "output_type": "stream",
     "text": [
      "Training Base Models: 100%|██████████| 5/5 [00:06<00:00,  1.20s/it]\n",
      "Testing Instances: 100%|██████████| 306/306 [00:02<00:00, 128.03it/s]\n"
     ]
    },
    {
     "name": "stdout",
     "output_type": "stream",
     "text": [
      "Test Accuracy for Meta-Classifier with Base Model GradientBoostingClassifier: 0.934640522875817\n",
      "-------------------------------\n",
      "Meta-Classifier with Base Model KNEIGHBORSCLASSIFIER\n"
     ]
    },
    {
     "name": "stderr",
     "output_type": "stream",
     "text": [
      "Training Base Models: 100%|██████████| 5/5 [00:00<00:00, 12.39it/s]\n",
      "Testing Instances: 100%|██████████| 306/306 [00:36<00:00,  8.36it/s]\n"
     ]
    },
    {
     "name": "stdout",
     "output_type": "stream",
     "text": [
      "Test Accuracy for Meta-Classifier with Base Model KNeighborsClassifier: 0.8921568627450981\n",
      "-------------------------------\n",
      "Meta-Classifier with Base Model LINEARDISCRIMINANTANALYSIS\n"
     ]
    },
    {
     "name": "stderr",
     "output_type": "stream",
     "text": [
      "Training Base Models: 100%|██████████| 5/5 [00:00<00:00, 11.21it/s]\n",
      "Testing Instances: 100%|██████████| 306/306 [00:01<00:00, 198.68it/s]\n"
     ]
    },
    {
     "name": "stdout",
     "output_type": "stream",
     "text": [
      "Test Accuracy for Meta-Classifier with Base Model LinearDiscriminantAnalysis: 0.5849673202614379\n",
      "-------------------------------\n",
      "Meta-Classifier with Base Model LOGISTICREGRESSION\n"
     ]
    },
    {
     "name": "stderr",
     "output_type": "stream",
     "text": [
      "Training Base Models: 100%|██████████| 5/5 [00:00<00:00,  8.42it/s]\n",
      "Testing Instances: 100%|██████████| 306/306 [00:01<00:00, 203.16it/s]\n"
     ]
    },
    {
     "name": "stdout",
     "output_type": "stream",
     "text": [
      "Test Accuracy for Meta-Classifier with Base Model LogisticRegression: 0.9215686274509803\n",
      "-------------------------------\n",
      "Meta-Classifier with Base Model MLPCLASSIFIER\n"
     ]
    },
    {
     "name": "stderr",
     "output_type": "stream",
     "text": [
      "Training Base Models: 100%|██████████| 5/5 [00:01<00:00,  4.66it/s]\n",
      "Testing Instances: 100%|██████████| 306/306 [00:01<00:00, 200.21it/s]\n"
     ]
    },
    {
     "name": "stdout",
     "output_type": "stream",
     "text": [
      "Test Accuracy for Meta-Classifier with Base Model MLPClassifier: 0.9477124183006536\n",
      "-------------------------------\n",
      "Meta-Classifier with Base Model QUADRATICDISCRIMINANTANALYSIS\n"
     ]
    },
    {
     "name": "stderr",
     "output_type": "stream",
     "text": [
      "Training Base Models:   0%|          | 0/5 [00:00<?, ?it/s]\n"
     ]
    },
    {
     "name": "stdout",
     "output_type": "stream",
     "text": [
      "An error occurred while training or testing with QuadraticDiscriminantAnalysis: y has only 1 sample in class 1, covariance is ill defined.\n",
      "-------------------------------\n",
      "Meta-Classifier with Base Model RANDOMFORESTCLASSIFIER\n"
     ]
    },
    {
     "name": "stderr",
     "output_type": "stream",
     "text": [
      "Training Base Models: 100%|██████████| 5/5 [00:01<00:00,  4.39it/s]\n",
      "Testing Instances: 100%|██████████| 306/306 [00:22<00:00, 13.65it/s]\n"
     ]
    },
    {
     "name": "stdout",
     "output_type": "stream",
     "text": [
      "Test Accuracy for Meta-Classifier with Base Model RandomForestClassifier: 0.9019607843137255\n",
      "-------------------------------\n",
      "An error occurred while training or testing with VotingClassifier: VotingClassifier.__init__() missing 1 required positional argument: 'estimators'\n",
      "-------------------------------\n",
      "Meta-Classifier with Base Model ADABOOSTCLASSIFIER\n"
     ]
    },
    {
     "name": "stderr",
     "output_type": "stream",
     "text": [
      "Training Base Models: 100%|██████████| 5/5 [00:02<00:00,  2.09it/s]\n",
      "Testing Instances: 100%|██████████| 139/139 [00:07<00:00, 18.39it/s]\n"
     ]
    },
    {
     "name": "stdout",
     "output_type": "stream",
     "text": [
      "Test Accuracy for Meta-Classifier with Base Model AdaBoostClassifier: 0.6546762589928058\n",
      "-------------------------------\n",
      "Meta-Classifier with Base Model BAGGINGCLASSIFIER\n"
     ]
    },
    {
     "name": "stderr",
     "output_type": "stream",
     "text": [
      "Training Base Models: 100%|██████████| 5/5 [00:01<00:00,  3.22it/s]\n",
      "Testing Instances: 100%|██████████| 139/139 [00:01<00:00, 81.53it/s]\n"
     ]
    },
    {
     "name": "stdout",
     "output_type": "stream",
     "text": [
      "Test Accuracy for Meta-Classifier with Base Model BaggingClassifier: 0.6906474820143885\n",
      "-------------------------------\n",
      "Meta-Classifier with Base Model BERNOULLINB\n"
     ]
    },
    {
     "name": "stderr",
     "output_type": "stream",
     "text": [
      "Training Base Models: 100%|██████████| 5/5 [00:00<00:00, 11.11it/s]\n",
      "Testing Instances: 100%|██████████| 139/139 [00:00<00:00, 285.94it/s]\n"
     ]
    },
    {
     "name": "stdout",
     "output_type": "stream",
     "text": [
      "Test Accuracy for Meta-Classifier with Base Model BernoulliNB: 0.4676258992805755\n",
      "-------------------------------\n",
      "Meta-Classifier with Base Model CALIBRATEDCLASSIFIERCV\n"
     ]
    },
    {
     "name": "stderr",
     "output_type": "stream",
     "text": [
      "Training Base Models: 100%|██████████| 5/5 [00:00<00:00,  5.69it/s]\n",
      "Testing Instances: 100%|██████████| 139/139 [00:02<00:00, 65.80it/s]\n"
     ]
    },
    {
     "name": "stdout",
     "output_type": "stream",
     "text": [
      "Test Accuracy for Meta-Classifier with Base Model CalibratedClassifierCV: 0.6906474820143885\n",
      "-------------------------------\n",
      "Meta-Classifier with Base Model DECISIONTREECLASSIFIER\n"
     ]
    },
    {
     "name": "stderr",
     "output_type": "stream",
     "text": [
      "Training Base Models: 100%|██████████| 5/5 [00:00<00:00,  8.95it/s]\n",
      "Testing Instances: 100%|██████████| 139/139 [00:00<00:00, 455.63it/s]\n"
     ]
    },
    {
     "name": "stdout",
     "output_type": "stream",
     "text": [
      "Test Accuracy for Meta-Classifier with Base Model DecisionTreeClassifier: 0.6474820143884892\n",
      "-------------------------------\n",
      "Meta-Classifier with Base Model DUMMYCLASSIFIER\n"
     ]
    },
    {
     "name": "stderr",
     "output_type": "stream",
     "text": [
      "Training Base Models: 100%|██████████| 5/5 [00:00<00:00, 12.27it/s]\n",
      "Testing Instances: 100%|██████████| 139/139 [00:00<00:00, 712.66it/s]\n"
     ]
    },
    {
     "name": "stdout",
     "output_type": "stream",
     "text": [
      "Test Accuracy for Meta-Classifier with Base Model DummyClassifier: 0.4676258992805755\n",
      "-------------------------------\n",
      "Meta-Classifier with Base Model EXTRATREECLASSIFIER\n"
     ]
    },
    {
     "name": "stderr",
     "output_type": "stream",
     "text": [
      "Training Base Models: 100%|██████████| 5/5 [00:00<00:00, 12.22it/s]\n",
      "Testing Instances: 100%|██████████| 139/139 [00:00<00:00, 464.78it/s]\n"
     ]
    },
    {
     "name": "stdout",
     "output_type": "stream",
     "text": [
      "Test Accuracy for Meta-Classifier with Base Model ExtraTreeClassifier: 0.6187050359712231\n",
      "-------------------------------\n",
      "Meta-Classifier with Base Model EXTRATREESCLASSIFIER\n"
     ]
    },
    {
     "name": "stderr",
     "output_type": "stream",
     "text": [
      "Training Base Models: 100%|██████████| 5/5 [00:01<00:00,  4.31it/s]\n",
      "Testing Instances: 100%|██████████| 139/139 [00:10<00:00, 13.88it/s]\n"
     ]
    },
    {
     "name": "stdout",
     "output_type": "stream",
     "text": [
      "Test Accuracy for Meta-Classifier with Base Model ExtraTreesClassifier: 0.7482014388489209\n",
      "-------------------------------\n",
      "Meta-Classifier with Base Model GAUSSIANNB\n"
     ]
    },
    {
     "name": "stderr",
     "output_type": "stream",
     "text": [
      "Training Base Models: 100%|██████████| 5/5 [00:00<00:00, 12.19it/s]\n",
      "Testing Instances: 100%|██████████| 139/139 [00:00<00:00, 373.57it/s]\n"
     ]
    },
    {
     "name": "stdout",
     "output_type": "stream",
     "text": [
      "Test Accuracy for Meta-Classifier with Base Model GaussianNB: 0.6762589928057554\n",
      "-------------------------------\n",
      "Meta-Classifier with Base Model GRADIENTBOOSTINGCLASSIFIER\n"
     ]
    },
    {
     "name": "stderr",
     "output_type": "stream",
     "text": [
      "Training Base Models: 100%|██████████| 5/5 [00:29<00:00,  5.85s/it]\n",
      "Testing Instances: 100%|██████████| 139/139 [00:00<00:00, 217.78it/s]\n"
     ]
    },
    {
     "name": "stdout",
     "output_type": "stream",
     "text": [
      "Test Accuracy for Meta-Classifier with Base Model GradientBoostingClassifier: 0.7266187050359713\n",
      "-------------------------------\n",
      "Meta-Classifier with Base Model KNEIGHBORSCLASSIFIER\n"
     ]
    },
    {
     "name": "stderr",
     "output_type": "stream",
     "text": [
      "Training Base Models: 100%|██████████| 5/5 [00:00<00:00, 12.28it/s]\n",
      "Testing Instances: 100%|██████████| 139/139 [00:13<00:00, 10.32it/s]\n"
     ]
    },
    {
     "name": "stdout",
     "output_type": "stream",
     "text": [
      "Test Accuracy for Meta-Classifier with Base Model KNeighborsClassifier: 0.7194244604316546\n",
      "-------------------------------\n",
      "Meta-Classifier with Base Model LINEARDISCRIMINANTANALYSIS\n"
     ]
    },
    {
     "name": "stderr",
     "output_type": "stream",
     "text": [
      "Training Base Models: 100%|██████████| 5/5 [00:00<00:00, 10.56it/s]\n",
      "Testing Instances: 100%|██████████| 139/139 [00:00<00:00, 475.92it/s]\n"
     ]
    },
    {
     "name": "stdout",
     "output_type": "stream",
     "text": [
      "Test Accuracy for Meta-Classifier with Base Model LinearDiscriminantAnalysis: 0.60431654676259\n",
      "-------------------------------\n",
      "Meta-Classifier with Base Model LOGISTICREGRESSION\n"
     ]
    },
    {
     "name": "stderr",
     "output_type": "stream",
     "text": [
      "Training Base Models: 100%|██████████| 5/5 [00:00<00:00,  8.09it/s]\n",
      "Testing Instances: 100%|██████████| 139/139 [00:00<00:00, 454.14it/s]\n"
     ]
    },
    {
     "name": "stdout",
     "output_type": "stream",
     "text": [
      "Test Accuracy for Meta-Classifier with Base Model LogisticRegression: 0.6690647482014388\n",
      "-------------------------------\n",
      "Meta-Classifier with Base Model MLPCLASSIFIER\n"
     ]
    },
    {
     "name": "stderr",
     "output_type": "stream",
     "text": [
      "Training Base Models: 100%|██████████| 5/5 [00:02<00:00,  2.32it/s]\n",
      "Testing Instances: 100%|██████████| 139/139 [00:00<00:00, 449.73it/s]\n"
     ]
    },
    {
     "name": "stdout",
     "output_type": "stream",
     "text": [
      "Test Accuracy for Meta-Classifier with Base Model MLPClassifier: 0.7482014388489209\n",
      "-------------------------------\n",
      "Meta-Classifier with Base Model QUADRATICDISCRIMINANTANALYSIS\n"
     ]
    },
    {
     "name": "stderr",
     "output_type": "stream",
     "text": [
      "Training Base Models: 100%|██████████| 5/5 [00:00<00:00, 10.87it/s]\n"
     ]
    },
    {
     "name": "stdout",
     "output_type": "stream",
     "text": [
      "An error occurred while training or testing with QuadraticDiscriminantAnalysis: Input X contains NaN.\n",
      "QuadraticDiscriminantAnalysis does not accept missing values encoded as NaN natively. For supervised learning, you might want to consider sklearn.ensemble.HistGradientBoostingClassifier and Regressor which accept missing values encoded as NaNs natively. Alternatively, it is possible to preprocess the data, for instance by using an imputer transformer in a pipeline or drop samples with missing values. See https://scikit-learn.org/stable/modules/impute.html You can find a list of all estimators that handle NaN values at the following page: https://scikit-learn.org/stable/modules/impute.html#estimators-that-handle-nan-values\n",
      "-------------------------------\n",
      "Meta-Classifier with Base Model RANDOMFORESTCLASSIFIER\n"
     ]
    },
    {
     "name": "stderr",
     "output_type": "stream",
     "text": [
      "Training Base Models: 100%|██████████| 5/5 [00:02<00:00,  2.16it/s]\n",
      "Testing Instances: 100%|██████████| 139/139 [00:09<00:00, 13.96it/s]\n"
     ]
    },
    {
     "name": "stdout",
     "output_type": "stream",
     "text": [
      "Test Accuracy for Meta-Classifier with Base Model RandomForestClassifier: 0.7697841726618705\n",
      "-------------------------------\n",
      "An error occurred while training or testing with VotingClassifier: VotingClassifier.__init__() missing 1 required positional argument: 'estimators'\n",
      "-------------------------------\n",
      "Meta-Classifier with Base Model ADABOOSTCLASSIFIER\n"
     ]
    },
    {
     "name": "stderr",
     "output_type": "stream",
     "text": [
      "Training Base Models: 100%|██████████| 5/5 [00:03<00:00,  1.55it/s]\n",
      "Testing Instances: 100%|██████████| 276/276 [00:14<00:00, 18.47it/s]\n"
     ]
    },
    {
     "name": "stdout",
     "output_type": "stream",
     "text": [
      "Test Accuracy for Meta-Classifier with Base Model AdaBoostClassifier: 0.7753623188405797\n",
      "-------------------------------\n",
      "Meta-Classifier with Base Model BAGGINGCLASSIFIER\n"
     ]
    },
    {
     "name": "stderr",
     "output_type": "stream",
     "text": [
      "Training Base Models: 100%|██████████| 5/5 [00:03<00:00,  1.63it/s]\n",
      "Testing Instances: 100%|██████████| 276/276 [00:03<00:00, 82.32it/s]\n"
     ]
    },
    {
     "name": "stdout",
     "output_type": "stream",
     "text": [
      "Test Accuracy for Meta-Classifier with Base Model BaggingClassifier: 0.7282608695652174\n",
      "-------------------------------\n",
      "Meta-Classifier with Base Model BERNOULLINB\n"
     ]
    },
    {
     "name": "stderr",
     "output_type": "stream",
     "text": [
      "Training Base Models: 100%|██████████| 5/5 [00:00<00:00, 11.25it/s]\n",
      "Testing Instances: 100%|██████████| 276/276 [00:00<00:00, 289.55it/s]\n"
     ]
    },
    {
     "name": "stdout",
     "output_type": "stream",
     "text": [
      "Test Accuracy for Meta-Classifier with Base Model BernoulliNB: 0.5833333333333334\n",
      "-------------------------------\n",
      "Meta-Classifier with Base Model CALIBRATEDCLASSIFIERCV\n"
     ]
    },
    {
     "name": "stderr",
     "output_type": "stream",
     "text": [
      "Training Base Models: 100%|██████████| 5/5 [00:00<00:00,  7.12it/s]\n",
      "Testing Instances: 100%|██████████| 276/276 [00:03<00:00, 80.42it/s]\n"
     ]
    },
    {
     "name": "stdout",
     "output_type": "stream",
     "text": [
      "Test Accuracy for Meta-Classifier with Base Model CalibratedClassifierCV: 0.7065217391304348\n",
      "-------------------------------\n",
      "Meta-Classifier with Base Model DECISIONTREECLASSIFIER\n"
     ]
    },
    {
     "name": "stderr",
     "output_type": "stream",
     "text": [
      "Training Base Models: 100%|██████████| 5/5 [00:00<00:00,  6.53it/s]\n",
      "Testing Instances: 100%|██████████| 276/276 [00:00<00:00, 465.33it/s]\n"
     ]
    },
    {
     "name": "stdout",
     "output_type": "stream",
     "text": [
      "Test Accuracy for Meta-Classifier with Base Model DecisionTreeClassifier: 0.6884057971014492\n",
      "-------------------------------\n",
      "Meta-Classifier with Base Model DUMMYCLASSIFIER\n"
     ]
    },
    {
     "name": "stderr",
     "output_type": "stream",
     "text": [
      "Training Base Models: 100%|██████████| 5/5 [00:00<00:00, 12.42it/s]\n",
      "Testing Instances: 100%|██████████| 276/276 [00:00<00:00, 707.53it/s]\n"
     ]
    },
    {
     "name": "stdout",
     "output_type": "stream",
     "text": [
      "Test Accuracy for Meta-Classifier with Base Model DummyClassifier: 0.5833333333333334\n",
      "-------------------------------\n",
      "Meta-Classifier with Base Model EXTRATREECLASSIFIER\n"
     ]
    },
    {
     "name": "stderr",
     "output_type": "stream",
     "text": [
      "Training Base Models: 100%|██████████| 5/5 [00:00<00:00, 12.21it/s]\n",
      "Testing Instances: 100%|██████████| 276/276 [00:00<00:00, 464.54it/s]\n"
     ]
    },
    {
     "name": "stdout",
     "output_type": "stream",
     "text": [
      "Test Accuracy for Meta-Classifier with Base Model ExtraTreeClassifier: 0.6884057971014492\n",
      "-------------------------------\n",
      "Meta-Classifier with Base Model EXTRATREESCLASSIFIER\n"
     ]
    },
    {
     "name": "stderr",
     "output_type": "stream",
     "text": [
      "Training Base Models: 100%|██████████| 5/5 [00:01<00:00,  3.70it/s]\n",
      "Testing Instances: 100%|██████████| 276/276 [00:19<00:00, 14.06it/s]\n"
     ]
    },
    {
     "name": "stdout",
     "output_type": "stream",
     "text": [
      "Test Accuracy for Meta-Classifier with Base Model ExtraTreesClassifier: 0.7753623188405797\n",
      "-------------------------------\n",
      "Meta-Classifier with Base Model GAUSSIANNB\n"
     ]
    },
    {
     "name": "stderr",
     "output_type": "stream",
     "text": [
      "Training Base Models: 100%|██████████| 5/5 [00:00<00:00, 12.24it/s]\n",
      "Testing Instances: 100%|██████████| 276/276 [00:00<00:00, 403.70it/s]\n"
     ]
    },
    {
     "name": "stdout",
     "output_type": "stream",
     "text": [
      "Test Accuracy for Meta-Classifier with Base Model GaussianNB: 0.6594202898550725\n",
      "-------------------------------\n",
      "Meta-Classifier with Base Model GRADIENTBOOSTINGCLASSIFIER\n"
     ]
    },
    {
     "name": "stderr",
     "output_type": "stream",
     "text": [
      "Training Base Models: 100%|██████████| 5/5 [00:14<00:00,  2.96s/it]\n",
      "Testing Instances: 100%|██████████| 276/276 [00:00<00:00, 294.80it/s]\n"
     ]
    },
    {
     "name": "stdout",
     "output_type": "stream",
     "text": [
      "Test Accuracy for Meta-Classifier with Base Model GradientBoostingClassifier: 0.7717391304347826\n",
      "-------------------------------\n",
      "Meta-Classifier with Base Model KNEIGHBORSCLASSIFIER\n"
     ]
    },
    {
     "name": "stderr",
     "output_type": "stream",
     "text": [
      "Training Base Models: 100%|██████████| 5/5 [00:00<00:00, 11.60it/s]\n",
      "Testing Instances: 100%|██████████| 276/276 [00:27<00:00, 10.18it/s]\n"
     ]
    },
    {
     "name": "stdout",
     "output_type": "stream",
     "text": [
      "Test Accuracy for Meta-Classifier with Base Model KNeighborsClassifier: 0.7427536231884058\n",
      "-------------------------------\n",
      "Meta-Classifier with Base Model LINEARDISCRIMINANTANALYSIS\n"
     ]
    },
    {
     "name": "stderr",
     "output_type": "stream",
     "text": [
      "Training Base Models: 100%|██████████| 5/5 [00:00<00:00, 10.29it/s]\n",
      "Testing Instances: 100%|██████████| 276/276 [00:00<00:00, 488.80it/s]\n"
     ]
    },
    {
     "name": "stdout",
     "output_type": "stream",
     "text": [
      "Test Accuracy for Meta-Classifier with Base Model LinearDiscriminantAnalysis: 0.6920289855072463\n",
      "-------------------------------\n",
      "Meta-Classifier with Base Model LOGISTICREGRESSION\n"
     ]
    },
    {
     "name": "stderr",
     "output_type": "stream",
     "text": [
      "Training Base Models: 100%|██████████| 5/5 [00:00<00:00, 10.14it/s]\n",
      "Testing Instances: 100%|██████████| 276/276 [00:00<00:00, 495.40it/s]\n"
     ]
    },
    {
     "name": "stdout",
     "output_type": "stream",
     "text": [
      "Test Accuracy for Meta-Classifier with Base Model LogisticRegression: 0.6992753623188406\n",
      "-------------------------------\n",
      "Meta-Classifier with Base Model MLPCLASSIFIER\n"
     ]
    },
    {
     "name": "stderr",
     "output_type": "stream",
     "text": [
      "Training Base Models: 100%|██████████| 5/5 [00:02<00:00,  1.81it/s]\n",
      "Testing Instances: 100%|██████████| 276/276 [00:00<00:00, 459.13it/s]\n"
     ]
    },
    {
     "name": "stdout",
     "output_type": "stream",
     "text": [
      "Test Accuracy for Meta-Classifier with Base Model MLPClassifier: 0.7644927536231884\n",
      "-------------------------------\n",
      "Meta-Classifier with Base Model QUADRATICDISCRIMINANTANALYSIS\n"
     ]
    },
    {
     "name": "stderr",
     "output_type": "stream",
     "text": [
      "Training Base Models: 100%|██████████| 5/5 [00:00<00:00, 10.69it/s]\n"
     ]
    },
    {
     "name": "stdout",
     "output_type": "stream",
     "text": [
      "An error occurred while training or testing with QuadraticDiscriminantAnalysis: Input X contains NaN.\n",
      "QuadraticDiscriminantAnalysis does not accept missing values encoded as NaN natively. For supervised learning, you might want to consider sklearn.ensemble.HistGradientBoostingClassifier and Regressor which accept missing values encoded as NaNs natively. Alternatively, it is possible to preprocess the data, for instance by using an imputer transformer in a pipeline or drop samples with missing values. See https://scikit-learn.org/stable/modules/impute.html You can find a list of all estimators that handle NaN values at the following page: https://scikit-learn.org/stable/modules/impute.html#estimators-that-handle-nan-values\n",
      "-------------------------------\n",
      "Meta-Classifier with Base Model RANDOMFORESTCLASSIFIER\n"
     ]
    },
    {
     "name": "stderr",
     "output_type": "stream",
     "text": [
      "Training Base Models: 100%|██████████| 5/5 [00:03<00:00,  1.36it/s]\n",
      "Testing Instances: 100%|██████████| 276/276 [00:19<00:00, 13.86it/s]\n"
     ]
    },
    {
     "name": "stdout",
     "output_type": "stream",
     "text": [
      "Test Accuracy for Meta-Classifier with Base Model RandomForestClassifier: 0.7753623188405797\n",
      "-------------------------------\n",
      "An error occurred while training or testing with VotingClassifier: VotingClassifier.__init__() missing 1 required positional argument: 'estimators'\n",
      "-------------------------------\n",
      "Meta-Classifier with Base Model ADABOOSTCLASSIFIER\n"
     ]
    },
    {
     "name": "stderr",
     "output_type": "stream",
     "text": [
      "Training Base Models: 100%|██████████| 5/5 [00:02<00:00,  2.02it/s]\n",
      "Testing Instances: 100%|██████████| 139/139 [00:07<00:00, 18.60it/s]\n"
     ]
    },
    {
     "name": "stdout",
     "output_type": "stream",
     "text": [
      "Test Accuracy for Meta-Classifier with Base Model AdaBoostClassifier: 0.3669064748201439\n",
      "-------------------------------\n",
      "Meta-Classifier with Base Model BAGGINGCLASSIFIER\n"
     ]
    },
    {
     "name": "stderr",
     "output_type": "stream",
     "text": [
      "Training Base Models: 100%|██████████| 5/5 [00:01<00:00,  3.37it/s]\n",
      "Testing Instances: 100%|██████████| 139/139 [00:01<00:00, 81.47it/s]\n"
     ]
    },
    {
     "name": "stdout",
     "output_type": "stream",
     "text": [
      "Test Accuracy for Meta-Classifier with Base Model BaggingClassifier: 0.6402877697841727\n",
      "-------------------------------\n",
      "Meta-Classifier with Base Model BERNOULLINB\n"
     ]
    },
    {
     "name": "stderr",
     "output_type": "stream",
     "text": [
      "Training Base Models: 100%|██████████| 5/5 [00:00<00:00, 11.21it/s]\n",
      "Testing Instances: 100%|██████████| 139/139 [00:00<00:00, 287.72it/s]\n"
     ]
    },
    {
     "name": "stdout",
     "output_type": "stream",
     "text": [
      "Test Accuracy for Meta-Classifier with Base Model BernoulliNB: 0.302158273381295\n",
      "-------------------------------\n",
      "Meta-Classifier with Base Model CALIBRATEDCLASSIFIERCV\n"
     ]
    },
    {
     "name": "stderr",
     "output_type": "stream",
     "text": [
      "Training Base Models: 100%|██████████| 5/5 [00:01<00:00,  4.40it/s]\n",
      "Testing Instances: 100%|██████████| 139/139 [00:02<00:00, 54.97it/s]\n"
     ]
    },
    {
     "name": "stdout",
     "output_type": "stream",
     "text": [
      "Test Accuracy for Meta-Classifier with Base Model CalibratedClassifierCV: 0.6330935251798561\n",
      "-------------------------------\n",
      "Meta-Classifier with Base Model DECISIONTREECLASSIFIER\n"
     ]
    },
    {
     "name": "stderr",
     "output_type": "stream",
     "text": [
      "Training Base Models: 100%|██████████| 5/5 [00:00<00:00,  9.09it/s]\n",
      "Testing Instances: 100%|██████████| 139/139 [00:00<00:00, 461.69it/s]\n"
     ]
    },
    {
     "name": "stdout",
     "output_type": "stream",
     "text": [
      "Test Accuracy for Meta-Classifier with Base Model DecisionTreeClassifier: 0.6258992805755396\n",
      "-------------------------------\n",
      "Meta-Classifier with Base Model DUMMYCLASSIFIER\n"
     ]
    },
    {
     "name": "stderr",
     "output_type": "stream",
     "text": [
      "Training Base Models: 100%|██████████| 5/5 [00:00<00:00, 12.25it/s]\n",
      "Testing Instances: 100%|██████████| 139/139 [00:00<00:00, 703.55it/s]\n"
     ]
    },
    {
     "name": "stdout",
     "output_type": "stream",
     "text": [
      "Test Accuracy for Meta-Classifier with Base Model DummyClassifier: 0.302158273381295\n",
      "-------------------------------\n",
      "Meta-Classifier with Base Model EXTRATREECLASSIFIER\n"
     ]
    },
    {
     "name": "stderr",
     "output_type": "stream",
     "text": [
      "Training Base Models: 100%|██████████| 5/5 [00:00<00:00, 12.24it/s]\n",
      "Testing Instances: 100%|██████████| 139/139 [00:00<00:00, 463.23it/s]\n"
     ]
    },
    {
     "name": "stdout",
     "output_type": "stream",
     "text": [
      "Test Accuracy for Meta-Classifier with Base Model ExtraTreeClassifier: 0.5755395683453237\n",
      "-------------------------------\n",
      "Meta-Classifier with Base Model EXTRATREESCLASSIFIER\n"
     ]
    },
    {
     "name": "stderr",
     "output_type": "stream",
     "text": [
      "Training Base Models: 100%|██████████| 5/5 [00:01<00:00,  4.12it/s]\n",
      "Testing Instances: 100%|██████████| 139/139 [00:09<00:00, 13.95it/s]\n"
     ]
    },
    {
     "name": "stdout",
     "output_type": "stream",
     "text": [
      "Test Accuracy for Meta-Classifier with Base Model ExtraTreesClassifier: 0.6834532374100719\n",
      "-------------------------------\n",
      "Meta-Classifier with Base Model GAUSSIANNB\n"
     ]
    },
    {
     "name": "stderr",
     "output_type": "stream",
     "text": [
      "Training Base Models: 100%|██████████| 5/5 [00:00<00:00, 12.01it/s]\n",
      "Testing Instances: 100%|██████████| 139/139 [00:00<00:00, 298.86it/s]\n"
     ]
    },
    {
     "name": "stdout",
     "output_type": "stream",
     "text": [
      "Test Accuracy for Meta-Classifier with Base Model GaussianNB: 0.5323741007194245\n",
      "-------------------------------\n",
      "Meta-Classifier with Base Model GRADIENTBOOSTINGCLASSIFIER\n"
     ]
    },
    {
     "name": "stderr",
     "output_type": "stream",
     "text": [
      "Training Base Models: 100%|██████████| 5/5 [00:58<00:00, 11.66s/it]\n",
      "Testing Instances: 100%|██████████| 139/139 [00:00<00:00, 164.33it/s]\n"
     ]
    },
    {
     "name": "stdout",
     "output_type": "stream",
     "text": [
      "Test Accuracy for Meta-Classifier with Base Model GradientBoostingClassifier: 0.6618705035971223\n",
      "-------------------------------\n",
      "Meta-Classifier with Base Model KNEIGHBORSCLASSIFIER\n"
     ]
    },
    {
     "name": "stderr",
     "output_type": "stream",
     "text": [
      "Training Base Models: 100%|██████████| 5/5 [00:00<00:00, 12.31it/s]\n",
      "Testing Instances: 100%|██████████| 139/139 [00:16<00:00,  8.30it/s]\n"
     ]
    },
    {
     "name": "stdout",
     "output_type": "stream",
     "text": [
      "Test Accuracy for Meta-Classifier with Base Model KNeighborsClassifier: 0.6690647482014388\n",
      "-------------------------------\n",
      "Meta-Classifier with Base Model LINEARDISCRIMINANTANALYSIS\n"
     ]
    },
    {
     "name": "stderr",
     "output_type": "stream",
     "text": [
      "Training Base Models: 100%|██████████| 5/5 [00:00<00:00, 10.57it/s]\n",
      "Testing Instances: 100%|██████████| 139/139 [00:00<00:00, 434.92it/s]\n"
     ]
    },
    {
     "name": "stdout",
     "output_type": "stream",
     "text": [
      "Test Accuracy for Meta-Classifier with Base Model LinearDiscriminantAnalysis: 0.5755395683453237\n",
      "-------------------------------\n",
      "Meta-Classifier with Base Model LOGISTICREGRESSION\n"
     ]
    },
    {
     "name": "stderr",
     "output_type": "stream",
     "text": [
      "Training Base Models: 100%|██████████| 5/5 [00:00<00:00,  8.12it/s]\n",
      "Testing Instances: 100%|██████████| 139/139 [00:00<00:00, 454.85it/s]\n"
     ]
    },
    {
     "name": "stdout",
     "output_type": "stream",
     "text": [
      "Test Accuracy for Meta-Classifier with Base Model LogisticRegression: 0.7050359712230215\n",
      "-------------------------------\n",
      "Meta-Classifier with Base Model MLPCLASSIFIER\n"
     ]
    },
    {
     "name": "stderr",
     "output_type": "stream",
     "text": [
      "Training Base Models: 100%|██████████| 5/5 [00:02<00:00,  2.25it/s]\n",
      "Testing Instances: 100%|██████████| 139/139 [00:00<00:00, 445.41it/s]\n"
     ]
    },
    {
     "name": "stdout",
     "output_type": "stream",
     "text": [
      "Test Accuracy for Meta-Classifier with Base Model MLPClassifier: 0.697841726618705\n",
      "-------------------------------\n",
      "Meta-Classifier with Base Model QUADRATICDISCRIMINANTANALYSIS\n"
     ]
    },
    {
     "name": "stderr",
     "output_type": "stream",
     "text": [
      "Training Base Models: 100%|██████████| 5/5 [00:00<00:00,  9.72it/s]\n"
     ]
    },
    {
     "name": "stdout",
     "output_type": "stream",
     "text": [
      "An error occurred while training or testing with QuadraticDiscriminantAnalysis: Input X contains NaN.\n",
      "QuadraticDiscriminantAnalysis does not accept missing values encoded as NaN natively. For supervised learning, you might want to consider sklearn.ensemble.HistGradientBoostingClassifier and Regressor which accept missing values encoded as NaNs natively. Alternatively, it is possible to preprocess the data, for instance by using an imputer transformer in a pipeline or drop samples with missing values. See https://scikit-learn.org/stable/modules/impute.html You can find a list of all estimators that handle NaN values at the following page: https://scikit-learn.org/stable/modules/impute.html#estimators-that-handle-nan-values\n",
      "-------------------------------\n",
      "Meta-Classifier with Base Model RANDOMFORESTCLASSIFIER\n"
     ]
    },
    {
     "name": "stderr",
     "output_type": "stream",
     "text": [
      "Training Base Models: 100%|██████████| 5/5 [00:02<00:00,  2.15it/s]\n",
      "Testing Instances: 100%|██████████| 139/139 [00:09<00:00, 13.98it/s]\n"
     ]
    },
    {
     "name": "stdout",
     "output_type": "stream",
     "text": [
      "Test Accuracy for Meta-Classifier with Base Model RandomForestClassifier: 0.6474820143884892\n",
      "-------------------------------\n",
      "An error occurred while training or testing with VotingClassifier: VotingClassifier.__init__() missing 1 required positional argument: 'estimators'\n",
      "-------------------------------\n",
      "Meta-Classifier with Base Model ADABOOSTCLASSIFIER\n"
     ]
    },
    {
     "name": "stderr",
     "output_type": "stream",
     "text": [
      "Training Base Models: 100%|██████████| 5/5 [00:08<00:00,  1.65s/it]\n",
      "Testing Instances: 100%|██████████| 139/139 [00:06<00:00, 20.07it/s]\n"
     ]
    },
    {
     "name": "stdout",
     "output_type": "stream",
     "text": [
      "Test Accuracy for Meta-Classifier with Base Model AdaBoostClassifier: 0.7122302158273381\n",
      "-------------------------------\n",
      "Meta-Classifier with Base Model BAGGINGCLASSIFIER\n"
     ]
    },
    {
     "name": "stderr",
     "output_type": "stream",
     "text": [
      "Training Base Models: 100%|██████████| 5/5 [00:07<00:00,  1.53s/it]\n",
      "Testing Instances: 100%|██████████| 139/139 [00:02<00:00, 59.64it/s]\n"
     ]
    },
    {
     "name": "stdout",
     "output_type": "stream",
     "text": [
      "Test Accuracy for Meta-Classifier with Base Model BaggingClassifier: 0.7482014388489209\n",
      "-------------------------------\n",
      "Meta-Classifier with Base Model BERNOULLINB\n"
     ]
    },
    {
     "name": "stderr",
     "output_type": "stream",
     "text": [
      "Training Base Models: 100%|██████████| 5/5 [00:00<00:00, 10.50it/s]\n",
      "Testing Instances: 100%|██████████| 139/139 [00:01<00:00, 124.91it/s]\n"
     ]
    },
    {
     "name": "stdout",
     "output_type": "stream",
     "text": [
      "Test Accuracy for Meta-Classifier with Base Model BernoulliNB: 0.7482014388489209\n",
      "-------------------------------\n",
      "Meta-Classifier with Base Model CALIBRATEDCLASSIFIERCV\n"
     ]
    },
    {
     "name": "stderr",
     "output_type": "stream",
     "text": [
      "Training Base Models: 100%|██████████| 5/5 [00:02<00:00,  2.43it/s]\n",
      "Testing Instances: 100%|██████████| 139/139 [00:02<00:00, 58.57it/s]\n"
     ]
    },
    {
     "name": "stdout",
     "output_type": "stream",
     "text": [
      "Test Accuracy for Meta-Classifier with Base Model CalibratedClassifierCV: 0.6690647482014388\n",
      "-------------------------------\n",
      "Meta-Classifier with Base Model DECISIONTREECLASSIFIER\n"
     ]
    },
    {
     "name": "stderr",
     "output_type": "stream",
     "text": [
      "Training Base Models: 100%|██████████| 5/5 [00:01<00:00,  3.68it/s]\n",
      "Testing Instances: 100%|██████████| 139/139 [00:00<00:00, 151.13it/s]\n"
     ]
    },
    {
     "name": "stdout",
     "output_type": "stream",
     "text": [
      "Test Accuracy for Meta-Classifier with Base Model DecisionTreeClassifier: 0.6258992805755396\n",
      "-------------------------------\n",
      "Meta-Classifier with Base Model DUMMYCLASSIFIER\n"
     ]
    },
    {
     "name": "stderr",
     "output_type": "stream",
     "text": [
      "Training Base Models: 100%|██████████| 5/5 [00:00<00:00, 12.37it/s]\n",
      "Testing Instances: 100%|██████████| 139/139 [00:00<00:00, 170.93it/s]\n"
     ]
    },
    {
     "name": "stdout",
     "output_type": "stream",
     "text": [
      "Test Accuracy for Meta-Classifier with Base Model DummyClassifier: 0.7482014388489209\n",
      "-------------------------------\n",
      "Meta-Classifier with Base Model EXTRATREECLASSIFIER\n"
     ]
    },
    {
     "name": "stderr",
     "output_type": "stream",
     "text": [
      "Training Base Models: 100%|██████████| 5/5 [00:00<00:00, 11.49it/s]\n",
      "Testing Instances: 100%|██████████| 139/139 [00:00<00:00, 150.97it/s]\n"
     ]
    },
    {
     "name": "stdout",
     "output_type": "stream",
     "text": [
      "Test Accuracy for Meta-Classifier with Base Model ExtraTreeClassifier: 0.6690647482014388\n",
      "-------------------------------\n",
      "Meta-Classifier with Base Model EXTRATREESCLASSIFIER\n"
     ]
    },
    {
     "name": "stderr",
     "output_type": "stream",
     "text": [
      "Training Base Models: 100%|██████████| 5/5 [00:01<00:00,  3.54it/s]\n",
      "Testing Instances: 100%|██████████| 139/139 [00:10<00:00, 13.38it/s]\n"
     ]
    },
    {
     "name": "stdout",
     "output_type": "stream",
     "text": [
      "Test Accuracy for Meta-Classifier with Base Model ExtraTreesClassifier: 0.7482014388489209\n",
      "-------------------------------\n",
      "Meta-Classifier with Base Model GAUSSIANNB\n"
     ]
    },
    {
     "name": "stderr",
     "output_type": "stream",
     "text": [
      "Training Base Models: 100%|██████████| 5/5 [00:00<00:00, 11.58it/s]\n",
      "Testing Instances: 100%|██████████| 139/139 [00:00<00:00, 142.96it/s]\n"
     ]
    },
    {
     "name": "stdout",
     "output_type": "stream",
     "text": [
      "Test Accuracy for Meta-Classifier with Base Model GaussianNB: 0.6834532374100719\n",
      "-------------------------------\n",
      "Meta-Classifier with Base Model GRADIENTBOOSTINGCLASSIFIER\n"
     ]
    },
    {
     "name": "stderr",
     "output_type": "stream",
     "text": [
      "Training Base Models: 100%|██████████| 5/5 [00:44<00:00,  8.84s/it]\n",
      "Testing Instances: 100%|██████████| 139/139 [00:01<00:00, 125.70it/s]\n"
     ]
    },
    {
     "name": "stdout",
     "output_type": "stream",
     "text": [
      "Test Accuracy for Meta-Classifier with Base Model GradientBoostingClassifier: 0.7482014388489209\n",
      "-------------------------------\n",
      "Meta-Classifier with Base Model KNEIGHBORSCLASSIFIER\n"
     ]
    },
    {
     "name": "stderr",
     "output_type": "stream",
     "text": [
      "Training Base Models: 100%|██████████| 5/5 [00:00<00:00, 12.30it/s]\n",
      "Testing Instances: 100%|██████████| 139/139 [00:14<00:00,  9.69it/s]\n"
     ]
    },
    {
     "name": "stdout",
     "output_type": "stream",
     "text": [
      "Test Accuracy for Meta-Classifier with Base Model KNeighborsClassifier: 0.7122302158273381\n",
      "-------------------------------\n",
      "Meta-Classifier with Base Model LINEARDISCRIMINANTANALYSIS\n"
     ]
    },
    {
     "name": "stderr",
     "output_type": "stream",
     "text": [
      "Training Base Models: 100%|██████████| 5/5 [00:01<00:00,  4.69it/s]\n",
      "Testing Instances: 100%|██████████| 139/139 [00:00<00:00, 153.51it/s]\n"
     ]
    },
    {
     "name": "stdout",
     "output_type": "stream",
     "text": [
      "Test Accuracy for Meta-Classifier with Base Model LinearDiscriminantAnalysis: 0.5899280575539568\n",
      "-------------------------------\n",
      "Meta-Classifier with Base Model LOGISTICREGRESSION\n"
     ]
    },
    {
     "name": "stderr",
     "output_type": "stream",
     "text": [
      "Training Base Models: 100%|██████████| 5/5 [00:00<00:00, 10.67it/s]\n",
      "Testing Instances: 100%|██████████| 139/139 [00:00<00:00, 154.24it/s]\n"
     ]
    },
    {
     "name": "stdout",
     "output_type": "stream",
     "text": [
      "Test Accuracy for Meta-Classifier with Base Model LogisticRegression: 0.7266187050359713\n",
      "-------------------------------\n",
      "Meta-Classifier with Base Model MLPCLASSIFIER\n"
     ]
    },
    {
     "name": "stderr",
     "output_type": "stream",
     "text": [
      "Training Base Models: 100%|██████████| 5/5 [00:02<00:00,  1.98it/s]\n",
      "Testing Instances: 100%|██████████| 139/139 [00:00<00:00, 145.30it/s]\n"
     ]
    },
    {
     "name": "stdout",
     "output_type": "stream",
     "text": [
      "Test Accuracy for Meta-Classifier with Base Model MLPClassifier: 0.7122302158273381\n",
      "-------------------------------\n",
      "Meta-Classifier with Base Model QUADRATICDISCRIMINANTANALYSIS\n"
     ]
    },
    {
     "name": "stderr",
     "output_type": "stream",
     "text": [
      "Training Base Models: 100%|██████████| 5/5 [00:00<00:00,  8.74it/s]\n",
      "Testing Instances: 100%|██████████| 139/139 [00:01<00:00, 117.39it/s]\n"
     ]
    },
    {
     "name": "stdout",
     "output_type": "stream",
     "text": [
      "Test Accuracy for Meta-Classifier with Base Model QuadraticDiscriminantAnalysis: 0.7482014388489209\n",
      "-------------------------------\n",
      "Meta-Classifier with Base Model RANDOMFORESTCLASSIFIER\n"
     ]
    },
    {
     "name": "stderr",
     "output_type": "stream",
     "text": [
      "Training Base Models: 100%|██████████| 5/5 [00:04<00:00,  1.06it/s]\n",
      "Testing Instances: 100%|██████████| 139/139 [00:10<00:00, 13.21it/s]\n"
     ]
    },
    {
     "name": "stdout",
     "output_type": "stream",
     "text": [
      "Test Accuracy for Meta-Classifier with Base Model RandomForestClassifier: 0.7410071942446043\n",
      "-------------------------------\n",
      "An error occurred while training or testing with VotingClassifier: VotingClassifier.__init__() missing 1 required positional argument: 'estimators'\n",
      "-------------------------------\n",
      "Meta-Classifier with Base Model ADABOOSTCLASSIFIER\n"
     ]
    },
    {
     "name": "stderr",
     "output_type": "stream",
     "text": [
      "Training Base Models: 100%|██████████| 5/5 [00:01<00:00,  3.92it/s]\n",
      "Testing Instances: 100%|██████████| 100/100 [00:04<00:00, 21.64it/s]\n"
     ]
    },
    {
     "name": "stdout",
     "output_type": "stream",
     "text": [
      "Test Accuracy for Meta-Classifier with Base Model AdaBoostClassifier: 0.81\n",
      "-------------------------------\n",
      "Meta-Classifier with Base Model BAGGINGCLASSIFIER\n"
     ]
    },
    {
     "name": "stderr",
     "output_type": "stream",
     "text": [
      "Training Base Models: 100%|██████████| 5/5 [00:00<00:00,  7.50it/s]\n",
      "Testing Instances: 100%|██████████| 100/100 [00:01<00:00, 81.10it/s]\n"
     ]
    },
    {
     "name": "stdout",
     "output_type": "stream",
     "text": [
      "Test Accuracy for Meta-Classifier with Base Model BaggingClassifier: 0.82\n",
      "-------------------------------\n",
      "Meta-Classifier with Base Model BERNOULLINB\n"
     ]
    },
    {
     "name": "stderr",
     "output_type": "stream",
     "text": [
      "Training Base Models: 100%|██████████| 5/5 [00:00<00:00, 11.36it/s]\n",
      "Testing Instances: 100%|██████████| 100/100 [00:00<00:00, 270.21it/s]\n"
     ]
    },
    {
     "name": "stdout",
     "output_type": "stream",
     "text": [
      "Test Accuracy for Meta-Classifier with Base Model BernoulliNB: 0.64\n",
      "-------------------------------\n",
      "Meta-Classifier with Base Model CALIBRATEDCLASSIFIERCV\n"
     ]
    },
    {
     "name": "stderr",
     "output_type": "stream",
     "text": [
      "Training Base Models: 100%|██████████| 5/5 [00:00<00:00,  8.19it/s]\n",
      "Testing Instances: 100%|██████████| 100/100 [00:01<00:00, 78.72it/s]\n"
     ]
    },
    {
     "name": "stdout",
     "output_type": "stream",
     "text": [
      "Test Accuracy for Meta-Classifier with Base Model CalibratedClassifierCV: 0.86\n",
      "-------------------------------\n",
      "Meta-Classifier with Base Model DECISIONTREECLASSIFIER\n"
     ]
    },
    {
     "name": "stderr",
     "output_type": "stream",
     "text": [
      "Training Base Models: 100%|██████████| 5/5 [00:00<00:00, 11.57it/s]\n",
      "Testing Instances: 100%|██████████| 100/100 [00:00<00:00, 425.43it/s]\n"
     ]
    },
    {
     "name": "stdout",
     "output_type": "stream",
     "text": [
      "Test Accuracy for Meta-Classifier with Base Model DecisionTreeClassifier: 0.81\n",
      "-------------------------------\n",
      "Meta-Classifier with Base Model DUMMYCLASSIFIER\n"
     ]
    },
    {
     "name": "stderr",
     "output_type": "stream",
     "text": [
      "Training Base Models: 100%|██████████| 5/5 [00:00<00:00, 12.37it/s]\n",
      "Testing Instances: 100%|██████████| 100/100 [00:00<00:00, 632.77it/s]\n"
     ]
    },
    {
     "name": "stdout",
     "output_type": "stream",
     "text": [
      "Test Accuracy for Meta-Classifier with Base Model DummyClassifier: 0.64\n",
      "-------------------------------\n",
      "Meta-Classifier with Base Model EXTRATREECLASSIFIER\n"
     ]
    },
    {
     "name": "stderr",
     "output_type": "stream",
     "text": [
      "Training Base Models: 100%|██████████| 5/5 [00:00<00:00, 12.25it/s]\n",
      "Testing Instances: 100%|██████████| 100/100 [00:00<00:00, 427.25it/s]\n"
     ]
    },
    {
     "name": "stdout",
     "output_type": "stream",
     "text": [
      "Test Accuracy for Meta-Classifier with Base Model ExtraTreeClassifier: 0.79\n",
      "-------------------------------\n",
      "Meta-Classifier with Base Model EXTRATREESCLASSIFIER\n"
     ]
    },
    {
     "name": "stderr",
     "output_type": "stream",
     "text": [
      "Training Base Models: 100%|██████████| 5/5 [00:00<00:00,  5.09it/s]\n",
      "Testing Instances: 100%|██████████| 100/100 [00:07<00:00, 14.01it/s]\n"
     ]
    },
    {
     "name": "stdout",
     "output_type": "stream",
     "text": [
      "Test Accuracy for Meta-Classifier with Base Model ExtraTreesClassifier: 0.89\n",
      "-------------------------------\n",
      "Meta-Classifier with Base Model GAUSSIANNB\n"
     ]
    },
    {
     "name": "stderr",
     "output_type": "stream",
     "text": [
      "Training Base Models: 100%|██████████| 5/5 [00:00<00:00, 12.18it/s]\n",
      "Testing Instances: 100%|██████████| 100/100 [00:00<00:00, 374.45it/s]\n"
     ]
    },
    {
     "name": "stdout",
     "output_type": "stream",
     "text": [
      "Test Accuracy for Meta-Classifier with Base Model GaussianNB: 0.78\n",
      "-------------------------------\n",
      "Meta-Classifier with Base Model GRADIENTBOOSTINGCLASSIFIER\n"
     ]
    },
    {
     "name": "stderr",
     "output_type": "stream",
     "text": [
      "Training Base Models: 100%|██████████| 5/5 [00:03<00:00,  1.44it/s]\n",
      "Testing Instances: 100%|██████████| 100/100 [00:00<00:00, 279.27it/s]\n"
     ]
    },
    {
     "name": "stdout",
     "output_type": "stream",
     "text": [
      "Test Accuracy for Meta-Classifier with Base Model GradientBoostingClassifier: 0.83\n",
      "-------------------------------\n",
      "Meta-Classifier with Base Model KNEIGHBORSCLASSIFIER\n"
     ]
    },
    {
     "name": "stderr",
     "output_type": "stream",
     "text": [
      "Training Base Models: 100%|██████████| 5/5 [00:00<00:00, 12.40it/s]\n",
      "Testing Instances: 100%|██████████| 100/100 [00:09<00:00, 10.49it/s]\n"
     ]
    },
    {
     "name": "stdout",
     "output_type": "stream",
     "text": [
      "Test Accuracy for Meta-Classifier with Base Model KNeighborsClassifier: 0.9\n",
      "-------------------------------\n",
      "Meta-Classifier with Base Model LINEARDISCRIMINANTANALYSIS\n"
     ]
    },
    {
     "name": "stderr",
     "output_type": "stream",
     "text": [
      "Training Base Models: 100%|██████████| 5/5 [00:00<00:00, 10.52it/s]\n",
      "Testing Instances: 100%|██████████| 100/100 [00:00<00:00, 449.21it/s]\n"
     ]
    },
    {
     "name": "stdout",
     "output_type": "stream",
     "text": [
      "Test Accuracy for Meta-Classifier with Base Model LinearDiscriminantAnalysis: 0.59\n",
      "-------------------------------\n",
      "Meta-Classifier with Base Model LOGISTICREGRESSION\n"
     ]
    },
    {
     "name": "stderr",
     "output_type": "stream",
     "text": [
      "Training Base Models: 100%|██████████| 5/5 [00:00<00:00, 10.90it/s]\n",
      "Testing Instances: 100%|██████████| 100/100 [00:00<00:00, 454.44it/s]\n"
     ]
    },
    {
     "name": "stdout",
     "output_type": "stream",
     "text": [
      "Test Accuracy for Meta-Classifier with Base Model LogisticRegression: 0.87\n",
      "-------------------------------\n",
      "Meta-Classifier with Base Model MLPCLASSIFIER\n"
     ]
    },
    {
     "name": "stderr",
     "output_type": "stream",
     "text": [
      "Training Base Models: 100%|██████████| 5/5 [00:01<00:00,  4.43it/s]\n",
      "Testing Instances: 100%|██████████| 100/100 [00:00<00:00, 404.77it/s]\n"
     ]
    },
    {
     "name": "stdout",
     "output_type": "stream",
     "text": [
      "Test Accuracy for Meta-Classifier with Base Model MLPClassifier: 0.88\n",
      "-------------------------------\n",
      "Meta-Classifier with Base Model QUADRATICDISCRIMINANTANALYSIS\n"
     ]
    },
    {
     "name": "stderr",
     "output_type": "stream",
     "text": [
      "Training Base Models: 100%|██████████| 5/5 [00:00<00:00, 10.54it/s]\n",
      "Testing Instances: 100%|██████████| 100/100 [00:00<00:00, 357.06it/s]\n"
     ]
    },
    {
     "name": "stdout",
     "output_type": "stream",
     "text": [
      "Test Accuracy for Meta-Classifier with Base Model QuadraticDiscriminantAnalysis: 0.36\n",
      "-------------------------------\n",
      "Meta-Classifier with Base Model RANDOMFORESTCLASSIFIER\n"
     ]
    },
    {
     "name": "stderr",
     "output_type": "stream",
     "text": [
      "Training Base Models: 100%|██████████| 5/5 [00:01<00:00,  3.83it/s]\n",
      "Testing Instances: 100%|██████████| 100/100 [00:07<00:00, 13.90it/s]\n"
     ]
    },
    {
     "name": "stdout",
     "output_type": "stream",
     "text": [
      "Test Accuracy for Meta-Classifier with Base Model RandomForestClassifier: 0.81\n",
      "-------------------------------\n",
      "An error occurred while training or testing with VotingClassifier: VotingClassifier.__init__() missing 1 required positional argument: 'estimators'\n",
      "-------------------------------\n",
      "Meta-Classifier with Base Model ADABOOSTCLASSIFIER\n"
     ]
    },
    {
     "name": "stderr",
     "output_type": "stream",
     "text": [
      "Training Base Models: 100%|██████████| 5/5 [00:04<00:00,  1.10it/s]\n",
      "Testing Instances: 100%|██████████| 4500/4500 [04:06<00:00, 18.28it/s]\n"
     ]
    },
    {
     "name": "stdout",
     "output_type": "stream",
     "text": [
      "Test Accuracy for Meta-Classifier with Base Model AdaBoostClassifier: 0.9208888888888889\n",
      "-------------------------------\n",
      "Meta-Classifier with Base Model BAGGINGCLASSIFIER\n"
     ]
    },
    {
     "name": "stderr",
     "output_type": "stream",
     "text": [
      "Training Base Models: 100%|██████████| 5/5 [00:02<00:00,  1.93it/s]\n",
      "Testing Instances: 100%|██████████| 4500/4500 [00:57<00:00, 77.88it/s]\n"
     ]
    },
    {
     "name": "stdout",
     "output_type": "stream",
     "text": [
      "Test Accuracy for Meta-Classifier with Base Model BaggingClassifier: 0.9091111111111111\n",
      "-------------------------------\n",
      "Meta-Classifier with Base Model BERNOULLINB\n"
     ]
    },
    {
     "name": "stderr",
     "output_type": "stream",
     "text": [
      "Training Base Models: 100%|██████████| 5/5 [00:00<00:00, 11.23it/s]\n",
      "Testing Instances: 100%|██████████| 4500/4500 [00:17<00:00, 250.14it/s]\n"
     ]
    },
    {
     "name": "stdout",
     "output_type": "stream",
     "text": [
      "Test Accuracy for Meta-Classifier with Base Model BernoulliNB: 0.5837777777777777\n",
      "-------------------------------\n",
      "Meta-Classifier with Base Model CALIBRATEDCLASSIFIERCV\n"
     ]
    },
    {
     "name": "stderr",
     "output_type": "stream",
     "text": [
      "Training Base Models: 100%|██████████| 5/5 [00:01<00:00,  2.74it/s]\n",
      "Testing Instances: 100%|██████████| 4500/4500 [01:19<00:00, 56.68it/s]\n"
     ]
    },
    {
     "name": "stdout",
     "output_type": "stream",
     "text": [
      "Test Accuracy for Meta-Classifier with Base Model CalibratedClassifierCV: 0.9364444444444444\n",
      "-------------------------------\n",
      "Meta-Classifier with Base Model DECISIONTREECLASSIFIER\n"
     ]
    },
    {
     "name": "stderr",
     "output_type": "stream",
     "text": [
      "Training Base Models: 100%|██████████| 5/5 [00:00<00:00,  6.57it/s]\n",
      "Testing Instances: 100%|██████████| 4500/4500 [00:12<00:00, 355.54it/s]\n"
     ]
    },
    {
     "name": "stdout",
     "output_type": "stream",
     "text": [
      "Test Accuracy for Meta-Classifier with Base Model DecisionTreeClassifier: 0.8951111111111111\n",
      "-------------------------------\n",
      "Meta-Classifier with Base Model DUMMYCLASSIFIER\n"
     ]
    },
    {
     "name": "stderr",
     "output_type": "stream",
     "text": [
      "Training Base Models: 100%|██████████| 5/5 [00:00<00:00, 12.25it/s]\n",
      "Testing Instances: 100%|██████████| 4500/4500 [00:09<00:00, 484.15it/s]\n"
     ]
    },
    {
     "name": "stdout",
     "output_type": "stream",
     "text": [
      "Test Accuracy for Meta-Classifier with Base Model DummyClassifier: 0.5837777777777777\n",
      "-------------------------------\n",
      "Meta-Classifier with Base Model EXTRATREECLASSIFIER\n"
     ]
    },
    {
     "name": "stderr",
     "output_type": "stream",
     "text": [
      "Training Base Models: 100%|██████████| 5/5 [00:00<00:00, 12.22it/s]\n",
      "Testing Instances: 100%|██████████| 4500/4500 [00:12<00:00, 355.50it/s]\n"
     ]
    },
    {
     "name": "stdout",
     "output_type": "stream",
     "text": [
      "Test Accuracy for Meta-Classifier with Base Model ExtraTreeClassifier: 0.8548888888888889\n",
      "-------------------------------\n",
      "Meta-Classifier with Base Model EXTRATREESCLASSIFIER\n"
     ]
    },
    {
     "name": "stderr",
     "output_type": "stream",
     "text": [
      "Training Base Models: 100%|██████████| 5/5 [00:01<00:00,  4.21it/s]\n",
      "Testing Instances: 100%|██████████| 4500/4500 [05:22<00:00, 13.93it/s]\n"
     ]
    },
    {
     "name": "stdout",
     "output_type": "stream",
     "text": [
      "Test Accuracy for Meta-Classifier with Base Model ExtraTreesClassifier: 0.9324444444444444\n",
      "-------------------------------\n",
      "Meta-Classifier with Base Model GAUSSIANNB\n"
     ]
    },
    {
     "name": "stderr",
     "output_type": "stream",
     "text": [
      "Training Base Models: 100%|██████████| 5/5 [00:00<00:00, 12.10it/s]\n",
      "Testing Instances: 100%|██████████| 4500/4500 [00:16<00:00, 266.15it/s]\n"
     ]
    },
    {
     "name": "stdout",
     "output_type": "stream",
     "text": [
      "Test Accuracy for Meta-Classifier with Base Model GaussianNB: 0.6295555555555555\n",
      "-------------------------------\n",
      "Meta-Classifier with Base Model GRADIENTBOOSTINGCLASSIFIER\n"
     ]
    },
    {
     "name": "stderr",
     "output_type": "stream",
     "text": [
      "Training Base Models: 100%|██████████| 5/5 [01:47<00:00, 21.40s/it]\n",
      "Testing Instances: 100%|██████████| 4500/4500 [00:28<00:00, 160.30it/s]\n"
     ]
    },
    {
     "name": "stdout",
     "output_type": "stream",
     "text": [
      "Test Accuracy for Meta-Classifier with Base Model GradientBoostingClassifier: 0.9286666666666666\n",
      "-------------------------------\n",
      "Meta-Classifier with Base Model KNEIGHBORSCLASSIFIER\n"
     ]
    },
    {
     "name": "stderr",
     "output_type": "stream",
     "text": [
      "Training Base Models: 100%|██████████| 5/5 [00:00<00:00, 12.30it/s]\n",
      "Testing Instances: 100%|██████████| 4500/4500 [09:05<00:00,  8.25it/s]\n"
     ]
    },
    {
     "name": "stdout",
     "output_type": "stream",
     "text": [
      "Test Accuracy for Meta-Classifier with Base Model KNeighborsClassifier: 0.9302222222222222\n",
      "-------------------------------\n",
      "Meta-Classifier with Base Model LINEARDISCRIMINANTANALYSIS\n"
     ]
    },
    {
     "name": "stderr",
     "output_type": "stream",
     "text": [
      "Training Base Models: 100%|██████████| 5/5 [00:00<00:00,  9.11it/s]\n",
      "Testing Instances: 100%|██████████| 4500/4500 [00:12<00:00, 362.16it/s]\n"
     ]
    },
    {
     "name": "stdout",
     "output_type": "stream",
     "text": [
      "Test Accuracy for Meta-Classifier with Base Model LinearDiscriminantAnalysis: 0.5835555555555556\n",
      "-------------------------------\n",
      "Meta-Classifier with Base Model LOGISTICREGRESSION\n"
     ]
    },
    {
     "name": "stderr",
     "output_type": "stream",
     "text": [
      "Training Base Models: 100%|██████████| 5/5 [00:00<00:00,  8.02it/s]\n",
      "Testing Instances: 100%|██████████| 4500/4500 [00:12<00:00, 365.55it/s]\n"
     ]
    },
    {
     "name": "stdout",
     "output_type": "stream",
     "text": [
      "Test Accuracy for Meta-Classifier with Base Model LogisticRegression: 0.9331111111111111\n",
      "-------------------------------\n",
      "Meta-Classifier with Base Model MLPCLASSIFIER\n"
     ]
    },
    {
     "name": "stderr",
     "output_type": "stream",
     "text": [
      "Training Base Models: 100%|██████████| 5/5 [00:03<00:00,  1.53it/s]\n",
      "Testing Instances: 100%|██████████| 4500/4500 [00:12<00:00, 364.06it/s]\n"
     ]
    },
    {
     "name": "stdout",
     "output_type": "stream",
     "text": [
      "Test Accuracy for Meta-Classifier with Base Model MLPClassifier: 0.9337777777777778\n",
      "-------------------------------\n",
      "Meta-Classifier with Base Model QUADRATICDISCRIMINANTANALYSIS\n"
     ]
    },
    {
     "name": "stderr",
     "output_type": "stream",
     "text": [
      "Training Base Models: 100%|██████████| 5/5 [00:00<00:00,  9.17it/s]\n"
     ]
    },
    {
     "name": "stdout",
     "output_type": "stream",
     "text": [
      "An error occurred while training or testing with QuadraticDiscriminantAnalysis: Input X contains NaN.\n",
      "QuadraticDiscriminantAnalysis does not accept missing values encoded as NaN natively. For supervised learning, you might want to consider sklearn.ensemble.HistGradientBoostingClassifier and Regressor which accept missing values encoded as NaNs natively. Alternatively, it is possible to preprocess the data, for instance by using an imputer transformer in a pipeline or drop samples with missing values. See https://scikit-learn.org/stable/modules/impute.html You can find a list of all estimators that handle NaN values at the following page: https://scikit-learn.org/stable/modules/impute.html#estimators-that-handle-nan-values\n",
      "-------------------------------\n",
      "Meta-Classifier with Base Model RANDOMFORESTCLASSIFIER\n"
     ]
    },
    {
     "name": "stderr",
     "output_type": "stream",
     "text": [
      "Training Base Models: 100%|██████████| 5/5 [00:03<00:00,  1.61it/s]\n",
      "Testing Instances: 100%|██████████| 4500/4500 [05:23<00:00, 13.91it/s]\n"
     ]
    },
    {
     "name": "stdout",
     "output_type": "stream",
     "text": [
      "Test Accuracy for Meta-Classifier with Base Model RandomForestClassifier: 0.9366666666666666\n",
      "-------------------------------\n",
      "An error occurred while training or testing with VotingClassifier: VotingClassifier.__init__() missing 1 required positional argument: 'estimators'\n",
      "-------------------------------\n",
      "Meta-Classifier with Base Model ADABOOSTCLASSIFIER\n"
     ]
    },
    {
     "name": "stderr",
     "output_type": "stream",
     "text": [
      "Training Base Models: 100%|██████████| 5/5 [00:00<00:00,  6.06it/s]\n",
      "Testing Instances: 100%|██████████| 861/861 [00:32<00:00, 26.57it/s]\n"
     ]
    },
    {
     "name": "stdout",
     "output_type": "stream",
     "text": [
      "Test Accuracy for Meta-Classifier with Base Model AdaBoostClassifier: 0.8153310104529616\n",
      "-------------------------------\n",
      "Meta-Classifier with Base Model BAGGINGCLASSIFIER\n"
     ]
    },
    {
     "name": "stderr",
     "output_type": "stream",
     "text": [
      "Training Base Models: 100%|██████████| 5/5 [00:00<00:00,  9.03it/s]\n",
      "Testing Instances: 100%|██████████| 861/861 [00:11<00:00, 77.82it/s]\n"
     ]
    },
    {
     "name": "stdout",
     "output_type": "stream",
     "text": [
      "Test Accuracy for Meta-Classifier with Base Model BaggingClassifier: 0.9651567944250871\n",
      "-------------------------------\n",
      "Meta-Classifier with Base Model BERNOULLINB\n"
     ]
    },
    {
     "name": "stderr",
     "output_type": "stream",
     "text": [
      "Training Base Models: 100%|██████████| 5/5 [00:00<00:00, 11.16it/s]\n",
      "Testing Instances: 100%|██████████| 861/861 [00:03<00:00, 250.84it/s]\n"
     ]
    },
    {
     "name": "stdout",
     "output_type": "stream",
     "text": [
      "Test Accuracy for Meta-Classifier with Base Model BernoulliNB: 0.49709639953542395\n",
      "-------------------------------\n",
      "Meta-Classifier with Base Model CALIBRATEDCLASSIFIERCV\n"
     ]
    },
    {
     "name": "stderr",
     "output_type": "stream",
     "text": [
      "Training Base Models: 100%|██████████| 5/5 [00:00<00:00,  9.63it/s]\n",
      "Testing Instances: 100%|██████████| 861/861 [00:11<00:00, 76.13it/s]\n"
     ]
    },
    {
     "name": "stdout",
     "output_type": "stream",
     "text": [
      "Test Accuracy for Meta-Classifier with Base Model CalibratedClassifierCV: 1.0\n",
      "-------------------------------\n",
      "Meta-Classifier with Base Model DECISIONTREECLASSIFIER\n"
     ]
    },
    {
     "name": "stderr",
     "output_type": "stream",
     "text": [
      "Training Base Models: 100%|██████████| 5/5 [00:00<00:00, 11.45it/s]\n",
      "Testing Instances: 100%|██████████| 861/861 [00:02<00:00, 361.81it/s]\n"
     ]
    },
    {
     "name": "stdout",
     "output_type": "stream",
     "text": [
      "Test Accuracy for Meta-Classifier with Base Model DecisionTreeClassifier: 0.9860627177700348\n",
      "-------------------------------\n",
      "Meta-Classifier with Base Model DUMMYCLASSIFIER\n"
     ]
    },
    {
     "name": "stderr",
     "output_type": "stream",
     "text": [
      "Training Base Models: 100%|██████████| 5/5 [00:00<00:00, 12.28it/s]\n",
      "Testing Instances: 100%|██████████| 861/861 [00:01<00:00, 497.84it/s]\n"
     ]
    },
    {
     "name": "stdout",
     "output_type": "stream",
     "text": [
      "Test Accuracy for Meta-Classifier with Base Model DummyClassifier: 0.49709639953542395\n",
      "-------------------------------\n",
      "Meta-Classifier with Base Model EXTRATREECLASSIFIER\n"
     ]
    },
    {
     "name": "stderr",
     "output_type": "stream",
     "text": [
      "Training Base Models: 100%|██████████| 5/5 [00:00<00:00, 12.31it/s]\n",
      "Testing Instances: 100%|██████████| 861/861 [00:02<00:00, 358.03it/s]\n"
     ]
    },
    {
     "name": "stdout",
     "output_type": "stream",
     "text": [
      "Test Accuracy for Meta-Classifier with Base Model ExtraTreeClassifier: 0.9547038327526133\n",
      "-------------------------------\n",
      "Meta-Classifier with Base Model EXTRATREESCLASSIFIER\n"
     ]
    },
    {
     "name": "stderr",
     "output_type": "stream",
     "text": [
      "Training Base Models: 100%|██████████| 5/5 [00:00<00:00,  5.39it/s]\n",
      "Testing Instances: 100%|██████████| 861/861 [01:02<00:00, 13.83it/s]\n"
     ]
    },
    {
     "name": "stdout",
     "output_type": "stream",
     "text": [
      "Test Accuracy for Meta-Classifier with Base Model ExtraTreesClassifier: 0.8536585365853658\n",
      "-------------------------------\n",
      "Meta-Classifier with Base Model GAUSSIANNB\n"
     ]
    },
    {
     "name": "stderr",
     "output_type": "stream",
     "text": [
      "Training Base Models: 100%|██████████| 5/5 [00:00<00:00, 12.25it/s]\n",
      "Testing Instances: 100%|██████████| 861/861 [00:02<00:00, 321.86it/s]\n"
     ]
    },
    {
     "name": "stdout",
     "output_type": "stream",
     "text": [
      "Test Accuracy for Meta-Classifier with Base Model GaussianNB: 0.9988385598141696\n",
      "-------------------------------\n",
      "Meta-Classifier with Base Model GRADIENTBOOSTINGCLASSIFIER\n"
     ]
    },
    {
     "name": "stderr",
     "output_type": "stream",
     "text": [
      "Training Base Models: 100%|██████████| 5/5 [00:01<00:00,  3.95it/s]\n",
      "Testing Instances: 100%|██████████| 861/861 [00:03<00:00, 251.26it/s]\n"
     ]
    },
    {
     "name": "stdout",
     "output_type": "stream",
     "text": [
      "Test Accuracy for Meta-Classifier with Base Model GradientBoostingClassifier: 0.8722415795586528\n",
      "-------------------------------\n",
      "Meta-Classifier with Base Model KNEIGHBORSCLASSIFIER\n"
     ]
    },
    {
     "name": "stderr",
     "output_type": "stream",
     "text": [
      "Training Base Models: 100%|██████████| 5/5 [00:00<00:00, 12.34it/s]\n",
      "Testing Instances: 100%|██████████| 861/861 [01:22<00:00, 10.37it/s]\n"
     ]
    },
    {
     "name": "stdout",
     "output_type": "stream",
     "text": [
      "Test Accuracy for Meta-Classifier with Base Model KNeighborsClassifier: 0.9337979094076655\n",
      "-------------------------------\n",
      "Meta-Classifier with Base Model LINEARDISCRIMINANTANALYSIS\n"
     ]
    },
    {
     "name": "stderr",
     "output_type": "stream",
     "text": [
      "Training Base Models: 100%|██████████| 5/5 [00:00<00:00, 11.21it/s]\n",
      "Testing Instances: 100%|██████████| 861/861 [00:02<00:00, 376.78it/s]\n"
     ]
    },
    {
     "name": "stdout",
     "output_type": "stream",
     "text": [
      "Test Accuracy for Meta-Classifier with Base Model LinearDiscriminantAnalysis: 0.9883855981416957\n",
      "-------------------------------\n",
      "Meta-Classifier with Base Model LOGISTICREGRESSION\n"
     ]
    },
    {
     "name": "stderr",
     "output_type": "stream",
     "text": [
      "Training Base Models: 100%|██████████| 5/5 [00:00<00:00, 10.99it/s]\n",
      "Testing Instances: 100%|██████████| 861/861 [00:02<00:00, 379.86it/s]\n"
     ]
    },
    {
     "name": "stdout",
     "output_type": "stream",
     "text": [
      "Test Accuracy for Meta-Classifier with Base Model LogisticRegression: 0.9976771196283392\n",
      "-------------------------------\n",
      "Meta-Classifier with Base Model MLPCLASSIFIER\n"
     ]
    },
    {
     "name": "stderr",
     "output_type": "stream",
     "text": [
      "Training Base Models: 100%|██████████| 5/5 [00:00<00:00,  5.37it/s]\n",
      "Testing Instances: 100%|██████████| 861/861 [00:02<00:00, 367.38it/s]\n"
     ]
    },
    {
     "name": "stdout",
     "output_type": "stream",
     "text": [
      "Test Accuracy for Meta-Classifier with Base Model MLPClassifier: 0.9814169570267132\n",
      "-------------------------------\n",
      "Meta-Classifier with Base Model QUADRATICDISCRIMINANTANALYSIS\n"
     ]
    },
    {
     "name": "stderr",
     "output_type": "stream",
     "text": [
      "Training Base Models: 100%|██████████| 5/5 [00:00<00:00, 11.21it/s]\n",
      "Testing Instances: 100%|██████████| 861/861 [00:02<00:00, 335.33it/s]\n"
     ]
    },
    {
     "name": "stdout",
     "output_type": "stream",
     "text": [
      "Test Accuracy for Meta-Classifier with Base Model QuadraticDiscriminantAnalysis: 0.49709639953542395\n",
      "-------------------------------\n",
      "Meta-Classifier with Base Model RANDOMFORESTCLASSIFIER\n"
     ]
    },
    {
     "name": "stderr",
     "output_type": "stream",
     "text": [
      "Training Base Models: 100%|██████████| 5/5 [00:01<00:00,  4.42it/s]\n",
      "Testing Instances: 100%|██████████| 861/861 [01:01<00:00, 13.93it/s]\n"
     ]
    },
    {
     "name": "stdout",
     "output_type": "stream",
     "text": [
      "Test Accuracy for Meta-Classifier with Base Model RandomForestClassifier: 0.8850174216027874\n",
      "-------------------------------\n",
      "An error occurred while training or testing with VotingClassifier: VotingClassifier.__init__() missing 1 required positional argument: 'estimators'\n",
      "-------------------------------\n",
      "Meta-Classifier with Base Model ADABOOSTCLASSIFIER\n"
     ]
    },
    {
     "name": "stderr",
     "output_type": "stream",
     "text": [
      "Training Base Models: 100%|██████████| 5/5 [00:44<00:00,  8.86s/it]\n",
      "Testing Instances: 100%|██████████| 7711/7711 [06:57<00:00, 18.47it/s]\n"
     ]
    },
    {
     "name": "stdout",
     "output_type": "stream",
     "text": [
      "Test Accuracy for Meta-Classifier with Base Model AdaBoostClassifier: 0.3898327065231488\n",
      "-------------------------------\n",
      "Meta-Classifier with Base Model BAGGINGCLASSIFIER\n"
     ]
    },
    {
     "name": "stderr",
     "output_type": "stream",
     "text": [
      "Training Base Models: 100%|██████████| 5/5 [01:20<00:00, 16.08s/it]\n",
      "Testing Instances: 100%|██████████| 7711/7711 [01:35<00:00, 80.80it/s]\n"
     ]
    },
    {
     "name": "stdout",
     "output_type": "stream",
     "text": [
      "Test Accuracy for Meta-Classifier with Base Model BaggingClassifier: 0.6253404227726624\n",
      "-------------------------------\n",
      "Meta-Classifier with Base Model BERNOULLINB\n"
     ]
    },
    {
     "name": "stderr",
     "output_type": "stream",
     "text": [
      "Training Base Models: 100%|██████████| 5/5 [00:00<00:00, 10.26it/s]\n",
      "Testing Instances: 100%|██████████| 7711/7711 [00:27<00:00, 283.23it/s]\n"
     ]
    },
    {
     "name": "stdout",
     "output_type": "stream",
     "text": [
      "Test Accuracy for Meta-Classifier with Base Model BernoulliNB: 0.24238101413565036\n",
      "-------------------------------\n",
      "Meta-Classifier with Base Model CALIBRATEDCLASSIFIERCV\n"
     ]
    },
    {
     "name": "stderr",
     "output_type": "stream",
     "text": [
      "Training Base Models: 100%|██████████| 5/5 [00:32<00:00,  6.59s/it]\n",
      "Testing Instances: 100%|██████████| 7711/7711 [02:26<00:00, 52.55it/s]\n"
     ]
    },
    {
     "name": "stdout",
     "output_type": "stream",
     "text": [
      "Test Accuracy for Meta-Classifier with Base Model CalibratedClassifierCV: 0.5947347944494877\n",
      "-------------------------------\n",
      "Meta-Classifier with Base Model DECISIONTREECLASSIFIER\n"
     ]
    },
    {
     "name": "stderr",
     "output_type": "stream",
     "text": [
      "Training Base Models: 100%|██████████| 5/5 [00:10<00:00,  2.20s/it]\n",
      "Testing Instances: 100%|██████████| 7711/7711 [00:18<00:00, 426.65it/s]\n"
     ]
    },
    {
     "name": "stdout",
     "output_type": "stream",
     "text": [
      "Test Accuracy for Meta-Classifier with Base Model DecisionTreeClassifier: 0.4829464401504344\n",
      "-------------------------------\n",
      "Meta-Classifier with Base Model DUMMYCLASSIFIER\n"
     ]
    },
    {
     "name": "stderr",
     "output_type": "stream",
     "text": [
      "Training Base Models: 100%|██████████| 5/5 [00:00<00:00, 12.34it/s]\n",
      "Testing Instances: 100%|██████████| 7711/7711 [00:12<00:00, 622.93it/s]\n"
     ]
    },
    {
     "name": "stdout",
     "output_type": "stream",
     "text": [
      "Test Accuracy for Meta-Classifier with Base Model DummyClassifier: 0.24238101413565036\n",
      "-------------------------------\n",
      "Meta-Classifier with Base Model EXTRATREECLASSIFIER\n"
     ]
    },
    {
     "name": "stderr",
     "output_type": "stream",
     "text": [
      "Training Base Models: 100%|██████████| 5/5 [00:00<00:00,  9.58it/s]\n",
      "Testing Instances: 100%|██████████| 7711/7711 [00:18<00:00, 426.11it/s]\n"
     ]
    },
    {
     "name": "stdout",
     "output_type": "stream",
     "text": [
      "Test Accuracy for Meta-Classifier with Base Model ExtraTreeClassifier: 0.46427181947866686\n",
      "-------------------------------\n",
      "Meta-Classifier with Base Model EXTRATREESCLASSIFIER\n"
     ]
    },
    {
     "name": "stderr",
     "output_type": "stream",
     "text": [
      "Training Base Models: 100%|██████████| 5/5 [00:12<00:00,  2.46s/it]\n",
      "Testing Instances: 100%|██████████| 7711/7711 [09:07<00:00, 14.08it/s]\n"
     ]
    },
    {
     "name": "stdout",
     "output_type": "stream",
     "text": [
      "Test Accuracy for Meta-Classifier with Base Model ExtraTreesClassifier: 0.6620412397873168\n",
      "-------------------------------\n",
      "Meta-Classifier with Base Model GAUSSIANNB\n"
     ]
    },
    {
     "name": "stderr",
     "output_type": "stream",
     "text": [
      "Training Base Models: 100%|██████████| 5/5 [00:00<00:00, 11.07it/s]\n",
      "Testing Instances: 100%|██████████| 7711/7711 [00:28<00:00, 272.65it/s]\n"
     ]
    },
    {
     "name": "stdout",
     "output_type": "stream",
     "text": [
      "Test Accuracy for Meta-Classifier with Base Model GaussianNB: 0.5109583711580858\n",
      "-------------------------------\n",
      "Meta-Classifier with Base Model GRADIENTBOOSTINGCLASSIFIER\n"
     ]
    },
    {
     "name": "stderr",
     "output_type": "stream",
     "text": [
      "Training Base Models: 100%|██████████| 5/5 [27:46<00:00, 333.33s/it]\n",
      "Testing Instances: 100%|██████████| 7711/7711 [00:52<00:00, 147.28it/s]\n"
     ]
    },
    {
     "name": "stdout",
     "output_type": "stream",
     "text": [
      "Test Accuracy for Meta-Classifier with Base Model GradientBoostingClassifier: 0.6485540137465958\n",
      "-------------------------------\n",
      "Meta-Classifier with Base Model KNEIGHBORSCLASSIFIER\n"
     ]
    },
    {
     "name": "stderr",
     "output_type": "stream",
     "text": [
      "Training Base Models: 100%|██████████| 5/5 [00:00<00:00, 11.39it/s]\n",
      "Testing Instances: 100%|██████████| 7711/7711 [15:04<00:00,  8.52it/s]\n"
     ]
    },
    {
     "name": "stdout",
     "output_type": "stream",
     "text": [
      "Test Accuracy for Meta-Classifier with Base Model KNeighborsClassifier: 0.6144468940474647\n",
      "-------------------------------\n",
      "Meta-Classifier with Base Model LINEARDISCRIMINANTANALYSIS\n"
     ]
    },
    {
     "name": "stderr",
     "output_type": "stream",
     "text": [
      "Training Base Models: 100%|██████████| 5/5 [00:01<00:00,  4.75it/s]\n",
      "Testing Instances: 100%|██████████| 7711/7711 [00:17<00:00, 436.89it/s]\n"
     ]
    },
    {
     "name": "stdout",
     "output_type": "stream",
     "text": [
      "Test Accuracy for Meta-Classifier with Base Model LinearDiscriminantAnalysis: 0.5710024640124497\n",
      "-------------------------------\n",
      "Meta-Classifier with Base Model LOGISTICREGRESSION\n"
     ]
    },
    {
     "name": "stderr",
     "output_type": "stream",
     "text": [
      "Training Base Models: 100%|██████████| 5/5 [00:01<00:00,  3.27it/s]\n",
      "Testing Instances: 100%|██████████| 7711/7711 [00:17<00:00, 443.52it/s]\n"
     ]
    },
    {
     "name": "stdout",
     "output_type": "stream",
     "text": [
      "Test Accuracy for Meta-Classifier with Base Model LogisticRegression: 0.533264168071586\n",
      "-------------------------------\n",
      "Meta-Classifier with Base Model MLPCLASSIFIER\n"
     ]
    },
    {
     "name": "stderr",
     "output_type": "stream",
     "text": [
      "Training Base Models: 100%|██████████| 5/5 [00:42<00:00,  8.52s/it]\n",
      "Testing Instances: 100%|██████████| 7711/7711 [00:17<00:00, 441.76it/s]\n"
     ]
    },
    {
     "name": "stdout",
     "output_type": "stream",
     "text": [
      "Test Accuracy for Meta-Classifier with Base Model MLPClassifier: 0.5227596939437168\n",
      "-------------------------------\n",
      "Meta-Classifier with Base Model QUADRATICDISCRIMINANTANALYSIS\n"
     ]
    },
    {
     "name": "stderr",
     "output_type": "stream",
     "text": [
      "Training Base Models: 100%|██████████| 5/5 [00:00<00:00,  8.08it/s]\n",
      "Testing Instances: 100%|██████████| 7711/7711 [00:28<00:00, 273.04it/s]\n"
     ]
    },
    {
     "name": "stdout",
     "output_type": "stream",
     "text": [
      "Test Accuracy for Meta-Classifier with Base Model QuadraticDiscriminantAnalysis: 0.39839190766437554\n",
      "-------------------------------\n",
      "Meta-Classifier with Base Model RANDOMFORESTCLASSIFIER\n"
     ]
    },
    {
     "name": "stderr",
     "output_type": "stream",
     "text": [
      "Training Base Models: 100%|██████████| 5/5 [01:19<00:00, 15.96s/it]\n",
      "Testing Instances: 100%|██████████| 7711/7711 [09:13<00:00, 13.93it/s]\n"
     ]
    },
    {
     "name": "stdout",
     "output_type": "stream",
     "text": [
      "Test Accuracy for Meta-Classifier with Base Model RandomForestClassifier: 0.6608740759953313\n",
      "-------------------------------\n",
      "An error occurred while training or testing with VotingClassifier: VotingClassifier.__init__() missing 1 required positional argument: 'estimators'\n",
      "-------------------------------\n",
      "Meta-Classifier with Base Model ADABOOSTCLASSIFIER\n"
     ]
    },
    {
     "name": "stderr",
     "output_type": "stream",
     "text": [
      "Training Base Models: 100%|██████████| 5/5 [00:25<00:00,  5.00s/it]\n",
      "Testing Instances: 100%|██████████| 362/362 [00:23<00:00, 15.16it/s]\n"
     ]
    },
    {
     "name": "stdout",
     "output_type": "stream",
     "text": [
      "Test Accuracy for Meta-Classifier with Base Model AdaBoostClassifier: 0.17403314917127072\n",
      "-------------------------------\n",
      "Meta-Classifier with Base Model BAGGINGCLASSIFIER\n"
     ]
    },
    {
     "name": "stderr",
     "output_type": "stream",
     "text": [
      "Training Base Models: 100%|██████████| 5/5 [00:20<00:00,  4.11s/it]\n",
      "Testing Instances: 100%|██████████| 362/362 [00:08<00:00, 40.82it/s]\n"
     ]
    },
    {
     "name": "stdout",
     "output_type": "stream",
     "text": [
      "Test Accuracy for Meta-Classifier with Base Model BaggingClassifier: 0.3756906077348066\n",
      "-------------------------------\n",
      "Meta-Classifier with Base Model BERNOULLINB\n"
     ]
    },
    {
     "name": "stderr",
     "output_type": "stream",
     "text": [
      "Training Base Models: 100%|██████████| 5/5 [00:00<00:00, 10.72it/s]\n",
      "Testing Instances: 100%|██████████| 362/362 [00:05<00:00, 61.00it/s]\n"
     ]
    },
    {
     "name": "stdout",
     "output_type": "stream",
     "text": [
      "Test Accuracy for Meta-Classifier with Base Model BernoulliNB: 0.16574585635359115\n",
      "-------------------------------\n",
      "Meta-Classifier with Base Model CALIBRATEDCLASSIFIERCV\n"
     ]
    },
    {
     "name": "stderr",
     "output_type": "stream",
     "text": [
      "Training Base Models: 100%|██████████| 5/5 [01:47<00:00, 21.44s/it]\n",
      "Testing Instances: 100%|██████████| 362/362 [00:13<00:00, 27.78it/s]\n"
     ]
    },
    {
     "name": "stdout",
     "output_type": "stream",
     "text": [
      "Test Accuracy for Meta-Classifier with Base Model CalibratedClassifierCV: 0.3674033149171271\n",
      "-------------------------------\n",
      "Meta-Classifier with Base Model DECISIONTREECLASSIFIER\n"
     ]
    },
    {
     "name": "stderr",
     "output_type": "stream",
     "text": [
      "Training Base Models: 100%|██████████| 5/5 [00:03<00:00,  1.58it/s]\n",
      "Testing Instances: 100%|██████████| 362/362 [00:05<00:00, 69.29it/s]\n"
     ]
    },
    {
     "name": "stdout",
     "output_type": "stream",
     "text": [
      "Test Accuracy for Meta-Classifier with Base Model DecisionTreeClassifier: 0.3453038674033149\n",
      "-------------------------------\n",
      "Meta-Classifier with Base Model DUMMYCLASSIFIER\n"
     ]
    },
    {
     "name": "stderr",
     "output_type": "stream",
     "text": [
      "Training Base Models: 100%|██████████| 5/5 [00:00<00:00, 12.36it/s]\n",
      "Testing Instances: 100%|██████████| 362/362 [00:04<00:00, 73.90it/s]\n"
     ]
    },
    {
     "name": "stdout",
     "output_type": "stream",
     "text": [
      "Test Accuracy for Meta-Classifier with Base Model DummyClassifier: 0.08287292817679558\n",
      "-------------------------------\n",
      "Meta-Classifier with Base Model EXTRATREECLASSIFIER\n"
     ]
    },
    {
     "name": "stderr",
     "output_type": "stream",
     "text": [
      "Training Base Models: 100%|██████████| 5/5 [00:00<00:00, 11.68it/s]\n",
      "Testing Instances: 100%|██████████| 362/362 [00:05<00:00, 69.53it/s]\n"
     ]
    },
    {
     "name": "stdout",
     "output_type": "stream",
     "text": [
      "Test Accuracy for Meta-Classifier with Base Model ExtraTreeClassifier: 0.30939226519337015\n",
      "-------------------------------\n",
      "Meta-Classifier with Base Model EXTRATREESCLASSIFIER\n"
     ]
    },
    {
     "name": "stderr",
     "output_type": "stream",
     "text": [
      "Training Base Models: 100%|██████████| 5/5 [00:02<00:00,  1.98it/s]\n",
      "Testing Instances: 100%|██████████| 362/362 [00:29<00:00, 12.10it/s]\n"
     ]
    },
    {
     "name": "stdout",
     "output_type": "stream",
     "text": [
      "Test Accuracy for Meta-Classifier with Base Model ExtraTreesClassifier: 0.4613259668508287\n",
      "-------------------------------\n",
      "Meta-Classifier with Base Model GAUSSIANNB\n"
     ]
    },
    {
     "name": "stderr",
     "output_type": "stream",
     "text": [
      "Training Base Models: 100%|██████████| 5/5 [00:00<00:00, 11.34it/s]\n",
      "Testing Instances: 100%|██████████| 362/362 [00:06<00:00, 57.93it/s]\n"
     ]
    },
    {
     "name": "stdout",
     "output_type": "stream",
     "text": [
      "Test Accuracy for Meta-Classifier with Base Model GaussianNB: 0.3011049723756906\n",
      "-------------------------------\n",
      "Meta-Classifier with Base Model GRADIENTBOOSTINGCLASSIFIER\n"
     ]
    },
    {
     "name": "stderr",
     "output_type": "stream",
     "text": [
      "Training Base Models: 100%|██████████| 5/5 [26:00<00:00, 312.07s/it]\n",
      "Testing Instances: 100%|██████████| 362/362 [00:07<00:00, 47.83it/s]\n"
     ]
    },
    {
     "name": "stdout",
     "output_type": "stream",
     "text": [
      "Test Accuracy for Meta-Classifier with Base Model GradientBoostingClassifier: 0.38950276243093923\n",
      "-------------------------------\n",
      "Meta-Classifier with Base Model KNEIGHBORSCLASSIFIER\n"
     ]
    },
    {
     "name": "stderr",
     "output_type": "stream",
     "text": [
      "Training Base Models: 100%|██████████| 5/5 [00:00<00:00, 12.25it/s]\n",
      "Testing Instances: 100%|██████████| 362/362 [00:47<00:00,  7.56it/s]\n"
     ]
    },
    {
     "name": "stdout",
     "output_type": "stream",
     "text": [
      "Test Accuracy for Meta-Classifier with Base Model KNeighborsClassifier: 0.4171270718232044\n",
      "-------------------------------\n",
      "Meta-Classifier with Base Model LINEARDISCRIMINANTANALYSIS\n"
     ]
    },
    {
     "name": "stderr",
     "output_type": "stream",
     "text": [
      "Training Base Models: 100%|██████████| 5/5 [00:01<00:00,  2.55it/s]\n",
      "Testing Instances: 100%|██████████| 362/362 [00:05<00:00, 69.49it/s]\n"
     ]
    },
    {
     "name": "stdout",
     "output_type": "stream",
     "text": [
      "Test Accuracy for Meta-Classifier with Base Model LinearDiscriminantAnalysis: 0.1270718232044199\n",
      "-------------------------------\n",
      "Meta-Classifier with Base Model LOGISTICREGRESSION\n"
     ]
    },
    {
     "name": "stderr",
     "output_type": "stream",
     "text": [
      "Training Base Models: 100%|██████████| 5/5 [00:01<00:00,  3.78it/s]\n",
      "Testing Instances: 100%|██████████| 362/362 [00:05<00:00, 70.03it/s]\n"
     ]
    },
    {
     "name": "stdout",
     "output_type": "stream",
     "text": [
      "Test Accuracy for Meta-Classifier with Base Model LogisticRegression: 0.3784530386740331\n",
      "-------------------------------\n",
      "Meta-Classifier with Base Model MLPCLASSIFIER\n"
     ]
    },
    {
     "name": "stderr",
     "output_type": "stream",
     "text": [
      "Training Base Models: 100%|██████████| 5/5 [00:03<00:00,  1.44it/s]\n",
      "Testing Instances: 100%|██████████| 362/362 [00:05<00:00, 67.73it/s]\n"
     ]
    },
    {
     "name": "stdout",
     "output_type": "stream",
     "text": [
      "Test Accuracy for Meta-Classifier with Base Model MLPClassifier: 0.3756906077348066\n",
      "-------------------------------\n",
      "Meta-Classifier with Base Model QUADRATICDISCRIMINANTANALYSIS\n"
     ]
    },
    {
     "name": "stderr",
     "output_type": "stream",
     "text": [
      "Training Base Models: 100%|██████████| 5/5 [00:00<00:00,  9.40it/s]\n",
      "Testing Instances: 100%|██████████| 362/362 [00:06<00:00, 54.51it/s]\n"
     ]
    },
    {
     "name": "stdout",
     "output_type": "stream",
     "text": [
      "Test Accuracy for Meta-Classifier with Base Model QuadraticDiscriminantAnalysis: 0.08287292817679558\n",
      "-------------------------------\n",
      "Meta-Classifier with Base Model RANDOMFORESTCLASSIFIER\n"
     ]
    },
    {
     "name": "stderr",
     "output_type": "stream",
     "text": [
      "Training Base Models: 100%|██████████| 5/5 [00:07<00:00,  1.57s/it]\n",
      "Testing Instances: 100%|██████████| 362/362 [00:30<00:00, 12.05it/s]\n"
     ]
    },
    {
     "name": "stdout",
     "output_type": "stream",
     "text": [
      "Test Accuracy for Meta-Classifier with Base Model RandomForestClassifier: 0.40607734806629836\n",
      "-------------------------------\n",
      "An error occurred while training or testing with VotingClassifier: VotingClassifier.__init__() missing 1 required positional argument: 'estimators'\n",
      "-------------------------------\n",
      "Meta-Classifier with Base Model ADABOOSTCLASSIFIER\n"
     ]
    },
    {
     "name": "stderr",
     "output_type": "stream",
     "text": [
      "Training Base Models: 100%|██████████| 5/5 [00:46<00:00,  9.27s/it]\n",
      "Testing Instances: 100%|██████████| 500/500 [00:35<00:00, 14.01it/s]\n"
     ]
    },
    {
     "name": "stdout",
     "output_type": "stream",
     "text": [
      "Test Accuracy for Meta-Classifier with Base Model AdaBoostClassifier: 0.276\n",
      "-------------------------------\n",
      "Meta-Classifier with Base Model BAGGINGCLASSIFIER\n"
     ]
    },
    {
     "name": "stderr",
     "output_type": "stream",
     "text": [
      "Training Base Models: 100%|██████████| 5/5 [00:39<00:00,  7.90s/it]\n",
      "Testing Instances: 100%|██████████| 500/500 [00:14<00:00, 33.43it/s]\n"
     ]
    },
    {
     "name": "stdout",
     "output_type": "stream",
     "text": [
      "Test Accuracy for Meta-Classifier with Base Model BaggingClassifier: 0.496\n",
      "-------------------------------\n",
      "Meta-Classifier with Base Model BERNOULLINB\n"
     ]
    },
    {
     "name": "stderr",
     "output_type": "stream",
     "text": [
      "Training Base Models: 100%|██████████| 5/5 [00:00<00:00, 10.77it/s]\n",
      "Testing Instances: 100%|██████████| 500/500 [00:10<00:00, 47.05it/s]\n"
     ]
    },
    {
     "name": "stdout",
     "output_type": "stream",
     "text": [
      "Test Accuracy for Meta-Classifier with Base Model BernoulliNB: 0.252\n",
      "-------------------------------\n",
      "Meta-Classifier with Base Model CALIBRATEDCLASSIFIERCV\n"
     ]
    },
    {
     "name": "stderr",
     "output_type": "stream",
     "text": [
      "Training Base Models: 100%|██████████| 5/5 [02:32<00:00, 30.54s/it]\n",
      "Testing Instances: 100%|██████████| 500/500 [00:16<00:00, 29.82it/s]\n"
     ]
    },
    {
     "name": "stdout",
     "output_type": "stream",
     "text": [
      "Test Accuracy for Meta-Classifier with Base Model CalibratedClassifierCV: 0.67\n",
      "-------------------------------\n",
      "Meta-Classifier with Base Model DECISIONTREECLASSIFIER\n"
     ]
    },
    {
     "name": "stderr",
     "output_type": "stream",
     "text": [
      "Training Base Models: 100%|██████████| 5/5 [00:05<00:00,  1.16s/it]\n",
      "Testing Instances: 100%|██████████| 500/500 [00:09<00:00, 51.22it/s]\n"
     ]
    },
    {
     "name": "stdout",
     "output_type": "stream",
     "text": [
      "Test Accuracy for Meta-Classifier with Base Model DecisionTreeClassifier: 0.284\n",
      "-------------------------------\n",
      "Meta-Classifier with Base Model DUMMYCLASSIFIER\n"
     ]
    },
    {
     "name": "stderr",
     "output_type": "stream",
     "text": [
      "Training Base Models: 100%|██████████| 5/5 [00:00<00:00, 12.19it/s]\n",
      "Testing Instances: 100%|██████████| 500/500 [00:09<00:00, 53.33it/s]\n"
     ]
    },
    {
     "name": "stdout",
     "output_type": "stream",
     "text": [
      "Test Accuracy for Meta-Classifier with Base Model DummyClassifier: 0.252\n",
      "-------------------------------\n",
      "Meta-Classifier with Base Model EXTRATREECLASSIFIER\n"
     ]
    },
    {
     "name": "stderr",
     "output_type": "stream",
     "text": [
      "Training Base Models: 100%|██████████| 5/5 [00:00<00:00, 11.47it/s]\n",
      "Testing Instances: 100%|██████████| 500/500 [00:09<00:00, 51.20it/s]\n"
     ]
    },
    {
     "name": "stdout",
     "output_type": "stream",
     "text": [
      "Test Accuracy for Meta-Classifier with Base Model ExtraTreeClassifier: 0.308\n",
      "-------------------------------\n",
      "Meta-Classifier with Base Model EXTRATREESCLASSIFIER\n"
     ]
    },
    {
     "name": "stderr",
     "output_type": "stream",
     "text": [
      "Training Base Models: 100%|██████████| 5/5 [00:03<00:00,  1.54it/s]\n",
      "Testing Instances: 100%|██████████| 500/500 [00:43<00:00, 11.42it/s]\n"
     ]
    },
    {
     "name": "stdout",
     "output_type": "stream",
     "text": [
      "Test Accuracy for Meta-Classifier with Base Model ExtraTreesClassifier: 0.534\n",
      "-------------------------------\n",
      "Meta-Classifier with Base Model GAUSSIANNB\n"
     ]
    },
    {
     "name": "stderr",
     "output_type": "stream",
     "text": [
      "Training Base Models: 100%|██████████| 5/5 [00:00<00:00, 11.22it/s]\n",
      "Testing Instances: 100%|██████████| 500/500 [00:10<00:00, 48.68it/s]\n"
     ]
    },
    {
     "name": "stdout",
     "output_type": "stream",
     "text": [
      "Test Accuracy for Meta-Classifier with Base Model GaussianNB: 0.388\n",
      "-------------------------------\n",
      "Meta-Classifier with Base Model GRADIENTBOOSTINGCLASSIFIER\n"
     ]
    },
    {
     "name": "stderr",
     "output_type": "stream",
     "text": [
      "Training Base Models: 100%|██████████| 5/5 [17:27<00:00, 209.46s/it]\n",
      "Testing Instances: 100%|██████████| 500/500 [00:11<00:00, 43.93it/s]\n"
     ]
    },
    {
     "name": "stdout",
     "output_type": "stream",
     "text": [
      "Test Accuracy for Meta-Classifier with Base Model GradientBoostingClassifier: 0.538\n",
      "-------------------------------\n",
      "Meta-Classifier with Base Model KNEIGHBORSCLASSIFIER\n"
     ]
    },
    {
     "name": "stderr",
     "output_type": "stream",
     "text": [
      "Training Base Models: 100%|██████████| 5/5 [00:00<00:00, 11.64it/s]\n",
      "Testing Instances: 100%|██████████| 500/500 [01:09<00:00,  7.25it/s]\n"
     ]
    },
    {
     "name": "stdout",
     "output_type": "stream",
     "text": [
      "Test Accuracy for Meta-Classifier with Base Model KNeighborsClassifier: 0.324\n",
      "-------------------------------\n",
      "Meta-Classifier with Base Model LINEARDISCRIMINANTANALYSIS\n"
     ]
    },
    {
     "name": "stderr",
     "output_type": "stream",
     "text": [
      "Training Base Models: 100%|██████████| 5/5 [00:04<00:00,  1.16it/s]\n",
      "Testing Instances: 100%|██████████| 500/500 [00:09<00:00, 51.19it/s]\n"
     ]
    },
    {
     "name": "stdout",
     "output_type": "stream",
     "text": [
      "Test Accuracy for Meta-Classifier with Base Model LinearDiscriminantAnalysis: 0.5\n",
      "-------------------------------\n",
      "Meta-Classifier with Base Model LOGISTICREGRESSION\n"
     ]
    },
    {
     "name": "stderr",
     "output_type": "stream",
     "text": [
      "Training Base Models: 100%|██████████| 5/5 [00:01<00:00,  3.88it/s]\n",
      "Testing Instances: 100%|██████████| 500/500 [00:09<00:00, 51.20it/s]\n"
     ]
    },
    {
     "name": "stdout",
     "output_type": "stream",
     "text": [
      "Test Accuracy for Meta-Classifier with Base Model LogisticRegression: 0.616\n",
      "-------------------------------\n",
      "Meta-Classifier with Base Model MLPCLASSIFIER\n"
     ]
    },
    {
     "name": "stderr",
     "output_type": "stream",
     "text": [
      "Training Base Models: 100%|██████████| 5/5 [00:08<00:00,  1.61s/it]\n",
      "Testing Instances: 100%|██████████| 500/500 [00:10<00:00, 49.78it/s]\n"
     ]
    },
    {
     "name": "stdout",
     "output_type": "stream",
     "text": [
      "Test Accuracy for Meta-Classifier with Base Model MLPClassifier: 0.5\n",
      "-------------------------------\n",
      "Meta-Classifier with Base Model QUADRATICDISCRIMINANTANALYSIS\n"
     ]
    },
    {
     "name": "stderr",
     "output_type": "stream",
     "text": [
      "Training Base Models: 100%|██████████| 5/5 [00:00<00:00,  6.30it/s]\n",
      "Testing Instances: 100%|██████████| 500/500 [00:13<00:00, 35.91it/s]\n"
     ]
    },
    {
     "name": "stdout",
     "output_type": "stream",
     "text": [
      "Test Accuracy for Meta-Classifier with Base Model QuadraticDiscriminantAnalysis: 0.252\n",
      "-------------------------------\n",
      "Meta-Classifier with Base Model RANDOMFORESTCLASSIFIER\n"
     ]
    },
    {
     "name": "stderr",
     "output_type": "stream",
     "text": [
      "Training Base Models: 100%|██████████| 5/5 [00:11<00:00,  2.39s/it]\n",
      "Testing Instances: 100%|██████████| 500/500 [00:43<00:00, 11.43it/s]\n"
     ]
    },
    {
     "name": "stdout",
     "output_type": "stream",
     "text": [
      "Test Accuracy for Meta-Classifier with Base Model RandomForestClassifier: 0.514\n",
      "-------------------------------\n",
      "An error occurred while training or testing with VotingClassifier: VotingClassifier.__init__() missing 1 required positional argument: 'estimators'\n",
      "-------------------------------\n",
      "Meta-Classifier with Base Model ADABOOSTCLASSIFIER\n"
     ]
    },
    {
     "name": "stderr",
     "output_type": "stream",
     "text": [
      "Training Base Models: 100%|██████████| 5/5 [00:05<00:00,  1.01s/it]\n",
      "Testing Instances: 100%|██████████| 1690/1690 [01:32<00:00, 18.21it/s]\n"
     ]
    },
    {
     "name": "stdout",
     "output_type": "stream",
     "text": [
      "Test Accuracy for Meta-Classifier with Base Model AdaBoostClassifier: 0.06863905325443787\n",
      "-------------------------------\n",
      "Meta-Classifier with Base Model BAGGINGCLASSIFIER\n"
     ]
    },
    {
     "name": "stderr",
     "output_type": "stream",
     "text": [
      "Training Base Models: 100%|██████████| 5/5 [00:04<00:00,  1.14it/s]\n",
      "Testing Instances: 100%|██████████| 1690/1690 [00:21<00:00, 77.89it/s]\n"
     ]
    },
    {
     "name": "stdout",
     "output_type": "stream",
     "text": [
      "Test Accuracy for Meta-Classifier with Base Model BaggingClassifier: 0.808284023668639\n",
      "-------------------------------\n",
      "Meta-Classifier with Base Model BERNOULLINB\n"
     ]
    },
    {
     "name": "stderr",
     "output_type": "stream",
     "text": [
      "Training Base Models: 100%|██████████| 5/5 [00:00<00:00, 11.24it/s]\n",
      "Testing Instances: 100%|██████████| 1690/1690 [00:06<00:00, 249.36it/s]\n"
     ]
    },
    {
     "name": "stdout",
     "output_type": "stream",
     "text": [
      "Test Accuracy for Meta-Classifier with Base Model BernoulliNB: 0.04260355029585799\n",
      "-------------------------------\n",
      "Meta-Classifier with Base Model CALIBRATEDCLASSIFIERCV\n"
     ]
    },
    {
     "name": "stderr",
     "output_type": "stream",
     "text": [
      "Training Base Models: 100%|██████████| 5/5 [00:05<00:00,  1.00s/it]\n",
      "Testing Instances: 100%|██████████| 1690/1690 [00:44<00:00, 38.10it/s]\n"
     ]
    },
    {
     "name": "stdout",
     "output_type": "stream",
     "text": [
      "Test Accuracy for Meta-Classifier with Base Model CalibratedClassifierCV: 0.8520710059171598\n",
      "-------------------------------\n",
      "Meta-Classifier with Base Model DECISIONTREECLASSIFIER\n"
     ]
    },
    {
     "name": "stderr",
     "output_type": "stream",
     "text": [
      "Training Base Models: 100%|██████████| 5/5 [00:00<00:00,  5.52it/s]\n",
      "Testing Instances: 100%|██████████| 1690/1690 [00:04<00:00, 364.69it/s]\n"
     ]
    },
    {
     "name": "stdout",
     "output_type": "stream",
     "text": [
      "Test Accuracy for Meta-Classifier with Base Model DecisionTreeClassifier: 0.49940828402366866\n",
      "-------------------------------\n",
      "Meta-Classifier with Base Model DUMMYCLASSIFIER\n"
     ]
    },
    {
     "name": "stderr",
     "output_type": "stream",
     "text": [
      "Training Base Models: 100%|██████████| 5/5 [00:00<00:00, 12.30it/s]\n",
      "Testing Instances: 100%|██████████| 1690/1690 [00:03<00:00, 502.07it/s]\n"
     ]
    },
    {
     "name": "stdout",
     "output_type": "stream",
     "text": [
      "Test Accuracy for Meta-Classifier with Base Model DummyClassifier: 0.04260355029585799\n",
      "-------------------------------\n",
      "Meta-Classifier with Base Model EXTRATREECLASSIFIER\n"
     ]
    },
    {
     "name": "stderr",
     "output_type": "stream",
     "text": [
      "Training Base Models: 100%|██████████| 5/5 [00:00<00:00, 12.04it/s]\n",
      "Testing Instances: 100%|██████████| 1690/1690 [00:04<00:00, 365.07it/s]\n"
     ]
    },
    {
     "name": "stdout",
     "output_type": "stream",
     "text": [
      "Test Accuracy for Meta-Classifier with Base Model ExtraTreeClassifier: 0.3349112426035503\n",
      "-------------------------------\n",
      "Meta-Classifier with Base Model EXTRATREESCLASSIFIER\n"
     ]
    },
    {
     "name": "stderr",
     "output_type": "stream",
     "text": [
      "Training Base Models: 100%|██████████| 5/5 [00:01<00:00,  2.75it/s]\n",
      "Testing Instances: 100%|██████████| 1690/1690 [02:02<00:00, 13.83it/s]\n"
     ]
    },
    {
     "name": "stdout",
     "output_type": "stream",
     "text": [
      "Test Accuracy for Meta-Classifier with Base Model ExtraTreesClassifier: 0.8715976331360947\n",
      "-------------------------------\n",
      "Meta-Classifier with Base Model GAUSSIANNB\n"
     ]
    },
    {
     "name": "stderr",
     "output_type": "stream",
     "text": [
      "Training Base Models: 100%|██████████| 5/5 [00:00<00:00, 12.00it/s]\n",
      "Testing Instances: 100%|██████████| 1690/1690 [00:09<00:00, 182.44it/s]\n"
     ]
    },
    {
     "name": "stdout",
     "output_type": "stream",
     "text": [
      "Test Accuracy for Meta-Classifier with Base Model GaussianNB: 0.6414201183431952\n",
      "-------------------------------\n",
      "Meta-Classifier with Base Model GRADIENTBOOSTINGCLASSIFIER\n"
     ]
    },
    {
     "name": "stderr",
     "output_type": "stream",
     "text": [
      "Training Base Models: 100%|██████████| 5/5 [05:15<00:00, 63.01s/it]\n",
      "Testing Instances: 100%|██████████| 1690/1690 [00:17<00:00, 98.78it/s]\n"
     ]
    },
    {
     "name": "stdout",
     "output_type": "stream",
     "text": [
      "Test Accuracy for Meta-Classifier with Base Model GradientBoostingClassifier: 0.8307692307692308\n",
      "-------------------------------\n",
      "Meta-Classifier with Base Model KNEIGHBORSCLASSIFIER\n"
     ]
    },
    {
     "name": "stderr",
     "output_type": "stream",
     "text": [
      "Training Base Models: 100%|██████████| 5/5 [00:00<00:00, 12.33it/s]\n",
      "Testing Instances: 100%|██████████| 1690/1690 [03:25<00:00,  8.24it/s]\n"
     ]
    },
    {
     "name": "stdout",
     "output_type": "stream",
     "text": [
      "Test Accuracy for Meta-Classifier with Base Model KNeighborsClassifier: 0.7633136094674556\n",
      "-------------------------------\n",
      "Meta-Classifier with Base Model LINEARDISCRIMINANTANALYSIS\n"
     ]
    },
    {
     "name": "stderr",
     "output_type": "stream",
     "text": [
      "Training Base Models: 100%|██████████| 5/5 [00:00<00:00,  9.02it/s]\n",
      "Testing Instances: 100%|██████████| 1690/1690 [00:04<00:00, 369.59it/s]\n"
     ]
    },
    {
     "name": "stdout",
     "output_type": "stream",
     "text": [
      "Test Accuracy for Meta-Classifier with Base Model LinearDiscriminantAnalysis: 0.7715976331360946\n",
      "-------------------------------\n",
      "Meta-Classifier with Base Model LOGISTICREGRESSION\n"
     ]
    },
    {
     "name": "stderr",
     "output_type": "stream",
     "text": [
      "Training Base Models: 100%|██████████| 5/5 [00:00<00:00,  6.58it/s]\n",
      "Testing Instances: 100%|██████████| 1690/1690 [00:04<00:00, 373.40it/s]\n"
     ]
    },
    {
     "name": "stdout",
     "output_type": "stream",
     "text": [
      "Test Accuracy for Meta-Classifier with Base Model LogisticRegression: 0.8366863905325443\n",
      "-------------------------------\n",
      "Meta-Classifier with Base Model MLPCLASSIFIER\n"
     ]
    },
    {
     "name": "stderr",
     "output_type": "stream",
     "text": [
      "Training Base Models: 100%|██████████| 5/5 [00:03<00:00,  1.36it/s]\n",
      "Testing Instances: 100%|██████████| 1690/1690 [00:04<00:00, 372.23it/s]\n"
     ]
    },
    {
     "name": "stdout",
     "output_type": "stream",
     "text": [
      "Test Accuracy for Meta-Classifier with Base Model MLPClassifier: 0.8260355029585799\n",
      "-------------------------------\n",
      "Meta-Classifier with Base Model QUADRATICDISCRIMINANTANALYSIS\n"
     ]
    },
    {
     "name": "stderr",
     "output_type": "stream",
     "text": [
      "Training Base Models: 100%|██████████| 5/5 [00:00<00:00, 10.21it/s]\n",
      "Testing Instances: 100%|██████████| 1690/1690 [00:09<00:00, 187.30it/s]\n"
     ]
    },
    {
     "name": "stdout",
     "output_type": "stream",
     "text": [
      "Test Accuracy for Meta-Classifier with Base Model QuadraticDiscriminantAnalysis: 0.13313609467455623\n",
      "-------------------------------\n",
      "Meta-Classifier with Base Model RANDOMFORESTCLASSIFIER\n"
     ]
    },
    {
     "name": "stderr",
     "output_type": "stream",
     "text": [
      "Training Base Models: 100%|██████████| 5/5 [00:04<00:00,  1.00it/s]\n",
      "Testing Instances: 100%|██████████| 1690/1690 [02:01<00:00, 13.89it/s]\n"
     ]
    },
    {
     "name": "stdout",
     "output_type": "stream",
     "text": [
      "Test Accuracy for Meta-Classifier with Base Model RandomForestClassifier: 0.8325443786982248\n",
      "-------------------------------\n",
      "An error occurred while training or testing with VotingClassifier: VotingClassifier.__init__() missing 1 required positional argument: 'estimators'\n",
      "-------------------------------\n",
      "Meta-Classifier with Base Model ADABOOSTCLASSIFIER\n"
     ]
    },
    {
     "name": "stderr",
     "output_type": "stream",
     "text": [
      "Training Base Models: 100%|██████████| 5/5 [00:01<00:00,  4.27it/s]\n",
      "Testing Instances: 100%|██████████| 88/88 [00:04<00:00, 17.64it/s]\n"
     ]
    },
    {
     "name": "stdout",
     "output_type": "stream",
     "text": [
      "Test Accuracy for Meta-Classifier with Base Model AdaBoostClassifier: 0.7727272727272727\n",
      "-------------------------------\n",
      "Meta-Classifier with Base Model BAGGINGCLASSIFIER\n"
     ]
    },
    {
     "name": "stderr",
     "output_type": "stream",
     "text": [
      "Training Base Models: 100%|██████████| 5/5 [00:00<00:00,  8.42it/s]\n",
      "Testing Instances: 100%|██████████| 88/88 [00:01<00:00, 67.11it/s]\n"
     ]
    },
    {
     "name": "stdout",
     "output_type": "stream",
     "text": [
      "Test Accuracy for Meta-Classifier with Base Model BaggingClassifier: 0.7840909090909091\n",
      "-------------------------------\n",
      "Meta-Classifier with Base Model BERNOULLINB\n"
     ]
    },
    {
     "name": "stderr",
     "output_type": "stream",
     "text": [
      "Training Base Models: 100%|██████████| 5/5 [00:00<00:00, 11.26it/s]\n",
      "Testing Instances: 100%|██████████| 88/88 [00:00<00:00, 149.09it/s]\n"
     ]
    },
    {
     "name": "stdout",
     "output_type": "stream",
     "text": [
      "Test Accuracy for Meta-Classifier with Base Model BernoulliNB: 0.1590909090909091\n",
      "-------------------------------\n",
      "Meta-Classifier with Base Model CALIBRATEDCLASSIFIERCV\n"
     ]
    },
    {
     "name": "stderr",
     "output_type": "stream",
     "text": [
      "Training Base Models: 100%|██████████| 5/5 [00:00<00:00,  6.80it/s]\n",
      "Testing Instances: 100%|██████████| 88/88 [00:01<00:00, 52.63it/s]\n"
     ]
    },
    {
     "name": "stdout",
     "output_type": "stream",
     "text": [
      "Test Accuracy for Meta-Classifier with Base Model CalibratedClassifierCV: 0.8068181818181818\n",
      "-------------------------------\n",
      "Meta-Classifier with Base Model DECISIONTREECLASSIFIER\n"
     ]
    },
    {
     "name": "stderr",
     "output_type": "stream",
     "text": [
      "Training Base Models: 100%|██████████| 5/5 [00:00<00:00, 11.96it/s]\n",
      "Testing Instances: 100%|██████████| 88/88 [00:00<00:00, 201.33it/s]\n"
     ]
    },
    {
     "name": "stdout",
     "output_type": "stream",
     "text": [
      "Test Accuracy for Meta-Classifier with Base Model DecisionTreeClassifier: 0.6931818181818182\n",
      "-------------------------------\n",
      "Meta-Classifier with Base Model DUMMYCLASSIFIER\n"
     ]
    },
    {
     "name": "stderr",
     "output_type": "stream",
     "text": [
      "Training Base Models: 100%|██████████| 5/5 [00:00<00:00, 12.37it/s]\n",
      "Testing Instances: 100%|██████████| 88/88 [00:00<00:00, 237.14it/s]\n"
     ]
    },
    {
     "name": "stdout",
     "output_type": "stream",
     "text": [
      "Test Accuracy for Meta-Classifier with Base Model DummyClassifier: 0.1590909090909091\n",
      "-------------------------------\n",
      "Meta-Classifier with Base Model EXTRATREECLASSIFIER\n"
     ]
    },
    {
     "name": "stderr",
     "output_type": "stream",
     "text": [
      "Training Base Models: 100%|██████████| 5/5 [00:00<00:00, 11.49it/s]\n",
      "Testing Instances: 100%|██████████| 88/88 [00:00<00:00, 201.68it/s]\n"
     ]
    },
    {
     "name": "stdout",
     "output_type": "stream",
     "text": [
      "Test Accuracy for Meta-Classifier with Base Model ExtraTreeClassifier: 0.4772727272727273\n",
      "-------------------------------\n",
      "Meta-Classifier with Base Model EXTRATREESCLASSIFIER\n"
     ]
    },
    {
     "name": "stderr",
     "output_type": "stream",
     "text": [
      "Training Base Models: 100%|██████████| 5/5 [00:00<00:00,  5.27it/s]\n",
      "Testing Instances: 100%|██████████| 88/88 [00:06<00:00, 13.57it/s]\n"
     ]
    },
    {
     "name": "stdout",
     "output_type": "stream",
     "text": [
      "Test Accuracy for Meta-Classifier with Base Model ExtraTreesClassifier: 0.8181818181818182\n",
      "-------------------------------\n",
      "Meta-Classifier with Base Model GAUSSIANNB\n"
     ]
    },
    {
     "name": "stderr",
     "output_type": "stream",
     "text": [
      "Training Base Models: 100%|██████████| 5/5 [00:00<00:00, 12.19it/s]\n",
      "Testing Instances: 100%|██████████| 88/88 [00:00<00:00, 173.87it/s]\n"
     ]
    },
    {
     "name": "stdout",
     "output_type": "stream",
     "text": [
      "Test Accuracy for Meta-Classifier with Base Model GaussianNB: 0.7840909090909091\n",
      "-------------------------------\n",
      "Meta-Classifier with Base Model GRADIENTBOOSTINGCLASSIFIER\n"
     ]
    },
    {
     "name": "stderr",
     "output_type": "stream",
     "text": [
      "Training Base Models: 100%|██████████| 5/5 [00:07<00:00,  1.55s/it]\n",
      "Testing Instances: 100%|██████████| 88/88 [00:00<00:00, 127.78it/s]\n"
     ]
    },
    {
     "name": "stdout",
     "output_type": "stream",
     "text": [
      "Test Accuracy for Meta-Classifier with Base Model GradientBoostingClassifier: 0.7272727272727273\n",
      "-------------------------------\n",
      "Meta-Classifier with Base Model KNEIGHBORSCLASSIFIER\n"
     ]
    },
    {
     "name": "stderr",
     "output_type": "stream",
     "text": [
      "Training Base Models: 100%|██████████| 5/5 [00:00<00:00, 12.34it/s]\n",
      "Testing Instances: 100%|██████████| 88/88 [00:10<00:00,  8.40it/s]\n"
     ]
    },
    {
     "name": "stdout",
     "output_type": "stream",
     "text": [
      "Test Accuracy for Meta-Classifier with Base Model KNeighborsClassifier: 0.5454545454545454\n",
      "-------------------------------\n",
      "Meta-Classifier with Base Model LINEARDISCRIMINANTANALYSIS\n"
     ]
    },
    {
     "name": "stderr",
     "output_type": "stream",
     "text": [
      "Training Base Models: 100%|██████████| 5/5 [00:00<00:00, 11.17it/s]\n",
      "Testing Instances: 100%|██████████| 88/88 [00:00<00:00, 194.22it/s]\n"
     ]
    },
    {
     "name": "stdout",
     "output_type": "stream",
     "text": [
      "Test Accuracy for Meta-Classifier with Base Model LinearDiscriminantAnalysis: 0.5795454545454546\n",
      "-------------------------------\n",
      "Meta-Classifier with Base Model LOGISTICREGRESSION\n"
     ]
    },
    {
     "name": "stderr",
     "output_type": "stream",
     "text": [
      "Training Base Models: 100%|██████████| 5/5 [00:00<00:00,  8.63it/s]\n",
      "Testing Instances: 100%|██████████| 88/88 [00:00<00:00, 196.38it/s]\n"
     ]
    },
    {
     "name": "stdout",
     "output_type": "stream",
     "text": [
      "Test Accuracy for Meta-Classifier with Base Model LogisticRegression: 0.8181818181818182\n",
      "-------------------------------\n",
      "Meta-Classifier with Base Model MLPCLASSIFIER\n"
     ]
    },
    {
     "name": "stderr",
     "output_type": "stream",
     "text": [
      "Training Base Models: 100%|██████████| 5/5 [00:00<00:00,  6.56it/s]\n",
      "Testing Instances: 100%|██████████| 88/88 [00:00<00:00, 192.72it/s]\n"
     ]
    },
    {
     "name": "stdout",
     "output_type": "stream",
     "text": [
      "Test Accuracy for Meta-Classifier with Base Model MLPClassifier: 0.8068181818181818\n",
      "-------------------------------\n",
      "Meta-Classifier with Base Model QUADRATICDISCRIMINANTANALYSIS\n"
     ]
    },
    {
     "name": "stderr",
     "output_type": "stream",
     "text": [
      "Training Base Models: 100%|██████████| 5/5 [00:00<00:00, 11.23it/s]\n",
      "Testing Instances: 100%|██████████| 88/88 [00:00<00:00, 176.02it/s]\n"
     ]
    },
    {
     "name": "stdout",
     "output_type": "stream",
     "text": [
      "Test Accuracy for Meta-Classifier with Base Model QuadraticDiscriminantAnalysis: 0.1590909090909091\n",
      "-------------------------------\n",
      "Meta-Classifier with Base Model RANDOMFORESTCLASSIFIER\n"
     ]
    },
    {
     "name": "stderr",
     "output_type": "stream",
     "text": [
      "Training Base Models: 100%|██████████| 5/5 [00:01<00:00,  4.28it/s]\n",
      "Testing Instances: 100%|██████████| 88/88 [00:06<00:00, 13.56it/s]\n"
     ]
    },
    {
     "name": "stdout",
     "output_type": "stream",
     "text": [
      "Test Accuracy for Meta-Classifier with Base Model RandomForestClassifier: 0.8295454545454546\n",
      "-------------------------------\n",
      "An error occurred while training or testing with VotingClassifier: VotingClassifier.__init__() missing 1 required positional argument: 'estimators'\n",
      "-------------------------------\n",
      "Meta-Classifier with Base Model ADABOOSTCLASSIFIER\n"
     ]
    },
    {
     "name": "stderr",
     "output_type": "stream",
     "text": [
      "Training Base Models: 100%|██████████| 5/5 [00:02<00:00,  2.21it/s]\n",
      "Testing Instances: 100%|██████████| 2050/2050 [01:52<00:00, 18.23it/s]\n"
     ]
    },
    {
     "name": "stdout",
     "output_type": "stream",
     "text": [
      "Test Accuracy for Meta-Classifier with Base Model AdaBoostClassifier: 0.14146341463414633\n",
      "-------------------------------\n",
      "Meta-Classifier with Base Model BAGGINGCLASSIFIER\n"
     ]
    },
    {
     "name": "stderr",
     "output_type": "stream",
     "text": [
      "Training Base Models: 100%|██████████| 5/5 [00:01<00:00,  3.18it/s]\n",
      "Testing Instances: 100%|██████████| 2050/2050 [00:26<00:00, 78.25it/s]\n"
     ]
    },
    {
     "name": "stdout",
     "output_type": "stream",
     "text": [
      "Test Accuracy for Meta-Classifier with Base Model BaggingClassifier: 0.7219512195121951\n",
      "-------------------------------\n",
      "Meta-Classifier with Base Model BERNOULLINB\n"
     ]
    },
    {
     "name": "stderr",
     "output_type": "stream",
     "text": [
      "Training Base Models: 100%|██████████| 5/5 [00:00<00:00, 11.28it/s]\n",
      "Testing Instances: 100%|██████████| 2050/2050 [00:08<00:00, 250.54it/s]\n"
     ]
    },
    {
     "name": "stdout",
     "output_type": "stream",
     "text": [
      "Test Accuracy for Meta-Classifier with Base Model BernoulliNB: 0.14341463414634145\n",
      "-------------------------------\n",
      "Meta-Classifier with Base Model CALIBRATEDCLASSIFIERCV\n"
     ]
    },
    {
     "name": "stderr",
     "output_type": "stream",
     "text": [
      "Training Base Models: 100%|██████████| 5/5 [00:02<00:00,  1.90it/s]\n",
      "Testing Instances: 100%|██████████| 2050/2050 [00:53<00:00, 38.33it/s]\n"
     ]
    },
    {
     "name": "stdout",
     "output_type": "stream",
     "text": [
      "Test Accuracy for Meta-Classifier with Base Model CalibratedClassifierCV: 0.8292682926829268\n",
      "-------------------------------\n",
      "Meta-Classifier with Base Model DECISIONTREECLASSIFIER\n"
     ]
    },
    {
     "name": "stderr",
     "output_type": "stream",
     "text": [
      "Training Base Models: 100%|██████████| 5/5 [00:00<00:00,  8.73it/s]\n",
      "Testing Instances: 100%|██████████| 2050/2050 [00:05<00:00, 367.75it/s]\n"
     ]
    },
    {
     "name": "stdout",
     "output_type": "stream",
     "text": [
      "Test Accuracy for Meta-Classifier with Base Model DecisionTreeClassifier: 0.4473170731707317\n",
      "-------------------------------\n",
      "Meta-Classifier with Base Model DUMMYCLASSIFIER\n"
     ]
    },
    {
     "name": "stderr",
     "output_type": "stream",
     "text": [
      "Training Base Models: 100%|██████████| 5/5 [00:00<00:00, 12.19it/s]\n",
      "Testing Instances: 100%|██████████| 2050/2050 [00:04<00:00, 505.81it/s]\n"
     ]
    },
    {
     "name": "stdout",
     "output_type": "stream",
     "text": [
      "Test Accuracy for Meta-Classifier with Base Model DummyClassifier: 0.14341463414634145\n",
      "-------------------------------\n",
      "Meta-Classifier with Base Model EXTRATREECLASSIFIER\n"
     ]
    },
    {
     "name": "stderr",
     "output_type": "stream",
     "text": [
      "Training Base Models: 100%|██████████| 5/5 [00:00<00:00, 12.19it/s]\n",
      "Testing Instances: 100%|██████████| 2050/2050 [00:05<00:00, 363.49it/s]\n"
     ]
    },
    {
     "name": "stdout",
     "output_type": "stream",
     "text": [
      "Test Accuracy for Meta-Classifier with Base Model ExtraTreeClassifier: 0.3551219512195122\n",
      "-------------------------------\n",
      "Meta-Classifier with Base Model EXTRATREESCLASSIFIER\n"
     ]
    },
    {
     "name": "stderr",
     "output_type": "stream",
     "text": [
      "Training Base Models: 100%|██████████| 5/5 [00:01<00:00,  4.03it/s]\n",
      "Testing Instances: 100%|██████████| 2050/2050 [02:28<00:00, 13.77it/s]\n"
     ]
    },
    {
     "name": "stdout",
     "output_type": "stream",
     "text": [
      "Test Accuracy for Meta-Classifier with Base Model ExtraTreesClassifier: 0.735609756097561\n",
      "-------------------------------\n",
      "Meta-Classifier with Base Model GAUSSIANNB\n"
     ]
    },
    {
     "name": "stderr",
     "output_type": "stream",
     "text": [
      "Training Base Models: 100%|██████████| 5/5 [00:00<00:00, 11.41it/s]\n",
      "Testing Instances: 100%|██████████| 2050/2050 [00:11<00:00, 182.80it/s]\n"
     ]
    },
    {
     "name": "stdout",
     "output_type": "stream",
     "text": [
      "Test Accuracy for Meta-Classifier with Base Model GaussianNB: 0.7248780487804878\n",
      "-------------------------------\n",
      "Meta-Classifier with Base Model GRADIENTBOOSTINGCLASSIFIER\n"
     ]
    },
    {
     "name": "stderr",
     "output_type": "stream",
     "text": [
      "Training Base Models: 100%|██████████| 5/5 [01:52<00:00, 22.50s/it]\n",
      "Testing Instances: 100%|██████████| 2050/2050 [00:21<00:00, 97.58it/s]\n"
     ]
    },
    {
     "name": "stdout",
     "output_type": "stream",
     "text": [
      "Test Accuracy for Meta-Classifier with Base Model GradientBoostingClassifier: 0.7146341463414634\n",
      "-------------------------------\n",
      "Meta-Classifier with Base Model KNEIGHBORSCLASSIFIER\n"
     ]
    },
    {
     "name": "stderr",
     "output_type": "stream",
     "text": [
      "Training Base Models: 100%|██████████| 5/5 [00:00<00:00, 12.22it/s]\n",
      "Testing Instances: 100%|██████████| 2050/2050 [04:02<00:00,  8.46it/s]\n"
     ]
    },
    {
     "name": "stdout",
     "output_type": "stream",
     "text": [
      "Test Accuracy for Meta-Classifier with Base Model KNeighborsClassifier: 0.7907317073170732\n",
      "-------------------------------\n",
      "Meta-Classifier with Base Model LINEARDISCRIMINANTANALYSIS\n"
     ]
    },
    {
     "name": "stderr",
     "output_type": "stream",
     "text": [
      "Training Base Models: 100%|██████████| 5/5 [00:00<00:00, 10.11it/s]\n",
      "Testing Instances: 100%|██████████| 2050/2050 [00:05<00:00, 371.65it/s]\n"
     ]
    },
    {
     "name": "stdout",
     "output_type": "stream",
     "text": [
      "Test Accuracy for Meta-Classifier with Base Model LinearDiscriminantAnalysis: 0.0575609756097561\n",
      "-------------------------------\n",
      "Meta-Classifier with Base Model LOGISTICREGRESSION\n"
     ]
    },
    {
     "name": "stderr",
     "output_type": "stream",
     "text": [
      "Training Base Models: 100%|██████████| 5/5 [00:00<00:00,  7.38it/s]\n",
      "Testing Instances: 100%|██████████| 2050/2050 [00:05<00:00, 377.96it/s]\n"
     ]
    },
    {
     "name": "stdout",
     "output_type": "stream",
     "text": [
      "Test Accuracy for Meta-Classifier with Base Model LogisticRegression: 0.7892682926829269\n",
      "-------------------------------\n",
      "Meta-Classifier with Base Model MLPCLASSIFIER\n"
     ]
    },
    {
     "name": "stderr",
     "output_type": "stream",
     "text": [
      "Training Base Models: 100%|██████████| 5/5 [00:01<00:00,  3.04it/s]\n",
      "Testing Instances: 100%|██████████| 2050/2050 [00:05<00:00, 372.82it/s]\n"
     ]
    },
    {
     "name": "stdout",
     "output_type": "stream",
     "text": [
      "Test Accuracy for Meta-Classifier with Base Model MLPClassifier: 0.8204878048780487\n",
      "-------------------------------\n",
      "Meta-Classifier with Base Model QUADRATICDISCRIMINANTANALYSIS\n"
     ]
    },
    {
     "name": "stderr",
     "output_type": "stream",
     "text": [
      "Training Base Models: 100%|██████████| 5/5 [00:00<00:00, 10.32it/s]\n"
     ]
    },
    {
     "name": "stdout",
     "output_type": "stream",
     "text": [
      "An error occurred while training or testing with QuadraticDiscriminantAnalysis: Input X contains NaN.\n",
      "QuadraticDiscriminantAnalysis does not accept missing values encoded as NaN natively. For supervised learning, you might want to consider sklearn.ensemble.HistGradientBoostingClassifier and Regressor which accept missing values encoded as NaNs natively. Alternatively, it is possible to preprocess the data, for instance by using an imputer transformer in a pipeline or drop samples with missing values. See https://scikit-learn.org/stable/modules/impute.html You can find a list of all estimators that handle NaN values at the following page: https://scikit-learn.org/stable/modules/impute.html#estimators-that-handle-nan-values\n",
      "-------------------------------\n",
      "Meta-Classifier with Base Model RANDOMFORESTCLASSIFIER\n"
     ]
    },
    {
     "name": "stderr",
     "output_type": "stream",
     "text": [
      "Training Base Models: 100%|██████████| 5/5 [00:02<00:00,  2.27it/s]\n",
      "Testing Instances: 100%|██████████| 2050/2050 [02:27<00:00, 13.91it/s]\n"
     ]
    },
    {
     "name": "stdout",
     "output_type": "stream",
     "text": [
      "Test Accuracy for Meta-Classifier with Base Model RandomForestClassifier: 0.6663414634146342\n",
      "-------------------------------\n",
      "An error occurred while training or testing with VotingClassifier: VotingClassifier.__init__() missing 1 required positional argument: 'estimators'\n",
      "-------------------------------\n",
      "Meta-Classifier with Base Model ADABOOSTCLASSIFIER\n"
     ]
    },
    {
     "name": "stderr",
     "output_type": "stream",
     "text": [
      "Training Base Models: 100%|██████████| 5/5 [00:09<00:00,  1.85s/it]\n",
      "Testing Instances: 100%|██████████| 455/455 [00:25<00:00, 17.74it/s]\n"
     ]
    },
    {
     "name": "stdout",
     "output_type": "stream",
     "text": [
      "Test Accuracy for Meta-Classifier with Base Model AdaBoostClassifier: 0.1978021978021978\n",
      "-------------------------------\n",
      "Meta-Classifier with Base Model BAGGINGCLASSIFIER\n"
     ]
    },
    {
     "name": "stderr",
     "output_type": "stream",
     "text": [
      "Training Base Models: 100%|██████████| 5/5 [00:11<00:00,  2.37s/it]\n",
      "Testing Instances: 100%|██████████| 455/455 [00:06<00:00, 69.11it/s]\n"
     ]
    },
    {
     "name": "stdout",
     "output_type": "stream",
     "text": [
      "Test Accuracy for Meta-Classifier with Base Model BaggingClassifier: 0.5648351648351648\n",
      "-------------------------------\n",
      "Meta-Classifier with Base Model BERNOULLINB\n"
     ]
    },
    {
     "name": "stderr",
     "output_type": "stream",
     "text": [
      "Training Base Models: 100%|██████████| 5/5 [00:00<00:00, 11.26it/s]\n",
      "Testing Instances: 100%|██████████| 455/455 [00:02<00:00, 159.79it/s]\n"
     ]
    },
    {
     "name": "stdout",
     "output_type": "stream",
     "text": [
      "Test Accuracy for Meta-Classifier with Base Model BernoulliNB: 0.12527472527472527\n",
      "-------------------------------\n",
      "Meta-Classifier with Base Model CALIBRATEDCLASSIFIERCV\n"
     ]
    },
    {
     "name": "stderr",
     "output_type": "stream",
     "text": [
      "Training Base Models: 100%|██████████| 5/5 [00:55<00:00, 11.08s/it]\n",
      "Testing Instances: 100%|██████████| 455/455 [00:27<00:00, 16.32it/s]\n"
     ]
    },
    {
     "name": "stdout",
     "output_type": "stream",
     "text": [
      "Test Accuracy for Meta-Classifier with Base Model CalibratedClassifierCV: 0.5824175824175825\n",
      "-------------------------------\n",
      "Meta-Classifier with Base Model DECISIONTREECLASSIFIER\n"
     ]
    },
    {
     "name": "stderr",
     "output_type": "stream",
     "text": [
      "Training Base Models: 100%|██████████| 5/5 [00:01<00:00,  2.63it/s]\n",
      "Testing Instances: 100%|██████████| 455/455 [00:01<00:00, 240.46it/s]\n"
     ]
    },
    {
     "name": "stdout",
     "output_type": "stream",
     "text": [
      "Test Accuracy for Meta-Classifier with Base Model DecisionTreeClassifier: 0.3758241758241758\n",
      "-------------------------------\n",
      "Meta-Classifier with Base Model DUMMYCLASSIFIER\n"
     ]
    },
    {
     "name": "stderr",
     "output_type": "stream",
     "text": [
      "Training Base Models: 100%|██████████| 5/5 [00:00<00:00, 12.21it/s]\n",
      "Testing Instances: 100%|██████████| 455/455 [00:01<00:00, 285.11it/s]\n"
     ]
    },
    {
     "name": "stdout",
     "output_type": "stream",
     "text": [
      "Test Accuracy for Meta-Classifier with Base Model DummyClassifier: 0.12527472527472527\n",
      "-------------------------------\n",
      "Meta-Classifier with Base Model EXTRATREECLASSIFIER\n"
     ]
    },
    {
     "name": "stderr",
     "output_type": "stream",
     "text": [
      "Training Base Models: 100%|██████████| 5/5 [00:00<00:00, 11.39it/s]\n",
      "Testing Instances: 100%|██████████| 455/455 [00:01<00:00, 240.68it/s]\n"
     ]
    },
    {
     "name": "stdout",
     "output_type": "stream",
     "text": [
      "Test Accuracy for Meta-Classifier with Base Model ExtraTreeClassifier: 0.3208791208791209\n",
      "-------------------------------\n",
      "Meta-Classifier with Base Model EXTRATREESCLASSIFIER\n"
     ]
    },
    {
     "name": "stderr",
     "output_type": "stream",
     "text": [
      "Training Base Models: 100%|██████████| 5/5 [00:02<00:00,  2.15it/s]\n",
      "Testing Instances: 100%|██████████| 455/455 [00:33<00:00, 13.57it/s]\n"
     ]
    },
    {
     "name": "stdout",
     "output_type": "stream",
     "text": [
      "Test Accuracy for Meta-Classifier with Base Model ExtraTreesClassifier: 0.654945054945055\n",
      "-------------------------------\n",
      "Meta-Classifier with Base Model GAUSSIANNB\n"
     ]
    },
    {
     "name": "stderr",
     "output_type": "stream",
     "text": [
      "Training Base Models: 100%|██████████| 5/5 [00:00<00:00, 11.60it/s]\n",
      "Testing Instances: 100%|██████████| 455/455 [00:06<00:00, 68.51it/s]\n"
     ]
    },
    {
     "name": "stdout",
     "output_type": "stream",
     "text": [
      "Test Accuracy for Meta-Classifier with Base Model GaussianNB: 0.5692307692307692\n",
      "-------------------------------\n",
      "Meta-Classifier with Base Model GRADIENTBOOSTINGCLASSIFIER\n"
     ]
    },
    {
     "name": "stderr",
     "output_type": "stream",
     "text": [
      "Training Base Models:  40%|████      | 2/5 [17:44<26:37, 532.34s/it]\n"
     ]
    },
    {
     "ename": "KeyboardInterrupt",
     "evalue": "",
     "output_type": "error",
     "traceback": [
      "\u001b[1;31m---------------------------------------------------------------------------\u001b[0m",
      "\u001b[1;31mKeyboardInterrupt\u001b[0m                         Traceback (most recent call last)",
      "Cell \u001b[1;32mIn[24], line 41\u001b[0m\n\u001b[0;32m     37\u001b[0m \u001b[38;5;28mprint\u001b[39m(\u001b[38;5;124mf\u001b[39m\u001b[38;5;124m'\u001b[39m\u001b[38;5;124mMeta-Classifier with Base Model \u001b[39m\u001b[38;5;132;01m{\u001b[39;00mname\u001b[38;5;241m.\u001b[39mupper()\u001b[38;5;132;01m}\u001b[39;00m\u001b[38;5;124m'\u001b[39m)\n\u001b[0;32m     40\u001b[0m \u001b[38;5;66;03m# Training (update the function arguments based on your implementation)\u001b[39;00m\n\u001b[1;32m---> 41\u001b[0m trained_base_models, meta_classifier \u001b[38;5;241m=\u001b[39m train_with_meta_classifier(X_train, y_train, base_option\u001b[38;5;241m=\u001b[39mname, meta_option\u001b[38;5;241m=\u001b[39mname)\n\u001b[0;32m     43\u001b[0m \u001b[38;5;66;03m# Testing (update the function arguments based on your implementation)\u001b[39;00m\n\u001b[0;32m     44\u001b[0m predictions_test_meta \u001b[38;5;241m=\u001b[39m predict_with_meta_classifier(X_test, trained_base_models, meta_classifier)\n",
      "Cell \u001b[1;32mIn[8], line 87\u001b[0m, in \u001b[0;36mtrain_with_meta_classifier\u001b[1;34m(X_train, y_train, base_option, meta_option)\u001b[0m\n\u001b[0;32m     85\u001b[0m \u001b[38;5;28;01mfor\u001b[39;00m rep, X_trans \u001b[38;5;129;01min\u001b[39;00m tqdm(X_train_transformed\u001b[38;5;241m.\u001b[39mitems(), desc\u001b[38;5;241m=\u001b[39m\u001b[38;5;124m\"\u001b[39m\u001b[38;5;124mTraining Base Models\u001b[39m\u001b[38;5;124m\"\u001b[39m):\n\u001b[0;32m     86\u001b[0m     model \u001b[38;5;241m=\u001b[39m select_model(base_option)\n\u001b[1;32m---> 87\u001b[0m     model\u001b[38;5;241m.\u001b[39mfit(X_trans, y_train)\n\u001b[0;32m     88\u001b[0m     trained_models[rep] \u001b[38;5;241m=\u001b[39m model\n\u001b[0;32m     90\u001b[0m \u001b[38;5;66;03m# Prepare data for the meta-classifier\u001b[39;00m\n",
      "File \u001b[1;32mc:\\Users\\viict\\anaconda3\\envs\\AM\\Lib\\site-packages\\sklearn\\base.py:1152\u001b[0m, in \u001b[0;36m_fit_context.<locals>.decorator.<locals>.wrapper\u001b[1;34m(estimator, *args, **kwargs)\u001b[0m\n\u001b[0;32m   1145\u001b[0m     estimator\u001b[38;5;241m.\u001b[39m_validate_params()\n\u001b[0;32m   1147\u001b[0m \u001b[38;5;28;01mwith\u001b[39;00m config_context(\n\u001b[0;32m   1148\u001b[0m     skip_parameter_validation\u001b[38;5;241m=\u001b[39m(\n\u001b[0;32m   1149\u001b[0m         prefer_skip_nested_validation \u001b[38;5;129;01mor\u001b[39;00m global_skip_validation\n\u001b[0;32m   1150\u001b[0m     )\n\u001b[0;32m   1151\u001b[0m ):\n\u001b[1;32m-> 1152\u001b[0m     \u001b[38;5;28;01mreturn\u001b[39;00m fit_method(estimator, \u001b[38;5;241m*\u001b[39margs, \u001b[38;5;241m*\u001b[39m\u001b[38;5;241m*\u001b[39mkwargs)\n",
      "File \u001b[1;32mc:\\Users\\viict\\anaconda3\\envs\\AM\\Lib\\site-packages\\sklearn\\ensemble\\_gb.py:532\u001b[0m, in \u001b[0;36mBaseGradientBoosting.fit\u001b[1;34m(self, X, y, sample_weight, monitor)\u001b[0m\n\u001b[0;32m    529\u001b[0m     \u001b[38;5;28mself\u001b[39m\u001b[38;5;241m.\u001b[39m_resize_state()\n\u001b[0;32m    531\u001b[0m \u001b[38;5;66;03m# fit the boosting stages\u001b[39;00m\n\u001b[1;32m--> 532\u001b[0m n_stages \u001b[38;5;241m=\u001b[39m \u001b[38;5;28mself\u001b[39m\u001b[38;5;241m.\u001b[39m_fit_stages(\n\u001b[0;32m    533\u001b[0m     X_train,\n\u001b[0;32m    534\u001b[0m     y_train,\n\u001b[0;32m    535\u001b[0m     raw_predictions,\n\u001b[0;32m    536\u001b[0m     sample_weight_train,\n\u001b[0;32m    537\u001b[0m     \u001b[38;5;28mself\u001b[39m\u001b[38;5;241m.\u001b[39m_rng,\n\u001b[0;32m    538\u001b[0m     X_val,\n\u001b[0;32m    539\u001b[0m     y_val,\n\u001b[0;32m    540\u001b[0m     sample_weight_val,\n\u001b[0;32m    541\u001b[0m     begin_at_stage,\n\u001b[0;32m    542\u001b[0m     monitor,\n\u001b[0;32m    543\u001b[0m )\n\u001b[0;32m    545\u001b[0m \u001b[38;5;66;03m# change shape of arrays after fit (early-stopping or additional ests)\u001b[39;00m\n\u001b[0;32m    546\u001b[0m \u001b[38;5;28;01mif\u001b[39;00m n_stages \u001b[38;5;241m!=\u001b[39m \u001b[38;5;28mself\u001b[39m\u001b[38;5;241m.\u001b[39mestimators_\u001b[38;5;241m.\u001b[39mshape[\u001b[38;5;241m0\u001b[39m]:\n",
      "File \u001b[1;32mc:\\Users\\viict\\anaconda3\\envs\\AM\\Lib\\site-packages\\sklearn\\ensemble\\_gb.py:610\u001b[0m, in \u001b[0;36mBaseGradientBoosting._fit_stages\u001b[1;34m(self, X, y, raw_predictions, sample_weight, random_state, X_val, y_val, sample_weight_val, begin_at_stage, monitor)\u001b[0m\n\u001b[0;32m    603\u001b[0m         initial_loss \u001b[38;5;241m=\u001b[39m loss_(\n\u001b[0;32m    604\u001b[0m             y[\u001b[38;5;241m~\u001b[39msample_mask],\n\u001b[0;32m    605\u001b[0m             raw_predictions[\u001b[38;5;241m~\u001b[39msample_mask],\n\u001b[0;32m    606\u001b[0m             sample_weight[\u001b[38;5;241m~\u001b[39msample_mask],\n\u001b[0;32m    607\u001b[0m         )\n\u001b[0;32m    609\u001b[0m \u001b[38;5;66;03m# fit next stage of trees\u001b[39;00m\n\u001b[1;32m--> 610\u001b[0m raw_predictions \u001b[38;5;241m=\u001b[39m \u001b[38;5;28mself\u001b[39m\u001b[38;5;241m.\u001b[39m_fit_stage(\n\u001b[0;32m    611\u001b[0m     i,\n\u001b[0;32m    612\u001b[0m     X,\n\u001b[0;32m    613\u001b[0m     y,\n\u001b[0;32m    614\u001b[0m     raw_predictions,\n\u001b[0;32m    615\u001b[0m     sample_weight,\n\u001b[0;32m    616\u001b[0m     sample_mask,\n\u001b[0;32m    617\u001b[0m     random_state,\n\u001b[0;32m    618\u001b[0m     X_csc,\n\u001b[0;32m    619\u001b[0m     X_csr,\n\u001b[0;32m    620\u001b[0m )\n\u001b[0;32m    622\u001b[0m \u001b[38;5;66;03m# track loss\u001b[39;00m\n\u001b[0;32m    623\u001b[0m \u001b[38;5;28;01mif\u001b[39;00m do_oob:\n",
      "File \u001b[1;32mc:\\Users\\viict\\anaconda3\\envs\\AM\\Lib\\site-packages\\sklearn\\ensemble\\_gb.py:245\u001b[0m, in \u001b[0;36mBaseGradientBoosting._fit_stage\u001b[1;34m(self, i, X, y, raw_predictions, sample_weight, sample_mask, random_state, X_csc, X_csr)\u001b[0m\n\u001b[0;32m    242\u001b[0m     sample_weight \u001b[38;5;241m=\u001b[39m sample_weight \u001b[38;5;241m*\u001b[39m sample_mask\u001b[38;5;241m.\u001b[39mastype(np\u001b[38;5;241m.\u001b[39mfloat64)\n\u001b[0;32m    244\u001b[0m X \u001b[38;5;241m=\u001b[39m X_csr \u001b[38;5;28;01mif\u001b[39;00m X_csr \u001b[38;5;129;01mis\u001b[39;00m \u001b[38;5;129;01mnot\u001b[39;00m \u001b[38;5;28;01mNone\u001b[39;00m \u001b[38;5;28;01melse\u001b[39;00m X\n\u001b[1;32m--> 245\u001b[0m tree\u001b[38;5;241m.\u001b[39mfit(X, residual, sample_weight\u001b[38;5;241m=\u001b[39msample_weight, check_input\u001b[38;5;241m=\u001b[39m\u001b[38;5;28;01mFalse\u001b[39;00m)\n\u001b[0;32m    247\u001b[0m \u001b[38;5;66;03m# update tree leaves\u001b[39;00m\n\u001b[0;32m    248\u001b[0m loss\u001b[38;5;241m.\u001b[39mupdate_terminal_regions(\n\u001b[0;32m    249\u001b[0m     tree\u001b[38;5;241m.\u001b[39mtree_,\n\u001b[0;32m    250\u001b[0m     X,\n\u001b[1;32m   (...)\u001b[0m\n\u001b[0;32m    257\u001b[0m     k\u001b[38;5;241m=\u001b[39mk,\n\u001b[0;32m    258\u001b[0m )\n",
      "File \u001b[1;32mc:\\Users\\viict\\anaconda3\\envs\\AM\\Lib\\site-packages\\sklearn\\base.py:1152\u001b[0m, in \u001b[0;36m_fit_context.<locals>.decorator.<locals>.wrapper\u001b[1;34m(estimator, *args, **kwargs)\u001b[0m\n\u001b[0;32m   1145\u001b[0m     estimator\u001b[38;5;241m.\u001b[39m_validate_params()\n\u001b[0;32m   1147\u001b[0m \u001b[38;5;28;01mwith\u001b[39;00m config_context(\n\u001b[0;32m   1148\u001b[0m     skip_parameter_validation\u001b[38;5;241m=\u001b[39m(\n\u001b[0;32m   1149\u001b[0m         prefer_skip_nested_validation \u001b[38;5;129;01mor\u001b[39;00m global_skip_validation\n\u001b[0;32m   1150\u001b[0m     )\n\u001b[0;32m   1151\u001b[0m ):\n\u001b[1;32m-> 1152\u001b[0m     \u001b[38;5;28;01mreturn\u001b[39;00m fit_method(estimator, \u001b[38;5;241m*\u001b[39margs, \u001b[38;5;241m*\u001b[39m\u001b[38;5;241m*\u001b[39mkwargs)\n",
      "File \u001b[1;32mc:\\Users\\viict\\anaconda3\\envs\\AM\\Lib\\site-packages\\sklearn\\tree\\_classes.py:1320\u001b[0m, in \u001b[0;36mDecisionTreeRegressor.fit\u001b[1;34m(self, X, y, sample_weight, check_input)\u001b[0m\n\u001b[0;32m   1290\u001b[0m \u001b[38;5;129m@_fit_context\u001b[39m(prefer_skip_nested_validation\u001b[38;5;241m=\u001b[39m\u001b[38;5;28;01mTrue\u001b[39;00m)\n\u001b[0;32m   1291\u001b[0m \u001b[38;5;28;01mdef\u001b[39;00m \u001b[38;5;21mfit\u001b[39m(\u001b[38;5;28mself\u001b[39m, X, y, sample_weight\u001b[38;5;241m=\u001b[39m\u001b[38;5;28;01mNone\u001b[39;00m, check_input\u001b[38;5;241m=\u001b[39m\u001b[38;5;28;01mTrue\u001b[39;00m):\n\u001b[0;32m   1292\u001b[0m \u001b[38;5;250m    \u001b[39m\u001b[38;5;124;03m\"\"\"Build a decision tree regressor from the training set (X, y).\u001b[39;00m\n\u001b[0;32m   1293\u001b[0m \n\u001b[0;32m   1294\u001b[0m \u001b[38;5;124;03m    Parameters\u001b[39;00m\n\u001b[1;32m   (...)\u001b[0m\n\u001b[0;32m   1317\u001b[0m \u001b[38;5;124;03m        Fitted estimator.\u001b[39;00m\n\u001b[0;32m   1318\u001b[0m \u001b[38;5;124;03m    \"\"\"\u001b[39;00m\n\u001b[1;32m-> 1320\u001b[0m     \u001b[38;5;28msuper\u001b[39m()\u001b[38;5;241m.\u001b[39m_fit(\n\u001b[0;32m   1321\u001b[0m         X,\n\u001b[0;32m   1322\u001b[0m         y,\n\u001b[0;32m   1323\u001b[0m         sample_weight\u001b[38;5;241m=\u001b[39msample_weight,\n\u001b[0;32m   1324\u001b[0m         check_input\u001b[38;5;241m=\u001b[39mcheck_input,\n\u001b[0;32m   1325\u001b[0m     )\n\u001b[0;32m   1326\u001b[0m     \u001b[38;5;28;01mreturn\u001b[39;00m \u001b[38;5;28mself\u001b[39m\n",
      "File \u001b[1;32mc:\\Users\\viict\\anaconda3\\envs\\AM\\Lib\\site-packages\\sklearn\\tree\\_classes.py:443\u001b[0m, in \u001b[0;36mBaseDecisionTree._fit\u001b[1;34m(self, X, y, sample_weight, check_input, missing_values_in_feature_mask)\u001b[0m\n\u001b[0;32m    432\u001b[0m \u001b[38;5;28;01melse\u001b[39;00m:\n\u001b[0;32m    433\u001b[0m     builder \u001b[38;5;241m=\u001b[39m BestFirstTreeBuilder(\n\u001b[0;32m    434\u001b[0m         splitter,\n\u001b[0;32m    435\u001b[0m         min_samples_split,\n\u001b[1;32m   (...)\u001b[0m\n\u001b[0;32m    440\u001b[0m         \u001b[38;5;28mself\u001b[39m\u001b[38;5;241m.\u001b[39mmin_impurity_decrease,\n\u001b[0;32m    441\u001b[0m     )\n\u001b[1;32m--> 443\u001b[0m builder\u001b[38;5;241m.\u001b[39mbuild(\u001b[38;5;28mself\u001b[39m\u001b[38;5;241m.\u001b[39mtree_, X, y, sample_weight, missing_values_in_feature_mask)\n\u001b[0;32m    445\u001b[0m \u001b[38;5;28;01mif\u001b[39;00m \u001b[38;5;28mself\u001b[39m\u001b[38;5;241m.\u001b[39mn_outputs_ \u001b[38;5;241m==\u001b[39m \u001b[38;5;241m1\u001b[39m \u001b[38;5;129;01mand\u001b[39;00m is_classifier(\u001b[38;5;28mself\u001b[39m):\n\u001b[0;32m    446\u001b[0m     \u001b[38;5;28mself\u001b[39m\u001b[38;5;241m.\u001b[39mn_classes_ \u001b[38;5;241m=\u001b[39m \u001b[38;5;28mself\u001b[39m\u001b[38;5;241m.\u001b[39mn_classes_[\u001b[38;5;241m0\u001b[39m]\n",
      "\u001b[1;31mKeyboardInterrupt\u001b[0m: "
     ]
    }
   ],
   "source": [
    "import os\n",
    "import pandas as pd\n",
    "\n",
    "# Specify the directory containing CSV files\n",
    "directory = '/_MESTRADO/_Meta_Learning/MSC/CSV_Dissertação/'\n",
    "\n",
    "# Lists to store overall results\n",
    "all_model_names = []\n",
    "all_train_accuracies = []\n",
    "all_test_accuracies = []\n",
    "\n",
    "# Iterate through all CSV files in the directory\n",
    "for filename in os.listdir(directory):\n",
    "    if filename.endswith(\"_TRAIN.csv\"):\n",
    "        train_file_path = os.path.join(directory, filename)\n",
    "        test_file_path = os.path.join(directory, filename.replace(\"_TRAIN.csv\", \"_TEST.csv\"))\n",
    "\n",
    "        try:\n",
    "            # Read data from TRAIN CSV\n",
    "            train_data = pd.read_csv(train_file_path)\n",
    "            test_data = pd.read_csv(test_file_path)\n",
    "\n",
    "            X_train = train_data.drop('target', axis=1).values\n",
    "            y_train = train_data['target'].values\n",
    "\n",
    "            X_test = test_data.drop('target', axis=1).values\n",
    "            y_test = test_data['target'].values\n",
    "\n",
    "            # Lists to store results for each file\n",
    "            model_names = []\n",
    "            test_accuracies = []\n",
    "\n",
    "            for name, ClassifierClass in CLASSIFIERS:\n",
    "                try:\n",
    "                    algos = ClassifierClass()\n",
    "\n",
    "                    print(f'Meta-Classifier with Base Model {name.upper()}')\n",
    "\n",
    "\n",
    "                    # Training (update the function arguments based on your implementation)\n",
    "                    trained_base_models, meta_classifier = train_with_meta_classifier(X_train, y_train, base_option=name, meta_option=name)\n",
    "\n",
    "                    # Testing (update the function arguments based on your implementation)\n",
    "                    predictions_test_meta = predict_with_meta_classifier(X_test, trained_base_models, meta_classifier)\n",
    "\n",
    "                    test_accuracy_meta = accuracy_score(y_test, predictions_test_meta)\n",
    "\n",
    "                    # Collect results for each classifier\n",
    "                    model_names.append(name)\n",
    "                    test_accuracies.append(test_accuracy_meta)\n",
    "\n",
    "                    print(f'Test Accuracy for Meta-Classifier with Base Model {name}: {test_accuracy_meta}')\n",
    "                except Exception as e:\n",
    "                    print(f\"An error occurred while training or testing with {name}: {e}\")\n",
    "                print(\"-------------------------------\")\n",
    "\n",
    "            # Append results for the current file to overall lists\n",
    "            all_model_names.append(model_names)\n",
    "            all_test_accuracies.append(test_accuracies)\n",
    "\n",
    "        except FileNotFoundError:\n",
    "            print(f\"Ensure the CSV files {filename} and {filename.replace('_TRAIN.csv', '_TEST.csv')} are in the correct path.\")\n",
    "        except Exception as e:\n",
    "            print(f\"An error occurred while processing {filename}: {e}\")\n",
    "\n",
    "# Save the overall results to a CSV file\n",
    "overall_results = pd.DataFrame({'Model': all_model_names, 'Train Accuracy': all_train_accuracies, 'Test Accuracy': all_test_accuracies})\n",
    "overall_results.to_csv('overall_results.csv', index=False)\n"
   ]
  },
  {
   "cell_type": "code",
   "execution_count": null,
   "metadata": {},
   "outputs": [],
   "source": [
    "from aeon.registry import all_estimators\n",
    "all=all_estimators(as_dataframe=True, estimator_types='classifier')\n",
    "all"
   ]
  }
 ],
 "metadata": {
  "kernelspec": {
   "display_name": "AM_ME_2023_12_22",
   "language": "python",
   "name": "python3"
  },
  "language_info": {
   "codemirror_mode": {
    "name": "ipython",
    "version": 3
   },
   "file_extension": ".py",
   "mimetype": "text/x-python",
   "name": "python",
   "nbconvert_exporter": "python",
   "pygments_lexer": "ipython3",
   "version": "3.11.0"
  }
 },
 "nbformat": 4,
 "nbformat_minor": 2
}
