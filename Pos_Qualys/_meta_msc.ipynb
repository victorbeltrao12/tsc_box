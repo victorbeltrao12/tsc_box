{
 "cells": [
  {
   "cell_type": "code",
   "execution_count": 49,
   "metadata": {},
   "outputs": [],
   "source": [
    "import pandas as pd\n",
    "import numpy as np\n",
    "from scipy.fftpack import fft\n",
    "from scipy.stats import norm\n",
    "import pywt\n",
    "from sklearn.ensemble import RandomForestClassifier, GradientBoostingClassifier\n",
    "import xgboost as xgb\n",
    "from tqdm import tqdm\n",
    "from sklearn.utils import all_estimators\n",
    "import aeon\n",
    "\n",
    "import warnings\n",
    "import xgboost\n",
    "\n",
    "# import catboost\n",
    "import lightgbm\n",
    "\n",
    "warnings.filterwarnings(\"ignore\")\n",
    "pd.set_option(\"display.precision\", 2)\n",
    "pd.set_option(\"display.float_format\", lambda x: \"%.2f\" % x)\n",
    "\n",
    "def sax_transform(series, w, a):\n",
    "    paa = [series[i:i + w].mean() for i in range(0, len(series), w)]\n",
    "    \n",
    "    # Check if the standard deviation is zero\n",
    "    if np.std(paa) != 0:\n",
    "        paa = (paa - np.mean(paa)) / np.std(paa)\n",
    "    else:\n",
    "        # If standard deviation is zero, just subtract the mean\n",
    "        paa = paa - np.mean(paa)\n",
    "    \n",
    "    breakpoints = norm.ppf(np.linspace(0, 1, a+1)[1:-1])\n",
    "    sax_symbols = np.array(range(a))\n",
    "    sax_representation = sax_symbols[np.digitize(paa, breakpoints)]\n",
    "    \n",
    "    return sax_representation\n",
    "\n",
    "# The function has been adjusted to avoid the division by zero warning.\n",
    "\n",
    "def transform_data(X):\n",
    "    a = 4\n",
    "    w = 9\n",
    "    \n",
    "\n",
    "    X_sax = np.array([sax_transform(row, w, a) for row in X])\n",
    "    X_fft = np.abs(fft(X, axis=1))\n",
    "    \n",
    "    coeffs_cA, coeffs_cD = pywt.dwt(X, 'db1', axis=1)\n",
    "    X_dwt = np.hstack((coeffs_cA, coeffs_cD))\n",
    "    \n",
    "    X_paa = np.column_stack([X[:, i:i+2].mean(axis=1) for i in range(0, X.shape[1], 2)])\n",
    "\n",
    "    return {\n",
    "        \"TS\": X,\n",
    "        \"FFT\": X_fft,\n",
    "        \"DWT\": X_dwt,\n",
    "        \"PAA\": X_paa,\n",
    "        \"SAX\": X_sax\n",
    "    }\n",
    "\n",
    "def select_model(option, random_state):\n",
    "    all_est = all_estimators(type_filter='classifier')  # Filtra apenas os classificadores\n",
    "\n",
    "    for name, ClassifierClass in all_est:\n",
    "        if option.lower() in name.lower():\n",
    "            if option.lower() == 'svm':\n",
    "                return ClassifierClass(probability=True)\n",
    "            elif option.lower() == 'gbc':\n",
    "                return ClassifierClass(n_estimators=100, random_state=random_state)\n",
    "            elif option.lower() == 'xgb':\n",
    "                return ClassifierClass(random_state=random_state)\n",
    "            else:\n",
    "                return ClassifierClass()\n",
    "\n",
    "    # Se nenhum correspondente for encontrado, retorne o RandomForestClassifier como padrão\n",
    "    return RandomForestClassifier(n_estimators=100, random_state=random_state)\n",
    "\n",
    "def train_with_meta_classifier(X_train, y_train, base_option='random_forest', meta_option='1nn'):\n",
    "    trained_models = {}  # To store trained models for each transformation\n",
    "    \n",
    "    X_train_transformed = transform_data(X_train)  # Transform the entire training set once\n",
    "\n",
    "    # Train a model for each transformation and store it\n",
    "    for rep, X_trans in tqdm(X_train_transformed.items(), desc=\"Training Base Models\"):\n",
    "        model = select_model(base_option)\n",
    "        model.fit(X_trans, y_train)\n",
    "        trained_models[rep] = model\n",
    "        \n",
    "    # Prepare data for the meta-classifier\n",
    "    meta_features = []\n",
    "    for i in range(X_train.shape[0]):\n",
    "        instance_features = []\n",
    "        for rep, model in trained_models.items():\n",
    "            proba = model.predict_proba(X_train_transformed[rep][i].reshape(1, -1))\n",
    "            instance_features.extend(proba[0])\n",
    "        meta_features.append(instance_features)\n",
    "    \n",
    "    meta_features = np.array(meta_features)\n",
    "    \n",
    "    # Train the meta-classifier\n",
    "    meta_classifier = select_model(meta_option)\n",
    "    meta_classifier.fit(meta_features, y_train)\n",
    "    \n",
    "    return trained_models, meta_classifier\n",
    "\n",
    "def predict_with_meta_classifier(X_test, trained_base_models, trained_meta_classifier):\n",
    "    predictions = []\n",
    "    \n",
    "    for i in tqdm(range(len(X_test)), desc=\"Testing Instances\"):\n",
    "        x_instance = X_test[i].reshape(1, -1)\n",
    "        x_transformed = transform_data(x_instance)\n",
    "        \n",
    "        instance_features = []\n",
    "        for rep, model in trained_base_models.items():\n",
    "            proba = model.predict_proba(x_transformed[rep])\n",
    "            instance_features.extend(proba[0])\n",
    "        \n",
    "        meta_feature = np.array(instance_features).reshape(1, -1)\n",
    "        \n",
    "        # Use the meta-classifier to predict\n",
    "        predicted_value = trained_meta_classifier.predict(meta_feature)[0]\n",
    "        predictions.append(predicted_value)\n",
    "    \n",
    "    return predictions\n",
    "\n"
   ]
  },
  {
   "cell_type": "code",
   "execution_count": 71,
   "metadata": {},
   "outputs": [],
   "source": [
    "try:\n",
    "    train_data = pd.read_csv('/DS/CSV_Qualificação/Beef_TRAIN.csv')\n",
    "    test_data = pd.read_csv('/DS/CSV_Qualificação/Beef_TEST.csv')\n",
    "except FileNotFoundError:\n",
    "    print(\"Ensure the CSV files are in the correct path.\")\n",
    "    raise\n",
    "\n",
    "X_train = train_data.drop('target', axis=1).values\n",
    "y_train = train_data['target'].values\n",
    "\n",
    "X_test = test_data.drop('target', axis=1).values\n",
    "y_test = test_data['target'].values"
   ]
  },
  {
   "cell_type": "code",
   "execution_count": 72,
   "metadata": {},
   "outputs": [
    {
     "name": "stderr",
     "output_type": "stream",
     "text": [
      "Training Base Models: 100%|██████████| 5/5 [00:01<00:00,  4.06it/s]\n",
      "Testing Instances: 100%|██████████| 30/30 [00:01<00:00, 23.70it/s]\n"
     ]
    },
    {
     "name": "stdout",
     "output_type": "stream",
     "text": [
      "-------------------------------\n"
     ]
    },
    {
     "name": "stderr",
     "output_type": "stream",
     "text": [
      "Training Base Models: 100%|██████████| 5/5 [00:00<00:00,  8.84it/s]\n",
      "Testing Instances: 100%|██████████| 30/30 [00:00<00:00, 84.98it/s]\n"
     ]
    },
    {
     "name": "stdout",
     "output_type": "stream",
     "text": [
      "-------------------------------\n"
     ]
    },
    {
     "name": "stderr",
     "output_type": "stream",
     "text": [
      "Training Base Models: 100%|██████████| 5/5 [00:00<00:00, 17.77it/s]\n",
      "Testing Instances: 100%|██████████| 30/30 [00:00<00:00, 189.18it/s]\n"
     ]
    },
    {
     "name": "stdout",
     "output_type": "stream",
     "text": [
      "-------------------------------\n"
     ]
    },
    {
     "name": "stderr",
     "output_type": "stream",
     "text": [
      "Training Base Models: 100%|██████████| 5/5 [00:01<00:00,  3.84it/s]\n",
      "Testing Instances: 100%|██████████| 30/30 [00:00<00:00, 52.93it/s]\n"
     ]
    },
    {
     "name": "stdout",
     "output_type": "stream",
     "text": [
      "-------------------------------\n"
     ]
    },
    {
     "name": "stderr",
     "output_type": "stream",
     "text": [
      "Training Base Models:   0%|          | 0/5 [00:00<?, ?it/s]\n"
     ]
    },
    {
     "name": "stdout",
     "output_type": "stream",
     "text": [
      "An error occurred while training or testing with CategoricalNB: Negative values in data passed to CategoricalNB (input X)\n",
      "-------------------------------\n"
     ]
    },
    {
     "name": "stderr",
     "output_type": "stream",
     "text": [
      "Training Base Models: 100%|██████████| 5/5 [00:00<00:00, 17.00it/s]\n",
      "Testing Instances: 100%|██████████| 30/30 [00:00<00:00, 244.83it/s]\n"
     ]
    },
    {
     "name": "stdout",
     "output_type": "stream",
     "text": [
      "-------------------------------\n"
     ]
    },
    {
     "name": "stderr",
     "output_type": "stream",
     "text": [
      "Training Base Models: 100%|██████████| 5/5 [00:00<00:00, 20.19it/s]\n",
      "Testing Instances: 100%|██████████| 30/30 [00:00<00:00, 277.84it/s]\n"
     ]
    },
    {
     "name": "stdout",
     "output_type": "stream",
     "text": [
      "-------------------------------\n"
     ]
    },
    {
     "name": "stderr",
     "output_type": "stream",
     "text": [
      "Training Base Models: 100%|██████████| 5/5 [00:00<00:00, 20.81it/s]\n",
      "Testing Instances: 100%|██████████| 30/30 [00:00<00:00, 225.41it/s]\n"
     ]
    },
    {
     "name": "stdout",
     "output_type": "stream",
     "text": [
      "-------------------------------\n"
     ]
    },
    {
     "name": "stderr",
     "output_type": "stream",
     "text": [
      "Training Base Models: 100%|██████████| 5/5 [00:00<00:00,  7.35it/s]\n",
      "Testing Instances: 100%|██████████| 30/30 [00:01<00:00, 18.67it/s]\n"
     ]
    },
    {
     "name": "stdout",
     "output_type": "stream",
     "text": [
      "-------------------------------\n"
     ]
    },
    {
     "name": "stderr",
     "output_type": "stream",
     "text": [
      "Training Base Models: 100%|██████████| 5/5 [00:00<00:00, 20.02it/s]\n",
      "Testing Instances: 100%|██████████| 30/30 [00:00<00:00, 209.77it/s]\n"
     ]
    },
    {
     "name": "stdout",
     "output_type": "stream",
     "text": [
      "-------------------------------\n"
     ]
    },
    {
     "name": "stderr",
     "output_type": "stream",
     "text": [
      "Training Base Models: 100%|██████████| 5/5 [00:00<00:00, 19.49it/s]\n",
      "Testing Instances: 100%|██████████| 30/30 [00:12<00:00,  2.47it/s]\n"
     ]
    },
    {
     "name": "stdout",
     "output_type": "stream",
     "text": [
      "-------------------------------\n"
     ]
    },
    {
     "name": "stderr",
     "output_type": "stream",
     "text": [
      "Training Base Models: 100%|██████████| 5/5 [00:00<00:00, 15.96it/s]\n",
      "Testing Instances:   0%|          | 0/30 [00:00<?, ?it/s]\n"
     ]
    },
    {
     "name": "stdout",
     "output_type": "stream",
     "text": [
      "An error occurred while training or testing with LabelPropagation: Input X contains NaN.\n",
      "LabelPropagation does not accept missing values encoded as NaN natively. For supervised learning, you might want to consider sklearn.ensemble.HistGradientBoostingClassifier and Regressor which accept missing values encoded as NaNs natively. Alternatively, it is possible to preprocess the data, for instance by using an imputer transformer in a pipeline or drop samples with missing values. See https://scikit-learn.org/stable/modules/impute.html You can find a list of all estimators that handle NaN values at the following page: https://scikit-learn.org/stable/modules/impute.html#estimators-that-handle-nan-values\n",
      "-------------------------------\n"
     ]
    },
    {
     "name": "stderr",
     "output_type": "stream",
     "text": [
      "Training Base Models: 100%|██████████| 5/5 [00:00<00:00, 17.17it/s]\n",
      "Testing Instances:   0%|          | 0/30 [00:00<?, ?it/s]\n"
     ]
    },
    {
     "name": "stdout",
     "output_type": "stream",
     "text": [
      "An error occurred while training or testing with LabelSpreading: Input X contains NaN.\n",
      "LabelSpreading does not accept missing values encoded as NaN natively. For supervised learning, you might want to consider sklearn.ensemble.HistGradientBoostingClassifier and Regressor which accept missing values encoded as NaNs natively. Alternatively, it is possible to preprocess the data, for instance by using an imputer transformer in a pipeline or drop samples with missing values. See https://scikit-learn.org/stable/modules/impute.html You can find a list of all estimators that handle NaN values at the following page: https://scikit-learn.org/stable/modules/impute.html#estimators-that-handle-nan-values\n",
      "-------------------------------\n"
     ]
    },
    {
     "name": "stderr",
     "output_type": "stream",
     "text": [
      "Training Base Models: 100%|██████████| 5/5 [00:00<00:00, 17.59it/s]\n",
      "Testing Instances: 100%|██████████| 30/30 [00:00<00:00, 228.15it/s]\n"
     ]
    },
    {
     "name": "stdout",
     "output_type": "stream",
     "text": [
      "-------------------------------\n"
     ]
    },
    {
     "name": "stderr",
     "output_type": "stream",
     "text": [
      "Training Base Models: 100%|██████████| 5/5 [00:00<00:00, 10.24it/s]\n",
      "Testing Instances: 100%|██████████| 30/30 [00:00<00:00, 222.14it/s]\n"
     ]
    },
    {
     "name": "stdout",
     "output_type": "stream",
     "text": [
      "-------------------------------\n"
     ]
    },
    {
     "name": "stderr",
     "output_type": "stream",
     "text": [
      "Training Base Models: 100%|██████████| 5/5 [00:00<00:00, 20.72it/s]\n"
     ]
    },
    {
     "name": "stdout",
     "output_type": "stream",
     "text": [
      "An error occurred while training or testing with NearestCentroid: 'NearestCentroid' object has no attribute 'predict_proba'\n",
      "-------------------------------\n"
     ]
    },
    {
     "name": "stderr",
     "output_type": "stream",
     "text": [
      "Training Base Models: 100%|██████████| 5/5 [00:00<00:00, 19.63it/s]\n"
     ]
    },
    {
     "name": "stdout",
     "output_type": "stream",
     "text": [
      "An error occurred while training or testing with NuSVC: predict_proba is not available when probability=False\n",
      "-------------------------------\n"
     ]
    },
    {
     "name": "stderr",
     "output_type": "stream",
     "text": [
      "Training Base Models: 100%|██████████| 5/5 [00:00<00:00, 18.12it/s]\n"
     ]
    },
    {
     "name": "stdout",
     "output_type": "stream",
     "text": [
      "An error occurred while training or testing with PassiveAggressiveClassifier: 'PassiveAggressiveClassifier' object has no attribute 'predict_proba'\n",
      "-------------------------------\n"
     ]
    },
    {
     "name": "stderr",
     "output_type": "stream",
     "text": [
      "Training Base Models: 100%|██████████| 5/5 [00:00<00:00, 18.38it/s]\n"
     ]
    },
    {
     "name": "stdout",
     "output_type": "stream",
     "text": [
      "An error occurred while training or testing with Perceptron: 'Perceptron' object has no attribute 'predict_proba'\n",
      "-------------------------------\n"
     ]
    },
    {
     "name": "stderr",
     "output_type": "stream",
     "text": [
      "Training Base Models: 100%|██████████| 5/5 [00:00<00:00, 16.29it/s]\n",
      "Testing Instances: 100%|██████████| 30/30 [00:00<00:00, 211.33it/s]\n"
     ]
    },
    {
     "name": "stdout",
     "output_type": "stream",
     "text": [
      "-------------------------------\n"
     ]
    },
    {
     "name": "stderr",
     "output_type": "stream",
     "text": [
      "Training Base Models: 100%|██████████| 5/5 [00:00<00:00,  5.42it/s]\n",
      "Testing Instances: 100%|██████████| 30/30 [00:01<00:00, 19.38it/s]\n"
     ]
    },
    {
     "name": "stdout",
     "output_type": "stream",
     "text": [
      "-------------------------------\n"
     ]
    },
    {
     "name": "stderr",
     "output_type": "stream",
     "text": [
      "Training Base Models: 100%|██████████| 5/5 [00:00<00:00, 17.96it/s]\n"
     ]
    },
    {
     "name": "stdout",
     "output_type": "stream",
     "text": [
      "An error occurred while training or testing with RidgeClassifier: 'RidgeClassifier' object has no attribute 'predict_proba'\n",
      "-------------------------------\n"
     ]
    },
    {
     "name": "stderr",
     "output_type": "stream",
     "text": [
      "Training Base Models: 100%|██████████| 5/5 [00:00<00:00, 16.85it/s]\n"
     ]
    },
    {
     "name": "stdout",
     "output_type": "stream",
     "text": [
      "An error occurred while training or testing with RidgeClassifierCV: 'RidgeClassifierCV' object has no attribute 'predict_proba'\n",
      "-------------------------------\n"
     ]
    },
    {
     "name": "stderr",
     "output_type": "stream",
     "text": [
      "Training Base Models: 100%|██████████| 5/5 [00:00<00:00, 15.27it/s]\n"
     ]
    },
    {
     "name": "stdout",
     "output_type": "stream",
     "text": [
      "An error occurred while training or testing with SGDClassifier: probability estimates are not available for loss='hinge'\n",
      "-------------------------------\n"
     ]
    },
    {
     "name": "stderr",
     "output_type": "stream",
     "text": [
      "Training Base Models: 100%|██████████| 5/5 [00:00<00:00,  9.90it/s]"
     ]
    },
    {
     "name": "stdout",
     "output_type": "stream",
     "text": [
      "An error occurred while training or testing with SVC: 'LinearSVC' object has no attribute 'predict_proba'\n",
      "-------------------------------\n",
      "An error occurred while training or testing with StackingClassifier: StackingClassifier.__init__() missing 1 required positional argument: 'estimators'\n",
      "-------------------------------\n",
      "An error occurred while training or testing with VotingClassifier: VotingClassifier.__init__() missing 1 required positional argument: 'estimators'\n",
      "-------------------------------\n",
      "                               Accuracy\n",
      "Model                                  \n",
      "CalibratedClassifierCV             0.87\n",
      "GaussianNB                         0.83\n",
      "LogisticRegression                 0.83\n",
      "BaggingClassifier                  0.77\n",
      "ExtraTreesClassifier               0.73\n",
      "RandomForestClassifier             0.70\n",
      "DecisionTreeClassifier             0.63\n",
      "AdaBoostClassifier                 0.60\n",
      "KNeighborsClassifier               0.60\n",
      "ExtraTreeClassifier                0.50\n",
      "LinearDiscriminantAnalysis         0.37\n",
      "BernoulliNB                        0.20\n",
      "DummyClassifier                    0.20\n",
      "QuadraticDiscriminantAnalysis      0.20\n"
     ]
    },
    {
     "name": "stderr",
     "output_type": "stream",
     "text": [
      "\n"
     ]
    }
   ],
   "source": [
    "from sklearn.utils import all_estimators\n",
    "from sklearn.base import ClassifierMixin\n",
    "from sklearn.metrics import accuracy_score\n",
    "\n",
    "removed_classifiers = [\n",
    "    \"ClassifierChain\",\n",
    "    \"ComplementNB\",\n",
    "    \"GradientBoostingClassifier\",\n",
    "    \"GaussianProcessClassifier\",\n",
    "    \"HistGradientBoostingClassifier\",\n",
    "    \"MLPClassifier\",\n",
    "    \"LogisticRegressionCV\",\n",
    "    \"MultiOutputClassifier\",\n",
    "    \"MultinomialNB\",\n",
    "    \"OneVsOneClassifier\",\n",
    "    \"OneVsRestClassifier\",\n",
    "    \"OutputCodeClassifier\",\n",
    "    \"RadiusNeighborsClassifier\",\n",
    "    \"VotingClassifier\"\n",
    "    \"CategoricalNB\",\n",
    "    \"LinearSVC\"\n",
    "]\n",
    "\n",
    "CLASSIFIERS = [\n",
    "    est\n",
    "    for est in all_estimators()\n",
    "    if (issubclass(est[1], ClassifierMixin) and (est[0] not in removed_classifiers))\n",
    "]\n",
    "\n",
    "# Lists to store results\n",
    "model_names = []\n",
    "test_accuracies = []\n",
    "\n",
    "for name, ClassifierClass in CLASSIFIERS:\n",
    "    try:\n",
    "        algos = ClassifierClass()\n",
    "\n",
    "        #print(f'Meta-Classifier with Base Model {name.upper()}')\n",
    "\n",
    "        # Training (update the function arguments based on your implementation)\n",
    "        trained_base_models, meta_classifier = train_with_meta_classifier(X_train, y_train, base_option=name, meta_option=name)\n",
    "\n",
    "        # Testing (update the function arguments based on your implementation)\n",
    "        predictions_test_meta = predict_with_meta_classifier(X_test, trained_base_models, meta_classifier)\n",
    "\n",
    "        test_accuracy_meta = accuracy_score(y_test, predictions_test_meta)\n",
    "        \n",
    "        # Collect results\n",
    "        model_names.append(name)\n",
    "        test_accuracies.append(test_accuracy_meta)\n",
    "\n",
    "        #print(f'Test Accuracy for Meta-Classifier with Base Model {name}: {test_accuracy_meta}')\n",
    "    except Exception as e:\n",
    "        print(f\"An error occurred while training or testing with {name}: {e}\")\n",
    "    print(\"-------------------------------\")\n",
    "\n",
    "# Create a DataFrame\n",
    "scores = pd.DataFrame({\n",
    "    \"Model\": model_names,\n",
    "    \"Accuracy\": test_accuracies\n",
    "})\n",
    "\n",
    "# Sort and set the index\n",
    "scores = scores.sort_values(by=\"Accuracy\", ascending=False).set_index(\"Model\")\n",
    "\n",
    "# Display the DataFrame\n",
    "print(scores)\n"
   ]
  },
  {
   "cell_type": "code",
   "execution_count": 57,
   "metadata": {},
   "outputs": [
    {
     "data": {
      "text/html": [
       "<div>\n",
       "<style scoped>\n",
       "    .dataframe tbody tr th:only-of-type {\n",
       "        vertical-align: middle;\n",
       "    }\n",
       "\n",
       "    .dataframe tbody tr th {\n",
       "        vertical-align: top;\n",
       "    }\n",
       "\n",
       "    .dataframe thead th {\n",
       "        text-align: right;\n",
       "    }\n",
       "</style>\n",
       "<table border=\"1\" class=\"dataframe\">\n",
       "  <thead>\n",
       "    <tr style=\"text-align: right;\">\n",
       "      <th></th>\n",
       "      <th>name</th>\n",
       "      <th>estimator</th>\n",
       "    </tr>\n",
       "  </thead>\n",
       "  <tbody>\n",
       "    <tr>\n",
       "      <th>0</th>\n",
       "      <td>Arsenal</td>\n",
       "      <td>&lt;class 'aeon.classification.convolution_based....</td>\n",
       "    </tr>\n",
       "    <tr>\n",
       "      <th>1</th>\n",
       "      <td>BOSSEnsemble</td>\n",
       "      <td>&lt;class 'aeon.classification.dictionary_based._...</td>\n",
       "    </tr>\n",
       "    <tr>\n",
       "      <th>2</th>\n",
       "      <td>CNNClassifier</td>\n",
       "      <td>&lt;class 'aeon.classification.deep_learning._cnn...</td>\n",
       "    </tr>\n",
       "    <tr>\n",
       "      <th>3</th>\n",
       "      <td>CanonicalIntervalForestClassifier</td>\n",
       "      <td>&lt;class 'aeon.classification.interval_based._ci...</td>\n",
       "    </tr>\n",
       "    <tr>\n",
       "      <th>4</th>\n",
       "      <td>Catch22Classifier</td>\n",
       "      <td>&lt;class 'aeon.classification.feature_based._cat...</td>\n",
       "    </tr>\n",
       "    <tr>\n",
       "      <th>5</th>\n",
       "      <td>ChannelEnsembleClassifier</td>\n",
       "      <td>&lt;class 'aeon.classification.compose._channel_e...</td>\n",
       "    </tr>\n",
       "    <tr>\n",
       "      <th>6</th>\n",
       "      <td>ClassifierPipeline</td>\n",
       "      <td>&lt;class 'aeon.classification.compose._pipeline....</td>\n",
       "    </tr>\n",
       "    <tr>\n",
       "      <th>7</th>\n",
       "      <td>ContractableBOSS</td>\n",
       "      <td>&lt;class 'aeon.classification.dictionary_based._...</td>\n",
       "    </tr>\n",
       "    <tr>\n",
       "      <th>8</th>\n",
       "      <td>DrCIFClassifier</td>\n",
       "      <td>&lt;class 'aeon.classification.interval_based._dr...</td>\n",
       "    </tr>\n",
       "    <tr>\n",
       "      <th>9</th>\n",
       "      <td>DummyClassifier</td>\n",
       "      <td>&lt;class 'aeon.classification._dummy.DummyClassi...</td>\n",
       "    </tr>\n",
       "    <tr>\n",
       "      <th>10</th>\n",
       "      <td>ElasticEnsemble</td>\n",
       "      <td>&lt;class 'aeon.classification.distance_based._el...</td>\n",
       "    </tr>\n",
       "    <tr>\n",
       "      <th>11</th>\n",
       "      <td>EncoderClassifier</td>\n",
       "      <td>&lt;class 'aeon.classification.deep_learning._enc...</td>\n",
       "    </tr>\n",
       "    <tr>\n",
       "      <th>12</th>\n",
       "      <td>FCNClassifier</td>\n",
       "      <td>&lt;class 'aeon.classification.deep_learning._fcn...</td>\n",
       "    </tr>\n",
       "    <tr>\n",
       "      <th>13</th>\n",
       "      <td>FreshPRINCEClassifier</td>\n",
       "      <td>&lt;class 'aeon.classification.feature_based._fre...</td>\n",
       "    </tr>\n",
       "    <tr>\n",
       "      <th>14</th>\n",
       "      <td>HIVECOTEV1</td>\n",
       "      <td>&lt;class 'aeon.classification.hybrid._hivecote_v...</td>\n",
       "    </tr>\n",
       "    <tr>\n",
       "      <th>15</th>\n",
       "      <td>HIVECOTEV2</td>\n",
       "      <td>&lt;class 'aeon.classification.hybrid._hivecote_v...</td>\n",
       "    </tr>\n",
       "    <tr>\n",
       "      <th>16</th>\n",
       "      <td>InceptionTimeClassifier</td>\n",
       "      <td>&lt;class 'aeon.classification.deep_learning._inc...</td>\n",
       "    </tr>\n",
       "    <tr>\n",
       "      <th>17</th>\n",
       "      <td>IndividualBOSS</td>\n",
       "      <td>&lt;class 'aeon.classification.dictionary_based._...</td>\n",
       "    </tr>\n",
       "    <tr>\n",
       "      <th>18</th>\n",
       "      <td>IndividualInceptionClassifier</td>\n",
       "      <td>&lt;class 'aeon.classification.deep_learning._inc...</td>\n",
       "    </tr>\n",
       "    <tr>\n",
       "      <th>19</th>\n",
       "      <td>IndividualLITEClassifier</td>\n",
       "      <td>&lt;class 'aeon.classification.deep_learning._lit...</td>\n",
       "    </tr>\n",
       "    <tr>\n",
       "      <th>20</th>\n",
       "      <td>IndividualOrdinalTDE</td>\n",
       "      <td>&lt;class 'aeon.classification.ordinal_classifica...</td>\n",
       "    </tr>\n",
       "    <tr>\n",
       "      <th>21</th>\n",
       "      <td>IndividualTDE</td>\n",
       "      <td>&lt;class 'aeon.classification.dictionary_based._...</td>\n",
       "    </tr>\n",
       "    <tr>\n",
       "      <th>22</th>\n",
       "      <td>IntervalForestClassifier</td>\n",
       "      <td>&lt;class 'aeon.classification.interval_based._in...</td>\n",
       "    </tr>\n",
       "    <tr>\n",
       "      <th>23</th>\n",
       "      <td>KNeighborsTimeSeriesClassifier</td>\n",
       "      <td>&lt;class 'aeon.classification.distance_based._ti...</td>\n",
       "    </tr>\n",
       "    <tr>\n",
       "      <th>24</th>\n",
       "      <td>LITETimeClassifier</td>\n",
       "      <td>&lt;class 'aeon.classification.deep_learning._lit...</td>\n",
       "    </tr>\n",
       "    <tr>\n",
       "      <th>25</th>\n",
       "      <td>MLPClassifier</td>\n",
       "      <td>&lt;class 'aeon.classification.deep_learning._mlp...</td>\n",
       "    </tr>\n",
       "    <tr>\n",
       "      <th>26</th>\n",
       "      <td>MUSE</td>\n",
       "      <td>&lt;class 'aeon.classification.dictionary_based._...</td>\n",
       "    </tr>\n",
       "    <tr>\n",
       "      <th>27</th>\n",
       "      <td>MatrixProfileClassifier</td>\n",
       "      <td>&lt;class 'aeon.classification.feature_based._mat...</td>\n",
       "    </tr>\n",
       "    <tr>\n",
       "      <th>28</th>\n",
       "      <td>MrSQMClassifier</td>\n",
       "      <td>&lt;class 'aeon.classification.shapelet_based._mr...</td>\n",
       "    </tr>\n",
       "    <tr>\n",
       "      <th>29</th>\n",
       "      <td>OrdinalTDE</td>\n",
       "      <td>&lt;class 'aeon.classification.ordinal_classifica...</td>\n",
       "    </tr>\n",
       "    <tr>\n",
       "      <th>30</th>\n",
       "      <td>RDSTClassifier</td>\n",
       "      <td>&lt;class 'aeon.classification.shapelet_based._rd...</td>\n",
       "    </tr>\n",
       "    <tr>\n",
       "      <th>31</th>\n",
       "      <td>REDCOMETS</td>\n",
       "      <td>&lt;class 'aeon.classification.dictionary_based._...</td>\n",
       "    </tr>\n",
       "    <tr>\n",
       "      <th>32</th>\n",
       "      <td>RSTSF</td>\n",
       "      <td>&lt;class 'aeon.classification.interval_based._rs...</td>\n",
       "    </tr>\n",
       "    <tr>\n",
       "      <th>33</th>\n",
       "      <td>RandomIntervalClassifier</td>\n",
       "      <td>&lt;class 'aeon.classification.interval_based._in...</td>\n",
       "    </tr>\n",
       "    <tr>\n",
       "      <th>34</th>\n",
       "      <td>RandomIntervalSpectralEnsembleClassifier</td>\n",
       "      <td>&lt;class 'aeon.classification.interval_based._ri...</td>\n",
       "    </tr>\n",
       "    <tr>\n",
       "      <th>35</th>\n",
       "      <td>ResNetClassifier</td>\n",
       "      <td>&lt;class 'aeon.classification.deep_learning._res...</td>\n",
       "    </tr>\n",
       "    <tr>\n",
       "      <th>36</th>\n",
       "      <td>RocketClassifier</td>\n",
       "      <td>&lt;class 'aeon.classification.convolution_based....</td>\n",
       "    </tr>\n",
       "    <tr>\n",
       "      <th>37</th>\n",
       "      <td>ShapeDTW</td>\n",
       "      <td>&lt;class 'aeon.classification.distance_based._sh...</td>\n",
       "    </tr>\n",
       "    <tr>\n",
       "      <th>38</th>\n",
       "      <td>ShapeletTransformClassifier</td>\n",
       "      <td>&lt;class 'aeon.classification.shapelet_based._st...</td>\n",
       "    </tr>\n",
       "    <tr>\n",
       "      <th>39</th>\n",
       "      <td>SignatureClassifier</td>\n",
       "      <td>&lt;class 'aeon.classification.feature_based._sig...</td>\n",
       "    </tr>\n",
       "    <tr>\n",
       "      <th>40</th>\n",
       "      <td>SklearnClassifierPipeline</td>\n",
       "      <td>&lt;class 'aeon.classification.compose._pipeline....</td>\n",
       "    </tr>\n",
       "    <tr>\n",
       "      <th>41</th>\n",
       "      <td>SummaryClassifier</td>\n",
       "      <td>&lt;class 'aeon.classification.feature_based._sum...</td>\n",
       "    </tr>\n",
       "    <tr>\n",
       "      <th>42</th>\n",
       "      <td>SupervisedIntervalClassifier</td>\n",
       "      <td>&lt;class 'aeon.classification.interval_based._in...</td>\n",
       "    </tr>\n",
       "    <tr>\n",
       "      <th>43</th>\n",
       "      <td>SupervisedTimeSeriesForest</td>\n",
       "      <td>&lt;class 'aeon.classification.interval_based._st...</td>\n",
       "    </tr>\n",
       "    <tr>\n",
       "      <th>44</th>\n",
       "      <td>TSFreshClassifier</td>\n",
       "      <td>&lt;class 'aeon.classification.feature_based._tsf...</td>\n",
       "    </tr>\n",
       "    <tr>\n",
       "      <th>45</th>\n",
       "      <td>TapNetClassifier</td>\n",
       "      <td>&lt;class 'aeon.classification.deep_learning._tap...</td>\n",
       "    </tr>\n",
       "    <tr>\n",
       "      <th>46</th>\n",
       "      <td>TemporalDictionaryEnsemble</td>\n",
       "      <td>&lt;class 'aeon.classification.dictionary_based._...</td>\n",
       "    </tr>\n",
       "    <tr>\n",
       "      <th>47</th>\n",
       "      <td>TimeSeriesForestClassifier</td>\n",
       "      <td>&lt;class 'aeon.classification.interval_based._ts...</td>\n",
       "    </tr>\n",
       "    <tr>\n",
       "      <th>48</th>\n",
       "      <td>WEASEL</td>\n",
       "      <td>&lt;class 'aeon.classification.dictionary_based._...</td>\n",
       "    </tr>\n",
       "    <tr>\n",
       "      <th>49</th>\n",
       "      <td>WEASEL_V2</td>\n",
       "      <td>&lt;class 'aeon.classification.dictionary_based._...</td>\n",
       "    </tr>\n",
       "    <tr>\n",
       "      <th>50</th>\n",
       "      <td>WeightedEnsembleClassifier</td>\n",
       "      <td>&lt;class 'aeon.classification.compose._ensemble....</td>\n",
       "    </tr>\n",
       "  </tbody>\n",
       "</table>\n",
       "</div>"
      ],
      "text/plain": [
       "                                        name  \\\n",
       "0                                    Arsenal   \n",
       "1                               BOSSEnsemble   \n",
       "2                              CNNClassifier   \n",
       "3          CanonicalIntervalForestClassifier   \n",
       "4                          Catch22Classifier   \n",
       "5                  ChannelEnsembleClassifier   \n",
       "6                         ClassifierPipeline   \n",
       "7                           ContractableBOSS   \n",
       "8                            DrCIFClassifier   \n",
       "9                            DummyClassifier   \n",
       "10                           ElasticEnsemble   \n",
       "11                         EncoderClassifier   \n",
       "12                             FCNClassifier   \n",
       "13                     FreshPRINCEClassifier   \n",
       "14                                HIVECOTEV1   \n",
       "15                                HIVECOTEV2   \n",
       "16                   InceptionTimeClassifier   \n",
       "17                            IndividualBOSS   \n",
       "18             IndividualInceptionClassifier   \n",
       "19                  IndividualLITEClassifier   \n",
       "20                      IndividualOrdinalTDE   \n",
       "21                             IndividualTDE   \n",
       "22                  IntervalForestClassifier   \n",
       "23            KNeighborsTimeSeriesClassifier   \n",
       "24                        LITETimeClassifier   \n",
       "25                             MLPClassifier   \n",
       "26                                      MUSE   \n",
       "27                   MatrixProfileClassifier   \n",
       "28                           MrSQMClassifier   \n",
       "29                                OrdinalTDE   \n",
       "30                            RDSTClassifier   \n",
       "31                                 REDCOMETS   \n",
       "32                                     RSTSF   \n",
       "33                  RandomIntervalClassifier   \n",
       "34  RandomIntervalSpectralEnsembleClassifier   \n",
       "35                          ResNetClassifier   \n",
       "36                          RocketClassifier   \n",
       "37                                  ShapeDTW   \n",
       "38               ShapeletTransformClassifier   \n",
       "39                       SignatureClassifier   \n",
       "40                 SklearnClassifierPipeline   \n",
       "41                         SummaryClassifier   \n",
       "42              SupervisedIntervalClassifier   \n",
       "43                SupervisedTimeSeriesForest   \n",
       "44                         TSFreshClassifier   \n",
       "45                          TapNetClassifier   \n",
       "46                TemporalDictionaryEnsemble   \n",
       "47                TimeSeriesForestClassifier   \n",
       "48                                    WEASEL   \n",
       "49                                 WEASEL_V2   \n",
       "50                WeightedEnsembleClassifier   \n",
       "\n",
       "                                            estimator  \n",
       "0   <class 'aeon.classification.convolution_based....  \n",
       "1   <class 'aeon.classification.dictionary_based._...  \n",
       "2   <class 'aeon.classification.deep_learning._cnn...  \n",
       "3   <class 'aeon.classification.interval_based._ci...  \n",
       "4   <class 'aeon.classification.feature_based._cat...  \n",
       "5   <class 'aeon.classification.compose._channel_e...  \n",
       "6   <class 'aeon.classification.compose._pipeline....  \n",
       "7   <class 'aeon.classification.dictionary_based._...  \n",
       "8   <class 'aeon.classification.interval_based._dr...  \n",
       "9   <class 'aeon.classification._dummy.DummyClassi...  \n",
       "10  <class 'aeon.classification.distance_based._el...  \n",
       "11  <class 'aeon.classification.deep_learning._enc...  \n",
       "12  <class 'aeon.classification.deep_learning._fcn...  \n",
       "13  <class 'aeon.classification.feature_based._fre...  \n",
       "14  <class 'aeon.classification.hybrid._hivecote_v...  \n",
       "15  <class 'aeon.classification.hybrid._hivecote_v...  \n",
       "16  <class 'aeon.classification.deep_learning._inc...  \n",
       "17  <class 'aeon.classification.dictionary_based._...  \n",
       "18  <class 'aeon.classification.deep_learning._inc...  \n",
       "19  <class 'aeon.classification.deep_learning._lit...  \n",
       "20  <class 'aeon.classification.ordinal_classifica...  \n",
       "21  <class 'aeon.classification.dictionary_based._...  \n",
       "22  <class 'aeon.classification.interval_based._in...  \n",
       "23  <class 'aeon.classification.distance_based._ti...  \n",
       "24  <class 'aeon.classification.deep_learning._lit...  \n",
       "25  <class 'aeon.classification.deep_learning._mlp...  \n",
       "26  <class 'aeon.classification.dictionary_based._...  \n",
       "27  <class 'aeon.classification.feature_based._mat...  \n",
       "28  <class 'aeon.classification.shapelet_based._mr...  \n",
       "29  <class 'aeon.classification.ordinal_classifica...  \n",
       "30  <class 'aeon.classification.shapelet_based._rd...  \n",
       "31  <class 'aeon.classification.dictionary_based._...  \n",
       "32  <class 'aeon.classification.interval_based._rs...  \n",
       "33  <class 'aeon.classification.interval_based._in...  \n",
       "34  <class 'aeon.classification.interval_based._ri...  \n",
       "35  <class 'aeon.classification.deep_learning._res...  \n",
       "36  <class 'aeon.classification.convolution_based....  \n",
       "37  <class 'aeon.classification.distance_based._sh...  \n",
       "38  <class 'aeon.classification.shapelet_based._st...  \n",
       "39  <class 'aeon.classification.feature_based._sig...  \n",
       "40  <class 'aeon.classification.compose._pipeline....  \n",
       "41  <class 'aeon.classification.feature_based._sum...  \n",
       "42  <class 'aeon.classification.interval_based._in...  \n",
       "43  <class 'aeon.classification.interval_based._st...  \n",
       "44  <class 'aeon.classification.feature_based._tsf...  \n",
       "45  <class 'aeon.classification.deep_learning._tap...  \n",
       "46  <class 'aeon.classification.dictionary_based._...  \n",
       "47  <class 'aeon.classification.interval_based._ts...  \n",
       "48  <class 'aeon.classification.dictionary_based._...  \n",
       "49  <class 'aeon.classification.dictionary_based._...  \n",
       "50  <class 'aeon.classification.compose._ensemble....  "
      ]
     },
     "execution_count": 57,
     "metadata": {},
     "output_type": "execute_result"
    }
   ],
   "source": [
    "from aeon.registry import all_estimators\n",
    "all=all_estimators(as_dataframe=True, estimator_types='classifier')\n",
    "all"
   ]
  },
  {
   "cell_type": "code",
   "execution_count": null,
   "metadata": {},
   "outputs": [],
   "source": []
  }
 ],
 "metadata": {
  "kernelspec": {
   "display_name": "AM_ME_2023_12_22",
   "language": "python",
   "name": "python3"
  },
  "language_info": {
   "codemirror_mode": {
    "name": "ipython",
    "version": 3
   },
   "file_extension": ".py",
   "mimetype": "text/x-python",
   "name": "python",
   "nbconvert_exporter": "python",
   "pygments_lexer": "ipython3",
   "version": "3.11.0"
  }
 },
 "nbformat": 4,
 "nbformat_minor": 2
}
