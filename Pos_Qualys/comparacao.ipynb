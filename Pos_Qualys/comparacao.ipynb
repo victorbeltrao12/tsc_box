{
 "cells": [
  {
   "cell_type": "code",
   "execution_count": 71,
   "metadata": {},
   "outputs": [],
   "source": [
    "import pandas as pd\n",
    "import numpy as np"
   ]
  },
  {
   "cell_type": "code",
   "execution_count": 83,
   "metadata": {},
   "outputs": [
    {
     "name": "stdout",
     "output_type": "stream",
     "text": [
      "Vitórias, Derrotas e Empates:\n",
      "Vencedor\n",
      "Victor    10\n",
      "Rafael     6\n",
      "Empate     1\n",
      "Name: count, dtype: int64\n",
      "\n",
      "Resultado por Dataset:\n",
      "                  Dataset Vencedor\n",
      "0                   Adiac   Victor\n",
      "1                    Beef   Victor\n",
      "2                     Car   Victor\n",
      "3                     CBF   Victor\n",
      "4                  Coffee   Empate\n",
      "5     DiatomSizeReduction   Rafael\n",
      "6                  ECG200   Rafael\n",
      "7             ECGFiveDays   Victor\n",
      "8                FaceFour   Victor\n",
      "9                GunPoint   Rafael\n",
      "10             Lightning2   Rafael\n",
      "11             Lightning7   Victor\n",
      "12             MoteStrain   Victor\n",
      "13               OliveOil   Victor\n",
      "14  SonyAIBORobotSurface1   Rafael\n",
      "15  SonyAIBORobotSurface2   Rafael\n",
      "16       SyntheticControl   Victor\n"
     ]
    }
   ],
   "source": [
    "data = {\n",
    "    'Dataset': ['Adiac', 'Beef', 'Car', 'CBF', 'Coffee', 'DiatomSizeReduction', 'ECG200', 'ECGFiveDays', 'FaceFour', 'GunPoint', 'Lightning2', 'Lightning7', 'MoteStrain', 'OliveOil', 'SonyAIBORobotSurface1', 'SonyAIBORobotSurface2', 'SyntheticControl'],\n",
    "    'RafaelAccuracy': [0.790281, 0.833333, 0.683333, 0.874444, 1.000000, 0.924837, 0.910000, 0.994193, 0.534091, 0.980000, 0.836066, 0.273973, 0.750000, 0.633333, 0.843594, 0.895068, 0.946667],\n",
    "    'VictorAccuracy': [0.841432, 0.900000, 0.866667, 0.887778, 1.000000, 0.843137, 0.870000, 1.000000, 0.863636, 0.920000, 0.754098, 0.726027, 0.872204, 0.933333, 0.815308, 0.883526, 0.966667]\n",
    "}\n",
    "df = pd.DataFrame(data)\n",
    "\n",
    "df['Vencedor'] = df.apply(lambda row: 'Victor' if row['VictorAccuracy'] > row['RafaelAccuracy'] else ('Rafael' if row['VictorAccuracy'] < row['RafaelAccuracy'] else 'Empate'), axis=1)\n",
    "\n",
    "contagem = df['Vencedor'].value_counts()\n",
    "\n",
    "print(\"Vitórias, Derrotas e Empates:\")\n",
    "print(contagem)\n",
    "\n",
    "print(\"\\nResultado por Dataset:\")\n",
    "print(df[['Dataset','Vencedor']])"
   ]
  },
  {
   "cell_type": "code",
   "execution_count": null,
   "metadata": {},
   "outputs": [],
   "source": []
  }
 ],
 "metadata": {
  "kernelspec": {
   "display_name": "AM_ME_KedroPython311_20240208",
   "language": "python",
   "name": "python3"
  },
  "language_info": {
   "codemirror_mode": {
    "name": "ipython",
    "version": 3
   },
   "file_extension": ".py",
   "mimetype": "text/x-python",
   "name": "python",
   "nbconvert_exporter": "python",
   "pygments_lexer": "ipython3",
   "version": "3.11.8"
  }
 },
 "nbformat": 4,
 "nbformat_minor": 2
}
