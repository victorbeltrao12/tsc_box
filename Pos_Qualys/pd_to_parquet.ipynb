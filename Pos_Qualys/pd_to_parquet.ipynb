{
 "cells": [
  {
   "cell_type": "code",
   "execution_count": null,
   "metadata": {},
   "outputs": [],
   "source": [
    "import os\n",
    "import pandas as pd\n",
    "\n",
    "# Diretório de origem e destino\n",
    "diretorio_origem = 'D:\\DS\\CSV_Qualificação'\n",
    "diretorio_destino = 'D:\\DS\\Parquet_Quali'\n",
    "\n",
    "# Lista todos os arquivos no diretório de origem\n",
    "arquivos = os.listdir(diretorio_origem)\n",
    "\n",
    "# Itera sobre os arquivos\n",
    "for arquivo in arquivos:\n",
    "    # Verifica se é um arquivo CSV\n",
    "    if arquivo.endswith('.csv'):\n",
    "        try:\n",
    "            # Lê o arquivo CSV\n",
    "            dados = pd.read_csv(os.path.join(diretorio_origem, arquivo))\n",
    "            \n",
    "            # Salva os dados como parquet no diretório de destino\n",
    "            dados.to_parquet(os.path.join(diretorio_destino, arquivo.replace('.csv', '.parquet')))\n",
    "            \n",
    "            print(f\"{arquivo} convertido com sucesso para Parquet.\")\n",
    "        except FileNotFoundError:\n",
    "            print(f\"Erro ao converter {arquivo} para Parquet. Arquivo não encontrado.\")\n",
    "        except Exception as e:\n",
    "            print(f\"Ocorreu um erro ao converter {arquivo} para Parquet: {str(e)}\")\n"
   ]
  }
 ],
 "metadata": {
  "kernelspec": {
   "display_name": "AM_MSC_Kedro",
   "language": "python",
   "name": "python3"
  },
  "language_info": {
   "codemirror_mode": {
    "name": "ipython",
    "version": 3
   },
   "file_extension": ".py",
   "mimetype": "text/x-python",
   "name": "python",
   "nbconvert_exporter": "python",
   "pygments_lexer": "ipython3",
   "version": "3.11.7"
  }
 },
 "nbformat": 4,
 "nbformat_minor": 2
}
